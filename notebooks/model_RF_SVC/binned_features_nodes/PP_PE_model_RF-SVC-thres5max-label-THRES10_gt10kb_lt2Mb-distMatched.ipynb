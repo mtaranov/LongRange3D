{
 "cells": [
  {
   "cell_type": "code",
   "execution_count": 2,
   "metadata": {
    "collapsed": false
   },
   "outputs": [
    {
     "name": "stdout",
     "output_type": "stream",
     "text": [
      "The autoreload extension is already loaded. To reload it, use:\n",
      "  %reload_ext autoreload\n"
     ]
    }
   ],
   "source": [
    "%matplotlib inline\n",
    "%load_ext autoreload\n",
    "%autoreload 2\n",
    "\n",
    "import sys\n",
    "import numpy as np\n",
    "import matplotlib.pyplot as plt\n",
    "from sklearn.preprocessing import MinMaxScaler, StandardScaler\n",
    "sys.path.append('/users/mtaranov/LongRange3D/')\n",
    "from models import RandomForest, SVC\n",
    "from metrics import ClassificationResult\n",
    "from utils import get_features, get_labels, subsample_data, normalize_features, reconstruct_2d, printMatrix, binarize, zscore, get_2D, plot_prediction, change_scale "
   ]
  },
  {
   "cell_type": "code",
   "execution_count": 3,
   "metadata": {
    "collapsed": false
   },
   "outputs": [],
   "source": [
    "contacts='PP_PE'\n",
    "path='/users/mtaranov/datasets_3d/dist_matched_'+contacts+'/'\n",
    "X_train = get_features(path+'X_train_thres_10.npy')\n",
    "y_train = get_labels(path+'y_train_thres_10.npy')\n",
    "X_valid = get_features(path+'X_valid_thres_10.npy')\n",
    "y_valid = get_labels(path+'y_valid_thres_10.npy')\n",
    "X_test = get_features(path+'X_test_thres_10.npy')\n",
    "y_test = get_labels(path+'y_test_thres_10.npy')"
   ]
  },
  {
   "cell_type": "code",
   "execution_count": 4,
   "metadata": {
    "collapsed": false
   },
   "outputs": [],
   "source": [
    "X_train_normalized, X_valid_normalized, X_test_normalized = normalize_features(X_train, X_valid, X_test)"
   ]
  },
  {
   "cell_type": "code",
   "execution_count": 5,
   "metadata": {
    "collapsed": false
   },
   "outputs": [],
   "source": [
    "X_train_pairs = X_train_normalized.reshape(X_train_normalized.shape[0],X_train_normalized.shape[2]*X_train_normalized.shape[3])\n",
    "X_valid_pairs = X_valid_normalized.reshape(X_valid_normalized.shape[0],X_valid_normalized.shape[2]*X_valid_normalized.shape[3])\n",
    "X_test_pairs = X_test_normalized.reshape(X_test_normalized.shape[0],X_test_normalized.shape[2]*X_test_normalized.shape[3])"
   ]
  },
  {
   "cell_type": "markdown",
   "metadata": {},
   "source": [
    "# Random Forest"
   ]
  },
  {
   "cell_type": "code",
   "execution_count": 6,
   "metadata": {
    "collapsed": true
   },
   "outputs": [],
   "source": [
    "rf = RandomForest()"
   ]
  },
  {
   "cell_type": "markdown",
   "metadata": {},
   "source": [
    "### with atac only"
   ]
  },
  {
   "cell_type": "code",
   "execution_count": 7,
   "metadata": {
    "collapsed": false
   },
   "outputs": [
    {
     "name": "stderr",
     "output_type": "stream",
     "text": [
      "/users/mtaranov/LongRange3D/models.py:218: DataConversionWarning: A column-vector y was passed when a 1d array was expected. Please change the shape of y to (n_samples,), for example using ravel().\n",
      "  self.classifier.fit(X, y)\n"
     ]
    },
    {
     "name": "stdout",
     "output_type": "stream",
     "text": [
      "On Test:\n",
      "Balanced Accuracy: 63.41%\t auROC: 0.693\t auPRC: 0.694\t auPRG: 0.386\n",
      "Recall at 5%|10%|20% FDR: 3.3%|4.2%|13.6%\t Num Positives: 1189\t Num Negatives: 1189\t \n",
      "\n",
      "On Train:\n",
      "Balanced Accuracy: 96.28%\t auROC: 0.986\t auPRC: 0.989\t auPRG: 0.984\n",
      "Recall at 5%|10%|20% FDR: 95.6%|95.8%|97.7%\t Num Positives: 3065\t Num Negatives: 3065\t \n",
      "\n"
     ]
    }
   ],
   "source": [
    "rf.train(X_train_pairs[:,:2], y_train)\n",
    "preds_test = rf.predict(X_test_pairs[:,:2])\n",
    "preds_train = rf.predict(X_train_pairs[:,:2])\n",
    "print ('On Test:\\n{}\\n'.format(ClassificationResult(y_test, preds_test)))\n",
    "print ('On Train:\\n{}\\n'.format(ClassificationResult(y_train, preds_train)))"
   ]
  },
  {
   "cell_type": "markdown",
   "metadata": {},
   "source": [
    "### with genomic locations"
   ]
  },
  {
   "cell_type": "code",
   "execution_count": 8,
   "metadata": {
    "collapsed": false
   },
   "outputs": [
    {
     "name": "stdout",
     "output_type": "stream",
     "text": [
      "On Test:\n",
      "Balanced Accuracy: 76.53%\t auROC: 0.857\t auPRC: 0.867\t auPRG: 0.750\n",
      "Recall at 5%|10%|20% FDR: 23.0%|51.8%|73.8%\t Num Positives: 1189\t Num Negatives: 1189\t \n",
      "\n",
      "On Train:\n",
      "Balanced Accuracy: 100.00%\t auROC: 1.000\t auPRC: 1.000\t auPRG: 1.000\n",
      "Recall at 5%|10%|20% FDR: 100.0%|100.0%|100.0%\t Num Positives: 3065\t Num Negatives: 3065\t \n",
      "\n"
     ]
    }
   ],
   "source": [
    "rf.train(X_train_pairs, y_train)\n",
    "preds_test = rf.predict(X_test_pairs)\n",
    "preds_train = rf.predict(X_train_pairs)\n",
    "print ('On Test:\\n{}\\n'.format(ClassificationResult(y_test, preds_test)))\n",
    "print ('On Train:\\n{}\\n'.format(ClassificationResult(y_train, preds_train)))"
   ]
  },
  {
   "cell_type": "markdown",
   "metadata": {},
   "source": [
    "### with distance only"
   ]
  },
  {
   "cell_type": "code",
   "execution_count": 9,
   "metadata": {
    "collapsed": false
   },
   "outputs": [
    {
     "name": "stdout",
     "output_type": "stream",
     "text": [
      "On Test:\n",
      "Balanced Accuracy: 77.92%\t auROC: 0.855\t auPRC: 0.861\t auPRG: 0.755\n",
      "Recall at 5%|10%|20% FDR: 0.0%|55.3%|76.5%\t Num Positives: 1189\t Num Negatives: 1189\t \n",
      "\n",
      "On Train:\n",
      "Balanced Accuracy: 99.98%\t auROC: 1.000\t auPRC: 1.000\t auPRG: 1.000\n",
      "Recall at 5%|10%|20% FDR: 100.0%|100.0%|100.0%\t Num Positives: 3065\t Num Negatives: 3065\t \n",
      "\n"
     ]
    }
   ],
   "source": [
    "rf.train(X_train_pairs[:,20:], y_train)\n",
    "preds = rf.predict(X_test_pairs[:,20:])\n",
    "\n",
    "rf.train(X_train_pairs[:,20:], y_train)\n",
    "preds_test = rf.predict(X_test_pairs[:,20:])\n",
    "preds_train = rf.predict(X_train_pairs[:,20:])\n",
    "print ('On Test:\\n{}\\n'.format(ClassificationResult(y_test, preds_test)))\n",
    "print ('On Train:\\n{}\\n'.format(ClassificationResult(y_train, preds_train)))"
   ]
  },
  {
   "cell_type": "markdown",
   "metadata": {},
   "source": [
    "### w/o genomic locations"
   ]
  },
  {
   "cell_type": "code",
   "execution_count": 10,
   "metadata": {
    "collapsed": false
   },
   "outputs": [
    {
     "name": "stdout",
     "output_type": "stream",
     "text": [
      "On Test:\n",
      "Balanced Accuracy: 74.89%\t auROC: 0.846\t auPRC: 0.861\t auPRG: 0.728\n",
      "Recall at 5%|10%|20% FDR: 27.3%|57.0%|71.0%\t Num Positives: 1189\t Num Negatives: 1189\t \n",
      "\n",
      "On Train:\n",
      "Balanced Accuracy: 99.58%\t auROC: 0.999\t auPRC: 0.999\t auPRG: 0.999\n",
      "Recall at 5%|10%|20% FDR: 99.8%|99.8%|99.8%\t Num Positives: 3065\t Num Negatives: 3065\t \n",
      "\n"
     ]
    }
   ],
   "source": [
    "rf.train(X_train_pairs[:,:20], y_train)\n",
    "preds_test = rf.predict(X_test_pairs[:,:20])\n",
    "preds_train = rf.predict(X_train_pairs[:,:20])\n",
    "print ('On Test:\\n{}\\n'.format(ClassificationResult(y_test, preds_test)))\n",
    "print ('On Train:\\n{}\\n'.format(ClassificationResult(y_train, preds_train)))"
   ]
  },
  {
   "cell_type": "code",
   "execution_count": 11,
   "metadata": {
    "collapsed": false
   },
   "outputs": [],
   "source": [
    "pred_probs_train = rf.predict(X_train_pairs[:,:20])\n",
    "pred_probs_valid = rf.predict(X_valid_pairs[:,:20])\n",
    "pred_probs_test = rf.predict(X_test_pairs[:,:20])"
   ]
  },
  {
   "cell_type": "markdown",
   "metadata": {},
   "source": [
    "# Print prediction"
   ]
  },
  {
   "cell_type": "code",
   "execution_count": 12,
   "metadata": {
    "collapsed": false
   },
   "outputs": [],
   "source": [
    "indx_train = np.load('/users/mtaranov/NN_thres5max_datasets/dist_matched/indx_train_thres_10.npy')\n",
    "indx_valid = np.load('/users/mtaranov/NN_thres5max_datasets/dist_matched/indx_valid_thres_10.npy')\n",
    "indx_test = np.load ('/users/mtaranov/NN_thres5max_datasets/dist_matched/indx_test_thres_10.npy')"
   ]
  },
  {
   "cell_type": "code",
   "execution_count": 13,
   "metadata": {
    "collapsed": false
   },
   "outputs": [],
   "source": [
    "labels_all=(np.concatenate((y_train, y_valid, y_test), axis=0)).astype(int)\n",
    "preds_all=(np.concatenate((pred_probs_train, pred_probs_valid, pred_probs_test), axis=0))\n",
    "indx_all=np.concatenate((indx_train, indx_valid, indx_test), axis=0)\n",
    "\n",
    "labels_chr1 = labels_all[np.ravel(np.where(indx_all[:,2]==1))]\n",
    "preds_chr1 = preds_all[np.ravel(np.where(indx_all[:,2]==1))]\n",
    "indx_chr1 = indx_all[np.ravel(np.where(indx_all[:,2]==1))]"
   ]
  },
  {
   "cell_type": "code",
   "execution_count": 14,
   "metadata": {
    "collapsed": false
   },
   "outputs": [
    {
     "name": "stdout",
     "output_type": "stream",
     "text": [
      "Some tests on adjacency matrix:\n",
      "Some tests on adjacency matrix:\n"
     ]
    }
   ],
   "source": [
    "NumberOfNodes=2272\n",
    "preds_chr1_2d, labels_chr1_2d = get_2D(indx_chr1, preds_chr1, labels_chr1, NumberOfNodes)\n",
    "# preds_test_2d, labels_test_2d = get_2D(indx_test, preds_test, labels_test, NumberOfNodes)"
   ]
  },
  {
   "cell_type": "code",
   "execution_count": 15,
   "metadata": {
    "collapsed": false
   },
   "outputs": [],
   "source": [
    "# printMatrix(preds_chr1_2d, '', 1, 1, title='preds')\n",
    "# printMatrix(labels_chr1_2d, '', 1, 1, title='Captures')"
   ]
  },
  {
   "cell_type": "code",
   "execution_count": 16,
   "metadata": {
    "collapsed": false
   },
   "outputs": [
    {
     "name": "stdout",
     "output_type": "stream",
     "text": [
      "1.0\n",
      "(60, 60)\n",
      "Limit: 1.0\n"
     ]
    },
    {
     "data": {
      "image/png": "[encoded data removed]",
      "text/plain": [
       "<matplotlib.figure.Figure at 0x7f0e783a8650>"
      ]
     },
     "metadata": {},
     "output_type": "display_data"
    },
    {
     "name": "stdout",
     "output_type": "stream",
     "text": [
      "1.0\n",
      "(60, 60)\n",
      "Limit: 1.0\n"
     ]
    },
    {
     "data": {
      "image/png": "[encoded data removed]",
      "text/plain": [
       "<matplotlib.figure.Figure at 0x7f0e77fec290>"
      ]
     },
     "metadata": {},
     "output_type": "display_data"
    }
   ],
   "source": [
    "zoomIn_window = (400,460)\n",
    "NumberOfNodes=2272\n",
    "plot_prediction(change_scale(preds_chr1_2d)+change_scale(preds_chr1_2d).T, change_scale(labels_chr1_2d)+change_scale(labels_chr1_2d).T, zoomIn_window, )"
   ]
  },
  {
   "cell_type": "markdown",
   "metadata": {},
   "source": [
    "# SVC"
   ]
  },
  {
   "cell_type": "code",
   "execution_count": 17,
   "metadata": {
    "collapsed": false
   },
   "outputs": [],
   "source": [
    "svc = SVC()\n",
    "from sklearn.svm import SVC as scikit_SVC"
   ]
  },
  {
   "cell_type": "markdown",
   "metadata": {},
   "source": [
    "# linear - SVM"
   ]
  },
  {
   "cell_type": "code",
   "execution_count": 18,
   "metadata": {
    "collapsed": false
   },
   "outputs": [],
   "source": [
    "svc.classifier= scikit_SVC(probability=True, kernel='linear')"
   ]
  },
  {
   "cell_type": "markdown",
   "metadata": {},
   "source": [
    "### with atac only"
   ]
  },
  {
   "cell_type": "code",
   "execution_count": 19,
   "metadata": {
    "collapsed": false
   },
   "outputs": [
    {
     "name": "stderr",
     "output_type": "stream",
     "text": [
      "/users/mtaranov/local/anaconda2/lib/python2.7/site-packages/sklearn/utils/validation.py:526: DataConversionWarning: A column-vector y was passed when a 1d array was expected. Please change the shape of y to (n_samples, ), for example using ravel().\n",
      "  y = column_or_1d(y, warn=True)\n"
     ]
    },
    {
     "name": "stdout",
     "output_type": "stream",
     "text": [
      "On Test:\n",
      "Balanced Accuracy: 56.43%\t auROC: 0.630\t auPRC: 0.624\t auPRG: 0.255\n",
      "Recall at 5%|10%|20% FDR: 0.6%|0.6%|6.2%\t Num Positives: 1189\t Num Negatives: 1189\t \n",
      "\n",
      "On Train:\n",
      "Balanced Accuracy: 58.21%\t auROC: 0.638\t auPRC: 0.627\t auPRG: 0.270\n",
      "Recall at 5%|10%|20% FDR: 0.0%|0.0%|2.0%\t Num Positives: 3065\t Num Negatives: 3065\t \n",
      "\n"
     ]
    }
   ],
   "source": [
    "svc.train(X_train_pairs[:,:2], y_train)\n",
    "preds_test = svc.predict(X_test_pairs[:,:2])\n",
    "preds_train = svc.predict(X_train_pairs[:,:2])\n",
    "print ('On Test:\\n{}\\n'.format(ClassificationResult(y_test, preds_test)))\n",
    "print ('On Train:\\n{}\\n'.format(ClassificationResult(y_train, preds_train)))"
   ]
  },
  {
   "cell_type": "markdown",
   "metadata": {},
   "source": [
    "### with genomic locations"
   ]
  },
  {
   "cell_type": "code",
   "execution_count": 20,
   "metadata": {
    "collapsed": false,
    "scrolled": true
   },
   "outputs": [
    {
     "name": "stdout",
     "output_type": "stream",
     "text": [
      "On Test:\n",
      "Balanced Accuracy: 66.44%\t auROC: 0.739\t auPRC: 0.733\t auPRG: 0.479\n",
      "Recall at 5%|10%|20% FDR: 1.3%|1.9%|35.5%\t Num Positives: 1189\t Num Negatives: 1189\t \n",
      "\n",
      "On Train:\n",
      "Balanced Accuracy: 67.88%\t auROC: 0.754\t auPRC: 0.738\t auPRG: 0.519\n",
      "Recall at 5%|10%|20% FDR: 0.0%|6.5%|31.8%\t Num Positives: 3065\t Num Negatives: 3065\t \n",
      "\n"
     ]
    }
   ],
   "source": [
    "svc.train(X_train_pairs, y_train)\n",
    "preds_test = svc.predict(X_test_pairs)\n",
    "preds_train = svc.predict(X_train_pairs)\n",
    "print ('On Test:\\n{}\\n'.format(ClassificationResult(y_test, preds_test)))\n",
    "print ('On Train:\\n{}\\n'.format(ClassificationResult(y_train, preds_train)))"
   ]
  },
  {
   "cell_type": "markdown",
   "metadata": {},
   "source": [
    "### with distance only"
   ]
  },
  {
   "cell_type": "code",
   "execution_count": 21,
   "metadata": {
    "collapsed": false
   },
   "outputs": [
    {
     "name": "stdout",
     "output_type": "stream",
     "text": [
      "On Test:\n",
      "Balanced Accuracy: 35.53%\t auROC: 0.493\t auPRC: 0.488\t auPRG: -0.019\n",
      "Recall at 5%|10%|20% FDR: 0.1%|0.1%|0.1%\t Num Positives: 1189\t Num Negatives: 1189\t \n",
      "\n",
      "On Train:\n",
      "Balanced Accuracy: 35.15%\t auROC: 0.488\t auPRC: 0.487\t auPRG: -0.034\n",
      "Recall at 5%|10%|20% FDR: 0.0%|0.0%|0.0%\t Num Positives: 3065\t Num Negatives: 3065\t \n",
      "\n"
     ]
    }
   ],
   "source": [
    "svc.train(X_train_pairs[:,20:], y_train)\n",
    "preds_test = svc.predict(X_test_pairs[:,20:])\n",
    "preds_train = svc.predict(X_train_pairs[:,20:])\n",
    "print ('On Test:\\n{}\\n'.format(ClassificationResult(y_test, preds_test)))\n",
    "print ('On Train:\\n{}\\n'.format(ClassificationResult(y_train, preds_train)))"
   ]
  },
  {
   "cell_type": "markdown",
   "metadata": {},
   "source": [
    "### w/o genomic locations"
   ]
  },
  {
   "cell_type": "code",
   "execution_count": 22,
   "metadata": {
    "collapsed": false
   },
   "outputs": [
    {
     "name": "stdout",
     "output_type": "stream",
     "text": [
      "On Test:\n",
      "Balanced Accuracy: 66.40%\t auROC: 0.739\t auPRC: 0.733\t auPRG: 0.479\n",
      "Recall at 5%|10%|20% FDR: 1.3%|1.9%|35.3%\t Num Positives: 1189\t Num Negatives: 1189\t \n",
      "\n",
      "On Train:\n",
      "Balanced Accuracy: 67.90%\t auROC: 0.754\t auPRC: 0.738\t auPRG: 0.519\n",
      "Recall at 5%|10%|20% FDR: 0.0%|6.1%|31.3%\t Num Positives: 3065\t Num Negatives: 3065\t \n",
      "\n"
     ]
    }
   ],
   "source": [
    "svc.train(X_train_pairs[:,:20], y_train)\n",
    "preds_test = svc.predict(X_test_pairs[:,:20])\n",
    "preds_train = svc.predict(X_train_pairs[:,:20])\n",
    "print ('On Test:\\n{}\\n'.format(ClassificationResult(y_test, preds_test)))\n",
    "print ('On Train:\\n{}\\n'.format(ClassificationResult(y_train, preds_train)))"
   ]
  },
  {
   "cell_type": "markdown",
   "metadata": {},
   "source": [
    "# RBF - SVM"
   ]
  },
  {
   "cell_type": "code",
   "execution_count": 23,
   "metadata": {
    "collapsed": true
   },
   "outputs": [],
   "source": [
    "svc.classifier= scikit_SVC(probability=True, kernel='rbf')"
   ]
  },
  {
   "cell_type": "markdown",
   "metadata": {},
   "source": [
    "### with atac only"
   ]
  },
  {
   "cell_type": "code",
   "execution_count": 24,
   "metadata": {
    "collapsed": false
   },
   "outputs": [
    {
     "name": "stdout",
     "output_type": "stream",
     "text": [
      "On Test:\n",
      "Balanced Accuracy: 59.59%\t auROC: 0.631\t auPRC: 0.605\t auPRG: 0.268\n",
      "Recall at 5%|10%|20% FDR: 0.1%|0.1%|0.1%\t Num Positives: 1189\t Num Negatives: 1189\t \n",
      "\n",
      "On Train:\n",
      "Balanced Accuracy: 59.92%\t auROC: 0.640\t auPRC: 0.622\t auPRG: 0.274\n",
      "Recall at 5%|10%|20% FDR: 0.0%|0.0%|0.0%\t Num Positives: 3065\t Num Negatives: 3065\t \n",
      "\n"
     ]
    }
   ],
   "source": [
    "svc.train(X_train_pairs[:,:2], y_train)\n",
    "preds_test = svc.predict(X_test_pairs[:,:2])\n",
    "preds_train = svc.predict(X_train_pairs[:,:2])\n",
    "print ('On Test:\\n{}\\n'.format(ClassificationResult(y_test, preds_test)))\n",
    "print ('On Train:\\n{}\\n'.format(ClassificationResult(y_train, preds_train)))"
   ]
  },
  {
   "cell_type": "markdown",
   "metadata": {},
   "source": [
    "### with genomic locations"
   ]
  },
  {
   "cell_type": "code",
   "execution_count": 25,
   "metadata": {
    "collapsed": false
   },
   "outputs": [
    {
     "name": "stdout",
     "output_type": "stream",
     "text": [
      "On Test:\n",
      "Balanced Accuracy: 69.01%\t auROC: 0.774\t auPRC: 0.769\t auPRG: 0.558\n",
      "Recall at 5%|10%|20% FDR: 1.3%|9.5%|46.9%\t Num Positives: 1189\t Num Negatives: 1189\t \n",
      "\n",
      "On Train:\n",
      "Balanced Accuracy: 76.54%\t auROC: 0.841\t auPRC: 0.843\t auPRG: 0.719\n",
      "Recall at 5%|10%|20% FDR: 12.1%|49.9%|72.4%\t Num Positives: 3065\t Num Negatives: 3065\t \n",
      "\n"
     ]
    }
   ],
   "source": [
    "svc.train(X_train_pairs, y_train)\n",
    "preds_test = svc.predict(X_test_pairs)\n",
    "preds_train = svc.predict(X_train_pairs)\n",
    "print ('On Test:\\n{}\\n'.format(ClassificationResult(y_test, preds_test)))\n",
    "print ('On Train:\\n{}\\n'.format(ClassificationResult(y_train, preds_train)))"
   ]
  },
  {
   "cell_type": "markdown",
   "metadata": {},
   "source": [
    "### with distance only"
   ]
  },
  {
   "cell_type": "code",
   "execution_count": 26,
   "metadata": {
    "collapsed": false
   },
   "outputs": [
    {
     "name": "stdout",
     "output_type": "stream",
     "text": [
      "On Test:\n",
      "Balanced Accuracy: 48.91%\t auROC: 0.516\t auPRC: 0.510\t auPRG: 0.032\n",
      "Recall at 5%|10%|20% FDR: 0.3%|0.3%|0.3%\t Num Positives: 1189\t Num Negatives: 1189\t \n",
      "\n",
      "On Train:\n",
      "Balanced Accuracy: 49.46%\t auROC: 0.522\t auPRC: 0.508\t auPRG: 0.050\n",
      "Recall at 5%|10%|20% FDR: 0.1%|0.1%|0.1%\t Num Positives: 3065\t Num Negatives: 3065\t \n",
      "\n"
     ]
    }
   ],
   "source": [
    "svc.train(X_train_pairs[:,20:], y_train)\n",
    "preds_test = svc.predict(X_test_pairs[:,20:])\n",
    "preds_train = svc.predict(X_train_pairs[:,20:])\n",
    "print ('On Test:\\n{}\\n'.format(ClassificationResult(y_test, preds_test)))\n",
    "print ('On Train:\\n{}\\n'.format(ClassificationResult(y_train, preds_train)))"
   ]
  },
  {
   "cell_type": "markdown",
   "metadata": {},
   "source": [
    "### w/o genomic locations"
   ]
  },
  {
   "cell_type": "code",
   "execution_count": 27,
   "metadata": {
    "collapsed": false
   },
   "outputs": [
    {
     "name": "stdout",
     "output_type": "stream",
     "text": [
      "On Test:\n",
      "Balanced Accuracy: 69.68%\t auROC: 0.772\t auPRC: 0.768\t auPRG: 0.555\n",
      "Recall at 5%|10%|20% FDR: 2.2%|13.1%|42.1%\t Num Positives: 1189\t Num Negatives: 1189\t \n",
      "\n",
      "On Train:\n",
      "Balanced Accuracy: 75.48%\t auROC: 0.832\t auPRC: 0.835\t auPRG: 0.696\n",
      "Recall at 5%|10%|20% FDR: 8.3%|47.8%|69.2%\t Num Positives: 3065\t Num Negatives: 3065\t \n",
      "\n"
     ]
    }
   ],
   "source": [
    "svc.train(X_train_pairs[:,:20], y_train)\n",
    "preds_test = svc.predict(X_test_pairs[:,:20])\n",
    "preds_train = svc.predict(X_train_pairs[:,:20])\n",
    "print ('On Test:\\n{}\\n'.format(ClassificationResult(y_test, preds_test)))\n",
    "print ('On Train:\\n{}\\n'.format(ClassificationResult(y_train, preds_train)))"
   ]
  }
 ],
 "metadata": {
  "anaconda-cloud": {},
  "kernelspec": {
   "display_name": "Python [default]",
   "language": "python",
   "name": "python2"
  },
  "language_info": {
   "codemirror_mode": {
    "name": "ipython",
    "version": 2
   },
   "file_extension": ".py",
   "mimetype": "text/x-python",
   "name": "python",
   "nbconvert_exporter": "python",
   "pygments_lexer": "ipython2",
   "version": "2.7.12"
  }
 },
 "nbformat": 4,
 "nbformat_minor": 0
}
