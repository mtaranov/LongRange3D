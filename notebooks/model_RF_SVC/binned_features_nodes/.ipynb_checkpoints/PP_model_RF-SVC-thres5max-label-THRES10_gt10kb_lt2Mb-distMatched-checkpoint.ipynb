{
 "cells": [
  {
   "cell_type": "code",
   "execution_count": 11,
   "metadata": {
    "collapsed": false
   },
   "outputs": [
    {
     "name": "stdout",
     "output_type": "stream",
     "text": [
      "The autoreload extension is already loaded. To reload it, use:\n",
      "  %reload_ext autoreload\n"
     ]
    }
   ],
   "source": [
    "%matplotlib inline\n",
    "%load_ext autoreload\n",
    "%autoreload 2\n",
    "\n",
    "import numpy as np\n",
    "import matplotlib.pyplot as plt\n",
    "from sklearn.preprocessing import MinMaxScaler, StandardScaler\n",
    "from models import RandomForest, SVC\n",
    "from metrics import ClassificationResult\n",
    "from utils import get_features, get_labels, subsample_data, normalize_features, reconstruct_2d, printMatrix, binarize, zscore, get_2D, plot_prediction, change_scale "
   ]
  },
  {
   "cell_type": "code",
   "execution_count": 3,
   "metadata": {
    "collapsed": false
   },
   "outputs": [],
   "source": [
    "contacts='PP'\n",
    "path='/users/mtaranov/datasets_3d/dist_matched_'+contacts+'/'\n",
    "X_train = get_features('/users/mtaranov/NN_thres5max_datasets/dist_matched/X_train_thres_10.npy')\n",
    "y_train = get_labels('/users/mtaranov/NN_thres5max_datasets/dist_matched/y_train_thres_10.npy')\n",
    "X_valid = get_features('/users/mtaranov/NN_thres5max_datasets/dist_matched/X_valid_thres_10.npy')\n",
    "y_valid = get_labels('/users/mtaranov/NN_thres5max_datasets/dist_matched/y_valid_thres_10.npy')\n",
    "X_test = get_features('/users/mtaranov/NN_thres5max_datasets/dist_matched/X_test_thres_10.npy')\n",
    "y_test = get_labels('/users/mtaranov/NN_thres5max_datasets/dist_matched/y_test_thres_10.npy')"
   ]
  },
  {
   "cell_type": "code",
   "execution_count": 4,
   "metadata": {
    "collapsed": false
   },
   "outputs": [],
   "source": [
    "X_train_normalized, X_valid_normalized, X_test_normalized = normalize_features(X_train, X_valid, X_test)"
   ]
  },
  {
   "cell_type": "code",
   "execution_count": 5,
   "metadata": {
    "collapsed": false
   },
   "outputs": [],
   "source": [
    "X_train_pairs = X_train_normalized.reshape(X_train_normalized.shape[0],X_train_normalized.shape[2]*X_train_normalized.shape[3])\n",
    "X_valid_pairs = X_valid_normalized.reshape(X_valid_normalized.shape[0],X_valid_normalized.shape[2]*X_valid_normalized.shape[3])\n",
    "X_test_pairs = X_test_normalized.reshape(X_test_normalized.shape[0],X_test_normalized.shape[2]*X_test_normalized.shape[3])"
   ]
  },
  {
   "cell_type": "markdown",
   "metadata": {},
   "source": [
    "# Random Forest"
   ]
  },
  {
   "cell_type": "code",
   "execution_count": 6,
   "metadata": {
    "collapsed": true
   },
   "outputs": [],
   "source": [
    "rf = RandomForest()"
   ]
  },
  {
   "cell_type": "markdown",
   "metadata": {},
   "source": [
    "### with atac only"
   ]
  },
  {
   "cell_type": "code",
   "execution_count": 7,
   "metadata": {
    "collapsed": false
   },
   "outputs": [
    {
     "name": "stderr",
     "output_type": "stream",
     "text": [
      "models.py:177: DataConversionWarning: A column-vector y was passed when a 1d array was expected. Please change the shape of y to (n_samples,), for example using ravel().\n",
      "  self.classifier.fit(X, y)\n"
     ]
    },
    {
     "name": "stdout",
     "output_type": "stream",
     "text": [
      "On Test:\n",
      "Balanced Accuracy: 65.02%\t auROC: 0.737\t auPRC: 0.747\t auPRG: 0.446\n",
      "Recall at 5%|10%|20% FDR: 0.0%|26.3%|45.3%\t Num Positives: 243\t Num Negatives: 243\t \n",
      "\n",
      "On Train:\n",
      "Balanced Accuracy: 97.69%\t auROC: 0.994\t auPRC: 0.992\t auPRG: 0.991\n",
      "Recall at 5%|10%|20% FDR: 98.3%|99.5%|99.7%\t Num Positives: 606\t Num Negatives: 606\t \n",
      "\n"
     ]
    }
   ],
   "source": [
    "rf.train(X_train_pairs[:,:2], y_train)\n",
    "preds_test = rf.predict(X_test_pairs[:,:2])\n",
    "preds_train = rf.predict(X_train_pairs[:,:2])\n",
    "print ('On Test:\\n{}\\n'.format(ClassificationResult(y_test, preds_test)))\n",
    "print ('On Train:\\n{}\\n'.format(ClassificationResult(y_train, preds_train)))"
   ]
  },
  {
   "cell_type": "markdown",
   "metadata": {},
   "source": [
    "### with genomic locations"
   ]
  },
  {
   "cell_type": "code",
   "execution_count": 18,
   "metadata": {
    "collapsed": false
   },
   "outputs": [
    {
     "name": "stdout",
     "output_type": "stream",
     "text": [
      "On Test:\n",
      "Balanced Accuracy: 74.07%\t auROC: 0.820\t auPRC: 0.851\t auPRG: 0.678\n",
      "Recall at 5%|10%|20% FDR: 40.3%|48.6%|67.5%\t Num Positives: 243\t Num Negatives: 243\t \n",
      "\n",
      "On Train:\n",
      "Balanced Accuracy: 100.00%\t auROC: 1.000\t auPRC: 1.000\t auPRG: 1.000\n",
      "Recall at 5%|10%|20% FDR: 100.0%|100.0%|100.0%\t Num Positives: 606\t Num Negatives: 606\t \n",
      "\n"
     ]
    }
   ],
   "source": [
    "rf.train(X_train_pairs, y_train)\n",
    "preds_test = rf.predict(X_test_pairs)\n",
    "preds_train = rf.predict(X_train_pairs)\n",
    "print ('On Test:\\n{}\\n'.format(ClassificationResult(y_test, preds_test)))\n",
    "print ('On Train:\\n{}\\n'.format(ClassificationResult(y_train, preds_train)))"
   ]
  },
  {
   "cell_type": "markdown",
   "metadata": {},
   "source": [
    "### with distance only"
   ]
  },
  {
   "cell_type": "code",
   "execution_count": 19,
   "metadata": {
    "collapsed": false
   },
   "outputs": [
    {
     "name": "stdout",
     "output_type": "stream",
     "text": [
      "On Test:\n",
      "Balanced Accuracy: 69.34%\t auROC: 0.742\t auPRC: 0.765\t auPRG: 0.509\n",
      "Recall at 5%|10%|20% FDR: 0.0%|21.4%|39.5%\t Num Positives: 243\t Num Negatives: 243\t \n",
      "\n",
      "On Train:\n",
      "Balanced Accuracy: 99.92%\t auROC: 1.000\t auPRC: 1.000\t auPRG: 1.000\n",
      "Recall at 5%|10%|20% FDR: 100.0%|100.0%|100.0%\t Num Positives: 606\t Num Negatives: 606\t \n",
      "\n"
     ]
    }
   ],
   "source": [
    "rf.train(X_train_pairs[:,20:], y_train)\n",
    "preds = rf.predict(X_test_pairs[:,20:])\n",
    "\n",
    "rf.train(X_train_pairs[:,20:], y_train)\n",
    "preds_test = rf.predict(X_test_pairs[:,20:])\n",
    "preds_train = rf.predict(X_train_pairs[:,20:])\n",
    "print ('On Test:\\n{}\\n'.format(ClassificationResult(y_test, preds_test)))\n",
    "print ('On Train:\\n{}\\n'.format(ClassificationResult(y_train, preds_train)))"
   ]
  },
  {
   "cell_type": "markdown",
   "metadata": {},
   "source": [
    "### w/o genomic locations"
   ]
  },
  {
   "cell_type": "code",
   "execution_count": 20,
   "metadata": {
    "collapsed": false
   },
   "outputs": [
    {
     "name": "stdout",
     "output_type": "stream",
     "text": [
      "On Test:\n",
      "Balanced Accuracy: 75.51%\t auROC: 0.816\t auPRC: 0.840\t auPRG: 0.661\n",
      "Recall at 5%|10%|20% FDR: 29.2%|48.6%|64.2%\t Num Positives: 243\t Num Negatives: 243\t \n",
      "\n",
      "On Train:\n",
      "Balanced Accuracy: 99.75%\t auROC: 0.999\t auPRC: 0.999\t auPRG: 0.999\n",
      "Recall at 5%|10%|20% FDR: 99.8%|99.8%|99.8%\t Num Positives: 606\t Num Negatives: 606\t \n",
      "\n"
     ]
    }
   ],
   "source": [
    "rf.train(X_train_pairs[:,:20], y_train)\n",
    "preds_test = rf.predict(X_test_pairs[:,:20])\n",
    "preds_train = rf.predict(X_train_pairs[:,:20])\n",
    "print ('On Test:\\n{}\\n'.format(ClassificationResult(y_test, preds_test)))\n",
    "print ('On Train:\\n{}\\n'.format(ClassificationResult(y_train, preds_train)))"
   ]
  },
  {
   "cell_type": "code",
   "execution_count": 21,
   "metadata": {
    "collapsed": false
   },
   "outputs": [],
   "source": [
    "pred_probs_train = rf.predict(X_train_pairs[:,:20])\n",
    "pred_probs_valid = rf.predict(X_valid_pairs[:,:20])\n",
    "pred_probs_test = rf.predict(X_test_pairs[:,:20])"
   ]
  },
  {
   "cell_type": "markdown",
   "metadata": {},
   "source": [
    "# Print prediction"
   ]
  },
  {
   "cell_type": "code",
   "execution_count": 22,
   "metadata": {
    "collapsed": false
   },
   "outputs": [],
   "source": [
    "indx_train = np.load('/users/mtaranov/NN_thres5max_datasets/dist_matched/indx_train_thres_10.npy')\n",
    "indx_valid = np.load('/users/mtaranov/NN_thres5max_datasets/dist_matched/indx_valid_thres_10.npy')\n",
    "indx_test = np.load ('/users/mtaranov/NN_thres5max_datasets/dist_matched/indx_test_thres_10.npy')"
   ]
  },
  {
   "cell_type": "code",
   "execution_count": 23,
   "metadata": {
    "collapsed": false
   },
   "outputs": [],
   "source": [
    "labels_all=(np.concatenate((y_train, y_valid, y_test), axis=0)).astype(int)\n",
    "preds_all=(np.concatenate((pred_probs_train, pred_probs_valid, pred_probs_test), axis=0))\n",
    "indx_all=np.concatenate((indx_train, indx_valid, indx_test), axis=0)\n",
    "\n",
    "labels_chr1 = labels_all[np.ravel(np.where(indx_all[:,2]==1))]\n",
    "preds_chr1 = preds_all[np.ravel(np.where(indx_all[:,2]==1))]\n",
    "indx_chr1 = indx_all[np.ravel(np.where(indx_all[:,2]==1))]"
   ]
  },
  {
   "cell_type": "code",
   "execution_count": 24,
   "metadata": {
    "collapsed": false
   },
   "outputs": [
    {
     "name": "stdout",
     "output_type": "stream",
     "text": [
      "Some tests on adjacency matrix:\n",
      "Some tests on adjacency matrix:\n"
     ]
    }
   ],
   "source": [
    "NumberOfNodes=2272\n",
    "preds_chr1_2d, labels_chr1_2d = get_2D(indx_chr1, preds_chr1, labels_chr1, NumberOfNodes)\n",
    "# preds_test_2d, labels_test_2d = get_2D(indx_test, preds_test, labels_test, NumberOfNodes)"
   ]
  },
  {
   "cell_type": "code",
   "execution_count": 25,
   "metadata": {
    "collapsed": false
   },
   "outputs": [],
   "source": [
    "# printMatrix(preds_chr1_2d, '', 1, 1, title='preds')\n",
    "# printMatrix(labels_chr1_2d, '', 1, 1, title='Captures')"
   ]
  },
  {
   "cell_type": "code",
   "execution_count": 26,
   "metadata": {
    "collapsed": false
   },
   "outputs": [
    {
     "name": "stdout",
     "output_type": "stream",
     "text": [
      "1.0\n",
      "(60, 60)\n",
      "Limit: 1.0\n"
     ]
    },
    {
     "data": {
      "image/png": "[encoded data removed]",
      "text/plain": [
       "<matplotlib.figure.Figure at 0x7f82f91fa4d0>"
      ]
     },
     "metadata": {},
     "output_type": "display_data"
    },
    {
     "name": "stdout",
     "output_type": "stream",
     "text": [
      "1.0\n",
      "(60, 60)\n",
      "Limit: 1.0\n"
     ]
    },
    {
     "data": {
      "image/png": "[encoded data removed]",
      "text/plain": [
       "<matplotlib.figure.Figure at 0x7f82f8da2dd0>"
      ]
     },
     "metadata": {},
     "output_type": "display_data"
    }
   ],
   "source": [
    "zoomIn_window = (400,460)\n",
    "NumberOfNodes=2272\n",
    "plot_prediction(change_scale(preds_chr1_2d)+change_scale(preds_chr1_2d).T, change_scale(labels_chr1_2d)+change_scale(labels_chr1_2d).T, zoomIn_window, )"
   ]
  },
  {
   "cell_type": "markdown",
   "metadata": {},
   "source": [
    "# SVC"
   ]
  },
  {
   "cell_type": "code",
   "execution_count": 12,
   "metadata": {
    "collapsed": false
   },
   "outputs": [],
   "source": [
    "svc = SVC()\n",
    "from sklearn.svm import SVC as scikit_SVC"
   ]
  },
  {
   "cell_type": "markdown",
   "metadata": {},
   "source": [
    "# linear - SVM"
   ]
  },
  {
   "cell_type": "code",
   "execution_count": 13,
   "metadata": {
    "collapsed": false
   },
   "outputs": [],
   "source": [
    "svc.classifier= scikit_SVC(probability=True, kernel='linear')"
   ]
  },
  {
   "cell_type": "markdown",
   "metadata": {},
   "source": [
    "### with atac only"
   ]
  },
  {
   "cell_type": "code",
   "execution_count": 15,
   "metadata": {
    "collapsed": false
   },
   "outputs": [
    {
     "name": "stdout",
     "output_type": "stream",
     "text": [
      "On Test:\n",
      "Balanced Accuracy: 56.58%\t auROC: 0.571\t auPRC: 0.598\t auPRG: 0.095\n",
      "Recall at 5%|10%|20% FDR: 0.8%|0.8%|0.8%\t Num Positives: 243\t Num Negatives: 243\t \n",
      "\n",
      "On Train:\n",
      "Balanced Accuracy: 58.17%\t auROC: 0.591\t auPRC: 0.652\t auPRG: 0.129\n",
      "Recall at 5%|10%|20% FDR: 3.6%|9.4%|23.9%\t Num Positives: 606\t Num Negatives: 606\t \n",
      "\n"
     ]
    }
   ],
   "source": [
    "svc.train(X_train_pairs[:,:2], y_train)\n",
    "preds_test = svc.predict(X_test_pairs[:,:2])\n",
    "preds_train = svc.predict(X_train_pairs[:,:2])\n",
    "print ('On Test:\\n{}\\n'.format(ClassificationResult(y_test, preds_test)))\n",
    "print ('On Train:\\n{}\\n'.format(ClassificationResult(y_train, preds_train)))"
   ]
  },
  {
   "cell_type": "markdown",
   "metadata": {},
   "source": [
    "### with genomic locations"
   ]
  },
  {
   "cell_type": "code",
   "execution_count": 30,
   "metadata": {
    "collapsed": false,
    "scrolled": true
   },
   "outputs": [
    {
     "name": "stderr",
     "output_type": "stream",
     "text": [
      "/users/mtaranov/local/anaconda2/lib/python2.7/site-packages/sklearn/utils/validation.py:526: DataConversionWarning: A column-vector y was passed when a 1d array was expected. Please change the shape of y to (n_samples, ), for example using ravel().\n",
      "  y = column_or_1d(y, warn=True)\n"
     ]
    },
    {
     "name": "stdout",
     "output_type": "stream",
     "text": [
      "On Test:\n",
      "Balanced Accuracy: 64.61%\t auROC: 0.679\t auPRC: 0.652\t auPRG: 0.401\n",
      "Recall at 5%|10%|20% FDR: 1.6%|1.6%|1.6%\t Num Positives: 243\t Num Negatives: 243\t \n",
      "\n",
      "On Train:\n",
      "Balanced Accuracy: 69.72%\t auROC: 0.750\t auPRC: 0.730\t auPRG: 0.541\n",
      "Recall at 5%|10%|20% FDR: 1.0%|1.0%|16.2%\t Num Positives: 606\t Num Negatives: 606\t \n",
      "\n"
     ]
    }
   ],
   "source": [
    "svc.train(X_train_pairs, y_train)\n",
    "preds_test = svc.predict(X_test_pairs)\n",
    "preds_train = svc.predict(X_train_pairs)\n",
    "print ('On Test:\\n{}\\n'.format(ClassificationResult(y_test, preds_test)))\n",
    "print ('On Train:\\n{}\\n'.format(ClassificationResult(y_train, preds_train)))"
   ]
  },
  {
   "cell_type": "markdown",
   "metadata": {},
   "source": [
    "### with distance only"
   ]
  },
  {
   "cell_type": "code",
   "execution_count": 31,
   "metadata": {
    "collapsed": false
   },
   "outputs": [
    {
     "name": "stdout",
     "output_type": "stream",
     "text": [
      "On Test:\n",
      "Balanced Accuracy: 54.94%\t auROC: 0.591\t auPRC: 0.567\t auPRG: 0.163\n",
      "Recall at 5%|10%|20% FDR: 0.0%|0.0%|0.0%\t Num Positives: 243\t Num Negatives: 243\t \n",
      "\n",
      "On Train:\n",
      "Balanced Accuracy: 59.65%\t auROC: 0.633\t auPRC: 0.606\t auPRG: 0.266\n",
      "Recall at 5%|10%|20% FDR: 0.7%|0.7%|0.8%\t Num Positives: 606\t Num Negatives: 606\t \n",
      "\n"
     ]
    }
   ],
   "source": [
    "svc.train(X_train_pairs[:,20:], y_train)\n",
    "preds_test = svc.predict(X_test_pairs[:,20:])\n",
    "preds_train = svc.predict(X_train_pairs[:,20:])\n",
    "print ('On Test:\\n{}\\n'.format(ClassificationResult(y_test, preds_test)))\n",
    "print ('On Train:\\n{}\\n'.format(ClassificationResult(y_train, preds_train)))"
   ]
  },
  {
   "cell_type": "markdown",
   "metadata": {},
   "source": [
    "### w/o genomic locations"
   ]
  },
  {
   "cell_type": "code",
   "execution_count": 32,
   "metadata": {
    "collapsed": false
   },
   "outputs": [
    {
     "name": "stdout",
     "output_type": "stream",
     "text": [
      "On Test:\n",
      "Balanced Accuracy: 59.47%\t auROC: 0.651\t auPRC: 0.649\t auPRG: 0.278\n",
      "Recall at 5%|10%|20% FDR: 3.3%|3.3%|4.5%\t Num Positives: 243\t Num Negatives: 243\t \n",
      "\n",
      "On Train:\n",
      "Balanced Accuracy: 62.05%\t auROC: 0.691\t auPRC: 0.700\t auPRG: 0.352\n",
      "Recall at 5%|10%|20% FDR: 0.5%|0.5%|32.3%\t Num Positives: 606\t Num Negatives: 606\t \n",
      "\n"
     ]
    }
   ],
   "source": [
    "svc.train(X_train_pairs[:,:20], y_train)\n",
    "preds_test = svc.predict(X_test_pairs[:,:20])\n",
    "preds_train = svc.predict(X_train_pairs[:,:20])\n",
    "print ('On Test:\\n{}\\n'.format(ClassificationResult(y_test, preds_test)))\n",
    "print ('On Train:\\n{}\\n'.format(ClassificationResult(y_train, preds_train)))"
   ]
  },
  {
   "cell_type": "markdown",
   "metadata": {},
   "source": [
    "# RBF - SVM"
   ]
  },
  {
   "cell_type": "code",
   "execution_count": 16,
   "metadata": {
    "collapsed": true
   },
   "outputs": [],
   "source": [
    "svc.classifier= scikit_SVC(probability=True, kernel='rbf')"
   ]
  },
  {
   "cell_type": "markdown",
   "metadata": {},
   "source": [
    "### with atac only"
   ]
  },
  {
   "cell_type": "code",
   "execution_count": 17,
   "metadata": {
    "collapsed": false
   },
   "outputs": [
    {
     "name": "stdout",
     "output_type": "stream",
     "text": [
      "On Test:\n",
      "Balanced Accuracy: 64.40%\t auROC: 0.704\t auPRC: 0.721\t auPRG: 0.388\n",
      "Recall at 5%|10%|20% FDR: 1.2%|5.3%|47.7%\t Num Positives: 243\t Num Negatives: 243\t \n",
      "\n",
      "On Train:\n",
      "Balanced Accuracy: 66.58%\t auROC: 0.698\t auPRC: 0.718\t auPRG: 0.402\n",
      "Recall at 5%|10%|20% FDR: 1.0%|3.8%|39.8%\t Num Positives: 606\t Num Negatives: 606\t \n",
      "\n"
     ]
    }
   ],
   "source": [
    "svc.train(X_train_pairs[:,:2], y_train)\n",
    "preds_test = svc.predict(X_test_pairs[:,:2])\n",
    "preds_train = svc.predict(X_train_pairs[:,:2])\n",
    "print ('On Test:\\n{}\\n'.format(ClassificationResult(y_test, preds_test)))\n",
    "print ('On Train:\\n{}\\n'.format(ClassificationResult(y_train, preds_train)))"
   ]
  },
  {
   "cell_type": "markdown",
   "metadata": {},
   "source": [
    "### with genomic locations"
   ]
  },
  {
   "cell_type": "code",
   "execution_count": 35,
   "metadata": {
    "collapsed": false
   },
   "outputs": [
    {
     "name": "stdout",
     "output_type": "stream",
     "text": [
      "On Test:\n",
      "Balanced Accuracy: 70.99%\t auROC: 0.765\t auPRC: 0.767\t auPRG: 0.556\n",
      "Recall at 5%|10%|20% FDR: 3.3%|3.3%|55.1%\t Num Positives: 243\t Num Negatives: 243\t \n",
      "\n",
      "On Train:\n",
      "Balanced Accuracy: 81.02%\t auROC: 0.900\t auPRC: 0.905\t auPRG: 0.839\n",
      "Recall at 5%|10%|20% FDR: 54.3%|70.8%|82.3%\t Num Positives: 606\t Num Negatives: 606\t \n",
      "\n"
     ]
    }
   ],
   "source": [
    "svc.train(X_train_pairs, y_train)\n",
    "preds_test = svc.predict(X_test_pairs)\n",
    "preds_train = svc.predict(X_train_pairs)\n",
    "print ('On Test:\\n{}\\n'.format(ClassificationResult(y_test, preds_test)))\n",
    "print ('On Train:\\n{}\\n'.format(ClassificationResult(y_train, preds_train)))"
   ]
  },
  {
   "cell_type": "markdown",
   "metadata": {},
   "source": [
    "### with distance only"
   ]
  },
  {
   "cell_type": "code",
   "execution_count": 36,
   "metadata": {
    "collapsed": false
   },
   "outputs": [
    {
     "name": "stdout",
     "output_type": "stream",
     "text": [
      "On Test:\n",
      "Balanced Accuracy: 55.76%\t auROC: 0.597\t auPRC: 0.534\t auPRG: 0.211\n",
      "Recall at 5%|10%|20% FDR: 0.0%|0.0%|0.0%\t Num Positives: 243\t Num Negatives: 243\t \n",
      "\n",
      "On Train:\n",
      "Balanced Accuracy: 60.97%\t auROC: 0.640\t auPRC: 0.589\t auPRG: 0.290\n",
      "Recall at 5%|10%|20% FDR: 0.0%|0.0%|0.0%\t Num Positives: 606\t Num Negatives: 606\t \n",
      "\n"
     ]
    }
   ],
   "source": [
    "svc.train(X_train_pairs[:,20:], y_train)\n",
    "preds_test = svc.predict(X_test_pairs[:,20:])\n",
    "preds_train = svc.predict(X_train_pairs[:,20:])\n",
    "print ('On Test:\\n{}\\n'.format(ClassificationResult(y_test, preds_test)))\n",
    "print ('On Train:\\n{}\\n'.format(ClassificationResult(y_train, preds_train)))"
   ]
  },
  {
   "cell_type": "markdown",
   "metadata": {},
   "source": [
    "### w/o genomic locations"
   ]
  },
  {
   "cell_type": "code",
   "execution_count": 37,
   "metadata": {
    "collapsed": false
   },
   "outputs": [
    {
     "name": "stdout",
     "output_type": "stream",
     "text": [
      "On Test:\n",
      "Balanced Accuracy: 69.34%\t auROC: 0.770\t auPRC: 0.765\t auPRG: 0.561\n",
      "Recall at 5%|10%|20% FDR: 3.7%|4.9%|57.2%\t Num Positives: 243\t Num Negatives: 243\t \n",
      "\n",
      "On Train:\n",
      "Balanced Accuracy: 78.30%\t auROC: 0.875\t auPRC: 0.879\t auPRG: 0.788\n",
      "Recall at 5%|10%|20% FDR: 22.8%|64.0%|76.7%\t Num Positives: 606\t Num Negatives: 606\t \n",
      "\n"
     ]
    }
   ],
   "source": [
    "svc.train(X_train_pairs[:,:20], y_train)\n",
    "preds_test = svc.predict(X_test_pairs[:,:20])\n",
    "preds_train = svc.predict(X_train_pairs[:,:20])\n",
    "print ('On Test:\\n{}\\n'.format(ClassificationResult(y_test, preds_test)))\n",
    "print ('On Train:\\n{}\\n'.format(ClassificationResult(y_train, preds_train)))"
   ]
  }
 ],
 "metadata": {
  "anaconda-cloud": {},
  "kernelspec": {
   "display_name": "Python [default]",
   "language": "python",
   "name": "python2"
  },
  "language_info": {
   "codemirror_mode": {
    "name": "ipython",
    "version": 2
   },
   "file_extension": ".py",
   "mimetype": "text/x-python",
   "name": "python",
   "nbconvert_exporter": "python",
   "pygments_lexer": "ipython2",
   "version": "2.7.12"
  }
 },
 "nbformat": 4,
 "nbformat_minor": 0
}
