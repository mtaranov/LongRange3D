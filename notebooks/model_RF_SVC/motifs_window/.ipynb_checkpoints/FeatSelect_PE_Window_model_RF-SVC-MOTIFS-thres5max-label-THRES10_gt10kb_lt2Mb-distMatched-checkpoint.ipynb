{
 "cells": [
  {
   "cell_type": "code",
   "execution_count": 6,
   "metadata": {
    "collapsed": false
   },
   "outputs": [
    {
     "name": "stdout",
     "output_type": "stream",
     "text": [
      "The autoreload extension is already loaded. To reload it, use:\n",
      "  %reload_ext autoreload\n"
     ]
    }
   ],
   "source": [
    "%matplotlib inline\n",
    "%load_ext autoreload\n",
    "%autoreload 2\n",
    "\n",
    "import sys\n",
    "import numpy as np\n",
    "import copy\n",
    "import matplotlib.pyplot as plt\n",
    "from sklearn.preprocessing import MinMaxScaler, StandardScaler\n",
    "sys.path.append('/users/mtaranov/LongRange3D/')\n",
    "from models import RandomForest, SVC\n",
    "from metrics import ClassificationResult\n",
    "from utils import concat_motifs, get_features, get_labels, subsample_data, normalize_features, reconstruct_2d, printMatrix, binarize, zscore, get_2D, plot_prediction, change_scale "
   ]
  },
  {
   "cell_type": "code",
   "execution_count": 3,
   "metadata": {
    "collapsed": false
   },
   "outputs": [],
   "source": [
    "contacts='PE'\n",
    "path='/users/mtaranov/datasets_3d/dist_matched_'+contacts+'/'\n",
    "\n",
    "X_train = np.load(path+'motifs/train_'+contacts+'_out_btw_nodes_3_0.0001/mat.npy')\n",
    "X_test = np.load(path+'motifs/test_'+contacts+'_out_btw_nodes_3_0.0001/mat.npy')\n",
    "X_valid = np.load(path+'motifs/valid_'+contacts+'_out_btw_nodes_3_0.0001/mat.npy')\n",
    "\n",
    "y_train = get_labels(path+'y_train_thres_10.npy')\n",
    "y_test = get_labels(path+'y_test_thres_10.npy')\n",
    "y_valid = get_labels(path+'y_valid_thres_10.npy')\n"
   ]
  },
  {
   "cell_type": "code",
   "execution_count": 7,
   "metadata": {
    "collapsed": false
   },
   "outputs": [],
   "source": [
    "def normalize_features(X_train, X_valid, X_test, normalizer=StandardScaler):\n",
    "    # fit normalizer\n",
    "    normalizer = normalizer().fit(X_train[:,:])\n",
    "    # transform features\n",
    "    X_train_new=copy.copy(X_train)\n",
    "    X_valid_new=copy.copy(X_valid)\n",
    "    X_test_new=copy.copy(X_test)\n",
    "    X_train_new = normalizer.transform(X_train)\n",
    "    X_valid_new = normalizer.transform(X_valid)\n",
    "    X_test_new = normalizer.transform(X_test)\n",
    "\n",
    "    return (X_train_new, X_valid_new, X_test_new)"
   ]
  },
  {
   "cell_type": "code",
   "execution_count": 8,
   "metadata": {
    "collapsed": false
   },
   "outputs": [],
   "source": [
    "X_train_normalized, X_valid_normalized, X_test_normalized = normalize_features(X_train, X_valid, X_test)"
   ]
  },
  {
   "cell_type": "markdown",
   "metadata": {},
   "source": [
    "# Random Forest"
   ]
  },
  {
   "cell_type": "code",
   "execution_count": 9,
   "metadata": {
    "collapsed": true
   },
   "outputs": [],
   "source": [
    "rf = RandomForest()"
   ]
  },
  {
   "cell_type": "markdown",
   "metadata": {},
   "source": [
    "### with motifs only"
   ]
  },
  {
   "cell_type": "code",
   "execution_count": 10,
   "metadata": {
    "collapsed": false
   },
   "outputs": [
    {
     "name": "stderr",
     "output_type": "stream",
     "text": [
      "/users/mtaranov/LongRange3D/models.py:231: DataConversionWarning: A column-vector y was passed when a 1d array was expected. Please change the shape of y to (n_samples,), for example using ravel().\n",
      "  self.classifier.fit(X, y)\n"
     ]
    },
    {
     "name": "stdout",
     "output_type": "stream",
     "text": [
      "On Test:\n",
      "Balanced Accuracy: 84.55%\t auROC: 0.931\t auPRC: 0.944\t auPRG: 0.905\n",
      "Recall at 5%|10%|20% FDR: 72.6%|78.4%|86.4%\t Num Positives: 906\t Num Negatives: 906\t \n",
      "\n",
      "On Train:\n",
      "Balanced Accuracy: 100.00%\t auROC: 1.000\t auPRC: 1.000\t auPRG: 1.000\n",
      "Recall at 5%|10%|20% FDR: 100.0%|100.0%|100.0%\t Num Positives: 2412\t Num Negatives: 2412\t \n",
      "\n"
     ]
    }
   ],
   "source": [
    "rf.train(X_train_normalized, y_train)\n",
    "preds_test = rf.predict(X_test_normalized)\n",
    "preds_train = rf.predict(X_train_normalized)\n",
    "print ('On Test:\\n{}\\n'.format(ClassificationResult(y_test, preds_test)))\n",
    "print ('On Train:\\n{}\\n'.format(ClassificationResult(y_train, preds_train)))"
   ]
  }
 ],
 "metadata": {
  "anaconda-cloud": {},
  "kernelspec": {
   "display_name": "Python [default]",
   "language": "python",
   "name": "python2"
  },
  "language_info": {
   "codemirror_mode": {
    "name": "ipython",
    "version": 2
   },
   "file_extension": ".py",
   "mimetype": "text/x-python",
   "name": "python",
   "nbconvert_exporter": "python",
   "pygments_lexer": "ipython2",
   "version": "2.7.12"
  }
 },
 "nbformat": 4,
 "nbformat_minor": 0
}
