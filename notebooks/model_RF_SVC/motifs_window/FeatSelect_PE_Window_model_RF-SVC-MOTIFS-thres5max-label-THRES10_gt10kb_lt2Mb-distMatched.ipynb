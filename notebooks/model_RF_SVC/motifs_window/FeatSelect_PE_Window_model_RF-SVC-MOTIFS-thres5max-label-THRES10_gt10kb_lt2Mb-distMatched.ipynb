{
 "cells": [
  {
   "cell_type": "code",
   "execution_count": 1,
   "metadata": {
    "collapsed": false
   },
   "outputs": [
    {
     "name": "stderr",
     "output_type": "stream",
     "text": [
      "Using Theano backend.\n",
      "WARNING (theano.sandbox.cuda): The cuda backend is deprecated and will be removed in the next release (v0.10).  Please switch to the gpuarray backend. You can get more information about how to switch at this URL:\n",
      " https://github.com/Theano/Theano/wiki/Converting-to-the-new-gpu-back-end%28gpuarray%29\n",
      "\n",
      "Using gpu device 1: GeForce GTX TITAN X (CNMeM is enabled with initial size: 2500 MB, cuDNN 5005)\n"
     ]
    }
   ],
   "source": [
    "%matplotlib inline\n",
    "%load_ext autoreload\n",
    "%autoreload 2\n",
    "\n",
    "import sys\n",
    "import numpy as np\n",
    "import copy\n",
    "import matplotlib.pyplot as plt\n",
    "from sklearn.preprocessing import MinMaxScaler, StandardScaler\n",
    "sys.path.append('/users/mtaranov/LongRange3D/')\n",
    "from models_binnedFeat import RandomForest, SVC\n",
    "from metrics import ClassificationResult\n",
    "from utils import concat_motifs, get_features, get_labels, subsample_data, normalize_features, reconstruct_2d, printMatrix, binarize, zscore, get_2D, plot_prediction, change_scale "
   ]
  },
  {
   "cell_type": "code",
   "execution_count": 2,
   "metadata": {
    "collapsed": false
   },
   "outputs": [],
   "source": [
    "contacts='PE'\n",
    "path='/users/mtaranov/datasets_3d_OLD/dist_matched_'+contacts+'/'\n",
    "\n",
    "X_train = np.load(path+'motifs/train_'+contacts+'_out_btw_nodes_3_0.0001/mat.npy')\n",
    "X_test = np.load(path+'motifs/test_'+contacts+'_out_btw_nodes_3_0.0001/mat.npy')\n",
    "X_valid = np.load(path+'motifs/valid_'+contacts+'_out_btw_nodes_3_0.0001/mat.npy')\n",
    "\n",
    "y_train = get_labels(path+'y_train_thres_10.npy')\n",
    "y_test = get_labels(path+'y_test_thres_10.npy')\n",
    "y_valid = get_labels(path+'y_valid_thres_10.npy')\n"
   ]
  },
  {
   "cell_type": "code",
   "execution_count": 3,
   "metadata": {
    "collapsed": false
   },
   "outputs": [],
   "source": [
    "def normalize_features(X_train, X_valid, X_test, normalizer=StandardScaler):\n",
    "    # fit normalizer\n",
    "    normalizer = normalizer().fit(X_train[:,:])\n",
    "    # transform features\n",
    "    X_train_new=copy.copy(X_train)\n",
    "    X_valid_new=copy.copy(X_valid)\n",
    "    X_test_new=copy.copy(X_test)\n",
    "    X_train_new = normalizer.transform(X_train)\n",
    "    X_valid_new = normalizer.transform(X_valid)\n",
    "    X_test_new = normalizer.transform(X_test)\n",
    "\n",
    "    return (X_train_new, X_valid_new, X_test_new)"
   ]
  },
  {
   "cell_type": "code",
   "execution_count": 4,
   "metadata": {
    "collapsed": false
   },
   "outputs": [],
   "source": [
    "X_train_normalized, X_valid_normalized, X_test_normalized = normalize_features(X_train, X_valid, X_test)"
   ]
  },
  {
   "cell_type": "markdown",
   "metadata": {},
   "source": [
    "# Random Forest"
   ]
  },
  {
   "cell_type": "code",
   "execution_count": 5,
   "metadata": {
    "collapsed": true
   },
   "outputs": [],
   "source": [
    "rf = RandomForest()"
   ]
  },
  {
   "cell_type": "markdown",
   "metadata": {},
   "source": [
    "### with motifs only"
   ]
  },
  {
   "cell_type": "code",
   "execution_count": 6,
   "metadata": {
    "collapsed": false
   },
   "outputs": [
    {
     "name": "stderr",
     "output_type": "stream",
     "text": [
      "/users/mtaranov/LongRange3D/models_binnedFeat.py:231: DataConversionWarning: A column-vector y was passed when a 1d array was expected. Please change the shape of y to (n_samples,), for example using ravel().\n",
      "  self.classifier.fit(X, y)\n"
     ]
    },
    {
     "name": "stdout",
     "output_type": "stream",
     "text": [
      "On Test:\n",
      "Balanced Accuracy: 85.10%\t auROC: 0.930\t auPRC: 0.944\t auPRG: 0.904\n",
      "Recall at 5%|10%|20% FDR: 73.2%|80.0%|88.9%\t Num Positives: 906\t Num Negatives: 906\t \n",
      "\n",
      "On Train:\n",
      "Balanced Accuracy: 100.00%\t auROC: 1.000\t auPRC: 1.000\t auPRG: 1.000\n",
      "Recall at 5%|10%|20% FDR: 100.0%|100.0%|100.0%\t Num Positives: 2412\t Num Negatives: 2412\t \n",
      "\n"
     ]
    }
   ],
   "source": [
    "rf.train(X_train_normalized, y_train)\n",
    "preds_test = rf.predict(X_test_normalized)\n",
    "preds_train = rf.predict(X_train_normalized)\n",
    "print ('On Test:\\n{}\\n'.format(ClassificationResult(y_test, preds_test)))\n",
    "print ('On Train:\\n{}\\n'.format(ClassificationResult(y_train, preds_train)))"
   ]
  },
  {
   "cell_type": "code",
   "execution_count": 32,
   "metadata": {
    "collapsed": true
   },
   "outputs": [],
   "source": [
    "scores=rf.ImportanceSelect()\n",
    "#scores=scores.reshape(scores.shape[0],1)"
   ]
  },
  {
   "cell_type": "code",
   "execution_count": 33,
   "metadata": {
    "collapsed": false
   },
   "outputs": [
    {
     "data": {
      "text/plain": [
       "array([ 0.00076454,  0.00076425,  0.00059805, ...,  0.00045475,\n",
       "        0.00049064,  0.00027912])"
      ]
     },
     "execution_count": 33,
     "metadata": {},
     "output_type": "execute_result"
    }
   ],
   "source": [
    "scores"
   ]
  },
  {
   "cell_type": "code",
   "execution_count": 35,
   "metadata": {
    "collapsed": true
   },
   "outputs": [],
   "source": [
    "motif_names=np.loadtxt('/users/mtaranov/datasets_3d/dist_matched_PE/motifs/train_PE_out_btw_nodes_3_0.0001/motif_names.txt', dtype=str, delimiter='/')[:,6:].reshape(640,)\n",
    "top_3_hits_names=[]\n",
    "for i in motif_names:\n",
    "    for j in range(3):\n",
    "        top_3_hits_names.append(i)\n",
    "top_3_hits_names = np.array(top_3_hits_names)"
   ]
  },
  {
   "cell_type": "code",
   "execution_count": 42,
   "metadata": {
    "collapsed": true
   },
   "outputs": [],
   "source": [
    "RF_Importance_Window_Motifs=top_3_hits_names[scores.argsort()[::-1]]"
   ]
  },
  {
   "cell_type": "code",
   "execution_count": 43,
   "metadata": {
    "collapsed": false
   },
   "outputs": [
    {
     "name": "stdout",
     "output_type": "stream",
     "text": [
      "(array([0, 3, 5]),)\n",
      "(array([1, 2, 4]),)\n"
     ]
    }
   ],
   "source": [
    "print np.where(RF_Importance_Window_Motifs=='CTCF_HUMAN')\n",
    "print np.where(RF_Importance_Window_Motifs=='CTCFL_HUMAN')"
   ]
  },
  {
   "cell_type": "code",
   "execution_count": 46,
   "metadata": {
    "collapsed": false
   },
   "outputs": [
    {
     "data": {
      "text/plain": [
       "array(['CTCF_HUMAN', 'CTCFL_HUMAN', 'CTCFL_HUMAN', 'CTCF_HUMAN',\n",
       "       'CTCFL_HUMAN', 'CTCF_HUMAN', 'NRF1_HUMAN', 'NRF1_HUMAN',\n",
       "       'P73_HUMAN', 'NRF1_HUMAN', 'SP2_HUMAN', 'ZFX_HUMAN', 'FOXL1_HUMAN',\n",
       "       'THAP1_HUMAN', 'NDF1_HUMAN', 'SP2_HUMAN', 'KLF15_HUMAN',\n",
       "       'ALX1_HUMAN', 'P73_HUMAN', 'ZKSC1_HUMAN', 'ARNT2_HUMAN',\n",
       "       'HES1_HUMAN', 'KLF14_HUMAN', 'EGR1_HUMAN', 'ZKSC1_HUMAN',\n",
       "       'ZN350_HUMAN', 'RXRG_HUMAN', 'HME1_HUMAN', 'FOXO6_HUMAN',\n",
       "       'ASCL2_HUMAN', 'EGR1_HUMAN', 'THAP1_HUMAN', 'ZFX_HUMAN',\n",
       "       'HNF4G_HUMAN', 'NFIA_HUMAN', 'NDF1_HUMAN', 'WT1_HUMAN',\n",
       "       'TBX3_HUMAN', 'EGR2_HUMAN', 'ZKSC1_HUMAN', 'TBX1_HUMAN',\n",
       "       'ZN639_HUMAN', 'LHX9_HUMAN', 'THAP1_HUMAN', 'SP2_HUMAN',\n",
       "       'MYBA_HUMAN', 'AP2A_HUMAN', 'TLX1_HUMAN', 'HEN1_HUMAN', 'SP4_HUMAN',\n",
       "       'ETV7_HUMAN', 'SP4_HUMAN', 'E2F3_HUMAN', 'NR1I2_HUMAN',\n",
       "       'NR2C2_HUMAN', 'ARNT2_HUMAN', 'IRX2_HUMAN', 'TF7L2_HUMAN',\n",
       "       'SP4_HUMAN', 'PAX5_HUMAN', 'HES1_HUMAN', 'SRF_HUMAN', 'KLF15_HUMAN',\n",
       "       'SP1_HUMAN', 'KLF13_HUMAN', 'HESX1_HUMAN', 'NR2C1_HUMAN',\n",
       "       'FOXO3_HUMAN', 'VAX2_HUMAN', 'PO4F3_HUMAN', 'USF2_HUMAN',\n",
       "       'TEAD3_HUMAN', 'ZN639_HUMAN', 'AP2B_HUMAN', 'ELF2_HUMAN',\n",
       "       'PPARG_HUMAN', 'MEOX1_HUMAN', 'KLF14_HUMAN', 'IRX2_HUMAN',\n",
       "       'BACH1_HUMAN', 'IRX2_HUMAN', 'SCRT1_HUMAN', 'SOX18_HUMAN',\n",
       "       'EGR1_HUMAN', 'RARA_HUMAN', 'HNF4G_HUMAN', 'PKNX1_HUMAN',\n",
       "       'NR1D1_HUMAN', 'GLIS2_HUMAN', 'BSH_HUMAN', 'PLAG1_HUMAN',\n",
       "       'ELF3_HUMAN', 'NFIA_HUMAN', 'TFDP1_HUMAN', 'HNF6_HUMAN',\n",
       "       'FOXB1_HUMAN', 'RORG_HUMAN', 'COT1_HUMAN', 'PROX1_HUMAN',\n",
       "       'CEBPB_HUMAN'], \n",
       "      dtype='|S11')"
      ]
     },
     "execution_count": 46,
     "metadata": {},
     "output_type": "execute_result"
    }
   ],
   "source": [
    "RF_Importance_Window_Motifs[:100]"
   ]
  },
  {
   "cell_type": "code",
   "execution_count": null,
   "metadata": {
    "collapsed": true
   },
   "outputs": [],
   "source": []
  }
 ],
 "metadata": {
  "anaconda-cloud": {},
  "kernelspec": {
   "display_name": "Python [default]",
   "language": "python",
   "name": "python2"
  },
  "language_info": {
   "codemirror_mode": {
    "name": "ipython",
    "version": 2
   },
   "file_extension": ".py",
   "mimetype": "text/x-python",
   "name": "python",
   "nbconvert_exporter": "python",
   "pygments_lexer": "ipython2",
   "version": "2.7.12"
  }
 },
 "nbformat": 4,
 "nbformat_minor": 0
}
