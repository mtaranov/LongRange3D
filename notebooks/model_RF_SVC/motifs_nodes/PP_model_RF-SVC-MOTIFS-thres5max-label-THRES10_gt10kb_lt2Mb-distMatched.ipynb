{
 "cells": [
  {
   "cell_type": "code",
   "execution_count": 4,
   "metadata": {
    "collapsed": false
   },
   "outputs": [
    {
     "name": "stdout",
     "output_type": "stream",
     "text": [
      "The autoreload extension is already loaded. To reload it, use:\n",
      "  %reload_ext autoreload\n"
     ]
    }
   ],
   "source": [
    "%matplotlib inline\n",
    "%load_ext autoreload\n",
    "%autoreload 2\n",
    "\n",
    "import sys\n",
    "import numpy as np\n",
    "import matplotlib.pyplot as plt\n",
    "from sklearn.preprocessing import MinMaxScaler, StandardScaler\n",
    "sys.path.append('/users/mtaranov/LongRange3D/')\n",
    "from models import RandomForest, SVC\n",
    "from metrics import ClassificationResult\n",
    "from utils import concat_motifs, get_features, get_labels, subsample_data, normalize_features, reconstruct_2d, printMatrix, binarize, zscore, get_2D, plot_prediction, change_scale "
   ]
  },
  {
   "cell_type": "code",
   "execution_count": 5,
   "metadata": {
    "collapsed": false
   },
   "outputs": [],
   "source": [
    "contacts='PP'\n",
    "path='/users/mtaranov/datasets_3d/dist_matched_'+contacts+'/'\n",
    "\n",
    "X_train_node1 = path+'motifs/train_'+contacts+'_out_node1_3_0.0001/mat.npy'\n",
    "X_train_node2 = path+'motifs/train_'+contacts+'_out_node2_3_0.0001/mat.npy'\n",
    "X_test_node1 = path+'motifs/test_'+contacts+'_out_node1_3_0.0001/mat.npy'\n",
    "X_test_node2 = path+'motifs/test_'+contacts+'_out_node2_3_0.0001/mat.npy'\n",
    "X_valid_node1 = path+'motifs/valid_'+contacts+'_out_node1_3_0.0001/mat.npy'\n",
    "X_valid_node2 = path+'motifs/valid_'+contacts+'_out_node2_3_0.0001/mat.npy'\n",
    "\n",
    "y_train = get_labels(path+'y_train_thres_10.npy')\n",
    "y_test = get_labels(path+'y_test_thres_10.npy')\n",
    "y_valid = get_labels(path+'y_valid_thres_10.npy')\n",
    "\n",
    "X_train=concat_motifs(X_train_node1, X_train_node2)\n",
    "X_test=concat_motifs(X_test_node1, X_test_node2)\n",
    "X_valid=concat_motifs(X_valid_node1, X_valid_node2)"
   ]
  },
  {
   "cell_type": "code",
   "execution_count": 6,
   "metadata": {
    "collapsed": false
   },
   "outputs": [],
   "source": [
    "X_train_normalized, X_valid_normalized, X_test_normalized = normalize_features(X_train, X_valid, X_test)"
   ]
  },
  {
   "cell_type": "code",
   "execution_count": 7,
   "metadata": {
    "collapsed": false
   },
   "outputs": [],
   "source": [
    "X_train_pairs = X_train_normalized.reshape(X_train_normalized.shape[0],X_train_normalized.shape[2]*X_train_normalized.shape[3])\n",
    "X_valid_pairs = X_valid_normalized.reshape(X_valid_normalized.shape[0],X_valid_normalized.shape[2]*X_valid_normalized.shape[3])\n",
    "X_test_pairs = X_test_normalized.reshape(X_test_normalized.shape[0],X_test_normalized.shape[2]*X_test_normalized.shape[3])"
   ]
  },
  {
   "cell_type": "code",
   "execution_count": 8,
   "metadata": {
    "collapsed": false
   },
   "outputs": [
    {
     "data": {
      "text/plain": [
       "(1152, 3840)"
      ]
     },
     "execution_count": 8,
     "metadata": {},
     "output_type": "execute_result"
    }
   ],
   "source": [
    "X_train_pairs.shape"
   ]
  },
  {
   "cell_type": "markdown",
   "metadata": {},
   "source": [
    "# Random Forest"
   ]
  },
  {
   "cell_type": "code",
   "execution_count": 9,
   "metadata": {
    "collapsed": true
   },
   "outputs": [],
   "source": [
    "rf = RandomForest()"
   ]
  },
  {
   "cell_type": "markdown",
   "metadata": {},
   "source": [
    "### with motifs only"
   ]
  },
  {
   "cell_type": "code",
   "execution_count": 10,
   "metadata": {
    "collapsed": false
   },
   "outputs": [
    {
     "name": "stderr",
     "output_type": "stream",
     "text": [
      "/users/mtaranov/LongRange3D/models.py:218: DataConversionWarning: A column-vector y was passed when a 1d array was expected. Please change the shape of y to (n_samples,), for example using ravel().\n",
      "  self.classifier.fit(X, y)\n"
     ]
    },
    {
     "name": "stdout",
     "output_type": "stream",
     "text": [
      "On Test:\n",
      "Balanced Accuracy: 72.71%\t auROC: 0.793\t auPRC: 0.796\t auPRG: 0.608\n",
      "Recall at 5%|10%|20% FDR: 17.0%|21.0%|50.7%\t Num Positives: 229\t Num Negatives: 229\t \n",
      "\n",
      "On Train:\n",
      "Balanced Accuracy: 100.00%\t auROC: 1.000\t auPRC: 1.000\t auPRG: 1.000\n",
      "Recall at 5%|10%|20% FDR: 100.0%|100.0%|100.0%\t Num Positives: 576\t Num Negatives: 576\t \n",
      "\n"
     ]
    }
   ],
   "source": [
    "rf.train(X_train_pairs, y_train)\n",
    "preds_test = rf.predict(X_test_pairs)\n",
    "preds_train = rf.predict(X_train_pairs)\n",
    "print ('On Test:\\n{}\\n'.format(ClassificationResult(y_test, preds_test)))\n",
    "print ('On Train:\\n{}\\n'.format(ClassificationResult(y_train, preds_train)))"
   ]
  },
  {
   "cell_type": "markdown",
   "metadata": {},
   "source": [
    "# SVC"
   ]
  },
  {
   "cell_type": "code",
   "execution_count": 11,
   "metadata": {
    "collapsed": false
   },
   "outputs": [],
   "source": [
    "svc = SVC()\n",
    "from sklearn.svm import SVC as scikit_SVC"
   ]
  },
  {
   "cell_type": "markdown",
   "metadata": {},
   "source": [
    "# linear - SVM"
   ]
  },
  {
   "cell_type": "code",
   "execution_count": 12,
   "metadata": {
    "collapsed": false
   },
   "outputs": [],
   "source": [
    "svc.classifier= scikit_SVC(probability=True, kernel='linear')"
   ]
  },
  {
   "cell_type": "markdown",
   "metadata": {},
   "source": [
    "### with motifs only"
   ]
  },
  {
   "cell_type": "code",
   "execution_count": 13,
   "metadata": {
    "collapsed": false
   },
   "outputs": [
    {
     "name": "stderr",
     "output_type": "stream",
     "text": [
      "/users/mtaranov/local/anaconda2/lib/python2.7/site-packages/sklearn/utils/validation.py:526: DataConversionWarning: A column-vector y was passed when a 1d array was expected. Please change the shape of y to (n_samples, ), for example using ravel().\n",
      "  y = column_or_1d(y, warn=True)\n"
     ]
    },
    {
     "name": "stdout",
     "output_type": "stream",
     "text": [
      "On Test:\n",
      "Balanced Accuracy: 66.81%\t auROC: 0.752\t auPRC: 0.754\t auPRG: 0.499\n",
      "Recall at 5%|10%|20% FDR: 2.6%|2.6%|37.1%\t Num Positives: 229\t Num Negatives: 229\t \n",
      "\n",
      "On Train:\n",
      "Balanced Accuracy: 100.00%\t auROC: 1.000\t auPRC: 1.000\t auPRG: 1.000\n",
      "Recall at 5%|10%|20% FDR: 100.0%|100.0%|100.0%\t Num Positives: 576\t Num Negatives: 576\t \n",
      "\n"
     ]
    }
   ],
   "source": [
    "svc.train(X_train_pairs, y_train)\n",
    "preds_test = svc.predict(X_test_pairs)\n",
    "preds_train = svc.predict(X_train_pairs)\n",
    "print ('On Test:\\n{}\\n'.format(ClassificationResult(y_test, preds_test)))\n",
    "print ('On Train:\\n{}\\n'.format(ClassificationResult(y_train, preds_train)))"
   ]
  },
  {
   "cell_type": "markdown",
   "metadata": {},
   "source": [
    "# RBF - SVM"
   ]
  },
  {
   "cell_type": "code",
   "execution_count": 14,
   "metadata": {
    "collapsed": true
   },
   "outputs": [],
   "source": [
    "svc.classifier= scikit_SVC(probability=True, kernel='rbf')"
   ]
  },
  {
   "cell_type": "markdown",
   "metadata": {},
   "source": [
    "### with motifs only"
   ]
  },
  {
   "cell_type": "code",
   "execution_count": 15,
   "metadata": {
    "collapsed": false
   },
   "outputs": [
    {
     "name": "stdout",
     "output_type": "stream",
     "text": [
      "On Test:\n",
      "Balanced Accuracy: 68.56%\t auROC: 0.797\t auPRC: 0.785\t auPRG: 0.595\n",
      "Recall at 5%|10%|20% FDR: 11.8%|22.3%|51.1%\t Num Positives: 229\t Num Negatives: 229\t \n",
      "\n",
      "On Train:\n",
      "Balanced Accuracy: 96.09%\t auROC: 0.994\t auPRC: 0.994\t auPRG: 0.992\n",
      "Recall at 5%|10%|20% FDR: 97.4%|99.7%|100.0%\t Num Positives: 576\t Num Negatives: 576\t \n",
      "\n"
     ]
    }
   ],
   "source": [
    "svc.train(X_train_pairs, y_train)\n",
    "preds_test = svc.predict(X_test_pairs)\n",
    "preds_train = svc.predict(X_train_pairs)\n",
    "print ('On Test:\\n{}\\n'.format(ClassificationResult(y_test, preds_test)))\n",
    "print ('On Train:\\n{}\\n'.format(ClassificationResult(y_train, preds_train)))"
   ]
  }
 ],
 "metadata": {
  "anaconda-cloud": {},
  "kernelspec": {
   "display_name": "Python [default]",
   "language": "python",
   "name": "python2"
  },
  "language_info": {
   "codemirror_mode": {
    "name": "ipython",
    "version": 2
   },
   "file_extension": ".py",
   "mimetype": "text/x-python",
   "name": "python",
   "nbconvert_exporter": "python",
   "pygments_lexer": "ipython2",
   "version": "2.7.12"
  }
 },
 "nbformat": 4,
 "nbformat_minor": 0
}
