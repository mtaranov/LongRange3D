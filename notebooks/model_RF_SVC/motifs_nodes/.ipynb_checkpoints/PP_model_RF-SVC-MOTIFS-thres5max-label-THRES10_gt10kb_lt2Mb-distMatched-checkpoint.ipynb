{
 "cells": [
  {
   "cell_type": "code",
   "execution_count": 1,
   "metadata": {
    "collapsed": false
   },
   "outputs": [
    {
     "name": "stderr",
     "output_type": "stream",
     "text": [
      "Using Theano backend.\n",
      "WARNING (theano.sandbox.cuda): The cuda backend is deprecated and will be removed in the next release (v0.10).  Please switch to the gpuarray backend. You can get more information about how to switch at this URL:\n",
      " https://github.com/Theano/Theano/wiki/Converting-to-the-new-gpu-back-end%28gpuarray%29\n",
      "\n",
      "Using gpu device 0: GeForce GTX TITAN X (CNMeM is enabled with initial size: 2500 MB, cuDNN 5105)\n"
     ]
    }
   ],
   "source": [
    "%matplotlib inline\n",
    "%load_ext autoreload\n",
    "%autoreload 2\n",
    "\n",
    "import sys\n",
    "import numpy as np\n",
    "import matplotlib.pyplot as plt\n",
    "from sklearn.preprocessing import MinMaxScaler, StandardScaler\n",
    "\n",
    "from models import RandomForest, SVC\n",
    "from metrics import ClassificationResult\n",
    "from utils import get_features, get_labels, subsample_data, normalize_features, reconstruct_2d, printMatrix, binarize, zscore, get_2D, plot_prediction, change_scale "
   ]
  },
  {
   "cell_type": "code",
   "execution_count": 2,
   "metadata": {
    "collapsed": false
   },
   "outputs": [],
   "source": [
    "contacts='PP'\n",
    "path='/users/mtaranov/datasets_3d/dist_matched_'+contacts+'/'\n",
    "X_train = get_features(path+'motifs/X_train_thres_10.npy')\n",
    "y_train = get_labels(path+'y_train_thres_10.npy')\n",
    "X_valid = get_features(path+'motifs/X_valid_thres_10.npy')\n",
    "y_valid = get_labels(path+'y_valid_thres_10.npy')\n",
    "X_test = get_features(path+'motifs/X_test_thres_10.npy')\n",
    "y_test = get_labels(path+'y_test_thres_10.npy')"
   ]
  },
  {
   "cell_type": "code",
   "execution_count": 3,
   "metadata": {
    "collapsed": false
   },
   "outputs": [],
   "source": [
    "X_train_normalized, X_valid_normalized, X_test_normalized = normalize_features(X_train, X_valid, X_test)"
   ]
  },
  {
   "cell_type": "code",
   "execution_count": 4,
   "metadata": {
    "collapsed": false
   },
   "outputs": [],
   "source": [
    "X_train_pairs = X_train_normalized.reshape(X_train_normalized.shape[0],X_train_normalized.shape[2]*X_train_normalized.shape[3])\n",
    "X_valid_pairs = X_valid_normalized.reshape(X_valid_normalized.shape[0],X_valid_normalized.shape[2]*X_valid_normalized.shape[3])\n",
    "X_test_pairs = X_test_normalized.reshape(X_test_normalized.shape[0],X_test_normalized.shape[2]*X_test_normalized.shape[3])"
   ]
  },
  {
   "cell_type": "markdown",
   "metadata": {},
   "source": [
    "# Random Forest"
   ]
  },
  {
   "cell_type": "code",
   "execution_count": 5,
   "metadata": {
    "collapsed": true
   },
   "outputs": [],
   "source": [
    "rf = RandomForest()"
   ]
  },
  {
   "cell_type": "markdown",
   "metadata": {},
   "source": [
    "### with motifs only"
   ]
  },
  {
   "cell_type": "code",
   "execution_count": 6,
   "metadata": {
    "collapsed": false
   },
   "outputs": [
    {
     "name": "stderr",
     "output_type": "stream",
     "text": [
      "models.py:177: DataConversionWarning: A column-vector y was passed when a 1d array was expected. Please change the shape of y to (n_samples,), for example using ravel().\n",
      "  self.classifier.fit(X, y)\n"
     ]
    },
    {
     "name": "stdout",
     "output_type": "stream",
     "text": [
      "On Test:\n",
      "Balanced Accuracy: 72.84%\t auROC: 0.810\t auPRC: 0.834\t auPRG: 0.640\n",
      "Recall at 5%|10%|20% FDR: 29.6%|33.7%|65.0%\t Num Positives: 243\t Num Negatives: 243\t \n",
      "\n",
      "On Train:\n",
      "Balanced Accuracy: 100.00%\t auROC: 1.000\t auPRC: 1.000\t auPRG: 1.000\n",
      "Recall at 5%|10%|20% FDR: 100.0%|100.0%|100.0%\t Num Positives: 566\t Num Negatives: 566\t \n",
      "\n"
     ]
    }
   ],
   "source": [
    "rf.train(X_train_pairs[:,22:], y_train)\n",
    "preds_test = rf.predict(X_test_pairs[:,22:])\n",
    "preds_train = rf.predict(X_train_pairs[:,22:])\n",
    "print ('On Test:\\n{}\\n'.format(ClassificationResult(y_test, preds_test)))\n",
    "print ('On Train:\\n{}\\n'.format(ClassificationResult(y_train, preds_train)))"
   ]
  },
  {
   "cell_type": "markdown",
   "metadata": {},
   "source": [
    "### with atac only"
   ]
  },
  {
   "cell_type": "code",
   "execution_count": 7,
   "metadata": {
    "collapsed": false
   },
   "outputs": [
    {
     "name": "stdout",
     "output_type": "stream",
     "text": [
      "On Test:\n",
      "Balanced Accuracy: 62.96%\t auROC: 0.690\t auPRC: 0.725\t auPRG: 0.338\n",
      "Recall at 5%|10%|20% FDR: 15.6%|18.5%|39.9%\t Num Positives: 243\t Num Negatives: 243\t \n",
      "\n",
      "On Train:\n",
      "Balanced Accuracy: 97.61%\t auROC: 0.995\t auPRC: 0.994\t auPRG: 0.993\n",
      "Recall at 5%|10%|20% FDR: 98.6%|99.1%|99.1%\t Num Positives: 566\t Num Negatives: 566\t \n",
      "\n"
     ]
    }
   ],
   "source": [
    "rf.train(X_train_pairs[:,:2], y_train)\n",
    "preds_test = rf.predict(X_test_pairs[:,:2])\n",
    "preds_train = rf.predict(X_train_pairs[:,:2])\n",
    "print ('On Test:\\n{}\\n'.format(ClassificationResult(y_test, preds_test)))\n",
    "print ('On Train:\\n{}\\n'.format(ClassificationResult(y_train, preds_train)))"
   ]
  },
  {
   "cell_type": "markdown",
   "metadata": {},
   "source": [
    "### with distance (genomic locations) only"
   ]
  },
  {
   "cell_type": "code",
   "execution_count": 8,
   "metadata": {
    "collapsed": false
   },
   "outputs": [
    {
     "name": "stdout",
     "output_type": "stream",
     "text": [
      "On Test:\n",
      "Balanced Accuracy: 73.66%\t auROC: 0.783\t auPRC: 0.796\t auPRG: 0.578\n",
      "Recall at 5%|10%|20% FDR: 0.0%|25.9%|45.7%\t Num Positives: 243\t Num Negatives: 243\t \n",
      "\n",
      "On Train:\n",
      "Balanced Accuracy: 100.00%\t auROC: 1.000\t auPRC: 1.000\t auPRG: 1.000\n",
      "Recall at 5%|10%|20% FDR: 100.0%|100.0%|100.0%\t Num Positives: 566\t Num Negatives: 566\t \n",
      "\n"
     ]
    }
   ],
   "source": [
    "rf.train(X_train_pairs[:,20:22], y_train)\n",
    "preds_test = rf.predict(X_test_pairs[:,20:22])\n",
    "preds_train = rf.predict(X_train_pairs[:,20:22])\n",
    "print ('On Test:\\n{}\\n'.format(ClassificationResult(y_test, preds_test)))\n",
    "print ('On Train:\\n{}\\n'.format(ClassificationResult(y_train, preds_train)))"
   ]
  },
  {
   "cell_type": "markdown",
   "metadata": {},
   "source": [
    "### with motifs+atac"
   ]
  },
  {
   "cell_type": "code",
   "execution_count": 9,
   "metadata": {
    "collapsed": false
   },
   "outputs": [
    {
     "name": "stdout",
     "output_type": "stream",
     "text": [
      "On Test:\n",
      "Balanced Accuracy: 70.78%\t auROC: 0.806\t auPRC: 0.831\t auPRG: 0.620\n",
      "Recall at 5%|10%|20% FDR: 32.9%|41.6%|58.0%\t Num Positives: 243\t Num Negatives: 243\t \n",
      "\n",
      "On Train:\n",
      "Balanced Accuracy: 100.00%\t auROC: 1.000\t auPRC: 1.000\t auPRG: 1.000\n",
      "Recall at 5%|10%|20% FDR: 100.0%|100.0%|100.0%\t Num Positives: 566\t Num Negatives: 566\t \n",
      "\n"
     ]
    }
   ],
   "source": [
    "rf.train(X_train_pairs[:, [0,1]+[i+22 for i in range(1920*2)]], y_train)\n",
    "preds_test = rf.predict(X_test_pairs[:, [0,1]+[i+22 for i in range(1920*2)]])\n",
    "preds_train = rf.predict(X_train_pairs[:, [0,1]+[i+22 for i in range(1920*2)]])\n",
    "print ('On Test:\\n{}\\n'.format(ClassificationResult(y_test, preds_test)))\n",
    "print ('On Train:\\n{}\\n'.format(ClassificationResult(y_train, preds_train)))"
   ]
  },
  {
   "cell_type": "markdown",
   "metadata": {},
   "source": [
    "### with motifs+atac+distance"
   ]
  },
  {
   "cell_type": "code",
   "execution_count": 10,
   "metadata": {
    "collapsed": false
   },
   "outputs": [
    {
     "name": "stdout",
     "output_type": "stream",
     "text": [
      "On Test:\n",
      "Balanced Accuracy: 71.19%\t auROC: 0.813\t auPRC: 0.844\t auPRG: 0.648\n",
      "Recall at 5%|10%|20% FDR: 34.6%|45.7%|66.7%\t Num Positives: 243\t Num Negatives: 243\t \n",
      "\n",
      "On Train:\n",
      "Balanced Accuracy: 100.00%\t auROC: 1.000\t auPRC: 1.000\t auPRG: 1.000\n",
      "Recall at 5%|10%|20% FDR: 100.0%|100.0%|100.0%\t Num Positives: 566\t Num Negatives: 566\t \n",
      "\n"
     ]
    }
   ],
   "source": [
    "rf.train(X_train_pairs[:, [0,1]+[20,21]+[i+22 for i in range(1920*2)]], y_train)\n",
    "preds_test = rf.predict(X_test_pairs[:, [0,1]+[20,21]+[i+22 for i in range(1920*2)]])\n",
    "preds_train = rf.predict(X_train_pairs[:, [0,1]+[20,21]+[i+22 for i in range(1920*2)]])\n",
    "print ('On Test:\\n{}\\n'.format(ClassificationResult(y_test, preds_test)))\n",
    "print ('On Train:\\n{}\\n'.format(ClassificationResult(y_train, preds_train)))"
   ]
  },
  {
   "cell_type": "markdown",
   "metadata": {},
   "source": [
    "# SVC"
   ]
  },
  {
   "cell_type": "code",
   "execution_count": 27,
   "metadata": {
    "collapsed": false
   },
   "outputs": [],
   "source": [
    "svc = SVC()\n",
    "from sklearn.svm import SVC as scikit_SVC"
   ]
  },
  {
   "cell_type": "markdown",
   "metadata": {},
   "source": [
    "# linear - SVM"
   ]
  },
  {
   "cell_type": "code",
   "execution_count": 28,
   "metadata": {
    "collapsed": false
   },
   "outputs": [],
   "source": [
    "svc.classifier= scikit_SVC(probability=True, kernel='linear')"
   ]
  },
  {
   "cell_type": "markdown",
   "metadata": {},
   "source": [
    "### with motifs only"
   ]
  },
  {
   "cell_type": "code",
   "execution_count": 30,
   "metadata": {
    "collapsed": false
   },
   "outputs": [
    {
     "data": {
      "text/plain": [
       "(1132, 3840)"
      ]
     },
     "execution_count": 30,
     "metadata": {},
     "output_type": "execute_result"
    }
   ],
   "source": [
    "X_train_pairs[:,22:].shape"
   ]
  },
  {
   "cell_type": "code",
   "execution_count": 31,
   "metadata": {
    "collapsed": false
   },
   "outputs": [
    {
     "name": "stdout",
     "output_type": "stream",
     "text": [
      "On Test:\n",
      "Balanced Accuracy: 72.02%\t auROC: 0.782\t auPRC: 0.784\t auPRG: 0.583\n",
      "Recall at 5%|10%|20% FDR: 10.3%|15.6%|46.9%\t Num Positives: 243\t Num Negatives: 243\t \n",
      "\n",
      "On Train:\n",
      "Balanced Accuracy: 100.00%\t auROC: 1.000\t auPRC: 1.000\t auPRG: 1.000\n",
      "Recall at 5%|10%|20% FDR: 100.0%|100.0%|100.0%\t Num Positives: 566\t Num Negatives: 566\t \n",
      "\n"
     ]
    }
   ],
   "source": [
    "svc.train(X_train_pairs[:,22:], y_train)\n",
    "preds_test = svc.predict(X_test_pairs[:,22:])\n",
    "preds_train = svc.predict(X_train_pairs[:,22:])\n",
    "print ('On Test:\\n{}\\n'.format(ClassificationResult(y_test, preds_test)))\n",
    "print ('On Train:\\n{}\\n'.format(ClassificationResult(y_train, preds_train)))"
   ]
  },
  {
   "cell_type": "markdown",
   "metadata": {},
   "source": [
    "### with atac only"
   ]
  },
  {
   "cell_type": "code",
   "execution_count": 32,
   "metadata": {
    "collapsed": false
   },
   "outputs": [
    {
     "name": "stdout",
     "output_type": "stream",
     "text": [
      "On Test:\n",
      "Balanced Accuracy: 57.00%\t auROC: 0.568\t auPRC: 0.609\t auPRG: 0.090\n",
      "Recall at 5%|10%|20% FDR: 3.3%|3.3%|5.3%\t Num Positives: 243\t Num Negatives: 243\t \n",
      "\n",
      "On Train:\n",
      "Balanced Accuracy: 60.87%\t auROC: 0.604\t auPRC: 0.662\t auPRG: 0.177\n",
      "Recall at 5%|10%|20% FDR: 3.7%|5.5%|20.5%\t Num Positives: 566\t Num Negatives: 566\t \n",
      "\n"
     ]
    }
   ],
   "source": [
    "svc.train(X_train_pairs[:,:2], y_train)\n",
    "preds_test = svc.predict(X_test_pairs[:,:2])\n",
    "preds_train = svc.predict(X_train_pairs[:,:2])\n",
    "print ('On Test:\\n{}\\n'.format(ClassificationResult(y_test, preds_test)))\n",
    "print ('On Train:\\n{}\\n'.format(ClassificationResult(y_train, preds_train)))"
   ]
  },
  {
   "cell_type": "markdown",
   "metadata": {},
   "source": [
    "### with genomic locations only"
   ]
  },
  {
   "cell_type": "code",
   "execution_count": 15,
   "metadata": {
    "collapsed": false,
    "scrolled": true
   },
   "outputs": [
    {
     "name": "stdout",
     "output_type": "stream",
     "text": [
      "On Test:\n",
      "Balanced Accuracy: 58.44%\t auROC: 0.619\t auPRC: 0.571\t auPRG: 0.237\n",
      "Recall at 5%|10%|20% FDR: 0.0%|0.0%|0.0%\t Num Positives: 243\t Num Negatives: 243\t \n",
      "\n",
      "On Train:\n",
      "Balanced Accuracy: 56.71%\t auROC: 0.591\t auPRC: 0.571\t auPRG: 0.160\n",
      "Recall at 5%|10%|20% FDR: 0.0%|0.0%|0.0%\t Num Positives: 566\t Num Negatives: 566\t \n",
      "\n"
     ]
    }
   ],
   "source": [
    "svc.train(X_train_pairs[:,20:22], y_train)\n",
    "preds_test = svc.predict(X_test_pairs[:,20:22])\n",
    "preds_train = svc.predict(X_train_pairs[:,20:22])\n",
    "print ('On Test:\\n{}\\n'.format(ClassificationResult(y_test, preds_test)))\n",
    "print ('On Train:\\n{}\\n'.format(ClassificationResult(y_train, preds_train)))"
   ]
  },
  {
   "cell_type": "markdown",
   "metadata": {},
   "source": [
    "### with motifs+atac"
   ]
  },
  {
   "cell_type": "code",
   "execution_count": 26,
   "metadata": {
    "collapsed": false
   },
   "outputs": [
    {
     "name": "stdout",
     "output_type": "stream",
     "text": [
      "On Test:\n",
      "Balanced Accuracy: 72.22%\t auROC: 0.793\t auPRC: 0.795\t auPRG: 0.611\n",
      "Recall at 5%|10%|20% FDR: 10.7%|21.8%|56.8%\t Num Positives: 243\t Num Negatives: 243\t \n",
      "\n",
      "On Train:\n",
      "Balanced Accuracy: 100.00%\t auROC: 1.000\t auPRC: 1.000\t auPRG: 1.000\n",
      "Recall at 5%|10%|20% FDR: 100.0%|100.0%|100.0%\t Num Positives: 566\t Num Negatives: 566\t \n",
      "\n"
     ]
    }
   ],
   "source": [
    "svc.train(X_train_pairs[:, [0,1]+[i+22 for i in range(1920*2)]], y_train)\n",
    "preds_test = svc.predict(X_test_pairs[:, [0,1]+[i+22 for i in range(1920*2)]])\n",
    "preds_train = svc.predict(X_train_pairs[:, [0,1]+[i+22 for i in range(1920*2)]])\n",
    "print ('On Test:\\n{}\\n'.format(ClassificationResult(y_test, preds_test)))\n",
    "print ('On Train:\\n{}\\n'.format(ClassificationResult(y_train, preds_train)))"
   ]
  },
  {
   "cell_type": "markdown",
   "metadata": {},
   "source": [
    "### with motifs+atac+distance"
   ]
  },
  {
   "cell_type": "code",
   "execution_count": 34,
   "metadata": {
    "collapsed": false
   },
   "outputs": [
    {
     "name": "stdout",
     "output_type": "stream",
     "text": [
      "On Test:\n",
      "Balanced Accuracy: 72.84%\t auROC: 0.794\t auPRC: 0.797\t auPRG: 0.615\n",
      "Recall at 5%|10%|20% FDR: 11.1%|23.5%|54.7%\t Num Positives: 243\t Num Negatives: 243\t \n",
      "\n",
      "On Train:\n",
      "Balanced Accuracy: 100.00%\t auROC: 1.000\t auPRC: 1.000\t auPRG: 1.000\n",
      "Recall at 5%|10%|20% FDR: 100.0%|100.0%|100.0%\t Num Positives: 566\t Num Negatives: 566\t \n",
      "\n"
     ]
    }
   ],
   "source": [
    "svc.train(X_train_pairs[:, [0,1]+[20,21]+[i+22 for i in range(1920*2)]], y_train)\n",
    "preds_test = svc.predict(X_test_pairs[:, [0,1]+[20,21]+[i+22 for i in range(1920*2)]])\n",
    "preds_train = svc.predict(X_train_pairs[:, [0,1]+[20,21]+[i+22 for i in range(1920*2)]])\n",
    "print ('On Test:\\n{}\\n'.format(ClassificationResult(y_test, preds_test)))\n",
    "print ('On Train:\\n{}\\n'.format(ClassificationResult(y_train, preds_train)))"
   ]
  },
  {
   "cell_type": "markdown",
   "metadata": {},
   "source": [
    "# RBF - SVM"
   ]
  },
  {
   "cell_type": "code",
   "execution_count": 35,
   "metadata": {
    "collapsed": true
   },
   "outputs": [],
   "source": [
    "svc.classifier= scikit_SVC(probability=True, kernel='rbf')"
   ]
  },
  {
   "cell_type": "markdown",
   "metadata": {},
   "source": [
    "### with motifs only"
   ]
  },
  {
   "cell_type": "code",
   "execution_count": 36,
   "metadata": {
    "collapsed": false
   },
   "outputs": [
    {
     "name": "stdout",
     "output_type": "stream",
     "text": [
      "On Test:\n",
      "Balanced Accuracy: 71.19%\t auROC: 0.800\t auPRC: 0.816\t auPRG: 0.618\n",
      "Recall at 5%|10%|20% FDR: 17.3%|36.6%|60.5%\t Num Positives: 243\t Num Negatives: 243\t \n",
      "\n",
      "On Train:\n",
      "Balanced Accuracy: 97.08%\t auROC: 0.998\t auPRC: 0.998\t auPRG: 0.997\n",
      "Recall at 5%|10%|20% FDR: 99.1%|100.0%|100.0%\t Num Positives: 566\t Num Negatives: 566\t \n",
      "\n"
     ]
    }
   ],
   "source": [
    "svc.train(X_train_pairs[:,22:], y_train)\n",
    "preds_test = svc.predict(X_test_pairs[:,22:])\n",
    "preds_train = svc.predict(X_train_pairs[:,22:])\n",
    "print ('On Test:\\n{}\\n'.format(ClassificationResult(y_test, preds_test)))\n",
    "print ('On Train:\\n{}\\n'.format(ClassificationResult(y_train, preds_train)))"
   ]
  },
  {
   "cell_type": "markdown",
   "metadata": {},
   "source": [
    "### with atac only"
   ]
  },
  {
   "cell_type": "code",
   "execution_count": 37,
   "metadata": {
    "collapsed": false
   },
   "outputs": [
    {
     "name": "stdout",
     "output_type": "stream",
     "text": [
      "On Test:\n",
      "Balanced Accuracy: 61.73%\t auROC: 0.656\t auPRC: 0.658\t auPRG: 0.287\n",
      "Recall at 5%|10%|20% FDR: 0.4%|0.4%|0.4%\t Num Positives: 243\t Num Negatives: 243\t \n",
      "\n",
      "On Train:\n",
      "Balanced Accuracy: 68.46%\t auROC: 0.727\t auPRC: 0.734\t auPRG: 0.462\n",
      "Recall at 5%|10%|20% FDR: 1.2%|2.1%|45.1%\t Num Positives: 566\t Num Negatives: 566\t \n",
      "\n"
     ]
    }
   ],
   "source": [
    "svc.train(X_train_pairs[:,:2], y_train)\n",
    "preds_test = svc.predict(X_test_pairs[:,:2])\n",
    "preds_train = svc.predict(X_train_pairs[:,:2])\n",
    "print ('On Test:\\n{}\\n'.format(ClassificationResult(y_test, preds_test)))\n",
    "print ('On Train:\\n{}\\n'.format(ClassificationResult(y_train, preds_train)))"
   ]
  },
  {
   "cell_type": "markdown",
   "metadata": {},
   "source": [
    "### with genomic locations only"
   ]
  },
  {
   "cell_type": "code",
   "execution_count": 38,
   "metadata": {
    "collapsed": false
   },
   "outputs": [
    {
     "name": "stdout",
     "output_type": "stream",
     "text": [
      "On Test:\n",
      "Balanced Accuracy: 58.64%\t auROC: 0.635\t auPRC: 0.591\t auPRG: 0.259\n",
      "Recall at 5%|10%|20% FDR: 0.0%|0.0%|0.0%\t Num Positives: 243\t Num Negatives: 243\t \n",
      "\n",
      "On Train:\n",
      "Balanced Accuracy: 57.24%\t auROC: 0.597\t auPRC: 0.558\t auPRG: 0.178\n",
      "Recall at 5%|10%|20% FDR: 0.2%|0.2%|0.2%\t Num Positives: 566\t Num Negatives: 566\t \n",
      "\n"
     ]
    }
   ],
   "source": [
    "svc.train(X_train_pairs[:,20:22], y_train)\n",
    "preds_test = svc.predict(X_test_pairs[:,20:22])\n",
    "preds_train = svc.predict(X_train_pairs[:,20:22])\n",
    "print ('On Test:\\n{}\\n'.format(ClassificationResult(y_test, preds_test)))\n",
    "print ('On Train:\\n{}\\n'.format(ClassificationResult(y_train, preds_train)))"
   ]
  },
  {
   "cell_type": "markdown",
   "metadata": {},
   "source": [
    "### with motifs+atac"
   ]
  },
  {
   "cell_type": "code",
   "execution_count": 39,
   "metadata": {
    "collapsed": false
   },
   "outputs": [
    {
     "name": "stdout",
     "output_type": "stream",
     "text": [
      "On Test:\n",
      "Balanced Accuracy: 72.43%\t auROC: 0.804\t auPRC: 0.823\t auPRG: 0.627\n",
      "Recall at 5%|10%|20% FDR: 19.3%|39.9%|60.1%\t Num Positives: 243\t Num Negatives: 243\t \n",
      "\n",
      "On Train:\n",
      "Balanced Accuracy: 97.35%\t auROC: 0.998\t auPRC: 0.998\t auPRG: 0.998\n",
      "Recall at 5%|10%|20% FDR: 99.5%|100.0%|100.0%\t Num Positives: 566\t Num Negatives: 566\t \n",
      "\n"
     ]
    }
   ],
   "source": [
    "svc.train(X_train_pairs[:, [0,1]+[i+22 for i in range(1920*2)]], y_train)\n",
    "preds_test = svc.predict(X_test_pairs[:, [0,1]+[i+22 for i in range(1920*2)]])\n",
    "preds_train = svc.predict(X_train_pairs[:, [0,1]+[i+22 for i in range(1920*2)]])\n",
    "print ('On Test:\\n{}\\n'.format(ClassificationResult(y_test, preds_test)))\n",
    "print ('On Train:\\n{}\\n'.format(ClassificationResult(y_train, preds_train)))"
   ]
  },
  {
   "cell_type": "markdown",
   "metadata": {},
   "source": [
    "### with motifs_atac_distance"
   ]
  },
  {
   "cell_type": "code",
   "execution_count": 40,
   "metadata": {
    "collapsed": false
   },
   "outputs": [
    {
     "name": "stdout",
     "output_type": "stream",
     "text": [
      "On Test:\n",
      "Balanced Accuracy: 72.43%\t auROC: 0.804\t auPRC: 0.823\t auPRG: 0.628\n",
      "Recall at 5%|10%|20% FDR: 20.2%|39.9%|60.1%\t Num Positives: 243\t Num Negatives: 243\t \n",
      "\n",
      "On Train:\n",
      "Balanced Accuracy: 97.44%\t auROC: 0.998\t auPRC: 0.998\t auPRG: 0.998\n",
      "Recall at 5%|10%|20% FDR: 99.5%|100.0%|100.0%\t Num Positives: 566\t Num Negatives: 566\t \n",
      "\n"
     ]
    }
   ],
   "source": [
    "svc.train(X_train_pairs[:, [0,1]+[20,21]+[i+22 for i in range(1920*2)]], y_train)\n",
    "preds_test = svc.predict(X_test_pairs[:, [0,1]+[20,21]+[i+22 for i in range(1920*2)]])\n",
    "preds_train = svc.predict(X_train_pairs[:, [0,1]+[20,21]+[i+22 for i in range(1920*2)]])\n",
    "print ('On Test:\\n{}\\n'.format(ClassificationResult(y_test, preds_test)))\n",
    "print ('On Train:\\n{}\\n'.format(ClassificationResult(y_train, preds_train)))"
   ]
  }
 ],
 "metadata": {
  "anaconda-cloud": {},
  "kernelspec": {
   "display_name": "Python [default]",
   "language": "python",
   "name": "python2"
  },
  "language_info": {
   "codemirror_mode": {
    "name": "ipython",
    "version": 2
   },
   "file_extension": ".py",
   "mimetype": "text/x-python",
   "name": "python",
   "nbconvert_exporter": "python",
   "pygments_lexer": "ipython2",
   "version": "2.7.12"
  }
 },
 "nbformat": 4,
 "nbformat_minor": 0
}
