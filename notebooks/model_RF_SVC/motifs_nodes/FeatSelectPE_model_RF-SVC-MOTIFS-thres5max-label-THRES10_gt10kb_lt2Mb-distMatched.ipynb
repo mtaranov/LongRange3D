{
 "cells": [
  {
   "cell_type": "code",
   "execution_count": 1,
   "metadata": {
    "collapsed": false
   },
   "outputs": [
    {
     "name": "stderr",
     "output_type": "stream",
     "text": [
      "Using Theano backend.\n",
      "WARNING (theano.sandbox.cuda): The cuda backend is deprecated and will be removed in the next release (v0.10).  Please switch to the gpuarray backend. You can get more information about how to switch at this URL:\n",
      " https://github.com/Theano/Theano/wiki/Converting-to-the-new-gpu-back-end%28gpuarray%29\n",
      "\n",
      "Using gpu device 1: GeForce GTX TITAN X (CNMeM is enabled with initial size: 2500 MB, cuDNN 5005)\n"
     ]
    }
   ],
   "source": [
    "%matplotlib inline\n",
    "%load_ext autoreload\n",
    "%autoreload 2\n",
    "\n",
    "import sys\n",
    "import numpy as np\n",
    "import matplotlib.pyplot as plt\n",
    "from sklearn.preprocessing import MinMaxScaler, StandardScaler\n",
    "sys.path.append('/users/mtaranov/LongRange3D/')\n",
    "from models_binnedFeat import RandomForest, SVC\n",
    "from metrics import ClassificationResult\n",
    "from utils import concat_motifs, get_features, get_labels, subsample_data, normalize_features, reconstruct_2d, printMatrix, binarize, zscore, get_2D, plot_prediction, change_scale "
   ]
  },
  {
   "cell_type": "code",
   "execution_count": 2,
   "metadata": {
    "collapsed": false
   },
   "outputs": [],
   "source": [
    "contacts='PE'\n",
    "path='/users/mtaranov/datasets_3d_OLD/dist_matched_'+contacts+'/'\n",
    "\n",
    "X_train_node1 = path+'motifs/train_'+contacts+'_out_node1_3_0.0001/mat.npy'\n",
    "X_train_node2 = path+'motifs/train_'+contacts+'_out_node2_3_0.0001/mat.npy'\n",
    "X_test_node1 = path+'motifs/test_'+contacts+'_out_node1_3_0.0001/mat.npy'\n",
    "X_test_node2 = path+'motifs/test_'+contacts+'_out_node2_3_0.0001/mat.npy'\n",
    "X_valid_node1 = path+'motifs/valid_'+contacts+'_out_node1_3_0.0001/mat.npy'\n",
    "X_valid_node2 = path+'motifs/valid_'+contacts+'_out_node2_3_0.0001/mat.npy'\n",
    "\n",
    "y_train = get_labels(path+'y_train_thres_10.npy')\n",
    "y_test = get_labels(path+'y_test_thres_10.npy')\n",
    "y_valid = get_labels(path+'y_valid_thres_10.npy')\n",
    "\n",
    "X_train=concat_motifs([X_train_node1, X_train_node2])\n",
    "X_test=concat_motifs([X_test_node1, X_test_node2])\n",
    "X_valid=concat_motifs([X_valid_node1, X_valid_node2])"
   ]
  },
  {
   "cell_type": "code",
   "execution_count": 3,
   "metadata": {
    "collapsed": false
   },
   "outputs": [
    {
     "data": {
      "text/plain": [
       "(4824, 1, 1920, 2)"
      ]
     },
     "execution_count": 3,
     "metadata": {},
     "output_type": "execute_result"
    }
   ],
   "source": [
    "X_train.shape"
   ]
  },
  {
   "cell_type": "code",
   "execution_count": 4,
   "metadata": {
    "collapsed": false
   },
   "outputs": [],
   "source": [
    "X_train_normalized, X_valid_normalized, X_test_normalized = normalize_features(X_train, X_valid, X_test)"
   ]
  },
  {
   "cell_type": "code",
   "execution_count": 5,
   "metadata": {
    "collapsed": false
   },
   "outputs": [],
   "source": [
    "X_train_pairs = X_train_normalized.reshape(X_train_normalized.shape[0],X_train_normalized.shape[2]*X_train_normalized.shape[3])\n",
    "X_valid_pairs = X_valid_normalized.reshape(X_valid_normalized.shape[0],X_valid_normalized.shape[2]*X_valid_normalized.shape[3])\n",
    "X_test_pairs = X_test_normalized.reshape(X_test_normalized.shape[0],X_test_normalized.shape[2]*X_test_normalized.shape[3])"
   ]
  },
  {
   "cell_type": "code",
   "execution_count": 6,
   "metadata": {
    "collapsed": false
   },
   "outputs": [
    {
     "data": {
      "text/plain": [
       "(4824, 3840)"
      ]
     },
     "execution_count": 6,
     "metadata": {},
     "output_type": "execute_result"
    }
   ],
   "source": [
    "X_train_pairs.shape"
   ]
  },
  {
   "cell_type": "markdown",
   "metadata": {},
   "source": [
    "# Random Forest"
   ]
  },
  {
   "cell_type": "code",
   "execution_count": 7,
   "metadata": {
    "collapsed": true
   },
   "outputs": [],
   "source": [
    "rf = RandomForest()"
   ]
  },
  {
   "cell_type": "markdown",
   "metadata": {},
   "source": [
    "### with motifs only"
   ]
  },
  {
   "cell_type": "code",
   "execution_count": 8,
   "metadata": {
    "collapsed": false
   },
   "outputs": [
    {
     "name": "stderr",
     "output_type": "stream",
     "text": [
      "/users/mtaranov/LongRange3D/models_binnedFeat.py:231: DataConversionWarning: A column-vector y was passed when a 1d array was expected. Please change the shape of y to (n_samples,), for example using ravel().\n",
      "  self.classifier.fit(X, y)\n"
     ]
    },
    {
     "name": "stdout",
     "output_type": "stream",
     "text": [
      "On Test:\n",
      "Balanced Accuracy: 72.74%\t auROC: 0.811\t auPRC: 0.822\t auPRG: 0.644\n",
      "Recall at 5%|10%|20% FDR: 16.8%|35.8%|62.6%\t Num Positives: 906\t Num Negatives: 906\t \n",
      "\n",
      "On Train:\n",
      "Balanced Accuracy: 100.00%\t auROC: 1.000\t auPRC: 1.000\t auPRG: 1.000\n",
      "Recall at 5%|10%|20% FDR: 100.0%|100.0%|100.0%\t Num Positives: 2412\t Num Negatives: 2412\t \n",
      "\n"
     ]
    }
   ],
   "source": [
    "rf.train(X_train_pairs, y_train)\n",
    "preds_test = rf.predict(X_test_pairs)\n",
    "preds_train = rf.predict(X_train_pairs)\n",
    "print ('On Test:\\n{}\\n'.format(ClassificationResult(y_test, preds_test)))\n",
    "print ('On Train:\\n{}\\n'.format(ClassificationResult(y_train, preds_train)))"
   ]
  },
  {
   "cell_type": "code",
   "execution_count": 9,
   "metadata": {
    "collapsed": true
   },
   "outputs": [],
   "source": [
    "scores=rf.ImportanceSelect()"
   ]
  },
  {
   "cell_type": "code",
   "execution_count": 10,
   "metadata": {
    "collapsed": false
   },
   "outputs": [
    {
     "data": {
      "text/plain": [
       "(3840,)"
      ]
     },
     "execution_count": 10,
     "metadata": {},
     "output_type": "execute_result"
    }
   ],
   "source": [
    "scores.shape"
   ]
  },
  {
   "cell_type": "code",
   "execution_count": 11,
   "metadata": {
    "collapsed": true
   },
   "outputs": [],
   "source": [
    "motif_names=np.loadtxt('/users/mtaranov/datasets_3d/dist_matched_PE/motifs/train_PE_out_btw_nodes_3_0.0001/motif_names.txt', dtype=str, delimiter='/')[:,6:].reshape(640,)\n",
    "top_3_hits_names=[]\n",
    "for i in motif_names:\n",
    "    for j in range(3):\n",
    "        top_3_hits_names.append(i)\n",
    "top_3_hits_names = np.array(top_3_hits_names)"
   ]
  },
  {
   "cell_type": "code",
   "execution_count": 12,
   "metadata": {
    "collapsed": true
   },
   "outputs": [],
   "source": [
    "score_per_feature_node1=scores[0:3840:2]"
   ]
  },
  {
   "cell_type": "code",
   "execution_count": 13,
   "metadata": {
    "collapsed": true
   },
   "outputs": [],
   "source": [
    "score_per_feature_node2=scores[1:3841:2]"
   ]
  },
  {
   "cell_type": "code",
   "execution_count": 14,
   "metadata": {
    "collapsed": true
   },
   "outputs": [],
   "source": [
    "RF_Importance_Motifs_node1=top_3_hits_names[score_per_feature_node1.argsort()[::-1]]"
   ]
  },
  {
   "cell_type": "code",
   "execution_count": 15,
   "metadata": {
    "collapsed": true
   },
   "outputs": [],
   "source": [
    "RF_Importance_Motifs_node2=top_3_hits_names[score_per_feature_node2.argsort()[::-1]]"
   ]
  },
  {
   "cell_type": "code",
   "execution_count": 16,
   "metadata": {
    "collapsed": false
   },
   "outputs": [
    {
     "name": "stdout",
     "output_type": "stream",
     "text": [
      "(array([  0,  15, 980]),)\n",
      "(array([  1,  11, 764]),)\n"
     ]
    }
   ],
   "source": [
    "print np.where(RF_Importance_Motifs_node1=='CTCF_HUMAN')\n",
    "print np.where(RF_Importance_Motifs_node1=='CTCFL_HUMAN')"
   ]
  },
  {
   "cell_type": "code",
   "execution_count": 19,
   "metadata": {
    "collapsed": false
   },
   "outputs": [
    {
     "name": "stdout",
     "output_type": "stream",
     "text": [
      "(array([133, 206, 840]),)\n",
      "(array([ 595,  771, 1399]),)\n"
     ]
    }
   ],
   "source": [
    "print np.where(RF_Importance_Motifs_node2=='CTCF_HUMAN')\n",
    "print np.where(RF_Importance_Motifs_node2=='CTCFL_HUMAN')"
   ]
  },
  {
   "cell_type": "code",
   "execution_count": 17,
   "metadata": {
    "collapsed": false
   },
   "outputs": [
    {
     "data": {
      "text/plain": [
       "array(['CTCF_HUMAN', 'CTCFL_HUMAN', 'ONEC2_HUMAN', 'FOXG1_HUMAN',\n",
       "       'FOXG1_HUMAN', 'IRF5_HUMAN', 'IRF8_HUMAN', 'ZN713_HUMAN',\n",
       "       'NR2E3_HUMAN', 'THA_HUMAN', 'NR2E3_HUMAN', 'CTCFL_HUMAN',\n",
       "       'BC11A_HUMAN', 'ONEC2_HUMAN', 'BARX2_HUMAN', 'CTCF_HUMAN',\n",
       "       'ARI3A_HUMAN', 'ZN713_HUMAN', 'SP4_HUMAN', 'DLX1_HUMAN',\n",
       "       'FOXL1_HUMAN', 'IRF1_HUMAN', 'ETV2_HUMAN', 'NFAT5_HUMAN',\n",
       "       'FOXJ3_HUMAN', 'PRDM1_HUMAN', 'IRF7_HUMAN', 'IRF5_HUMAN',\n",
       "       'FOXD2_HUMAN', 'PO4F3_HUMAN', 'ARI3A_HUMAN', 'IRF1_HUMAN',\n",
       "       'FOXO1_HUMAN', 'NKX21_HUMAN', 'FOXJ3_HUMAN', 'DLX1_HUMAN',\n",
       "       'BC11A_HUMAN', 'IRF5_HUMAN', 'EGR1_HUMAN', 'PO4F3_HUMAN',\n",
       "       'FUBP1_HUMAN', 'PO3F3_HUMAN', 'OTX2_HUMAN', 'MAZ_HUMAN',\n",
       "       'HIC2_HUMAN', 'THAP1_HUMAN', 'EHF_HUMAN', 'IRF4_HUMAN',\n",
       "       'CPEB1_HUMAN', 'PLAG1_HUMAN', 'HXD9_HUMAN', 'FOXL1_HUMAN',\n",
       "       'EGR1_HUMAN', 'PO3F3_HUMAN', 'SP2_HUMAN', 'MYOG_HUMAN',\n",
       "       'SOX17_HUMAN', 'FOXG1_HUMAN', 'HXC10_HUMAN', 'IRF3_HUMAN',\n",
       "       'FOXF1_HUMAN', 'MAZ_HUMAN', 'BC11A_HUMAN', 'LHX2_HUMAN',\n",
       "       'SP2_HUMAN', 'ZSC16_HUMAN', 'SP4_HUMAN', 'HXA11_HUMAN',\n",
       "       'SOX21_HUMAN', 'MBD2_HUMAN', 'SPI1_HUMAN', 'PRDM1_HUMAN',\n",
       "       'HXC10_HUMAN', 'NR2F6_HUMAN', 'PO5F1_HUMAN', 'TFDP1_HUMAN',\n",
       "       'FOXM1_HUMAN', 'PURA_HUMAN', 'TGIF2_HUMAN', 'TBX2_HUMAN',\n",
       "       'RXRB_HUMAN', 'TFAP4_HUMAN', 'PO4F1_HUMAN', 'SOX11_HUMAN',\n",
       "       'DLX5_HUMAN', 'STAT6_HUMAN', 'ARI3A_HUMAN', 'COE1_HUMAN',\n",
       "       'IKZF1_HUMAN', 'ZN384_HUMAN', 'NR2C1_HUMAN', 'CPEB1_HUMAN',\n",
       "       'STAT2_HUMAN', 'RFX5_HUMAN', 'MAZ_HUMAN', 'ZFX_HUMAN',\n",
       "       'NANOG_HUMAN', 'HTF4_HUMAN', 'TBX15_HUMAN', 'MEF2D_HUMAN'], \n",
       "      dtype='|S11')"
      ]
     },
     "execution_count": 17,
     "metadata": {},
     "output_type": "execute_result"
    }
   ],
   "source": [
    "RF_Importance_Motifs_node1[:100]"
   ]
  },
  {
   "cell_type": "code",
   "execution_count": 18,
   "metadata": {
    "collapsed": false
   },
   "outputs": [
    {
     "data": {
      "text/plain": [
       "array(['CPEB1_HUMAN', 'TBX2_HUMAN', 'HXC10_HUMAN', 'ARI3A_HUMAN',\n",
       "       'HXC10_HUMAN', 'THA_HUMAN', 'EVX1_HUMAN', 'HXC6_HUMAN',\n",
       "       'LMX1B_HUMAN', 'BC11A_HUMAN', 'MEF2D_HUMAN', 'TBX5_HUMAN',\n",
       "       'PIT1_HUMAN', 'MAZ_HUMAN', 'NANOG_HUMAN', 'ZN713_HUMAN',\n",
       "       'PO4F1_HUMAN', 'SOX15_HUMAN', 'MEF2A_HUMAN', 'HXC10_HUMAN',\n",
       "       'ZN713_HUMAN', 'VDR_HUMAN', 'HNF1A_HUMAN', 'AP2B_HUMAN',\n",
       "       'ONEC2_HUMAN', 'FOXG1_HUMAN', 'FOXL1_HUMAN', 'FOXB1_HUMAN',\n",
       "       'FOXA2_HUMAN', 'FOXG1_HUMAN', 'RUNX2_HUMAN', 'CPEB1_HUMAN',\n",
       "       'COE1_HUMAN', 'TFDP1_HUMAN', 'TFDP1_HUMAN', 'ETV2_HUMAN',\n",
       "       'PRGR_HUMAN', 'THA_HUMAN', 'KLF16_HUMAN', 'BSH_HUMAN',\n",
       "       'P5F1B_HUMAN', 'LMX1A_HUMAN', 'PIT1_HUMAN', 'PO3F4_HUMAN',\n",
       "       'GSX1_HUMAN', 'TBX1_HUMAN', 'AIRE_HUMAN', 'COT2_HUMAN',\n",
       "       'FOXA3_HUMAN', 'RFX5_HUMAN', 'FUBP1_HUMAN', 'PO3F3_HUMAN',\n",
       "       'HMX1_HUMAN', 'SP4_HUMAN', 'THB_HUMAN', 'EVI1_HUMAN', 'ZN148_HUMAN',\n",
       "       'FOXM1_HUMAN', 'THAP1_HUMAN', 'FOXO6_HUMAN', 'IRF8_HUMAN',\n",
       "       'NR2E3_HUMAN', 'MAZ_HUMAN', 'FOXD2_HUMAN', 'MNX1_HUMAN',\n",
       "       'ZFX_HUMAN', 'MYOG_HUMAN', 'IRF5_HUMAN', 'LMX1A_HUMAN',\n",
       "       'ETV5_HUMAN', 'HXB7_HUMAN', 'ZN713_HUMAN', 'FOXO3_HUMAN',\n",
       "       'SP1_HUMAN', 'TFDP1_HUMAN', 'EGR1_HUMAN', 'PRDM1_HUMAN',\n",
       "       'FOXJ3_HUMAN', 'PO4F3_HUMAN', 'FUBP1_HUMAN', 'KLF15_HUMAN',\n",
       "       'SP3_HUMAN', 'ZBTB4_HUMAN', 'ESR1_HUMAN', 'TBX15_HUMAN',\n",
       "       'PO4F3_HUMAN', 'SPIB_HUMAN', 'EGR4_HUMAN', 'NR1H4_HUMAN',\n",
       "       'TCF7_HUMAN', 'ONEC2_HUMAN', 'TEAD4_HUMAN', 'AP2A_HUMAN',\n",
       "       'TEAD1_HUMAN', 'NFIA_HUMAN', 'TF7L2_HUMAN', 'SUH_HUMAN',\n",
       "       'CPEB1_HUMAN', 'MEF2C_HUMAN', 'ETV1_HUMAN'], \n",
       "      dtype='|S11')"
      ]
     },
     "execution_count": 18,
     "metadata": {},
     "output_type": "execute_result"
    }
   ],
   "source": [
    "RF_Importance_Motifs_node2[:100]"
   ]
  },
  {
   "cell_type": "code",
   "execution_count": null,
   "metadata": {
    "collapsed": true
   },
   "outputs": [],
   "source": []
  }
 ],
 "metadata": {
  "anaconda-cloud": {},
  "kernelspec": {
   "display_name": "Python [default]",
   "language": "python",
   "name": "python2"
  },
  "language_info": {
   "codemirror_mode": {
    "name": "ipython",
    "version": 2
   },
   "file_extension": ".py",
   "mimetype": "text/x-python",
   "name": "python",
   "nbconvert_exporter": "python",
   "pygments_lexer": "ipython2",
   "version": "2.7.12"
  }
 },
 "nbformat": 4,
 "nbformat_minor": 0
}
