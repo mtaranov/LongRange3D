{
 "cells": [
  {
   "cell_type": "code",
   "execution_count": 5,
   "metadata": {
    "collapsed": false
   },
   "outputs": [
    {
     "name": "stdout",
     "output_type": "stream",
     "text": [
      "The autoreload extension is already loaded. To reload it, use:\n",
      "  %reload_ext autoreload\n"
     ]
    }
   ],
   "source": [
    "%matplotlib inline\n",
    "%load_ext autoreload\n",
    "%autoreload 2\n",
    "\n",
    "import sys\n",
    "import numpy as np\n",
    "import matplotlib.pyplot as plt\n",
    "import pickle\n",
    "from sklearn.preprocessing import MinMaxScaler, StandardScaler\n",
    "sys.path.append('/users/mtaranov/LongRange3D/')\n",
    "from models_motif import LongRangeDNN\n",
    "from utils import normalize_features_sampl_by_f, concat_motifs, get_features, get_labels, subsample_data, normalize_features, reconstruct_2d, printMatrix, binarize, zscore, get_2D, plot_prediction, change_scale\n",
    "#from sklearn.preprocessing import MinMaxScaler, StandardScaler"
   ]
  },
  {
   "cell_type": "code",
   "execution_count": 2,
   "metadata": {
    "collapsed": false
   },
   "outputs": [],
   "source": [
    "contacts='PE'\n",
    "path='/users/mtaranov/datasets_3d/dist_matched_'+contacts+'/'\n",
    "\n",
    "X_train_node1 = path+'motifs/train_'+contacts+'_out_node1_3_0.0001/mat.npy'\n",
    "X_train_node2 = path+'motifs/train_'+contacts+'_out_node2_3_0.0001/mat.npy'\n",
    "X_train_window = path+'motifs/train_'+contacts+'_out_btw_nodes_3_0.0001/mat.npy'\n",
    "\n",
    "\n",
    "X_test_node1 = path+'motifs/test_'+contacts+'_out_node1_3_0.0001/mat.npy'\n",
    "X_test_node2 = path+'motifs/test_'+contacts+'_out_node2_3_0.0001/mat.npy'\n",
    "X_test_window = path+'motifs/test_'+contacts+'_out_btw_nodes_3_0.0001/mat.npy'\n",
    "\n",
    "X_valid_node1 = path+'motifs/valid_'+contacts+'_out_node1_3_0.0001/mat.npy'\n",
    "X_valid_node2 = path+'motifs/valid_'+contacts+'_out_node2_3_0.0001/mat.npy'\n",
    "X_valid_window = path+'motifs/valid_'+contacts+'_out_btw_nodes_3_0.0001/mat.npy'\n",
    "\n",
    "y_train = get_labels(path+'y_train_thres_10.npy')\n",
    "y_test = get_labels(path+'y_test_thres_10.npy')\n",
    "y_valid = get_labels(path+'y_valid_thres_10.npy')\n",
    "\n",
    "X_train=concat_motifs([X_train_node1, X_train_node2, X_train_window])\n",
    "X_test=concat_motifs([X_test_node1, X_test_node2, X_test_window])\n",
    "X_valid=concat_motifs([X_valid_node1, X_valid_node2, X_valid_window])"
   ]
  },
  {
   "cell_type": "code",
   "execution_count": 3,
   "metadata": {
    "collapsed": false
   },
   "outputs": [],
   "source": [
    "X_train_pairs = X_train.reshape(X_train.shape[0],X_train.shape[2]*X_train.shape[3])\n",
    "X_valid_pairs = X_valid.reshape(X_valid.shape[0],X_valid.shape[2]*X_valid.shape[3])\n",
    "X_test_pairs = X_test.reshape(X_test.shape[0],X_test.shape[2]*X_test.shape[3])"
   ]
  },
  {
   "cell_type": "code",
   "execution_count": 6,
   "metadata": {
    "collapsed": false
   },
   "outputs": [],
   "source": [
    "X_train_normalized, X_valid_normalized, X_test_normalized = normalize_features_sampl_by_f(X_train_pairs, X_valid_pairs, X_test_pairs)"
   ]
  },
  {
   "cell_type": "code",
   "execution_count": 7,
   "metadata": {
    "collapsed": false
   },
   "outputs": [
    {
     "data": {
      "text/plain": [
       "(4824, 5760)"
      ]
     },
     "execution_count": 7,
     "metadata": {},
     "output_type": "execute_result"
    }
   ],
   "source": [
    "X_train_normalized.shape"
   ]
  },
  {
   "cell_type": "markdown",
   "metadata": {},
   "source": [
    "# from motifs"
   ]
  },
  {
   "cell_type": "code",
   "execution_count": 8,
   "metadata": {
    "collapsed": false
   },
   "outputs": [
    {
     "name": "stderr",
     "output_type": "stream",
     "text": [
      "/users/mtaranov/local/anaconda2/lib/python2.7/site-packages/theano/tensor/basic.py:2146: UserWarning: theano.tensor.round() changed its default from `half_away_from_zero` to `half_to_even` to have the same default as NumPy. Use the Theano flag `warn.round=False` to disable this warning.\n",
      "  \"theano.tensor.round() changed its default from\"\n"
     ]
    },
    {
     "name": "stdout",
     "output_type": "stream",
     "text": [
      "Training model...\n",
      "Train on 4824 samples, validate on 2872 samples\n",
      "Epoch 1/100\n",
      "4750/4824 [============================>.] - ETA: 0s - loss: 2.7890Epoch 0: validation loss: 0.571\n",
      "Balanced Accuracy: 74.30%\t auROC: 0.817\t auPRC: 0.801\t auPRG: 0.662\n",
      "Recall at 5%|10%|20% FDR: 0.3%|25.1%|61.6%\t Num Positives: 1436\t Num Negatives: 1436\t \n",
      "\n",
      "4824/4824 [==============================] - 1s - loss: 2.7638 - val_loss: 0.5708\n",
      "Epoch 2/100\n",
      "4750/4824 [============================>.] - ETA: 0s - loss: 0.4896Epoch 1: validation loss: 0.481\n",
      "Balanced Accuracy: 77.65%\t auROC: 0.860\t auPRC: 0.860\t auPRG: 0.746\n",
      "Recall at 5%|10%|20% FDR: 16.9%|49.2%|73.5%\t Num Positives: 1436\t Num Negatives: 1436\t \n",
      "\n",
      "4824/4824 [==============================] - 1s - loss: 0.4906 - val_loss: 0.4809\n",
      "Epoch 3/100\n",
      "4750/4824 [============================>.] - ETA: 0s - loss: 0.1986Epoch 2: validation loss: 0.501\n",
      "Balanced Accuracy: 78.45%\t auROC: 0.875\t auPRC: 0.867\t auPRG: 0.785\n",
      "Recall at 5%|10%|20% FDR: 0.8%|54.7%|81.4%\t Num Positives: 1436\t Num Negatives: 1436\t \n",
      "\n",
      "4824/4824 [==============================] - 1s - loss: 0.1976 - val_loss: 0.5010\n",
      "Epoch 4/100\n",
      "4750/4824 [============================>.] - ETA: 0s - loss: 0.0828Epoch 3: validation loss: 0.469\n",
      "Balanced Accuracy: 81.96%\t auROC: 0.887\t auPRC: 0.884\t auPRG: 0.814\n",
      "Recall at 5%|10%|20% FDR: 31.9%|64.7%|84.2%\t Num Positives: 1436\t Num Negatives: 1436\t \n",
      "\n",
      "4824/4824 [==============================] - 1s - loss: 0.0824 - val_loss: 0.4695\n",
      "Epoch 5/100\n",
      "4750/4824 [============================>.] - ETA: 0s - loss: 0.0428Epoch 4: validation loss: 0.493\n",
      "Balanced Accuracy: 81.96%\t auROC: 0.886\t auPRC: 0.883\t auPRG: 0.813\n",
      "Recall at 5%|10%|20% FDR: 32.7%|64.3%|83.2%\t Num Positives: 1436\t Num Negatives: 1436\t \n",
      "\n",
      "4824/4824 [==============================] - 1s - loss: 0.0427 - val_loss: 0.4935\n",
      "Epoch 6/100\n",
      "4750/4824 [============================>.] - ETA: 0s - loss: 0.0270Epoch 5: validation loss: 0.498\n",
      "Balanced Accuracy: 82.03%\t auROC: 0.888\t auPRC: 0.884\t auPRG: 0.816\n",
      "Recall at 5%|10%|20% FDR: 33.4%|67.0%|84.1%\t Num Positives: 1436\t Num Negatives: 1436\t \n",
      "\n",
      "4824/4824 [==============================] - 1s - loss: 0.0269 - val_loss: 0.4975\n",
      "Epoch 7/100\n",
      "4750/4824 [============================>.] - ETA: 0s - loss: 0.0193Epoch 6: validation loss: 0.505\n",
      "Balanced Accuracy: 81.96%\t auROC: 0.889\t auPRC: 0.886\t auPRG: 0.819\n",
      "Recall at 5%|10%|20% FDR: 35.7%|65.5%|84.5%\t Num Positives: 1436\t Num Negatives: 1436\t \n",
      "\n",
      "4824/4824 [==============================] - 1s - loss: 0.0193 - val_loss: 0.5052\n",
      "Epoch 8/100\n",
      "4750/4824 [============================>.] - ETA: 0s - loss: 0.0147Epoch 7: validation loss: 0.509\n",
      "Balanced Accuracy: 82.00%\t auROC: 0.890\t auPRC: 0.885\t auPRG: 0.821\n",
      "Recall at 5%|10%|20% FDR: 37.1%|65.8%|84.2%\t Num Positives: 1436\t Num Negatives: 1436\t \n",
      "\n",
      "4824/4824 [==============================] - 1s - loss: 0.0147 - val_loss: 0.5088\n",
      "Epoch 9/100\n",
      "4750/4824 [============================>.] - ETA: 0s - loss: 0.0120Epoch 8: validation loss: 0.516\n",
      "Balanced Accuracy: 81.62%\t auROC: 0.890\t auPRC: 0.886\t auPRG: 0.822\n",
      "Recall at 5%|10%|20% FDR: 37.4%|65.9%|84.5%\t Num Positives: 1436\t Num Negatives: 1436\t \n",
      "\n",
      "4824/4824 [==============================] - 1s - loss: 0.0119 - val_loss: 0.5163\n",
      "Epoch 10/100\n",
      "4750/4824 [============================>.] - ETA: 0s - loss: 0.0096Epoch 9: validation loss: 0.529\n",
      "Balanced Accuracy: 81.82%\t auROC: 0.890\t auPRC: 0.886\t auPRG: 0.821\n",
      "Recall at 5%|10%|20% FDR: 39.3%|66.0%|84.7%\t Num Positives: 1436\t Num Negatives: 1436\t \n",
      "\n",
      "4824/4824 [==============================] - 1s - loss: 0.0096 - val_loss: 0.5292\n",
      "Epoch 11/100\n",
      "4750/4824 [============================>.] - ETA: 0s - loss: 0.0080Epoch 10: validation loss: 0.529\n",
      "Balanced Accuracy: 81.89%\t auROC: 0.891\t auPRC: 0.887\t auPRG: 0.823\n",
      "Recall at 5%|10%|20% FDR: 39.5%|65.5%|84.5%\t Num Positives: 1436\t Num Negatives: 1436\t \n",
      "\n",
      "4824/4824 [==============================] - 1s - loss: 0.0080 - val_loss: 0.5294\n",
      "Epoch 12/100\n",
      "4750/4824 [============================>.] - ETA: 0s - loss: 0.0067Epoch 11: validation loss: 0.540\n",
      "Balanced Accuracy: 81.96%\t auROC: 0.891\t auPRC: 0.887\t auPRG: 0.823\n",
      "Recall at 5%|10%|20% FDR: 39.9%|66.1%|84.7%\t Num Positives: 1436\t Num Negatives: 1436\t \n",
      "\n",
      "4824/4824 [==============================] - 1s - loss: 0.0067 - val_loss: 0.5404\n",
      "Epoch 13/100\n",
      "4750/4824 [============================>.] - ETA: 0s - loss: 0.0057Epoch 12: validation loss: 0.544\n",
      "Balanced Accuracy: 81.69%\t auROC: 0.892\t auPRC: 0.888\t auPRG: 0.823\n",
      "Recall at 5%|10%|20% FDR: 40.1%|66.1%|84.3%\t Num Positives: 1436\t Num Negatives: 1436\t \n",
      "\n",
      "4824/4824 [==============================] - 1s - loss: 0.0057 - val_loss: 0.5438\n",
      "Epoch 14/100\n",
      "4750/4824 [============================>.] - ETA: 0s - loss: 0.0050Epoch 13: validation loss: 0.554\n",
      "Balanced Accuracy: 81.82%\t auROC: 0.892\t auPRC: 0.887\t auPRG: 0.823\n",
      "Recall at 5%|10%|20% FDR: 40.0%|66.4%|84.5%\t Num Positives: 1436\t Num Negatives: 1436\t \n",
      "\n",
      "4824/4824 [==============================] - 1s - loss: 0.0050 - val_loss: 0.5536\n",
      "Epoch 15/100\n",
      "4750/4824 [============================>.] - ETA: 0s - loss: 0.0043Epoch 14: validation loss: 0.558\n",
      "Balanced Accuracy: 81.58%\t auROC: 0.892\t auPRC: 0.888\t auPRG: 0.824\n",
      "Recall at 5%|10%|20% FDR: 40.5%|66.1%|84.8%\t Num Positives: 1436\t Num Negatives: 1436\t \n",
      "\n",
      "4824/4824 [==============================] - 1s - loss: 0.0044 - val_loss: 0.5578\n",
      "Epoch 16/100\n",
      "4750/4824 [============================>.] - ETA: 0s - loss: 0.0038Epoch 15: validation loss: 0.563\n",
      "Balanced Accuracy: 81.79%\t auROC: 0.892\t auPRC: 0.888\t auPRG: 0.824\n",
      "Recall at 5%|10%|20% FDR: 41.5%|66.6%|84.3%\t Num Positives: 1436\t Num Negatives: 1436\t \n",
      "\n",
      "4824/4824 [==============================] - 1s - loss: 0.0038 - val_loss: 0.5630\n",
      "Epoch 17/100\n",
      "4750/4824 [============================>.] - ETA: 0s - loss: 0.0034Epoch 16: validation loss: 0.568\n",
      "Balanced Accuracy: 81.82%\t auROC: 0.892\t auPRC: 0.888\t auPRG: 0.824\n",
      "Recall at 5%|10%|20% FDR: 41.9%|65.6%|84.5%\t Num Positives: 1436\t Num Negatives: 1436\t \n",
      "\n",
      "4824/4824 [==============================] - 1s - loss: 0.0034 - val_loss: 0.5683\n",
      "Epoch 18/100\n",
      "4750/4824 [============================>.] - ETA: 0s - loss: 0.0030Epoch 17: validation loss: 0.574\n",
      "Balanced Accuracy: 81.75%\t auROC: 0.892\t auPRC: 0.888\t auPRG: 0.825\n",
      "Recall at 5%|10%|20% FDR: 42.8%|66.8%|84.3%\t Num Positives: 1436\t Num Negatives: 1436\t \n",
      "\n",
      "4824/4824 [==============================] - 1s - loss: 0.0030 - val_loss: 0.5736\n",
      "Epoch 19/100\n",
      "4750/4824 [============================>.] - ETA: 0s - loss: 0.0027Epoch 18: validation loss: 0.582\n",
      "Balanced Accuracy: 81.79%\t auROC: 0.892\t auPRC: 0.888\t auPRG: 0.824\n",
      "Recall at 5%|10%|20% FDR: 42.8%|66.6%|84.5%\t Num Positives: 1436\t Num Negatives: 1436\t \n",
      "\n",
      "4824/4824 [==============================] - 1s - loss: 0.0027 - val_loss: 0.5822\n",
      "Epoch 20/100\n",
      "4750/4824 [============================>.] - ETA: 0s - loss: 0.0024Epoch 19: validation loss: 0.581\n",
      "Balanced Accuracy: 81.75%\t auROC: 0.893\t auPRC: 0.889\t auPRG: 0.825\n",
      "Recall at 5%|10%|20% FDR: 42.4%|66.4%|84.3%\t Num Positives: 1436\t Num Negatives: 1436\t \n",
      "\n",
      "4824/4824 [==============================] - 1s - loss: 0.0024 - val_loss: 0.5815\n",
      "Epoch 21/100\n",
      "4750/4824 [============================>.] - ETA: 0s - loss: 0.0022Epoch 20: validation loss: 0.589\n",
      "Balanced Accuracy: 81.86%\t auROC: 0.893\t auPRC: 0.889\t auPRG: 0.825\n",
      "Recall at 5%|10%|20% FDR: 43.2%|65.7%|84.3%\t Num Positives: 1436\t Num Negatives: 1436\t \n",
      "\n",
      "4824/4824 [==============================] - 1s - loss: 0.0022 - val_loss: 0.5892\n",
      "Epoch 22/100\n",
      "4750/4824 [============================>.] - ETA: 0s - loss: 0.0020Epoch 21: validation loss: 0.593\n",
      "Balanced Accuracy: 81.86%\t auROC: 0.893\t auPRC: 0.889\t auPRG: 0.825\n",
      "Recall at 5%|10%|20% FDR: 43.2%|65.9%|84.4%\t Num Positives: 1436\t Num Negatives: 1436\t \n",
      "\n",
      "4824/4824 [==============================] - 1s - loss: 0.0020 - val_loss: 0.5928\n",
      "Epoch 23/100\n",
      "4750/4824 [============================>.] - ETA: 0s - loss: 0.0018Epoch 22: validation loss: 0.599\n",
      "Balanced Accuracy: 81.86%\t auROC: 0.893\t auPRC: 0.889\t auPRG: 0.825\n",
      "Recall at 5%|10%|20% FDR: 43.5%|66.1%|84.3%\t Num Positives: 1436\t Num Negatives: 1436\t \n",
      "\n",
      "4824/4824 [==============================] - 1s - loss: 0.0018 - val_loss: 0.5990\n",
      "Epoch 24/100\n",
      "4750/4824 [============================>.] - ETA: 0s - loss: 0.0017Epoch 23: validation loss: 0.603\n",
      "Balanced Accuracy: 81.86%\t auROC: 0.893\t auPRC: 0.889\t auPRG: 0.826\n",
      "Recall at 5%|10%|20% FDR: 43.7%|66.6%|84.3%\t Num Positives: 1436\t Num Negatives: 1436\t \n",
      "\n",
      "4824/4824 [==============================] - 1s - loss: 0.0016 - val_loss: 0.6030\n",
      "Epoch 25/100\n",
      "4750/4824 [============================>.] - ETA: 0s - loss: 0.0015Epoch 24: validation loss: 0.608\n",
      "Balanced Accuracy: 81.86%\t auROC: 0.893\t auPRC: 0.889\t auPRG: 0.826\n",
      "Recall at 5%|10%|20% FDR: 44.1%|66.5%|84.3%\t Num Positives: 1436\t Num Negatives: 1436\t \n",
      "\n",
      "4824/4824 [==============================] - 1s - loss: 0.0015 - val_loss: 0.6077\n"
     ]
    }
   ],
   "source": [
    "from models_motif import LongRangeDNN_FC\n",
    "dnn_normalized = LongRangeDNN_FC(num_features=5760, use_deep_CNN=True)\n",
    "validation_data = (X_valid_normalized, y_valid)\n",
    "dnn_normalized.train(X_train_normalized, y_train, validation_data)"
   ]
  },
  {
   "cell_type": "code",
   "execution_count": 9,
   "metadata": {
    "collapsed": false
   },
   "outputs": [
    {
     "name": "stdout",
     "output_type": "stream",
     "text": [
      "Balanced Accuracy: 82.12%\t auROC: 0.900\t auPRC: 0.906\t auPRG: 0.842\n",
      "Recall at 5%|10%|20% FDR: 58.2%|71.1%|84.3%\t Num Positives: 906\t Num Negatives: 906\t \n",
      "Balanced Accuracy: 100.00%\t auROC: 1.000\t auPRC: 1.000\t auPRG: 1.000\n",
      "Recall at 5%|10%|20% FDR: 100.0%|100.0%|100.0%\t Num Positives: 2412\t Num Negatives: 2412\t \n",
      "Balanced Accuracy: 81.86%\t auROC: 0.893\t auPRC: 0.889\t auPRG: 0.826\n",
      "Recall at 5%|10%|20% FDR: 44.1%|66.5%|84.3%\t Num Positives: 1436\t Num Negatives: 1436\t \n"
     ]
    }
   ],
   "source": [
    "print(dnn_normalized.test(X_test_normalized, y_test))\n",
    "print(dnn_normalized.test(X_train_normalized, y_train))\n",
    "print(dnn_normalized.test(X_valid_normalized, y_valid))"
   ]
  },
  {
   "cell_type": "code",
   "execution_count": null,
   "metadata": {
    "collapsed": true
   },
   "outputs": [],
   "source": []
  }
 ],
 "metadata": {
  "anaconda-cloud": {},
  "kernelspec": {
   "display_name": "Python [default]",
   "language": "python",
   "name": "python2"
  },
  "language_info": {
   "codemirror_mode": {
    "name": "ipython",
    "version": 2
   },
   "file_extension": ".py",
   "mimetype": "text/x-python",
   "name": "python",
   "nbconvert_exporter": "python",
   "pygments_lexer": "ipython2",
   "version": "2.7.12"
  }
 },
 "nbformat": 4,
 "nbformat_minor": 0
}
