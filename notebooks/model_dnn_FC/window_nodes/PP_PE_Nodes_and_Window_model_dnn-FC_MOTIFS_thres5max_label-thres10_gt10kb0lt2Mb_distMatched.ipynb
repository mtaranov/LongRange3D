{
 "cells": [
  {
   "cell_type": "code",
   "execution_count": 8,
   "metadata": {
    "collapsed": false
   },
   "outputs": [
    {
     "name": "stdout",
     "output_type": "stream",
     "text": [
      "The autoreload extension is already loaded. To reload it, use:\n",
      "  %reload_ext autoreload\n"
     ]
    }
   ],
   "source": [
    "%matplotlib inline\n",
    "%load_ext autoreload\n",
    "%autoreload 2\n",
    "\n",
    "import sys\n",
    "import numpy as np\n",
    "import matplotlib.pyplot as plt\n",
    "import pickle\n",
    "from sklearn.preprocessing import MinMaxScaler, StandardScaler\n",
    "sys.path.append('/users/mtaranov/LongRange3D/')\n",
    "from models_motif import LongRangeDNN\n",
    "from utils import normalize_features_sampl_by_f, concat_motifs, get_features, get_labels, subsample_data, normalize_features, reconstruct_2d, printMatrix, binarize, zscore, get_2D, plot_prediction, change_scale\n",
    "#from sklearn.preprocessing import MinMaxScaler, StandardScaler"
   ]
  },
  {
   "cell_type": "code",
   "execution_count": 9,
   "metadata": {
    "collapsed": false
   },
   "outputs": [],
   "source": [
    "contacts='PP_PE'\n",
    "path='/users/mtaranov/datasets_3d/dist_matched_'+contacts+'/'\n",
    "\n",
    "X_train_node1 = path+'motifs/train_'+contacts+'_out_node1_3_0.0001/mat.npy'\n",
    "X_train_node2 = path+'motifs/train_'+contacts+'_out_node2_3_0.0001/mat.npy'\n",
    "X_train_window = path+'motifs/train_'+contacts+'_out_btw_nodes_3_0.0001/mat.npy'\n",
    "\n",
    "\n",
    "X_test_node1 = path+'motifs/test_'+contacts+'_out_node1_3_0.0001/mat.npy'\n",
    "X_test_node2 = path+'motifs/test_'+contacts+'_out_node2_3_0.0001/mat.npy'\n",
    "X_test_window = path+'motifs/test_'+contacts+'_out_btw_nodes_3_0.0001/mat.npy'\n",
    "\n",
    "X_valid_node1 = path+'motifs/valid_'+contacts+'_out_node1_3_0.0001/mat.npy'\n",
    "X_valid_node2 = path+'motifs/valid_'+contacts+'_out_node2_3_0.0001/mat.npy'\n",
    "X_valid_window = path+'motifs/valid_'+contacts+'_out_btw_nodes_3_0.0001/mat.npy'\n",
    "\n",
    "y_train = get_labels(path+'y_train_thres_10.npy')\n",
    "y_test = get_labels(path+'y_test_thres_10.npy')\n",
    "y_valid = get_labels(path+'y_valid_thres_10.npy')\n",
    "\n",
    "X_train=concat_motifs([X_train_node1, X_train_node2, X_train_window])\n",
    "X_test=concat_motifs([X_test_node1, X_test_node2, X_test_window])\n",
    "X_valid=concat_motifs([X_valid_node1, X_valid_node2, X_valid_window])"
   ]
  },
  {
   "cell_type": "code",
   "execution_count": 10,
   "metadata": {
    "collapsed": false
   },
   "outputs": [],
   "source": [
    "X_train_pairs = X_train.reshape(X_train.shape[0],X_train.shape[2]*X_train.shape[3])\n",
    "X_valid_pairs = X_valid.reshape(X_valid.shape[0],X_valid.shape[2]*X_valid.shape[3])\n",
    "X_test_pairs = X_test.reshape(X_test.shape[0],X_test.shape[2]*X_test.shape[3])"
   ]
  },
  {
   "cell_type": "code",
   "execution_count": 11,
   "metadata": {
    "collapsed": false
   },
   "outputs": [],
   "source": [
    "X_train_normalized, X_valid_normalized, X_test_normalized = normalize_features_sampl_by_f(X_train_pairs, X_valid_pairs, X_test_pairs)"
   ]
  },
  {
   "cell_type": "code",
   "execution_count": 12,
   "metadata": {
    "collapsed": false
   },
   "outputs": [
    {
     "data": {
      "text/plain": [
       "(6130, 5760)"
      ]
     },
     "execution_count": 12,
     "metadata": {},
     "output_type": "execute_result"
    }
   ],
   "source": [
    "X_train_normalized.shape"
   ]
  },
  {
   "cell_type": "markdown",
   "metadata": {},
   "source": [
    "# from motifs"
   ]
  },
  {
   "cell_type": "code",
   "execution_count": 13,
   "metadata": {
    "collapsed": false
   },
   "outputs": [
    {
     "name": "stdout",
     "output_type": "stream",
     "text": [
      "Training model...\n",
      "Train on 6130 samples, validate on 3536 samples\n",
      "Epoch 1/100\n",
      "6000/6130 [============================>.] - ETA: 0s - loss: 2.7063Epoch 0: validation loss: 0.565\n",
      "Balanced Accuracy: 74.18%\t auROC: 0.819\t auPRC: 0.827\t auPRG: 0.660\n",
      "Recall at 5%|10%|20% FDR: 21.3%|34.3%|63.2%\t Num Positives: 1768\t Num Negatives: 1768\t \n",
      "\n",
      "6130/6130 [==============================] - 2s - loss: 2.6693 - val_loss: 0.5652\n",
      "Epoch 2/100\n",
      "6000/6130 [============================>.] - ETA: 0s - loss: 0.5321Epoch 1: validation loss: 0.446\n",
      "Balanced Accuracy: 79.78%\t auROC: 0.883\t auPRC: 0.887\t auPRG: 0.797\n",
      "Recall at 5%|10%|20% FDR: 41.7%|60.5%|81.2%\t Num Positives: 1768\t Num Negatives: 1768\t \n",
      "\n",
      "6130/6130 [==============================] - 2s - loss: 0.5324 - val_loss: 0.4458\n",
      "Epoch 3/100\n",
      "6000/6130 [============================>.] - ETA: 0s - loss: 0.2241Epoch 2: validation loss: 0.444\n",
      "Balanced Accuracy: 80.88%\t auROC: 0.895\t auPRC: 0.896\t auPRG: 0.826\n",
      "Recall at 5%|10%|20% FDR: 45.8%|69.3%|83.1%\t Num Positives: 1768\t Num Negatives: 1768\t \n",
      "\n",
      "6130/6130 [==============================] - 2s - loss: 0.2231 - val_loss: 0.4437\n",
      "Epoch 4/100\n",
      "6000/6130 [============================>.] - ETA: 0s - loss: 0.1057Epoch 3: validation loss: 0.426\n",
      "Balanced Accuracy: 81.76%\t auROC: 0.900\t auPRC: 0.904\t auPRG: 0.837\n",
      "Recall at 5%|10%|20% FDR: 51.8%|71.0%|84.8%\t Num Positives: 1768\t Num Negatives: 1768\t \n",
      "\n",
      "6130/6130 [==============================] - 2s - loss: 0.1057 - val_loss: 0.4260\n",
      "Epoch 5/100\n",
      "6000/6130 [============================>.] - ETA: 0s - loss: 0.0584Epoch 4: validation loss: 0.433\n",
      "Balanced Accuracy: 82.81%\t auROC: 0.905\t auPRC: 0.906\t auPRG: 0.847\n",
      "Recall at 5%|10%|20% FDR: 56.2%|72.3%|86.6%\t Num Positives: 1768\t Num Negatives: 1768\t \n",
      "\n",
      "6130/6130 [==============================] - 2s - loss: 0.0580 - val_loss: 0.4328\n",
      "Epoch 6/100\n",
      "6000/6130 [============================>.] - ETA: 0s - loss: 0.0387Epoch 5: validation loss: 0.436\n",
      "Balanced Accuracy: 82.75%\t auROC: 0.906\t auPRC: 0.908\t auPRG: 0.849\n",
      "Recall at 5%|10%|20% FDR: 55.7%|72.6%|86.7%\t Num Positives: 1768\t Num Negatives: 1768\t \n",
      "\n",
      "6130/6130 [==============================] - 2s - loss: 0.0385 - val_loss: 0.4364\n",
      "Epoch 7/100\n",
      "6000/6130 [============================>.] - ETA: 0s - loss: 0.0274Epoch 6: validation loss: 0.446\n",
      "Balanced Accuracy: 82.86%\t auROC: 0.906\t auPRC: 0.907\t auPRG: 0.849\n",
      "Recall at 5%|10%|20% FDR: 57.0%|72.6%|86.5%\t Num Positives: 1768\t Num Negatives: 1768\t \n",
      "\n",
      "6130/6130 [==============================] - 2s - loss: 0.0272 - val_loss: 0.4459\n",
      "Epoch 8/100\n",
      "6000/6130 [============================>.] - ETA: 0s - loss: 0.0218Epoch 7: validation loss: 0.448\n",
      "Balanced Accuracy: 83.06%\t auROC: 0.908\t auPRC: 0.909\t auPRG: 0.853\n",
      "Recall at 5%|10%|20% FDR: 55.1%|71.9%|87.2%\t Num Positives: 1768\t Num Negatives: 1768\t \n",
      "\n",
      "6130/6130 [==============================] - 1s - loss: 0.0217 - val_loss: 0.4483\n",
      "Epoch 9/100\n",
      "6000/6130 [============================>.] - ETA: 0s - loss: 0.0180Epoch 8: validation loss: 0.457\n",
      "Balanced Accuracy: 83.12%\t auROC: 0.908\t auPRC: 0.910\t auPRG: 0.853\n",
      "Recall at 5%|10%|20% FDR: 56.3%|71.9%|86.8%\t Num Positives: 1768\t Num Negatives: 1768\t \n",
      "\n",
      "6130/6130 [==============================] - 2s - loss: 0.0179 - val_loss: 0.4571\n",
      "Epoch 10/100\n",
      "6000/6130 [============================>.] - ETA: 0s - loss: 0.0154Epoch 9: validation loss: 0.468\n",
      "Balanced Accuracy: 83.03%\t auROC: 0.908\t auPRC: 0.909\t auPRG: 0.853\n",
      "Recall at 5%|10%|20% FDR: 56.4%|72.4%|87.2%\t Num Positives: 1768\t Num Negatives: 1768\t \n",
      "\n",
      "6130/6130 [==============================] - 2s - loss: 0.0153 - val_loss: 0.4677\n",
      "Epoch 11/100\n",
      "6000/6130 [============================>.] - ETA: 0s - loss: 0.0136Epoch 10: validation loss: 0.474\n",
      "Balanced Accuracy: 83.12%\t auROC: 0.908\t auPRC: 0.910\t auPRG: 0.853\n",
      "Recall at 5%|10%|20% FDR: 56.6%|72.9%|87.1%\t Num Positives: 1768\t Num Negatives: 1768\t \n",
      "\n",
      "6130/6130 [==============================] - 2s - loss: 0.0134 - val_loss: 0.4741\n",
      "Epoch 12/100\n",
      "6000/6130 [============================>.] - ETA: 0s - loss: 0.0121Epoch 11: validation loss: 0.483\n",
      "Balanced Accuracy: 83.12%\t auROC: 0.908\t auPRC: 0.910\t auPRG: 0.853\n",
      "Recall at 5%|10%|20% FDR: 55.4%|72.5%|86.6%\t Num Positives: 1768\t Num Negatives: 1768\t \n",
      "\n",
      "6130/6130 [==============================] - 2s - loss: 0.0120 - val_loss: 0.4832\n",
      "Epoch 13/100\n",
      "6000/6130 [============================>.] - ETA: 0s - loss: 0.0110Epoch 12: validation loss: 0.491\n",
      "Balanced Accuracy: 83.17%\t auROC: 0.908\t auPRC: 0.911\t auPRG: 0.853\n",
      "Recall at 5%|10%|20% FDR: 56.3%|72.7%|87.0%\t Num Positives: 1768\t Num Negatives: 1768\t \n",
      "\n",
      "6130/6130 [==============================] - 2s - loss: 0.0109 - val_loss: 0.4908\n",
      "Epoch 14/100\n",
      "6000/6130 [============================>.] - ETA: 0s - loss: 0.0102Epoch 13: validation loss: 0.496\n",
      "Balanced Accuracy: 83.20%\t auROC: 0.908\t auPRC: 0.910\t auPRG: 0.853\n",
      "Recall at 5%|10%|20% FDR: 56.5%|72.4%|86.7%\t Num Positives: 1768\t Num Negatives: 1768\t \n",
      "\n",
      "6130/6130 [==============================] - 2s - loss: 0.0100 - val_loss: 0.4965\n",
      "Epoch 15/100\n",
      "6000/6130 [============================>.] - ETA: 0s - loss: 0.0094Epoch 14: validation loss: 0.501\n",
      "Balanced Accuracy: 83.14%\t auROC: 0.909\t auPRC: 0.911\t auPRG: 0.854\n",
      "Recall at 5%|10%|20% FDR: 56.5%|71.8%|86.7%\t Num Positives: 1768\t Num Negatives: 1768\t \n",
      "\n",
      "6130/6130 [==============================] - 2s - loss: 0.0093 - val_loss: 0.5005\n",
      "Epoch 16/100\n",
      "6000/6130 [============================>.] - ETA: 0s - loss: 0.0089Epoch 15: validation loss: 0.512\n",
      "Balanced Accuracy: 83.17%\t auROC: 0.908\t auPRC: 0.910\t auPRG: 0.854\n",
      "Recall at 5%|10%|20% FDR: 56.1%|72.4%|87.3%\t Num Positives: 1768\t Num Negatives: 1768\t \n",
      "\n",
      "6130/6130 [==============================] - 2s - loss: 0.0088 - val_loss: 0.5119\n",
      "Epoch 17/100\n",
      "6000/6130 [============================>.] - ETA: 0s - loss: 0.0084Epoch 16: validation loss: 0.521\n",
      "Balanced Accuracy: 83.20%\t auROC: 0.908\t auPRC: 0.911\t auPRG: 0.854\n",
      "Recall at 5%|10%|20% FDR: 55.7%|72.9%|87.3%\t Num Positives: 1768\t Num Negatives: 1768\t \n",
      "\n",
      "6130/6130 [==============================] - 2s - loss: 0.0083 - val_loss: 0.5206\n",
      "Epoch 18/100\n",
      "6000/6130 [============================>.] - ETA: 0s - loss: 0.0081Epoch 17: validation loss: 0.527\n",
      "Balanced Accuracy: 83.23%\t auROC: 0.908\t auPRC: 0.910\t auPRG: 0.854\n",
      "Recall at 5%|10%|20% FDR: 55.7%|72.6%|87.2%\t Num Positives: 1768\t Num Negatives: 1768\t \n",
      "\n",
      "6130/6130 [==============================] - 2s - loss: 0.0080 - val_loss: 0.5272\n",
      "Epoch 19/100\n",
      "6000/6130 [============================>.] - ETA: 0s - loss: 0.0077Epoch 18: validation loss: 0.533\n",
      "Balanced Accuracy: 83.17%\t auROC: 0.908\t auPRC: 0.910\t auPRG: 0.854\n",
      "Recall at 5%|10%|20% FDR: 56.4%|71.9%|87.0%\t Num Positives: 1768\t Num Negatives: 1768\t \n",
      "\n",
      "6130/6130 [==============================] - 2s - loss: 0.0076 - val_loss: 0.5329\n",
      "Epoch 20/100\n",
      "6000/6130 [============================>.] - ETA: 0s - loss: 0.0074Epoch 19: validation loss: 0.535\n",
      "Balanced Accuracy: 83.40%\t auROC: 0.909\t auPRC: 0.910\t auPRG: 0.854\n",
      "Recall at 5%|10%|20% FDR: 56.2%|71.4%|87.7%\t Num Positives: 1768\t Num Negatives: 1768\t \n",
      "\n",
      "6130/6130 [==============================] - 2s - loss: 0.0073 - val_loss: 0.5347\n",
      "Epoch 21/100\n",
      "6000/6130 [============================>.] - ETA: 0s - loss: 0.0072Epoch 20: validation loss: 0.547\n",
      "Balanced Accuracy: 83.26%\t auROC: 0.908\t auPRC: 0.911\t auPRG: 0.853\n",
      "Recall at 5%|10%|20% FDR: 56.3%|72.1%|86.9%\t Num Positives: 1768\t Num Negatives: 1768\t \n",
      "\n",
      "6130/6130 [==============================] - 2s - loss: 0.0071 - val_loss: 0.5469\n",
      "Epoch 22/100\n",
      "6000/6130 [============================>.] - ETA: 0s - loss: 0.0016Epoch 21: validation loss: 0.552\n",
      "Balanced Accuracy: 83.12%\t auROC: 0.908\t auPRC: 0.911\t auPRG: 0.854\n",
      "Recall at 5%|10%|20% FDR: 55.7%|72.6%|87.2%\t Num Positives: 1768\t Num Negatives: 1768\t \n",
      "\n",
      "6130/6130 [==============================] - 2s - loss: 0.0069 - val_loss: 0.5518\n",
      "Epoch 23/100\n",
      "6000/6130 [============================>.] - ETA: 0s - loss: 0.0069Epoch 22: validation loss: 0.558\n",
      "Balanced Accuracy: 83.31%\t auROC: 0.908\t auPRC: 0.911\t auPRG: 0.853\n",
      "Recall at 5%|10%|20% FDR: 55.5%|72.3%|87.1%\t Num Positives: 1768\t Num Negatives: 1768\t \n",
      "\n",
      "6130/6130 [==============================] - 2s - loss: 0.0067 - val_loss: 0.5579\n",
      "Epoch 24/100\n",
      "6000/6130 [============================>.] - ETA: 0s - loss: 0.0067Epoch 23: validation loss: 0.563\n",
      "Balanced Accuracy: 83.37%\t auROC: 0.908\t auPRC: 0.911\t auPRG: 0.853\n",
      "Recall at 5%|10%|20% FDR: 55.5%|71.9%|87.0%\t Num Positives: 1768\t Num Negatives: 1768\t \n",
      "\n",
      "6130/6130 [==============================] - 1s - loss: 0.0066 - val_loss: 0.5626\n",
      "Epoch 25/100\n",
      "6000/6130 [============================>.] - ETA: 0s - loss: 0.0066Epoch 24: validation loss: 0.568\n",
      "Balanced Accuracy: 83.26%\t auROC: 0.908\t auPRC: 0.911\t auPRG: 0.854\n",
      "Recall at 5%|10%|20% FDR: 56.1%|72.4%|87.0%\t Num Positives: 1768\t Num Negatives: 1768\t \n",
      "\n",
      "6130/6130 [==============================] - 2s - loss: 0.0064 - val_loss: 0.5676\n"
     ]
    }
   ],
   "source": [
    "from models_motif import LongRangeDNN_FC\n",
    "dnn_normalized = LongRangeDNN_FC(num_features=5760, use_deep_CNN=True)\n",
    "validation_data = (X_valid_normalized, y_valid)\n",
    "dnn_normalized.train(X_train_normalized, y_train, validation_data)"
   ]
  },
  {
   "cell_type": "code",
   "execution_count": 14,
   "metadata": {
    "collapsed": false
   },
   "outputs": [
    {
     "name": "stdout",
     "output_type": "stream",
     "text": [
      "Balanced Accuracy: 82.09%\t auROC: 0.901\t auPRC: 0.904\t auPRG: 0.837\n",
      "Recall at 5%|10%|20% FDR: 51.6%|66.9%|85.2%\t Num Positives: 1189\t Num Negatives: 1189\t \n",
      "Balanced Accuracy: 99.98%\t auROC: 1.000\t auPRC: 1.000\t auPRG: 1.000\n",
      "Recall at 5%|10%|20% FDR: 100.0%|100.0%|100.0%\t Num Positives: 3065\t Num Negatives: 3065\t \n",
      "Balanced Accuracy: 83.26%\t auROC: 0.908\t auPRC: 0.911\t auPRG: 0.854\n",
      "Recall at 5%|10%|20% FDR: 56.1%|72.4%|87.0%\t Num Positives: 1768\t Num Negatives: 1768\t \n"
     ]
    }
   ],
   "source": [
    "print(dnn_normalized.test(X_test_normalized, y_test))\n",
    "print(dnn_normalized.test(X_train_normalized, y_train))\n",
    "print(dnn_normalized.test(X_valid_normalized, y_valid))"
   ]
  },
  {
   "cell_type": "code",
   "execution_count": null,
   "metadata": {
    "collapsed": true
   },
   "outputs": [],
   "source": []
  }
 ],
 "metadata": {
  "anaconda-cloud": {},
  "kernelspec": {
   "display_name": "Python [default]",
   "language": "python",
   "name": "python2"
  },
  "language_info": {
   "codemirror_mode": {
    "name": "ipython",
    "version": 2
   },
   "file_extension": ".py",
   "mimetype": "text/x-python",
   "name": "python",
   "nbconvert_exporter": "python",
   "pygments_lexer": "ipython2",
   "version": "2.7.12"
  }
 },
 "nbformat": 4,
 "nbformat_minor": 0
}
