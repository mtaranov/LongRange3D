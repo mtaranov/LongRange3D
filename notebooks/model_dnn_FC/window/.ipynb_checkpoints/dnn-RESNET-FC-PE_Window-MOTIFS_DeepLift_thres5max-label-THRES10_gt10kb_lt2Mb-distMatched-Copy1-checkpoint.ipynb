{
 "cells": [
  {
   "cell_type": "code",
   "execution_count": 1,
   "metadata": {
    "collapsed": false
   },
   "outputs": [
    {
     "name": "stderr",
     "output_type": "stream",
     "text": [
      "Using Theano backend.\n",
      "WARNING (theano.sandbox.cuda): The cuda backend is deprecated and will be removed in the next release (v0.10).  Please switch to the gpuarray backend. You can get more information about how to switch at this URL:\n",
      " https://github.com/Theano/Theano/wiki/Converting-to-the-new-gpu-back-end%28gpuarray%29\n",
      "\n",
      "Using gpu device 0: GeForce GTX TITAN X (CNMeM is enabled with initial size: 2500 MB, cuDNN 5005)\n"
     ]
    }
   ],
   "source": [
    "%matplotlib inline\n",
    "%load_ext autoreload\n",
    "%autoreload 2\n",
    "\n",
    "import sys\n",
    "import numpy as np\n",
    "import matplotlib.pyplot as plt\n",
    "from sklearn.preprocessing import MinMaxScaler, StandardScaler\n",
    "import copy\n",
    "sys.path.append('/users/mtaranov/LongRange3D/')\n",
    "from models_motif_exp import LongRangeDNN_FC\n",
    "from utils import normalize_features_sampl_by_f, concat_motifs,get_features, get_labels, subsample_data, normalize_features, reconstruct_2d, printMatrix, binarize, zscore, get_2D, plot_prediction, change_scale \n",
    "#from sklearn.preprocessing import MinMaxScaler, StandardScaler\n",
    "#from dragonn.models import Model, SequenceDNN\n",
    "#from keras.models import Sequential\n",
    "#from keras.callbacks import Callback, EarlyStopping\n",
    "#from keras.layers.core import (\n",
    "#    Activation, Dense, Dropout, Flatten,\n",
    "#    Permute, Reshape, TimeDistributedDense\n",
    "#)\n",
    "#from keras.layers.convolutional import Convolution2D, MaxPooling2D\n",
    "#from keras.layers.recurrent import GRU\n",
    "#from keras.regularizers import l1\n",
    "\n",
    "#from deeplift import keras_conversion as kc\n",
    "#from deeplift.blobs import MxtsMode"
   ]
  },
  {
   "cell_type": "code",
   "execution_count": 2,
   "metadata": {
    "collapsed": false
   },
   "outputs": [],
   "source": [
    "contacts='PE'\n",
    "path='/users/mtaranov/datasets_3d/dist_matched_'+contacts+'/'\n",
    "\n",
    "X_train = np.load(path+'motifs/train_'+contacts+'_out_btw_nodes_3_0.0001/mat.npy')\n",
    "X_test = np.load(path+'motifs/test_'+contacts+'_out_btw_nodes_3_0.0001/mat.npy')\n",
    "X_valid = np.load(path+'motifs/valid_'+contacts+'_out_btw_nodes_3_0.0001/mat.npy')\n",
    "\n",
    "y_train = get_labels(path+'y_train_thres_10.npy')\n",
    "y_test = get_labels(path+'y_test_thres_10.npy')\n",
    "y_valid = get_labels(path+'y_valid_thres_10.npy')\n"
   ]
  },
  {
   "cell_type": "code",
   "execution_count": 3,
   "metadata": {
    "collapsed": false
   },
   "outputs": [
    {
     "data": {
      "text/plain": [
       "((4824, 1920), (1812, 1920), (2872, 1920))"
      ]
     },
     "execution_count": 3,
     "metadata": {},
     "output_type": "execute_result"
    }
   ],
   "source": [
    "X_train.shape, X_test.shape, X_valid.shape"
   ]
  },
  {
   "cell_type": "code",
   "execution_count": 4,
   "metadata": {
    "collapsed": false
   },
   "outputs": [],
   "source": [
    "X_train_normalized, X_valid_normalized, X_test_normalized = normalize_features_sampl_by_f(X_train, X_valid, X_test)\n",
    "\n",
    "#X_train_normalized_subsampled, y_train_subsampled = subsample_data(X_train_normalized, y_train)\n",
    "#X_valid_normalized_subsampled, y_valid_subsampled = subsample_data(X_valid_normalized, y_valid)\n",
    "#X_test_normalized_subsampled, y_test_subsampled = subsample_data(X_test_normalized, y_test)\n",
    "\n",
    "#X_train_scaled_subsampled, y_train_subsampled = subsample_data(X_train_scaled, y_train)\n",
    "#X_valid_scaled_subsampled, y_valid_subsampled = subsample_data(X_valid_scaled, y_valid)\n",
    "#X_test_scaled_subsampled, y_test_subsampled = subsample_data(X_test_scaled, y_test)\n"
   ]
  },
  {
   "cell_type": "code",
   "execution_count": 5,
   "metadata": {
    "collapsed": false
   },
   "outputs": [
    {
     "name": "stdout",
     "output_type": "stream",
     "text": [
      "Training model...\n",
      "Train on 4824 samples, validate on 2872 samples\n",
      "Epoch 1/100\n",
      "4800/4824 [============================>.] - ETA: 0s - loss: 1.2136Epoch 0: validation loss: 0.545\n",
      "Balanced Accuracy: 75.87%\t auROC: 0.837\t auPRC: 0.830\t auPRG: 0.708\n",
      "Recall at 5%|10%|20% FDR: 0.2%|47.6%|70.0%\t Num Positives: 1436\t Num Negatives: 1436\t \n",
      "\n",
      "4824/4824 [==============================] - 8s - loss: 1.2117 - val_loss: 0.5446\n",
      "Epoch 2/100\n",
      "4800/4824 [============================>.] - ETA: 0s - loss: 0.4878Epoch 1: validation loss: 0.473\n",
      "Balanced Accuracy: 80.54%\t auROC: 0.885\t auPRC: 0.871\t auPRG: 0.815\n",
      "Recall at 5%|10%|20% FDR: 0.3%|65.9%|82.1%\t Num Positives: 1436\t Num Negatives: 1436\t \n",
      "\n",
      "4824/4824 [==============================] - 7s - loss: 0.4872 - val_loss: 0.4732\n",
      "Epoch 3/100\n",
      "4800/4824 [============================>.] - ETA: 0s - loss: 0.2711Epoch 2: validation loss: 0.422\n",
      "Balanced Accuracy: 82.76%\t auROC: 0.907\t auPRC: 0.899\t auPRG: 0.864\n",
      "Recall at 5%|10%|20% FDR: 67.0%|75.1%|85.5%\t Num Positives: 1436\t Num Negatives: 1436\t \n",
      "\n",
      "4824/4824 [==============================] - 7s - loss: 0.2706 - val_loss: 0.4218\n",
      "Epoch 4/100\n",
      "4800/4824 [============================>.] - ETA: 0s - loss: 0.1724Epoch 3: validation loss: 0.394\n",
      "Balanced Accuracy: 83.81%\t auROC: 0.915\t auPRC: 0.906\t auPRG: 0.878\n",
      "Recall at 5%|10%|20% FDR: 69.6%|77.9%|86.6%\t Num Positives: 1436\t Num Negatives: 1436\t \n",
      "\n",
      "4824/4824 [==============================] - 7s - loss: 0.1730 - val_loss: 0.3941\n",
      "Epoch 5/100\n",
      "4800/4824 [============================>.] - ETA: 0s - loss: 0.1185Epoch 4: validation loss: 0.374\n",
      "Balanced Accuracy: 83.81%\t auROC: 0.917\t auPRC: 0.919\t auPRG: 0.883\n",
      "Recall at 5%|10%|20% FDR: 71.4%|78.3%|86.3%\t Num Positives: 1436\t Num Negatives: 1436\t \n",
      "\n",
      "4824/4824 [==============================] - 7s - loss: 0.1186 - val_loss: 0.3740\n",
      "Epoch 6/100\n",
      "4800/4824 [============================>.] - ETA: 0s - loss: 0.0912Epoch 5: validation loss: 0.362\n",
      "Balanced Accuracy: 84.85%\t auROC: 0.920\t auPRC: 0.928\t auPRG: 0.888\n",
      "Recall at 5%|10%|20% FDR: 73.2%|79.4%|86.1%\t Num Positives: 1436\t Num Negatives: 1436\t \n",
      "\n",
      "4824/4824 [==============================] - 7s - loss: 0.0917 - val_loss: 0.3616\n",
      "Epoch 7/100\n",
      "4800/4824 [============================>.] - ETA: 0s - loss: 0.0682Epoch 6: validation loss: 0.395\n",
      "Balanced Accuracy: 82.45%\t auROC: 0.920\t auPRC: 0.912\t auPRG: 0.887\n",
      "Recall at 5%|10%|20% FDR: 70.8%|78.6%|87.5%\t Num Positives: 1436\t Num Negatives: 1436\t \n",
      "\n",
      "4824/4824 [==============================] - 7s - loss: 0.0688 - val_loss: 0.3950\n",
      "Epoch 8/100\n",
      "4800/4824 [============================>.] - ETA: 0s - loss: 0.0507Epoch 7: validation loss: 0.369\n",
      "Balanced Accuracy: 83.88%\t auROC: 0.924\t auPRC: 0.922\t auPRG: 0.895\n",
      "Recall at 5%|10%|20% FDR: 73.7%|80.5%|87.8%\t Num Positives: 1436\t Num Negatives: 1436\t \n",
      "\n",
      "4824/4824 [==============================] - 7s - loss: 0.0507 - val_loss: 0.3690\n",
      "Epoch 9/100\n",
      "4800/4824 [============================>.] - ETA: 0s - loss: 0.0409Epoch 8: validation loss: 0.361\n",
      "Balanced Accuracy: 84.68%\t auROC: 0.925\t auPRC: 0.927\t auPRG: 0.897\n",
      "Recall at 5%|10%|20% FDR: 74.4%|80.3%|87.8%\t Num Positives: 1436\t Num Negatives: 1436\t \n",
      "\n",
      "4824/4824 [==============================] - 7s - loss: 0.0414 - val_loss: 0.3614\n",
      "Epoch 10/100\n",
      "4800/4824 [============================>.] - ETA: 0s - loss: 0.0357Epoch 9: validation loss: 0.362\n",
      "Balanced Accuracy: 85.03%\t auROC: 0.927\t auPRC: 0.926\t auPRG: 0.900\n",
      "Recall at 5%|10%|20% FDR: 74.5%|80.5%|88.3%\t Num Positives: 1436\t Num Negatives: 1436\t \n",
      "\n",
      "4824/4824 [==============================] - 7s - loss: 0.0359 - val_loss: 0.3616\n",
      "Epoch 11/100\n",
      "4800/4824 [============================>.] - ETA: 0s - loss: 0.0273Epoch 10: validation loss: 0.361\n",
      "Balanced Accuracy: 84.96%\t auROC: 0.928\t auPRC: 0.930\t auPRG: 0.900\n",
      "Recall at 5%|10%|20% FDR: 75.6%|80.6%|88.1%\t Num Positives: 1436\t Num Negatives: 1436\t \n",
      "\n",
      "4824/4824 [==============================] - 7s - loss: 0.0275 - val_loss: 0.3614\n",
      "Epoch 12/100\n",
      "4800/4824 [============================>.] - ETA: 0s - loss: 0.0228Epoch 11: validation loss: 0.364\n",
      "Balanced Accuracy: 85.10%\t auROC: 0.928\t auPRC: 0.930\t auPRG: 0.901\n",
      "Recall at 5%|10%|20% FDR: 75.3%|80.6%|88.0%\t Num Positives: 1436\t Num Negatives: 1436\t \n",
      "\n",
      "4824/4824 [==============================] - 7s - loss: 0.0228 - val_loss: 0.3640\n",
      "Epoch 13/100\n",
      "4800/4824 [============================>.] - ETA: 0s - loss: 0.0203Epoch 12: validation loss: 0.368\n",
      "Balanced Accuracy: 85.62%\t auROC: 0.928\t auPRC: 0.929\t auPRG: 0.901\n",
      "Recall at 5%|10%|20% FDR: 75.0%|81.1%|88.9%\t Num Positives: 1436\t Num Negatives: 1436\t \n",
      "\n",
      "4824/4824 [==============================] - 7s - loss: 0.0205 - val_loss: 0.3678\n",
      "Epoch 14/100\n",
      "4800/4824 [============================>.] - ETA: 0s - loss: 0.0186Epoch 13: validation loss: 0.374\n",
      "Balanced Accuracy: 84.89%\t auROC: 0.929\t auPRC: 0.929\t auPRG: 0.903\n",
      "Recall at 5%|10%|20% FDR: 75.1%|81.1%|88.4%\t Num Positives: 1436\t Num Negatives: 1436\t \n",
      "\n",
      "4824/4824 [==============================] - 7s - loss: 0.0187 - val_loss: 0.3740\n",
      "Epoch 15/100\n",
      "4800/4824 [============================>.] - ETA: 0s - loss: 0.0151Epoch 14: validation loss: 0.371\n",
      "Balanced Accuracy: 85.17%\t auROC: 0.930\t auPRC: 0.932\t auPRG: 0.905\n",
      "Recall at 5%|10%|20% FDR: 75.6%|81.3%|88.3%\t Num Positives: 1436\t Num Negatives: 1436\t \n",
      "\n",
      "4824/4824 [==============================] - 7s - loss: 0.0151 - val_loss: 0.3711\n",
      "Epoch 16/100\n",
      "4800/4824 [============================>.] - ETA: 0s - loss: 0.0129Epoch 15: validation loss: 0.375\n",
      "Balanced Accuracy: 85.17%\t auROC: 0.930\t auPRC: 0.932\t auPRG: 0.904\n",
      "Recall at 5%|10%|20% FDR: 75.3%|80.9%|88.3%\t Num Positives: 1436\t Num Negatives: 1436\t \n",
      "\n",
      "4824/4824 [==============================] - 7s - loss: 0.0130 - val_loss: 0.3752\n",
      "Epoch 17/100\n",
      "4800/4824 [============================>.] - ETA: 0s - loss: 0.0102Epoch 16: validation loss: 0.378\n",
      "Balanced Accuracy: 85.38%\t auROC: 0.930\t auPRC: 0.931\t auPRG: 0.904\n",
      "Recall at 5%|10%|20% FDR: 75.3%|80.9%|88.4%\t Num Positives: 1436\t Num Negatives: 1436\t \n",
      "\n",
      "4824/4824 [==============================] - 7s - loss: 0.0103 - val_loss: 0.3785\n"
     ]
    }
   ],
   "source": [
    "from models_motif_exp import LongRangeDNN_FC_ResNet\n",
    "dnn_normalized = LongRangeDNN_FC_ResNet(num_features=1920, use_deep_CNN=False)\n",
    "validation_data = (X_valid_normalized, y_valid)\n",
    "dnn_normalized.train(X_train_normalized, y_train, validation_data)"
   ]
  },
  {
   "cell_type": "code",
   "execution_count": 6,
   "metadata": {
    "collapsed": false
   },
   "outputs": [
    {
     "name": "stdout",
     "output_type": "stream",
     "text": [
      "Balanced Accuracy: 84.71%\t auROC: 0.918\t auPRC: 0.928\t auPRG: 0.882\n",
      "Recall at 5%|10%|20% FDR: 69.8%|81.0%|87.2%\t Num Positives: 906\t Num Negatives: 906\t \n",
      "Balanced Accuracy: 100.00%\t auROC: 1.000\t auPRC: 1.000\t auPRG: 1.000\n",
      "Recall at 5%|10%|20% FDR: 100.0%|100.0%|100.0%\t Num Positives: 2412\t Num Negatives: 2412\t \n",
      "Balanced Accuracy: 85.38%\t auROC: 0.930\t auPRC: 0.931\t auPRG: 0.904\n",
      "Recall at 5%|10%|20% FDR: 75.3%|80.9%|88.4%\t Num Positives: 1436\t Num Negatives: 1436\t \n"
     ]
    }
   ],
   "source": [
    "print(dnn_normalized.test(X_test_normalized, y_test))\n",
    "print(dnn_normalized.test(X_train_normalized, y_train))\n",
    "print(dnn_normalized.test(X_valid_normalized, y_valid))"
   ]
  },
  {
   "cell_type": "code",
   "execution_count": null,
   "metadata": {
    "collapsed": true
   },
   "outputs": [],
   "source": []
  }
 ],
 "metadata": {
  "anaconda-cloud": {},
  "kernelspec": {
   "display_name": "Python [default]",
   "language": "python",
   "name": "python2"
  },
  "language_info": {
   "codemirror_mode": {
    "name": "ipython",
    "version": 2
   },
   "file_extension": ".py",
   "mimetype": "text/x-python",
   "name": "python",
   "nbconvert_exporter": "python",
   "pygments_lexer": "ipython2",
   "version": "2.7.12"
  }
 },
 "nbformat": 4,
 "nbformat_minor": 0
}
