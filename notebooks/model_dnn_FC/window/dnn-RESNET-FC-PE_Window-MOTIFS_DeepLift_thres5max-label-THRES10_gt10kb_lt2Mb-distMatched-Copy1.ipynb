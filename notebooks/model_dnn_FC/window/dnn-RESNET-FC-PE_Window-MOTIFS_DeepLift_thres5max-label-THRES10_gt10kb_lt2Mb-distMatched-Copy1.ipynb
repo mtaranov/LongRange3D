{
 "cells": [
  {
   "cell_type": "code",
   "execution_count": 1,
   "metadata": {
    "collapsed": false
   },
   "outputs": [
    {
     "name": "stderr",
     "output_type": "stream",
     "text": [
      "Using Theano backend.\n",
      "WARNING (theano.sandbox.cuda): The cuda backend is deprecated and will be removed in the next release (v0.10).  Please switch to the gpuarray backend. You can get more information about how to switch at this URL:\n",
      " https://github.com/Theano/Theano/wiki/Converting-to-the-new-gpu-back-end%28gpuarray%29\n",
      "\n",
      "Using gpu device 1: GeForce GTX TITAN X (CNMeM is enabled with initial size: 2500 MB, cuDNN 5005)\n"
     ]
    }
   ],
   "source": [
    "%matplotlib inline\n",
    "%load_ext autoreload\n",
    "%autoreload 2\n",
    "\n",
    "import sys\n",
    "import numpy as np\n",
    "import matplotlib.pyplot as plt\n",
    "from sklearn.preprocessing import MinMaxScaler, StandardScaler\n",
    "import copy\n",
    "sys.path.append('/users/mtaranov/LongRange3D/')\n",
    "from models_motif_exp2 import LongRangeDNN_FC\n",
    "from utils import normalize_features_sampl_by_f, concat_motifs,get_features, get_labels, subsample_data, normalize_features, reconstruct_2d, printMatrix, binarize, zscore, get_2D, plot_prediction, change_scale \n",
    "#from sklearn.preprocessing import MinMaxScaler, StandardScaler\n",
    "#from dragonn.models import Model, SequenceDNN\n",
    "#from keras.models import Sequential\n",
    "#from keras.callbacks import Callback, EarlyStopping\n",
    "#from keras.layers.core import (\n",
    "#    Activation, Dense, Dropout, Flatten,\n",
    "#    Permute, Reshape, TimeDistributedDense\n",
    "#)\n",
    "#from keras.layers.convolutional import Convolution2D, MaxPooling2D\n",
    "#from keras.layers.recurrent import GRU\n",
    "#from keras.regularizers import l1\n",
    "\n",
    "#from deeplift import keras_conversion as kc\n",
    "#from deeplift.blobs import MxtsMode"
   ]
  },
  {
   "cell_type": "code",
   "execution_count": 2,
   "metadata": {
    "collapsed": false
   },
   "outputs": [],
   "source": [
    "contacts='PE'\n",
    "path='/users/mtaranov/datasets_3d/dist_matched_'+contacts+'/'\n",
    "\n",
    "X_train = np.load(path+'motifs/train_'+contacts+'_out_btw_nodes_3_0.0001/mat.npy')\n",
    "X_test = np.load(path+'motifs/test_'+contacts+'_out_btw_nodes_3_0.0001/mat.npy')\n",
    "X_valid = np.load(path+'motifs/valid_'+contacts+'_out_btw_nodes_3_0.0001/mat.npy')\n",
    "\n",
    "y_train = get_labels(path+'y_train_thres_10.npy')\n",
    "y_test = get_labels(path+'y_test_thres_10.npy')\n",
    "y_valid = get_labels(path+'y_valid_thres_10.npy')\n"
   ]
  },
  {
   "cell_type": "code",
   "execution_count": 3,
   "metadata": {
    "collapsed": false
   },
   "outputs": [
    {
     "data": {
      "text/plain": [
       "((4824, 1920), (1812, 1920), (2872, 1920))"
      ]
     },
     "execution_count": 3,
     "metadata": {},
     "output_type": "execute_result"
    }
   ],
   "source": [
    "X_train.shape, X_test.shape, X_valid.shape"
   ]
  },
  {
   "cell_type": "code",
   "execution_count": null,
   "metadata": {
    "collapsed": false
   },
   "outputs": [],
   "source": [
    "X_train_normalized, X_valid_normalized, X_test_normalized = normalize_features_sampl_by_f(X_train, X_valid, X_test)\n",
    "\n",
    "#X_train_normalized_subsampled, y_train_subsampled = subsample_data(X_train_normalized, y_train)\n",
    "#X_valid_normalized_subsampled, y_valid_subsampled = subsample_data(X_valid_normalized, y_valid)\n",
    "#X_test_normalized_subsampled, y_test_subsampled = subsample_data(X_test_normalized, y_test)\n",
    "\n",
    "#X_train_scaled_subsampled, y_train_subsampled = subsample_data(X_train_scaled, y_train)\n",
    "#X_valid_scaled_subsampled, y_valid_subsampled = subsample_data(X_valid_scaled, y_valid)\n",
    "#X_test_scaled_subsampled, y_test_subsampled = subsample_data(X_test_scaled, y_test)\n"
   ]
  },
  {
   "cell_type": "code",
   "execution_count": null,
   "metadata": {
    "collapsed": false
   },
   "outputs": [
    {
     "name": "stdout",
     "output_type": "stream",
     "text": [
      "Training model...\n",
      "Train on 4824 samples, validate on 2872 samples\n",
      "Epoch 1/100\n",
      "4750/4824 [============================>.] - ETA: 0s - loss: 1.2961Epoch 0: validation loss: 0.722\n",
      "Balanced Accuracy: 61.18%\t auROC: 0.702\t auPRC: 0.672\t auPRG: 0.410\n",
      "Recall at 5%|10%|20% FDR: 0.0%|0.0%|0.0%\t Num Positives: 1436\t Num Negatives: 1436\t \n",
      "\n",
      "4824/4824 [==============================] - 5s - loss: 1.2944 - val_loss: 0.7223\n",
      "Epoch 2/100\n",
      "4750/4824 [============================>.] - ETA: 0s - loss: 0.5170Epoch 1: validation loss: 0.602\n",
      "Balanced Accuracy: 68.91%\t auROC: 0.778\t auPRC: 0.757\t auPRG: 0.569\n",
      "Recall at 5%|10%|20% FDR: 0.1%|0.1%|40.0%\t Num Positives: 1436\t Num Negatives: 1436\t \n",
      "\n",
      "4824/4824 [==============================] - 3s - loss: 0.5160 - val_loss: 0.6020\n",
      "Epoch 3/100\n",
      "4750/4824 [============================>.] - ETA: 0s - loss: 0.3003Epoch 2: validation loss: 0.555\n",
      "Balanced Accuracy: 73.99%\t auROC: 0.822\t auPRC: 0.811\t auPRG: 0.668\n",
      "Recall at 5%|10%|20% FDR: 0.0%|34.7%|63.0%\t Num Positives: 1436\t Num Negatives: 1436\t \n",
      "\n",
      "4824/4824 [==============================] - 3s - loss: 0.2993 - val_loss: 0.5545\n",
      "Epoch 4/100\n",
      "4750/4824 [============================>.] - ETA: 0s - loss: 0.1878Epoch 3: validation loss: 0.571\n",
      "Balanced Accuracy: 70.86%\t auROC: 0.844\t auPRC: 0.818\t auPRG: 0.728\n",
      "Recall at 5%|10%|20% FDR: 0.0%|0.0%|74.0%\t Num Positives: 1436\t Num Negatives: 1436\t \n",
      "\n",
      "4824/4824 [==============================] - 3s - loss: 0.1882 - val_loss: 0.5715\n",
      "Epoch 5/100\n",
      "4750/4824 [============================>.] - ETA: 0s - loss: 0.1311Epoch 4: validation loss: 0.521\n",
      "Balanced Accuracy: 74.90%\t auROC: 0.869\t auPRC: 0.855\t auPRG: 0.781\n",
      "Recall at 5%|10%|20% FDR: 0.1%|57.3%|80.2%\t Num Positives: 1436\t Num Negatives: 1436\t \n",
      "\n",
      "4824/4824 [==============================] - 3s - loss: 0.1306 - val_loss: 0.5206\n",
      "Epoch 6/100\n",
      "4750/4824 [============================>.] - ETA: 0s - loss: 0.0971Epoch 5: validation loss: 0.507\n",
      "Balanced Accuracy: 75.42%\t auROC: 0.881\t auPRC: 0.868\t auPRG: 0.806\n",
      "Recall at 5%|10%|20% FDR: 0.1%|65.7%|82.6%\t Num Positives: 1436\t Num Negatives: 1436\t \n",
      "\n",
      "4824/4824 [==============================] - 3s - loss: 0.0973 - val_loss: 0.5071\n",
      "Epoch 7/100\n",
      "4750/4824 [============================>.] - ETA: 0s - loss: 0.0706Epoch 6: validation loss: 0.470\n",
      "Balanced Accuracy: 78.41%\t auROC: 0.891\t auPRC: 0.893\t auPRG: 0.832\n",
      "Recall at 5%|10%|20% FDR: 57.9%|72.4%|82.5%\t Num Positives: 1436\t Num Negatives: 1436\t \n",
      "\n",
      "4824/4824 [==============================] - 3s - loss: 0.0710 - val_loss: 0.4696\n",
      "Epoch 8/100\n",
      "4750/4824 [============================>.] - ETA: 0s - loss: 0.0552Epoch 7: validation loss: 0.467\n",
      "Balanced Accuracy: 77.96%\t auROC: 0.896\t auPRC: 0.893\t auPRG: 0.841\n",
      "Recall at 5%|10%|20% FDR: 59.9%|74.2%|85.1%\t Num Positives: 1436\t Num Negatives: 1436\t \n",
      "\n",
      "4824/4824 [==============================] - 3s - loss: 0.0553 - val_loss: 0.4672\n",
      "Epoch 9/100\n",
      "4750/4824 [============================>.] - ETA: 0s - loss: 0.0439Epoch 8: validation loss: 0.442\n",
      "Balanced Accuracy: 79.74%\t auROC: 0.901\t auPRC: 0.904\t auPRG: 0.853\n",
      "Recall at 5%|10%|20% FDR: 65.7%|75.6%|84.6%\t Num Positives: 1436\t Num Negatives: 1436\t \n",
      "\n",
      "4824/4824 [==============================] - 3s - loss: 0.0443 - val_loss: 0.4424\n",
      "Epoch 10/100\n",
      "4750/4824 [============================>.] - ETA: 0s - loss: 0.0377Epoch 9: validation loss: 0.438\n",
      "Balanced Accuracy: 79.46%\t auROC: 0.904\t auPRC: 0.905\t auPRG: 0.858\n",
      "Recall at 5%|10%|20% FDR: 64.0%|76.6%|85.4%\t Num Positives: 1436\t Num Negatives: 1436\t \n",
      "\n",
      "4824/4824 [==============================] - 3s - loss: 0.0381 - val_loss: 0.4382\n",
      "Epoch 11/100\n",
      "4750/4824 [============================>.] - ETA: 0s - loss: 0.0313Epoch 10: validation loss: 0.424\n",
      "Balanced Accuracy: 80.47%\t auROC: 0.906\t auPRC: 0.905\t auPRG: 0.862\n",
      "Recall at 5%|10%|20% FDR: 67.9%|77.2%|85.6%\t Num Positives: 1436\t Num Negatives: 1436\t \n",
      "\n",
      "4824/4824 [==============================] - 3s - loss: 0.0313 - val_loss: 0.4241\n",
      "Epoch 12/100\n",
      "4750/4824 [============================>.] - ETA: 0s - loss: 0.0265Epoch 11: validation loss: 0.411\n",
      "Balanced Accuracy: 80.95%\t auROC: 0.908\t auPRC: 0.912\t auPRG: 0.866\n",
      "Recall at 5%|10%|20% FDR: 69.4%|77.6%|85.4%\t Num Positives: 1436\t Num Negatives: 1436\t \n",
      "\n",
      "4824/4824 [==============================] - 3s - loss: 0.0268 - val_loss: 0.4110\n",
      "Epoch 13/100\n",
      "4750/4824 [============================>.] - ETA: 0s - loss: 0.0232Epoch 12: validation loss: 0.409\n",
      "Balanced Accuracy: 81.06%\t auROC: 0.908\t auPRC: 0.913\t auPRG: 0.867\n",
      "Recall at 5%|10%|20% FDR: 69.6%|78.1%|85.7%\t Num Positives: 1436\t Num Negatives: 1436\t \n",
      "\n",
      "4824/4824 [==============================] - 3s - loss: 0.0233 - val_loss: 0.4085\n",
      "Epoch 14/100\n",
      "4750/4824 [============================>.] - ETA: 0s - loss: 0.0204Epoch 13: validation loss: 0.395\n",
      "Balanced Accuracy: 82.21%\t auROC: 0.911\t auPRC: 0.917\t auPRG: 0.873\n",
      "Recall at 5%|10%|20% FDR: 70.9%|79.2%|85.6%\t Num Positives: 1436\t Num Negatives: 1436\t \n",
      "\n",
      "4824/4824 [==============================] - 3s - loss: 0.0207 - val_loss: 0.3953\n",
      "Epoch 15/100\n",
      "4750/4824 [============================>.] - ETA: 0s - loss: 0.0170Epoch 14: validation loss: 0.398\n",
      "Balanced Accuracy: 82.00%\t auROC: 0.911\t auPRC: 0.918\t auPRG: 0.872\n",
      "Recall at 5%|10%|20% FDR: 70.4%|78.8%|85.9%\t Num Positives: 1436\t Num Negatives: 1436\t \n",
      "\n",
      "4824/4824 [==============================] - 3s - loss: 0.0179 - val_loss: 0.3977\n",
      "Epoch 16/100\n",
      "4750/4824 [============================>.] - ETA: 0s - loss: 0.0159Epoch 15: validation loss: 0.394\n",
      "Balanced Accuracy: 82.28%\t auROC: 0.913\t auPRC: 0.920\t auPRG: 0.875\n",
      "Recall at 5%|10%|20% FDR: 71.2%|79.7%|86.1%\t Num Positives: 1436\t Num Negatives: 1436\t \n",
      "\n",
      "4824/4824 [==============================] - 3s - loss: 0.0161 - val_loss: 0.3939\n",
      "Epoch 17/100\n",
      "4750/4824 [============================>.] - ETA: 0s - loss: 0.0141Epoch 16: validation loss: 0.390\n",
      "Balanced Accuracy: 82.69%\t auROC: 0.914\t auPRC: 0.923\t auPRG: 0.877\n",
      "Recall at 5%|10%|20% FDR: 71.7%|79.6%|86.0%\t Num Positives: 1436\t Num Negatives: 1436\t \n",
      "\n",
      "4824/4824 [==============================] - 3s - loss: 0.0144 - val_loss: 0.3902\n",
      "Epoch 18/100\n",
      "3250/4824 [===================>..........] - ETA: 0s - loss: 0.0127"
     ]
    }
   ],
   "source": [
    "from models_motif_exp2 import LongRangeDNN_FC_ResNet\n",
    "dnn_normalized = LongRangeDNN_FC_ResNet(num_features=1920, use_deep_CNN=False)\n",
    "validation_data = (X_valid_normalized, y_valid)\n",
    "dnn_normalized.train(X_train_normalized, y_train, validation_data)"
   ]
  },
  {
   "cell_type": "code",
   "execution_count": null,
   "metadata": {
    "collapsed": false
   },
   "outputs": [],
   "source": [
    "print(dnn_normalized.test(X_test_normalized, y_test))\n",
    "print(dnn_normalized.test(X_train_normalized, y_train))\n",
    "print(dnn_normalized.test(X_valid_normalized, y_valid))"
   ]
  },
  {
   "cell_type": "code",
   "execution_count": null,
   "metadata": {
    "collapsed": true
   },
   "outputs": [],
   "source": []
  }
 ],
 "metadata": {
  "anaconda-cloud": {},
  "kernelspec": {
   "display_name": "Python [default]",
   "language": "python",
   "name": "python2"
  },
  "language_info": {
   "codemirror_mode": {
    "name": "ipython",
    "version": 2
   },
   "file_extension": ".py",
   "mimetype": "text/x-python",
   "name": "python",
   "nbconvert_exporter": "python",
   "pygments_lexer": "ipython2",
   "version": "2.7.12"
  }
 },
 "nbformat": 4,
 "nbformat_minor": 0
}
