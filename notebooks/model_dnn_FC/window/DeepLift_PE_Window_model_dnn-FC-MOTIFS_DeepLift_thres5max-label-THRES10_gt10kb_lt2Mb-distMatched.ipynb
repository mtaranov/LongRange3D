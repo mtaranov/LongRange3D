{
 "cells": [
  {
   "cell_type": "code",
   "execution_count": 1,
   "metadata": {
    "collapsed": false
   },
   "outputs": [
    {
     "name": "stderr",
     "output_type": "stream",
     "text": [
      "Using Theano backend.\n",
      "WARNING (theano.sandbox.cuda): The cuda backend is deprecated and will be removed in the next release (v0.10).  Please switch to the gpuarray backend. You can get more information about how to switch at this URL:\n",
      " https://github.com/Theano/Theano/wiki/Converting-to-the-new-gpu-back-end%28gpuarray%29\n",
      "\n",
      "Using gpu device 0: GeForce GTX TITAN X (CNMeM is enabled with initial size: 2500 MB, cuDNN 5005)\n"
     ]
    }
   ],
   "source": [
    "%matplotlib inline\n",
    "%load_ext autoreload\n",
    "%autoreload 2\n",
    "\n",
    "import sys\n",
    "import numpy as np\n",
    "import matplotlib.pyplot as plt\n",
    "from sklearn.preprocessing import MinMaxScaler, StandardScaler\n",
    "import copy\n",
    "sys.path.append('/users/mtaranov/LongRange3D/')\n",
    "from models_motif import LongRangeDNN_FC\n",
    "from utils import  concat_motifs,get_features, get_labels, subsample_data, normalize_features, reconstruct_2d, printMatrix, binarize, zscore, get_2D, plot_prediction, change_scale \n",
    "#from sklearn.preprocessing import MinMaxScaler, StandardScaler\n",
    "#from dragonn.models import Model, SequenceDNN\n",
    "#from keras.models import Sequential\n",
    "#from keras.callbacks import Callback, EarlyStopping\n",
    "#from keras.layers.core import (\n",
    "#    Activation, Dense, Dropout, Flatten,\n",
    "#    Permute, Reshape, TimeDistributedDense\n",
    "#)\n",
    "#from keras.layers.convolutional import Convolution2D, MaxPooling2D\n",
    "#from keras.layers.recurrent import GRU\n",
    "#from keras.regularizers import l1\n",
    "\n",
    "#from deeplift import keras_conversion as kc\n",
    "#from deeplift.blobs import MxtsMode"
   ]
  },
  {
   "cell_type": "code",
   "execution_count": 2,
   "metadata": {
    "collapsed": false
   },
   "outputs": [],
   "source": [
    "contacts='PE'\n",
    "path='/users/mtaranov/datasets_3d/dist_matched_'+contacts+'/'\n",
    "\n",
    "X_train = np.load(path+'motifs/train_'+contacts+'_out_btw_nodes_3_0.0001/mat.npy')\n",
    "X_test = np.load(path+'motifs/test_'+contacts+'_out_btw_nodes_3_0.0001/mat.npy')\n",
    "X_valid = np.load(path+'motifs/valid_'+contacts+'_out_btw_nodes_3_0.0001/mat.npy')\n",
    "\n",
    "y_train = get_labels(path+'y_train_thres_10.npy')\n",
    "y_test = get_labels(path+'y_test_thres_10.npy')\n",
    "y_valid = get_labels(path+'y_valid_thres_10.npy')\n"
   ]
  },
  {
   "cell_type": "code",
   "execution_count": 3,
   "metadata": {
    "collapsed": false
   },
   "outputs": [
    {
     "data": {
      "text/plain": [
       "((4824, 1920), (1812, 1920), (2872, 1920))"
      ]
     },
     "execution_count": 3,
     "metadata": {},
     "output_type": "execute_result"
    }
   ],
   "source": [
    "X_train.shape, X_test.shape, X_valid.shape"
   ]
  },
  {
   "cell_type": "code",
   "execution_count": 4,
   "metadata": {
    "collapsed": false
   },
   "outputs": [],
   "source": [
    "def normalize_features(X_train, X_valid, X_test, normalizer=StandardScaler):\n",
    "    # fit normalizer\n",
    "    normalizer = normalizer().fit(X_train[:,:])\n",
    "    # transform features\n",
    "    X_train_new=copy.copy(X_train)\n",
    "    X_valid_new=copy.copy(X_valid)\n",
    "    X_test_new=copy.copy(X_test)\n",
    "    X_train_new = normalizer.transform(X_train)\n",
    "    X_valid_new = normalizer.transform(X_valid)\n",
    "    X_test_new = normalizer.transform(X_test)\n",
    "\n",
    "    return (X_train_new, X_valid_new, X_test_new)"
   ]
  },
  {
   "cell_type": "code",
   "execution_count": 5,
   "metadata": {
    "collapsed": false
   },
   "outputs": [],
   "source": [
    "X_train_normalized, X_valid_normalized, X_test_normalized = normalize_features(X_train, X_valid, X_test)\n",
    "\n",
    "#X_train_normalized_subsampled, y_train_subsampled = subsample_data(X_train_normalized, y_train)\n",
    "#X_valid_normalized_subsampled, y_valid_subsampled = subsample_data(X_valid_normalized, y_valid)\n",
    "#X_test_normalized_subsampled, y_test_subsampled = subsample_data(X_test_normalized, y_test)\n",
    "\n",
    "#X_train_scaled_subsampled, y_train_subsampled = subsample_data(X_train_scaled, y_train)\n",
    "#X_valid_scaled_subsampled, y_valid_subsampled = subsample_data(X_valid_scaled, y_valid)\n",
    "#X_test_scaled_subsampled, y_test_subsampled = subsample_data(X_test_scaled, y_test)\n"
   ]
  },
  {
   "cell_type": "code",
   "execution_count": 6,
   "metadata": {
    "collapsed": false
   },
   "outputs": [
    {
     "name": "stdout",
     "output_type": "stream",
     "text": [
      "Training model...\n",
      "Train on 4824 samples, validate on 2872 samples\n",
      "Epoch 1/100\n",
      "4750/4824 [============================>.] - ETA: 0s - loss: 4.5549Epoch 0: validation loss: 1.077\n",
      "Balanced Accuracy: 61.46%\t auROC: 0.725\t auPRC: 0.678\t auPRG: 0.476\n",
      "Recall at 5%|10%|20% FDR: 0.0%|0.0%|0.0%\t Num Positives: 1436\t Num Negatives: 1436\t \n",
      "\n",
      "4824/4824 [==============================] - 1s - loss: 4.5074 - val_loss: 1.0769\n",
      "Epoch 2/100\n",
      "4750/4824 [============================>.] - ETA: 0s - loss: 1.2376Epoch 1: validation loss: 0.593\n",
      "Balanced Accuracy: 74.44%\t auROC: 0.824\t auPRC: 0.847\t auPRG: 0.676\n",
      "Recall at 5%|10%|20% FDR: 40.0%|50.1%|67.1%\t Num Positives: 1436\t Num Negatives: 1436\t \n",
      "\n",
      "4824/4824 [==============================] - 1s - loss: 1.2302 - val_loss: 0.5928\n",
      "Epoch 3/100\n",
      "4750/4824 [============================>.] - ETA: 0s - loss: 0.6327Epoch 2: validation loss: 0.476\n",
      "Balanced Accuracy: 79.53%\t auROC: 0.876\t auPRC: 0.871\t auPRG: 0.791\n",
      "Recall at 5%|10%|20% FDR: 42.5%|61.8%|79.2%\t Num Positives: 1436\t Num Negatives: 1436\t \n",
      "\n",
      "4824/4824 [==============================] - 1s - loss: 0.6315 - val_loss: 0.4762\n",
      "Epoch 4/100\n",
      "4750/4824 [============================>.] - ETA: 0s - loss: 0.4136Epoch 3: validation loss: 0.437\n",
      "Balanced Accuracy: 80.88%\t auROC: 0.891\t auPRC: 0.890\t auPRG: 0.821\n",
      "Recall at 5%|10%|20% FDR: 52.2%|66.0%|82.0%\t Num Positives: 1436\t Num Negatives: 1436\t \n",
      "\n",
      "4824/4824 [==============================] - 1s - loss: 0.4136 - val_loss: 0.4369\n",
      "Epoch 5/100\n",
      "4750/4824 [============================>.] - ETA: 0s - loss: 0.2983Epoch 4: validation loss: 0.429\n",
      "Balanced Accuracy: 82.49%\t auROC: 0.899\t auPRC: 0.886\t auPRG: 0.838\n",
      "Recall at 5%|10%|20% FDR: 49.9%|69.7%|85.5%\t Num Positives: 1436\t Num Negatives: 1436\t \n",
      "\n",
      "4824/4824 [==============================] - 1s - loss: 0.2987 - val_loss: 0.4287\n",
      "Epoch 6/100\n",
      "4750/4824 [============================>.] - ETA: 0s - loss: 0.2209Epoch 5: validation loss: 0.413\n",
      "Balanced Accuracy: 82.66%\t auROC: 0.906\t auPRC: 0.902\t auPRG: 0.854\n",
      "Recall at 5%|10%|20% FDR: 59.7%|71.2%|86.2%\t Num Positives: 1436\t Num Negatives: 1436\t \n",
      "\n",
      "4824/4824 [==============================] - 1s - loss: 0.2207 - val_loss: 0.4130\n",
      "Epoch 7/100\n",
      "4750/4824 [============================>.] - ETA: 0s - loss: 0.1663Epoch 6: validation loss: 0.413\n",
      "Balanced Accuracy: 83.15%\t auROC: 0.911\t auPRC: 0.901\t auPRG: 0.862\n",
      "Recall at 5%|10%|20% FDR: 60.4%|73.8%|87.5%\t Num Positives: 1436\t Num Negatives: 1436\t \n",
      "\n",
      "4824/4824 [==============================] - 1s - loss: 0.1665 - val_loss: 0.4132\n",
      "Epoch 8/100\n",
      "4750/4824 [============================>.] - ETA: 0s - loss: 0.1306Epoch 7: validation loss: 0.408\n",
      "Balanced Accuracy: 83.43%\t auROC: 0.912\t auPRC: 0.905\t auPRG: 0.866\n",
      "Recall at 5%|10%|20% FDR: 63.0%|75.3%|88.0%\t Num Positives: 1436\t Num Negatives: 1436\t \n",
      "\n",
      "4824/4824 [==============================] - 1s - loss: 0.1300 - val_loss: 0.4081\n",
      "Epoch 9/100\n",
      "4750/4824 [============================>.] - ETA: 0s - loss: 0.1034Epoch 8: validation loss: 0.418\n",
      "Balanced Accuracy: 83.22%\t auROC: 0.914\t auPRC: 0.906\t auPRG: 0.869\n",
      "Recall at 5%|10%|20% FDR: 61.3%|75.4%|88.0%\t Num Positives: 1436\t Num Negatives: 1436\t \n",
      "\n",
      "4824/4824 [==============================] - 1s - loss: 0.1031 - val_loss: 0.4178\n",
      "Epoch 10/100\n",
      "4750/4824 [============================>.] - ETA: 0s - loss: 0.0827Epoch 9: validation loss: 0.416\n",
      "Balanced Accuracy: 83.77%\t auROC: 0.915\t auPRC: 0.908\t auPRG: 0.872\n",
      "Recall at 5%|10%|20% FDR: 62.7%|76.2%|88.0%\t Num Positives: 1436\t Num Negatives: 1436\t \n",
      "\n",
      "4824/4824 [==============================] - 1s - loss: 0.0828 - val_loss: 0.4158\n",
      "Epoch 11/100\n",
      "4750/4824 [============================>.] - ETA: 0s - loss: 0.0697Epoch 10: validation loss: 0.416\n",
      "Balanced Accuracy: 84.05%\t auROC: 0.916\t auPRC: 0.908\t auPRG: 0.873\n",
      "Recall at 5%|10%|20% FDR: 62.3%|76.9%|88.2%\t Num Positives: 1436\t Num Negatives: 1436\t \n",
      "\n",
      "4824/4824 [==============================] - 1s - loss: 0.0693 - val_loss: 0.4156\n",
      "Epoch 12/100\n",
      "4750/4824 [============================>.] - ETA: 0s - loss: 0.0567Epoch 11: validation loss: 0.423\n",
      "Balanced Accuracy: 84.51%\t auROC: 0.916\t auPRC: 0.910\t auPRG: 0.874\n",
      "Recall at 5%|10%|20% FDR: 62.9%|77.1%|87.5%\t Num Positives: 1436\t Num Negatives: 1436\t \n",
      "\n",
      "4824/4824 [==============================] - 1s - loss: 0.0565 - val_loss: 0.4228\n",
      "Epoch 13/100\n",
      "4750/4824 [============================>.] - ETA: 0s - loss: 0.0493Epoch 12: validation loss: 0.423\n",
      "Balanced Accuracy: 84.51%\t auROC: 0.918\t auPRC: 0.913\t auPRG: 0.878\n",
      "Recall at 5%|10%|20% FDR: 67.1%|77.5%|88.0%\t Num Positives: 1436\t Num Negatives: 1436\t \n",
      "\n",
      "4824/4824 [==============================] - 1s - loss: 0.0491 - val_loss: 0.4226\n",
      "Epoch 14/100\n",
      "4750/4824 [============================>.] - ETA: 0s - loss: 0.0411Epoch 13: validation loss: 0.436\n",
      "Balanced Accuracy: 84.30%\t auROC: 0.917\t auPRC: 0.911\t auPRG: 0.877\n",
      "Recall at 5%|10%|20% FDR: 65.4%|77.9%|88.2%\t Num Positives: 1436\t Num Negatives: 1436\t \n",
      "\n",
      "4824/4824 [==============================] - 1s - loss: 0.0408 - val_loss: 0.4360\n",
      "Epoch 15/100\n",
      "4750/4824 [============================>.] - ETA: 0s - loss: 0.0353Epoch 14: validation loss: 0.442\n",
      "Balanced Accuracy: 84.54%\t auROC: 0.917\t auPRC: 0.912\t auPRG: 0.877\n",
      "Recall at 5%|10%|20% FDR: 66.4%|77.6%|88.0%\t Num Positives: 1436\t Num Negatives: 1436\t \n",
      "\n",
      "4824/4824 [==============================] - 1s - loss: 0.0352 - val_loss: 0.4417\n",
      "Epoch 16/100\n",
      "4750/4824 [============================>.] - ETA: 0s - loss: 0.0315Epoch 15: validation loss: 0.448\n",
      "Balanced Accuracy: 84.16%\t auROC: 0.918\t auPRC: 0.912\t auPRG: 0.878\n",
      "Recall at 5%|10%|20% FDR: 67.0%|77.2%|88.3%\t Num Positives: 1436\t Num Negatives: 1436\t \n",
      "\n",
      "4824/4824 [==============================] - 1s - loss: 0.0314 - val_loss: 0.4478\n",
      "Epoch 17/100\n",
      "4750/4824 [============================>.] - ETA: 0s - loss: 0.0271Epoch 16: validation loss: 0.453\n",
      "Balanced Accuracy: 84.16%\t auROC: 0.918\t auPRC: 0.914\t auPRG: 0.878\n",
      "Recall at 5%|10%|20% FDR: 67.8%|77.2%|88.2%\t Num Positives: 1436\t Num Negatives: 1436\t \n",
      "\n",
      "4824/4824 [==============================] - 1s - loss: 0.0270 - val_loss: 0.4528\n",
      "Epoch 18/100\n",
      "4750/4824 [============================>.] - ETA: 0s - loss: 0.0245Epoch 17: validation loss: 0.459\n",
      "Balanced Accuracy: 84.37%\t auROC: 0.918\t auPRC: 0.914\t auPRG: 0.879\n",
      "Recall at 5%|10%|20% FDR: 67.3%|77.5%|88.3%\t Num Positives: 1436\t Num Negatives: 1436\t \n",
      "\n",
      "4824/4824 [==============================] - 1s - loss: 0.0244 - val_loss: 0.4592\n",
      "Epoch 19/100\n",
      "4750/4824 [============================>.] - ETA: 0s - loss: 0.0220Epoch 18: validation loss: 0.470\n",
      "Balanced Accuracy: 84.12%\t auROC: 0.918\t auPRC: 0.914\t auPRG: 0.878\n",
      "Recall at 5%|10%|20% FDR: 67.8%|76.9%|88.4%\t Num Positives: 1436\t Num Negatives: 1436\t \n",
      "\n",
      "4824/4824 [==============================] - 1s - loss: 0.0219 - val_loss: 0.4696\n",
      "Epoch 20/100\n",
      "4750/4824 [============================>.] - ETA: 0s - loss: 0.0198Epoch 19: validation loss: 0.476\n",
      "Balanced Accuracy: 84.23%\t auROC: 0.918\t auPRC: 0.913\t auPRG: 0.879\n",
      "Recall at 5%|10%|20% FDR: 68.0%|77.2%|88.5%\t Num Positives: 1436\t Num Negatives: 1436\t \n",
      "\n",
      "4824/4824 [==============================] - 1s - loss: 0.0197 - val_loss: 0.4758\n",
      "Epoch 21/100\n",
      "4750/4824 [============================>.] - ETA: 0s - loss: 0.0181Epoch 20: validation loss: 0.487\n",
      "Balanced Accuracy: 84.19%\t auROC: 0.918\t auPRC: 0.913\t auPRG: 0.878\n",
      "Recall at 5%|10%|20% FDR: 67.5%|77.6%|88.4%\t Num Positives: 1436\t Num Negatives: 1436\t \n",
      "\n",
      "4824/4824 [==============================] - 1s - loss: 0.0180 - val_loss: 0.4869\n",
      "Epoch 22/100\n",
      "4750/4824 [============================>.] - ETA: 0s - loss: 0.0166Epoch 21: validation loss: 0.493\n",
      "Balanced Accuracy: 84.30%\t auROC: 0.918\t auPRC: 0.914\t auPRG: 0.878\n",
      "Recall at 5%|10%|20% FDR: 68.0%|76.9%|88.3%\t Num Positives: 1436\t Num Negatives: 1436\t \n",
      "\n",
      "4824/4824 [==============================] - 1s - loss: 0.0166 - val_loss: 0.4926\n",
      "Epoch 23/100\n",
      "4750/4824 [============================>.] - ETA: 0s - loss: 0.0154Epoch 22: validation loss: 0.499\n",
      "Balanced Accuracy: 84.37%\t auROC: 0.918\t auPRC: 0.914\t auPRG: 0.878\n",
      "Recall at 5%|10%|20% FDR: 67.8%|77.4%|88.4%\t Num Positives: 1436\t Num Negatives: 1436\t \n",
      "\n",
      "4824/4824 [==============================] - 1s - loss: 0.0153 - val_loss: 0.4993\n",
      "Epoch 24/100\n",
      "4750/4824 [============================>.] - ETA: 0s - loss: 0.0143Epoch 23: validation loss: 0.513\n",
      "Balanced Accuracy: 84.12%\t auROC: 0.917\t auPRC: 0.914\t auPRG: 0.877\n",
      "Recall at 5%|10%|20% FDR: 66.8%|77.4%|88.4%\t Num Positives: 1436\t Num Negatives: 1436\t \n",
      "\n",
      "4824/4824 [==============================] - 1s - loss: 0.0142 - val_loss: 0.5125\n",
      "Epoch 25/100\n",
      "4750/4824 [============================>.] - ETA: 0s - loss: 0.0135Epoch 24: validation loss: 0.523\n",
      "Balanced Accuracy: 84.23%\t auROC: 0.917\t auPRC: 0.914\t auPRG: 0.876\n",
      "Recall at 5%|10%|20% FDR: 66.8%|77.4%|88.4%\t Num Positives: 1436\t Num Negatives: 1436\t \n",
      "\n",
      "4824/4824 [==============================] - 1s - loss: 0.0134 - val_loss: 0.5228\n",
      "Epoch 26/100\n",
      "4750/4824 [============================>.] - ETA: 0s - loss: 0.0128Epoch 25: validation loss: 0.528\n",
      "Balanced Accuracy: 84.40%\t auROC: 0.917\t auPRC: 0.914\t auPRG: 0.877\n",
      "Recall at 5%|10%|20% FDR: 66.9%|77.5%|88.4%\t Num Positives: 1436\t Num Negatives: 1436\t \n",
      "\n",
      "4824/4824 [==============================] - 1s - loss: 0.0127 - val_loss: 0.5278\n",
      "Epoch 27/100\n",
      "4750/4824 [============================>.] - ETA: 0s - loss: 0.0122Epoch 26: validation loss: 0.535\n",
      "Balanced Accuracy: 84.19%\t auROC: 0.917\t auPRC: 0.915\t auPRG: 0.877\n",
      "Recall at 5%|10%|20% FDR: 65.7%|77.4%|88.4%\t Num Positives: 1436\t Num Negatives: 1436\t \n",
      "\n",
      "4824/4824 [==============================] - 1s - loss: 0.0120 - val_loss: 0.5354\n",
      "Epoch 28/100\n",
      "4750/4824 [============================>.] - ETA: 0s - loss: 0.0116Epoch 27: validation loss: 0.542\n",
      "Balanced Accuracy: 84.30%\t auROC: 0.917\t auPRC: 0.914\t auPRG: 0.876\n",
      "Recall at 5%|10%|20% FDR: 66.9%|77.1%|88.0%\t Num Positives: 1436\t Num Negatives: 1436\t \n",
      "\n",
      "4824/4824 [==============================] - 1s - loss: 0.0115 - val_loss: 0.5425\n",
      "Epoch 29/100\n",
      "4750/4824 [============================>.] - ETA: 0s - loss: 0.0110Epoch 28: validation loss: 0.551\n",
      "Balanced Accuracy: 84.47%\t auROC: 0.916\t auPRC: 0.914\t auPRG: 0.876\n",
      "Recall at 5%|10%|20% FDR: 67.0%|77.6%|88.2%\t Num Positives: 1436\t Num Negatives: 1436\t \n",
      "\n",
      "4824/4824 [==============================] - 1s - loss: 0.0109 - val_loss: 0.5509\n"
     ]
    }
   ],
   "source": [
    "from models_motif import LongRangeDNN_FC\n",
    "dnn_normalized = LongRangeDNN_FC(num_features=1920, use_deep_CNN=False)\n",
    "validation_data = (X_valid_normalized, y_valid)\n",
    "dnn_normalized.train(X_train_normalized, y_train, validation_data)"
   ]
  },
  {
   "cell_type": "code",
   "execution_count": 7,
   "metadata": {
    "collapsed": false,
    "scrolled": true
   },
   "outputs": [
    {
     "name": "stdout",
     "output_type": "stream",
     "text": [
      "Balanced Accuracy: 83.50%\t auROC: 0.907\t auPRC: 0.908\t auPRG: 0.858\n",
      "Recall at 5%|10%|20% FDR: 57.8%|78.6%|86.2%\t Num Positives: 906\t Num Negatives: 906\t \n",
      "Balanced Accuracy: 99.98%\t auROC: 1.000\t auPRC: 0.998\t auPRG: 0.999\n",
      "Recall at 5%|10%|20% FDR: 100.0%|100.0%|100.0%\t Num Positives: 2412\t Num Negatives: 2412\t \n",
      "Balanced Accuracy: 84.47%\t auROC: 0.916\t auPRC: 0.914\t auPRG: 0.876\n",
      "Recall at 5%|10%|20% FDR: 67.0%|77.6%|88.2%\t Num Positives: 1436\t Num Negatives: 1436\t \n"
     ]
    }
   ],
   "source": [
    "print(dnn_normalized.test(X_test_normalized, y_test))\n",
    "print(dnn_normalized.test(X_train_normalized, y_train))\n",
    "print(dnn_normalized.test(X_valid_normalized, y_valid))"
   ]
  },
  {
   "cell_type": "code",
   "execution_count": 8,
   "metadata": {
    "collapsed": true
   },
   "outputs": [],
   "source": [
    "#save model and weights\n",
    "dnn_normalized.save(contacts+'_dnn_FC_Window_motifs', '/users/mtaranov/LongRange3D/')"
   ]
  },
  {
   "cell_type": "markdown",
   "metadata": {},
   "source": [
    "# DeepLift"
   ]
  },
  {
   "cell_type": "code",
   "execution_count": 9,
   "metadata": {
    "collapsed": true
   },
   "outputs": [],
   "source": [
    "weights='/users/mtaranov/LongRange3D/weights/'+contacts+'_dnn_FC_Window_motifs.weights.h5'\n",
    "json_model='/users/mtaranov/LongRange3D/models/'+contacts+'_dnn_FC_Window_motifs.arch.json'"
   ]
  },
  {
   "cell_type": "code",
   "execution_count": 10,
   "metadata": {
    "collapsed": false
   },
   "outputs": [
    {
     "name": "stdout",
     "output_type": "stream",
     "text": [
      "True\n",
      "nonlinear_mxts_mode is set to: Gradient\n"
     ]
    }
   ],
   "source": [
    "scores = dnn_normalized.deeplift(X_valid_normalized, weights, json_model, batch_size=128)"
   ]
  },
  {
   "cell_type": "code",
   "execution_count": 11,
   "metadata": {
    "collapsed": true
   },
   "outputs": [],
   "source": [
    "np.save('/users/mtaranov/LongRange3D/deeplift_scores/'+contacts+'_scores_dnn_FC_Window_motifs.npy', scores)"
   ]
  },
  {
   "cell_type": "code",
   "execution_count": 12,
   "metadata": {
    "collapsed": false
   },
   "outputs": [
    {
     "data": {
      "text/plain": [
       "(2872, 1920)"
      ]
     },
     "execution_count": 12,
     "metadata": {},
     "output_type": "execute_result"
    }
   ],
   "source": [
    "scores.shape"
   ]
  },
  {
   "cell_type": "code",
   "execution_count": 13,
   "metadata": {
    "collapsed": false
   },
   "outputs": [
    {
     "data": {
      "text/plain": [
       "[<matplotlib.lines.Line2D at 0x7f1f7b3e16d0>]"
      ]
     },
     "execution_count": 13,
     "metadata": {},
     "output_type": "execute_result"
    },
    {
     "data": {
      "image/png": "[encoded data removed]",
      "text/plain": [
       "<matplotlib.figure.Figure at 0x7f1f7c959690>"
      ]
     },
     "metadata": {},
     "output_type": "display_data"
    }
   ],
   "source": [
    "plt.plot(np.mean(scores[10:,:], axis=0))"
   ]
  },
  {
   "cell_type": "code",
   "execution_count": 14,
   "metadata": {
    "collapsed": false
   },
   "outputs": [
    {
     "data": {
      "text/plain": [
       "<matplotlib.colorbar.Colorbar at 0x7f1ede9bce90>"
      ]
     },
     "execution_count": 14,
     "metadata": {},
     "output_type": "execute_result"
    },
    {
     "data": {
      "image/png": "[encoded data removed]",
      "text/plain": [
       "<matplotlib.figure.Figure at 0x7f1f7aaa30d0>"
      ]
     },
     "metadata": {},
     "output_type": "display_data"
    }
   ],
   "source": [
    "plt.pcolor(scores[10:,:], cmap='hot', vmin=np.min(scores[10:,:]), vmax=np.max(scores[10:,:])) # cmap='RdBu'\n",
    "plt.xlabel('motifs/features')\n",
    "plt.ylabel('examples')\n",
    "plt.title('DeepLift Score - Window Motifs')\n",
    "plt.colorbar()"
   ]
  },
  {
   "cell_type": "code",
   "execution_count": 15,
   "metadata": {
    "collapsed": false
   },
   "outputs": [],
   "source": [
    "motif_names=np.loadtxt('/users/mtaranov/datasets_3d/dist_matched_PE/motifs/train_PE_out_btw_nodes_3_0.0001/motif_names.txt', dtype=str, delimiter='/')[:,6:].reshape(640,)\n",
    "top_3_hits_names=[]\n",
    "for i in motif_names:\n",
    "    for j in range(3):\n",
    "        top_3_hits_names.append(i)\n",
    "top_3_hits_names = np.array(top_3_hits_names)"
   ]
  },
  {
   "cell_type": "code",
   "execution_count": 21,
   "metadata": {
    "collapsed": false
   },
   "outputs": [],
   "source": [
    "score_per_feature=np.mean(scores, axis=0)"
   ]
  },
  {
   "cell_type": "code",
   "execution_count": 30,
   "metadata": {
    "collapsed": false
   },
   "outputs": [],
   "source": [
    "DeepLift_Window_Motifs=top_3_hits_names[score_per_feature.argsort()[::-1]]"
   ]
  },
  {
   "cell_type": "code",
   "execution_count": 31,
   "metadata": {
    "collapsed": false
   },
   "outputs": [
    {
     "data": {
      "text/plain": [
       "(array([1888, 1910, 1913]),)"
      ]
     },
     "execution_count": 31,
     "metadata": {},
     "output_type": "execute_result"
    }
   ],
   "source": [
    "np.where(DeepLift_Window_Motifs=='CTCF_HUMAN')"
   ]
  },
  {
   "cell_type": "code",
   "execution_count": 32,
   "metadata": {
    "collapsed": false
   },
   "outputs": [
    {
     "data": {
      "text/plain": [
       "(1920,)"
      ]
     },
     "execution_count": 32,
     "metadata": {},
     "output_type": "execute_result"
    }
   ],
   "source": [
    "DeepLift_Window_Motifs.shape"
   ]
  },
  {
   "cell_type": "code",
   "execution_count": 33,
   "metadata": {
    "collapsed": false
   },
   "outputs": [
    {
     "data": {
      "text/plain": [
       "array(['UBIP1_HUMAN', 'SNAI2_HUMAN', 'HMGA1_HUMAN', 'ZBT7A_HUMAN',\n",
       "       'VDR_HUMAN', 'TYY1_HUMAN', 'BHE23_HUMAN', 'ZN143_HUMAN',\n",
       "       'NR2F6_HUMAN', 'TBX1_HUMAN', 'NR2C1_HUMAN', 'ZN143_HUMAN',\n",
       "       'NR1I2_HUMAN', 'STAT3_HUMAN', 'RUNX2_HUMAN', 'PLAL1_HUMAN',\n",
       "       'SOX4_HUMAN', 'ZN143_HUMAN', 'PURA_HUMAN', 'TBX1_HUMAN',\n",
       "       'SPIC_HUMAN', 'TEAD1_HUMAN', 'NR2E3_HUMAN', 'ZN713_HUMAN',\n",
       "       'PPARG_HUMAN', 'ZBTB4_HUMAN', 'SPIC_HUMAN', 'XBP1_HUMAN',\n",
       "       'TFEB_HUMAN', 'XBP1_HUMAN', 'TEAD1_HUMAN', 'ZBT7A_HUMAN',\n",
       "       'NR1I2_HUMAN', 'TBX1_HUMAN', 'HXA11_HUMAN', 'BMAL1_HUMAN',\n",
       "       'BHE22_HUMAN', 'IRF5_HUMAN', 'TF65_HUMAN', 'NFE2_HUMAN',\n",
       "       'ZSC16_HUMAN', 'FOXK1_HUMAN', 'LHX6_HUMAN', 'TWST1_HUMAN',\n",
       "       'RARG_HUMAN', 'BCL6_HUMAN', 'ZIC4_HUMAN', 'NFYA_HUMAN',\n",
       "       'TEAD3_HUMAN', 'E2F4_HUMAN', 'HSF4_HUMAN', 'IRF7_HUMAN',\n",
       "       'USF1_HUMAN', 'BHE41_HUMAN', 'MGAP_HUMAN', 'KLF16_HUMAN',\n",
       "       'DMBX1_HUMAN', 'PAX1_HUMAN', 'SOX1_HUMAN', 'IRF1_HUMAN',\n",
       "       'MGAP_HUMAN', 'BHE41_HUMAN', 'P63_HUMAN', 'BHE23_HUMAN',\n",
       "       'SOX1_HUMAN', 'IRX2_HUMAN', 'HESX1_HUMAN', 'ZN713_HUMAN',\n",
       "       'SCRT1_HUMAN', 'MCR_HUMAN', 'CREB3_HUMAN', 'NFYB_HUMAN',\n",
       "       'FOXG1_HUMAN', 'HSF2_HUMAN', 'SCRT1_HUMAN', 'STAT6_HUMAN',\n",
       "       'SOX11_HUMAN', 'NR2C1_HUMAN', 'STAT3_HUMAN', 'MYC_HUMAN',\n",
       "       'NFAT5_HUMAN', 'SOX18_HUMAN', 'PO3F3_HUMAN', 'RARA_HUMAN',\n",
       "       'IRX2_HUMAN', 'NKX25_HUMAN', 'ERR3_HUMAN', 'NKX61_HUMAN',\n",
       "       'COT2_HUMAN', 'ETV7_HUMAN', 'BHE23_HUMAN', 'GLI1_HUMAN',\n",
       "       'MEIS3_HUMAN', 'HXC6_HUMAN', 'ZN652_HUMAN', 'ZBED1_HUMAN',\n",
       "       'FOXO6_HUMAN', 'P63_HUMAN', 'MYC_HUMAN', 'HXA13_HUMAN'], \n",
       "      dtype='|S11')"
      ]
     },
     "execution_count": 33,
     "metadata": {},
     "output_type": "execute_result"
    }
   ],
   "source": [
    "DeepLift_Window_Motifs[:100]"
   ]
  },
  {
   "cell_type": "code",
   "execution_count": null,
   "metadata": {
    "collapsed": true
   },
   "outputs": [],
   "source": []
  }
 ],
 "metadata": {
  "anaconda-cloud": {},
  "kernelspec": {
   "display_name": "Python [default]",
   "language": "python",
   "name": "python2"
  },
  "language_info": {
   "codemirror_mode": {
    "name": "ipython",
    "version": 2
   },
   "file_extension": ".py",
   "mimetype": "text/x-python",
   "name": "python",
   "nbconvert_exporter": "python",
   "pygments_lexer": "ipython2",
   "version": "2.7.12"
  }
 },
 "nbformat": 4,
 "nbformat_minor": 0
}
