{
 "cells": [
  {
   "cell_type": "code",
   "execution_count": 268,
   "metadata": {
    "collapsed": false
   },
   "outputs": [
    {
     "name": "stdout",
     "output_type": "stream",
     "text": [
      "The autoreload extension is already loaded. To reload it, use:\n",
      "  %reload_ext autoreload\n"
     ]
    }
   ],
   "source": [
    "%matplotlib inline\n",
    "%load_ext autoreload\n",
    "%autoreload 2\n",
    "\n",
    "import numpy as np\n",
    "import matplotlib.pyplot as plt\n",
    "from sklearn.preprocessing import MinMaxScaler, StandardScaler\n",
    "import copy\n",
    "from models_exp import LongRangeDNN_FC\n",
    "from utils import get_features, get_labels, subsample_data, normalize_features, reconstruct_2d, printMatrix, binarize, zscore, get_2D, plot_prediction, change_scale \n",
    "#from sklearn.preprocessing import MinMaxScaler, StandardScaler\n",
    "#from dragonn.models import Model, SequenceDNN\n",
    "#from keras.models import Sequential\n",
    "#from keras.callbacks import Callback, EarlyStopping\n",
    "#from keras.layers.core import (\n",
    "#    Activation, Dense, Dropout, Flatten,\n",
    "#    Permute, Reshape, TimeDistributedDense\n",
    "#)\n",
    "#from keras.layers.convolutional import Convolution2D, MaxPooling2D\n",
    "#from keras.layers.recurrent import GRU\n",
    "#from keras.regularizers import l1\n",
    "\n",
    "#from deeplift import keras_conversion as kc\n",
    "#from deeplift.blobs import MxtsMode"
   ]
  },
  {
   "cell_type": "code",
   "execution_count": 269,
   "metadata": {
    "collapsed": false
   },
   "outputs": [
    {
     "data": {
      "text/plain": [
       "\"\\nX_train = get_features(data_path+'train_set_upperTriangle_noDiag_reads.npy')\\ny_train = get_labels(data_path+'labels_train_upperTriangle_noDiag.npy')\\nX_valid = get_features(data_path+'vali_set_upperTriangle_noDiag_reads.npy')\\ny_valid = get_labels(data_path+'labels_vali_upperTriangle_noDiag.npy')\\nX_test = get_features(data_path+'test_set_upperTriangle_noDiag_reads.npy')\\ny_test = get_labels(data_path+'labels_test_upperTriangle_noDiag.npy')\\n\\nX_train = get_features('NN_datasets/train_set_all_reads.npy')\\ny_train = get_labels('NN_datasets/labels_train_all.npy')\\nX_valid = get_features('NN_datasets/vali_set_all_reads.npy')\\ny_valid = get_labels('NN_datasets/labels_vali_all.npy')\\nX_test = get_features('NN_datasets/test_set_all_reads.npy')\\ny_test = get_labels('NN_datasets/labels_test_all.npy')\\n\\nX_train_subsampled, y_train_subsampled = subsample_data(X_train, y_train)\\nX_valid_subsampled, y_valid_subsampled = subsample_data(X_valid, y_valid)\\nX_test_subsampled, y_test_subsampled = subsample_data(X_test, y_test)\\n\""
      ]
     },
     "execution_count": 269,
     "metadata": {},
     "output_type": "execute_result"
    }
   ],
   "source": [
    "data_path='/users/mtaranov/NN_all_data/'\n",
    "\n",
    "X_train = get_features('/users/mtaranov/NN_thres5max_datasets/dist_matched/X_train_thres_10.npy')\n",
    "y_train = get_labels('/users/mtaranov/NN_thres5max_datasets/dist_matched/y_train_thres_10.npy')\n",
    "X_valid = get_features('/users/mtaranov/NN_thres5max_datasets/dist_matched/X_valid_thres_10.npy')\n",
    "y_valid = get_labels('/users/mtaranov/NN_thres5max_datasets/dist_matched/y_valid_thres_10.npy')\n",
    "X_test = get_features('/users/mtaranov/NN_thres5max_datasets/dist_matched/X_test_thres_10.npy')\n",
    "y_test = get_labels('/users/mtaranov/NN_thres5max_datasets/dist_matched/y_test_thres_10.npy')\n",
    "\n",
    "\"\"\"\n",
    "X_train = get_features(data_path+'train_set_upperTriangle_noDiag_reads.npy')\n",
    "y_train = get_labels(data_path+'labels_train_upperTriangle_noDiag.npy')\n",
    "X_valid = get_features(data_path+'vali_set_upperTriangle_noDiag_reads.npy')\n",
    "y_valid = get_labels(data_path+'labels_vali_upperTriangle_noDiag.npy')\n",
    "X_test = get_features(data_path+'test_set_upperTriangle_noDiag_reads.npy')\n",
    "y_test = get_labels(data_path+'labels_test_upperTriangle_noDiag.npy')\n",
    "\n",
    "X_train = get_features('NN_datasets/train_set_all_reads.npy')\n",
    "y_train = get_labels('NN_datasets/labels_train_all.npy')\n",
    "X_valid = get_features('NN_datasets/vali_set_all_reads.npy')\n",
    "y_valid = get_labels('NN_datasets/labels_vali_all.npy')\n",
    "X_test = get_features('NN_datasets/test_set_all_reads.npy')\n",
    "y_test = get_labels('NN_datasets/labels_test_all.npy')\n",
    "\n",
    "X_train_subsampled, y_train_subsampled = subsample_data(X_train, y_train)\n",
    "X_valid_subsampled, y_valid_subsampled = subsample_data(X_valid, y_valid)\n",
    "X_test_subsampled, y_test_subsampled = subsample_data(X_test, y_test)\n",
    "\"\"\""
   ]
  },
  {
   "cell_type": "code",
   "execution_count": 270,
   "metadata": {
    "collapsed": false
   },
   "outputs": [],
   "source": [
    "X_train_normalized, X_valid_normalized, X_test_normalized = normalize_features(X_train, X_valid, X_test)\n",
    "\n",
    "#X_train_normalized_subsampled, y_train_subsampled = subsample_data(X_train_normalized, y_train)\n",
    "#X_valid_normalized_subsampled, y_valid_subsampled = subsample_data(X_valid_normalized, y_valid)\n",
    "#X_test_normalized_subsampled, y_test_subsampled = subsample_data(X_test_normalized, y_test)\n",
    "\n",
    "#X_train_scaled_subsampled, y_train_subsampled = subsample_data(X_train_scaled, y_train)\n",
    "#X_valid_scaled_subsampled, y_valid_subsampled = subsample_data(X_valid_scaled, y_valid)\n",
    "#X_test_scaled_subsampled, y_test_subsampled = subsample_data(X_test_scaled, y_test)\n"
   ]
  },
  {
   "cell_type": "code",
   "execution_count": 271,
   "metadata": {
    "collapsed": true
   },
   "outputs": [],
   "source": [
    "X_train_pairs = X_train_normalized.reshape(X_train_normalized.shape[0],X_train_normalized.shape[2]*X_train_normalized.shape[3])\n",
    "X_valid_pairs = X_valid_normalized.reshape(X_valid_normalized.shape[0],X_valid_normalized.shape[2]*X_valid_normalized.shape[3])\n",
    "X_test_pairs = X_test_normalized.reshape(X_test_normalized.shape[0],X_test_normalized.shape[2]*X_test_normalized.shape[3])"
   ]
  },
  {
   "cell_type": "markdown",
   "metadata": {},
   "source": [
    "# without distance"
   ]
  },
  {
   "cell_type": "code",
   "execution_count": 455,
   "metadata": {
    "collapsed": false
   },
   "outputs": [],
   "source": [
    "from models_exp import LongRangeDNN_FC\n",
    "dnn_normalized = LongRangeDNN_FC(num_features=20, use_deep_CNN=False)"
   ]
  },
  {
   "cell_type": "code",
   "execution_count": 456,
   "metadata": {
    "collapsed": false
   },
   "outputs": [
    {
     "name": "stdout",
     "output_type": "stream",
     "text": [
      "Training model...\n",
      "Train on 1212 samples, validate on 622 samples\n",
      "Epoch 1/100\n",
      "1000/1212 [=======================>......] - ETA: 0s - loss: 9.3836Epoch 0: validation loss: 7.956\n",
      "Balanced Accuracy: 50.00%\t auROC: 0.502\t auPRC: 0.747\t auPRG: -0.002\n",
      "Recall at 5%|10%|20% FDR: 0.0%|0.0%|0.0%\t Num Positives: 311\t Num Negatives: 311\t \n",
      "\n",
      "1212/1212 [==============================] - 0s - loss: 10.4783 - val_loss: 7.9560\n",
      "Epoch 2/100\n",
      "1000/1212 [=======================>......] - ETA: 0s - loss: 15.9743Epoch 1: validation loss: 7.956\n",
      "Balanced Accuracy: 50.00%\t auROC: 0.502\t auPRC: 0.747\t auPRG: -0.002\n",
      "Recall at 5%|10%|20% FDR: 0.0%|0.0%|0.0%\t Num Positives: 311\t Num Negatives: 311\t \n",
      "\n",
      "1212/1212 [==============================] - 0s - loss: 15.9424 - val_loss: 7.9560\n",
      "Epoch 3/100\n",
      "1000/1212 [=======================>......] - ETA: 0s - loss: 15.6873Epoch 2: validation loss: 7.956\n",
      "Balanced Accuracy: 50.00%\t auROC: 0.502\t auPRC: 0.747\t auPRG: -0.002\n",
      "Recall at 5%|10%|20% FDR: 0.0%|0.0%|0.0%\t Num Positives: 311\t Num Negatives: 311\t \n",
      "\n",
      "1212/1212 [==============================] - 0s - loss: 15.9424 - val_loss: 7.9560\n",
      "Epoch 4/100\n",
      "1000/1212 [=======================>......] - ETA: 0s - loss: 16.1018Epoch 3: validation loss: 7.956\n",
      "Balanced Accuracy: 50.00%\t auROC: 0.502\t auPRC: 0.747\t auPRG: -0.002\n",
      "Recall at 5%|10%|20% FDR: 0.0%|0.0%|0.0%\t Num Positives: 311\t Num Negatives: 311\t \n",
      "\n",
      "1212/1212 [==============================] - 0s - loss: 15.9424 - val_loss: 7.9560\n",
      "Epoch 5/100\n",
      "1000/1212 [=======================>......] - ETA: 0s - loss: 16.1975Epoch 4: validation loss: 7.956\n",
      "Balanced Accuracy: 50.00%\t auROC: 0.502\t auPRC: 0.747\t auPRG: -0.002\n",
      "Recall at 5%|10%|20% FDR: 0.0%|0.0%|0.0%\t Num Positives: 311\t Num Negatives: 311\t \n",
      "\n",
      "1212/1212 [==============================] - 0s - loss: 15.9424 - val_loss: 7.9560\n",
      "Epoch 6/100\n",
      "1000/1212 [=======================>......] - ETA: 0s - loss: 16.2293Epoch 5: validation loss: 7.956\n",
      "Balanced Accuracy: 50.00%\t auROC: 0.502\t auPRC: 0.747\t auPRG: -0.002\n",
      "Recall at 5%|10%|20% FDR: 0.0%|0.0%|0.0%\t Num Positives: 311\t Num Negatives: 311\t \n",
      "\n",
      "1212/1212 [==============================] - 0s - loss: 15.9424 - val_loss: 7.9560\n",
      "Epoch 7/100\n",
      "1000/1212 [=======================>......] - ETA: 0s - loss: 15.7192Epoch 6: validation loss: 7.956\n",
      "Balanced Accuracy: 50.00%\t auROC: 0.502\t auPRC: 0.747\t auPRG: -0.002\n",
      "Recall at 5%|10%|20% FDR: 0.0%|0.0%|0.0%\t Num Positives: 311\t Num Negatives: 311\t \n",
      "\n",
      "1212/1212 [==============================] - 0s - loss: 15.9424 - val_loss: 7.9560\n",
      "Epoch 8/100\n",
      "1000/1212 [=======================>......] - ETA: 0s - loss: 15.8786Epoch 7: validation loss: 7.956\n",
      "Balanced Accuracy: 50.00%\t auROC: 0.502\t auPRC: 0.747\t auPRG: -0.002\n",
      "Recall at 5%|10%|20% FDR: 0.0%|0.0%|0.0%\t Num Positives: 311\t Num Negatives: 311\t \n",
      "\n",
      "1212/1212 [==============================] - 0s - loss: 15.9424 - val_loss: 7.9560\n",
      "Epoch 9/100\n",
      "1000/1212 [=======================>......] - ETA: 0s - loss: 16.4844Epoch 8: validation loss: 7.956\n",
      "Balanced Accuracy: 50.00%\t auROC: 0.502\t auPRC: 0.747\t auPRG: -0.002\n",
      "Recall at 5%|10%|20% FDR: 0.0%|0.0%|0.0%\t Num Positives: 311\t Num Negatives: 311\t \n",
      "\n",
      "1212/1212 [==============================] - 0s - loss: 15.9424 - val_loss: 7.9560\n",
      "Epoch 10/100\n",
      "1000/1212 [=======================>......] - ETA: 0s - loss: 15.9424Epoch 9: validation loss: 7.956\n",
      "Balanced Accuracy: 50.00%\t auROC: 0.502\t auPRC: 0.747\t auPRG: -0.002\n",
      "Recall at 5%|10%|20% FDR: 0.0%|0.0%|0.0%\t Num Positives: 311\t Num Negatives: 311\t \n",
      "\n",
      "1212/1212 [==============================] - 0s - loss: 15.9424 - val_loss: 7.9560\n",
      "Epoch 11/100\n",
      "1000/1212 [=======================>......] - ETA: 0s - loss: 16.2612Epoch 10: validation loss: 7.956\n",
      "Balanced Accuracy: 50.00%\t auROC: 0.502\t auPRC: 0.747\t auPRG: -0.002\n",
      "Recall at 5%|10%|20% FDR: 0.0%|0.0%|0.0%\t Num Positives: 311\t Num Negatives: 311\t \n",
      "\n",
      "1212/1212 [==============================] - 0s - loss: 15.9424 - val_loss: 7.9560\n",
      "Epoch 12/100\n",
      "1000/1212 [=======================>......] - ETA: 0s - loss: 16.1975Epoch 11: validation loss: 7.956\n",
      "Balanced Accuracy: 50.00%\t auROC: 0.502\t auPRC: 0.747\t auPRG: -0.002\n",
      "Recall at 5%|10%|20% FDR: 0.0%|0.0%|0.0%\t Num Positives: 311\t Num Negatives: 311\t \n",
      "\n",
      "1212/1212 [==============================] - 0s - loss: 15.9424 - val_loss: 7.9560\n",
      "Epoch 13/100\n",
      "1000/1212 [=======================>......] - ETA: 0s - loss: 16.1975Epoch 12: validation loss: 7.956\n",
      "Balanced Accuracy: 50.00%\t auROC: 0.502\t auPRC: 0.747\t auPRG: -0.002\n",
      "Recall at 5%|10%|20% FDR: 0.0%|0.0%|0.0%\t Num Positives: 311\t Num Negatives: 311\t \n",
      "\n",
      "1212/1212 [==============================] - 0s - loss: 15.9424 - val_loss: 7.9560\n",
      "Epoch 14/100\n",
      "1000/1212 [=======================>......] - ETA: 0s - loss: 16.2293Epoch 13: validation loss: 7.956\n",
      "Balanced Accuracy: 50.00%\t auROC: 0.502\t auPRC: 0.747\t auPRG: -0.002\n",
      "Recall at 5%|10%|20% FDR: 0.0%|0.0%|0.0%\t Num Positives: 311\t Num Negatives: 311\t \n",
      "\n",
      "1212/1212 [==============================] - 0s - loss: 15.9424 - val_loss: 7.9560\n",
      "Epoch 15/100\n",
      "1000/1212 [=======================>......] - ETA: 0s - loss: 16.0062Epoch 14: validation loss: 7.956\n",
      "Balanced Accuracy: 50.00%\t auROC: 0.502\t auPRC: 0.747\t auPRG: -0.002\n",
      "Recall at 5%|10%|20% FDR: 0.0%|0.0%|0.0%\t Num Positives: 311\t Num Negatives: 311\t \n",
      "\n",
      "1212/1212 [==============================] - 0s - loss: 15.9424 - val_loss: 7.9560\n",
      "Epoch 16/100\n",
      "1000/1212 [=======================>......] - ETA: 0s - loss: 16.1656Epoch 15: validation loss: 7.956\n",
      "Balanced Accuracy: 50.00%\t auROC: 0.502\t auPRC: 0.747\t auPRG: -0.002\n",
      "Recall at 5%|10%|20% FDR: 0.0%|0.0%|0.0%\t Num Positives: 311\t Num Negatives: 311\t \n",
      "\n",
      "1212/1212 [==============================] - 0s - loss: 15.9424 - val_loss: 7.9560\n",
      "Epoch 17/100\n",
      "1000/1212 [=======================>......] - ETA: 0s - loss: 15.8467Epoch 16: validation loss: 7.956\n",
      "Balanced Accuracy: 50.00%\t auROC: 0.502\t auPRC: 0.747\t auPRG: -0.002\n",
      "Recall at 5%|10%|20% FDR: 0.0%|0.0%|0.0%\t Num Positives: 311\t Num Negatives: 311\t \n",
      "\n",
      "1212/1212 [==============================] - 0s - loss: 15.9424 - val_loss: 7.9560\n",
      "Epoch 18/100\n",
      "1000/1212 [=======================>......] - ETA: 0s - loss: 15.7830Epoch 17: validation loss: 7.956\n",
      "Balanced Accuracy: 50.00%\t auROC: 0.502\t auPRC: 0.747\t auPRG: -0.002\n",
      "Recall at 5%|10%|20% FDR: 0.0%|0.0%|0.0%\t Num Positives: 311\t Num Negatives: 311\t \n",
      "\n",
      "1212/1212 [==============================] - 0s - loss: 15.9424 - val_loss: 7.9560\n",
      "Epoch 19/100\n",
      "1000/1212 [=======================>......] - ETA: 0s - loss: 15.8786Epoch 18: validation loss: 7.956\n",
      "Balanced Accuracy: 50.00%\t auROC: 0.502\t auPRC: 0.747\t auPRG: -0.002\n",
      "Recall at 5%|10%|20% FDR: 0.0%|0.0%|0.0%\t Num Positives: 311\t Num Negatives: 311\t \n",
      "\n",
      "1212/1212 [==============================] - 0s - loss: 15.9424 - val_loss: 7.9560\n",
      "Epoch 20/100\n",
      "1000/1212 [=======================>......] - ETA: 0s - loss: 15.9105Epoch 19: validation loss: 7.956\n",
      "Balanced Accuracy: 50.00%\t auROC: 0.502\t auPRC: 0.747\t auPRG: -0.002\n",
      "Recall at 5%|10%|20% FDR: 0.0%|0.0%|0.0%\t Num Positives: 311\t Num Negatives: 311\t \n",
      "\n",
      "1212/1212 [==============================] - 0s - loss: 15.9424 - val_loss: 7.9560\n",
      "Epoch 21/100\n",
      "1000/1212 [=======================>......] - ETA: 0s - loss: 16.0062Epoch 20: validation loss: 7.956\n",
      "Balanced Accuracy: 50.00%\t auROC: 0.502\t auPRC: 0.747\t auPRG: -0.002\n",
      "Recall at 5%|10%|20% FDR: 0.0%|0.0%|0.0%\t Num Positives: 311\t Num Negatives: 311\t \n",
      "\n",
      "1212/1212 [==============================] - 0s - loss: 15.9424 - val_loss: 7.9560\n",
      "Epoch 22/100\n",
      "1000/1212 [=======================>......] - ETA: 0s - loss: 16.1975Epoch 21: validation loss: 7.956\n",
      "Balanced Accuracy: 50.00%\t auROC: 0.502\t auPRC: 0.747\t auPRG: -0.002\n",
      "Recall at 5%|10%|20% FDR: 0.0%|0.0%|0.0%\t Num Positives: 311\t Num Negatives: 311\t \n",
      "\n",
      "1212/1212 [==============================] - 0s - loss: 15.9424 - val_loss: 7.9560\n"
     ]
    }
   ],
   "source": [
    "#validation_data = (X_valid_normalized_subsampled[:, :, :10, :], y_valid_subsampled)\n",
    "#dnn_normalized.train(X_train_normalized_subsampled[:, :, :10, :], y_train_subsampled, validation_data)\n",
    "validation_data = (X_valid_pairs[:,:20], y_valid)\n",
    "dnn_normalized.train(X_train_pairs[:,:20], y_train, validation_data)"
   ]
  },
  {
   "cell_type": "code",
   "execution_count": 457,
   "metadata": {
    "collapsed": false
   },
   "outputs": [
    {
     "name": "stdout",
     "output_type": "stream",
     "text": [
      "Balanced Accuracy: 50.00%\t auROC: 0.500\t auPRC: 0.746\t auPRG: -0.000\n",
      "Recall at 5%|10%|20% FDR: 0.0%|0.0%|0.0%\t Num Positives: 243\t Num Negatives: 243\t \n"
     ]
    }
   ],
   "source": [
    "print(dnn_normalized.test(X_test_pairs[:, :20], y_test))"
   ]
  },
  {
   "cell_type": "code",
   "execution_count": 458,
   "metadata": {
    "collapsed": false
   },
   "outputs": [
    {
     "name": "stdout",
     "output_type": "stream",
     "text": [
      "Balanced Accuracy: 50.00%\t auROC: 0.504\t auPRC: 0.748\t auPRG: -0.004\n",
      "Recall at 5%|10%|20% FDR: 0.0%|0.0%|0.0%\t Num Positives: 606\t Num Negatives: 606\t \n"
     ]
    }
   ],
   "source": [
    "print(dnn_normalized.test(X_train_pairs[:, :20], y_train))"
   ]
  },
  {
   "cell_type": "code",
   "execution_count": 459,
   "metadata": {
    "collapsed": false
   },
   "outputs": [
    {
     "name": "stdout",
     "output_type": "stream",
     "text": [
      "Balanced Accuracy: 50.00%\t auROC: 0.502\t auPRC: 0.747\t auPRG: -0.002\n",
      "Recall at 5%|10%|20% FDR: 0.0%|0.0%|0.0%\t Num Positives: 311\t Num Negatives: 311\t \n"
     ]
    }
   ],
   "source": [
    "print(dnn_normalized.test(X_valid_pairs[:,:20], y_valid))"
   ]
  },
  {
   "cell_type": "code",
   "execution_count": 328,
   "metadata": {
    "collapsed": false
   },
   "outputs": [],
   "source": [
    "pred_probs_test = dnn_normalized.predict(X_test_pairs[:,:20])\n",
    "#np.save(\"model_predictions/test_set_upperTriangle_noDiag_reads_with_distances_full_valid.npy\", pred_probs_test)\n",
    "pred_probs_valid = dnn_normalized.predict(X_valid_pairs[:,:20])\n",
    "#np.save(\"model_predictions/valid_set_upperTriangle_noDiag_reads_with_distances_full_valid.npy\", pred_probs_valid)\n",
    "pred_probs_train = dnn_normalized.predict(X_train_pairs[:,:20])\n",
    "#np.save(\"model_predictions/train_set_upperTriangle_noDiag_reads_with_distances_full_valid.npy\", pred_probs_train)"
   ]
  },
  {
   "cell_type": "markdown",
   "metadata": {},
   "source": [
    "# with genomic locations"
   ]
  },
  {
   "cell_type": "code",
   "execution_count": 11,
   "metadata": {
    "collapsed": false
   },
   "outputs": [],
   "source": [
    "dnn_normalized = LongRangeDNN_FC(num_features=22, use_deep_CNN=False)"
   ]
  },
  {
   "cell_type": "code",
   "execution_count": 12,
   "metadata": {
    "collapsed": false
   },
   "outputs": [
    {
     "name": "stdout",
     "output_type": "stream",
     "text": [
      "Training model...\n",
      "Train on 1212 samples, validate on 622 samples\n",
      "Epoch 1/100\n",
      "1000/1212 [=======================>......] - ETA: 0s - loss: 3.4925Epoch 0: validation loss: 0.693\n",
      "Balanced Accuracy: 50.48%\t auROC: 0.524\t auPRC: 0.536\t auPRG: 0.043\n",
      "Recall at 5%|10%|20% FDR: 1.6%|1.6%|1.9%\t Num Positives: 311\t Num Negatives: 311\t \n",
      "\n",
      "1212/1212 [==============================] - 0s - loss: 3.1257 - val_loss: 0.6927\n",
      "Epoch 2/100\n",
      "1000/1212 [=======================>......] - ETA: 0s - loss: 1.3638Epoch 1: validation loss: 0.680\n",
      "Balanced Accuracy: 56.59%\t auROC: 0.654\t auPRC: 0.657\t auPRG: 0.300\n",
      "Recall at 5%|10%|20% FDR: 0.6%|0.6%|12.5%\t Num Positives: 311\t Num Negatives: 311\t \n",
      "\n",
      "1212/1212 [==============================] - 0s - loss: 1.3615 - val_loss: 0.6804\n",
      "Epoch 3/100\n",
      "1000/1212 [=======================>......] - ETA: 0s - loss: 1.3211Epoch 2: validation loss: 0.667\n",
      "Balanced Accuracy: 66.56%\t auROC: 0.710\t auPRC: 0.713\t auPRG: 0.415\n",
      "Recall at 5%|10%|20% FDR: 0.3%|0.3%|41.8%\t Num Positives: 311\t Num Negatives: 311\t \n",
      "\n",
      "1212/1212 [==============================] - 0s - loss: 1.3219 - val_loss: 0.6665\n",
      "Epoch 4/100\n",
      "1000/1212 [=======================>......] - ETA: 0s - loss: 1.2761Epoch 3: validation loss: 0.648\n",
      "Balanced Accuracy: 63.34%\t auROC: 0.718\t auPRC: 0.717\t auPRG: 0.443\n",
      "Recall at 5%|10%|20% FDR: 0.3%|0.3%|44.4%\t Num Positives: 311\t Num Negatives: 311\t \n",
      "\n",
      "1212/1212 [==============================] - 0s - loss: 1.2708 - val_loss: 0.6483\n",
      "Epoch 5/100\n",
      "1000/1212 [=======================>......] - ETA: 0s - loss: 1.1890Epoch 4: validation loss: 0.687\n",
      "Balanced Accuracy: 55.79%\t auROC: 0.702\t auPRC: 0.681\t auPRG: 0.428\n",
      "Recall at 5%|10%|20% FDR: 0.3%|0.3%|0.3%\t Num Positives: 311\t Num Negatives: 311\t \n",
      "\n",
      "1212/1212 [==============================] - 0s - loss: 1.1863 - val_loss: 0.6872\n",
      "Epoch 6/100\n",
      "1000/1212 [=======================>......] - ETA: 0s - loss: 1.3589Epoch 5: validation loss: 0.620\n",
      "Balanced Accuracy: 69.29%\t auROC: 0.745\t auPRC: 0.756\t auPRG: 0.495\n",
      "Recall at 5%|10%|20% FDR: 0.6%|0.6%|50.5%\t Num Positives: 311\t Num Negatives: 311\t \n",
      "\n",
      "1212/1212 [==============================] - 0s - loss: 1.3328 - val_loss: 0.6204\n",
      "Epoch 7/100\n",
      "1000/1212 [=======================>......] - ETA: 0s - loss: 1.0868Epoch 6: validation loss: 0.610\n",
      "Balanced Accuracy: 69.29%\t auROC: 0.751\t auPRC: 0.772\t auPRG: 0.510\n",
      "Recall at 5%|10%|20% FDR: 0.6%|34.4%|53.7%\t Num Positives: 311\t Num Negatives: 311\t \n",
      "\n",
      "1212/1212 [==============================] - 0s - loss: 1.0778 - val_loss: 0.6102\n",
      "Epoch 8/100\n",
      "1000/1212 [=======================>......] - ETA: 0s - loss: 1.4015Epoch 7: validation loss: 0.624\n",
      "Balanced Accuracy: 68.81%\t auROC: 0.745\t auPRC: 0.760\t auPRG: 0.501\n",
      "Recall at 5%|10%|20% FDR: 1.9%|1.9%|53.4%\t Num Positives: 311\t Num Negatives: 311\t \n",
      "\n",
      "1212/1212 [==============================] - 0s - loss: 1.3752 - val_loss: 0.6238\n",
      "Epoch 9/100\n",
      "1000/1212 [=======================>......] - ETA: 0s - loss: 1.0860Epoch 8: validation loss: 0.708\n",
      "Balanced Accuracy: 57.56%\t auROC: 0.719\t auPRC: 0.694\t auPRG: 0.468\n",
      "Recall at 5%|10%|20% FDR: 0.3%|0.3%|12.2%\t Num Positives: 311\t Num Negatives: 311\t \n",
      "\n",
      "1212/1212 [==============================] - 0s - loss: 1.1019 - val_loss: 0.7077\n",
      "Epoch 10/100\n",
      "1000/1212 [=======================>......] - ETA: 0s - loss: 1.0742Epoch 9: validation loss: 0.677\n",
      "Balanced Accuracy: 65.59%\t auROC: 0.742\t auPRC: 0.780\t auPRG: 0.473\n",
      "Recall at 5%|10%|20% FDR: 33.4%|36.0%|52.4%\t Num Positives: 311\t Num Negatives: 311\t \n",
      "\n",
      "1212/1212 [==============================] - 0s - loss: 1.0814 - val_loss: 0.6765\n",
      "Epoch 11/100\n",
      "1000/1212 [=======================>......] - ETA: 0s - loss: 1.1472Epoch 10: validation loss: 0.662\n",
      "Balanced Accuracy: 62.54%\t auROC: 0.736\t auPRC: 0.724\t auPRG: 0.496\n",
      "Recall at 5%|10%|20% FDR: 0.6%|0.6%|44.7%\t Num Positives: 311\t Num Negatives: 311\t \n",
      "\n",
      "1212/1212 [==============================] - 0s - loss: 1.1416 - val_loss: 0.6623\n",
      "Epoch 12/100\n",
      "1000/1212 [=======================>......] - ETA: 0s - loss: 1.0496Epoch 11: validation loss: 0.632\n",
      "Balanced Accuracy: 68.01%\t auROC: 0.747\t auPRC: 0.784\t auPRG: 0.486\n",
      "Recall at 5%|10%|20% FDR: 28.6%|39.5%|52.4%\t Num Positives: 311\t Num Negatives: 311\t \n",
      "\n",
      "1212/1212 [==============================] - 0s - loss: 1.0459 - val_loss: 0.6322\n",
      "Epoch 13/100\n",
      "1000/1212 [=======================>......] - ETA: 0s - loss: 1.0417Epoch 12: validation loss: 0.611\n",
      "Balanced Accuracy: 68.49%\t auROC: 0.755\t auPRC: 0.751\t auPRG: 0.525\n",
      "Recall at 5%|10%|20% FDR: 1.0%|1.0%|47.6%\t Num Positives: 311\t Num Negatives: 311\t \n",
      "\n",
      "1212/1212 [==============================] - 0s - loss: 1.0188 - val_loss: 0.6113\n",
      "Epoch 14/100\n",
      "1000/1212 [=======================>......] - ETA: 0s - loss: 0.9752Epoch 13: validation loss: 0.622\n",
      "Balanced Accuracy: 68.17%\t auROC: 0.748\t auPRC: 0.783\t auPRG: 0.492\n",
      "Recall at 5%|10%|20% FDR: 25.7%|37.6%|53.4%\t Num Positives: 311\t Num Negatives: 311\t \n",
      "\n",
      "1212/1212 [==============================] - 0s - loss: 1.0132 - val_loss: 0.6223\n",
      "Epoch 15/100\n",
      "1000/1212 [=======================>......] - ETA: 0s - loss: 0.9000Epoch 14: validation loss: 0.649\n",
      "Balanced Accuracy: 67.36%\t auROC: 0.756\t auPRC: 0.748\t auPRG: 0.532\n",
      "Recall at 5%|10%|20% FDR: 1.3%|1.3%|48.2%\t Num Positives: 311\t Num Negatives: 311\t \n",
      "\n",
      "1212/1212 [==============================] - 0s - loss: 0.9030 - val_loss: 0.6486\n",
      "Epoch 16/100\n",
      "1000/1212 [=======================>......] - ETA: 0s - loss: 1.0031Epoch 15: validation loss: 0.586\n",
      "Balanced Accuracy: 69.94%\t auROC: 0.765\t auPRC: 0.779\t auPRG: 0.535\n",
      "Recall at 5%|10%|20% FDR: 1.6%|37.0%|51.4%\t Num Positives: 311\t Num Negatives: 311\t \n",
      "\n",
      "1212/1212 [==============================] - 0s - loss: 0.9815 - val_loss: 0.5861\n",
      "Epoch 17/100\n",
      "1000/1212 [=======================>......] - ETA: 0s - loss: 0.7799Epoch 16: validation loss: 0.746\n",
      "Balanced Accuracy: 64.79%\t auROC: 0.750\t auPRC: 0.739\t auPRG: 0.519\n",
      "Recall at 5%|10%|20% FDR: 0.3%|0.3%|49.8%\t Num Positives: 311\t Num Negatives: 311\t \n",
      "\n",
      "1212/1212 [==============================] - 0s - loss: 0.7903 - val_loss: 0.7460\n",
      "Epoch 18/100\n",
      "1000/1212 [=======================>......] - ETA: 0s - loss: 1.2018Epoch 17: validation loss: 0.590\n",
      "Balanced Accuracy: 69.94%\t auROC: 0.758\t auPRC: 0.773\t auPRG: 0.513\n",
      "Recall at 5%|10%|20% FDR: 1.9%|37.0%|50.2%\t Num Positives: 311\t Num Negatives: 311\t \n",
      "\n",
      "1212/1212 [==============================] - 0s - loss: 1.1484 - val_loss: 0.5902\n",
      "Epoch 19/100\n",
      "1000/1212 [=======================>......] - ETA: 0s - loss: 0.7859Epoch 18: validation loss: 0.675\n",
      "Balanced Accuracy: 67.36%\t auROC: 0.761\t auPRC: 0.758\t auPRG: 0.533\n",
      "Recall at 5%|10%|20% FDR: 1.0%|1.0%|50.5%\t Num Positives: 311\t Num Negatives: 311\t \n",
      "\n",
      "1212/1212 [==============================] - 0s - loss: 0.7660 - val_loss: 0.6750\n",
      "Epoch 20/100\n",
      "1000/1212 [=======================>......] - ETA: 0s - loss: 1.2653Epoch 19: validation loss: 0.602\n",
      "Balanced Accuracy: 69.61%\t auROC: 0.747\t auPRC: 0.786\t auPRG: 0.492\n",
      "Recall at 5%|10%|20% FDR: 28.0%|34.1%|53.1%\t Num Positives: 311\t Num Negatives: 311\t \n",
      "\n",
      "1212/1212 [==============================] - 0s - loss: 1.2522 - val_loss: 0.6023\n",
      "Epoch 21/100\n",
      "1000/1212 [=======================>......] - ETA: 0s - loss: 0.8878Epoch 20: validation loss: 0.620\n",
      "Balanced Accuracy: 68.33%\t auROC: 0.764\t auPRC: 0.772\t auPRG: 0.531\n",
      "Recall at 5%|10%|20% FDR: 2.3%|2.3%|52.4%\t Num Positives: 311\t Num Negatives: 311\t \n",
      "\n",
      "1212/1212 [==============================] - 0s - loss: 0.8696 - val_loss: 0.6197\n",
      "Epoch 22/100\n",
      "1000/1212 [=======================>......] - ETA: 0s - loss: 0.6705Epoch 21: validation loss: 0.941\n",
      "Balanced Accuracy: 57.56%\t auROC: 0.741\t auPRC: 0.725\t auPRG: 0.498\n",
      "Recall at 5%|10%|20% FDR: 0.6%|0.6%|42.8%\t Num Positives: 311\t Num Negatives: 311\t \n",
      "\n",
      "1212/1212 [==============================] - 0s - loss: 0.6922 - val_loss: 0.9406\n",
      "Epoch 23/100\n",
      "1000/1212 [=======================>......] - ETA: 0s - loss: 1.4249Epoch 22: validation loss: 0.574\n",
      "Balanced Accuracy: 69.61%\t auROC: 0.764\t auPRC: 0.791\t auPRG: 0.532\n",
      "Recall at 5%|10%|20% FDR: 1.9%|38.6%|54.3%\t Num Positives: 311\t Num Negatives: 311\t \n",
      "\n",
      "1212/1212 [==============================] - 0s - loss: 1.3360 - val_loss: 0.5735\n",
      "Epoch 24/100\n",
      "1000/1212 [=======================>......] - ETA: 0s - loss: 0.7355Epoch 23: validation loss: 0.622\n",
      "Balanced Accuracy: 70.26%\t auROC: 0.769\t auPRC: 0.779\t auPRG: 0.547\n",
      "Recall at 5%|10%|20% FDR: 1.6%|40.8%|51.8%\t Num Positives: 311\t Num Negatives: 311\t \n",
      "\n",
      "1212/1212 [==============================] - 0s - loss: 0.7144 - val_loss: 0.6221\n",
      "Epoch 25/100\n",
      "1000/1212 [=======================>......] - ETA: 0s - loss: 0.5548Epoch 24: validation loss: 0.722\n",
      "Balanced Accuracy: 67.04%\t auROC: 0.767\t auPRC: 0.770\t auPRG: 0.543\n",
      "Recall at 5%|10%|20% FDR: 1.9%|1.9%|50.5%\t Num Positives: 311\t Num Negatives: 311\t \n",
      "\n",
      "1212/1212 [==============================] - 0s - loss: 0.5732 - val_loss: 0.7225\n",
      "Epoch 26/100\n",
      "1000/1212 [=======================>......] - ETA: 0s - loss: 1.2572Epoch 25: validation loss: 0.576\n",
      "Balanced Accuracy: 71.06%\t auROC: 0.761\t auPRC: 0.794\t auPRG: 0.518\n",
      "Recall at 5%|10%|20% FDR: 31.8%|41.5%|56.3%\t Num Positives: 311\t Num Negatives: 311\t \n",
      "\n",
      "1212/1212 [==============================] - 0s - loss: 1.2023 - val_loss: 0.5756\n",
      "Epoch 27/100\n",
      "1000/1212 [=======================>......] - ETA: 0s - loss: 0.7391Epoch 26: validation loss: 0.635\n",
      "Balanced Accuracy: 69.94%\t auROC: 0.768\t auPRC: 0.785\t auPRG: 0.544\n",
      "Recall at 5%|10%|20% FDR: 1.6%|41.8%|56.3%\t Num Positives: 311\t Num Negatives: 311\t \n",
      "\n",
      "1212/1212 [==============================] - 0s - loss: 0.6981 - val_loss: 0.6346\n",
      "Epoch 28/100\n",
      "1000/1212 [=======================>......] - ETA: 0s - loss: 0.5160Epoch 27: validation loss: 1.054\n",
      "Balanced Accuracy: 56.75%\t auROC: 0.745\t auPRC: 0.740\t auPRG: 0.498\n",
      "Recall at 5%|10%|20% FDR: 1.0%|1.0%|48.6%\t Num Positives: 311\t Num Negatives: 311\t \n",
      "\n",
      "1212/1212 [==============================] - 0s - loss: 0.5439 - val_loss: 1.0545\n",
      "Epoch 29/100\n",
      "1000/1212 [=======================>......] - ETA: 0s - loss: 1.3893Epoch 28: validation loss: 0.583\n",
      "Balanced Accuracy: 70.26%\t auROC: 0.760\t auPRC: 0.776\t auPRG: 0.528\n",
      "Recall at 5%|10%|20% FDR: 1.3%|38.9%|54.7%\t Num Positives: 311\t Num Negatives: 311\t \n",
      "\n",
      "1212/1212 [==============================] - 0s - loss: 1.2892 - val_loss: 0.5832\n",
      "Epoch 30/100\n",
      "1000/1212 [=======================>......] - ETA: 0s - loss: 0.6032Epoch 29: validation loss: 0.652\n",
      "Balanced Accuracy: 70.42%\t auROC: 0.766\t auPRC: 0.782\t auPRG: 0.538\n",
      "Recall at 5%|10%|20% FDR: 1.9%|37.6%|51.8%\t Num Positives: 311\t Num Negatives: 311\t \n",
      "\n",
      "1212/1212 [==============================] - 0s - loss: 0.5908 - val_loss: 0.6520\n",
      "Epoch 31/100\n",
      "1000/1212 [=======================>......] - ETA: 0s - loss: 0.4544Epoch 30: validation loss: 0.736\n",
      "Balanced Accuracy: 70.10%\t auROC: 0.755\t auPRC: 0.785\t auPRG: 0.515\n",
      "Recall at 5%|10%|20% FDR: 1.3%|39.5%|54.7%\t Num Positives: 311\t Num Negatives: 311\t \n",
      "\n",
      "1212/1212 [==============================] - 0s - loss: 0.4438 - val_loss: 0.7361\n",
      "Epoch 32/100\n",
      "1000/1212 [=======================>......] - ETA: 0s - loss: 1.6352Epoch 31: validation loss: 0.664\n",
      "Balanced Accuracy: 63.50%\t auROC: 0.710\t auPRC: 0.751\t auPRG: 0.387\n",
      "Recall at 5%|10%|20% FDR: 27.7%|32.8%|41.2%\t Num Positives: 311\t Num Negatives: 311\t \n",
      "\n",
      "1212/1212 [==============================] - 0s - loss: 1.5836 - val_loss: 0.6640\n",
      "Epoch 33/100\n",
      "1000/1212 [=======================>......] - ETA: 0s - loss: 1.1903Epoch 32: validation loss: 0.585\n",
      "Balanced Accuracy: 69.13%\t auROC: 0.763\t auPRC: 0.802\t auPRG: 0.522\n",
      "Recall at 5%|10%|20% FDR: 32.2%|45.7%|55.0%\t Num Positives: 311\t Num Negatives: 311\t \n",
      "\n",
      "1212/1212 [==============================] - 0s - loss: 1.1678 - val_loss: 0.5847\n",
      "Epoch 34/100\n",
      "1000/1212 [=======================>......] - ETA: 0s - loss: 0.9124Epoch 33: validation loss: 0.583\n",
      "Balanced Accuracy: 70.26%\t auROC: 0.767\t auPRC: 0.797\t auPRG: 0.535\n",
      "Recall at 5%|10%|20% FDR: 25.4%|44.1%|55.6%\t Num Positives: 311\t Num Negatives: 311\t \n",
      "\n",
      "1212/1212 [==============================] - 0s - loss: 0.8794 - val_loss: 0.5834\n",
      "Epoch 35/100\n",
      "1000/1212 [=======================>......] - ETA: 0s - loss: 0.6341Epoch 34: validation loss: 0.627\n",
      "Balanced Accuracy: 69.29%\t auROC: 0.764\t auPRC: 0.790\t auPRG: 0.530\n",
      "Recall at 5%|10%|20% FDR: 1.3%|44.4%|54.7%\t Num Positives: 311\t Num Negatives: 311\t \n",
      "\n",
      "1212/1212 [==============================] - 0s - loss: 0.6310 - val_loss: 0.6269\n",
      "Epoch 36/100\n",
      "1000/1212 [=======================>......] - ETA: 0s - loss: 0.6421Epoch 35: validation loss: 0.695\n",
      "Balanced Accuracy: 60.93%\t auROC: 0.751\t auPRC: 0.768\t auPRG: 0.502\n",
      "Recall at 5%|10%|20% FDR: 1.3%|37.6%|53.1%\t Num Positives: 311\t Num Negatives: 311\t \n",
      "\n",
      "1212/1212 [==============================] - 0s - loss: 0.9347 - val_loss: 0.6952\n",
      "Epoch 37/100\n",
      "1000/1212 [=======================>......] - ETA: 0s - loss: 0.7315Epoch 36: validation loss: 0.648\n",
      "Balanced Accuracy: 69.94%\t auROC: 0.762\t auPRC: 0.775\t auPRG: 0.538\n",
      "Recall at 5%|10%|20% FDR: 1.6%|42.1%|54.3%\t Num Positives: 311\t Num Negatives: 311\t \n",
      "\n",
      "1212/1212 [==============================] - 0s - loss: 0.6945 - val_loss: 0.6481\n",
      "Epoch 38/100\n",
      "1000/1212 [=======================>......] - ETA: 0s - loss: 0.4210Epoch 37: validation loss: 0.704\n",
      "Balanced Accuracy: 71.86%\t auROC: 0.765\t auPRC: 0.782\t auPRG: 0.545\n",
      "Recall at 5%|10%|20% FDR: 2.3%|36.3%|52.7%\t Num Positives: 311\t Num Negatives: 311\t \n",
      "\n",
      "1212/1212 [==============================] - 0s - loss: 0.4194 - val_loss: 0.7036\n",
      "Epoch 39/100\n",
      "1000/1212 [=======================>......] - ETA: 0s - loss: 0.3530Epoch 38: validation loss: 1.866\n",
      "Balanced Accuracy: 50.00%\t auROC: 0.723\t auPRC: 0.703\t auPRG: 0.480\n",
      "Recall at 5%|10%|20% FDR: 0.0%|0.0%|28.3%\t Num Positives: 311\t Num Negatives: 311\t \n",
      "\n",
      "1212/1212 [==============================] - 0s - loss: 0.4197 - val_loss: 1.8661\n",
      "Epoch 40/100\n",
      "1000/1212 [=======================>......] - ETA: 0s - loss: 1.7853Epoch 39: validation loss: 0.584\n",
      "Balanced Accuracy: 69.45%\t auROC: 0.760\t auPRC: 0.791\t auPRG: 0.515\n",
      "Recall at 5%|10%|20% FDR: 28.6%|41.2%|50.5%\t Num Positives: 311\t Num Negatives: 311\t \n",
      "\n",
      "1212/1212 [==============================] - 0s - loss: 1.6329 - val_loss: 0.5841\n",
      "Epoch 41/100\n",
      "1000/1212 [=======================>......] - ETA: 0s - loss: 0.7266Epoch 40: validation loss: 0.601\n",
      "Balanced Accuracy: 71.22%\t auROC: 0.770\t auPRC: 0.795\t auPRG: 0.552\n",
      "Recall at 5%|10%|20% FDR: 27.7%|46.3%|55.6%\t Num Positives: 311\t Num Negatives: 311\t \n",
      "\n",
      "1212/1212 [==============================] - 0s - loss: 0.7017 - val_loss: 0.6011\n",
      "Epoch 42/100\n",
      "1000/1212 [=======================>......] - ETA: 0s - loss: 0.4766Epoch 41: validation loss: 0.661\n",
      "Balanced Accuracy: 70.74%\t auROC: 0.768\t auPRC: 0.793\t auPRG: 0.550\n",
      "Recall at 5%|10%|20% FDR: 2.3%|46.9%|55.0%\t Num Positives: 311\t Num Negatives: 311\t \n",
      "\n",
      "1212/1212 [==============================] - 0s - loss: 0.4681 - val_loss: 0.6615\n",
      "Epoch 43/100\n",
      "1000/1212 [=======================>......] - ETA: 0s - loss: 0.4029Epoch 42: validation loss: 1.199\n",
      "Balanced Accuracy: 51.77%\t auROC: 0.746\t auPRC: 0.731\t auPRG: 0.519\n",
      "Recall at 5%|10%|20% FDR: 1.0%|1.0%|53.1%\t Num Positives: 311\t Num Negatives: 311\t \n",
      "\n",
      "1212/1212 [==============================] - 0s - loss: 0.5407 - val_loss: 1.1988\n",
      "Epoch 44/100\n",
      "1000/1212 [=======================>......] - ETA: 0s - loss: 1.0331Epoch 43: validation loss: 0.631\n",
      "Balanced Accuracy: 70.90%\t auROC: 0.770\t auPRC: 0.788\t auPRG: 0.551\n",
      "Recall at 5%|10%|20% FDR: 1.3%|42.8%|56.3%\t Num Positives: 311\t Num Negatives: 311\t \n",
      "\n",
      "1212/1212 [==============================] - 0s - loss: 0.9333 - val_loss: 0.6311\n"
     ]
    }
   ],
   "source": [
    "validation_data = (X_valid_pairs, y_valid)\n",
    "dnn_normalized.train(X_train_pairs, y_train, validation_data)"
   ]
  },
  {
   "cell_type": "code",
   "execution_count": 13,
   "metadata": {
    "collapsed": false
   },
   "outputs": [
    {
     "name": "stdout",
     "output_type": "stream",
     "text": [
      "Balanced Accuracy: 72.02%\t auROC: 0.758\t auPRC: 0.778\t auPRG: 0.537\n",
      "Recall at 5%|10%|20% FDR: 7.0%|31.7%|49.0%\t Num Positives: 243\t Num Negatives: 243\t \n"
     ]
    }
   ],
   "source": [
    "print(dnn_normalized.test(X_test_pairs, y_test))"
   ]
  },
  {
   "cell_type": "markdown",
   "metadata": {},
   "source": [
    "# with distance only"
   ]
  },
  {
   "cell_type": "code",
   "execution_count": 14,
   "metadata": {
    "collapsed": false
   },
   "outputs": [],
   "source": [
    "dnn_normalized = LongRangeDNN_FC(num_features=2, use_deep_CNN=True)"
   ]
  },
  {
   "cell_type": "code",
   "execution_count": 15,
   "metadata": {
    "collapsed": false
   },
   "outputs": [
    {
     "name": "stdout",
     "output_type": "stream",
     "text": [
      "Training model...\n",
      "Train on 1212 samples, validate on 622 samples\n",
      "Epoch 1/100\n",
      "1000/1212 [=======================>......] - ETA: 0s - loss: 2.0846Epoch 0: validation loss: 0.758\n",
      "Balanced Accuracy: 50.00%\t auROC: 0.481\t auPRC: 0.480\t auPRG: 0.015\n",
      "Recall at 5%|10%|20% FDR: 0.3%|0.3%|0.3%\t Num Positives: 311\t Num Negatives: 311\t \n",
      "\n",
      "1212/1212 [==============================] - 0s - loss: 1.9640 - val_loss: 0.7584\n",
      "Epoch 2/100\n",
      "1000/1212 [=======================>......] - ETA: 0s - loss: 1.3991Epoch 1: validation loss: 0.696\n",
      "Balanced Accuracy: 50.00%\t auROC: 0.555\t auPRC: 0.518\t auPRG: 0.157\n",
      "Recall at 5%|10%|20% FDR: 0.3%|0.3%|0.3%\t Num Positives: 311\t Num Negatives: 311\t \n",
      "\n",
      "1212/1212 [==============================] - 0s - loss: 1.4115 - val_loss: 0.6958\n",
      "Epoch 3/100\n",
      "1000/1212 [=======================>......] - ETA: 0s - loss: 1.3495Epoch 2: validation loss: 0.689\n",
      "Balanced Accuracy: 57.72%\t auROC: 0.605\t auPRC: 0.587\t auPRG: 0.175\n",
      "Recall at 5%|10%|20% FDR: 0.0%|0.0%|0.0%\t Num Positives: 311\t Num Negatives: 311\t \n",
      "\n",
      "1212/1212 [==============================] - 0s - loss: 1.3500 - val_loss: 0.6887\n",
      "Epoch 4/100\n",
      "1000/1212 [=======================>......] - ETA: 0s - loss: 1.3802Epoch 3: validation loss: 0.700\n",
      "Balanced Accuracy: 57.56%\t auROC: 0.605\t auPRC: 0.587\t auPRG: 0.175\n",
      "Recall at 5%|10%|20% FDR: 0.0%|0.0%|0.0%\t Num Positives: 311\t Num Negatives: 311\t \n",
      "\n",
      "1212/1212 [==============================] - 0s - loss: 1.3655 - val_loss: 0.7000\n",
      "Epoch 5/100\n",
      "1000/1212 [=======================>......] - ETA: 0s - loss: 1.3708Epoch 4: validation loss: 0.701\n",
      "Balanced Accuracy: 57.72%\t auROC: 0.605\t auPRC: 0.587\t auPRG: 0.175\n",
      "Recall at 5%|10%|20% FDR: 0.0%|0.0%|0.0%\t Num Positives: 311\t Num Negatives: 311\t \n",
      "\n",
      "1212/1212 [==============================] - 0s - loss: 1.3539 - val_loss: 0.7015\n",
      "Epoch 6/100\n",
      "1000/1212 [=======================>......] - ETA: 0s - loss: 1.3562Epoch 5: validation loss: 0.677\n",
      "Balanced Accuracy: 57.72%\t auROC: 0.605\t auPRC: 0.587\t auPRG: 0.175\n",
      "Recall at 5%|10%|20% FDR: 0.0%|0.0%|0.0%\t Num Positives: 311\t Num Negatives: 311\t \n",
      "\n",
      "1212/1212 [==============================] - 0s - loss: 1.3559 - val_loss: 0.6767\n",
      "Epoch 7/100\n",
      "1000/1212 [=======================>......] - ETA: 0s - loss: 1.3450Epoch 6: validation loss: 0.680\n",
      "Balanced Accuracy: 57.72%\t auROC: 0.605\t auPRC: 0.587\t auPRG: 0.175\n",
      "Recall at 5%|10%|20% FDR: 0.0%|0.0%|0.0%\t Num Positives: 311\t Num Negatives: 311\t \n",
      "\n",
      "1212/1212 [==============================] - 0s - loss: 1.3469 - val_loss: 0.6798\n",
      "Epoch 8/100\n",
      "1000/1212 [=======================>......] - ETA: 0s - loss: 1.3434Epoch 7: validation loss: 0.679\n",
      "Balanced Accuracy: 57.72%\t auROC: 0.605\t auPRC: 0.588\t auPRG: 0.175\n",
      "Recall at 5%|10%|20% FDR: 0.0%|0.0%|0.0%\t Num Positives: 311\t Num Negatives: 311\t \n",
      "\n",
      "1212/1212 [==============================] - 0s - loss: 1.3427 - val_loss: 0.6785\n",
      "Epoch 9/100\n",
      "1000/1212 [=======================>......] - ETA: 0s - loss: 1.3371Epoch 8: validation loss: 0.677\n",
      "Balanced Accuracy: 57.88%\t auROC: 0.605\t auPRC: 0.587\t auPRG: 0.175\n",
      "Recall at 5%|10%|20% FDR: 0.0%|0.0%|0.0%\t Num Positives: 311\t Num Negatives: 311\t \n",
      "\n",
      "1212/1212 [==============================] - 0s - loss: 1.3418 - val_loss: 0.6774\n",
      "Epoch 10/100\n",
      "1000/1212 [=======================>......] - ETA: 0s - loss: 1.3409Epoch 9: validation loss: 0.680\n",
      "Balanced Accuracy: 57.72%\t auROC: 0.605\t auPRC: 0.587\t auPRG: 0.175\n",
      "Recall at 5%|10%|20% FDR: 0.0%|0.0%|0.0%\t Num Positives: 311\t Num Negatives: 311\t \n",
      "\n",
      "1212/1212 [==============================] - 0s - loss: 1.3395 - val_loss: 0.6796\n",
      "Epoch 11/100\n",
      "1000/1212 [=======================>......] - ETA: 0s - loss: 1.3482Epoch 10: validation loss: 0.680\n",
      "Balanced Accuracy: 57.72%\t auROC: 0.605\t auPRC: 0.587\t auPRG: 0.175\n",
      "Recall at 5%|10%|20% FDR: 0.0%|0.0%|0.0%\t Num Positives: 311\t Num Negatives: 311\t \n",
      "\n",
      "1212/1212 [==============================] - 0s - loss: 1.3431 - val_loss: 0.6797\n",
      "Epoch 12/100\n",
      "1000/1212 [=======================>......] - ETA: 0s - loss: 1.3399Epoch 11: validation loss: 0.695\n",
      "Balanced Accuracy: 57.72%\t auROC: 0.602\t auPRC: 0.582\t auPRG: 0.174\n",
      "Recall at 5%|10%|20% FDR: 0.0%|0.0%|0.0%\t Num Positives: 311\t Num Negatives: 311\t \n",
      "\n",
      "1212/1212 [==============================] - 0s - loss: 1.3442 - val_loss: 0.6953\n",
      "Epoch 13/100\n",
      "1000/1212 [=======================>......] - ETA: 0s - loss: 1.3527Epoch 12: validation loss: 0.679\n",
      "Balanced Accuracy: 57.56%\t auROC: 0.605\t auPRC: 0.588\t auPRG: 0.175\n",
      "Recall at 5%|10%|20% FDR: 0.0%|0.0%|0.0%\t Num Positives: 311\t Num Negatives: 311\t \n",
      "\n",
      "1212/1212 [==============================] - 0s - loss: 1.3482 - val_loss: 0.6793\n",
      "Epoch 14/100\n",
      "1000/1212 [=======================>......] - ETA: 0s - loss: 1.3374Epoch 13: validation loss: 0.677\n",
      "Balanced Accuracy: 57.88%\t auROC: 0.605\t auPRC: 0.587\t auPRG: 0.175\n",
      "Recall at 5%|10%|20% FDR: 0.0%|0.0%|0.0%\t Num Positives: 311\t Num Negatives: 311\t \n",
      "\n",
      "1212/1212 [==============================] - 0s - loss: 1.3408 - val_loss: 0.6771\n",
      "Epoch 15/100\n",
      "1000/1212 [=======================>......] - ETA: 0s - loss: 1.3577Epoch 14: validation loss: 0.681\n",
      "Balanced Accuracy: 57.72%\t auROC: 0.605\t auPRC: 0.587\t auPRG: 0.175\n",
      "Recall at 5%|10%|20% FDR: 0.0%|0.0%|0.0%\t Num Positives: 311\t Num Negatives: 311\t \n",
      "\n",
      "1212/1212 [==============================] - 0s - loss: 1.3583 - val_loss: 0.6814\n",
      "Epoch 16/100\n",
      "1000/1212 [=======================>......] - ETA: 0s - loss: 1.3370Epoch 15: validation loss: 0.680\n",
      "Balanced Accuracy: 57.88%\t auROC: 0.605\t auPRC: 0.587\t auPRG: 0.175\n",
      "Recall at 5%|10%|20% FDR: 0.0%|0.0%|0.0%\t Num Positives: 311\t Num Negatives: 311\t \n",
      "\n",
      "1212/1212 [==============================] - 0s - loss: 1.3364 - val_loss: 0.6804\n",
      "Epoch 17/100\n",
      "1000/1212 [=======================>......] - ETA: 0s - loss: 1.3459Epoch 16: validation loss: 0.680\n",
      "Balanced Accuracy: 57.88%\t auROC: 0.605\t auPRC: 0.588\t auPRG: 0.175\n",
      "Recall at 5%|10%|20% FDR: 0.0%|0.0%|0.0%\t Num Positives: 311\t Num Negatives: 311\t \n",
      "\n",
      "1212/1212 [==============================] - 0s - loss: 1.3425 - val_loss: 0.6800\n",
      "Epoch 18/100\n",
      "1000/1212 [=======================>......] - ETA: 0s - loss: 1.3358Epoch 17: validation loss: 0.678\n",
      "Balanced Accuracy: 57.88%\t auROC: 0.605\t auPRC: 0.588\t auPRG: 0.175\n",
      "Recall at 5%|10%|20% FDR: 0.0%|0.0%|0.0%\t Num Positives: 311\t Num Negatives: 311\t \n",
      "\n",
      "1212/1212 [==============================] - 0s - loss: 1.3385 - val_loss: 0.6781\n",
      "Epoch 19/100\n",
      "1000/1212 [=======================>......] - ETA: 0s - loss: 1.3457Epoch 18: validation loss: 0.680\n",
      "Balanced Accuracy: 57.88%\t auROC: 0.605\t auPRC: 0.587\t auPRG: 0.175\n",
      "Recall at 5%|10%|20% FDR: 0.0%|0.0%|0.0%\t Num Positives: 311\t Num Negatives: 311\t \n",
      "\n",
      "1212/1212 [==============================] - 0s - loss: 1.3380 - val_loss: 0.6800\n",
      "Epoch 20/100\n",
      "1000/1212 [=======================>......] - ETA: 0s - loss: 1.3436Epoch 19: validation loss: 0.685\n",
      "Balanced Accuracy: 57.88%\t auROC: 0.605\t auPRC: 0.588\t auPRG: 0.175\n",
      "Recall at 5%|10%|20% FDR: 0.0%|0.0%|0.0%\t Num Positives: 311\t Num Negatives: 311\t \n",
      "\n",
      "1212/1212 [==============================] - 0s - loss: 1.3359 - val_loss: 0.6855\n",
      "Epoch 21/100\n",
      "1000/1212 [=======================>......] - ETA: 0s - loss: 1.3479Epoch 20: validation loss: 0.685\n",
      "Balanced Accuracy: 57.88%\t auROC: 0.605\t auPRC: 0.587\t auPRG: 0.175\n",
      "Recall at 5%|10%|20% FDR: 0.0%|0.0%|0.0%\t Num Positives: 311\t Num Negatives: 311\t \n",
      "\n",
      "1212/1212 [==============================] - 0s - loss: 1.3402 - val_loss: 0.6848\n",
      "Epoch 22/100\n",
      "1000/1212 [=======================>......] - ETA: 0s - loss: 1.3356Epoch 21: validation loss: 0.678\n",
      "Balanced Accuracy: 57.88%\t auROC: 0.605\t auPRC: 0.587\t auPRG: 0.175\n",
      "Recall at 5%|10%|20% FDR: 0.0%|0.0%|0.0%\t Num Positives: 311\t Num Negatives: 311\t \n",
      "\n",
      "1212/1212 [==============================] - 0s - loss: 1.3393 - val_loss: 0.6781\n",
      "Epoch 23/100\n",
      "1000/1212 [=======================>......] - ETA: 0s - loss: 1.3449Epoch 22: validation loss: 0.681\n",
      "Balanced Accuracy: 57.88%\t auROC: 0.605\t auPRC: 0.587\t auPRG: 0.175\n",
      "Recall at 5%|10%|20% FDR: 0.0%|0.0%|0.0%\t Num Positives: 311\t Num Negatives: 311\t \n",
      "\n",
      "1212/1212 [==============================] - 0s - loss: 1.3383 - val_loss: 0.6808\n",
      "Epoch 24/100\n",
      "1000/1212 [=======================>......] - ETA: 0s - loss: 1.3241Epoch 23: validation loss: 0.684\n",
      "Balanced Accuracy: 57.88%\t auROC: 0.605\t auPRC: 0.587\t auPRG: 0.175\n",
      "Recall at 5%|10%|20% FDR: 0.0%|0.0%|0.0%\t Num Positives: 311\t Num Negatives: 311\t \n",
      "\n",
      "1212/1212 [==============================] - 0s - loss: 1.3449 - val_loss: 0.6840\n",
      "Epoch 25/100\n",
      "1000/1212 [=======================>......] - ETA: 0s - loss: 1.3446Epoch 24: validation loss: 0.681\n",
      "Balanced Accuracy: 57.88%\t auROC: 0.605\t auPRC: 0.588\t auPRG: 0.175\n",
      "Recall at 5%|10%|20% FDR: 0.0%|0.0%|0.0%\t Num Positives: 311\t Num Negatives: 311\t \n",
      "\n",
      "1212/1212 [==============================] - 0s - loss: 1.3401 - val_loss: 0.6814\n",
      "Epoch 26/100\n",
      "1000/1212 [=======================>......] - ETA: 0s - loss: 1.3414Epoch 25: validation loss: 0.678\n",
      "Balanced Accuracy: 57.88%\t auROC: 0.605\t auPRC: 0.588\t auPRG: 0.175\n",
      "Recall at 5%|10%|20% FDR: 0.0%|0.0%|0.0%\t Num Positives: 311\t Num Negatives: 311\t \n",
      "\n",
      "1212/1212 [==============================] - 0s - loss: 1.3394 - val_loss: 0.6782\n",
      "Epoch 27/100\n",
      "1000/1212 [=======================>......] - ETA: 0s - loss: 1.3390Epoch 26: validation loss: 0.679\n",
      "Balanced Accuracy: 57.88%\t auROC: 0.605\t auPRC: 0.588\t auPRG: 0.175\n",
      "Recall at 5%|10%|20% FDR: 0.0%|0.0%|0.0%\t Num Positives: 311\t Num Negatives: 311\t \n",
      "\n",
      "1212/1212 [==============================] - 0s - loss: 1.3357 - val_loss: 0.6788\n"
     ]
    }
   ],
   "source": [
    "validation_data = (X_valid_pairs[:,20:], y_valid)\n",
    "dnn_normalized.train(X_train_pairs[:,20:], y_train, validation_data)"
   ]
  },
  {
   "cell_type": "code",
   "execution_count": 16,
   "metadata": {
    "collapsed": false
   },
   "outputs": [
    {
     "name": "stdout",
     "output_type": "stream",
     "text": [
      "Balanced Accuracy: 55.76%\t auROC: 0.591\t auPRC: 0.567\t auPRG: 0.163\n",
      "Recall at 5%|10%|20% FDR: 0.0%|0.0%|0.0%\t Num Positives: 243\t Num Negatives: 243\t \n"
     ]
    }
   ],
   "source": [
    "print(dnn_normalized.test(X_test_pairs[:,20:], y_test))"
   ]
  },
  {
   "cell_type": "markdown",
   "metadata": {},
   "source": [
    "# Print prediction"
   ]
  },
  {
   "cell_type": "code",
   "execution_count": 17,
   "metadata": {
    "collapsed": false
   },
   "outputs": [],
   "source": [
    "indx_train = np.load('/users/mtaranov/NN_thres5max_datasets/dist_matched/indx_train_thres_10.npy')\n",
    "indx_valid = np.load('/users/mtaranov/NN_thres5max_datasets/dist_matched/indx_valid_thres_10.npy')\n",
    "indx_test = np.load ('/users/mtaranov/NN_thres5max_datasets/dist_matched/indx_test_thres_10.npy')"
   ]
  },
  {
   "cell_type": "code",
   "execution_count": 18,
   "metadata": {
    "collapsed": false
   },
   "outputs": [],
   "source": [
    "labels_all=(np.concatenate((y_train, y_valid, y_test), axis=0)).astype(int)\n",
    "preds_all=(np.concatenate((pred_probs_train, pred_probs_valid, pred_probs_test), axis=0))\n",
    "indx_all=np.concatenate((indx_train, indx_valid, indx_test), axis=0)\n",
    "\n",
    "labels_chr1 = labels_all[np.ravel(np.where(indx_all[:,2]==1))]\n",
    "preds_chr1 = preds_all[np.ravel(np.where(indx_all[:,2]==1))]\n",
    "indx_chr1 = indx_all[np.ravel(np.where(indx_all[:,2]==1))]"
   ]
  },
  {
   "cell_type": "code",
   "execution_count": 19,
   "metadata": {
    "collapsed": false
   },
   "outputs": [
    {
     "name": "stdout",
     "output_type": "stream",
     "text": [
      "Some tests on adjacency matrix:\n",
      "Some tests on adjacency matrix:\n"
     ]
    }
   ],
   "source": [
    "NumberOfNodes=2272\n",
    "preds_chr1_2d, labels_chr1_2d = get_2D(indx_chr1, preds_chr1, labels_chr1, NumberOfNodes)\n",
    "# preds_test_2d, labels_test_2d = get_2D(indx_test, preds_test, labels_test, NumberOfNodes)"
   ]
  },
  {
   "cell_type": "code",
   "execution_count": 20,
   "metadata": {
    "collapsed": false
   },
   "outputs": [],
   "source": [
    "# printMatrix(preds_chr1_2d, '', 1, 1, title='preds')\n",
    "# printMatrix(labels_chr1_2d, '', 1, 1, title='Captures')"
   ]
  },
  {
   "cell_type": "code",
   "execution_count": 21,
   "metadata": {
    "collapsed": false
   },
   "outputs": [
    {
     "name": "stdout",
     "output_type": "stream",
     "text": [
      "1.0\n",
      "(60, 60)\n",
      "Limit: 1.0\n"
     ]
    },
    {
     "data": {
      "image/png": "[encoded data removed]",
      "text/plain": [
       "<matplotlib.figure.Figure at 0x7efdd63c6c50>"
      ]
     },
     "metadata": {},
     "output_type": "display_data"
    },
    {
     "name": "stdout",
     "output_type": "stream",
     "text": [
      "0.982627272606\n",
      "(60, 60)\n",
      "Limit: 0.982627272606\n"
     ]
    },
    {
     "data": {
      "image/png": "[encoded data removed]",
      "text/plain": [
       "<matplotlib.figure.Figure at 0x7efdd500a5d0>"
      ]
     },
     "metadata": {},
     "output_type": "display_data"
    }
   ],
   "source": [
    "zoomIn_window = (400,460)\n",
    "NumberOfNodes=2272\n",
    "plot_prediction(change_scale(preds_chr1_2d)+change_scale(preds_chr1_2d).T, change_scale(labels_chr1_2d)+change_scale(labels_chr1_2d).T, zoomIn_window, )"
   ]
  },
  {
   "cell_type": "code",
   "execution_count": null,
   "metadata": {
    "collapsed": true
   },
   "outputs": [],
   "source": []
  },
  {
   "cell_type": "code",
   "execution_count": null,
   "metadata": {
    "collapsed": true
   },
   "outputs": [],
   "source": []
  }
 ],
 "metadata": {
  "anaconda-cloud": {},
  "kernelspec": {
   "display_name": "Python [default]",
   "language": "python",
   "name": "python2"
  },
  "language_info": {
   "codemirror_mode": {
    "name": "ipython",
    "version": 2
   },
   "file_extension": ".py",
   "mimetype": "text/x-python",
   "name": "python",
   "nbconvert_exporter": "python",
   "pygments_lexer": "ipython2",
   "version": "2.7.12"
  }
 },
 "nbformat": 4,
 "nbformat_minor": 0
}
