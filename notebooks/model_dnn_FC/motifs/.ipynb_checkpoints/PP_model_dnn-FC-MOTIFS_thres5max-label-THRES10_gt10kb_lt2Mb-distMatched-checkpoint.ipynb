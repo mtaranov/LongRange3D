{
 "cells": [
  {
   "cell_type": "code",
   "execution_count": 7,
   "metadata": {
    "collapsed": false
   },
   "outputs": [
    {
     "name": "stdout",
     "output_type": "stream",
     "text": [
      "The autoreload extension is already loaded. To reload it, use:\n",
      "  %reload_ext autoreload\n"
     ]
    },
    {
     "name": "stderr",
     "output_type": "stream",
     "text": [
      "Using Theano backend.\n",
      "WARNING (theano.sandbox.cuda): The cuda backend is deprecated and will be removed in the next release (v0.10).  Please switch to the gpuarray backend. You can get more information about how to switch at this URL:\n",
      " https://github.com/Theano/Theano/wiki/Converting-to-the-new-gpu-back-end%28gpuarray%29\n",
      "\n",
      "Using gpu device 0: GeForce GTX TITAN X (CNMeM is enabled with initial size: 2500 MB, cuDNN 5105)\n"
     ]
    }
   ],
   "source": [
    "%matplotlib inline\n",
    "%load_ext autoreload\n",
    "%autoreload 2\n",
    "\n",
    "import sys\n",
    "import numpy as np\n",
    "import matplotlib.pyplot as plt\n",
    "from sklearn.preprocessing import MinMaxScaler, StandardScaler\n",
    "import copy\n",
    "sys.path.append('/users/mtaranov/LongRange3D/')\n",
    "from models_motif import LongRangeDNN_FC\n",
    "from utils import  concat_motifs,get_features, get_labels, subsample_data, normalize_features, reconstruct_2d, printMatrix, binarize, zscore, get_2D, plot_prediction, change_scale \n",
    "#from sklearn.preprocessing import MinMaxScaler, StandardScaler\n",
    "#from dragonn.models import Model, SequenceDNN\n",
    "#from keras.models import Sequential\n",
    "#from keras.callbacks import Callback, EarlyStopping\n",
    "#from keras.layers.core import (\n",
    "#    Activation, Dense, Dropout, Flatten,\n",
    "#    Permute, Reshape, TimeDistributedDense\n",
    "#)\n",
    "#from keras.layers.convolutional import Convolution2D, MaxPooling2D\n",
    "#from keras.layers.recurrent import GRU\n",
    "#from keras.regularizers import l1\n",
    "\n",
    "#from deeplift import keras_conversion as kc\n",
    "#from deeplift.blobs import MxtsMode"
   ]
  },
  {
   "cell_type": "code",
   "execution_count": 8,
   "metadata": {
    "collapsed": false
   },
   "outputs": [],
   "source": [
    "contacts='PE'\n",
    "path='/users/mtaranov/datasets_3d/dist_matched_'+contacts+'/'\n",
    "\n",
    "X_train_node1 = path+'motifs/train_'+contacts+'_out_node1_3_0.0001/mat.npy'\n",
    "X_train_node2 = path+'motifs/train_'+contacts+'_out_node2_3_0.0001/mat.npy'\n",
    "X_test_node1 = path+'motifs/test_'+contacts+'_out_node1_3_0.0001/mat.npy'\n",
    "X_test_node2 = path+'motifs/test_'+contacts+'_out_node2_3_0.0001/mat.npy'\n",
    "X_valid_node1 = path+'motifs/valid_'+contacts+'_out_node1_3_0.0001/mat.npy'\n",
    "X_valid_node2 = path+'motifs/valid_'+contacts+'_out_node2_3_0.0001/mat.npy'\n",
    "\n",
    "y_train = get_labels(path+'y_train_thres_10.npy')\n",
    "y_test = get_labels(path+'y_test_thres_10.npy')\n",
    "y_valid = get_labels(path+'y_valid_thres_10.npy')\n",
    "\n",
    "X_train=concat_motifs([X_train_node1, X_train_node2])\n",
    "X_test=concat_motifs([X_test_node1, X_test_node2])\n",
    "X_valid=concat_motifs([X_valid_node1, X_valid_node2])"
   ]
  },
  {
   "cell_type": "code",
   "execution_count": 9,
   "metadata": {
    "collapsed": false
   },
   "outputs": [],
   "source": [
    "X_train_normalized, X_valid_normalized, X_test_normalized = normalize_features(X_train, X_valid, X_test)\n",
    "\n",
    "#X_train_normalized_subsampled, y_train_subsampled = subsample_data(X_train_normalized, y_train)\n",
    "#X_valid_normalized_subsampled, y_valid_subsampled = subsample_data(X_valid_normalized, y_valid)\n",
    "#X_test_normalized_subsampled, y_test_subsampled = subsample_data(X_test_normalized, y_test)\n",
    "\n",
    "#X_train_scaled_subsampled, y_train_subsampled = subsample_data(X_train_scaled, y_train)\n",
    "#X_valid_scaled_subsampled, y_valid_subsampled = subsample_data(X_valid_scaled, y_valid)\n",
    "#X_test_scaled_subsampled, y_test_subsampled = subsample_data(X_test_scaled, y_test)\n"
   ]
  },
  {
   "cell_type": "code",
   "execution_count": 10,
   "metadata": {
    "collapsed": true
   },
   "outputs": [],
   "source": [
    "X_train_pairs = X_train_normalized.reshape(X_train_normalized.shape[0],X_train_normalized.shape[2]*X_train_normalized.shape[3])\n",
    "X_valid_pairs = X_valid_normalized.reshape(X_valid_normalized.shape[0],X_valid_normalized.shape[2]*X_valid_normalized.shape[3])\n",
    "X_test_pairs = X_test_normalized.reshape(X_test_normalized.shape[0],X_test_normalized.shape[2]*X_test_normalized.shape[3])"
   ]
  },
  {
   "cell_type": "code",
   "execution_count": 12,
   "metadata": {
    "collapsed": false,
    "scrolled": true
   },
   "outputs": [
    {
     "data": {
      "text/plain": [
       "(4824, 3840)"
      ]
     },
     "execution_count": 12,
     "metadata": {},
     "output_type": "execute_result"
    }
   ],
   "source": [
    "X_train_pairs.shape"
   ]
  },
  {
   "cell_type": "markdown",
   "metadata": {},
   "source": [
    "# from motifs"
   ]
  },
  {
   "cell_type": "code",
   "execution_count": 67,
   "metadata": {
    "collapsed": false
   },
   "outputs": [
    {
     "name": "stdout",
     "output_type": "stream",
     "text": [
      "Training model...\n",
      "Train on 4824 samples, validate on 2872 samples\n",
      "Epoch 1/100\n",
      "4750/4824 [============================>.] - ETA: 0s - loss: 2.2877Epoch 0: validation loss: 0.639\n",
      "Balanced Accuracy: 65.95%\t auROC: 0.734\t auPRC: 0.734\t auPRG: 0.462\n",
      "Recall at 5%|10%|20% FDR: 5.2%|9.3%|32.4%\t Num Positives: 1436\t Num Negatives: 1436\t \n",
      "\n",
      "4824/4824 [==============================] - 1s - loss: 2.2800 - val_loss: 0.6387\n",
      "Epoch 2/100\n",
      "4750/4824 [============================>.] - ETA: 0s - loss: 0.6086Epoch 1: validation loss: 0.603\n",
      "Balanced Accuracy: 70.79%\t auROC: 0.786\t auPRC: 0.791\t auPRG: 0.590\n",
      "Recall at 5%|10%|20% FDR: 7.7%|22.3%|53.8%\t Num Positives: 1436\t Num Negatives: 1436\t \n",
      "\n",
      "4824/4824 [==============================] - 1s - loss: 0.6084 - val_loss: 0.6025\n",
      "Epoch 3/100\n",
      "4750/4824 [============================>.] - ETA: 0s - loss: 0.2545Epoch 2: validation loss: 0.589\n",
      "Balanced Accuracy: 72.04%\t auROC: 0.807\t auPRC: 0.816\t auPRG: 0.641\n",
      "Recall at 5%|10%|20% FDR: 11.8%|31.8%|62.5%\t Num Positives: 1436\t Num Negatives: 1436\t \n",
      "\n",
      "4824/4824 [==============================] - 1s - loss: 0.2551 - val_loss: 0.5895\n",
      "Epoch 4/100\n",
      "4750/4824 [============================>.] - ETA: 0s - loss: 0.1415Epoch 3: validation loss: 0.592\n",
      "Balanced Accuracy: 74.41%\t auROC: 0.816\t auPRC: 0.825\t auPRG: 0.655\n",
      "Recall at 5%|10%|20% FDR: 17.1%|38.4%|64.6%\t Num Positives: 1436\t Num Negatives: 1436\t \n",
      "\n",
      "4824/4824 [==============================] - 1s - loss: 0.1416 - val_loss: 0.5917\n",
      "Epoch 5/100\n",
      "4750/4824 [============================>.] - ETA: 0s - loss: 0.0819Epoch 4: validation loss: 0.601\n",
      "Balanced Accuracy: 75.14%\t auROC: 0.818\t auPRC: 0.827\t auPRG: 0.660\n",
      "Recall at 5%|10%|20% FDR: 18.2%|37.3%|63.2%\t Num Positives: 1436\t Num Negatives: 1436\t \n",
      "\n",
      "4824/4824 [==============================] - 1s - loss: 0.0827 - val_loss: 0.6006\n",
      "Epoch 6/100\n",
      "4750/4824 [============================>.] - ETA: 0s - loss: 0.0591Epoch 5: validation loss: 0.629\n",
      "Balanced Accuracy: 75.14%\t auROC: 0.819\t auPRC: 0.830\t auPRG: 0.666\n",
      "Recall at 5%|10%|20% FDR: 16.6%|38.5%|67.4%\t Num Positives: 1436\t Num Negatives: 1436\t \n",
      "\n",
      "4824/4824 [==============================] - 1s - loss: 0.0591 - val_loss: 0.6290\n",
      "Epoch 7/100\n",
      "4750/4824 [============================>.] - ETA: 0s - loss: 0.0429Epoch 6: validation loss: 0.640\n",
      "Balanced Accuracy: 75.35%\t auROC: 0.821\t auPRC: 0.830\t auPRG: 0.670\n",
      "Recall at 5%|10%|20% FDR: 11.7%|39.8%|65.5%\t Num Positives: 1436\t Num Negatives: 1436\t \n",
      "\n",
      "4824/4824 [==============================] - 1s - loss: 0.0428 - val_loss: 0.6398\n",
      "Epoch 8/100\n",
      "4750/4824 [============================>.] - ETA: 0s - loss: 0.0283Epoch 7: validation loss: 0.635\n",
      "Balanced Accuracy: 74.62%\t auROC: 0.822\t auPRC: 0.832\t auPRG: 0.671\n",
      "Recall at 5%|10%|20% FDR: 16.4%|41.9%|66.3%\t Num Positives: 1436\t Num Negatives: 1436\t \n",
      "\n",
      "4824/4824 [==============================] - 1s - loss: 0.0284 - val_loss: 0.6352\n",
      "Epoch 9/100\n",
      "4750/4824 [============================>.] - ETA: 0s - loss: 0.0219Epoch 8: validation loss: 0.678\n",
      "Balanced Accuracy: 73.36%\t auROC: 0.822\t auPRC: 0.831\t auPRG: 0.671\n",
      "Recall at 5%|10%|20% FDR: 15.0%|42.2%|66.5%\t Num Positives: 1436\t Num Negatives: 1436\t \n",
      "\n",
      "4824/4824 [==============================] - 1s - loss: 0.0218 - val_loss: 0.6783\n",
      "Epoch 10/100\n",
      "4750/4824 [============================>.] - ETA: 0s - loss: 0.0173Epoch 9: validation loss: 0.657\n",
      "Balanced Accuracy: 75.10%\t auROC: 0.823\t auPRC: 0.832\t auPRG: 0.673\n",
      "Recall at 5%|10%|20% FDR: 11.5%|40.3%|65.2%\t Num Positives: 1436\t Num Negatives: 1436\t \n",
      "\n",
      "4824/4824 [==============================] - 1s - loss: 0.0173 - val_loss: 0.6569\n",
      "Epoch 11/100\n",
      "4750/4824 [============================>.] - ETA: 0s - loss: 0.0141Epoch 10: validation loss: 0.680\n",
      "Balanced Accuracy: 74.62%\t auROC: 0.824\t auPRC: 0.832\t auPRG: 0.675\n",
      "Recall at 5%|10%|20% FDR: 13.8%|42.8%|68.0%\t Num Positives: 1436\t Num Negatives: 1436\t \n",
      "\n",
      "4824/4824 [==============================] - 1s - loss: 0.0141 - val_loss: 0.6800\n",
      "Epoch 12/100\n",
      "4750/4824 [============================>.] - ETA: 0s - loss: 0.0114Epoch 11: validation loss: 0.689\n",
      "Balanced Accuracy: 74.72%\t auROC: 0.824\t auPRC: 0.833\t auPRG: 0.676\n",
      "Recall at 5%|10%|20% FDR: 13.6%|42.8%|66.6%\t Num Positives: 1436\t Num Negatives: 1436\t \n",
      "\n",
      "4824/4824 [==============================] - 1s - loss: 0.0114 - val_loss: 0.6887\n",
      "Epoch 13/100\n",
      "4750/4824 [============================>.] - ETA: 0s - loss: 0.0097Epoch 12: validation loss: 0.708\n",
      "Balanced Accuracy: 74.09%\t auROC: 0.824\t auPRC: 0.833\t auPRG: 0.676\n",
      "Recall at 5%|10%|20% FDR: 13.5%|43.3%|65.9%\t Num Positives: 1436\t Num Negatives: 1436\t \n",
      "\n",
      "4824/4824 [==============================] - 1s - loss: 0.0097 - val_loss: 0.7077\n",
      "Epoch 14/100\n",
      "4750/4824 [============================>.] - ETA: 0s - loss: 0.0084Epoch 13: validation loss: 0.700\n",
      "Balanced Accuracy: 75.10%\t auROC: 0.825\t auPRC: 0.833\t auPRG: 0.676\n",
      "Recall at 5%|10%|20% FDR: 15.3%|42.2%|66.4%\t Num Positives: 1436\t Num Negatives: 1436\t \n",
      "\n",
      "4824/4824 [==============================] - 1s - loss: 0.0084 - val_loss: 0.6996\n",
      "Epoch 15/100\n",
      "4750/4824 [============================>.] - ETA: 0s - loss: 0.0075Epoch 14: validation loss: 0.722\n",
      "Balanced Accuracy: 74.62%\t auROC: 0.825\t auPRC: 0.833\t auPRG: 0.676\n",
      "Recall at 5%|10%|20% FDR: 13.5%|42.9%|67.4%\t Num Positives: 1436\t Num Negatives: 1436\t \n",
      "\n",
      "4824/4824 [==============================] - 1s - loss: 0.0075 - val_loss: 0.7220\n",
      "Epoch 16/100\n",
      "4750/4824 [============================>.] - ETA: 0s - loss: 0.0065Epoch 15: validation loss: 0.738\n",
      "Balanced Accuracy: 74.62%\t auROC: 0.824\t auPRC: 0.832\t auPRG: 0.676\n",
      "Recall at 5%|10%|20% FDR: 13.4%|43.5%|66.9%\t Num Positives: 1436\t Num Negatives: 1436\t \n",
      "\n",
      "4824/4824 [==============================] - 1s - loss: 0.0065 - val_loss: 0.7382\n",
      "Epoch 17/100\n",
      "4750/4824 [============================>.] - ETA: 0s - loss: 0.0057Epoch 16: validation loss: 0.736\n",
      "Balanced Accuracy: 74.76%\t auROC: 0.825\t auPRC: 0.833\t auPRG: 0.677\n",
      "Recall at 5%|10%|20% FDR: 12.8%|43.0%|66.3%\t Num Positives: 1436\t Num Negatives: 1436\t \n",
      "\n",
      "4824/4824 [==============================] - 1s - loss: 0.0057 - val_loss: 0.7359\n",
      "Epoch 18/100\n",
      "4750/4824 [============================>.] - ETA: 0s - loss: 0.0050Epoch 17: validation loss: 0.741\n",
      "Balanced Accuracy: 74.93%\t auROC: 0.825\t auPRC: 0.833\t auPRG: 0.677\n",
      "Recall at 5%|10%|20% FDR: 15.3%|43.5%|66.8%\t Num Positives: 1436\t Num Negatives: 1436\t \n",
      "\n",
      "4824/4824 [==============================] - 1s - loss: 0.0050 - val_loss: 0.7406\n",
      "Epoch 19/100\n",
      "4750/4824 [============================>.] - ETA: 0s - loss: 0.0045Epoch 18: validation loss: 0.755\n",
      "Balanced Accuracy: 74.93%\t auROC: 0.825\t auPRC: 0.833\t auPRG: 0.677\n",
      "Recall at 5%|10%|20% FDR: 15.0%|43.4%|66.6%\t Num Positives: 1436\t Num Negatives: 1436\t \n",
      "\n",
      "4824/4824 [==============================] - 1s - loss: 0.0045 - val_loss: 0.7549\n",
      "Epoch 20/100\n",
      "4750/4824 [============================>.] - ETA: 0s - loss: 0.0040Epoch 19: validation loss: 0.764\n",
      "Balanced Accuracy: 74.90%\t auROC: 0.825\t auPRC: 0.833\t auPRG: 0.677\n",
      "Recall at 5%|10%|20% FDR: 13.9%|43.0%|66.9%\t Num Positives: 1436\t Num Negatives: 1436\t \n",
      "\n",
      "4824/4824 [==============================] - 1s - loss: 0.0040 - val_loss: 0.7645\n",
      "Epoch 21/100\n",
      "4750/4824 [============================>.] - ETA: 0s - loss: 0.0036Epoch 20: validation loss: 0.768\n",
      "Balanced Accuracy: 74.79%\t auROC: 0.825\t auPRC: 0.833\t auPRG: 0.678\n",
      "Recall at 5%|10%|20% FDR: 14.8%|43.0%|66.2%\t Num Positives: 1436\t Num Negatives: 1436\t \n",
      "\n",
      "4824/4824 [==============================] - 1s - loss: 0.0036 - val_loss: 0.7682\n",
      "Epoch 22/100\n",
      "4750/4824 [============================>.] - ETA: 0s - loss: 0.0033Epoch 21: validation loss: 0.780\n",
      "Balanced Accuracy: 75.00%\t auROC: 0.825\t auPRC: 0.833\t auPRG: 0.677\n",
      "Recall at 5%|10%|20% FDR: 14.2%|42.4%|67.3%\t Num Positives: 1436\t Num Negatives: 1436\t \n",
      "\n",
      "4824/4824 [==============================] - 1s - loss: 0.0033 - val_loss: 0.7797\n",
      "Epoch 23/100\n",
      "4750/4824 [============================>.] - ETA: 0s - loss: 0.0030Epoch 22: validation loss: 0.789\n",
      "Balanced Accuracy: 75.07%\t auROC: 0.825\t auPRC: 0.833\t auPRG: 0.677\n",
      "Recall at 5%|10%|20% FDR: 13.8%|42.1%|67.3%\t Num Positives: 1436\t Num Negatives: 1436\t \n",
      "\n",
      "4824/4824 [==============================] - 1s - loss: 0.0029 - val_loss: 0.7890\n",
      "Epoch 24/100\n",
      "4750/4824 [============================>.] - ETA: 0s - loss: 0.0027Epoch 23: validation loss: 0.796\n",
      "Balanced Accuracy: 74.79%\t auROC: 0.825\t auPRC: 0.833\t auPRG: 0.677\n",
      "Recall at 5%|10%|20% FDR: 14.2%|42.1%|66.4%\t Num Positives: 1436\t Num Negatives: 1436\t \n",
      "\n",
      "4824/4824 [==============================] - 1s - loss: 0.0027 - val_loss: 0.7965\n"
     ]
    }
   ],
   "source": [
    "from models_motif import LongRangeDNN_FC\n",
    "dnn_normalized = LongRangeDNN_FC(num_features=3840, use_deep_CNN=False)\n",
    "validation_data = (X_valid_pairs, y_valid)\n",
    "dnn_normalized.train(X_train_pairs, y_train, validation_data)"
   ]
  },
  {
   "cell_type": "code",
   "execution_count": 68,
   "metadata": {
    "collapsed": false,
    "scrolled": true
   },
   "outputs": [
    {
     "name": "stdout",
     "output_type": "stream",
     "text": [
      "Balanced Accuracy: 75.66%\t auROC: 0.838\t auPRC: 0.851\t auPRG: 0.705\n",
      "Recall at 5%|10%|20% FDR: 29.8%|47.4%|67.9%\t Num Positives: 906\t Num Negatives: 906\t \n",
      "Balanced Accuracy: 100.00%\t auROC: 1.000\t auPRC: 1.000\t auPRG: 1.000\n",
      "Recall at 5%|10%|20% FDR: 100.0%|100.0%|100.0%\t Num Positives: 2412\t Num Negatives: 2412\t \n",
      "Balanced Accuracy: 74.79%\t auROC: 0.825\t auPRC: 0.833\t auPRG: 0.677\n",
      "Recall at 5%|10%|20% FDR: 14.2%|42.1%|66.4%\t Num Positives: 1436\t Num Negatives: 1436\t \n"
     ]
    }
   ],
   "source": [
    "print(dnn_normalized.test(X_test_pairs, y_test))\n",
    "print(dnn_normalized.test(X_train_pairs, y_train))\n",
    "print(dnn_normalized.test(X_valid_pairs, y_valid))"
   ]
  },
  {
   "cell_type": "code",
   "execution_count": null,
   "metadata": {
    "collapsed": true
   },
   "outputs": [],
   "source": []
  }
 ],
 "metadata": {
  "anaconda-cloud": {},
  "kernelspec": {
   "display_name": "Python [default]",
   "language": "python",
   "name": "python2"
  },
  "language_info": {
   "codemirror_mode": {
    "name": "ipython",
    "version": 2
   },
   "file_extension": ".py",
   "mimetype": "text/x-python",
   "name": "python",
   "nbconvert_exporter": "python",
   "pygments_lexer": "ipython2",
   "version": "2.7.12"
  }
 },
 "nbformat": 4,
 "nbformat_minor": 0
}
