{
 "cells": [
  {
   "cell_type": "code",
   "execution_count": 1,
   "metadata": {
    "collapsed": false
   },
   "outputs": [
    {
     "name": "stderr",
     "output_type": "stream",
     "text": [
      "Using Theano backend.\n",
      "WARNING (theano.sandbox.cuda): The cuda backend is deprecated and will be removed in the next release (v0.10).  Please switch to the gpuarray backend. You can get more information about how to switch at this URL:\n",
      " https://github.com/Theano/Theano/wiki/Converting-to-the-new-gpu-back-end%28gpuarray%29\n",
      "\n",
      "Using gpu device 0: GeForce GTX TITAN X (CNMeM is enabled with initial size: 2500 MB, cuDNN 5005)\n"
     ]
    }
   ],
   "source": [
    "%matplotlib inline\n",
    "%load_ext autoreload\n",
    "%autoreload 2\n",
    "\n",
    "import sys\n",
    "import numpy as np\n",
    "import matplotlib.pyplot as plt\n",
    "from sklearn.preprocessing import MinMaxScaler, StandardScaler\n",
    "import copy\n",
    "sys.path.append('/users/mtaranov/LongRange3D/')\n",
    "from models_motif import LongRangeDNN_FC\n",
    "from utils import  concat_motifs,get_features, get_labels, subsample_data, normalize_features, reconstruct_2d, printMatrix, binarize, zscore, get_2D, plot_prediction, change_scale \n",
    "#from sklearn.preprocessing import MinMaxScaler, StandardScaler\n",
    "#from dragonn.models import Model, SequenceDNN\n",
    "#from keras.models import Sequential\n",
    "#from keras.callbacks import Callback, EarlyStopping\n",
    "#from keras.layers.core import (\n",
    "#    Activation, Dense, Dropout, Flatten,\n",
    "#    Permute, Reshape, TimeDistributedDense\n",
    "#)\n",
    "#from keras.layers.convolutional import Convolution2D, MaxPooling2D\n",
    "#from keras.layers.recurrent import GRU\n",
    "#from keras.regularizers import l1\n",
    "\n",
    "#from deeplift import keras_conversion as kc\n",
    "#from deeplift.blobs import MxtsMode"
   ]
  },
  {
   "cell_type": "code",
   "execution_count": 2,
   "metadata": {
    "collapsed": false
   },
   "outputs": [],
   "source": [
    "contacts='PE'\n",
    "path='/users/mtaranov/datasets_3d/dist_matched_'+contacts+'/'\n",
    "\n",
    "X_train_node1 = path+'motifs/train_'+contacts+'_out_node1_3_0.0001/mat.npy'\n",
    "X_train_node2 = path+'motifs/train_'+contacts+'_out_node2_3_0.0001/mat.npy'\n",
    "X_test_node1 = path+'motifs/test_'+contacts+'_out_node1_3_0.0001/mat.npy'\n",
    "X_test_node2 = path+'motifs/test_'+contacts+'_out_node2_3_0.0001/mat.npy'\n",
    "X_valid_node1 = path+'motifs/valid_'+contacts+'_out_node1_3_0.0001/mat.npy'\n",
    "X_valid_node2 = path+'motifs/valid_'+contacts+'_out_node2_3_0.0001/mat.npy'\n",
    "\n",
    "y_train = get_labels(path+'y_train_thres_10.npy')\n",
    "y_test = get_labels(path+'y_test_thres_10.npy')\n",
    "y_valid = get_labels(path+'y_valid_thres_10.npy')\n",
    "\n",
    "X_train=concat_motifs([X_train_node1, X_train_node2])\n",
    "X_test=concat_motifs([X_test_node1, X_test_node2])\n",
    "X_valid=concat_motifs([X_valid_node1, X_valid_node2])"
   ]
  },
  {
   "cell_type": "code",
   "execution_count": 3,
   "metadata": {
    "collapsed": false
   },
   "outputs": [],
   "source": [
    "X_train_normalized, X_valid_normalized, X_test_normalized = normalize_features(X_train, X_valid, X_test)\n",
    "\n",
    "#X_train_normalized_subsampled, y_train_subsampled = subsample_data(X_train_normalized, y_train)\n",
    "#X_valid_normalized_subsampled, y_valid_subsampled = subsample_data(X_valid_normalized, y_valid)\n",
    "#X_test_normalized_subsampled, y_test_subsampled = subsample_data(X_test_normalized, y_test)\n",
    "\n",
    "#X_train_scaled_subsampled, y_train_subsampled = subsample_data(X_train_scaled, y_train)\n",
    "#X_valid_scaled_subsampled, y_valid_subsampled = subsample_data(X_valid_scaled, y_valid)\n",
    "#X_test_scaled_subsampled, y_test_subsampled = subsample_data(X_test_scaled, y_test)\n"
   ]
  },
  {
   "cell_type": "code",
   "execution_count": 4,
   "metadata": {
    "collapsed": true
   },
   "outputs": [],
   "source": [
    "X_train_pairs = X_train_normalized.reshape(X_train_normalized.shape[0],X_train_normalized.shape[2]*X_train_normalized.shape[3])\n",
    "X_valid_pairs = X_valid_normalized.reshape(X_valid_normalized.shape[0],X_valid_normalized.shape[2]*X_valid_normalized.shape[3])\n",
    "X_test_pairs = X_test_normalized.reshape(X_test_normalized.shape[0],X_test_normalized.shape[2]*X_test_normalized.shape[3])"
   ]
  },
  {
   "cell_type": "code",
   "execution_count": 5,
   "metadata": {
    "collapsed": false,
    "scrolled": true
   },
   "outputs": [
    {
     "data": {
      "text/plain": [
       "(4824, 3840)"
      ]
     },
     "execution_count": 5,
     "metadata": {},
     "output_type": "execute_result"
    }
   ],
   "source": [
    "X_train_pairs.shape"
   ]
  },
  {
   "cell_type": "markdown",
   "metadata": {},
   "source": [
    "# from motifs"
   ]
  },
  {
   "cell_type": "code",
   "execution_count": 10,
   "metadata": {
    "collapsed": false
   },
   "outputs": [
    {
     "name": "stdout",
     "output_type": "stream",
     "text": [
      "Training model...\n",
      "Train on 4824 samples, validate on 2872 samples\n",
      "Epoch 1/100\n",
      "4750/4824 [============================>.] - ETA: 0s - loss: 2.0837Epoch 0: validation loss: 0.746\n",
      "Balanced Accuracy: 66.43%\t auROC: 0.752\t auPRC: 0.752\t auPRG: 0.518\n",
      "Recall at 5%|10%|20% FDR: 4.8%|11.1%|34.5%\t Num Positives: 1436\t Num Negatives: 1436\t \n",
      "\n",
      "4824/4824 [==============================] - 1s - loss: 2.0703 - val_loss: 0.7456\n",
      "Epoch 2/100\n",
      "4750/4824 [============================>.] - ETA: 0s - loss: 0.6134Epoch 1: validation loss: 0.574\n",
      "Balanced Accuracy: 70.86%\t auROC: 0.789\t auPRC: 0.792\t auPRG: 0.590\n",
      "Recall at 5%|10%|20% FDR: 4.8%|26.6%|51.9%\t Num Positives: 1436\t Num Negatives: 1436\t \n",
      "\n",
      "4824/4824 [==============================] - 1s - loss: 0.6117 - val_loss: 0.5743\n",
      "Epoch 3/100\n",
      "4750/4824 [============================>.] - ETA: 0s - loss: 0.2465Epoch 2: validation loss: 0.588\n",
      "Balanced Accuracy: 73.57%\t auROC: 0.804\t auPRC: 0.808\t auPRG: 0.632\n",
      "Recall at 5%|10%|20% FDR: 8.6%|29.3%|59.5%\t Num Positives: 1436\t Num Negatives: 1436\t \n",
      "\n",
      "4824/4824 [==============================] - 1s - loss: 0.2467 - val_loss: 0.5883\n",
      "Epoch 4/100\n",
      "4750/4824 [============================>.] - ETA: 0s - loss: 0.1242Epoch 3: validation loss: 0.592\n",
      "Balanced Accuracy: 74.55%\t auROC: 0.815\t auPRC: 0.821\t auPRG: 0.655\n",
      "Recall at 5%|10%|20% FDR: 17.5%|30.6%|64.3%\t Num Positives: 1436\t Num Negatives: 1436\t \n",
      "\n",
      "4824/4824 [==============================] - 1s - loss: 0.1245 - val_loss: 0.5923\n",
      "Epoch 5/100\n",
      "4750/4824 [============================>.] - ETA: 0s - loss: 0.0734Epoch 4: validation loss: 0.625\n",
      "Balanced Accuracy: 74.20%\t auROC: 0.815\t auPRC: 0.819\t auPRG: 0.656\n",
      "Recall at 5%|10%|20% FDR: 14.0%|29.3%|63.4%\t Num Positives: 1436\t Num Negatives: 1436\t \n",
      "\n",
      "4824/4824 [==============================] - 1s - loss: 0.0731 - val_loss: 0.6250\n",
      "Epoch 6/100\n",
      "4750/4824 [============================>.] - ETA: 0s - loss: 0.0491Epoch 5: validation loss: 0.632\n",
      "Balanced Accuracy: 74.41%\t auROC: 0.817\t auPRC: 0.822\t auPRG: 0.661\n",
      "Recall at 5%|10%|20% FDR: 14.4%|32.8%|64.7%\t Num Positives: 1436\t Num Negatives: 1436\t \n",
      "\n",
      "4824/4824 [==============================] - 1s - loss: 0.0489 - val_loss: 0.6318\n",
      "Epoch 7/100\n",
      "4750/4824 [============================>.] - ETA: 0s - loss: 0.0350Epoch 6: validation loss: 0.634\n",
      "Balanced Accuracy: 74.69%\t auROC: 0.818\t auPRC: 0.823\t auPRG: 0.663\n",
      "Recall at 5%|10%|20% FDR: 15.5%|32.2%|65.8%\t Num Positives: 1436\t Num Negatives: 1436\t \n",
      "\n",
      "4824/4824 [==============================] - 1s - loss: 0.0350 - val_loss: 0.6344\n",
      "Epoch 8/100\n",
      "4750/4824 [============================>.] - ETA: 0s - loss: 0.0264Epoch 7: validation loss: 0.654\n",
      "Balanced Accuracy: 74.62%\t auROC: 0.820\t auPRC: 0.825\t auPRG: 0.666\n",
      "Recall at 5%|10%|20% FDR: 16.6%|33.0%|67.8%\t Num Positives: 1436\t Num Negatives: 1436\t \n",
      "\n",
      "4824/4824 [==============================] - 1s - loss: 0.0264 - val_loss: 0.6542\n",
      "Epoch 9/100\n",
      "4750/4824 [============================>.] - ETA: 0s - loss: 0.0208Epoch 8: validation loss: 0.656\n",
      "Balanced Accuracy: 75.10%\t auROC: 0.819\t auPRC: 0.824\t auPRG: 0.666\n",
      "Recall at 5%|10%|20% FDR: 18.0%|32.9%|66.5%\t Num Positives: 1436\t Num Negatives: 1436\t \n",
      "\n",
      "4824/4824 [==============================] - 1s - loss: 0.0207 - val_loss: 0.6562\n",
      "Epoch 10/100\n",
      "4750/4824 [============================>.] - ETA: 0s - loss: 0.0172Epoch 9: validation loss: 0.672\n",
      "Balanced Accuracy: 74.86%\t auROC: 0.821\t auPRC: 0.825\t auPRG: 0.668\n",
      "Recall at 5%|10%|20% FDR: 17.8%|32.2%|67.9%\t Num Positives: 1436\t Num Negatives: 1436\t \n",
      "\n",
      "4824/4824 [==============================] - 1s - loss: 0.0172 - val_loss: 0.6720\n",
      "Epoch 11/100\n",
      "4750/4824 [============================>.] - ETA: 0s - loss: 0.0139Epoch 10: validation loss: 0.697\n",
      "Balanced Accuracy: 74.06%\t auROC: 0.821\t auPRC: 0.825\t auPRG: 0.670\n",
      "Recall at 5%|10%|20% FDR: 11.5%|33.1%|68.1%\t Num Positives: 1436\t Num Negatives: 1436\t \n",
      "\n",
      "4824/4824 [==============================] - 1s - loss: 0.0139 - val_loss: 0.6971\n",
      "Epoch 12/100\n",
      "4750/4824 [============================>.] - ETA: 0s - loss: 0.0116Epoch 11: validation loss: 0.690\n",
      "Balanced Accuracy: 74.62%\t auROC: 0.821\t auPRC: 0.826\t auPRG: 0.671\n",
      "Recall at 5%|10%|20% FDR: 18.2%|32.9%|68.5%\t Num Positives: 1436\t Num Negatives: 1436\t \n",
      "\n",
      "4824/4824 [==============================] - 1s - loss: 0.0116 - val_loss: 0.6898\n",
      "Epoch 13/100\n",
      "4750/4824 [============================>.] - ETA: 0s - loss: 0.0099Epoch 12: validation loss: 0.718\n",
      "Balanced Accuracy: 74.44%\t auROC: 0.821\t auPRC: 0.825\t auPRG: 0.671\n",
      "Recall at 5%|10%|20% FDR: 16.4%|32.9%|67.8%\t Num Positives: 1436\t Num Negatives: 1436\t \n",
      "\n",
      "4824/4824 [==============================] - 1s - loss: 0.0099 - val_loss: 0.7181\n",
      "Epoch 14/100\n",
      "4750/4824 [============================>.] - ETA: 0s - loss: 0.0084Epoch 13: validation loss: 0.716\n",
      "Balanced Accuracy: 74.79%\t auROC: 0.822\t auPRC: 0.826\t auPRG: 0.672\n",
      "Recall at 5%|10%|20% FDR: 11.5%|33.4%|68.8%\t Num Positives: 1436\t Num Negatives: 1436\t \n",
      "\n",
      "4824/4824 [==============================] - 1s - loss: 0.0084 - val_loss: 0.7162\n",
      "Epoch 15/100\n",
      "4750/4824 [============================>.] - ETA: 0s - loss: 0.0073Epoch 14: validation loss: 0.728\n",
      "Balanced Accuracy: 74.69%\t auROC: 0.822\t auPRC: 0.825\t auPRG: 0.673\n",
      "Recall at 5%|10%|20% FDR: 5.8%|33.2%|68.6%\t Num Positives: 1436\t Num Negatives: 1436\t \n",
      "\n",
      "4824/4824 [==============================] - 1s - loss: 0.0073 - val_loss: 0.7284\n",
      "Epoch 16/100\n",
      "4750/4824 [============================>.] - ETA: 0s - loss: 0.0064Epoch 15: validation loss: 0.737\n",
      "Balanced Accuracy: 74.41%\t auROC: 0.822\t auPRC: 0.825\t auPRG: 0.673\n",
      "Recall at 5%|10%|20% FDR: 16.4%|33.6%|68.6%\t Num Positives: 1436\t Num Negatives: 1436\t \n",
      "\n",
      "4824/4824 [==============================] - 1s - loss: 0.0064 - val_loss: 0.7370\n",
      "Epoch 17/100\n",
      "4750/4824 [============================>.] - ETA: 0s - loss: 0.0056Epoch 16: validation loss: 0.756\n",
      "Balanced Accuracy: 74.41%\t auROC: 0.822\t auPRC: 0.825\t auPRG: 0.672\n",
      "Recall at 5%|10%|20% FDR: 5.2%|32.3%|67.5%\t Num Positives: 1436\t Num Negatives: 1436\t \n",
      "\n",
      "4824/4824 [==============================] - 1s - loss: 0.0056 - val_loss: 0.7563\n",
      "Epoch 18/100\n",
      "4750/4824 [============================>.] - ETA: 0s - loss: 0.0049Epoch 17: validation loss: 0.757\n",
      "Balanced Accuracy: 74.76%\t auROC: 0.822\t auPRC: 0.825\t auPRG: 0.673\n",
      "Recall at 5%|10%|20% FDR: 4.9%|32.8%|68.8%\t Num Positives: 1436\t Num Negatives: 1436\t \n",
      "\n",
      "4824/4824 [==============================] - 1s - loss: 0.0049 - val_loss: 0.7566\n",
      "Epoch 19/100\n",
      "4750/4824 [============================>.] - ETA: 0s - loss: 0.0044Epoch 18: validation loss: 0.769\n",
      "Balanced Accuracy: 74.86%\t auROC: 0.822\t auPRC: 0.825\t auPRG: 0.673\n",
      "Recall at 5%|10%|20% FDR: 15.4%|32.7%|68.7%\t Num Positives: 1436\t Num Negatives: 1436\t \n",
      "\n",
      "4824/4824 [==============================] - 1s - loss: 0.0044 - val_loss: 0.7691\n",
      "Epoch 20/100\n",
      "4750/4824 [============================>.] - ETA: 0s - loss: 0.0039Epoch 19: validation loss: 0.767\n",
      "Balanced Accuracy: 74.62%\t auROC: 0.822\t auPRC: 0.826\t auPRG: 0.673\n",
      "Recall at 5%|10%|20% FDR: 15.3%|33.8%|69.3%\t Num Positives: 1436\t Num Negatives: 1436\t \n",
      "\n",
      "4824/4824 [==============================] - 1s - loss: 0.0039 - val_loss: 0.7671\n",
      "Epoch 21/100\n",
      "4750/4824 [============================>.] - ETA: 0s - loss: 0.0035Epoch 20: validation loss: 0.789\n",
      "Balanced Accuracy: 74.51%\t auROC: 0.822\t auPRC: 0.825\t auPRG: 0.674\n",
      "Recall at 5%|10%|20% FDR: 15.0%|34.6%|68.7%\t Num Positives: 1436\t Num Negatives: 1436\t \n",
      "\n",
      "4824/4824 [==============================] - 1s - loss: 0.0035 - val_loss: 0.7892\n",
      "Epoch 22/100\n",
      "4750/4824 [============================>.] - ETA: 0s - loss: 0.0031Epoch 21: validation loss: 0.793\n",
      "Balanced Accuracy: 74.58%\t auROC: 0.822\t auPRC: 0.825\t auPRG: 0.674\n",
      "Recall at 5%|10%|20% FDR: 15.3%|32.9%|68.7%\t Num Positives: 1436\t Num Negatives: 1436\t \n",
      "\n",
      "4824/4824 [==============================] - 1s - loss: 0.0031 - val_loss: 0.7925\n",
      "Epoch 23/100\n",
      "4750/4824 [============================>.] - ETA: 0s - loss: 0.0028Epoch 22: validation loss: 0.811\n",
      "Balanced Accuracy: 74.79%\t auROC: 0.822\t auPRC: 0.825\t auPRG: 0.674\n",
      "Recall at 5%|10%|20% FDR: 15.0%|35.5%|68.2%\t Num Positives: 1436\t Num Negatives: 1436\t \n",
      "\n",
      "4824/4824 [==============================] - 1s - loss: 0.0028 - val_loss: 0.8109\n"
     ]
    }
   ],
   "source": [
    "from models_motif import LongRangeDNN_FC\n",
    "dnn_normalized = LongRangeDNN_FC(num_features=3840, use_deep_CNN=False)\n",
    "validation_data = (X_valid_pairs, y_valid)\n",
    "dnn_normalized.train(X_train_pairs, y_train, validation_data)"
   ]
  },
  {
   "cell_type": "code",
   "execution_count": 11,
   "metadata": {
    "collapsed": false,
    "scrolled": true
   },
   "outputs": [
    {
     "name": "stdout",
     "output_type": "stream",
     "text": [
      "Balanced Accuracy: 75.39%\t auROC: 0.836\t auPRC: 0.849\t auPRG: 0.700\n",
      "Recall at 5%|10%|20% FDR: 25.6%|49.0%|68.0%\t Num Positives: 906\t Num Negatives: 906\t \n",
      "Balanced Accuracy: 100.00%\t auROC: 1.000\t auPRC: 1.000\t auPRG: 1.000\n",
      "Recall at 5%|10%|20% FDR: 100.0%|100.0%|100.0%\t Num Positives: 2412\t Num Negatives: 2412\t \n",
      "Balanced Accuracy: 74.79%\t auROC: 0.822\t auPRC: 0.825\t auPRG: 0.674\n",
      "Recall at 5%|10%|20% FDR: 15.0%|35.5%|68.2%\t Num Positives: 1436\t Num Negatives: 1436\t \n"
     ]
    }
   ],
   "source": [
    "print(dnn_normalized.test(X_test_pairs, y_test))\n",
    "print(dnn_normalized.test(X_train_pairs, y_train))\n",
    "print(dnn_normalized.test(X_valid_pairs, y_valid))"
   ]
  },
  {
   "cell_type": "code",
   "execution_count": null,
   "metadata": {
    "collapsed": true
   },
   "outputs": [],
   "source": []
  }
 ],
 "metadata": {
  "anaconda-cloud": {},
  "kernelspec": {
   "display_name": "Python [default]",
   "language": "python",
   "name": "python2"
  },
  "language_info": {
   "codemirror_mode": {
    "name": "ipython",
    "version": 2
   },
   "file_extension": ".py",
   "mimetype": "text/x-python",
   "name": "python",
   "nbconvert_exporter": "python",
   "pygments_lexer": "ipython2",
   "version": "2.7.12"
  }
 },
 "nbformat": 4,
 "nbformat_minor": 0
}
