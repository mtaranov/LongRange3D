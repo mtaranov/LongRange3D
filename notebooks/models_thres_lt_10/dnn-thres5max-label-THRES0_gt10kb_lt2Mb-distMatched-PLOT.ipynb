{
 "cells": [
  {
   "cell_type": "code",
   "execution_count": 32,
   "metadata": {
    "collapsed": false
   },
   "outputs": [
    {
     "name": "stdout",
     "output_type": "stream",
     "text": [
      "The autoreload extension is already loaded. To reload it, use:\n",
      "  %reload_ext autoreload\n"
     ]
    }
   ],
   "source": [
    "%matplotlib inline\n",
    "%load_ext autoreload\n",
    "%autoreload 2\n",
    "\n",
    "import numpy as np\n",
    "import matplotlib.pyplot as plt\n",
    "from sklearn.preprocessing import MinMaxScaler, StandardScaler\n",
    "import copy\n",
    "from models import LongRangeDNN\n",
    "from utils import get_features, get_labels, subsample_data, normalize_features, reconstruct_2d, printMatrix, binarize, zscore, get_2D, plot_prediction, change_scale \n",
    "#from sklearn.preprocessing import MinMaxScaler, StandardScaler\n",
    "#from dragonn.models import Model, SequenceDNN\n",
    "#from keras.models import Sequential\n",
    "#from keras.callbacks import Callback, EarlyStopping\n",
    "#from keras.layers.core import (\n",
    "#    Activation, Dense, Dropout, Flatten,\n",
    "#    Permute, Reshape, TimeDistributedDense\n",
    "#)\n",
    "#from keras.layers.convolutional import Convolution2D, MaxPooling2D\n",
    "#from keras.layers.recurrent import GRU\n",
    "#from keras.regularizers import l1\n",
    "\n",
    "#from deeplift import keras_conversion as kc\n",
    "#from deeplift.blobs import MxtsMode"
   ]
  },
  {
   "cell_type": "code",
   "execution_count": 33,
   "metadata": {
    "collapsed": false
   },
   "outputs": [
    {
     "data": {
      "text/plain": [
       "\"\\nX_train = get_features(data_path+'train_set_upperTriangle_noDiag_reads.npy')\\ny_train = get_labels(data_path+'labels_train_upperTriangle_noDiag.npy')\\nX_valid = get_features(data_path+'vali_set_upperTriangle_noDiag_reads.npy')\\ny_valid = get_labels(data_path+'labels_vali_upperTriangle_noDiag.npy')\\nX_test = get_features(data_path+'test_set_upperTriangle_noDiag_reads.npy')\\ny_test = get_labels(data_path+'labels_test_upperTriangle_noDiag.npy')\\n\\nX_train = get_features('NN_datasets/train_set_all_reads.npy')\\ny_train = get_labels('NN_datasets/labels_train_all.npy')\\nX_valid = get_features('NN_datasets/vali_set_all_reads.npy')\\ny_valid = get_labels('NN_datasets/labels_vali_all.npy')\\nX_test = get_features('NN_datasets/test_set_all_reads.npy')\\ny_test = get_labels('NN_datasets/labels_test_all.npy')\\n\\nX_train_subsampled, y_train_subsampled = subsample_data(X_train, y_train)\\nX_valid_subsampled, y_valid_subsampled = subsample_data(X_valid, y_valid)\\nX_test_subsampled, y_test_subsampled = subsample_data(X_test, y_test)\\n\""
      ]
     },
     "execution_count": 33,
     "metadata": {},
     "output_type": "execute_result"
    }
   ],
   "source": [
    "data_path='/users/mtaranov/NN_all_data/'\n",
    "\n",
    "X_train = get_features('/users/mtaranov/NN_thres5max/dist_matched/X_train_thres_0.npy')\n",
    "y_train = get_labels('/users/mtaranov/NN_thres5max/dist_matched/y_train_thres_0.npy')\n",
    "X_valid = get_features('/users/mtaranov/NN_thres5max/dist_matched/X_valid_thres_0.npy')\n",
    "y_valid = get_labels('/users/mtaranov/NN_thres5max/dist_matched/y_valid_thres_0.npy')\n",
    "X_test = get_features('/users/mtaranov/NN_thres5max/dist_matched/X_test_thres_0.npy')\n",
    "y_test = get_labels('/users/mtaranov/NN_thres5max/dist_matched/y_test_thres_0.npy')\n",
    "\n",
    "\"\"\"\n",
    "X_train = get_features(data_path+'train_set_upperTriangle_noDiag_reads.npy')\n",
    "y_train = get_labels(data_path+'labels_train_upperTriangle_noDiag.npy')\n",
    "X_valid = get_features(data_path+'vali_set_upperTriangle_noDiag_reads.npy')\n",
    "y_valid = get_labels(data_path+'labels_vali_upperTriangle_noDiag.npy')\n",
    "X_test = get_features(data_path+'test_set_upperTriangle_noDiag_reads.npy')\n",
    "y_test = get_labels(data_path+'labels_test_upperTriangle_noDiag.npy')\n",
    "\n",
    "X_train = get_features('NN_datasets/train_set_all_reads.npy')\n",
    "y_train = get_labels('NN_datasets/labels_train_all.npy')\n",
    "X_valid = get_features('NN_datasets/vali_set_all_reads.npy')\n",
    "y_valid = get_labels('NN_datasets/labels_vali_all.npy')\n",
    "X_test = get_features('NN_datasets/test_set_all_reads.npy')\n",
    "y_test = get_labels('NN_datasets/labels_test_all.npy')\n",
    "\n",
    "X_train_subsampled, y_train_subsampled = subsample_data(X_train, y_train)\n",
    "X_valid_subsampled, y_valid_subsampled = subsample_data(X_valid, y_valid)\n",
    "X_test_subsampled, y_test_subsampled = subsample_data(X_test, y_test)\n",
    "\"\"\""
   ]
  },
  {
   "cell_type": "code",
   "execution_count": 34,
   "metadata": {
    "collapsed": false
   },
   "outputs": [],
   "source": [
    "X_train_normalized, X_valid_normalized, X_test_normalized = normalize_features(X_train, X_valid, X_test)\n",
    "\n",
    "#X_train_normalized_subsampled, y_train_subsampled = subsample_data(X_train_normalized, y_train)\n",
    "#X_valid_normalized_subsampled, y_valid_subsampled = subsample_data(X_valid_normalized, y_valid)\n",
    "#X_test_normalized_subsampled, y_test_subsampled = subsample_data(X_test_normalized, y_test)\n",
    "\n",
    "#X_train_scaled_subsampled, y_train_subsampled = subsample_data(X_train_scaled, y_train)\n",
    "#X_valid_scaled_subsampled, y_valid_subsampled = subsample_data(X_valid_scaled, y_valid)\n",
    "#X_test_scaled_subsampled, y_test_subsampled = subsample_data(X_test_scaled, y_test)\n"
   ]
  },
  {
   "cell_type": "markdown",
   "metadata": {},
   "source": [
    "# without distance"
   ]
  },
  {
   "cell_type": "code",
   "execution_count": 35,
   "metadata": {
    "collapsed": true
   },
   "outputs": [],
   "source": [
    "dnn_normalized = LongRangeDNN(num_features=10, use_deep_CNN=True)"
   ]
  },
  {
   "cell_type": "code",
   "execution_count": 39,
   "metadata": {
    "collapsed": false
   },
   "outputs": [
    {
     "name": "stdout",
     "output_type": "stream",
     "text": [
      "Training model...\n",
      "Train on 56580 samples, validate on 33872 samples\n",
      "Epoch 1/100\n",
      "56580/56580 [==============================] - 2s - loss: 1.3509 - val_loss: 0.6803\n",
      "Epoch 0: validation loss: 0.680\n",
      "Balanced Accuracy: 55.96%\t auROC: 0.586\t auPRC: 0.591\t auPRG: 0.151\n",
      "Recall at 5%|10%|20% FDR: 0.5%|0.8%|1.8%\t Num Positives: 16936\t Num Negatives: 16936\t \n",
      "\n",
      "Epoch 2/100\n",
      "56580/56580 [==============================] - 1s - loss: 1.3477 - val_loss: 0.6805\n",
      "Epoch 1: validation loss: 0.681\n",
      "Balanced Accuracy: 56.24%\t auROC: 0.586\t auPRC: 0.589\t auPRG: 0.149\n",
      "Recall at 5%|10%|20% FDR: 0.5%|0.6%|2.4%\t Num Positives: 16936\t Num Negatives: 16936\t \n",
      "\n",
      "Epoch 3/100\n",
      "56580/56580 [==============================] - 1s - loss: 1.3454 - val_loss: 0.6805\n",
      "Epoch 2: validation loss: 0.681\n",
      "Balanced Accuracy: 55.90%\t auROC: 0.586\t auPRC: 0.591\t auPRG: 0.151\n",
      "Recall at 5%|10%|20% FDR: 0.6%|0.8%|2.1%\t Num Positives: 16936\t Num Negatives: 16936\t \n",
      "\n",
      "Epoch 4/100\n",
      "56580/56580 [==============================] - 1s - loss: 1.3439 - val_loss: 0.6798\n",
      "Epoch 3: validation loss: 0.680\n",
      "Balanced Accuracy: 56.10%\t auROC: 0.587\t auPRC: 0.593\t auPRG: 0.152\n",
      "Recall at 5%|10%|20% FDR: 0.6%|1.0%|2.2%\t Num Positives: 16936\t Num Negatives: 16936\t \n",
      "\n",
      "Epoch 5/100\n",
      "56580/56580 [==============================] - 1s - loss: 1.3420 - val_loss: 0.6806\n",
      "Epoch 4: validation loss: 0.681\n",
      "Balanced Accuracy: 56.36%\t auROC: 0.587\t auPRC: 0.593\t auPRG: 0.148\n",
      "Recall at 5%|10%|20% FDR: 0.3%|0.8%|2.7%\t Num Positives: 16936\t Num Negatives: 16936\t \n",
      "\n",
      "Epoch 6/100\n",
      "56580/56580 [==============================] - 1s - loss: 1.3398 - val_loss: 0.6820\n",
      "Epoch 5: validation loss: 0.682\n",
      "Balanced Accuracy: 56.09%\t auROC: 0.589\t auPRC: 0.593\t auPRG: 0.159\n",
      "Recall at 5%|10%|20% FDR: 0.6%|0.8%|3.0%\t Num Positives: 16936\t Num Negatives: 16936\t \n",
      "\n",
      "Epoch 7/100\n",
      "56580/56580 [==============================] - 1s - loss: 1.3380 - val_loss: 0.6810\n",
      "Epoch 6: validation loss: 0.681\n",
      "Balanced Accuracy: 56.09%\t auROC: 0.589\t auPRC: 0.594\t auPRG: 0.157\n",
      "Recall at 5%|10%|20% FDR: 0.3%|0.8%|2.7%\t Num Positives: 16936\t Num Negatives: 16936\t \n",
      "\n",
      "Epoch 8/100\n",
      "56580/56580 [==============================] - 1s - loss: 1.3364 - val_loss: 0.6799\n",
      "Epoch 7: validation loss: 0.680\n",
      "Balanced Accuracy: 56.28%\t auROC: 0.589\t auPRC: 0.594\t auPRG: 0.153\n",
      "Recall at 5%|10%|20% FDR: 0.5%|0.7%|1.5%\t Num Positives: 16936\t Num Negatives: 16936\t \n",
      "\n",
      "Epoch 9/100\n",
      "56580/56580 [==============================] - 1s - loss: 1.3344 - val_loss: 0.6812\n",
      "Epoch 8: validation loss: 0.681\n",
      "Balanced Accuracy: 56.06%\t auROC: 0.587\t auPRC: 0.591\t auPRG: 0.150\n",
      "Recall at 5%|10%|20% FDR: 0.6%|0.7%|2.1%\t Num Positives: 16936\t Num Negatives: 16936\t \n",
      "\n",
      "Epoch 10/100\n",
      "56580/56580 [==============================] - 1s - loss: 1.3329 - val_loss: 0.6798\n",
      "Epoch 9: validation loss: 0.680\n",
      "Balanced Accuracy: 56.34%\t auROC: 0.592\t auPRC: 0.594\t auPRG: 0.165\n",
      "Recall at 5%|10%|20% FDR: 0.6%|0.8%|2.3%\t Num Positives: 16936\t Num Negatives: 16936\t \n",
      "\n",
      "Epoch 11/100\n",
      "56580/56580 [==============================] - 1s - loss: 1.3302 - val_loss: 0.6804\n",
      "Epoch 10: validation loss: 0.680\n",
      "Balanced Accuracy: 56.31%\t auROC: 0.591\t auPRC: 0.594\t auPRG: 0.161\n",
      "Recall at 5%|10%|20% FDR: 0.7%|0.8%|2.4%\t Num Positives: 16936\t Num Negatives: 16936\t \n",
      "\n",
      "Epoch 12/100\n",
      "56580/56580 [==============================] - 1s - loss: 1.3294 - val_loss: 0.6817\n",
      "Epoch 11: validation loss: 0.682\n",
      "Balanced Accuracy: 56.26%\t auROC: 0.591\t auPRC: 0.595\t auPRG: 0.160\n",
      "Recall at 5%|10%|20% FDR: 0.5%|0.7%|3.0%\t Num Positives: 16936\t Num Negatives: 16936\t \n",
      "\n",
      "Epoch 13/100\n",
      "56580/56580 [==============================] - 2s - loss: 1.3262 - val_loss: 0.6836\n",
      "Epoch 12: validation loss: 0.684\n",
      "Balanced Accuracy: 56.16%\t auROC: 0.586\t auPRC: 0.588\t auPRG: 0.153\n",
      "Recall at 5%|10%|20% FDR: 0.6%|0.7%|2.4%\t Num Positives: 16936\t Num Negatives: 16936\t \n",
      "\n",
      "Epoch 14/100\n",
      "56580/56580 [==============================] - 4s - loss: 1.3257 - val_loss: 0.6828\n",
      "Epoch 13: validation loss: 0.683\n",
      "Balanced Accuracy: 56.36%\t auROC: 0.588\t auPRC: 0.592\t auPRG: 0.155\n",
      "Recall at 5%|10%|20% FDR: 0.7%|0.8%|2.5%\t Num Positives: 16936\t Num Negatives: 16936\t \n",
      "\n",
      "Epoch 15/100\n",
      "56580/56580 [==============================] - 4s - loss: 1.3243 - val_loss: 0.6823\n",
      "Epoch 14: validation loss: 0.682\n",
      "Balanced Accuracy: 56.07%\t auROC: 0.590\t auPRC: 0.594\t auPRG: 0.158\n",
      "Recall at 5%|10%|20% FDR: 0.6%|0.7%|2.7%\t Num Positives: 16936\t Num Negatives: 16936\t \n",
      "\n"
     ]
    }
   ],
   "source": [
    "#validation_data = (X_valid_normalized_subsampled[:, :, :10, :], y_valid_subsampled)\n",
    "#dnn_normalized.train(X_train_normalized_subsampled[:, :, :10, :], y_train_subsampled, validation_data)\n",
    "validation_data = (X_valid_normalized[:, :, :10, :], y_valid)\n",
    "dnn_normalized.train(X_train_normalized[:, :, :10, :], y_train, validation_data)"
   ]
  },
  {
   "cell_type": "code",
   "execution_count": 40,
   "metadata": {
    "collapsed": false
   },
   "outputs": [
    {
     "name": "stdout",
     "output_type": "stream",
     "text": [
      "Balanced Accuracy: 56.81%\t auROC: 0.597\t auPRC: 0.600\t auPRG: 0.176\n",
      "Recall at 5%|10%|20% FDR: 0.3%|0.7%|3.6%\t Num Positives: 11292\t Num Negatives: 11292\t \n"
     ]
    }
   ],
   "source": [
    "print(dnn_normalized.test(X_test_normalized[:, :, :10, :], y_test))"
   ]
  },
  {
   "cell_type": "code",
   "execution_count": 41,
   "metadata": {
    "collapsed": false
   },
   "outputs": [
    {
     "name": "stdout",
     "output_type": "stream",
     "text": [
      "Balanced Accuracy: 59.70%\t auROC: 0.642\t auPRC: 0.643\t auPRG: 0.269\n",
      "Recall at 5%|10%|20% FDR: 1.4%|2.7%|8.9%\t Num Positives: 28290\t Num Negatives: 28290\t \n"
     ]
    }
   ],
   "source": [
    "print(dnn_normalized.test(X_train_normalized[:, :, :10:, :], y_train))"
   ]
  },
  {
   "cell_type": "code",
   "execution_count": 42,
   "metadata": {
    "collapsed": false
   },
   "outputs": [
    {
     "name": "stdout",
     "output_type": "stream",
     "text": [
      "Balanced Accuracy: 56.07%\t auROC: 0.590\t auPRC: 0.594\t auPRG: 0.158\n",
      "Recall at 5%|10%|20% FDR: 0.6%|0.7%|2.7%\t Num Positives: 16936\t Num Negatives: 16936\t \n"
     ]
    }
   ],
   "source": [
    "print(dnn_normalized.test(X_valid_normalized[:, :, :10, :], y_valid))"
   ]
  },
  {
   "cell_type": "code",
   "execution_count": 43,
   "metadata": {
    "collapsed": true
   },
   "outputs": [],
   "source": [
    "pred_probs_test = dnn_normalized.predict(X_test_normalized[:, :, :10, :])\n",
    "#np.save(\"model_predictions/test_set_upperTriangle_noDiag_reads_with_distances_full_valid.npy\", pred_probs_test)\n",
    "pred_probs_valid = dnn_normalized.predict(X_valid_normalized[:, :, :10, :])\n",
    "#np.save(\"model_predictions/valid_set_upperTriangle_noDiag_reads_with_distances_full_valid.npy\", pred_probs_valid)\n",
    "pred_probs_train = dnn_normalized.predict(X_train_normalized[:, :, :10, :])\n",
    "#np.save(\"model_predictions/train_set_upperTriangle_noDiag_reads_with_distances_full_valid.npy\", pred_probs_train)"
   ]
  },
  {
   "cell_type": "markdown",
   "metadata": {},
   "source": [
    "# with genomic locations"
   ]
  },
  {
   "cell_type": "code",
   "execution_count": 44,
   "metadata": {
    "collapsed": true
   },
   "outputs": [],
   "source": [
    "dnn_normalized = LongRangeDNN(num_features=11, use_deep_CNN=True)"
   ]
  },
  {
   "cell_type": "code",
   "execution_count": 49,
   "metadata": {
    "collapsed": false
   },
   "outputs": [
    {
     "name": "stdout",
     "output_type": "stream",
     "text": [
      "Training model...\n",
      "Train on 56580 samples, validate on 33872 samples\n",
      "Epoch 1/100\n",
      "56580/56580 [==============================] - 1s - loss: 1.3199 - val_loss: 0.6800\n",
      "Epoch 0: validation loss: 0.680\n",
      "Balanced Accuracy: 56.59%\t auROC: 0.594\t auPRC: 0.594\t auPRG: 0.171\n",
      "Recall at 5%|10%|20% FDR: 0.4%|0.7%|1.6%\t Num Positives: 16936\t Num Negatives: 16936\t \n",
      "\n",
      "Epoch 2/100\n",
      "56580/56580 [==============================] - 1s - loss: 1.3187 - val_loss: 0.6810\n",
      "Epoch 1: validation loss: 0.681\n",
      "Balanced Accuracy: 56.70%\t auROC: 0.596\t auPRC: 0.596\t auPRG: 0.175\n",
      "Recall at 5%|10%|20% FDR: 0.5%|0.8%|2.2%\t Num Positives: 16936\t Num Negatives: 16936\t \n",
      "\n",
      "Epoch 3/100\n",
      "56580/56580 [==============================] - 1s - loss: 1.3165 - val_loss: 0.6813\n",
      "Epoch 2: validation loss: 0.681\n",
      "Balanced Accuracy: 56.91%\t auROC: 0.598\t auPRC: 0.598\t auPRG: 0.177\n",
      "Recall at 5%|10%|20% FDR: 0.5%|0.7%|2.2%\t Num Positives: 16936\t Num Negatives: 16936\t \n",
      "\n",
      "Epoch 4/100\n",
      "56580/56580 [==============================] - 1s - loss: 1.3140 - val_loss: 0.6826\n",
      "Epoch 3: validation loss: 0.683\n",
      "Balanced Accuracy: 56.58%\t auROC: 0.595\t auPRC: 0.595\t auPRG: 0.174\n",
      "Recall at 5%|10%|20% FDR: 0.5%|0.7%|2.5%\t Num Positives: 16936\t Num Negatives: 16936\t \n",
      "\n",
      "Epoch 5/100\n",
      "56580/56580 [==============================] - 1s - loss: 1.3126 - val_loss: 0.6826\n",
      "Epoch 4: validation loss: 0.683\n",
      "Balanced Accuracy: 56.56%\t auROC: 0.593\t auPRC: 0.594\t auPRG: 0.168\n",
      "Recall at 5%|10%|20% FDR: 0.4%|0.7%|2.2%\t Num Positives: 16936\t Num Negatives: 16936\t \n",
      "\n",
      "Epoch 6/100\n",
      "56580/56580 [==============================] - 1s - loss: 1.3097 - val_loss: 0.6847\n",
      "Epoch 5: validation loss: 0.685\n",
      "Balanced Accuracy: 56.18%\t auROC: 0.594\t auPRC: 0.595\t auPRG: 0.171\n",
      "Recall at 5%|10%|20% FDR: 0.5%|0.7%|2.5%\t Num Positives: 16936\t Num Negatives: 16936\t \n",
      "\n",
      "Epoch 7/100\n",
      "56580/56580 [==============================] - 1s - loss: 1.3080 - val_loss: 0.6829\n",
      "Epoch 6: validation loss: 0.683\n",
      "Balanced Accuracy: 56.56%\t auROC: 0.594\t auPRC: 0.594\t auPRG: 0.174\n",
      "Recall at 5%|10%|20% FDR: 0.2%|0.8%|1.5%\t Num Positives: 16936\t Num Negatives: 16936\t \n",
      "\n",
      "Epoch 8/100\n",
      "56580/56580 [==============================] - 1s - loss: 1.3058 - val_loss: 0.6837\n",
      "Epoch 7: validation loss: 0.684\n",
      "Balanced Accuracy: 56.53%\t auROC: 0.594\t auPRC: 0.595\t auPRG: 0.170\n",
      "Recall at 5%|10%|20% FDR: 0.2%|0.8%|2.6%\t Num Positives: 16936\t Num Negatives: 16936\t \n",
      "\n",
      "Epoch 9/100\n",
      "56580/56580 [==============================] - 1s - loss: 1.3043 - val_loss: 0.6827\n",
      "Epoch 8: validation loss: 0.683\n",
      "Balanced Accuracy: 56.80%\t auROC: 0.595\t auPRC: 0.597\t auPRG: 0.172\n",
      "Recall at 5%|10%|20% FDR: 0.3%|0.7%|2.4%\t Num Positives: 16936\t Num Negatives: 16936\t \n",
      "\n",
      "Epoch 10/100\n",
      "56580/56580 [==============================] - 1s - loss: 1.3023 - val_loss: 0.6857\n",
      "Epoch 9: validation loss: 0.686\n",
      "Balanced Accuracy: 56.67%\t auROC: 0.594\t auPRC: 0.594\t auPRG: 0.172\n",
      "Recall at 5%|10%|20% FDR: 0.5%|0.6%|2.5%\t Num Positives: 16936\t Num Negatives: 16936\t \n",
      "\n",
      "Epoch 11/100\n",
      "56580/56580 [==============================] - 1s - loss: 1.3000 - val_loss: 0.6883\n",
      "Epoch 10: validation loss: 0.688\n",
      "Balanced Accuracy: 56.43%\t auROC: 0.594\t auPRC: 0.595\t auPRG: 0.171\n",
      "Recall at 5%|10%|20% FDR: 0.3%|0.5%|2.4%\t Num Positives: 16936\t Num Negatives: 16936\t \n",
      "\n",
      "Epoch 12/100\n",
      "56580/56580 [==============================] - 1s - loss: 1.2996 - val_loss: 0.6857\n",
      "Epoch 11: validation loss: 0.686\n",
      "Balanced Accuracy: 56.38%\t auROC: 0.593\t auPRC: 0.592\t auPRG: 0.171\n",
      "Recall at 5%|10%|20% FDR: 0.2%|0.6%|1.8%\t Num Positives: 16936\t Num Negatives: 16936\t \n",
      "\n"
     ]
    }
   ],
   "source": [
    "#validation_data = (X_valid_normalized_subsampled[:, :, :11, :], y_valid_subsampled)\n",
    "#dnn_normalized.train(X_train_normalized_subsampled[:, :, :11, :], y_train_subsampled, validation_data)\n",
    "validation_data = (X_valid_normalized[:, :, :11, :], y_valid)\n",
    "dnn_normalized.train(X_train_normalized[:, :, :11, :], y_train, validation_data)"
   ]
  },
  {
   "cell_type": "code",
   "execution_count": 50,
   "metadata": {
    "collapsed": false
   },
   "outputs": [
    {
     "name": "stdout",
     "output_type": "stream",
     "text": [
      "Balanced Accuracy: 56.81%\t auROC: 0.594\t auPRC: 0.589\t auPRG: 0.176\n",
      "Recall at 5%|10%|20% FDR: 0.4%|0.7%|1.1%\t Num Positives: 11292\t Num Negatives: 11292\t \n"
     ]
    }
   ],
   "source": [
    "print(dnn_normalized.test(X_test_normalized[:, :, :11, :], y_test))"
   ]
  },
  {
   "cell_type": "markdown",
   "metadata": {},
   "source": [
    "# with distance only"
   ]
  },
  {
   "cell_type": "code",
   "execution_count": 51,
   "metadata": {
    "collapsed": true
   },
   "outputs": [],
   "source": [
    "dnn_normalized = LongRangeDNN(num_features=1, use_deep_CNN=True)"
   ]
  },
  {
   "cell_type": "code",
   "execution_count": 64,
   "metadata": {
    "collapsed": false
   },
   "outputs": [
    {
     "name": "stdout",
     "output_type": "stream",
     "text": [
      "Training model...\n",
      "Train on 56580 samples, validate on 33872 samples\n",
      "Epoch 1/100\n",
      "56580/56580 [==============================] - 1s - loss: 1.3761 - val_loss: 0.6894\n",
      "Epoch 0: validation loss: 0.689\n",
      "Balanced Accuracy: 53.36%\t auROC: 0.548\t auPRC: 0.540\t auPRG: 0.091\n",
      "Recall at 5%|10%|20% FDR: 0.0%|0.0%|0.0%\t Num Positives: 16936\t Num Negatives: 16936\t \n",
      "\n",
      "Epoch 2/100\n",
      "56580/56580 [==============================] - 1s - loss: 1.3763 - val_loss: 0.6890\n",
      "Epoch 1: validation loss: 0.689\n",
      "Balanced Accuracy: 53.74%\t auROC: 0.551\t auPRC: 0.541\t auPRG: 0.099\n",
      "Recall at 5%|10%|20% FDR: 0.0%|0.0%|0.0%\t Num Positives: 16936\t Num Negatives: 16936\t \n",
      "\n",
      "Epoch 3/100\n",
      "56580/56580 [==============================] - 1s - loss: 1.3762 - val_loss: 0.6889\n",
      "Epoch 2: validation loss: 0.689\n",
      "Balanced Accuracy: 53.81%\t auROC: 0.554\t auPRC: 0.542\t auPRG: 0.103\n",
      "Recall at 5%|10%|20% FDR: 0.0%|0.0%|0.1%\t Num Positives: 16936\t Num Negatives: 16936\t \n",
      "\n",
      "Epoch 4/100\n",
      "56580/56580 [==============================] - 1s - loss: 1.3763 - val_loss: 0.6895\n",
      "Epoch 3: validation loss: 0.690\n",
      "Balanced Accuracy: 53.41%\t auROC: 0.549\t auPRC: 0.539\t auPRG: 0.094\n",
      "Recall at 5%|10%|20% FDR: 0.0%|0.0%|0.0%\t Num Positives: 16936\t Num Negatives: 16936\t \n",
      "\n",
      "Epoch 5/100\n",
      "56580/56580 [==============================] - 1s - loss: 1.3762 - val_loss: 0.6888\n",
      "Epoch 4: validation loss: 0.689\n",
      "Balanced Accuracy: 53.63%\t auROC: 0.552\t auPRC: 0.541\t auPRG: 0.100\n",
      "Recall at 5%|10%|20% FDR: 0.0%|0.0%|0.0%\t Num Positives: 16936\t Num Negatives: 16936\t \n",
      "\n",
      "Epoch 6/100\n",
      "56580/56580 [==============================] - 1s - loss: 1.3762 - val_loss: 0.6888\n",
      "Epoch 5: validation loss: 0.689\n",
      "Balanced Accuracy: 53.76%\t auROC: 0.553\t auPRC: 0.543\t auPRG: 0.104\n",
      "Recall at 5%|10%|20% FDR: 0.0%|0.0%|0.0%\t Num Positives: 16936\t Num Negatives: 16936\t \n",
      "\n",
      "Epoch 7/100\n",
      "56580/56580 [==============================] - 1s - loss: 1.3760 - val_loss: 0.6889\n",
      "Epoch 6: validation loss: 0.689\n",
      "Balanced Accuracy: 53.99%\t auROC: 0.553\t auPRC: 0.541\t auPRG: 0.104\n",
      "Recall at 5%|10%|20% FDR: 0.0%|0.0%|0.0%\t Num Positives: 16936\t Num Negatives: 16936\t \n",
      "\n",
      "Epoch 8/100\n",
      "56580/56580 [==============================] - 1s - loss: 1.3757 - val_loss: 0.6896\n",
      "Epoch 7: validation loss: 0.690\n",
      "Balanced Accuracy: 53.57%\t auROC: 0.551\t auPRC: 0.542\t auPRG: 0.098\n",
      "Recall at 5%|10%|20% FDR: 0.0%|0.0%|0.1%\t Num Positives: 16936\t Num Negatives: 16936\t \n",
      "\n",
      "Epoch 9/100\n",
      "56580/56580 [==============================] - 1s - loss: 1.3759 - val_loss: 0.6891\n",
      "Epoch 8: validation loss: 0.689\n",
      "Balanced Accuracy: 53.62%\t auROC: 0.552\t auPRC: 0.543\t auPRG: 0.099\n",
      "Recall at 5%|10%|20% FDR: 0.0%|0.0%|0.0%\t Num Positives: 16936\t Num Negatives: 16936\t \n",
      "\n",
      "Epoch 10/100\n",
      "56580/56580 [==============================] - 1s - loss: 1.3759 - val_loss: 0.6893\n",
      "Epoch 9: validation loss: 0.689\n",
      "Balanced Accuracy: 53.70%\t auROC: 0.551\t auPRC: 0.540\t auPRG: 0.098\n",
      "Recall at 5%|10%|20% FDR: 0.0%|0.0%|0.0%\t Num Positives: 16936\t Num Negatives: 16936\t \n",
      "\n",
      "Epoch 11/100\n",
      "56580/56580 [==============================] - 1s - loss: 1.3761 - val_loss: 0.6893\n",
      "Epoch 10: validation loss: 0.689\n",
      "Balanced Accuracy: 53.42%\t auROC: 0.550\t auPRC: 0.542\t auPRG: 0.094\n",
      "Recall at 5%|10%|20% FDR: 0.0%|0.0%|0.0%\t Num Positives: 16936\t Num Negatives: 16936\t \n",
      "\n",
      "Epoch 12/100\n",
      "56580/56580 [==============================] - 1s - loss: 1.3757 - val_loss: 0.6890\n",
      "Epoch 11: validation loss: 0.689\n",
      "Balanced Accuracy: 53.71%\t auROC: 0.552\t auPRC: 0.543\t auPRG: 0.100\n",
      "Recall at 5%|10%|20% FDR: 0.0%|0.0%|0.0%\t Num Positives: 16936\t Num Negatives: 16936\t \n",
      "\n",
      "Epoch 13/100\n",
      "56580/56580 [==============================] - 1s - loss: 1.3760 - val_loss: 0.6887\n",
      "Epoch 12: validation loss: 0.689\n",
      "Balanced Accuracy: 53.59%\t auROC: 0.552\t auPRC: 0.542\t auPRG: 0.101\n",
      "Recall at 5%|10%|20% FDR: 0.0%|0.0%|0.0%\t Num Positives: 16936\t Num Negatives: 16936\t \n",
      "\n",
      "Epoch 14/100\n",
      "56580/56580 [==============================] - 1s - loss: 1.3758 - val_loss: 0.6894\n",
      "Epoch 13: validation loss: 0.689\n",
      "Balanced Accuracy: 53.58%\t auROC: 0.552\t auPRC: 0.544\t auPRG: 0.097\n",
      "Recall at 5%|10%|20% FDR: 0.0%|0.0%|0.1%\t Num Positives: 16936\t Num Negatives: 16936\t \n",
      "\n",
      "Epoch 15/100\n",
      "56580/56580 [==============================] - 1s - loss: 1.3761 - val_loss: 0.6889\n",
      "Epoch 14: validation loss: 0.689\n",
      "Balanced Accuracy: 53.59%\t auROC: 0.552\t auPRC: 0.540\t auPRG: 0.100\n",
      "Recall at 5%|10%|20% FDR: 0.0%|0.0%|0.0%\t Num Positives: 16936\t Num Negatives: 16936\t \n",
      "\n",
      "Epoch 16/100\n",
      "56580/56580 [==============================] - 1s - loss: 1.3757 - val_loss: 0.6898\n",
      "Epoch 15: validation loss: 0.690\n",
      "Balanced Accuracy: 53.43%\t auROC: 0.548\t auPRC: 0.538\t auPRG: 0.091\n",
      "Recall at 5%|10%|20% FDR: 0.0%|0.0%|0.0%\t Num Positives: 16936\t Num Negatives: 16936\t \n",
      "\n",
      "Epoch 17/100\n",
      "34750/56580 [=================>............] - ETA: 0s - loss: 1.3763\b\b\b\b\b\b\b\b\b\b\b\b\b\b\b\b\b\b\b\b\b\b\b\b\b\b\b\b\b\b\b\b\b\b\b\b\b\b\b\b\b\b\b\b\b\b\b\b\b\b\b\b\b\b\b\b\b\b\b\b\b\b\b\b\b\b\b\b\b"
     ]
    },
    {
     "ename": "ValueError",
     "evalue": "I/O operation on closed file",
     "output_type": "error",
     "traceback": [
      "\u001b[1;31m---------------------------------------------------------------------------\u001b[0m",
      "\u001b[1;31mValueError\u001b[0m                                Traceback (most recent call last)",
      "\u001b[1;32m<ipython-input-64-1111485b6250>\u001b[0m in \u001b[0;36m<module>\u001b[1;34m()\u001b[0m\n\u001b[0;32m      2\u001b[0m \u001b[1;31m#dnn_normalized.train(X_train_normalized_subsampled[:, :, :11, :], y_train_subsampled, validation_data)\u001b[0m\u001b[1;33m\u001b[0m\u001b[1;33m\u001b[0m\u001b[0m\n\u001b[0;32m      3\u001b[0m \u001b[0mvalidation_data\u001b[0m \u001b[1;33m=\u001b[0m \u001b[1;33m(\u001b[0m\u001b[0mX_valid_normalized\u001b[0m\u001b[1;33m[\u001b[0m\u001b[1;33m:\u001b[0m\u001b[1;33m,\u001b[0m \u001b[1;33m:\u001b[0m\u001b[1;33m,\u001b[0m \u001b[1;36m10\u001b[0m\u001b[1;33m:\u001b[0m\u001b[1;33m,\u001b[0m \u001b[1;33m:\u001b[0m\u001b[1;33m]\u001b[0m\u001b[1;33m,\u001b[0m \u001b[0my_valid\u001b[0m\u001b[1;33m)\u001b[0m\u001b[1;33m\u001b[0m\u001b[0m\n\u001b[1;32m----> 4\u001b[1;33m \u001b[0mdnn_normalized\u001b[0m\u001b[1;33m.\u001b[0m\u001b[0mtrain\u001b[0m\u001b[1;33m(\u001b[0m\u001b[0mX_train_normalized\u001b[0m\u001b[1;33m[\u001b[0m\u001b[1;33m:\u001b[0m\u001b[1;33m,\u001b[0m \u001b[1;33m:\u001b[0m\u001b[1;33m,\u001b[0m \u001b[1;36m10\u001b[0m\u001b[1;33m:\u001b[0m\u001b[1;33m,\u001b[0m \u001b[1;33m:\u001b[0m\u001b[1;33m]\u001b[0m\u001b[1;33m,\u001b[0m \u001b[0my_train\u001b[0m\u001b[1;33m,\u001b[0m \u001b[0mvalidation_data\u001b[0m\u001b[1;33m)\u001b[0m\u001b[1;33m\u001b[0m\u001b[0m\n\u001b[0m",
      "\u001b[1;32m/users/mtaranov/LongRange3D/models.pyc\u001b[0m in \u001b[0;36mtrain\u001b[1;34m(self, X, y, validation_data)\u001b[0m\n\u001b[0;32m    125\u001b[0m                           False: num_sequences / num_negatives}\n\u001b[0;32m    126\u001b[0m             \u001b[1;32mif\u001b[0m \u001b[1;32mnot\u001b[0m \u001b[0mmultitask\u001b[0m \u001b[1;32melse\u001b[0m \u001b[0mNone\u001b[0m\u001b[1;33m,\u001b[0m\u001b[1;33m\u001b[0m\u001b[0m\n\u001b[1;32m--> 127\u001b[1;33m             callbacks=self.callbacks, verbose=self.verbose >= 2)\n\u001b[0m\u001b[0;32m    128\u001b[0m         \u001b[0mself\u001b[0m\u001b[1;33m.\u001b[0m\u001b[0mtrain_losses\u001b[0m \u001b[1;33m=\u001b[0m \u001b[0mself\u001b[0m\u001b[1;33m.\u001b[0m\u001b[0mcallbacks\u001b[0m\u001b[1;33m[\u001b[0m\u001b[1;33m-\u001b[0m\u001b[1;36m1\u001b[0m\u001b[1;33m]\u001b[0m\u001b[1;33m.\u001b[0m\u001b[0mtrain_losses\u001b[0m\u001b[1;33m\u001b[0m\u001b[0m\n\u001b[0;32m    129\u001b[0m         \u001b[0mself\u001b[0m\u001b[1;33m.\u001b[0m\u001b[0mvalid_losses\u001b[0m \u001b[1;33m=\u001b[0m \u001b[0mself\u001b[0m\u001b[1;33m.\u001b[0m\u001b[0mcallbacks\u001b[0m\u001b[1;33m[\u001b[0m\u001b[1;33m-\u001b[0m\u001b[1;36m1\u001b[0m\u001b[1;33m]\u001b[0m\u001b[1;33m.\u001b[0m\u001b[0mvalid_losses\u001b[0m\u001b[1;33m\u001b[0m\u001b[0m\n",
      "\u001b[1;32m/users/mtaranov/local/anaconda2/lib/python2.7/site-packages/Keras-0.3.2-py2.7.egg/keras/models.pyc\u001b[0m in \u001b[0;36mfit\u001b[1;34m(self, X, y, batch_size, nb_epoch, verbose, callbacks, validation_split, validation_data, shuffle, show_accuracy, class_weight, sample_weight)\u001b[0m\n\u001b[0;32m    644\u001b[0m                          \u001b[0mverbose\u001b[0m\u001b[1;33m=\u001b[0m\u001b[0mverbose\u001b[0m\u001b[1;33m,\u001b[0m \u001b[0mcallbacks\u001b[0m\u001b[1;33m=\u001b[0m\u001b[0mcallbacks\u001b[0m\u001b[1;33m,\u001b[0m\u001b[1;33m\u001b[0m\u001b[0m\n\u001b[0;32m    645\u001b[0m                          \u001b[0mval_f\u001b[0m\u001b[1;33m=\u001b[0m\u001b[0mval_f\u001b[0m\u001b[1;33m,\u001b[0m \u001b[0mval_ins\u001b[0m\u001b[1;33m=\u001b[0m\u001b[0mval_ins\u001b[0m\u001b[1;33m,\u001b[0m\u001b[1;33m\u001b[0m\u001b[0m\n\u001b[1;32m--> 646\u001b[1;33m                          shuffle=shuffle, metrics=metrics)\n\u001b[0m\u001b[0;32m    647\u001b[0m \u001b[1;33m\u001b[0m\u001b[0m\n\u001b[0;32m    648\u001b[0m     \u001b[1;32mdef\u001b[0m \u001b[0mpredict\u001b[0m\u001b[1;33m(\u001b[0m\u001b[0mself\u001b[0m\u001b[1;33m,\u001b[0m \u001b[0mX\u001b[0m\u001b[1;33m,\u001b[0m \u001b[0mbatch_size\u001b[0m\u001b[1;33m=\u001b[0m\u001b[1;36m128\u001b[0m\u001b[1;33m,\u001b[0m \u001b[0mverbose\u001b[0m\u001b[1;33m=\u001b[0m\u001b[1;36m0\u001b[0m\u001b[1;33m)\u001b[0m\u001b[1;33m:\u001b[0m\u001b[1;33m\u001b[0m\u001b[0m\n",
      "\u001b[1;32m/users/mtaranov/local/anaconda2/lib/python2.7/site-packages/Keras-0.3.2-py2.7.egg/keras/models.pyc\u001b[0m in \u001b[0;36m_fit\u001b[1;34m(self, f, ins, out_labels, batch_size, nb_epoch, verbose, callbacks, val_f, val_ins, shuffle, metrics)\u001b[0m\n\u001b[0;32m    284\u001b[0m                     \u001b[0mbatch_logs\u001b[0m\u001b[1;33m[\u001b[0m\u001b[0ml\u001b[0m\u001b[1;33m]\u001b[0m \u001b[1;33m=\u001b[0m \u001b[0mo\u001b[0m\u001b[1;33m\u001b[0m\u001b[0m\n\u001b[0;32m    285\u001b[0m \u001b[1;33m\u001b[0m\u001b[0m\n\u001b[1;32m--> 286\u001b[1;33m                 \u001b[0mcallbacks\u001b[0m\u001b[1;33m.\u001b[0m\u001b[0mon_batch_end\u001b[0m\u001b[1;33m(\u001b[0m\u001b[0mbatch_index\u001b[0m\u001b[1;33m,\u001b[0m \u001b[0mbatch_logs\u001b[0m\u001b[1;33m)\u001b[0m\u001b[1;33m\u001b[0m\u001b[0m\n\u001b[0m\u001b[0;32m    287\u001b[0m \u001b[1;33m\u001b[0m\u001b[0m\n\u001b[0;32m    288\u001b[0m                 \u001b[0mepoch_logs\u001b[0m \u001b[1;33m=\u001b[0m \u001b[1;33m{\u001b[0m\u001b[1;33m}\u001b[0m\u001b[1;33m\u001b[0m\u001b[0m\n",
      "\u001b[1;32m/users/mtaranov/local/anaconda2/lib/python2.7/site-packages/Keras-0.3.2-py2.7.egg/keras/callbacks.pyc\u001b[0m in \u001b[0;36mon_batch_end\u001b[1;34m(self, batch, logs)\u001b[0m\n\u001b[0;32m     58\u001b[0m         \u001b[0mt_before_callbacks\u001b[0m \u001b[1;33m=\u001b[0m \u001b[0mtime\u001b[0m\u001b[1;33m.\u001b[0m\u001b[0mtime\u001b[0m\u001b[1;33m(\u001b[0m\u001b[1;33m)\u001b[0m\u001b[1;33m\u001b[0m\u001b[0m\n\u001b[0;32m     59\u001b[0m         \u001b[1;32mfor\u001b[0m \u001b[0mcallback\u001b[0m \u001b[1;32min\u001b[0m \u001b[0mself\u001b[0m\u001b[1;33m.\u001b[0m\u001b[0mcallbacks\u001b[0m\u001b[1;33m:\u001b[0m\u001b[1;33m\u001b[0m\u001b[0m\n\u001b[1;32m---> 60\u001b[1;33m             \u001b[0mcallback\u001b[0m\u001b[1;33m.\u001b[0m\u001b[0mon_batch_end\u001b[0m\u001b[1;33m(\u001b[0m\u001b[0mbatch\u001b[0m\u001b[1;33m,\u001b[0m \u001b[0mlogs\u001b[0m\u001b[1;33m)\u001b[0m\u001b[1;33m\u001b[0m\u001b[0m\n\u001b[0m\u001b[0;32m     61\u001b[0m         \u001b[0mself\u001b[0m\u001b[1;33m.\u001b[0m\u001b[0m_delta_ts_batch_end\u001b[0m\u001b[1;33m.\u001b[0m\u001b[0mappend\u001b[0m\u001b[1;33m(\u001b[0m\u001b[0mtime\u001b[0m\u001b[1;33m.\u001b[0m\u001b[0mtime\u001b[0m\u001b[1;33m(\u001b[0m\u001b[1;33m)\u001b[0m \u001b[1;33m-\u001b[0m \u001b[0mt_before_callbacks\u001b[0m\u001b[1;33m)\u001b[0m\u001b[1;33m\u001b[0m\u001b[0m\n\u001b[0;32m     62\u001b[0m         \u001b[0mdelta_t_median\u001b[0m \u001b[1;33m=\u001b[0m \u001b[0mnp\u001b[0m\u001b[1;33m.\u001b[0m\u001b[0mmedian\u001b[0m\u001b[1;33m(\u001b[0m\u001b[0mself\u001b[0m\u001b[1;33m.\u001b[0m\u001b[0m_delta_ts_batch_end\u001b[0m\u001b[1;33m)\u001b[0m\u001b[1;33m\u001b[0m\u001b[0m\n",
      "\u001b[1;32m/users/mtaranov/local/anaconda2/lib/python2.7/site-packages/Keras-0.3.2-py2.7.egg/keras/callbacks.pyc\u001b[0m in \u001b[0;36mon_batch_end\u001b[1;34m(self, batch, logs)\u001b[0m\n\u001b[0;32m    168\u001b[0m         \u001b[1;31m# will be handled by on_epoch_end\u001b[0m\u001b[1;33m\u001b[0m\u001b[1;33m\u001b[0m\u001b[0m\n\u001b[0;32m    169\u001b[0m         \u001b[1;32mif\u001b[0m \u001b[0mself\u001b[0m\u001b[1;33m.\u001b[0m\u001b[0mverbose\u001b[0m \u001b[1;32mand\u001b[0m \u001b[0mself\u001b[0m\u001b[1;33m.\u001b[0m\u001b[0mseen\u001b[0m \u001b[1;33m<\u001b[0m \u001b[0mself\u001b[0m\u001b[1;33m.\u001b[0m\u001b[0mparams\u001b[0m\u001b[1;33m[\u001b[0m\u001b[1;34m'nb_sample'\u001b[0m\u001b[1;33m]\u001b[0m\u001b[1;33m:\u001b[0m\u001b[1;33m\u001b[0m\u001b[0m\n\u001b[1;32m--> 170\u001b[1;33m             \u001b[0mself\u001b[0m\u001b[1;33m.\u001b[0m\u001b[0mprogbar\u001b[0m\u001b[1;33m.\u001b[0m\u001b[0mupdate\u001b[0m\u001b[1;33m(\u001b[0m\u001b[0mself\u001b[0m\u001b[1;33m.\u001b[0m\u001b[0mseen\u001b[0m\u001b[1;33m,\u001b[0m \u001b[0mself\u001b[0m\u001b[1;33m.\u001b[0m\u001b[0mlog_values\u001b[0m\u001b[1;33m)\u001b[0m\u001b[1;33m\u001b[0m\u001b[0m\n\u001b[0m\u001b[0;32m    171\u001b[0m \u001b[1;33m\u001b[0m\u001b[0m\n\u001b[0;32m    172\u001b[0m     \u001b[1;32mdef\u001b[0m \u001b[0mon_epoch_end\u001b[0m\u001b[1;33m(\u001b[0m\u001b[0mself\u001b[0m\u001b[1;33m,\u001b[0m \u001b[0mepoch\u001b[0m\u001b[1;33m,\u001b[0m \u001b[0mlogs\u001b[0m\u001b[1;33m=\u001b[0m\u001b[1;33m{\u001b[0m\u001b[1;33m}\u001b[0m\u001b[1;33m)\u001b[0m\u001b[1;33m:\u001b[0m\u001b[1;33m\u001b[0m\u001b[0m\n",
      "\u001b[1;32m/users/mtaranov/local/anaconda2/lib/python2.7/site-packages/Keras-0.3.2-py2.7.egg/keras/utils/generic_utils.pyc\u001b[0m in \u001b[0;36mupdate\u001b[1;34m(self, current, values)\u001b[0m\n\u001b[0;32m     59\u001b[0m             \u001b[0mprev_total_width\u001b[0m \u001b[1;33m=\u001b[0m \u001b[0mself\u001b[0m\u001b[1;33m.\u001b[0m\u001b[0mtotal_width\u001b[0m\u001b[1;33m\u001b[0m\u001b[0m\n\u001b[0;32m     60\u001b[0m             \u001b[0msys\u001b[0m\u001b[1;33m.\u001b[0m\u001b[0mstdout\u001b[0m\u001b[1;33m.\u001b[0m\u001b[0mwrite\u001b[0m\u001b[1;33m(\u001b[0m\u001b[1;34m\"\\b\"\u001b[0m \u001b[1;33m*\u001b[0m \u001b[0mprev_total_width\u001b[0m\u001b[1;33m)\u001b[0m\u001b[1;33m\u001b[0m\u001b[0m\n\u001b[1;32m---> 61\u001b[1;33m             \u001b[0msys\u001b[0m\u001b[1;33m.\u001b[0m\u001b[0mstdout\u001b[0m\u001b[1;33m.\u001b[0m\u001b[0mwrite\u001b[0m\u001b[1;33m(\u001b[0m\u001b[1;34m\"\\r\"\u001b[0m\u001b[1;33m)\u001b[0m\u001b[1;33m\u001b[0m\u001b[0m\n\u001b[0m\u001b[0;32m     62\u001b[0m \u001b[1;33m\u001b[0m\u001b[0m\n\u001b[0;32m     63\u001b[0m             \u001b[0mnumdigits\u001b[0m \u001b[1;33m=\u001b[0m \u001b[0mint\u001b[0m\u001b[1;33m(\u001b[0m\u001b[0mnp\u001b[0m\u001b[1;33m.\u001b[0m\u001b[0mfloor\u001b[0m\u001b[1;33m(\u001b[0m\u001b[0mnp\u001b[0m\u001b[1;33m.\u001b[0m\u001b[0mlog10\u001b[0m\u001b[1;33m(\u001b[0m\u001b[0mself\u001b[0m\u001b[1;33m.\u001b[0m\u001b[0mtarget\u001b[0m\u001b[1;33m)\u001b[0m\u001b[1;33m)\u001b[0m\u001b[1;33m)\u001b[0m \u001b[1;33m+\u001b[0m \u001b[1;36m1\u001b[0m\u001b[1;33m\u001b[0m\u001b[0m\n",
      "\u001b[1;32m/users/mtaranov/local/anaconda2/lib/python2.7/site-packages/ipykernel/iostream.pyc\u001b[0m in \u001b[0;36mwrite\u001b[1;34m(self, string)\u001b[0m\n\u001b[0;32m    315\u001b[0m \u001b[1;33m\u001b[0m\u001b[0m\n\u001b[0;32m    316\u001b[0m             \u001b[0mis_child\u001b[0m \u001b[1;33m=\u001b[0m \u001b[1;33m(\u001b[0m\u001b[1;32mnot\u001b[0m \u001b[0mself\u001b[0m\u001b[1;33m.\u001b[0m\u001b[0m_is_master_process\u001b[0m\u001b[1;33m(\u001b[0m\u001b[1;33m)\u001b[0m\u001b[1;33m)\u001b[0m\u001b[1;33m\u001b[0m\u001b[0m\n\u001b[1;32m--> 317\u001b[1;33m             \u001b[0mself\u001b[0m\u001b[1;33m.\u001b[0m\u001b[0m_buffer\u001b[0m\u001b[1;33m.\u001b[0m\u001b[0mwrite\u001b[0m\u001b[1;33m(\u001b[0m\u001b[0mstring\u001b[0m\u001b[1;33m)\u001b[0m\u001b[1;33m\u001b[0m\u001b[0m\n\u001b[0m\u001b[0;32m    318\u001b[0m             \u001b[1;32mif\u001b[0m \u001b[0mis_child\u001b[0m\u001b[1;33m:\u001b[0m\u001b[1;33m\u001b[0m\u001b[0m\n\u001b[0;32m    319\u001b[0m                 \u001b[1;31m# newlines imply flush in subprocesses\u001b[0m\u001b[1;33m\u001b[0m\u001b[1;33m\u001b[0m\u001b[0m\n",
      "\u001b[1;31mValueError\u001b[0m: I/O operation on closed file"
     ]
    }
   ],
   "source": [
    "#validation_data = (X_valid_normalized_subsampled[:, :, :11, :], y_valid_subsampled)\n",
    "#dnn_normalized.train(X_train_normalized_subsampled[:, :, :11, :], y_train_subsampled, validation_data)\n",
    "validation_data = (X_valid_normalized[:, :, 10:, :], y_valid)\n",
    "dnn_normalized.train(X_train_normalized[:, :, 10:, :], y_train, validation_data)"
   ]
  },
  {
   "cell_type": "code",
   "execution_count": null,
   "metadata": {
    "collapsed": false
   },
   "outputs": [],
   "source": [
    "print(dnn_normalized.test(X_test_normalized[:, :,  10:, :], y_test))"
   ]
  },
  {
   "cell_type": "markdown",
   "metadata": {},
   "source": [
    "# Print prediction"
   ]
  },
  {
   "cell_type": "code",
   "execution_count": 65,
   "metadata": {
    "collapsed": false
   },
   "outputs": [],
   "source": [
    "indx_train = np.load('/users/mtaranov/NN_thres5max/dist_matched/indx_train_thres_0.npy')\n",
    "indx_valid = np.load('/users/mtaranov/NN_thres5max/dist_matched/indx_valid_thres_0.npy')\n",
    "indx_test = np.load ('/users/mtaranov/NN_thres5max/dist_matched/indx_test_thres_0.npy')"
   ]
  },
  {
   "cell_type": "code",
   "execution_count": 66,
   "metadata": {
    "collapsed": false
   },
   "outputs": [],
   "source": [
    "labels_all=(np.concatenate((y_train, y_valid, y_test), axis=0)).astype(int)\n",
    "preds_all=(np.concatenate((pred_probs_train, pred_probs_valid, pred_probs_test), axis=0))\n",
    "indx_all=np.concatenate((indx_train, indx_valid, indx_test), axis=0)\n",
    "\n",
    "labels_chr1 = labels_all[np.ravel(np.where(indx_all[:,2]==1))]\n",
    "preds_chr1 = preds_all[np.ravel(np.where(indx_all[:,2]==1))]\n",
    "indx_chr1 = indx_all[np.ravel(np.where(indx_all[:,2]==1))]"
   ]
  },
  {
   "cell_type": "code",
   "execution_count": 67,
   "metadata": {
    "collapsed": false
   },
   "outputs": [
    {
     "name": "stdout",
     "output_type": "stream",
     "text": [
      "Some tests on adjacency matrix:\n",
      "Some tests on adjacency matrix:\n"
     ]
    }
   ],
   "source": [
    "NumberOfNodes=2272\n",
    "preds_chr1_2d, labels_chr1_2d = get_2D(indx_chr1, preds_chr1, labels_chr1, NumberOfNodes)\n",
    "# preds_test_2d, labels_test_2d = get_2D(indx_test, preds_test, labels_test, NumberOfNodes)"
   ]
  },
  {
   "cell_type": "code",
   "execution_count": 68,
   "metadata": {
    "collapsed": false
   },
   "outputs": [],
   "source": [
    "# printMatrix(preds_chr1_2d, '', 1, 1, title='preds')\n",
    "# printMatrix(labels_chr1_2d, '', 1, 1, title='Captures')"
   ]
  },
  {
   "cell_type": "code",
   "execution_count": 83,
   "metadata": {
    "collapsed": false
   },
   "outputs": [
    {
     "name": "stdout",
     "output_type": "stream",
     "text": [
      "1.0\n",
      "(60, 60)\n",
      "Limit: 1.0\n"
     ]
    },
    {
     "data": {
      "image/png": "[encoded data removed]",
      "text/plain": [
       "<matplotlib.figure.Figure at 0x7f3436b6ebd0>"
      ]
     },
     "metadata": {},
     "output_type": "display_data"
    },
    {
     "name": "stdout",
     "output_type": "stream",
     "text": [
      "0.862488806248\n",
      "(60, 60)\n",
      "Limit: 0.862488806248\n"
     ]
    },
    {
     "data": {
      "image/png": "[encoded data removed]",
      "text/plain": [
       "<matplotlib.figure.Figure at 0x7f3441142990>"
      ]
     },
     "metadata": {},
     "output_type": "display_data"
    }
   ],
   "source": [
    "zoomIn_window = (400,460)\n",
    "NumberOfNodes=2272\n",
    "plot_prediction(change_scale(preds_chr1_2d)+change_scale(preds_chr1_2d).T, change_scale(labels_chr1_2d)+change_scale(labels_chr1_2d).T, zoomIn_window, )"
   ]
  },
  {
   "cell_type": "code",
   "execution_count": 81,
   "metadata": {
    "collapsed": false
   },
   "outputs": [
    {
     "name": "stdout",
     "output_type": "stream",
     "text": [
      "1.0\n",
      "(400, 400)\n",
      "Limit: 1.0\n"
     ]
    },
    {
     "data": {
      "image/png": "[encoded data removed]",
      "text/plain": [
       "<matplotlib.figure.Figure at 0x7f34291a4e10>"
      ]
     },
     "metadata": {},
     "output_type": "display_data"
    },
    {
     "name": "stdout",
     "output_type": "stream",
     "text": [
      "0.875868916512\n",
      "(400, 400)\n",
      "Limit: 0.875868916512\n"
     ]
    },
    {
     "data": {
      "image/png": "[encoded data removed]",
      "text/plain": [
       "<matplotlib.figure.Figure at 0x7f3428a81dd0>"
      ]
     },
     "metadata": {},
     "output_type": "display_data"
    }
   ],
   "source": [
    "zoomIn_window = (200,600)\n",
    "NumberOfNodes=2272\n",
    "plot_prediction(change_scale(preds_chr1_2d)+change_scale(preds_chr1_2d).T, change_scale(labels_chr1_2d)+change_scale(labels_chr1_2d).T, zoomIn_window, )"
   ]
  },
  {
   "cell_type": "code",
   "execution_count": 76,
   "metadata": {
    "collapsed": false
   },
   "outputs": [
    {
     "name": "stdout",
     "output_type": "stream",
     "text": [
      "1.0\n",
      "(2272, 2272)\n",
      "Limit: 1.0\n"
     ]
    },
    {
     "data": {
      "image/png": "[encoded data removed]",
      "text/plain": [
       "<matplotlib.figure.Figure at 0x7f34295f7d90>"
      ]
     },
     "metadata": {},
     "output_type": "display_data"
    },
    {
     "name": "stdout",
     "output_type": "stream",
     "text": [
      "0.997297823429\n",
      "(2272, 2272)\n",
      "Limit: 0.997297823429\n"
     ]
    },
    {
     "data": {
      "image/png": "[encoded data removed]",
      "text/plain": [
       "<matplotlib.figure.Figure at 0x7f342a925310>"
      ]
     },
     "metadata": {},
     "output_type": "display_data"
    }
   ],
   "source": [
    "zoomIn_window = (0,2272)\n",
    "NumberOfNodes=2272\n",
    "plot_prediction(change_scale(preds_chr1_2d)+change_scale(preds_chr1_2d).T, change_scale(labels_chr1_2d)+change_scale(labels_chr1_2d).T, zoomIn_window, )"
   ]
  },
  {
   "cell_type": "code",
   "execution_count": null,
   "metadata": {
    "collapsed": true
   },
   "outputs": [],
   "source": []
  }
 ],
 "metadata": {
  "kernelspec": {
   "display_name": "Python [default]",
   "language": "python",
   "name": "python2"
  },
  "language_info": {
   "codemirror_mode": {
    "name": "ipython",
    "version": 2
   },
   "file_extension": ".py",
   "mimetype": "text/x-python",
   "name": "python",
   "nbconvert_exporter": "python",
   "pygments_lexer": "ipython2",
   "version": "2.7.12"
  }
 },
 "nbformat": 4,
 "nbformat_minor": 0
}
