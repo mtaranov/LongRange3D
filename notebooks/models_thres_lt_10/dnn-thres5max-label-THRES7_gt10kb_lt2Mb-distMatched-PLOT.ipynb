{
 "cells": [
  {
   "cell_type": "code",
   "execution_count": 89,
   "metadata": {
    "collapsed": false
   },
   "outputs": [
    {
     "name": "stdout",
     "output_type": "stream",
     "text": [
      "The autoreload extension is already loaded. To reload it, use:\n",
      "  %reload_ext autoreload\n"
     ]
    }
   ],
   "source": [
    "%matplotlib inline\n",
    "%load_ext autoreload\n",
    "%autoreload 2\n",
    "\n",
    "import numpy as np\n",
    "import matplotlib.pyplot as plt\n",
    "from sklearn.preprocessing import MinMaxScaler, StandardScaler\n",
    "import copy\n",
    "from models import LongRangeDNN\n",
    "from utils import get_features, get_labels, subsample_data, normalize_features, reconstruct_2d, printMatrix, binarize, zscore, get_2D, plot_prediction, change_scale \n",
    "#from sklearn.preprocessing import MinMaxScaler, StandardScaler\n",
    "#from dragonn.models import Model, SequenceDNN\n",
    "#from keras.models import Sequential\n",
    "#from keras.callbacks import Callback, EarlyStopping\n",
    "#from keras.layers.core import (\n",
    "#    Activation, Dense, Dropout, Flatten,\n",
    "#    Permute, Reshape, TimeDistributedDense\n",
    "#)\n",
    "#from keras.layers.convolutional import Convolution2D, MaxPooling2D\n",
    "#from keras.layers.recurrent import GRU\n",
    "#from keras.regularizers import l1\n",
    "\n",
    "#from deeplift import keras_conversion as kc\n",
    "#from deeplift.blobs import MxtsMode"
   ]
  },
  {
   "cell_type": "code",
   "execution_count": 90,
   "metadata": {
    "collapsed": false
   },
   "outputs": [
    {
     "data": {
      "text/plain": [
       "\"\\nX_train = get_features(data_path+'train_set_upperTriangle_noDiag_reads.npy')\\ny_train = get_labels(data_path+'labels_train_upperTriangle_noDiag.npy')\\nX_valid = get_features(data_path+'vali_set_upperTriangle_noDiag_reads.npy')\\ny_valid = get_labels(data_path+'labels_vali_upperTriangle_noDiag.npy')\\nX_test = get_features(data_path+'test_set_upperTriangle_noDiag_reads.npy')\\ny_test = get_labels(data_path+'labels_test_upperTriangle_noDiag.npy')\\n\\nX_train = get_features('NN_datasets/train_set_all_reads.npy')\\ny_train = get_labels('NN_datasets/labels_train_all.npy')\\nX_valid = get_features('NN_datasets/vali_set_all_reads.npy')\\ny_valid = get_labels('NN_datasets/labels_vali_all.npy')\\nX_test = get_features('NN_datasets/test_set_all_reads.npy')\\ny_test = get_labels('NN_datasets/labels_test_all.npy')\\n\\nX_train_subsampled, y_train_subsampled = subsample_data(X_train, y_train)\\nX_valid_subsampled, y_valid_subsampled = subsample_data(X_valid, y_valid)\\nX_test_subsampled, y_test_subsampled = subsample_data(X_test, y_test)\\n\""
      ]
     },
     "execution_count": 90,
     "metadata": {},
     "output_type": "execute_result"
    }
   ],
   "source": [
    "data_path='/users/mtaranov/NN_all_data/'\n",
    "\n",
    "X_train = get_features('/users/mtaranov/NN_thres5max/dist_matched/X_train_thres_7.npy')\n",
    "y_train = get_labels('/users/mtaranov/NN_thres5max/dist_matched/y_train_thres_7.npy')\n",
    "X_valid = get_features('/users/mtaranov/NN_thres5max/dist_matched/X_valid_thres_7.npy')\n",
    "y_valid = get_labels('/users/mtaranov/NN_thres5max/dist_matched/y_valid_thres_7.npy')\n",
    "X_test = get_features('/users/mtaranov/NN_thres5max/dist_matched/X_test_thres_7.npy')\n",
    "y_test = get_labels('/users/mtaranov/NN_thres5max/dist_matched/y_test_thres_7.npy')\n",
    "\n",
    "\"\"\"\n",
    "X_train = get_features(data_path+'train_set_upperTriangle_noDiag_reads.npy')\n",
    "y_train = get_labels(data_path+'labels_train_upperTriangle_noDiag.npy')\n",
    "X_valid = get_features(data_path+'vali_set_upperTriangle_noDiag_reads.npy')\n",
    "y_valid = get_labels(data_path+'labels_vali_upperTriangle_noDiag.npy')\n",
    "X_test = get_features(data_path+'test_set_upperTriangle_noDiag_reads.npy')\n",
    "y_test = get_labels(data_path+'labels_test_upperTriangle_noDiag.npy')\n",
    "\n",
    "X_train = get_features('NN_datasets/train_set_all_reads.npy')\n",
    "y_train = get_labels('NN_datasets/labels_train_all.npy')\n",
    "X_valid = get_features('NN_datasets/vali_set_all_reads.npy')\n",
    "y_valid = get_labels('NN_datasets/labels_vali_all.npy')\n",
    "X_test = get_features('NN_datasets/test_set_all_reads.npy')\n",
    "y_test = get_labels('NN_datasets/labels_test_all.npy')\n",
    "\n",
    "X_train_subsampled, y_train_subsampled = subsample_data(X_train, y_train)\n",
    "X_valid_subsampled, y_valid_subsampled = subsample_data(X_valid, y_valid)\n",
    "X_test_subsampled, y_test_subsampled = subsample_data(X_test, y_test)\n",
    "\"\"\""
   ]
  },
  {
   "cell_type": "code",
   "execution_count": 91,
   "metadata": {
    "collapsed": false
   },
   "outputs": [],
   "source": [
    "X_train_normalized, X_valid_normalized, X_test_normalized = normalize_features(X_train, X_valid, X_test)\n",
    "\n",
    "#X_train_normalized_subsampled, y_train_subsampled = subsample_data(X_train_normalized, y_train)\n",
    "#X_valid_normalized_subsampled, y_valid_subsampled = subsample_data(X_valid_normalized, y_valid)\n",
    "#X_test_normalized_subsampled, y_test_subsampled = subsample_data(X_test_normalized, y_test)\n",
    "\n",
    "#X_train_scaled_subsampled, y_train_subsampled = subsample_data(X_train_scaled, y_train)\n",
    "#X_valid_scaled_subsampled, y_valid_subsampled = subsample_data(X_valid_scaled, y_valid)\n",
    "#X_test_scaled_subsampled, y_test_subsampled = subsample_data(X_test_scaled, y_test)\n"
   ]
  },
  {
   "cell_type": "markdown",
   "metadata": {},
   "source": [
    "# without distance"
   ]
  },
  {
   "cell_type": "code",
   "execution_count": 92,
   "metadata": {
    "collapsed": true
   },
   "outputs": [],
   "source": [
    "dnn_normalized = LongRangeDNN(num_features=10, use_deep_CNN=True)"
   ]
  },
  {
   "cell_type": "code",
   "execution_count": 94,
   "metadata": {
    "collapsed": false
   },
   "outputs": [
    {
     "name": "stdout",
     "output_type": "stream",
     "text": [
      "Training model...\n",
      "Train on 2326 samples, validate on 1460 samples\n",
      "Epoch 1/100\n",
      "2326/2326 [==============================] - 0s - loss: 1.3337 - val_loss: 0.6684\n",
      "Epoch 0: validation loss: 0.668\n",
      "Balanced Accuracy: 61.58%\t auROC: 0.653\t auPRC: 0.624\t auPRG: 0.314\n",
      "Recall at 5%|10%|20% FDR: 0.0%|0.0%|0.0%\t Num Positives: 730\t Num Negatives: 730\t \n",
      "\n",
      "Epoch 2/100\n",
      "2326/2326 [==============================] - 0s - loss: 1.3063 - val_loss: 0.6541\n",
      "Epoch 1: validation loss: 0.654\n",
      "Balanced Accuracy: 64.25%\t auROC: 0.673\t auPRC: 0.651\t auPRG: 0.351\n",
      "Recall at 5%|10%|20% FDR: 0.0%|0.0%|0.0%\t Num Positives: 730\t Num Negatives: 730\t \n",
      "\n",
      "Epoch 3/100\n",
      "2326/2326 [==============================] - 0s - loss: 1.2714 - val_loss: 0.6367\n",
      "Epoch 2: validation loss: 0.637\n",
      "Balanced Accuracy: 64.38%\t auROC: 0.694\t auPRC: 0.680\t auPRG: 0.380\n",
      "Recall at 5%|10%|20% FDR: 0.0%|0.0%|13.6%\t Num Positives: 730\t Num Negatives: 730\t \n",
      "\n",
      "Epoch 4/100\n",
      "2326/2326 [==============================] - 0s - loss: 1.2421 - val_loss: 0.6232\n",
      "Epoch 3: validation loss: 0.623\n",
      "Balanced Accuracy: 64.73%\t auROC: 0.711\t auPRC: 0.705\t auPRG: 0.413\n",
      "Recall at 5%|10%|20% FDR: 0.8%|0.8%|28.2%\t Num Positives: 730\t Num Negatives: 730\t \n",
      "\n",
      "Epoch 5/100\n",
      "2326/2326 [==============================] - 0s - loss: 1.2152 - val_loss: 0.6150\n",
      "Epoch 4: validation loss: 0.615\n",
      "Balanced Accuracy: 65.82%\t auROC: 0.723\t auPRC: 0.722\t auPRG: 0.446\n",
      "Recall at 5%|10%|20% FDR: 0.4%|2.7%|31.2%\t Num Positives: 730\t Num Negatives: 730\t \n",
      "\n",
      "Epoch 6/100\n",
      "2326/2326 [==============================] - 0s - loss: 1.1927 - val_loss: 0.6093\n",
      "Epoch 5: validation loss: 0.609\n",
      "Balanced Accuracy: 65.75%\t auROC: 0.726\t auPRC: 0.727\t auPRG: 0.452\n",
      "Recall at 5%|10%|20% FDR: 0.5%|2.9%|34.0%\t Num Positives: 730\t Num Negatives: 730\t \n",
      "\n",
      "Epoch 7/100\n",
      "2326/2326 [==============================] - 0s - loss: 1.1768 - val_loss: 0.6068\n",
      "Epoch 6: validation loss: 0.607\n",
      "Balanced Accuracy: 66.71%\t auROC: 0.731\t auPRC: 0.733\t auPRG: 0.463\n",
      "Recall at 5%|10%|20% FDR: 1.1%|2.9%|38.9%\t Num Positives: 730\t Num Negatives: 730\t \n",
      "\n",
      "Epoch 8/100\n",
      "2326/2326 [==============================] - 0s - loss: 1.1611 - val_loss: 0.6006\n",
      "Epoch 7: validation loss: 0.601\n",
      "Balanced Accuracy: 66.51%\t auROC: 0.738\t auPRC: 0.740\t auPRG: 0.475\n",
      "Recall at 5%|10%|20% FDR: 1.1%|2.5%|40.5%\t Num Positives: 730\t Num Negatives: 730\t \n",
      "\n",
      "Epoch 9/100\n",
      "2326/2326 [==============================] - 0s - loss: 1.1469 - val_loss: 0.5979\n",
      "Epoch 8: validation loss: 0.598\n",
      "Balanced Accuracy: 67.26%\t auROC: 0.741\t auPRC: 0.743\t auPRG: 0.484\n",
      "Recall at 5%|10%|20% FDR: 0.4%|2.6%|40.8%\t Num Positives: 730\t Num Negatives: 730\t \n",
      "\n",
      "Epoch 10/100\n",
      "2326/2326 [==============================] - 0s - loss: 1.1348 - val_loss: 0.5955\n",
      "Epoch 9: validation loss: 0.596\n",
      "Balanced Accuracy: 67.67%\t auROC: 0.743\t auPRC: 0.748\t auPRG: 0.488\n",
      "Recall at 5%|10%|20% FDR: 1.1%|7.9%|41.0%\t Num Positives: 730\t Num Negatives: 730\t \n",
      "\n",
      "Epoch 11/100\n",
      "2326/2326 [==============================] - 0s - loss: 1.1250 - val_loss: 0.5940\n",
      "Epoch 10: validation loss: 0.594\n",
      "Balanced Accuracy: 67.74%\t auROC: 0.746\t auPRC: 0.751\t auPRG: 0.494\n",
      "Recall at 5%|10%|20% FDR: 1.4%|9.0%|41.8%\t Num Positives: 730\t Num Negatives: 730\t \n",
      "\n",
      "Epoch 12/100\n",
      "2326/2326 [==============================] - 0s - loss: 1.1199 - val_loss: 0.5953\n",
      "Epoch 11: validation loss: 0.595\n",
      "Balanced Accuracy: 67.26%\t auROC: 0.749\t auPRC: 0.753\t auPRG: 0.499\n",
      "Recall at 5%|10%|20% FDR: 0.5%|11.5%|40.8%\t Num Positives: 730\t Num Negatives: 730\t \n",
      "\n",
      "Epoch 13/100\n",
      "2326/2326 [==============================] - 0s - loss: 1.1081 - val_loss: 0.5934\n",
      "Epoch 12: validation loss: 0.593\n",
      "Balanced Accuracy: 68.15%\t auROC: 0.746\t auPRC: 0.751\t auPRG: 0.496\n",
      "Recall at 5%|10%|20% FDR: 1.2%|10.1%|40.8%\t Num Positives: 730\t Num Negatives: 730\t \n",
      "\n",
      "Epoch 14/100\n",
      "2326/2326 [==============================] - 0s - loss: 1.1013 - val_loss: 0.5935\n",
      "Epoch 13: validation loss: 0.593\n",
      "Balanced Accuracy: 69.11%\t auROC: 0.748\t auPRC: 0.754\t auPRG: 0.498\n",
      "Recall at 5%|10%|20% FDR: 1.5%|5.2%|41.9%\t Num Positives: 730\t Num Negatives: 730\t \n",
      "\n",
      "Epoch 15/100\n",
      "2326/2326 [==============================] - 0s - loss: 1.0973 - val_loss: 0.5943\n",
      "Epoch 14: validation loss: 0.594\n",
      "Balanced Accuracy: 67.33%\t auROC: 0.749\t auPRC: 0.755\t auPRG: 0.502\n",
      "Recall at 5%|10%|20% FDR: 0.8%|2.2%|40.8%\t Num Positives: 730\t Num Negatives: 730\t \n",
      "\n",
      "Epoch 16/100\n",
      "2326/2326 [==============================] - 0s - loss: 1.0823 - val_loss: 0.5912\n",
      "Epoch 15: validation loss: 0.591\n",
      "Balanced Accuracy: 67.67%\t auROC: 0.748\t auPRC: 0.753\t auPRG: 0.497\n",
      "Recall at 5%|10%|20% FDR: 0.3%|11.2%|40.7%\t Num Positives: 730\t Num Negatives: 730\t \n",
      "\n",
      "Epoch 17/100\n",
      "2326/2326 [==============================] - 0s - loss: 1.0770 - val_loss: 0.5891\n",
      "Epoch 16: validation loss: 0.589\n",
      "Balanced Accuracy: 68.36%\t auROC: 0.752\t auPRC: 0.758\t auPRG: 0.505\n",
      "Recall at 5%|10%|20% FDR: 1.0%|12.2%|43.6%\t Num Positives: 730\t Num Negatives: 730\t \n",
      "\n",
      "Epoch 18/100\n",
      "2326/2326 [==============================] - 0s - loss: 1.0718 - val_loss: 0.5930\n",
      "Epoch 17: validation loss: 0.593\n",
      "Balanced Accuracy: 67.74%\t auROC: 0.749\t auPRC: 0.754\t auPRG: 0.500\n",
      "Recall at 5%|10%|20% FDR: 0.3%|10.4%|41.8%\t Num Positives: 730\t Num Negatives: 730\t \n",
      "\n",
      "Epoch 19/100\n",
      "2326/2326 [==============================] - 0s - loss: 1.0597 - val_loss: 0.5898\n",
      "Epoch 18: validation loss: 0.590\n",
      "Balanced Accuracy: 68.01%\t auROC: 0.752\t auPRC: 0.759\t auPRG: 0.504\n",
      "Recall at 5%|10%|20% FDR: 0.8%|13.7%|43.2%\t Num Positives: 730\t Num Negatives: 730\t \n",
      "\n",
      "Epoch 20/100\n",
      "2326/2326 [==============================] - 0s - loss: 1.0580 - val_loss: 0.5926\n",
      "Epoch 19: validation loss: 0.593\n",
      "Balanced Accuracy: 67.60%\t auROC: 0.749\t auPRC: 0.753\t auPRG: 0.497\n",
      "Recall at 5%|10%|20% FDR: 0.1%|11.1%|40.7%\t Num Positives: 730\t Num Negatives: 730\t \n",
      "\n",
      "Epoch 21/100\n",
      "2326/2326 [==============================] - 0s - loss: 1.0464 - val_loss: 0.5913\n",
      "Epoch 20: validation loss: 0.591\n",
      "Balanced Accuracy: 68.63%\t auROC: 0.752\t auPRC: 0.757\t auPRG: 0.503\n",
      "Recall at 5%|10%|20% FDR: 1.0%|12.2%|42.1%\t Num Positives: 730\t Num Negatives: 730\t \n",
      "\n",
      "Epoch 22/100\n",
      "2326/2326 [==============================] - 0s - loss: 1.0426 - val_loss: 0.5917\n",
      "Epoch 21: validation loss: 0.592\n",
      "Balanced Accuracy: 68.01%\t auROC: 0.750\t auPRC: 0.757\t auPRG: 0.497\n",
      "Recall at 5%|10%|20% FDR: 1.0%|18.1%|44.7%\t Num Positives: 730\t Num Negatives: 730\t \n",
      "\n",
      "Epoch 23/100\n",
      "2326/2326 [==============================] - 0s - loss: 1.0270 - val_loss: 0.5923\n",
      "Epoch 22: validation loss: 0.592\n",
      "Balanced Accuracy: 67.74%\t auROC: 0.752\t auPRC: 0.759\t auPRG: 0.501\n",
      "Recall at 5%|10%|20% FDR: 1.1%|18.9%|41.9%\t Num Positives: 730\t Num Negatives: 730\t \n",
      "\n",
      "Epoch 24/100\n",
      "2326/2326 [==============================] - 0s - loss: 1.0198 - val_loss: 0.6059\n",
      "Epoch 23: validation loss: 0.606\n",
      "Balanced Accuracy: 66.30%\t auROC: 0.751\t auPRC: 0.756\t auPRG: 0.503\n",
      "Recall at 5%|10%|20% FDR: 1.2%|19.0%|43.0%\t Num Positives: 730\t Num Negatives: 730\t \n",
      "\n",
      "Epoch 25/100\n",
      "2326/2326 [==============================] - 0s - loss: 1.0273 - val_loss: 0.5927\n",
      "Epoch 24: validation loss: 0.593\n",
      "Balanced Accuracy: 68.15%\t auROC: 0.752\t auPRC: 0.760\t auPRG: 0.501\n",
      "Recall at 5%|10%|20% FDR: 1.4%|19.7%|42.6%\t Num Positives: 730\t Num Negatives: 730\t \n",
      "\n",
      "Epoch 26/100\n",
      "2326/2326 [==============================] - 0s - loss: 1.0073 - val_loss: 0.5931\n",
      "Epoch 25: validation loss: 0.593\n",
      "Balanced Accuracy: 68.22%\t auROC: 0.752\t auPRC: 0.761\t auPRG: 0.503\n",
      "Recall at 5%|10%|20% FDR: 1.8%|18.9%|42.6%\t Num Positives: 730\t Num Negatives: 730\t \n",
      "\n",
      "Epoch 27/100\n",
      "2326/2326 [==============================] - 0s - loss: 0.9998 - val_loss: 0.5943\n",
      "Epoch 26: validation loss: 0.594\n",
      "Balanced Accuracy: 68.01%\t auROC: 0.752\t auPRC: 0.762\t auPRG: 0.502\n",
      "Recall at 5%|10%|20% FDR: 2.3%|19.2%|42.3%\t Num Positives: 730\t Num Negatives: 730\t \n",
      "\n",
      "Epoch 28/100\n",
      "2326/2326 [==============================] - 0s - loss: 0.9936 - val_loss: 0.5953\n",
      "Epoch 27: validation loss: 0.595\n",
      "Balanced Accuracy: 67.60%\t auROC: 0.751\t auPRC: 0.758\t auPRG: 0.499\n",
      "Recall at 5%|10%|20% FDR: 1.2%|17.5%|43.8%\t Num Positives: 730\t Num Negatives: 730\t \n",
      "\n"
     ]
    }
   ],
   "source": [
    "#validation_data = (X_valid_normalized_subsampled[:, :, :10, :], y_valid_subsampled)\n",
    "#dnn_normalized.train(X_train_normalized_subsampled[:, :, :10, :], y_train_subsampled, validation_data)\n",
    "validation_data = (X_valid_normalized[:, :, :10, :], y_valid)\n",
    "dnn_normalized.train(X_train_normalized[:, :, :10, :], y_train, validation_data)"
   ]
  },
  {
   "cell_type": "code",
   "execution_count": 95,
   "metadata": {
    "collapsed": false
   },
   "outputs": [
    {
     "name": "stdout",
     "output_type": "stream",
     "text": [
      "Balanced Accuracy: 66.19%\t auROC: 0.718\t auPRC: 0.722\t auPRG: 0.435\n",
      "Recall at 5%|10%|20% FDR: 5.5%|8.8%|26.4%\t Num Positives: 454\t Num Negatives: 454\t \n"
     ]
    }
   ],
   "source": [
    "print(dnn_normalized.test(X_test_normalized[:, :, :10, :], y_test))"
   ]
  },
  {
   "cell_type": "code",
   "execution_count": 96,
   "metadata": {
    "collapsed": false
   },
   "outputs": [
    {
     "name": "stdout",
     "output_type": "stream",
     "text": [
      "Balanced Accuracy: 76.27%\t auROC: 0.844\t auPRC: 0.854\t auPRG: 0.712\n",
      "Recall at 5%|10%|20% FDR: 33.8%|48.7%|68.8%\t Num Positives: 1163\t Num Negatives: 1163\t \n"
     ]
    }
   ],
   "source": [
    "print(dnn_normalized.test(X_train_normalized[:, :, :10:, :], y_train))"
   ]
  },
  {
   "cell_type": "code",
   "execution_count": 97,
   "metadata": {
    "collapsed": false
   },
   "outputs": [
    {
     "name": "stdout",
     "output_type": "stream",
     "text": [
      "Balanced Accuracy: 67.60%\t auROC: 0.751\t auPRC: 0.758\t auPRG: 0.499\n",
      "Recall at 5%|10%|20% FDR: 1.2%|17.5%|43.8%\t Num Positives: 730\t Num Negatives: 730\t \n"
     ]
    }
   ],
   "source": [
    "print(dnn_normalized.test(X_valid_normalized[:, :, :10, :], y_valid))"
   ]
  },
  {
   "cell_type": "code",
   "execution_count": 98,
   "metadata": {
    "collapsed": true
   },
   "outputs": [],
   "source": [
    "pred_probs_test = dnn_normalized.predict(X_test_normalized[:, :, :10, :])\n",
    "#np.save(\"model_predictions/test_set_upperTriangle_noDiag_reads_with_distances_full_valid.npy\", pred_probs_test)\n",
    "pred_probs_valid = dnn_normalized.predict(X_valid_normalized[:, :, :10, :])\n",
    "#np.save(\"model_predictions/valid_set_upperTriangle_noDiag_reads_with_distances_full_valid.npy\", pred_probs_valid)\n",
    "pred_probs_train = dnn_normalized.predict(X_train_normalized[:, :, :10, :])\n",
    "#np.save(\"model_predictions/train_set_upperTriangle_noDiag_reads_with_distances_full_valid.npy\", pred_probs_train)"
   ]
  },
  {
   "cell_type": "markdown",
   "metadata": {},
   "source": [
    "# with genomic locations"
   ]
  },
  {
   "cell_type": "code",
   "execution_count": 99,
   "metadata": {
    "collapsed": true
   },
   "outputs": [],
   "source": [
    "dnn_normalized = LongRangeDNN(num_features=11, use_deep_CNN=True)"
   ]
  },
  {
   "cell_type": "code",
   "execution_count": 100,
   "metadata": {
    "collapsed": false
   },
   "outputs": [
    {
     "name": "stdout",
     "output_type": "stream",
     "text": [
      "Training model...\n",
      "Train on 2326 samples, validate on 1460 samples\n",
      "Epoch 1/100\n",
      "2326/2326 [==============================] - 0s - loss: 1.3834 - val_loss: 0.6832\n",
      "Epoch 0: validation loss: 0.683\n",
      "Balanced Accuracy: 54.18%\t auROC: 0.617\t auPRC: 0.600\t auPRG: 0.237\n",
      "Recall at 5%|10%|20% FDR: 0.3%|0.3%|0.3%\t Num Positives: 730\t Num Negatives: 730\t \n",
      "\n",
      "Epoch 2/100\n",
      "2326/2326 [==============================] - 0s - loss: 1.3519 - val_loss: 0.6721\n",
      "Epoch 1: validation loss: 0.672\n",
      "Balanced Accuracy: 56.51%\t auROC: 0.666\t auPRC: 0.647\t auPRG: 0.343\n",
      "Recall at 5%|10%|20% FDR: 0.5%|1.4%|2.3%\t Num Positives: 730\t Num Negatives: 730\t \n",
      "\n",
      "Epoch 3/100\n",
      "2326/2326 [==============================] - 0s - loss: 1.3290 - val_loss: 0.6610\n",
      "Epoch 2: validation loss: 0.661\n",
      "Balanced Accuracy: 59.18%\t auROC: 0.691\t auPRC: 0.669\t auPRG: 0.393\n",
      "Recall at 5%|10%|20% FDR: 1.0%|1.5%|3.0%\t Num Positives: 730\t Num Negatives: 730\t \n",
      "\n",
      "Epoch 4/100\n",
      "2326/2326 [==============================] - 0s - loss: 1.3089 - val_loss: 0.6511\n",
      "Epoch 3: validation loss: 0.651\n",
      "Balanced Accuracy: 64.18%\t auROC: 0.703\t auPRC: 0.678\t auPRG: 0.413\n",
      "Recall at 5%|10%|20% FDR: 0.0%|2.9%|9.2%\t Num Positives: 730\t Num Negatives: 730\t \n",
      "\n",
      "Epoch 5/100\n",
      "2326/2326 [==============================] - 0s - loss: 1.2875 - val_loss: 0.6423\n",
      "Epoch 4: validation loss: 0.642\n",
      "Balanced Accuracy: 65.27%\t auROC: 0.710\t auPRC: 0.679\t auPRG: 0.436\n",
      "Recall at 5%|10%|20% FDR: 0.0%|2.6%|2.9%\t Num Positives: 730\t Num Negatives: 730\t \n",
      "\n",
      "Epoch 6/100\n",
      "2326/2326 [==============================] - 0s - loss: 1.2679 - val_loss: 0.6348\n",
      "Epoch 5: validation loss: 0.635\n",
      "Balanced Accuracy: 66.51%\t auROC: 0.712\t auPRC: 0.683\t auPRG: 0.445\n",
      "Recall at 5%|10%|20% FDR: 0.0%|3.2%|6.2%\t Num Positives: 730\t Num Negatives: 730\t \n",
      "\n",
      "Epoch 7/100\n",
      "2326/2326 [==============================] - 0s - loss: 1.2475 - val_loss: 0.6278\n",
      "Epoch 6: validation loss: 0.628\n",
      "Balanced Accuracy: 66.03%\t auROC: 0.716\t auPRC: 0.687\t auPRG: 0.452\n",
      "Recall at 5%|10%|20% FDR: 0.0%|3.6%|4.5%\t Num Positives: 730\t Num Negatives: 730\t \n",
      "\n",
      "Epoch 8/100\n",
      "2326/2326 [==============================] - 0s - loss: 1.2268 - val_loss: 0.6208\n",
      "Epoch 7: validation loss: 0.621\n",
      "Balanced Accuracy: 66.16%\t auROC: 0.720\t auPRC: 0.694\t auPRG: 0.457\n",
      "Recall at 5%|10%|20% FDR: 0.0%|3.4%|4.7%\t Num Positives: 730\t Num Negatives: 730\t \n",
      "\n",
      "Epoch 9/100\n",
      "2326/2326 [==============================] - 0s - loss: 1.2073 - val_loss: 0.6155\n",
      "Epoch 8: validation loss: 0.615\n",
      "Balanced Accuracy: 66.16%\t auROC: 0.725\t auPRC: 0.700\t auPRG: 0.464\n",
      "Recall at 5%|10%|20% FDR: 0.0%|3.3%|14.9%\t Num Positives: 730\t Num Negatives: 730\t \n",
      "\n",
      "Epoch 10/100\n",
      "2326/2326 [==============================] - 0s - loss: 1.1896 - val_loss: 0.6118\n",
      "Epoch 9: validation loss: 0.612\n",
      "Balanced Accuracy: 66.85%\t auROC: 0.728\t auPRC: 0.705\t auPRG: 0.470\n",
      "Recall at 5%|10%|20% FDR: 0.0%|0.0%|14.9%\t Num Positives: 730\t Num Negatives: 730\t \n",
      "\n",
      "Epoch 11/100\n",
      "2326/2326 [==============================] - 0s - loss: 1.1734 - val_loss: 0.6095\n",
      "Epoch 10: validation loss: 0.609\n",
      "Balanced Accuracy: 66.85%\t auROC: 0.732\t auPRC: 0.716\t auPRG: 0.476\n",
      "Recall at 5%|10%|20% FDR: 0.5%|0.5%|19.7%\t Num Positives: 730\t Num Negatives: 730\t \n",
      "\n",
      "Epoch 12/100\n",
      "2326/2326 [==============================] - 0s - loss: 1.1561 - val_loss: 0.6058\n",
      "Epoch 11: validation loss: 0.606\n",
      "Balanced Accuracy: 66.71%\t auROC: 0.737\t auPRC: 0.726\t auPRG: 0.483\n",
      "Recall at 5%|10%|20% FDR: 0.5%|7.1%|20.4%\t Num Positives: 730\t Num Negatives: 730\t \n",
      "\n",
      "Epoch 13/100\n",
      "2326/2326 [==============================] - 0s - loss: 1.1397 - val_loss: 0.6046\n",
      "Epoch 12: validation loss: 0.605\n",
      "Balanced Accuracy: 66.85%\t auROC: 0.742\t auPRC: 0.734\t auPRG: 0.495\n",
      "Recall at 5%|10%|20% FDR: 0.5%|4.5%|30.4%\t Num Positives: 730\t Num Negatives: 730\t \n",
      "\n",
      "Epoch 14/100\n",
      "2326/2326 [==============================] - 0s - loss: 1.1221 - val_loss: 0.6000\n",
      "Epoch 13: validation loss: 0.600\n",
      "Balanced Accuracy: 67.26%\t auROC: 0.745\t auPRC: 0.740\t auPRG: 0.503\n",
      "Recall at 5%|10%|20% FDR: 0.7%|4.5%|39.9%\t Num Positives: 730\t Num Negatives: 730\t \n",
      "\n",
      "Epoch 15/100\n",
      "2326/2326 [==============================] - 0s - loss: 1.1040 - val_loss: 0.5979\n",
      "Epoch 14: validation loss: 0.598\n",
      "Balanced Accuracy: 67.60%\t auROC: 0.749\t auPRC: 0.745\t auPRG: 0.507\n",
      "Recall at 5%|10%|20% FDR: 0.5%|4.2%|41.2%\t Num Positives: 730\t Num Negatives: 730\t \n",
      "\n",
      "Epoch 16/100\n",
      "2326/2326 [==============================] - 0s - loss: 1.0948 - val_loss: 0.5966\n",
      "Epoch 15: validation loss: 0.597\n",
      "Balanced Accuracy: 67.40%\t auROC: 0.750\t auPRC: 0.750\t auPRG: 0.507\n",
      "Recall at 5%|10%|20% FDR: 0.7%|4.4%|48.1%\t Num Positives: 730\t Num Negatives: 730\t \n",
      "\n",
      "Epoch 17/100\n",
      "2326/2326 [==============================] - 0s - loss: 1.0750 - val_loss: 0.5986\n",
      "Epoch 16: validation loss: 0.599\n",
      "Balanced Accuracy: 67.67%\t auROC: 0.753\t auPRC: 0.754\t auPRG: 0.512\n",
      "Recall at 5%|10%|20% FDR: 1.1%|12.2%|43.2%\t Num Positives: 730\t Num Negatives: 730\t \n",
      "\n",
      "Epoch 18/100\n",
      "2326/2326 [==============================] - 0s - loss: 1.0638 - val_loss: 0.5963\n",
      "Epoch 17: validation loss: 0.596\n",
      "Balanced Accuracy: 68.01%\t auROC: 0.755\t auPRC: 0.756\t auPRG: 0.514\n",
      "Recall at 5%|10%|20% FDR: 1.4%|2.7%|47.4%\t Num Positives: 730\t Num Negatives: 730\t \n",
      "\n",
      "Epoch 19/100\n",
      "2326/2326 [==============================] - 0s - loss: 1.0457 - val_loss: 0.6024\n",
      "Epoch 18: validation loss: 0.602\n",
      "Balanced Accuracy: 69.32%\t auROC: 0.755\t auPRC: 0.759\t auPRG: 0.514\n",
      "Recall at 5%|10%|20% FDR: 2.3%|11.2%|44.7%\t Num Positives: 730\t Num Negatives: 730\t \n",
      "\n",
      "Epoch 20/100\n",
      "2326/2326 [==============================] - 0s - loss: 1.0346 - val_loss: 0.6027\n",
      "Epoch 19: validation loss: 0.603\n",
      "Balanced Accuracy: 69.11%\t auROC: 0.752\t auPRC: 0.755\t auPRG: 0.508\n",
      "Recall at 5%|10%|20% FDR: 1.5%|12.9%|45.2%\t Num Positives: 730\t Num Negatives: 730\t \n",
      "\n",
      "Epoch 21/100\n",
      "2326/2326 [==============================] - 0s - loss: 1.0225 - val_loss: 0.6016\n",
      "Epoch 20: validation loss: 0.602\n",
      "Balanced Accuracy: 69.79%\t auROC: 0.757\t auPRC: 0.758\t auPRG: 0.520\n",
      "Recall at 5%|10%|20% FDR: 3.0%|6.8%|47.1%\t Num Positives: 730\t Num Negatives: 730\t \n",
      "\n",
      "Epoch 22/100\n",
      "2326/2326 [==============================] - 0s - loss: 1.0158 - val_loss: 0.6028\n",
      "Epoch 21: validation loss: 0.603\n",
      "Balanced Accuracy: 69.45%\t auROC: 0.757\t auPRC: 0.760\t auPRG: 0.517\n",
      "Recall at 5%|10%|20% FDR: 1.8%|12.6%|45.5%\t Num Positives: 730\t Num Negatives: 730\t \n",
      "\n",
      "Epoch 23/100\n",
      "2326/2326 [==============================] - 0s - loss: 1.0017 - val_loss: 0.6054\n",
      "Epoch 22: validation loss: 0.605\n",
      "Balanced Accuracy: 69.04%\t auROC: 0.756\t auPRC: 0.760\t auPRG: 0.520\n",
      "Recall at 5%|10%|20% FDR: 1.8%|11.2%|47.1%\t Num Positives: 730\t Num Negatives: 730\t \n",
      "\n",
      "Epoch 24/100\n",
      "2326/2326 [==============================] - 0s - loss: 0.9960 - val_loss: 0.6047\n",
      "Epoch 23: validation loss: 0.605\n",
      "Balanced Accuracy: 69.73%\t auROC: 0.758\t auPRC: 0.759\t auPRG: 0.524\n",
      "Recall at 5%|10%|20% FDR: 1.4%|7.9%|46.3%\t Num Positives: 730\t Num Negatives: 730\t \n",
      "\n",
      "Epoch 25/100\n",
      "2326/2326 [==============================] - 0s - loss: 0.9768 - val_loss: 0.6044\n",
      "Epoch 24: validation loss: 0.604\n",
      "Balanced Accuracy: 69.86%\t auROC: 0.757\t auPRC: 0.759\t auPRG: 0.523\n",
      "Recall at 5%|10%|20% FDR: 1.1%|8.1%|46.0%\t Num Positives: 730\t Num Negatives: 730\t \n",
      "\n",
      "Epoch 26/100\n",
      "2326/2326 [==============================] - 0s - loss: 0.9643 - val_loss: 0.6096\n",
      "Epoch 25: validation loss: 0.610\n",
      "Balanced Accuracy: 69.66%\t auROC: 0.757\t auPRC: 0.757\t auPRG: 0.525\n",
      "Recall at 5%|10%|20% FDR: 1.5%|5.2%|44.5%\t Num Positives: 730\t Num Negatives: 730\t \n",
      "\n",
      "Epoch 27/100\n",
      "2326/2326 [==============================] - 0s - loss: 0.9568 - val_loss: 0.6132\n",
      "Epoch 26: validation loss: 0.613\n",
      "Balanced Accuracy: 69.73%\t auROC: 0.757\t auPRC: 0.756\t auPRG: 0.521\n",
      "Recall at 5%|10%|20% FDR: 1.4%|4.4%|46.0%\t Num Positives: 730\t Num Negatives: 730\t \n",
      "\n",
      "Epoch 28/100\n",
      "2326/2326 [==============================] - 0s - loss: 0.9402 - val_loss: 0.6124\n",
      "Epoch 27: validation loss: 0.612\n",
      "Balanced Accuracy: 69.32%\t auROC: 0.756\t auPRC: 0.756\t auPRG: 0.521\n",
      "Recall at 5%|10%|20% FDR: 1.2%|4.8%|44.8%\t Num Positives: 730\t Num Negatives: 730\t \n",
      "\n",
      "Epoch 29/100\n",
      "2326/2326 [==============================] - 0s - loss: 0.9335 - val_loss: 0.6130\n",
      "Epoch 28: validation loss: 0.613\n",
      "Balanced Accuracy: 70.27%\t auROC: 0.758\t auPRC: 0.756\t auPRG: 0.523\n",
      "Recall at 5%|10%|20% FDR: 1.0%|5.1%|45.6%\t Num Positives: 730\t Num Negatives: 730\t \n",
      "\n"
     ]
    }
   ],
   "source": [
    "#validation_data = (X_valid_normalized_subsampled[:, :, :11, :], y_valid_subsampled)\n",
    "#dnn_normalized.train(X_train_normalized_subsampled[:, :, :11, :], y_train_subsampled, validation_data)\n",
    "validation_data = (X_valid_normalized[:, :, :11, :], y_valid)\n",
    "dnn_normalized.train(X_train_normalized[:, :, :11, :], y_train, validation_data)"
   ]
  },
  {
   "cell_type": "code",
   "execution_count": 101,
   "metadata": {
    "collapsed": false
   },
   "outputs": [
    {
     "name": "stdout",
     "output_type": "stream",
     "text": [
      "Balanced Accuracy: 67.07%\t auROC: 0.727\t auPRC: 0.727\t auPRG: 0.453\n",
      "Recall at 5%|10%|20% FDR: 0.0%|0.0%|31.7%\t Num Positives: 454\t Num Negatives: 454\t \n"
     ]
    }
   ],
   "source": [
    "print(dnn_normalized.test(X_test_normalized[:, :, :11, :], y_test))"
   ]
  },
  {
   "cell_type": "markdown",
   "metadata": {},
   "source": [
    "# with distance only"
   ]
  },
  {
   "cell_type": "code",
   "execution_count": 102,
   "metadata": {
    "collapsed": true
   },
   "outputs": [],
   "source": [
    "dnn_normalized = LongRangeDNN(num_features=1, use_deep_CNN=True)"
   ]
  },
  {
   "cell_type": "code",
   "execution_count": 103,
   "metadata": {
    "collapsed": false
   },
   "outputs": [
    {
     "name": "stdout",
     "output_type": "stream",
     "text": [
      "Training model...\n",
      "Train on 2326 samples, validate on 1460 samples\n",
      "Epoch 1/100\n",
      "2326/2326 [==============================] - 0s - loss: 1.3675 - val_loss: 0.6782\n",
      "Epoch 0: validation loss: 0.678\n",
      "Balanced Accuracy: 58.77%\t auROC: 0.603\t auPRC: 0.576\t auPRG: 0.208\n",
      "Recall at 5%|10%|20% FDR: 0.0%|0.0%|0.0%\t Num Positives: 730\t Num Negatives: 730\t \n",
      "\n",
      "Epoch 2/100\n",
      "2326/2326 [==============================] - 0s - loss: 1.3611 - val_loss: 0.6791\n",
      "Epoch 1: validation loss: 0.679\n",
      "Balanced Accuracy: 58.56%\t auROC: 0.603\t auPRC: 0.576\t auPRG: 0.207\n",
      "Recall at 5%|10%|20% FDR: 0.0%|0.0%|0.0%\t Num Positives: 730\t Num Negatives: 730\t \n",
      "\n",
      "Epoch 3/100\n",
      "2326/2326 [==============================] - 0s - loss: 1.3605 - val_loss: 0.6775\n",
      "Epoch 2: validation loss: 0.678\n",
      "Balanced Accuracy: 58.70%\t auROC: 0.603\t auPRC: 0.576\t auPRG: 0.207\n",
      "Recall at 5%|10%|20% FDR: 0.0%|0.0%|0.0%\t Num Positives: 730\t Num Negatives: 730\t \n",
      "\n",
      "Epoch 4/100\n",
      "2326/2326 [==============================] - 0s - loss: 1.3605 - val_loss: 0.6774\n",
      "Epoch 3: validation loss: 0.677\n",
      "Balanced Accuracy: 58.49%\t auROC: 0.603\t auPRC: 0.576\t auPRG: 0.207\n",
      "Recall at 5%|10%|20% FDR: 0.0%|0.0%|0.0%\t Num Positives: 730\t Num Negatives: 730\t \n",
      "\n",
      "Epoch 5/100\n",
      "2326/2326 [==============================] - 0s - loss: 1.3607 - val_loss: 0.6769\n",
      "Epoch 4: validation loss: 0.677\n",
      "Balanced Accuracy: 58.49%\t auROC: 0.603\t auPRC: 0.576\t auPRG: 0.207\n",
      "Recall at 5%|10%|20% FDR: 0.0%|0.0%|0.0%\t Num Positives: 730\t Num Negatives: 730\t \n",
      "\n",
      "Epoch 6/100\n",
      "2326/2326 [==============================] - 0s - loss: 1.3616 - val_loss: 0.6775\n",
      "Epoch 5: validation loss: 0.678\n",
      "Balanced Accuracy: 58.63%\t auROC: 0.603\t auPRC: 0.576\t auPRG: 0.207\n",
      "Recall at 5%|10%|20% FDR: 0.0%|0.0%|0.0%\t Num Positives: 730\t Num Negatives: 730\t \n",
      "\n",
      "Epoch 7/100\n",
      "2326/2326 [==============================] - 0s - loss: 1.3607 - val_loss: 0.6774\n",
      "Epoch 6: validation loss: 0.677\n",
      "Balanced Accuracy: 58.70%\t auROC: 0.603\t auPRC: 0.576\t auPRG: 0.207\n",
      "Recall at 5%|10%|20% FDR: 0.0%|0.0%|0.0%\t Num Positives: 730\t Num Negatives: 730\t \n",
      "\n",
      "Epoch 8/100\n",
      "2326/2326 [==============================] - 0s - loss: 1.3596 - val_loss: 0.6767\n",
      "Epoch 7: validation loss: 0.677\n",
      "Balanced Accuracy: 58.70%\t auROC: 0.603\t auPRC: 0.576\t auPRG: 0.207\n",
      "Recall at 5%|10%|20% FDR: 0.0%|0.0%|0.0%\t Num Positives: 730\t Num Negatives: 730\t \n",
      "\n",
      "Epoch 9/100\n",
      "2326/2326 [==============================] - 0s - loss: 1.3603 - val_loss: 0.6765\n",
      "Epoch 8: validation loss: 0.676\n",
      "Balanced Accuracy: 58.77%\t auROC: 0.603\t auPRC: 0.576\t auPRG: 0.207\n",
      "Recall at 5%|10%|20% FDR: 0.0%|0.0%|0.0%\t Num Positives: 730\t Num Negatives: 730\t \n",
      "\n",
      "Epoch 10/100\n",
      "2326/2326 [==============================] - 0s - loss: 1.3589 - val_loss: 0.6765\n",
      "Epoch 9: validation loss: 0.676\n",
      "Balanced Accuracy: 58.77%\t auROC: 0.603\t auPRC: 0.576\t auPRG: 0.207\n",
      "Recall at 5%|10%|20% FDR: 0.0%|0.0%|0.0%\t Num Positives: 730\t Num Negatives: 730\t \n",
      "\n",
      "Epoch 11/100\n",
      "2326/2326 [==============================] - 0s - loss: 1.3589 - val_loss: 0.6768\n",
      "Epoch 10: validation loss: 0.677\n",
      "Balanced Accuracy: 58.77%\t auROC: 0.603\t auPRC: 0.576\t auPRG: 0.207\n",
      "Recall at 5%|10%|20% FDR: 0.0%|0.0%|0.0%\t Num Positives: 730\t Num Negatives: 730\t \n",
      "\n",
      "Epoch 12/100\n",
      "2326/2326 [==============================] - 0s - loss: 1.3589 - val_loss: 0.6765\n",
      "Epoch 11: validation loss: 0.676\n",
      "Balanced Accuracy: 58.77%\t auROC: 0.603\t auPRC: 0.576\t auPRG: 0.208\n",
      "Recall at 5%|10%|20% FDR: 0.0%|0.0%|0.0%\t Num Positives: 730\t Num Negatives: 730\t \n",
      "\n",
      "Epoch 13/100\n",
      "2326/2326 [==============================] - 0s - loss: 1.3593 - val_loss: 0.6765\n",
      "Epoch 12: validation loss: 0.677\n",
      "Balanced Accuracy: 58.90%\t auROC: 0.603\t auPRC: 0.576\t auPRG: 0.208\n",
      "Recall at 5%|10%|20% FDR: 0.0%|0.0%|0.0%\t Num Positives: 730\t Num Negatives: 730\t \n",
      "\n",
      "Epoch 14/100\n",
      "2326/2326 [==============================] - 0s - loss: 1.3596 - val_loss: 0.6764\n",
      "Epoch 13: validation loss: 0.676\n",
      "Balanced Accuracy: 58.77%\t auROC: 0.603\t auPRC: 0.576\t auPRG: 0.208\n",
      "Recall at 5%|10%|20% FDR: 0.0%|0.0%|0.0%\t Num Positives: 730\t Num Negatives: 730\t \n",
      "\n",
      "Epoch 15/100\n",
      "2326/2326 [==============================] - 0s - loss: 1.3596 - val_loss: 0.6761\n",
      "Epoch 14: validation loss: 0.676\n",
      "Balanced Accuracy: 58.77%\t auROC: 0.603\t auPRC: 0.576\t auPRG: 0.208\n",
      "Recall at 5%|10%|20% FDR: 0.0%|0.0%|0.0%\t Num Positives: 730\t Num Negatives: 730\t \n",
      "\n",
      "Epoch 16/100\n",
      "2326/2326 [==============================] - 0s - loss: 1.3570 - val_loss: 0.6765\n",
      "Epoch 15: validation loss: 0.677\n",
      "Balanced Accuracy: 58.77%\t auROC: 0.604\t auPRC: 0.576\t auPRG: 0.209\n",
      "Recall at 5%|10%|20% FDR: 0.0%|0.0%|0.0%\t Num Positives: 730\t Num Negatives: 730\t \n",
      "\n",
      "Epoch 17/100\n",
      "2326/2326 [==============================] - 0s - loss: 1.3594 - val_loss: 0.6766\n",
      "Epoch 16: validation loss: 0.677\n",
      "Balanced Accuracy: 58.70%\t auROC: 0.603\t auPRC: 0.576\t auPRG: 0.207\n",
      "Recall at 5%|10%|20% FDR: 0.0%|0.0%|0.0%\t Num Positives: 730\t Num Negatives: 730\t \n",
      "\n",
      "Epoch 18/100\n",
      "2326/2326 [==============================] - 0s - loss: 1.3580 - val_loss: 0.6764\n",
      "Epoch 17: validation loss: 0.676\n",
      "Balanced Accuracy: 58.77%\t auROC: 0.603\t auPRC: 0.576\t auPRG: 0.208\n",
      "Recall at 5%|10%|20% FDR: 0.0%|0.0%|0.0%\t Num Positives: 730\t Num Negatives: 730\t \n",
      "\n",
      "Epoch 19/100\n",
      "2326/2326 [==============================] - 0s - loss: 1.3587 - val_loss: 0.6762\n",
      "Epoch 18: validation loss: 0.676\n",
      "Balanced Accuracy: 58.63%\t auROC: 0.603\t auPRC: 0.576\t auPRG: 0.207\n",
      "Recall at 5%|10%|20% FDR: 0.0%|0.0%|0.0%\t Num Positives: 730\t Num Negatives: 730\t \n",
      "\n",
      "Epoch 20/100\n",
      "2326/2326 [==============================] - 0s - loss: 1.3575 - val_loss: 0.6762\n",
      "Epoch 19: validation loss: 0.676\n",
      "Balanced Accuracy: 58.63%\t auROC: 0.604\t auPRC: 0.576\t auPRG: 0.209\n",
      "Recall at 5%|10%|20% FDR: 0.0%|0.0%|0.0%\t Num Positives: 730\t Num Negatives: 730\t \n",
      "\n",
      "Epoch 21/100\n",
      "2326/2326 [==============================] - 0s - loss: 1.3573 - val_loss: 0.6761\n",
      "Epoch 20: validation loss: 0.676\n",
      "Balanced Accuracy: 58.56%\t auROC: 0.603\t auPRC: 0.576\t auPRG: 0.207\n",
      "Recall at 5%|10%|20% FDR: 0.0%|0.0%|0.0%\t Num Positives: 730\t Num Negatives: 730\t \n",
      "\n",
      "Epoch 22/100\n",
      "2326/2326 [==============================] - 0s - loss: 1.3571 - val_loss: 0.6767\n",
      "Epoch 21: validation loss: 0.677\n",
      "Balanced Accuracy: 58.56%\t auROC: 0.605\t auPRC: 0.577\t auPRG: 0.218\n",
      "Recall at 5%|10%|20% FDR: 0.0%|0.0%|0.0%\t Num Positives: 730\t Num Negatives: 730\t \n",
      "\n",
      "Epoch 23/100\n",
      "2326/2326 [==============================] - 0s - loss: 1.3569 - val_loss: 0.6762\n",
      "Epoch 22: validation loss: 0.676\n",
      "Balanced Accuracy: 58.56%\t auROC: 0.603\t auPRC: 0.576\t auPRG: 0.209\n",
      "Recall at 5%|10%|20% FDR: 0.0%|0.0%|0.0%\t Num Positives: 730\t Num Negatives: 730\t \n",
      "\n",
      "Epoch 24/100\n",
      "2326/2326 [==============================] - 0s - loss: 1.3567 - val_loss: 0.6764\n",
      "Epoch 23: validation loss: 0.676\n",
      "Balanced Accuracy: 58.56%\t auROC: 0.603\t auPRC: 0.576\t auPRG: 0.208\n",
      "Recall at 5%|10%|20% FDR: 0.0%|0.0%|0.0%\t Num Positives: 730\t Num Negatives: 730\t \n",
      "\n",
      "Epoch 25/100\n",
      "2326/2326 [==============================] - 0s - loss: 1.3584 - val_loss: 0.6760\n",
      "Epoch 24: validation loss: 0.676\n",
      "Balanced Accuracy: 58.63%\t auROC: 0.604\t auPRC: 0.576\t auPRG: 0.211\n",
      "Recall at 5%|10%|20% FDR: 0.0%|0.0%|0.0%\t Num Positives: 730\t Num Negatives: 730\t \n",
      "\n",
      "Epoch 26/100\n",
      "2326/2326 [==============================] - 0s - loss: 1.3573 - val_loss: 0.6764\n",
      "Epoch 25: validation loss: 0.676\n",
      "Balanced Accuracy: 58.63%\t auROC: 0.604\t auPRC: 0.576\t auPRG: 0.208\n",
      "Recall at 5%|10%|20% FDR: 0.0%|0.0%|0.0%\t Num Positives: 730\t Num Negatives: 730\t \n",
      "\n",
      "Epoch 27/100\n",
      "2326/2326 [==============================] - 0s - loss: 1.3571 - val_loss: 0.6773\n",
      "Epoch 26: validation loss: 0.677\n",
      "Balanced Accuracy: 58.56%\t auROC: 0.603\t auPRC: 0.576\t auPRG: 0.206\n",
      "Recall at 5%|10%|20% FDR: 0.0%|0.0%|0.0%\t Num Positives: 730\t Num Negatives: 730\t \n",
      "\n",
      "Epoch 28/100\n",
      "2326/2326 [==============================] - 0s - loss: 1.3571 - val_loss: 0.6763\n",
      "Epoch 27: validation loss: 0.676\n",
      "Balanced Accuracy: 58.56%\t auROC: 0.604\t auPRC: 0.576\t auPRG: 0.208\n",
      "Recall at 5%|10%|20% FDR: 0.0%|0.0%|0.0%\t Num Positives: 730\t Num Negatives: 730\t \n",
      "\n",
      "Epoch 29/100\n",
      "2326/2326 [==============================] - 0s - loss: 1.3561 - val_loss: 0.6763\n",
      "Epoch 28: validation loss: 0.676\n",
      "Balanced Accuracy: 58.63%\t auROC: 0.603\t auPRC: 0.576\t auPRG: 0.207\n",
      "Recall at 5%|10%|20% FDR: 0.0%|0.0%|0.0%\t Num Positives: 730\t Num Negatives: 730\t \n",
      "\n",
      "Epoch 30/100\n",
      "2326/2326 [==============================] - 0s - loss: 1.3574 - val_loss: 0.6761\n",
      "Epoch 29: validation loss: 0.676\n",
      "Balanced Accuracy: 58.63%\t auROC: 0.603\t auPRC: 0.576\t auPRG: 0.207\n",
      "Recall at 5%|10%|20% FDR: 0.0%|0.0%|0.0%\t Num Positives: 730\t Num Negatives: 730\t \n",
      "\n",
      "Epoch 31/100\n",
      "2326/2326 [==============================] - 0s - loss: 1.3584 - val_loss: 0.6768\n",
      "Epoch 30: validation loss: 0.677\n",
      "Balanced Accuracy: 58.70%\t auROC: 0.602\t auPRC: 0.575\t auPRG: 0.206\n",
      "Recall at 5%|10%|20% FDR: 0.0%|0.0%|0.0%\t Num Positives: 730\t Num Negatives: 730\t \n",
      "\n",
      "Epoch 32/100\n",
      "2326/2326 [==============================] - 0s - loss: 1.3582 - val_loss: 0.6770\n",
      "Epoch 31: validation loss: 0.677\n",
      "Balanced Accuracy: 58.63%\t auROC: 0.602\t auPRC: 0.575\t auPRG: 0.201\n",
      "Recall at 5%|10%|20% FDR: 0.0%|0.0%|0.0%\t Num Positives: 730\t Num Negatives: 730\t \n",
      "\n",
      "Epoch 33/100\n",
      "2326/2326 [==============================] - 0s - loss: 1.3572 - val_loss: 0.6764\n",
      "Epoch 32: validation loss: 0.676\n",
      "Balanced Accuracy: 58.63%\t auROC: 0.602\t auPRC: 0.575\t auPRG: 0.201\n",
      "Recall at 5%|10%|20% FDR: 0.1%|0.1%|0.1%\t Num Positives: 730\t Num Negatives: 730\t \n",
      "\n",
      "Epoch 34/100\n",
      "2326/2326 [==============================] - 0s - loss: 1.3594 - val_loss: 0.6773\n",
      "Epoch 33: validation loss: 0.677\n",
      "Balanced Accuracy: 58.63%\t auROC: 0.601\t auPRC: 0.575\t auPRG: 0.201\n",
      "Recall at 5%|10%|20% FDR: 0.0%|0.0%|0.0%\t Num Positives: 730\t Num Negatives: 730\t \n",
      "\n",
      "Epoch 35/100\n",
      "2326/2326 [==============================] - 0s - loss: 1.3582 - val_loss: 0.6766\n",
      "Epoch 34: validation loss: 0.677\n",
      "Balanced Accuracy: 58.63%\t auROC: 0.601\t auPRC: 0.575\t auPRG: 0.198\n",
      "Recall at 5%|10%|20% FDR: 0.0%|0.0%|0.0%\t Num Positives: 730\t Num Negatives: 730\t \n",
      "\n",
      "Epoch 36/100\n",
      "2326/2326 [==============================] - 0s - loss: 1.3583 - val_loss: 0.6772\n",
      "Epoch 35: validation loss: 0.677\n",
      "Balanced Accuracy: 58.63%\t auROC: 0.601\t auPRC: 0.575\t auPRG: 0.202\n",
      "Recall at 5%|10%|20% FDR: 0.0%|0.0%|0.0%\t Num Positives: 730\t Num Negatives: 730\t \n",
      "\n"
     ]
    }
   ],
   "source": [
    "#validation_data = (X_valid_normalized_subsampled[:, :, :11, :], y_valid_subsampled)\n",
    "#dnn_normalized.train(X_train_normalized_subsampled[:, :, :11, :], y_train_subsampled, validation_data)\n",
    "validation_data = (X_valid_normalized[:, :, 10:, :], y_valid)\n",
    "dnn_normalized.train(X_train_normalized[:, :, 10:, :], y_train, validation_data)"
   ]
  },
  {
   "cell_type": "code",
   "execution_count": 104,
   "metadata": {
    "collapsed": false
   },
   "outputs": [
    {
     "name": "stdout",
     "output_type": "stream",
     "text": [
      "Balanced Accuracy: 56.83%\t auROC: 0.572\t auPRC: 0.543\t auPRG: 0.115\n",
      "Recall at 5%|10%|20% FDR: 0.0%|0.0%|0.0%\t Num Positives: 454\t Num Negatives: 454\t \n"
     ]
    }
   ],
   "source": [
    "print(dnn_normalized.test(X_test_normalized[:, :,  10:, :], y_test))"
   ]
  },
  {
   "cell_type": "markdown",
   "metadata": {},
   "source": [
    "# Print prediction"
   ]
  },
  {
   "cell_type": "code",
   "execution_count": 105,
   "metadata": {
    "collapsed": false
   },
   "outputs": [],
   "source": [
    "indx_train = np.load('/users/mtaranov/NN_thres5max/dist_matched/indx_train_thres_7.npy')\n",
    "indx_valid = np.load('/users/mtaranov/NN_thres5max/dist_matched/indx_valid_thres_7.npy')\n",
    "indx_test = np.load ('/users/mtaranov/NN_thres5max/dist_matched/indx_test_thres_7.npy')"
   ]
  },
  {
   "cell_type": "code",
   "execution_count": 106,
   "metadata": {
    "collapsed": false
   },
   "outputs": [],
   "source": [
    "labels_all=(np.concatenate((y_train, y_valid, y_test), axis=0)).astype(int)\n",
    "preds_all=(np.concatenate((pred_probs_train, pred_probs_valid, pred_probs_test), axis=0))\n",
    "indx_all=np.concatenate((indx_train, indx_valid, indx_test), axis=0)\n",
    "\n",
    "labels_chr1 = labels_all[np.ravel(np.where(indx_all[:,2]==1))]\n",
    "preds_chr1 = preds_all[np.ravel(np.where(indx_all[:,2]==1))]\n",
    "indx_chr1 = indx_all[np.ravel(np.where(indx_all[:,2]==1))]"
   ]
  },
  {
   "cell_type": "code",
   "execution_count": 107,
   "metadata": {
    "collapsed": false
   },
   "outputs": [
    {
     "name": "stdout",
     "output_type": "stream",
     "text": [
      "Some tests on adjacency matrix:\n",
      "Some tests on adjacency matrix:\n"
     ]
    }
   ],
   "source": [
    "NumberOfNodes=2272\n",
    "preds_chr1_2d, labels_chr1_2d = get_2D(indx_chr1, preds_chr1, labels_chr1, NumberOfNodes)\n",
    "# preds_test_2d, labels_test_2d = get_2D(indx_test, preds_test, labels_test, NumberOfNodes)"
   ]
  },
  {
   "cell_type": "code",
   "execution_count": 108,
   "metadata": {
    "collapsed": false
   },
   "outputs": [],
   "source": [
    "# printMatrix(preds_chr1_2d, '', 1, 1, title='preds')\n",
    "# printMatrix(labels_chr1_2d, '', 1, 1, title='Captures')"
   ]
  },
  {
   "cell_type": "code",
   "execution_count": 114,
   "metadata": {
    "collapsed": false
   },
   "outputs": [
    {
     "name": "stdout",
     "output_type": "stream",
     "text": [
      "1.0\n",
      "(60, 60)\n",
      "Limit: 1.0\n"
     ]
    },
    {
     "data": {
      "image/png": "[encoded data removed]",
      "text/plain": [
       "<matplotlib.figure.Figure at 0x7f6943738410>"
      ]
     },
     "metadata": {},
     "output_type": "display_data"
    },
    {
     "name": "stdout",
     "output_type": "stream",
     "text": [
      "0.985373437405\n",
      "(60, 60)\n",
      "Limit: 0.985373437405\n"
     ]
    },
    {
     "data": {
      "image/png": "[encoded data removed]",
      "text/plain": [
       "<matplotlib.figure.Figure at 0x7f696ad7a6d0>"
      ]
     },
     "metadata": {},
     "output_type": "display_data"
    }
   ],
   "source": [
    "zoomIn_window = (400,460)\n",
    "NumberOfNodes=2272\n",
    "plot_prediction(change_scale(preds_chr1_2d)+change_scale(preds_chr1_2d).T, change_scale(labels_chr1_2d)+change_scale(labels_chr1_2d).T, zoomIn_window, )"
   ]
  },
  {
   "cell_type": "code",
   "execution_count": null,
   "metadata": {
    "collapsed": true
   },
   "outputs": [],
   "source": []
  }
 ],
 "metadata": {
  "kernelspec": {
   "display_name": "Python [default]",
   "language": "python",
   "name": "python2"
  },
  "language_info": {
   "codemirror_mode": {
    "name": "ipython",
    "version": 2
   },
   "file_extension": ".py",
   "mimetype": "text/x-python",
   "name": "python",
   "nbconvert_exporter": "python",
   "pygments_lexer": "ipython2",
   "version": "2.7.12"
  }
 },
 "nbformat": 4,
 "nbformat_minor": 0
}
