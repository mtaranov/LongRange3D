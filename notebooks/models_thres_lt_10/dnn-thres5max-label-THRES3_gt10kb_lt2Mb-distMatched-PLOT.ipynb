{
 "cells": [
  {
   "cell_type": "code",
   "execution_count": 1,
   "metadata": {
    "collapsed": false
   },
   "outputs": [
    {
     "name": "stderr",
     "output_type": "stream",
     "text": [
      "Using Theano backend.\n",
      "/users/mtaranov/local/anaconda2/lib/python2.7/site-packages/theano/tensor/signal/downsample.py:6: UserWarning: downsample module has been moved to the theano.tensor.signal.pool module.\n",
      "  \"downsample module has been moved to the theano.tensor.signal.pool module.\")\n"
     ]
    }
   ],
   "source": [
    "%matplotlib inline\n",
    "%load_ext autoreload\n",
    "%autoreload 2\n",
    "\n",
    "import numpy as np\n",
    "import matplotlib.pyplot as plt\n",
    "from sklearn.preprocessing import MinMaxScaler, StandardScaler\n",
    "import copy\n",
    "from models import LongRangeDNN\n",
    "from utils import get_features, get_labels, subsample_data, normalize_features, reconstruct_2d, printMatrix, binarize, zscore, get_2D, plot_prediction, change_scale \n",
    "#from sklearn.preprocessing import MinMaxScaler, StandardScaler\n",
    "#from dragonn.models import Model, SequenceDNN\n",
    "#from keras.models import Sequential\n",
    "#from keras.callbacks import Callback, EarlyStopping\n",
    "#from keras.layers.core import (\n",
    "#    Activation, Dense, Dropout, Flatten,\n",
    "#    Permute, Reshape, TimeDistributedDense\n",
    "#)\n",
    "#from keras.layers.convolutional import Convolution2D, MaxPooling2D\n",
    "#from keras.layers.recurrent import GRU\n",
    "#from keras.regularizers import l1\n",
    "\n",
    "#from deeplift import keras_conversion as kc\n",
    "#from deeplift.blobs import MxtsMode"
   ]
  },
  {
   "cell_type": "code",
   "execution_count": 2,
   "metadata": {
    "collapsed": false
   },
   "outputs": [
    {
     "data": {
      "text/plain": [
       "\"\\nX_train = get_features(data_path+'train_set_upperTriangle_noDiag_reads.npy')\\ny_train = get_labels(data_path+'labels_train_upperTriangle_noDiag.npy')\\nX_valid = get_features(data_path+'vali_set_upperTriangle_noDiag_reads.npy')\\ny_valid = get_labels(data_path+'labels_vali_upperTriangle_noDiag.npy')\\nX_test = get_features(data_path+'test_set_upperTriangle_noDiag_reads.npy')\\ny_test = get_labels(data_path+'labels_test_upperTriangle_noDiag.npy')\\n\\nX_train = get_features('NN_datasets/train_set_all_reads.npy')\\ny_train = get_labels('NN_datasets/labels_train_all.npy')\\nX_valid = get_features('NN_datasets/vali_set_all_reads.npy')\\ny_valid = get_labels('NN_datasets/labels_vali_all.npy')\\nX_test = get_features('NN_datasets/test_set_all_reads.npy')\\ny_test = get_labels('NN_datasets/labels_test_all.npy')\\n\\nX_train_subsampled, y_train_subsampled = subsample_data(X_train, y_train)\\nX_valid_subsampled, y_valid_subsampled = subsample_data(X_valid, y_valid)\\nX_test_subsampled, y_test_subsampled = subsample_data(X_test, y_test)\\n\""
      ]
     },
     "execution_count": 2,
     "metadata": {},
     "output_type": "execute_result"
    }
   ],
   "source": [
    "data_path='/users/mtaranov/NN_all_data/'\n",
    "\n",
    "X_train = get_features('/users/mtaranov/NN_thres5max/dist_matched/X_train_thres_3.npy')\n",
    "y_train = get_labels('/users/mtaranov/NN_thres5max/dist_matched/y_train_thres_3.npy')\n",
    "X_valid = get_features('/users/mtaranov/NN_thres5max/dist_matched/X_valid_thres_3.npy')\n",
    "y_valid = get_labels('/users/mtaranov/NN_thres5max/dist_matched/y_valid_thres_3.npy')\n",
    "X_test = get_features('/users/mtaranov/NN_thres5max/dist_matched/X_test_thres_3.npy')\n",
    "y_test = get_labels('/users/mtaranov/NN_thres5max/dist_matched/y_test_thres_3.npy')\n",
    "\n",
    "\"\"\"\n",
    "X_train = get_features(data_path+'train_set_upperTriangle_noDiag_reads.npy')\n",
    "y_train = get_labels(data_path+'labels_train_upperTriangle_noDiag.npy')\n",
    "X_valid = get_features(data_path+'vali_set_upperTriangle_noDiag_reads.npy')\n",
    "y_valid = get_labels(data_path+'labels_vali_upperTriangle_noDiag.npy')\n",
    "X_test = get_features(data_path+'test_set_upperTriangle_noDiag_reads.npy')\n",
    "y_test = get_labels(data_path+'labels_test_upperTriangle_noDiag.npy')\n",
    "\n",
    "X_train = get_features('NN_datasets/train_set_all_reads.npy')\n",
    "y_train = get_labels('NN_datasets/labels_train_all.npy')\n",
    "X_valid = get_features('NN_datasets/vali_set_all_reads.npy')\n",
    "y_valid = get_labels('NN_datasets/labels_vali_all.npy')\n",
    "X_test = get_features('NN_datasets/test_set_all_reads.npy')\n",
    "y_test = get_labels('NN_datasets/labels_test_all.npy')\n",
    "\n",
    "X_train_subsampled, y_train_subsampled = subsample_data(X_train, y_train)\n",
    "X_valid_subsampled, y_valid_subsampled = subsample_data(X_valid, y_valid)\n",
    "X_test_subsampled, y_test_subsampled = subsample_data(X_test, y_test)\n",
    "\"\"\""
   ]
  },
  {
   "cell_type": "code",
   "execution_count": 3,
   "metadata": {
    "collapsed": false
   },
   "outputs": [],
   "source": [
    "X_train_normalized, X_valid_normalized, X_test_normalized = normalize_features(X_train, X_valid, X_test)\n",
    "\n",
    "#X_train_normalized_subsampled, y_train_subsampled = subsample_data(X_train_normalized, y_train)\n",
    "#X_valid_normalized_subsampled, y_valid_subsampled = subsample_data(X_valid_normalized, y_valid)\n",
    "#X_test_normalized_subsampled, y_test_subsampled = subsample_data(X_test_normalized, y_test)\n",
    "\n",
    "#X_train_scaled_subsampled, y_train_subsampled = subsample_data(X_train_scaled, y_train)\n",
    "#X_valid_scaled_subsampled, y_valid_subsampled = subsample_data(X_valid_scaled, y_valid)\n",
    "#X_test_scaled_subsampled, y_test_subsampled = subsample_data(X_test_scaled, y_test)\n"
   ]
  },
  {
   "cell_type": "markdown",
   "metadata": {},
   "source": [
    "# without distance"
   ]
  },
  {
   "cell_type": "code",
   "execution_count": 4,
   "metadata": {
    "collapsed": true
   },
   "outputs": [],
   "source": [
    "dnn_normalized = LongRangeDNN(num_features=10, use_deep_CNN=True)"
   ]
  },
  {
   "cell_type": "code",
   "execution_count": 5,
   "metadata": {
    "collapsed": false
   },
   "outputs": [
    {
     "name": "stdout",
     "output_type": "stream",
     "text": [
      "Training model...\n",
      "Train on 8950 samples, validate on 5550 samples\n",
      "Epoch 1/100\n",
      "8950/8950 [==============================] - 0s - loss: 1.3938 - val_loss: 0.6754\n",
      "Epoch 0: validation loss: 0.675\n",
      "Balanced Accuracy: 57.66%\t auROC: 0.608\t auPRC: 0.614\t auPRG: 0.194\n",
      "Recall at 5%|10%|20% FDR: 0.0%|0.0%|2.6%\t Num Positives: 2775\t Num Negatives: 2775\t \n",
      "\n",
      "Epoch 2/100\n",
      "8950/8950 [==============================] - 0s - loss: 1.3257 - val_loss: 0.6608\n",
      "Epoch 1: validation loss: 0.661\n",
      "Balanced Accuracy: 59.73%\t auROC: 0.645\t auPRC: 0.663\t auPRG: 0.264\n",
      "Recall at 5%|10%|20% FDR: 3.1%|4.7%|16.1%\t Num Positives: 2775\t Num Negatives: 2775\t \n",
      "\n",
      "Epoch 3/100\n",
      "8950/8950 [==============================] - 0s - loss: 1.2989 - val_loss: 0.6522\n",
      "Epoch 2: validation loss: 0.652\n",
      "Balanced Accuracy: 60.83%\t auROC: 0.653\t auPRC: 0.669\t auPRG: 0.280\n",
      "Recall at 5%|10%|20% FDR: 1.0%|5.8%|18.6%\t Num Positives: 2775\t Num Negatives: 2775\t \n",
      "\n",
      "Epoch 4/100\n",
      "8950/8950 [==============================] - 0s - loss: 1.2860 - val_loss: 0.6477\n",
      "Epoch 3: validation loss: 0.648\n",
      "Balanced Accuracy: 61.46%\t auROC: 0.660\t auPRC: 0.679\t auPRG: 0.297\n",
      "Recall at 5%|10%|20% FDR: 3.8%|5.3%|22.6%\t Num Positives: 2775\t Num Negatives: 2775\t \n",
      "\n",
      "Epoch 5/100\n",
      "8950/8950 [==============================] - 0s - loss: 1.2765 - val_loss: 0.6505\n",
      "Epoch 4: validation loss: 0.650\n",
      "Balanced Accuracy: 61.08%\t auROC: 0.662\t auPRC: 0.679\t auPRG: 0.298\n",
      "Recall at 5%|10%|20% FDR: 1.8%|5.1%|22.3%\t Num Positives: 2775\t Num Negatives: 2775\t \n",
      "\n",
      "Epoch 6/100\n",
      "8950/8950 [==============================] - 0s - loss: 1.2688 - val_loss: 0.6443\n",
      "Epoch 5: validation loss: 0.644\n",
      "Balanced Accuracy: 61.64%\t auROC: 0.667\t auPRC: 0.685\t auPRG: 0.309\n",
      "Recall at 5%|10%|20% FDR: 3.6%|4.7%|22.3%\t Num Positives: 2775\t Num Negatives: 2775\t \n",
      "\n",
      "Epoch 7/100\n",
      "8950/8950 [==============================] - 0s - loss: 1.2612 - val_loss: 0.6442\n",
      "Epoch 6: validation loss: 0.644\n",
      "Balanced Accuracy: 62.11%\t auROC: 0.669\t auPRC: 0.688\t auPRG: 0.313\n",
      "Recall at 5%|10%|20% FDR: 3.9%|6.9%|22.7%\t Num Positives: 2775\t Num Negatives: 2775\t \n",
      "\n",
      "Epoch 8/100\n",
      "8950/8950 [==============================] - 0s - loss: 1.2544 - val_loss: 0.6452\n",
      "Epoch 7: validation loss: 0.645\n",
      "Balanced Accuracy: 61.96%\t auROC: 0.672\t auPRC: 0.689\t auPRG: 0.320\n",
      "Recall at 5%|10%|20% FDR: 4.5%|5.7%|23.3%\t Num Positives: 2775\t Num Negatives: 2775\t \n",
      "\n",
      "Epoch 9/100\n",
      "8950/8950 [==============================] - 0s - loss: 1.2464 - val_loss: 0.6416\n",
      "Epoch 8: validation loss: 0.642\n",
      "Balanced Accuracy: 62.38%\t auROC: 0.676\t auPRC: 0.693\t auPRG: 0.331\n",
      "Recall at 5%|10%|20% FDR: 4.9%|6.6%|22.6%\t Num Positives: 2775\t Num Negatives: 2775\t \n",
      "\n",
      "Epoch 10/100\n",
      "8950/8950 [==============================] - 0s - loss: 1.2426 - val_loss: 0.6401\n",
      "Epoch 9: validation loss: 0.640\n",
      "Balanced Accuracy: 62.27%\t auROC: 0.674\t auPRC: 0.693\t auPRG: 0.327\n",
      "Recall at 5%|10%|20% FDR: 5.2%|7.3%|24.6%\t Num Positives: 2775\t Num Negatives: 2775\t \n",
      "\n",
      "Epoch 11/100\n",
      "8950/8950 [==============================] - 0s - loss: 1.2378 - val_loss: 0.6432\n",
      "Epoch 10: validation loss: 0.643\n",
      "Balanced Accuracy: 62.13%\t auROC: 0.678\t auPRC: 0.693\t auPRG: 0.335\n",
      "Recall at 5%|10%|20% FDR: 5.0%|6.0%|22.6%\t Num Positives: 2775\t Num Negatives: 2775\t \n",
      "\n",
      "Epoch 12/100\n",
      "8950/8950 [==============================] - 0s - loss: 1.2304 - val_loss: 0.6382\n",
      "Epoch 11: validation loss: 0.638\n",
      "Balanced Accuracy: 63.21%\t auROC: 0.679\t auPRC: 0.695\t auPRG: 0.342\n",
      "Recall at 5%|10%|20% FDR: 5.8%|8.0%|25.2%\t Num Positives: 2775\t Num Negatives: 2775\t \n",
      "\n",
      "Epoch 13/100\n",
      "8950/8950 [==============================] - 0s - loss: 1.2225 - val_loss: 0.6393\n",
      "Epoch 12: validation loss: 0.639\n",
      "Balanced Accuracy: 62.41%\t auROC: 0.680\t auPRC: 0.697\t auPRG: 0.342\n",
      "Recall at 5%|10%|20% FDR: 5.8%|8.2%|26.3%\t Num Positives: 2775\t Num Negatives: 2775\t \n",
      "\n",
      "Epoch 14/100\n",
      "8950/8950 [==============================] - 0s - loss: 1.2202 - val_loss: 0.6380\n",
      "Epoch 13: validation loss: 0.638\n",
      "Balanced Accuracy: 63.24%\t auROC: 0.682\t auPRC: 0.697\t auPRG: 0.347\n",
      "Recall at 5%|10%|20% FDR: 5.4%|6.5%|23.4%\t Num Positives: 2775\t Num Negatives: 2775\t \n",
      "\n",
      "Epoch 15/100\n",
      "8950/8950 [==============================] - 0s - loss: 1.2125 - val_loss: 0.6383\n",
      "Epoch 14: validation loss: 0.638\n",
      "Balanced Accuracy: 63.19%\t auROC: 0.683\t auPRC: 0.698\t auPRG: 0.349\n",
      "Recall at 5%|10%|20% FDR: 5.8%|8.1%|25.3%\t Num Positives: 2775\t Num Negatives: 2775\t \n",
      "\n",
      "Epoch 16/100\n",
      "8950/8950 [==============================] - 0s - loss: 1.2066 - val_loss: 0.6391\n",
      "Epoch 15: validation loss: 0.639\n",
      "Balanced Accuracy: 63.10%\t auROC: 0.684\t auPRC: 0.699\t auPRG: 0.350\n",
      "Recall at 5%|10%|20% FDR: 5.2%|8.4%|26.9%\t Num Positives: 2775\t Num Negatives: 2775\t \n",
      "\n",
      "Epoch 17/100\n",
      "8950/8950 [==============================] - 0s - loss: 1.2033 - val_loss: 0.6375\n",
      "Epoch 16: validation loss: 0.638\n",
      "Balanced Accuracy: 62.65%\t auROC: 0.684\t auPRC: 0.701\t auPRG: 0.347\n",
      "Recall at 5%|10%|20% FDR: 6.3%|7.2%|26.3%\t Num Positives: 2775\t Num Negatives: 2775\t \n",
      "\n",
      "Epoch 18/100\n",
      "8950/8950 [==============================] - 0s - loss: 1.2032 - val_loss: 0.6388\n",
      "Epoch 17: validation loss: 0.639\n",
      "Balanced Accuracy: 63.17%\t auROC: 0.683\t auPRC: 0.699\t auPRG: 0.344\n",
      "Recall at 5%|10%|20% FDR: 5.8%|8.2%|25.0%\t Num Positives: 2775\t Num Negatives: 2775\t \n",
      "\n",
      "Epoch 19/100\n",
      "8950/8950 [==============================] - 0s - loss: 1.1933 - val_loss: 0.6402\n",
      "Epoch 18: validation loss: 0.640\n",
      "Balanced Accuracy: 63.01%\t auROC: 0.686\t auPRC: 0.703\t auPRG: 0.353\n",
      "Recall at 5%|10%|20% FDR: 5.6%|7.7%|27.2%\t Num Positives: 2775\t Num Negatives: 2775\t \n",
      "\n",
      "Epoch 20/100\n",
      "8950/8950 [==============================] - 0s - loss: 1.1900 - val_loss: 0.6393\n",
      "Epoch 19: validation loss: 0.639\n",
      "Balanced Accuracy: 63.23%\t auROC: 0.684\t auPRC: 0.697\t auPRG: 0.353\n",
      "Recall at 5%|10%|20% FDR: 4.6%|8.3%|25.0%\t Num Positives: 2775\t Num Negatives: 2775\t \n",
      "\n",
      "Epoch 21/100\n",
      "8950/8950 [==============================] - 0s - loss: 1.1876 - val_loss: 0.6400\n",
      "Epoch 20: validation loss: 0.640\n",
      "Balanced Accuracy: 63.28%\t auROC: 0.688\t auPRC: 0.703\t auPRG: 0.357\n",
      "Recall at 5%|10%|20% FDR: 5.0%|8.3%|28.3%\t Num Positives: 2775\t Num Negatives: 2775\t \n",
      "\n",
      "Epoch 22/100\n",
      "8950/8950 [==============================] - 0s - loss: 1.1800 - val_loss: 0.6340\n",
      "Epoch 21: validation loss: 0.634\n",
      "Balanced Accuracy: 63.28%\t auROC: 0.689\t auPRC: 0.703\t auPRG: 0.357\n",
      "Recall at 5%|10%|20% FDR: 5.0%|7.9%|26.2%\t Num Positives: 2775\t Num Negatives: 2775\t \n",
      "\n",
      "Epoch 23/100\n",
      "8950/8950 [==============================] - 0s - loss: 1.1760 - val_loss: 0.6386\n",
      "Epoch 22: validation loss: 0.639\n",
      "Balanced Accuracy: 63.17%\t auROC: 0.690\t auPRC: 0.704\t auPRG: 0.361\n",
      "Recall at 5%|10%|20% FDR: 5.4%|7.6%|26.7%\t Num Positives: 2775\t Num Negatives: 2775\t \n",
      "\n",
      "Epoch 24/100\n",
      "8950/8950 [==============================] - 0s - loss: 1.1704 - val_loss: 0.6438\n",
      "Epoch 23: validation loss: 0.644\n",
      "Balanced Accuracy: 63.44%\t auROC: 0.688\t auPRC: 0.702\t auPRG: 0.356\n",
      "Recall at 5%|10%|20% FDR: 2.7%|6.9%|25.7%\t Num Positives: 2775\t Num Negatives: 2775\t \n",
      "\n",
      "Epoch 25/100\n",
      "8950/8950 [==============================] - 0s - loss: 1.1706 - val_loss: 0.6362\n",
      "Epoch 24: validation loss: 0.636\n",
      "Balanced Accuracy: 63.57%\t auROC: 0.689\t auPRC: 0.703\t auPRG: 0.358\n",
      "Recall at 5%|10%|20% FDR: 5.7%|8.0%|28.1%\t Num Positives: 2775\t Num Negatives: 2775\t \n",
      "\n",
      "Epoch 26/100\n",
      "8950/8950 [==============================] - 0s - loss: 1.1657 - val_loss: 0.6441\n",
      "Epoch 25: validation loss: 0.644\n",
      "Balanced Accuracy: 62.88%\t auROC: 0.686\t auPRC: 0.700\t auPRG: 0.347\n",
      "Recall at 5%|10%|20% FDR: 5.3%|6.7%|27.4%\t Num Positives: 2775\t Num Negatives: 2775\t \n",
      "\n",
      "Epoch 27/100\n",
      "8950/8950 [==============================] - 0s - loss: 1.1620 - val_loss: 0.6411\n",
      "Epoch 26: validation loss: 0.641\n",
      "Balanced Accuracy: 63.73%\t auROC: 0.687\t auPRC: 0.701\t auPRG: 0.358\n",
      "Recall at 5%|10%|20% FDR: 4.4%|8.3%|26.2%\t Num Positives: 2775\t Num Negatives: 2775\t \n",
      "\n",
      "Epoch 28/100\n",
      "8950/8950 [==============================] - 0s - loss: 1.1538 - val_loss: 0.6375\n",
      "Epoch 27: validation loss: 0.637\n",
      "Balanced Accuracy: 62.63%\t auROC: 0.689\t auPRC: 0.702\t auPRG: 0.355\n",
      "Recall at 5%|10%|20% FDR: 3.7%|8.5%|26.6%\t Num Positives: 2775\t Num Negatives: 2775\t \n",
      "\n",
      "Epoch 29/100\n",
      "8950/8950 [==============================] - 0s - loss: 1.1524 - val_loss: 0.6417\n",
      "Epoch 28: validation loss: 0.642\n",
      "Balanced Accuracy: 63.37%\t auROC: 0.687\t auPRC: 0.700\t auPRG: 0.357\n",
      "Recall at 5%|10%|20% FDR: 1.8%|6.7%|28.2%\t Num Positives: 2775\t Num Negatives: 2775\t \n",
      "\n",
      "Epoch 30/100\n",
      "8950/8950 [==============================] - 0s - loss: 1.1469 - val_loss: 0.6422\n",
      "Epoch 29: validation loss: 0.642\n",
      "Balanced Accuracy: 63.30%\t auROC: 0.687\t auPRC: 0.701\t auPRG: 0.349\n",
      "Recall at 5%|10%|20% FDR: 3.7%|7.3%|27.2%\t Num Positives: 2775\t Num Negatives: 2775\t \n",
      "\n",
      "Epoch 31/100\n",
      "8950/8950 [==============================] - 0s - loss: 1.1379 - val_loss: 0.6467\n",
      "Epoch 30: validation loss: 0.647\n",
      "Balanced Accuracy: 63.80%\t auROC: 0.688\t auPRC: 0.700\t auPRG: 0.362\n",
      "Recall at 5%|10%|20% FDR: 1.7%|5.7%|26.9%\t Num Positives: 2775\t Num Negatives: 2775\t \n",
      "\n",
      "Epoch 32/100\n",
      "8950/8950 [==============================] - 0s - loss: 1.1354 - val_loss: 0.6445\n",
      "Epoch 31: validation loss: 0.644\n",
      "Balanced Accuracy: 62.41%\t auROC: 0.688\t auPRC: 0.702\t auPRG: 0.355\n",
      "Recall at 5%|10%|20% FDR: 3.3%|9.0%|26.6%\t Num Positives: 2775\t Num Negatives: 2775\t \n",
      "\n",
      "Epoch 33/100\n",
      "8950/8950 [==============================] - 0s - loss: 1.1275 - val_loss: 0.6518\n",
      "Epoch 32: validation loss: 0.652\n",
      "Balanced Accuracy: 63.17%\t auROC: 0.686\t auPRC: 0.701\t auPRG: 0.352\n",
      "Recall at 5%|10%|20% FDR: 4.3%|7.9%|26.7%\t Num Positives: 2775\t Num Negatives: 2775\t \n",
      "\n"
     ]
    }
   ],
   "source": [
    "#validation_data = (X_valid_normalized_subsampled[:, :, :10, :], y_valid_subsampled)\n",
    "#dnn_normalized.train(X_train_normalized_subsampled[:, :, :10, :], y_train_subsampled, validation_data)\n",
    "validation_data = (X_valid_normalized[:, :, :10, :], y_valid)\n",
    "dnn_normalized.train(X_train_normalized[:, :, :10, :], y_train, validation_data)"
   ]
  },
  {
   "cell_type": "code",
   "execution_count": 6,
   "metadata": {
    "collapsed": false
   },
   "outputs": [
    {
     "name": "stdout",
     "output_type": "stream",
     "text": [
      "Balanced Accuracy: 62.70%\t auROC: 0.683\t auPRC: 0.697\t auPRG: 0.339\n",
      "Recall at 5%|10%|20% FDR: 2.8%|4.8%|25.9%\t Num Positives: 1744\t Num Negatives: 1744\t \n"
     ]
    }
   ],
   "source": [
    "print(dnn_normalized.test(X_test_normalized[:, :, :10, :], y_test))"
   ]
  },
  {
   "cell_type": "code",
   "execution_count": 7,
   "metadata": {
    "collapsed": false
   },
   "outputs": [
    {
     "name": "stdout",
     "output_type": "stream",
     "text": [
      "Balanced Accuracy: 70.49%\t auROC: 0.780\t auPRC: 0.787\t auPRG: 0.564\n",
      "Recall at 5%|10%|20% FDR: 16.0%|24.6%|46.7%\t Num Positives: 4475\t Num Negatives: 4475\t \n"
     ]
    }
   ],
   "source": [
    "print(dnn_normalized.test(X_train_normalized[:, :, :10:, :], y_train))"
   ]
  },
  {
   "cell_type": "code",
   "execution_count": 8,
   "metadata": {
    "collapsed": false
   },
   "outputs": [
    {
     "name": "stdout",
     "output_type": "stream",
     "text": [
      "Balanced Accuracy: 63.17%\t auROC: 0.686\t auPRC: 0.701\t auPRG: 0.352\n",
      "Recall at 5%|10%|20% FDR: 4.3%|7.9%|26.7%\t Num Positives: 2775\t Num Negatives: 2775\t \n"
     ]
    }
   ],
   "source": [
    "print(dnn_normalized.test(X_valid_normalized[:, :, :10, :], y_valid))"
   ]
  },
  {
   "cell_type": "code",
   "execution_count": 9,
   "metadata": {
    "collapsed": true
   },
   "outputs": [],
   "source": [
    "pred_probs_test = dnn_normalized.predict(X_test_normalized[:, :, :10, :])\n",
    "#np.save(\"model_predictions/test_set_upperTriangle_noDiag_reads_with_distances_full_valid.npy\", pred_probs_test)\n",
    "pred_probs_valid = dnn_normalized.predict(X_valid_normalized[:, :, :10, :])\n",
    "#np.save(\"model_predictions/valid_set_upperTriangle_noDiag_reads_with_distances_full_valid.npy\", pred_probs_valid)\n",
    "pred_probs_train = dnn_normalized.predict(X_train_normalized[:, :, :10, :])\n",
    "#np.save(\"model_predictions/train_set_upperTriangle_noDiag_reads_with_distances_full_valid.npy\", pred_probs_train)"
   ]
  },
  {
   "cell_type": "markdown",
   "metadata": {},
   "source": [
    "# with genomic locations"
   ]
  },
  {
   "cell_type": "code",
   "execution_count": 10,
   "metadata": {
    "collapsed": true
   },
   "outputs": [],
   "source": [
    "dnn_normalized = LongRangeDNN(num_features=11, use_deep_CNN=True)"
   ]
  },
  {
   "cell_type": "code",
   "execution_count": 11,
   "metadata": {
    "collapsed": false
   },
   "outputs": [
    {
     "name": "stdout",
     "output_type": "stream",
     "text": [
      "Training model...\n",
      "Train on 8950 samples, validate on 5550 samples\n",
      "Epoch 1/100\n",
      "8950/8950 [==============================] - 0s - loss: 1.3572 - val_loss: 0.6655\n",
      "Epoch 0: validation loss: 0.666\n",
      "Balanced Accuracy: 59.84%\t auROC: 0.633\t auPRC: 0.639\t auPRG: 0.247\n",
      "Recall at 5%|10%|20% FDR: 1.3%|1.4%|4.1%\t Num Positives: 2775\t Num Negatives: 2775\t \n",
      "\n",
      "Epoch 2/100\n",
      "8950/8950 [==============================] - 0s - loss: 1.3074 - val_loss: 0.6550\n",
      "Epoch 1: validation loss: 0.655\n",
      "Balanced Accuracy: 61.32%\t auROC: 0.648\t auPRC: 0.662\t auPRG: 0.280\n",
      "Recall at 5%|10%|20% FDR: 2.4%|2.7%|15.4%\t Num Positives: 2775\t Num Negatives: 2775\t \n",
      "\n",
      "Epoch 3/100\n",
      "8950/8950 [==============================] - 0s - loss: 1.2849 - val_loss: 0.6502\n",
      "Epoch 2: validation loss: 0.650\n",
      "Balanced Accuracy: 62.00%\t auROC: 0.655\t auPRC: 0.673\t auPRG: 0.288\n",
      "Recall at 5%|10%|20% FDR: 3.1%|3.4%|20.7%\t Num Positives: 2775\t Num Negatives: 2775\t \n",
      "\n",
      "Epoch 4/100\n",
      "8950/8950 [==============================] - 0s - loss: 1.2700 - val_loss: 0.6502\n",
      "Epoch 3: validation loss: 0.650\n",
      "Balanced Accuracy: 61.68%\t auROC: 0.657\t auPRC: 0.675\t auPRG: 0.290\n",
      "Recall at 5%|10%|20% FDR: 2.4%|4.4%|21.0%\t Num Positives: 2775\t Num Negatives: 2775\t \n",
      "\n",
      "Epoch 5/100\n",
      "8950/8950 [==============================] - 0s - loss: 1.2594 - val_loss: 0.6471\n",
      "Epoch 4: validation loss: 0.647\n",
      "Balanced Accuracy: 62.38%\t auROC: 0.665\t auPRC: 0.684\t auPRG: 0.300\n",
      "Recall at 5%|10%|20% FDR: 3.5%|5.8%|20.8%\t Num Positives: 2775\t Num Negatives: 2775\t \n",
      "\n",
      "Epoch 6/100\n",
      "8950/8950 [==============================] - 0s - loss: 1.2484 - val_loss: 0.6454\n",
      "Epoch 5: validation loss: 0.645\n",
      "Balanced Accuracy: 61.19%\t auROC: 0.665\t auPRC: 0.684\t auPRG: 0.296\n",
      "Recall at 5%|10%|20% FDR: 3.7%|5.9%|25.3%\t Num Positives: 2775\t Num Negatives: 2775\t \n",
      "\n",
      "Epoch 7/100\n",
      "8950/8950 [==============================] - 0s - loss: 1.2405 - val_loss: 0.6443\n",
      "Epoch 6: validation loss: 0.644\n",
      "Balanced Accuracy: 61.37%\t auROC: 0.669\t auPRC: 0.687\t auPRG: 0.304\n",
      "Recall at 5%|10%|20% FDR: 4.2%|5.8%|23.9%\t Num Positives: 2775\t Num Negatives: 2775\t \n",
      "\n",
      "Epoch 8/100\n",
      "8950/8950 [==============================] - 0s - loss: 1.2381 - val_loss: 0.6426\n",
      "Epoch 7: validation loss: 0.643\n",
      "Balanced Accuracy: 61.59%\t auROC: 0.672\t auPRC: 0.690\t auPRG: 0.312\n",
      "Recall at 5%|10%|20% FDR: 1.8%|5.8%|24.2%\t Num Positives: 2775\t Num Negatives: 2775\t \n",
      "\n",
      "Epoch 9/100\n",
      "8950/8950 [==============================] - 0s - loss: 1.2257 - val_loss: 0.6447\n",
      "Epoch 8: validation loss: 0.645\n",
      "Balanced Accuracy: 61.44%\t auROC: 0.674\t auPRC: 0.692\t auPRG: 0.316\n",
      "Recall at 5%|10%|20% FDR: 2.8%|5.7%|25.4%\t Num Positives: 2775\t Num Negatives: 2775\t \n",
      "\n",
      "Epoch 10/100\n",
      "8950/8950 [==============================] - 0s - loss: 1.2212 - val_loss: 0.6464\n",
      "Epoch 9: validation loss: 0.646\n",
      "Balanced Accuracy: 61.75%\t auROC: 0.674\t auPRC: 0.693\t auPRG: 0.314\n",
      "Recall at 5%|10%|20% FDR: 4.5%|6.1%|25.2%\t Num Positives: 2775\t Num Negatives: 2775\t \n",
      "\n",
      "Epoch 11/100\n",
      "8950/8950 [==============================] - 0s - loss: 1.2113 - val_loss: 0.6417\n",
      "Epoch 10: validation loss: 0.642\n",
      "Balanced Accuracy: 62.65%\t auROC: 0.675\t auPRC: 0.693\t auPRG: 0.321\n",
      "Recall at 5%|10%|20% FDR: 4.5%|6.3%|25.7%\t Num Positives: 2775\t Num Negatives: 2775\t \n",
      "\n",
      "Epoch 12/100\n",
      "8950/8950 [==============================] - 0s - loss: 1.2115 - val_loss: 0.6431\n",
      "Epoch 11: validation loss: 0.643\n",
      "Balanced Accuracy: 62.74%\t auROC: 0.676\t auPRC: 0.692\t auPRG: 0.324\n",
      "Recall at 5%|10%|20% FDR: 4.4%|5.6%|24.7%\t Num Positives: 2775\t Num Negatives: 2775\t \n",
      "\n",
      "Epoch 13/100\n",
      "8950/8950 [==============================] - 0s - loss: 1.2022 - val_loss: 0.6403\n",
      "Epoch 12: validation loss: 0.640\n",
      "Balanced Accuracy: 62.90%\t auROC: 0.678\t auPRC: 0.696\t auPRG: 0.328\n",
      "Recall at 5%|10%|20% FDR: 2.4%|6.9%|27.2%\t Num Positives: 2775\t Num Negatives: 2775\t \n",
      "\n",
      "Epoch 14/100\n",
      "8950/8950 [==============================] - 0s - loss: 1.1946 - val_loss: 0.6416\n",
      "Epoch 13: validation loss: 0.642\n",
      "Balanced Accuracy: 61.66%\t auROC: 0.680\t auPRC: 0.699\t auPRG: 0.329\n",
      "Recall at 5%|10%|20% FDR: 4.8%|8.9%|26.9%\t Num Positives: 2775\t Num Negatives: 2775\t \n",
      "\n",
      "Epoch 15/100\n",
      "8950/8950 [==============================] - 0s - loss: 1.1875 - val_loss: 0.6416\n",
      "Epoch 14: validation loss: 0.642\n",
      "Balanced Accuracy: 62.95%\t auROC: 0.682\t auPRC: 0.699\t auPRG: 0.340\n",
      "Recall at 5%|10%|20% FDR: 3.4%|8.9%|26.6%\t Num Positives: 2775\t Num Negatives: 2775\t \n",
      "\n",
      "Epoch 16/100\n",
      "8950/8950 [==============================] - 0s - loss: 1.1853 - val_loss: 0.6426\n",
      "Epoch 15: validation loss: 0.643\n",
      "Balanced Accuracy: 62.36%\t auROC: 0.680\t auPRC: 0.696\t auPRG: 0.333\n",
      "Recall at 5%|10%|20% FDR: 3.7%|7.3%|28.1%\t Num Positives: 2775\t Num Negatives: 2775\t \n",
      "\n",
      "Epoch 17/100\n",
      "8950/8950 [==============================] - 0s - loss: 1.1825 - val_loss: 0.6429\n",
      "Epoch 16: validation loss: 0.643\n",
      "Balanced Accuracy: 62.94%\t auROC: 0.679\t auPRC: 0.697\t auPRG: 0.335\n",
      "Recall at 5%|10%|20% FDR: 5.0%|7.5%|25.5%\t Num Positives: 2775\t Num Negatives: 2775\t \n",
      "\n",
      "Epoch 18/100\n",
      "8950/8950 [==============================] - 0s - loss: 1.1749 - val_loss: 0.6422\n",
      "Epoch 17: validation loss: 0.642\n",
      "Balanced Accuracy: 61.98%\t auROC: 0.681\t auPRC: 0.697\t auPRG: 0.335\n",
      "Recall at 5%|10%|20% FDR: 0.9%|9.9%|23.5%\t Num Positives: 2775\t Num Negatives: 2775\t \n",
      "\n",
      "Epoch 19/100\n",
      "8950/8950 [==============================] - 0s - loss: 1.1671 - val_loss: 0.6457\n",
      "Epoch 18: validation loss: 0.646\n",
      "Balanced Accuracy: 62.49%\t auROC: 0.681\t auPRC: 0.699\t auPRG: 0.336\n",
      "Recall at 5%|10%|20% FDR: 3.0%|8.0%|27.7%\t Num Positives: 2775\t Num Negatives: 2775\t \n",
      "\n",
      "Epoch 20/100\n",
      "8950/8950 [==============================] - 0s - loss: 1.1636 - val_loss: 0.6438\n",
      "Epoch 19: validation loss: 0.644\n",
      "Balanced Accuracy: 63.17%\t auROC: 0.683\t auPRC: 0.698\t auPRG: 0.340\n",
      "Recall at 5%|10%|20% FDR: 1.0%|11.6%|25.4%\t Num Positives: 2775\t Num Negatives: 2775\t \n",
      "\n",
      "Epoch 21/100\n",
      "8950/8950 [==============================] - 0s - loss: 1.1605 - val_loss: 0.6442\n",
      "Epoch 20: validation loss: 0.644\n",
      "Balanced Accuracy: 63.17%\t auROC: 0.684\t auPRC: 0.699\t auPRG: 0.344\n",
      "Recall at 5%|10%|20% FDR: 4.0%|11.0%|24.0%\t Num Positives: 2775\t Num Negatives: 2775\t \n",
      "\n",
      "Epoch 22/100\n",
      "8950/8950 [==============================] - 0s - loss: 1.1512 - val_loss: 0.6438\n",
      "Epoch 21: validation loss: 0.644\n",
      "Balanced Accuracy: 62.52%\t auROC: 0.683\t auPRC: 0.696\t auPRG: 0.340\n",
      "Recall at 5%|10%|20% FDR: 3.2%|8.2%|18.7%\t Num Positives: 2775\t Num Negatives: 2775\t \n",
      "\n",
      "Epoch 23/100\n",
      "8950/8950 [==============================] - 0s - loss: 1.1484 - val_loss: 0.6450\n",
      "Epoch 22: validation loss: 0.645\n",
      "Balanced Accuracy: 62.67%\t auROC: 0.682\t auPRC: 0.698\t auPRG: 0.341\n",
      "Recall at 5%|10%|20% FDR: 3.5%|8.5%|21.3%\t Num Positives: 2775\t Num Negatives: 2775\t \n",
      "\n",
      "Epoch 24/100\n",
      "8950/8950 [==============================] - 0s - loss: 1.1431 - val_loss: 0.6473\n",
      "Epoch 23: validation loss: 0.647\n",
      "Balanced Accuracy: 62.36%\t auROC: 0.683\t auPRC: 0.697\t auPRG: 0.342\n",
      "Recall at 5%|10%|20% FDR: 4.3%|9.6%|23.3%\t Num Positives: 2775\t Num Negatives: 2775\t \n",
      "\n"
     ]
    }
   ],
   "source": [
    "#validation_data = (X_valid_normalized_subsampled[:, :, :11, :], y_valid_subsampled)\n",
    "#dnn_normalized.train(X_train_normalized_subsampled[:, :, :11, :], y_train_subsampled, validation_data)\n",
    "validation_data = (X_valid_normalized[:, :, :11, :], y_valid)\n",
    "dnn_normalized.train(X_train_normalized[:, :, :11, :], y_train, validation_data)"
   ]
  },
  {
   "cell_type": "code",
   "execution_count": 12,
   "metadata": {
    "collapsed": false
   },
   "outputs": [
    {
     "name": "stdout",
     "output_type": "stream",
     "text": [
      "Balanced Accuracy: 63.10%\t auROC: 0.689\t auPRC: 0.692\t auPRG: 0.360\n",
      "Recall at 5%|10%|20% FDR: 0.0%|5.3%|23.8%\t Num Positives: 1744\t Num Negatives: 1744\t \n"
     ]
    }
   ],
   "source": [
    "print(dnn_normalized.test(X_test_normalized[:, :, :11, :], y_test))"
   ]
  },
  {
   "cell_type": "markdown",
   "metadata": {},
   "source": [
    "# with distance only"
   ]
  },
  {
   "cell_type": "code",
   "execution_count": 13,
   "metadata": {
    "collapsed": true
   },
   "outputs": [],
   "source": [
    "dnn_normalized = LongRangeDNN(num_features=1, use_deep_CNN=True)"
   ]
  },
  {
   "cell_type": "code",
   "execution_count": 17,
   "metadata": {
    "collapsed": false
   },
   "outputs": [
    {
     "name": "stdout",
     "output_type": "stream",
     "text": [
      "Training model...\n",
      "Train on 8950 samples, validate on 5550 samples\n",
      "Epoch 1/100\n",
      "8950/8950 [==============================] - 0s - loss: 1.3703 - val_loss: 0.6843\n",
      "Epoch 0: validation loss: 0.684\n",
      "Balanced Accuracy: 55.51%\t auROC: 0.575\t auPRC: 0.567\t auPRG: 0.124\n",
      "Recall at 5%|10%|20% FDR: 0.1%|0.1%|1.4%\t Num Positives: 2775\t Num Negatives: 2775\t \n",
      "\n",
      "Epoch 2/100\n",
      "8950/8950 [==============================] - 0s - loss: 1.3714 - val_loss: 0.6841\n",
      "Epoch 1: validation loss: 0.684\n",
      "Balanced Accuracy: 55.69%\t auROC: 0.577\t auPRC: 0.563\t auPRG: 0.136\n",
      "Recall at 5%|10%|20% FDR: 0.1%|0.1%|0.1%\t Num Positives: 2775\t Num Negatives: 2775\t \n",
      "\n",
      "Epoch 3/100\n",
      "8950/8950 [==============================] - 0s - loss: 1.3696 - val_loss: 0.6844\n",
      "Epoch 2: validation loss: 0.684\n",
      "Balanced Accuracy: 55.44%\t auROC: 0.577\t auPRC: 0.568\t auPRG: 0.136\n",
      "Recall at 5%|10%|20% FDR: 0.3%|0.3%|0.3%\t Num Positives: 2775\t Num Negatives: 2775\t \n",
      "\n",
      "Epoch 4/100\n",
      "8950/8950 [==============================] - 0s - loss: 1.3695 - val_loss: 0.6841\n",
      "Epoch 3: validation loss: 0.684\n",
      "Balanced Accuracy: 55.55%\t auROC: 0.579\t auPRC: 0.569\t auPRG: 0.139\n",
      "Recall at 5%|10%|20% FDR: 0.4%|0.4%|1.7%\t Num Positives: 2775\t Num Negatives: 2775\t \n",
      "\n",
      "Epoch 5/100\n",
      "8950/8950 [==============================] - 0s - loss: 1.3685 - val_loss: 0.6851\n",
      "Epoch 4: validation loss: 0.685\n",
      "Balanced Accuracy: 55.42%\t auROC: 0.576\t auPRC: 0.567\t auPRG: 0.129\n",
      "Recall at 5%|10%|20% FDR: 0.3%|0.3%|0.3%\t Num Positives: 2775\t Num Negatives: 2775\t \n",
      "\n",
      "Epoch 6/100\n",
      "8950/8950 [==============================] - 0s - loss: 1.3699 - val_loss: 0.6842\n",
      "Epoch 5: validation loss: 0.684\n",
      "Balanced Accuracy: 55.41%\t auROC: 0.581\t auPRC: 0.568\t auPRG: 0.155\n",
      "Recall at 5%|10%|20% FDR: 0.1%|0.1%|0.1%\t Num Positives: 2775\t Num Negatives: 2775\t \n",
      "\n",
      "Epoch 7/100\n",
      "8950/8950 [==============================] - 0s - loss: 1.3705 - val_loss: 0.6845\n",
      "Epoch 6: validation loss: 0.684\n",
      "Balanced Accuracy: 55.46%\t auROC: 0.578\t auPRC: 0.567\t auPRG: 0.138\n",
      "Recall at 5%|10%|20% FDR: 0.1%|0.1%|1.2%\t Num Positives: 2775\t Num Negatives: 2775\t \n",
      "\n",
      "Epoch 8/100\n",
      "8950/8950 [==============================] - 0s - loss: 1.3696 - val_loss: 0.6839\n",
      "Epoch 7: validation loss: 0.684\n",
      "Balanced Accuracy: 55.68%\t auROC: 0.581\t auPRC: 0.569\t auPRG: 0.148\n",
      "Recall at 5%|10%|20% FDR: 0.1%|0.1%|1.0%\t Num Positives: 2775\t Num Negatives: 2775\t \n",
      "\n",
      "Epoch 9/100\n",
      "8950/8950 [==============================] - 0s - loss: 1.3694 - val_loss: 0.6842\n",
      "Epoch 8: validation loss: 0.684\n",
      "Balanced Accuracy: 55.41%\t auROC: 0.576\t auPRC: 0.567\t auPRG: 0.139\n",
      "Recall at 5%|10%|20% FDR: 0.2%|0.2%|0.6%\t Num Positives: 2775\t Num Negatives: 2775\t \n",
      "\n",
      "Epoch 10/100\n",
      "8950/8950 [==============================] - 0s - loss: 1.3692 - val_loss: 0.6845\n",
      "Epoch 9: validation loss: 0.685\n",
      "Balanced Accuracy: 55.44%\t auROC: 0.577\t auPRC: 0.566\t auPRG: 0.144\n",
      "Recall at 5%|10%|20% FDR: 0.0%|0.0%|0.0%\t Num Positives: 2775\t Num Negatives: 2775\t \n",
      "\n",
      "Epoch 11/100\n",
      "8950/8950 [==============================] - 0s - loss: 1.3688 - val_loss: 0.6837\n",
      "Epoch 10: validation loss: 0.684\n",
      "Balanced Accuracy: 55.50%\t auROC: 0.579\t auPRC: 0.568\t auPRG: 0.144\n",
      "Recall at 5%|10%|20% FDR: 0.1%|0.1%|0.1%\t Num Positives: 2775\t Num Negatives: 2775\t \n",
      "\n",
      "Epoch 12/100\n",
      "8950/8950 [==============================] - 0s - loss: 1.3683 - val_loss: 0.6840\n",
      "Epoch 11: validation loss: 0.684\n",
      "Balanced Accuracy: 55.32%\t auROC: 0.580\t auPRC: 0.569\t auPRG: 0.145\n",
      "Recall at 5%|10%|20% FDR: 0.2%|0.2%|0.2%\t Num Positives: 2775\t Num Negatives: 2775\t \n",
      "\n",
      "Epoch 13/100\n",
      "8950/8950 [==============================] - 0s - loss: 1.3689 - val_loss: 0.6846\n",
      "Epoch 12: validation loss: 0.685\n",
      "Balanced Accuracy: 55.44%\t auROC: 0.578\t auPRC: 0.565\t auPRG: 0.149\n",
      "Recall at 5%|10%|20% FDR: 0.0%|0.0%|0.0%\t Num Positives: 2775\t Num Negatives: 2775\t \n",
      "\n",
      "Epoch 14/100\n",
      "8950/8950 [==============================] - 0s - loss: 1.3686 - val_loss: 0.6835\n",
      "Epoch 13: validation loss: 0.683\n",
      "Balanced Accuracy: 55.73%\t auROC: 0.581\t auPRC: 0.567\t auPRG: 0.148\n",
      "Recall at 5%|10%|20% FDR: 0.0%|0.0%|0.0%\t Num Positives: 2775\t Num Negatives: 2775\t \n",
      "\n",
      "Epoch 15/100\n",
      "8950/8950 [==============================] - 0s - loss: 1.3685 - val_loss: 0.6840\n",
      "Epoch 14: validation loss: 0.684\n",
      "Balanced Accuracy: 55.39%\t auROC: 0.578\t auPRC: 0.564\t auPRG: 0.154\n",
      "Recall at 5%|10%|20% FDR: 0.3%|0.3%|0.3%\t Num Positives: 2775\t Num Negatives: 2775\t \n",
      "\n",
      "Epoch 16/100\n",
      "8950/8950 [==============================] - 0s - loss: 1.3679 - val_loss: 0.6834\n",
      "Epoch 15: validation loss: 0.683\n",
      "Balanced Accuracy: 55.39%\t auROC: 0.581\t auPRC: 0.567\t auPRG: 0.150\n",
      "Recall at 5%|10%|20% FDR: 0.0%|0.0%|0.0%\t Num Positives: 2775\t Num Negatives: 2775\t \n",
      "\n",
      "Epoch 17/100\n",
      "8950/8950 [==============================] - 0s - loss: 1.3685 - val_loss: 0.6826\n",
      "Epoch 16: validation loss: 0.683\n",
      "Balanced Accuracy: 55.66%\t auROC: 0.585\t auPRC: 0.572\t auPRG: 0.156\n",
      "Recall at 5%|10%|20% FDR: 0.3%|0.3%|0.7%\t Num Positives: 2775\t Num Negatives: 2775\t \n",
      "\n",
      "Epoch 18/100\n",
      "8950/8950 [==============================] - 0s - loss: 1.3671 - val_loss: 0.6839\n",
      "Epoch 17: validation loss: 0.684\n",
      "Balanced Accuracy: 55.35%\t auROC: 0.578\t auPRC: 0.565\t auPRG: 0.151\n",
      "Recall at 5%|10%|20% FDR: 0.3%|0.3%|0.3%\t Num Positives: 2775\t Num Negatives: 2775\t \n",
      "\n",
      "Epoch 19/100\n",
      "8950/8950 [==============================] - 0s - loss: 1.3693 - val_loss: 0.6837\n",
      "Epoch 18: validation loss: 0.684\n",
      "Balanced Accuracy: 55.48%\t auROC: 0.582\t auPRC: 0.567\t auPRG: 0.156\n",
      "Recall at 5%|10%|20% FDR: 0.0%|0.0%|0.0%\t Num Positives: 2775\t Num Negatives: 2775\t \n",
      "\n",
      "Epoch 20/100\n",
      "8950/8950 [==============================] - 0s - loss: 1.3685 - val_loss: 0.6839\n",
      "Epoch 19: validation loss: 0.684\n",
      "Balanced Accuracy: 55.44%\t auROC: 0.579\t auPRC: 0.564\t auPRG: 0.157\n",
      "Recall at 5%|10%|20% FDR: 0.0%|0.0%|0.0%\t Num Positives: 2775\t Num Negatives: 2775\t \n",
      "\n",
      "Epoch 21/100\n",
      "8950/8950 [==============================] - 0s - loss: 1.3686 - val_loss: 0.6838\n",
      "Epoch 20: validation loss: 0.684\n",
      "Balanced Accuracy: 55.46%\t auROC: 0.579\t auPRC: 0.566\t auPRG: 0.150\n",
      "Recall at 5%|10%|20% FDR: 0.0%|0.0%|0.0%\t Num Positives: 2775\t Num Negatives: 2775\t \n",
      "\n",
      "Epoch 22/100\n",
      "8950/8950 [==============================] - 0s - loss: 1.3684 - val_loss: 0.6840\n",
      "Epoch 21: validation loss: 0.684\n",
      "Balanced Accuracy: 55.53%\t auROC: 0.578\t auPRC: 0.565\t auPRG: 0.146\n",
      "Recall at 5%|10%|20% FDR: 0.1%|0.1%|0.1%\t Num Positives: 2775\t Num Negatives: 2775\t \n",
      "\n",
      "Epoch 23/100\n",
      "8950/8950 [==============================] - 0s - loss: 1.3694 - val_loss: 0.6848\n",
      "Epoch 22: validation loss: 0.685\n",
      "Balanced Accuracy: 55.17%\t auROC: 0.576\t auPRC: 0.564\t auPRG: 0.140\n",
      "Recall at 5%|10%|20% FDR: 0.0%|0.0%|0.0%\t Num Positives: 2775\t Num Negatives: 2775\t \n",
      "\n",
      "Epoch 24/100\n",
      "8950/8950 [==============================] - 0s - loss: 1.3691 - val_loss: 0.6839\n",
      "Epoch 23: validation loss: 0.684\n",
      "Balanced Accuracy: 55.39%\t auROC: 0.577\t auPRC: 0.562\t auPRG: 0.148\n",
      "Recall at 5%|10%|20% FDR: 0.0%|0.0%|0.0%\t Num Positives: 2775\t Num Negatives: 2775\t \n",
      "\n",
      "Epoch 25/100\n",
      "8950/8950 [==============================] - 0s - loss: 1.3665 - val_loss: 0.6833\n",
      "Epoch 24: validation loss: 0.683\n",
      "Balanced Accuracy: 55.46%\t auROC: 0.577\t auPRC: 0.565\t auPRG: 0.144\n",
      "Recall at 5%|10%|20% FDR: 0.0%|0.0%|0.0%\t Num Positives: 2775\t Num Negatives: 2775\t \n",
      "\n",
      "Epoch 26/100\n",
      "8950/8950 [==============================] - 0s - loss: 1.3664 - val_loss: 0.6836\n",
      "Epoch 25: validation loss: 0.684\n",
      "Balanced Accuracy: 55.73%\t auROC: 0.577\t auPRC: 0.564\t auPRG: 0.146\n",
      "Recall at 5%|10%|20% FDR: 0.3%|0.3%|0.7%\t Num Positives: 2775\t Num Negatives: 2775\t \n",
      "\n",
      "Epoch 27/100\n",
      "8950/8950 [==============================] - 0s - loss: 1.3667 - val_loss: 0.6836\n",
      "Epoch 26: validation loss: 0.684\n",
      "Balanced Accuracy: 55.48%\t auROC: 0.578\t auPRC: 0.567\t auPRG: 0.146\n",
      "Recall at 5%|10%|20% FDR: 0.3%|0.3%|0.5%\t Num Positives: 2775\t Num Negatives: 2775\t \n",
      "\n",
      "Epoch 28/100\n",
      "8950/8950 [==============================] - 0s - loss: 1.3674 - val_loss: 0.6834\n",
      "Epoch 27: validation loss: 0.683\n",
      "Balanced Accuracy: 55.86%\t auROC: 0.576\t auPRC: 0.563\t auPRG: 0.141\n",
      "Recall at 5%|10%|20% FDR: 0.0%|0.0%|0.0%\t Num Positives: 2775\t Num Negatives: 2775\t \n",
      "\n"
     ]
    }
   ],
   "source": [
    "#validation_data = (X_valid_normalized_subsampled[:, :, :11, :], y_valid_subsampled)\n",
    "#dnn_normalized.train(X_train_normalized_subsampled[:, :, :11, :], y_train_subsampled, validation_data)\n",
    "validation_data = (X_valid_normalized[:, :, 10:, :], y_valid)\n",
    "dnn_normalized.train(X_train_normalized[:, :, 10:, :], y_train, validation_data)"
   ]
  },
  {
   "cell_type": "code",
   "execution_count": 18,
   "metadata": {
    "collapsed": false
   },
   "outputs": [
    {
     "name": "stdout",
     "output_type": "stream",
     "text": [
      "Balanced Accuracy: 56.02%\t auROC: 0.586\t auPRC: 0.569\t auPRG: 0.167\n",
      "Recall at 5%|10%|20% FDR: 0.2%|0.2%|0.3%\t Num Positives: 1744\t Num Negatives: 1744\t \n"
     ]
    }
   ],
   "source": [
    "print(dnn_normalized.test(X_test_normalized[:, :,  10:, :], y_test))"
   ]
  },
  {
   "cell_type": "markdown",
   "metadata": {},
   "source": [
    "# Print prediction"
   ]
  },
  {
   "cell_type": "code",
   "execution_count": 19,
   "metadata": {
    "collapsed": false
   },
   "outputs": [],
   "source": [
    "indx_train = np.load('/users/mtaranov/NN_thres5max/dist_matched/indx_train_thres_3.npy')\n",
    "indx_valid = np.load('/users/mtaranov/NN_thres5max/dist_matched/indx_valid_thres_3.npy')\n",
    "indx_test = np.load ('/users/mtaranov/NN_thres5max/dist_matched/indx_test_thres_3.npy')"
   ]
  },
  {
   "cell_type": "code",
   "execution_count": 20,
   "metadata": {
    "collapsed": false
   },
   "outputs": [],
   "source": [
    "labels_all=(np.concatenate((y_train, y_valid, y_test), axis=0)).astype(int)\n",
    "preds_all=(np.concatenate((pred_probs_train, pred_probs_valid, pred_probs_test), axis=0))\n",
    "indx_all=np.concatenate((indx_train, indx_valid, indx_test), axis=0)\n",
    "\n",
    "labels_chr1 = labels_all[np.ravel(np.where(indx_all[:,2]==1))]\n",
    "preds_chr1 = preds_all[np.ravel(np.where(indx_all[:,2]==1))]\n",
    "indx_chr1 = indx_all[np.ravel(np.where(indx_all[:,2]==1))]"
   ]
  },
  {
   "cell_type": "code",
   "execution_count": 21,
   "metadata": {
    "collapsed": false
   },
   "outputs": [
    {
     "name": "stdout",
     "output_type": "stream",
     "text": [
      "Some tests on adjacency matrix:\n",
      "Some tests on adjacency matrix:\n"
     ]
    }
   ],
   "source": [
    "NumberOfNodes=2272\n",
    "preds_chr1_2d, labels_chr1_2d = get_2D(indx_chr1, preds_chr1, labels_chr1, NumberOfNodes)\n",
    "# preds_test_2d, labels_test_2d = get_2D(indx_test, preds_test, labels_test, NumberOfNodes)"
   ]
  },
  {
   "cell_type": "code",
   "execution_count": 22,
   "metadata": {
    "collapsed": false
   },
   "outputs": [],
   "source": [
    "# printMatrix(preds_chr1_2d, '', 1, 1, title='preds')\n",
    "# printMatrix(labels_chr1_2d, '', 1, 1, title='Captures')"
   ]
  },
  {
   "cell_type": "code",
   "execution_count": 23,
   "metadata": {
    "collapsed": false
   },
   "outputs": [
    {
     "name": "stdout",
     "output_type": "stream",
     "text": [
      "1.0\n",
      "(60, 60)\n",
      "Limit: 1.0\n"
     ]
    },
    {
     "data": {
      "image/png": "[encoded data removed]",
      "text/plain": [
       "<matplotlib.figure.Figure at 0x7fe93115d0d0>"
      ]
     },
     "metadata": {},
     "output_type": "display_data"
    },
    {
     "name": "stdout",
     "output_type": "stream",
     "text": [
      "0.925634324551\n",
      "(60, 60)\n",
      "Limit: 0.925634324551\n"
     ]
    },
    {
     "data": {
      "image/png": "[encoded data removed]",
      "text/plain": [
       "<matplotlib.figure.Figure at 0x7fe92dc562d0>"
      ]
     },
     "metadata": {},
     "output_type": "display_data"
    }
   ],
   "source": [
    "zoomIn_window = (400,460)\n",
    "NumberOfNodes=2272\n",
    "plot_prediction(change_scale(preds_chr1_2d)+change_scale(preds_chr1_2d).T, change_scale(labels_chr1_2d)+change_scale(labels_chr1_2d).T, zoomIn_window, )"
   ]
  },
  {
   "cell_type": "code",
   "execution_count": null,
   "metadata": {
    "collapsed": true
   },
   "outputs": [],
   "source": []
  }
 ],
 "metadata": {
  "kernelspec": {
   "display_name": "Python 2",
   "language": "python",
   "name": "python2"
  },
  "language_info": {
   "codemirror_mode": {
    "name": "ipython",
    "version": 2
   },
   "file_extension": ".py",
   "mimetype": "text/x-python",
   "name": "python",
   "nbconvert_exporter": "python",
   "pygments_lexer": "ipython2",
   "version": "2.7.11"
  }
 },
 "nbformat": 4,
 "nbformat_minor": 0
}
