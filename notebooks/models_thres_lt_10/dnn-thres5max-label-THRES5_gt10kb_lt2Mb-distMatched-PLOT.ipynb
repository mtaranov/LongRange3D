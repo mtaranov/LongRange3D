{
 "cells": [
  {
   "cell_type": "code",
   "execution_count": 1,
   "metadata": {
    "collapsed": false
   },
   "outputs": [
    {
     "name": "stderr",
     "output_type": "stream",
     "text": [
      "Using Theano backend.\n",
      "/users/mtaranov/local/anaconda2/lib/python2.7/site-packages/theano/tensor/signal/downsample.py:6: UserWarning: downsample module has been moved to the theano.tensor.signal.pool module.\n",
      "  \"downsample module has been moved to the theano.tensor.signal.pool module.\")\n"
     ]
    }
   ],
   "source": [
    "%matplotlib inline\n",
    "%load_ext autoreload\n",
    "%autoreload 2\n",
    "\n",
    "import numpy as np\n",
    "import matplotlib.pyplot as plt\n",
    "from sklearn.preprocessing import MinMaxScaler, StandardScaler\n",
    "import copy\n",
    "from models import LongRangeDNN\n",
    "from utils import get_features, get_labels, subsample_data, normalize_features, reconstruct_2d, printMatrix, binarize, zscore, get_2D, plot_prediction, change_scale \n",
    "#from sklearn.preprocessing import MinMaxScaler, StandardScaler\n",
    "#from dragonn.models import Model, SequenceDNN\n",
    "#from keras.models import Sequential\n",
    "#from keras.callbacks import Callback, EarlyStopping\n",
    "#from keras.layers.core import (\n",
    "#    Activation, Dense, Dropout, Flatten,\n",
    "#    Permute, Reshape, TimeDistributedDense\n",
    "#)\n",
    "#from keras.layers.convolutional import Convolution2D, MaxPooling2D\n",
    "#from keras.layers.recurrent import GRU\n",
    "#from keras.regularizers import l1\n",
    "\n",
    "#from deeplift import keras_conversion as kc\n",
    "#from deeplift.blobs import MxtsMode"
   ]
  },
  {
   "cell_type": "code",
   "execution_count": 2,
   "metadata": {
    "collapsed": false
   },
   "outputs": [
    {
     "data": {
      "text/plain": [
       "\"\\nX_train = get_features(data_path+'train_set_upperTriangle_noDiag_reads.npy')\\ny_train = get_labels(data_path+'labels_train_upperTriangle_noDiag.npy')\\nX_valid = get_features(data_path+'vali_set_upperTriangle_noDiag_reads.npy')\\ny_valid = get_labels(data_path+'labels_vali_upperTriangle_noDiag.npy')\\nX_test = get_features(data_path+'test_set_upperTriangle_noDiag_reads.npy')\\ny_test = get_labels(data_path+'labels_test_upperTriangle_noDiag.npy')\\n\\nX_train = get_features('NN_datasets/train_set_all_reads.npy')\\ny_train = get_labels('NN_datasets/labels_train_all.npy')\\nX_valid = get_features('NN_datasets/vali_set_all_reads.npy')\\ny_valid = get_labels('NN_datasets/labels_vali_all.npy')\\nX_test = get_features('NN_datasets/test_set_all_reads.npy')\\ny_test = get_labels('NN_datasets/labels_test_all.npy')\\n\\nX_train_subsampled, y_train_subsampled = subsample_data(X_train, y_train)\\nX_valid_subsampled, y_valid_subsampled = subsample_data(X_valid, y_valid)\\nX_test_subsampled, y_test_subsampled = subsample_data(X_test, y_test)\\n\""
      ]
     },
     "execution_count": 2,
     "metadata": {},
     "output_type": "execute_result"
    }
   ],
   "source": [
    "data_path='/users/mtaranov/NN_all_data/'\n",
    "\n",
    "X_train = get_features('/users/mtaranov/NN_thres5max/dist_matched/X_train_thres_5.npy')\n",
    "y_train = get_labels('/users/mtaranov/NN_thres5max/dist_matched/y_train_thres_5.npy')\n",
    "X_valid = get_features('/users/mtaranov/NN_thres5max/dist_matched/X_valid_thres_5.npy')\n",
    "y_valid = get_labels('/users/mtaranov/NN_thres5max/dist_matched/y_valid_thres_5.npy')\n",
    "X_test = get_features('/users/mtaranov/NN_thres5max/dist_matched/X_test_thres_5.npy')\n",
    "y_test = get_labels('/users/mtaranov/NN_thres5max/dist_matched/y_test_thres_5.npy')\n",
    "\n",
    "\"\"\"\n",
    "X_train = get_features(data_path+'train_set_upperTriangle_noDiag_reads.npy')\n",
    "y_train = get_labels(data_path+'labels_train_upperTriangle_noDiag.npy')\n",
    "X_valid = get_features(data_path+'vali_set_upperTriangle_noDiag_reads.npy')\n",
    "y_valid = get_labels(data_path+'labels_vali_upperTriangle_noDiag.npy')\n",
    "X_test = get_features(data_path+'test_set_upperTriangle_noDiag_reads.npy')\n",
    "y_test = get_labels(data_path+'labels_test_upperTriangle_noDiag.npy')\n",
    "\n",
    "X_train = get_features('NN_datasets/train_set_all_reads.npy')\n",
    "y_train = get_labels('NN_datasets/labels_train_all.npy')\n",
    "X_valid = get_features('NN_datasets/vali_set_all_reads.npy')\n",
    "y_valid = get_labels('NN_datasets/labels_vali_all.npy')\n",
    "X_test = get_features('NN_datasets/test_set_all_reads.npy')\n",
    "y_test = get_labels('NN_datasets/labels_test_all.npy')\n",
    "\n",
    "X_train_subsampled, y_train_subsampled = subsample_data(X_train, y_train)\n",
    "X_valid_subsampled, y_valid_subsampled = subsample_data(X_valid, y_valid)\n",
    "X_test_subsampled, y_test_subsampled = subsample_data(X_test, y_test)\n",
    "\"\"\""
   ]
  },
  {
   "cell_type": "code",
   "execution_count": 3,
   "metadata": {
    "collapsed": false
   },
   "outputs": [],
   "source": [
    "X_train_normalized, X_valid_normalized, X_test_normalized = normalize_features(X_train, X_valid, X_test)\n",
    "\n",
    "#X_train_normalized_subsampled, y_train_subsampled = subsample_data(X_train_normalized, y_train)\n",
    "#X_valid_normalized_subsampled, y_valid_subsampled = subsample_data(X_valid_normalized, y_valid)\n",
    "#X_test_normalized_subsampled, y_test_subsampled = subsample_data(X_test_normalized, y_test)\n",
    "\n",
    "#X_train_scaled_subsampled, y_train_subsampled = subsample_data(X_train_scaled, y_train)\n",
    "#X_valid_scaled_subsampled, y_valid_subsampled = subsample_data(X_valid_scaled, y_valid)\n",
    "#X_test_scaled_subsampled, y_test_subsampled = subsample_data(X_test_scaled, y_test)\n"
   ]
  },
  {
   "cell_type": "markdown",
   "metadata": {},
   "source": [
    "# without distance"
   ]
  },
  {
   "cell_type": "code",
   "execution_count": 4,
   "metadata": {
    "collapsed": true
   },
   "outputs": [],
   "source": [
    "dnn_normalized = LongRangeDNN(num_features=10, use_deep_CNN=True)"
   ]
  },
  {
   "cell_type": "code",
   "execution_count": 5,
   "metadata": {
    "collapsed": false
   },
   "outputs": [
    {
     "name": "stdout",
     "output_type": "stream",
     "text": [
      "Training model...\n",
      "Train on 4408 samples, validate on 2626 samples\n",
      "Epoch 1/100\n",
      "4408/4408 [==============================] - 0s - loss: 1.3709 - val_loss: 0.6740\n",
      "Epoch 0: validation loss: 0.674\n",
      "Balanced Accuracy: 59.60%\t auROC: 0.609\t auPRC: 0.621\t auPRG: 0.167\n",
      "Recall at 5%|10%|20% FDR: 0.1%|0.1%|0.1%\t Num Positives: 1313\t Num Negatives: 1313\t \n",
      "\n",
      "Epoch 2/100\n",
      "4408/4408 [==============================] - 0s - loss: 1.3025 - val_loss: 0.6632\n",
      "Epoch 1: validation loss: 0.663\n",
      "Balanced Accuracy: 59.71%\t auROC: 0.627\t auPRC: 0.642\t auPRG: 0.211\n",
      "Recall at 5%|10%|20% FDR: 0.1%|0.1%|12.3%\t Num Positives: 1313\t Num Negatives: 1313\t \n",
      "\n",
      "Epoch 3/100\n",
      "4408/4408 [==============================] - 0s - loss: 1.2643 - val_loss: 0.6554\n",
      "Epoch 2: validation loss: 0.655\n",
      "Balanced Accuracy: 60.43%\t auROC: 0.648\t auPRC: 0.666\t auPRG: 0.264\n",
      "Recall at 5%|10%|20% FDR: 0.1%|6.9%|15.6%\t Num Positives: 1313\t Num Negatives: 1313\t \n",
      "\n",
      "Epoch 4/100\n",
      "4408/4408 [==============================] - 0s - loss: 1.2409 - val_loss: 0.6525\n",
      "Epoch 3: validation loss: 0.653\n",
      "Balanced Accuracy: 60.81%\t auROC: 0.658\t auPRC: 0.673\t auPRG: 0.295\n",
      "Recall at 5%|10%|20% FDR: 0.1%|7.2%|18.3%\t Num Positives: 1313\t Num Negatives: 1313\t \n",
      "\n",
      "Epoch 5/100\n",
      "4408/4408 [==============================] - 0s - loss: 1.2242 - val_loss: 0.6504\n",
      "Epoch 4: validation loss: 0.650\n",
      "Balanced Accuracy: 60.70%\t auROC: 0.663\t auPRC: 0.677\t auPRG: 0.309\n",
      "Recall at 5%|10%|20% FDR: 0.2%|7.2%|20.3%\t Num Positives: 1313\t Num Negatives: 1313\t \n",
      "\n",
      "Epoch 6/100\n",
      "4408/4408 [==============================] - 0s - loss: 1.2121 - val_loss: 0.6472\n",
      "Epoch 5: validation loss: 0.647\n",
      "Balanced Accuracy: 61.31%\t auROC: 0.667\t auPRC: 0.682\t auPRG: 0.314\n",
      "Recall at 5%|10%|20% FDR: 0.3%|7.2%|22.7%\t Num Positives: 1313\t Num Negatives: 1313\t \n",
      "\n",
      "Epoch 7/100\n",
      "4408/4408 [==============================] - 0s - loss: 1.2002 - val_loss: 0.6498\n",
      "Epoch 6: validation loss: 0.650\n",
      "Balanced Accuracy: 62.49%\t auROC: 0.671\t auPRC: 0.684\t auPRG: 0.326\n",
      "Recall at 5%|10%|20% FDR: 0.2%|8.5%|20.8%\t Num Positives: 1313\t Num Negatives: 1313\t \n",
      "\n",
      "Epoch 8/100\n",
      "4408/4408 [==============================] - 0s - loss: 1.1903 - val_loss: 0.6436\n",
      "Epoch 7: validation loss: 0.644\n",
      "Balanced Accuracy: 62.49%\t auROC: 0.675\t auPRC: 0.689\t auPRG: 0.332\n",
      "Recall at 5%|10%|20% FDR: 0.2%|8.4%|23.5%\t Num Positives: 1313\t Num Negatives: 1313\t \n",
      "\n",
      "Epoch 9/100\n",
      "4408/4408 [==============================] - 0s - loss: 1.1799 - val_loss: 0.6435\n",
      "Epoch 8: validation loss: 0.644\n",
      "Balanced Accuracy: 62.76%\t auROC: 0.677\t auPRC: 0.691\t auPRG: 0.341\n",
      "Recall at 5%|10%|20% FDR: 1.7%|8.5%|24.3%\t Num Positives: 1313\t Num Negatives: 1313\t \n",
      "\n",
      "Epoch 10/100\n",
      "4408/4408 [==============================] - 0s - loss: 1.1718 - val_loss: 0.6399\n",
      "Epoch 9: validation loss: 0.640\n",
      "Balanced Accuracy: 63.56%\t auROC: 0.680\t auPRC: 0.695\t auPRG: 0.345\n",
      "Recall at 5%|10%|20% FDR: 1.6%|8.5%|24.2%\t Num Positives: 1313\t Num Negatives: 1313\t \n",
      "\n",
      "Epoch 11/100\n",
      "4408/4408 [==============================] - 0s - loss: 1.1669 - val_loss: 0.6410\n",
      "Epoch 10: validation loss: 0.641\n",
      "Balanced Accuracy: 64.05%\t auROC: 0.684\t auPRC: 0.697\t auPRG: 0.358\n",
      "Recall at 5%|10%|20% FDR: 1.4%|8.5%|24.5%\t Num Positives: 1313\t Num Negatives: 1313\t \n",
      "\n",
      "Epoch 12/100\n",
      "4408/4408 [==============================] - 0s - loss: 1.1556 - val_loss: 0.6423\n",
      "Epoch 11: validation loss: 0.642\n",
      "Balanced Accuracy: 63.10%\t auROC: 0.688\t auPRC: 0.700\t auPRG: 0.367\n",
      "Recall at 5%|10%|20% FDR: 3.7%|8.8%|24.4%\t Num Positives: 1313\t Num Negatives: 1313\t \n",
      "\n",
      "Epoch 13/100\n",
      "4408/4408 [==============================] - 0s - loss: 1.1498 - val_loss: 0.6419\n",
      "Epoch 12: validation loss: 0.642\n",
      "Balanced Accuracy: 63.79%\t auROC: 0.689\t auPRC: 0.703\t auPRG: 0.360\n",
      "Recall at 5%|10%|20% FDR: 3.5%|9.4%|24.8%\t Num Positives: 1313\t Num Negatives: 1313\t \n",
      "\n",
      "Epoch 14/100\n",
      "4408/4408 [==============================] - 0s - loss: 1.1404 - val_loss: 0.6395\n",
      "Epoch 13: validation loss: 0.639\n",
      "Balanced Accuracy: 63.71%\t auROC: 0.692\t auPRC: 0.706\t auPRG: 0.371\n",
      "Recall at 5%|10%|20% FDR: 5.1%|9.5%|25.6%\t Num Positives: 1313\t Num Negatives: 1313\t \n",
      "\n",
      "Epoch 15/100\n",
      "4408/4408 [==============================] - 0s - loss: 1.1338 - val_loss: 0.6351\n",
      "Epoch 14: validation loss: 0.635\n",
      "Balanced Accuracy: 64.09%\t auROC: 0.691\t auPRC: 0.705\t auPRG: 0.368\n",
      "Recall at 5%|10%|20% FDR: 0.9%|9.1%|26.2%\t Num Positives: 1313\t Num Negatives: 1313\t \n",
      "\n",
      "Epoch 16/100\n",
      "4408/4408 [==============================] - 0s - loss: 1.1195 - val_loss: 0.6390\n",
      "Epoch 15: validation loss: 0.639\n",
      "Balanced Accuracy: 63.63%\t auROC: 0.693\t auPRC: 0.707\t auPRG: 0.370\n",
      "Recall at 5%|10%|20% FDR: 3.7%|9.3%|26.5%\t Num Positives: 1313\t Num Negatives: 1313\t \n",
      "\n",
      "Epoch 17/100\n",
      "4408/4408 [==============================] - 0s - loss: 1.1124 - val_loss: 0.6410\n",
      "Epoch 16: validation loss: 0.641\n",
      "Balanced Accuracy: 63.90%\t auROC: 0.691\t auPRC: 0.704\t auPRG: 0.365\n",
      "Recall at 5%|10%|20% FDR: 3.3%|8.7%|25.7%\t Num Positives: 1313\t Num Negatives: 1313\t \n",
      "\n",
      "Epoch 18/100\n",
      "4408/4408 [==============================] - 0s - loss: 1.1057 - val_loss: 0.6423\n",
      "Epoch 17: validation loss: 0.642\n",
      "Balanced Accuracy: 64.17%\t auROC: 0.694\t auPRC: 0.708\t auPRG: 0.370\n",
      "Recall at 5%|10%|20% FDR: 5.9%|8.7%|26.5%\t Num Positives: 1313\t Num Negatives: 1313\t \n",
      "\n",
      "Epoch 19/100\n",
      "4408/4408 [==============================] - 0s - loss: 1.0927 - val_loss: 0.6374\n",
      "Epoch 18: validation loss: 0.637\n",
      "Balanced Accuracy: 64.17%\t auROC: 0.695\t auPRC: 0.711\t auPRG: 0.370\n",
      "Recall at 5%|10%|20% FDR: 5.1%|9.8%|30.6%\t Num Positives: 1313\t Num Negatives: 1313\t \n",
      "\n",
      "Epoch 20/100\n",
      "4408/4408 [==============================] - 0s - loss: 1.0861 - val_loss: 0.6414\n",
      "Epoch 19: validation loss: 0.641\n",
      "Balanced Accuracy: 64.05%\t auROC: 0.697\t auPRC: 0.712\t auPRG: 0.378\n",
      "Recall at 5%|10%|20% FDR: 5.1%|9.2%|28.9%\t Num Positives: 1313\t Num Negatives: 1313\t \n",
      "\n",
      "Epoch 21/100\n",
      "4408/4408 [==============================] - 0s - loss: 1.0755 - val_loss: 0.6452\n",
      "Epoch 20: validation loss: 0.645\n",
      "Balanced Accuracy: 63.98%\t auROC: 0.697\t auPRC: 0.711\t auPRG: 0.375\n",
      "Recall at 5%|10%|20% FDR: 4.9%|9.4%|27.9%\t Num Positives: 1313\t Num Negatives: 1313\t \n",
      "\n",
      "Epoch 22/100\n",
      "4408/4408 [==============================] - 0s - loss: 1.0684 - val_loss: 0.6387\n",
      "Epoch 21: validation loss: 0.639\n",
      "Balanced Accuracy: 64.43%\t auROC: 0.696\t auPRC: 0.713\t auPRG: 0.372\n",
      "Recall at 5%|10%|20% FDR: 5.0%|7.9%|30.5%\t Num Positives: 1313\t Num Negatives: 1313\t \n",
      "\n",
      "Epoch 23/100\n",
      "4408/4408 [==============================] - 0s - loss: 1.0588 - val_loss: 0.6504\n",
      "Epoch 22: validation loss: 0.650\n",
      "Balanced Accuracy: 63.86%\t auROC: 0.698\t auPRC: 0.714\t auPRG: 0.379\n",
      "Recall at 5%|10%|20% FDR: 4.9%|9.7%|30.3%\t Num Positives: 1313\t Num Negatives: 1313\t \n",
      "\n",
      "Epoch 24/100\n",
      "4408/4408 [==============================] - 0s - loss: 1.0547 - val_loss: 0.6467\n",
      "Epoch 23: validation loss: 0.647\n",
      "Balanced Accuracy: 64.28%\t auROC: 0.698\t auPRC: 0.715\t auPRG: 0.377\n",
      "Recall at 5%|10%|20% FDR: 5.3%|9.9%|30.2%\t Num Positives: 1313\t Num Negatives: 1313\t \n",
      "\n",
      "Epoch 25/100\n",
      "4408/4408 [==============================] - 0s - loss: 1.0449 - val_loss: 0.6470\n",
      "Epoch 24: validation loss: 0.647\n",
      "Balanced Accuracy: 63.98%\t auROC: 0.695\t auPRC: 0.713\t auPRG: 0.367\n",
      "Recall at 5%|10%|20% FDR: 4.6%|12.0%|30.8%\t Num Positives: 1313\t Num Negatives: 1313\t \n",
      "\n",
      "Epoch 26/100\n",
      "4408/4408 [==============================] - 0s - loss: 1.0387 - val_loss: 0.6462\n",
      "Epoch 25: validation loss: 0.646\n",
      "Balanced Accuracy: 63.94%\t auROC: 0.693\t auPRC: 0.711\t auPRG: 0.364\n",
      "Recall at 5%|10%|20% FDR: 5.2%|11.9%|28.0%\t Num Positives: 1313\t Num Negatives: 1313\t \n",
      "\n"
     ]
    }
   ],
   "source": [
    "#validation_data = (X_valid_normalized_subsampled[:, :, :10, :], y_valid_subsampled)\n",
    "#dnn_normalized.train(X_train_normalized_subsampled[:, :, :10, :], y_train_subsampled, validation_data)\n",
    "validation_data = (X_valid_normalized[:, :, :10, :], y_valid)\n",
    "dnn_normalized.train(X_train_normalized[:, :, :10, :], y_train, validation_data)"
   ]
  },
  {
   "cell_type": "code",
   "execution_count": 6,
   "metadata": {
    "collapsed": false
   },
   "outputs": [
    {
     "name": "stdout",
     "output_type": "stream",
     "text": [
      "Balanced Accuracy: 63.73%\t auROC: 0.710\t auPRC: 0.733\t auPRG: 0.386\n",
      "Recall at 5%|10%|20% FDR: 2.9%|22.5%|38.5%\t Num Positives: 816\t Num Negatives: 816\t \n"
     ]
    }
   ],
   "source": [
    "print(dnn_normalized.test(X_test_normalized[:, :, :10, :], y_test))"
   ]
  },
  {
   "cell_type": "code",
   "execution_count": 7,
   "metadata": {
    "collapsed": false
   },
   "outputs": [
    {
     "name": "stdout",
     "output_type": "stream",
     "text": [
      "Balanced Accuracy: 74.14%\t auROC: 0.825\t auPRC: 0.835\t auPRG: 0.668\n",
      "Recall at 5%|10%|20% FDR: 23.9%|41.4%|63.4%\t Num Positives: 2204\t Num Negatives: 2204\t \n"
     ]
    }
   ],
   "source": [
    "print(dnn_normalized.test(X_train_normalized[:, :, :10:, :], y_train))"
   ]
  },
  {
   "cell_type": "code",
   "execution_count": 8,
   "metadata": {
    "collapsed": false
   },
   "outputs": [
    {
     "name": "stdout",
     "output_type": "stream",
     "text": [
      "Balanced Accuracy: 63.94%\t auROC: 0.693\t auPRC: 0.711\t auPRG: 0.364\n",
      "Recall at 5%|10%|20% FDR: 5.2%|11.9%|28.0%\t Num Positives: 1313\t Num Negatives: 1313\t \n"
     ]
    }
   ],
   "source": [
    "print(dnn_normalized.test(X_valid_normalized[:, :, :10, :], y_valid))"
   ]
  },
  {
   "cell_type": "code",
   "execution_count": 9,
   "metadata": {
    "collapsed": true
   },
   "outputs": [],
   "source": [
    "pred_probs_test = dnn_normalized.predict(X_test_normalized[:, :, :10, :])\n",
    "#np.save(\"model_predictions/test_set_upperTriangle_noDiag_reads_with_distances_full_valid.npy\", pred_probs_test)\n",
    "pred_probs_valid = dnn_normalized.predict(X_valid_normalized[:, :, :10, :])\n",
    "#np.save(\"model_predictions/valid_set_upperTriangle_noDiag_reads_with_distances_full_valid.npy\", pred_probs_valid)\n",
    "pred_probs_train = dnn_normalized.predict(X_train_normalized[:, :, :10, :])\n",
    "#np.save(\"model_predictions/train_set_upperTriangle_noDiag_reads_with_distances_full_valid.npy\", pred_probs_train)"
   ]
  },
  {
   "cell_type": "markdown",
   "metadata": {},
   "source": [
    "# with genomic locations"
   ]
  },
  {
   "cell_type": "code",
   "execution_count": 10,
   "metadata": {
    "collapsed": true
   },
   "outputs": [],
   "source": [
    "dnn_normalized = LongRangeDNN(num_features=11, use_deep_CNN=True)"
   ]
  },
  {
   "cell_type": "code",
   "execution_count": 11,
   "metadata": {
    "collapsed": false
   },
   "outputs": [
    {
     "name": "stdout",
     "output_type": "stream",
     "text": [
      "Training model...\n",
      "Train on 4408 samples, validate on 2626 samples\n",
      "Epoch 1/100\n",
      "4408/4408 [==============================] - 0s - loss: 1.3778 - val_loss: 0.6807\n",
      "Epoch 0: validation loss: 0.681\n",
      "Balanced Accuracy: 57.46%\t auROC: 0.606\t auPRC: 0.614\t auPRG: 0.191\n",
      "Recall at 5%|10%|20% FDR: 1.0%|1.2%|6.2%\t Num Positives: 1313\t Num Negatives: 1313\t \n",
      "\n",
      "Epoch 2/100\n",
      "4408/4408 [==============================] - 0s - loss: 1.3379 - val_loss: 0.6634\n",
      "Epoch 1: validation loss: 0.663\n",
      "Balanced Accuracy: 60.59%\t auROC: 0.642\t auPRC: 0.644\t auPRG: 0.272\n",
      "Recall at 5%|10%|20% FDR: 0.2%|3.5%|6.5%\t Num Positives: 1313\t Num Negatives: 1313\t \n",
      "\n",
      "Epoch 3/100\n",
      "4408/4408 [==============================] - 0s - loss: 1.3027 - val_loss: 0.6526\n",
      "Epoch 2: validation loss: 0.653\n",
      "Balanced Accuracy: 62.99%\t auROC: 0.661\t auPRC: 0.664\t auPRG: 0.323\n",
      "Recall at 5%|10%|20% FDR: 0.5%|4.1%|13.9%\t Num Positives: 1313\t Num Negatives: 1313\t \n",
      "\n",
      "Epoch 4/100\n",
      "4408/4408 [==============================] - 0s - loss: 1.2681 - val_loss: 0.6459\n",
      "Epoch 3: validation loss: 0.646\n",
      "Balanced Accuracy: 62.64%\t auROC: 0.675\t auPRC: 0.681\t auPRG: 0.340\n",
      "Recall at 5%|10%|20% FDR: 4.4%|7.0%|18.6%\t Num Positives: 1313\t Num Negatives: 1313\t \n",
      "\n",
      "Epoch 5/100\n",
      "4408/4408 [==============================] - 0s - loss: 1.2393 - val_loss: 0.6392\n",
      "Epoch 4: validation loss: 0.639\n",
      "Balanced Accuracy: 62.64%\t auROC: 0.684\t auPRC: 0.692\t auPRG: 0.353\n",
      "Recall at 5%|10%|20% FDR: 4.7%|9.2%|16.6%\t Num Positives: 1313\t Num Negatives: 1313\t \n",
      "\n",
      "Epoch 6/100\n",
      "4408/4408 [==============================] - 0s - loss: 1.2162 - val_loss: 0.6344\n",
      "Epoch 5: validation loss: 0.634\n",
      "Balanced Accuracy: 63.29%\t auROC: 0.689\t auPRC: 0.696\t auPRG: 0.361\n",
      "Recall at 5%|10%|20% FDR: 3.2%|9.8%|17.5%\t Num Positives: 1313\t Num Negatives: 1313\t \n",
      "\n",
      "Epoch 7/100\n",
      "4408/4408 [==============================] - 0s - loss: 1.2018 - val_loss: 0.6387\n",
      "Epoch 6: validation loss: 0.639\n",
      "Balanced Accuracy: 63.06%\t auROC: 0.694\t auPRC: 0.696\t auPRG: 0.372\n",
      "Recall at 5%|10%|20% FDR: 0.2%|8.4%|16.8%\t Num Positives: 1313\t Num Negatives: 1313\t \n",
      "\n",
      "Epoch 8/100\n",
      "4408/4408 [==============================] - 0s - loss: 1.1861 - val_loss: 0.6309\n",
      "Epoch 7: validation loss: 0.631\n",
      "Balanced Accuracy: 63.10%\t auROC: 0.697\t auPRC: 0.699\t auPRG: 0.378\n",
      "Recall at 5%|10%|20% FDR: 2.8%|6.9%|18.1%\t Num Positives: 1313\t Num Negatives: 1313\t \n",
      "\n",
      "Epoch 9/100\n",
      "4408/4408 [==============================] - 0s - loss: 1.1788 - val_loss: 0.6265\n",
      "Epoch 8: validation loss: 0.627\n",
      "Balanced Accuracy: 63.98%\t auROC: 0.701\t auPRC: 0.706\t auPRG: 0.387\n",
      "Recall at 5%|10%|20% FDR: 3.8%|9.1%|17.2%\t Num Positives: 1313\t Num Negatives: 1313\t \n",
      "\n",
      "Epoch 10/100\n",
      "4408/4408 [==============================] - 0s - loss: 1.1592 - val_loss: 0.6290\n",
      "Epoch 9: validation loss: 0.629\n",
      "Balanced Accuracy: 64.01%\t auROC: 0.704\t auPRC: 0.709\t auPRG: 0.392\n",
      "Recall at 5%|10%|20% FDR: 3.4%|7.2%|26.0%\t Num Positives: 1313\t Num Negatives: 1313\t \n",
      "\n",
      "Epoch 11/100\n",
      "4408/4408 [==============================] - 0s - loss: 1.1510 - val_loss: 0.6254\n",
      "Epoch 10: validation loss: 0.625\n",
      "Balanced Accuracy: 64.89%\t auROC: 0.707\t auPRC: 0.712\t auPRG: 0.402\n",
      "Recall at 5%|10%|20% FDR: 4.2%|8.3%|27.6%\t Num Positives: 1313\t Num Negatives: 1313\t \n",
      "\n",
      "Epoch 12/100\n",
      "4408/4408 [==============================] - 0s - loss: 1.1384 - val_loss: 0.6235\n",
      "Epoch 11: validation loss: 0.624\n",
      "Balanced Accuracy: 64.47%\t auROC: 0.708\t auPRC: 0.715\t auPRG: 0.401\n",
      "Recall at 5%|10%|20% FDR: 3.1%|10.4%|29.4%\t Num Positives: 1313\t Num Negatives: 1313\t \n",
      "\n",
      "Epoch 13/100\n",
      "4408/4408 [==============================] - 0s - loss: 1.1300 - val_loss: 0.6253\n",
      "Epoch 12: validation loss: 0.625\n",
      "Balanced Accuracy: 64.55%\t auROC: 0.710\t auPRC: 0.719\t auPRG: 0.404\n",
      "Recall at 5%|10%|20% FDR: 6.2%|11.2%|30.7%\t Num Positives: 1313\t Num Negatives: 1313\t \n",
      "\n",
      "Epoch 14/100\n",
      "4408/4408 [==============================] - 0s - loss: 1.1188 - val_loss: 0.6204\n",
      "Epoch 13: validation loss: 0.620\n",
      "Balanced Accuracy: 65.19%\t auROC: 0.713\t auPRC: 0.719\t auPRG: 0.415\n",
      "Recall at 5%|10%|20% FDR: 0.5%|10.4%|30.4%\t Num Positives: 1313\t Num Negatives: 1313\t \n",
      "\n",
      "Epoch 15/100\n",
      "4408/4408 [==============================] - 0s - loss: 1.1113 - val_loss: 0.6213\n",
      "Epoch 14: validation loss: 0.621\n",
      "Balanced Accuracy: 64.93%\t auROC: 0.715\t auPRC: 0.723\t auPRG: 0.418\n",
      "Recall at 5%|10%|20% FDR: 0.8%|11.2%|30.2%\t Num Positives: 1313\t Num Negatives: 1313\t \n",
      "\n",
      "Epoch 16/100\n",
      "4408/4408 [==============================] - 0s - loss: 1.0988 - val_loss: 0.6206\n",
      "Epoch 15: validation loss: 0.621\n",
      "Balanced Accuracy: 64.85%\t auROC: 0.716\t auPRC: 0.726\t auPRG: 0.414\n",
      "Recall at 5%|10%|20% FDR: 6.4%|9.7%|31.6%\t Num Positives: 1313\t Num Negatives: 1313\t \n",
      "\n",
      "Epoch 17/100\n",
      "4408/4408 [==============================] - 0s - loss: 1.0896 - val_loss: 0.6232\n",
      "Epoch 16: validation loss: 0.623\n",
      "Balanced Accuracy: 65.19%\t auROC: 0.717\t auPRC: 0.726\t auPRG: 0.417\n",
      "Recall at 5%|10%|20% FDR: 6.5%|10.9%|30.3%\t Num Positives: 1313\t Num Negatives: 1313\t \n",
      "\n",
      "Epoch 18/100\n",
      "4408/4408 [==============================] - 0s - loss: 1.0844 - val_loss: 0.6224\n",
      "Epoch 17: validation loss: 0.622\n",
      "Balanced Accuracy: 64.66%\t auROC: 0.715\t auPRC: 0.727\t auPRG: 0.413\n",
      "Recall at 5%|10%|20% FDR: 7.4%|13.2%|32.3%\t Num Positives: 1313\t Num Negatives: 1313\t \n",
      "\n",
      "Epoch 19/100\n",
      "4408/4408 [==============================] - 0s - loss: 1.0775 - val_loss: 0.6218\n",
      "Epoch 18: validation loss: 0.622\n",
      "Balanced Accuracy: 65.27%\t auROC: 0.716\t auPRC: 0.726\t auPRG: 0.414\n",
      "Recall at 5%|10%|20% FDR: 7.5%|11.2%|31.3%\t Num Positives: 1313\t Num Negatives: 1313\t \n",
      "\n",
      "Epoch 20/100\n",
      "4408/4408 [==============================] - 0s - loss: 1.0707 - val_loss: 0.6290\n",
      "Epoch 19: validation loss: 0.629\n",
      "Balanced Accuracy: 64.74%\t auROC: 0.716\t auPRC: 0.725\t auPRG: 0.416\n",
      "Recall at 5%|10%|20% FDR: 0.9%|9.3%|31.9%\t Num Positives: 1313\t Num Negatives: 1313\t \n",
      "\n",
      "Epoch 21/100\n",
      "4408/4408 [==============================] - 0s - loss: 1.0684 - val_loss: 0.6283\n",
      "Epoch 20: validation loss: 0.628\n",
      "Balanced Accuracy: 64.81%\t auROC: 0.716\t auPRC: 0.725\t auPRG: 0.416\n",
      "Recall at 5%|10%|20% FDR: 6.4%|9.1%|31.6%\t Num Positives: 1313\t Num Negatives: 1313\t \n",
      "\n",
      "Epoch 22/100\n",
      "4408/4408 [==============================] - 0s - loss: 1.0531 - val_loss: 0.6235\n",
      "Epoch 21: validation loss: 0.623\n",
      "Balanced Accuracy: 64.78%\t auROC: 0.717\t auPRC: 0.729\t auPRG: 0.418\n",
      "Recall at 5%|10%|20% FDR: 5.9%|14.2%|34.2%\t Num Positives: 1313\t Num Negatives: 1313\t \n",
      "\n",
      "Epoch 23/100\n",
      "4408/4408 [==============================] - 0s - loss: 1.0428 - val_loss: 0.6305\n",
      "Epoch 22: validation loss: 0.630\n",
      "Balanced Accuracy: 64.62%\t auROC: 0.717\t auPRC: 0.731\t auPRG: 0.415\n",
      "Recall at 5%|10%|20% FDR: 6.4%|12.5%|35.1%\t Num Positives: 1313\t Num Negatives: 1313\t \n",
      "\n",
      "Epoch 24/100\n",
      "4408/4408 [==============================] - 0s - loss: 1.0372 - val_loss: 0.6294\n",
      "Epoch 23: validation loss: 0.629\n",
      "Balanced Accuracy: 64.47%\t auROC: 0.714\t auPRC: 0.729\t auPRG: 0.411\n",
      "Recall at 5%|10%|20% FDR: 6.2%|14.8%|34.0%\t Num Positives: 1313\t Num Negatives: 1313\t \n",
      "\n",
      "Epoch 25/100\n",
      "4408/4408 [==============================] - 0s - loss: 1.0300 - val_loss: 0.6336\n",
      "Epoch 24: validation loss: 0.634\n",
      "Balanced Accuracy: 64.97%\t auROC: 0.717\t auPRC: 0.732\t auPRG: 0.415\n",
      "Recall at 5%|10%|20% FDR: 6.2%|13.6%|34.2%\t Num Positives: 1313\t Num Negatives: 1313\t \n",
      "\n"
     ]
    }
   ],
   "source": [
    "#validation_data = (X_valid_normalized_subsampled[:, :, :11, :], y_valid_subsampled)\n",
    "#dnn_normalized.train(X_train_normalized_subsampled[:, :, :11, :], y_train_subsampled, validation_data)\n",
    "validation_data = (X_valid_normalized[:, :, :11, :], y_valid)\n",
    "dnn_normalized.train(X_train_normalized[:, :, :11, :], y_train, validation_data)"
   ]
  },
  {
   "cell_type": "code",
   "execution_count": 12,
   "metadata": {
    "collapsed": false
   },
   "outputs": [
    {
     "name": "stdout",
     "output_type": "stream",
     "text": [
      "Balanced Accuracy: 65.75%\t auROC: 0.728\t auPRC: 0.759\t auPRG: 0.425\n",
      "Recall at 5%|10%|20% FDR: 17.8%|28.1%|40.6%\t Num Positives: 816\t Num Negatives: 816\t \n"
     ]
    }
   ],
   "source": [
    "print(dnn_normalized.test(X_test_normalized[:, :, :11, :], y_test))"
   ]
  },
  {
   "cell_type": "markdown",
   "metadata": {},
   "source": [
    "# with distance only"
   ]
  },
  {
   "cell_type": "code",
   "execution_count": 13,
   "metadata": {
    "collapsed": true
   },
   "outputs": [],
   "source": [
    "dnn_normalized = LongRangeDNN(num_features=1, use_deep_CNN=True)"
   ]
  },
  {
   "cell_type": "code",
   "execution_count": 14,
   "metadata": {
    "collapsed": false
   },
   "outputs": [
    {
     "name": "stdout",
     "output_type": "stream",
     "text": [
      "Training model...\n",
      "Train on 4408 samples, validate on 2626 samples\n",
      "Epoch 1/100\n",
      "4408/4408 [==============================] - 0s - loss: 1.3942 - val_loss: 0.6882\n",
      "Epoch 0: validation loss: 0.688\n",
      "Balanced Accuracy: 56.32%\t auROC: 0.583\t auPRC: 0.569\t auPRG: 0.146\n",
      "Recall at 5%|10%|20% FDR: 0.1%|0.1%|0.1%\t Num Positives: 1313\t Num Negatives: 1313\t \n",
      "\n",
      "Epoch 2/100\n",
      "4408/4408 [==============================] - 0s - loss: 1.3777 - val_loss: 0.6845\n",
      "Epoch 1: validation loss: 0.685\n",
      "Balanced Accuracy: 57.01%\t auROC: 0.583\t auPRC: 0.569\t auPRG: 0.145\n",
      "Recall at 5%|10%|20% FDR: 0.0%|0.0%|0.0%\t Num Positives: 1313\t Num Negatives: 1313\t \n",
      "\n",
      "Epoch 3/100\n",
      "4408/4408 [==============================] - 0s - loss: 1.3748 - val_loss: 0.6828\n",
      "Epoch 2: validation loss: 0.683\n",
      "Balanced Accuracy: 56.82%\t auROC: 0.583\t auPRC: 0.569\t auPRG: 0.145\n",
      "Recall at 5%|10%|20% FDR: 0.0%|0.0%|0.0%\t Num Positives: 1313\t Num Negatives: 1313\t \n",
      "\n",
      "Epoch 4/100\n",
      "4408/4408 [==============================] - 0s - loss: 1.3740 - val_loss: 0.6825\n",
      "Epoch 3: validation loss: 0.683\n",
      "Balanced Accuracy: 56.70%\t auROC: 0.583\t auPRC: 0.569\t auPRG: 0.146\n",
      "Recall at 5%|10%|20% FDR: 0.0%|0.0%|0.0%\t Num Positives: 1313\t Num Negatives: 1313\t \n",
      "\n",
      "Epoch 5/100\n",
      "4408/4408 [==============================] - 0s - loss: 1.3748 - val_loss: 0.6832\n",
      "Epoch 4: validation loss: 0.683\n",
      "Balanced Accuracy: 56.70%\t auROC: 0.583\t auPRC: 0.569\t auPRG: 0.145\n",
      "Recall at 5%|10%|20% FDR: 0.0%|0.0%|0.0%\t Num Positives: 1313\t Num Negatives: 1313\t \n",
      "\n",
      "Epoch 6/100\n",
      "4408/4408 [==============================] - 0s - loss: 1.3743 - val_loss: 0.6831\n",
      "Epoch 5: validation loss: 0.683\n",
      "Balanced Accuracy: 57.01%\t auROC: 0.583\t auPRC: 0.569\t auPRG: 0.146\n",
      "Recall at 5%|10%|20% FDR: 0.0%|0.0%|0.0%\t Num Positives: 1313\t Num Negatives: 1313\t \n",
      "\n",
      "Epoch 7/100\n",
      "4408/4408 [==============================] - 0s - loss: 1.3737 - val_loss: 0.6824\n",
      "Epoch 6: validation loss: 0.682\n",
      "Balanced Accuracy: 57.39%\t auROC: 0.583\t auPRC: 0.569\t auPRG: 0.145\n",
      "Recall at 5%|10%|20% FDR: 0.0%|0.0%|0.0%\t Num Positives: 1313\t Num Negatives: 1313\t \n",
      "\n",
      "Epoch 8/100\n",
      "4408/4408 [==============================] - 0s - loss: 1.3734 - val_loss: 0.6826\n",
      "Epoch 7: validation loss: 0.683\n",
      "Balanced Accuracy: 57.27%\t auROC: 0.583\t auPRC: 0.569\t auPRG: 0.145\n",
      "Recall at 5%|10%|20% FDR: 0.0%|0.0%|0.0%\t Num Positives: 1313\t Num Negatives: 1313\t \n",
      "\n",
      "Epoch 9/100\n",
      "4408/4408 [==============================] - 0s - loss: 1.3732 - val_loss: 0.6825\n",
      "Epoch 8: validation loss: 0.682\n",
      "Balanced Accuracy: 57.16%\t auROC: 0.583\t auPRC: 0.569\t auPRG: 0.145\n",
      "Recall at 5%|10%|20% FDR: 0.0%|0.0%|0.0%\t Num Positives: 1313\t Num Negatives: 1313\t \n",
      "\n",
      "Epoch 10/100\n",
      "4408/4408 [==============================] - 0s - loss: 1.3734 - val_loss: 0.6823\n",
      "Epoch 9: validation loss: 0.682\n",
      "Balanced Accuracy: 57.20%\t auROC: 0.583\t auPRC: 0.569\t auPRG: 0.145\n",
      "Recall at 5%|10%|20% FDR: 0.0%|0.0%|0.0%\t Num Positives: 1313\t Num Negatives: 1313\t \n",
      "\n",
      "Epoch 11/100\n",
      "4408/4408 [==============================] - 0s - loss: 1.3732 - val_loss: 0.6822\n",
      "Epoch 10: validation loss: 0.682\n",
      "Balanced Accuracy: 57.24%\t auROC: 0.583\t auPRC: 0.569\t auPRG: 0.145\n",
      "Recall at 5%|10%|20% FDR: 0.0%|0.0%|0.0%\t Num Positives: 1313\t Num Negatives: 1313\t \n",
      "\n",
      "Epoch 12/100\n",
      "4408/4408 [==============================] - 0s - loss: 1.3733 - val_loss: 0.6828\n",
      "Epoch 11: validation loss: 0.683\n",
      "Balanced Accuracy: 57.27%\t auROC: 0.583\t auPRC: 0.569\t auPRG: 0.145\n",
      "Recall at 5%|10%|20% FDR: 0.0%|0.0%|0.0%\t Num Positives: 1313\t Num Negatives: 1313\t \n",
      "\n",
      "Epoch 13/100\n",
      "4408/4408 [==============================] - 0s - loss: 1.3732 - val_loss: 0.6823\n",
      "Epoch 12: validation loss: 0.682\n",
      "Balanced Accuracy: 57.31%\t auROC: 0.583\t auPRC: 0.569\t auPRG: 0.146\n",
      "Recall at 5%|10%|20% FDR: 0.0%|0.0%|0.0%\t Num Positives: 1313\t Num Negatives: 1313\t \n",
      "\n",
      "Epoch 14/100\n",
      "4408/4408 [==============================] - 0s - loss: 1.3731 - val_loss: 0.6822\n",
      "Epoch 13: validation loss: 0.682\n",
      "Balanced Accuracy: 57.24%\t auROC: 0.583\t auPRC: 0.569\t auPRG: 0.145\n",
      "Recall at 5%|10%|20% FDR: 0.0%|0.0%|0.0%\t Num Positives: 1313\t Num Negatives: 1313\t \n",
      "\n",
      "Epoch 15/100\n",
      "4408/4408 [==============================] - 0s - loss: 1.3727 - val_loss: 0.6821\n",
      "Epoch 14: validation loss: 0.682\n",
      "Balanced Accuracy: 57.35%\t auROC: 0.584\t auPRC: 0.569\t auPRG: 0.145\n",
      "Recall at 5%|10%|20% FDR: 0.0%|0.0%|0.0%\t Num Positives: 1313\t Num Negatives: 1313\t \n",
      "\n",
      "Epoch 16/100\n",
      "4408/4408 [==============================] - 0s - loss: 1.3739 - val_loss: 0.6824\n",
      "Epoch 15: validation loss: 0.682\n",
      "Balanced Accuracy: 57.35%\t auROC: 0.583\t auPRC: 0.569\t auPRG: 0.145\n",
      "Recall at 5%|10%|20% FDR: 0.0%|0.0%|0.0%\t Num Positives: 1313\t Num Negatives: 1313\t \n",
      "\n",
      "Epoch 17/100\n",
      "4408/4408 [==============================] - 0s - loss: 1.3727 - val_loss: 0.6817\n",
      "Epoch 16: validation loss: 0.682\n",
      "Balanced Accuracy: 57.31%\t auROC: 0.583\t auPRC: 0.569\t auPRG: 0.144\n",
      "Recall at 5%|10%|20% FDR: 0.0%|0.0%|0.0%\t Num Positives: 1313\t Num Negatives: 1313\t \n",
      "\n",
      "Epoch 18/100\n",
      "4408/4408 [==============================] - 0s - loss: 1.3734 - val_loss: 0.6823\n",
      "Epoch 17: validation loss: 0.682\n",
      "Balanced Accuracy: 57.31%\t auROC: 0.584\t auPRC: 0.569\t auPRG: 0.147\n",
      "Recall at 5%|10%|20% FDR: 0.0%|0.0%|0.0%\t Num Positives: 1313\t Num Negatives: 1313\t \n",
      "\n",
      "Epoch 19/100\n",
      "4408/4408 [==============================] - 0s - loss: 1.3725 - val_loss: 0.6819\n",
      "Epoch 18: validation loss: 0.682\n",
      "Balanced Accuracy: 57.35%\t auROC: 0.583\t auPRC: 0.569\t auPRG: 0.146\n",
      "Recall at 5%|10%|20% FDR: 0.0%|0.0%|0.0%\t Num Positives: 1313\t Num Negatives: 1313\t \n",
      "\n",
      "Epoch 20/100\n",
      "4408/4408 [==============================] - 0s - loss: 1.3725 - val_loss: 0.6817\n",
      "Epoch 19: validation loss: 0.682\n",
      "Balanced Accuracy: 57.35%\t auROC: 0.584\t auPRC: 0.569\t auPRG: 0.145\n",
      "Recall at 5%|10%|20% FDR: 0.0%|0.0%|0.0%\t Num Positives: 1313\t Num Negatives: 1313\t \n",
      "\n",
      "Epoch 21/100\n",
      "4408/4408 [==============================] - 0s - loss: 1.3723 - val_loss: 0.6825\n",
      "Epoch 20: validation loss: 0.682\n",
      "Balanced Accuracy: 57.35%\t auROC: 0.583\t auPRC: 0.569\t auPRG: 0.145\n",
      "Recall at 5%|10%|20% FDR: 0.0%|0.0%|0.0%\t Num Positives: 1313\t Num Negatives: 1313\t \n",
      "\n",
      "Epoch 22/100\n",
      "4408/4408 [==============================] - 0s - loss: 1.3727 - val_loss: 0.6825\n",
      "Epoch 21: validation loss: 0.682\n",
      "Balanced Accuracy: 57.35%\t auROC: 0.583\t auPRC: 0.569\t auPRG: 0.145\n",
      "Recall at 5%|10%|20% FDR: 0.0%|0.0%|0.0%\t Num Positives: 1313\t Num Negatives: 1313\t \n",
      "\n",
      "Epoch 23/100\n",
      "4408/4408 [==============================] - 0s - loss: 1.3719 - val_loss: 0.6818\n",
      "Epoch 22: validation loss: 0.682\n",
      "Balanced Accuracy: 57.31%\t auROC: 0.582\t auPRC: 0.569\t auPRG: 0.144\n",
      "Recall at 5%|10%|20% FDR: 0.0%|0.0%|0.0%\t Num Positives: 1313\t Num Negatives: 1313\t \n",
      "\n",
      "Epoch 24/100\n",
      "4408/4408 [==============================] - 0s - loss: 1.3733 - val_loss: 0.6818\n",
      "Epoch 23: validation loss: 0.682\n",
      "Balanced Accuracy: 57.35%\t auROC: 0.583\t auPRC: 0.569\t auPRG: 0.143\n",
      "Recall at 5%|10%|20% FDR: 0.0%|0.0%|0.0%\t Num Positives: 1313\t Num Negatives: 1313\t \n",
      "\n",
      "Epoch 25/100\n",
      "4408/4408 [==============================] - 0s - loss: 1.3719 - val_loss: 0.6822\n",
      "Epoch 24: validation loss: 0.682\n",
      "Balanced Accuracy: 57.35%\t auROC: 0.583\t auPRC: 0.569\t auPRG: 0.144\n",
      "Recall at 5%|10%|20% FDR: 0.0%|0.0%|0.0%\t Num Positives: 1313\t Num Negatives: 1313\t \n",
      "\n",
      "Epoch 26/100\n",
      "4408/4408 [==============================] - 0s - loss: 1.3721 - val_loss: 0.6822\n",
      "Epoch 25: validation loss: 0.682\n",
      "Balanced Accuracy: 57.31%\t auROC: 0.582\t auPRC: 0.569\t auPRG: 0.143\n",
      "Recall at 5%|10%|20% FDR: 0.0%|0.0%|0.0%\t Num Positives: 1313\t Num Negatives: 1313\t \n",
      "\n",
      "Epoch 27/100\n",
      "4408/4408 [==============================] - 0s - loss: 1.3718 - val_loss: 0.6818\n",
      "Epoch 26: validation loss: 0.682\n",
      "Balanced Accuracy: 57.35%\t auROC: 0.583\t auPRC: 0.569\t auPRG: 0.145\n",
      "Recall at 5%|10%|20% FDR: 0.0%|0.0%|0.0%\t Num Positives: 1313\t Num Negatives: 1313\t \n",
      "\n",
      "Epoch 28/100\n",
      "4408/4408 [==============================] - 0s - loss: 1.3720 - val_loss: 0.6816\n",
      "Epoch 27: validation loss: 0.682\n",
      "Balanced Accuracy: 57.31%\t auROC: 0.583\t auPRC: 0.569\t auPRG: 0.143\n",
      "Recall at 5%|10%|20% FDR: 0.0%|0.0%|0.0%\t Num Positives: 1313\t Num Negatives: 1313\t \n",
      "\n",
      "Epoch 29/100\n",
      "4408/4408 [==============================] - 0s - loss: 1.3719 - val_loss: 0.6821\n",
      "Epoch 28: validation loss: 0.682\n",
      "Balanced Accuracy: 57.35%\t auROC: 0.583\t auPRC: 0.569\t auPRG: 0.145\n",
      "Recall at 5%|10%|20% FDR: 0.0%|0.0%|0.0%\t Num Positives: 1313\t Num Negatives: 1313\t \n",
      "\n",
      "Epoch 30/100\n",
      "4408/4408 [==============================] - 0s - loss: 1.3719 - val_loss: 0.6819\n",
      "Epoch 29: validation loss: 0.682\n",
      "Balanced Accuracy: 57.39%\t auROC: 0.583\t auPRC: 0.569\t auPRG: 0.146\n",
      "Recall at 5%|10%|20% FDR: 0.0%|0.0%|0.0%\t Num Positives: 1313\t Num Negatives: 1313\t \n",
      "\n",
      "Epoch 31/100\n",
      "4408/4408 [==============================] - 0s - loss: 1.3719 - val_loss: 0.6816\n",
      "Epoch 30: validation loss: 0.682\n",
      "Balanced Accuracy: 57.35%\t auROC: 0.582\t auPRC: 0.569\t auPRG: 0.141\n",
      "Recall at 5%|10%|20% FDR: 0.0%|0.0%|0.0%\t Num Positives: 1313\t Num Negatives: 1313\t \n",
      "\n",
      "Epoch 32/100\n",
      "4408/4408 [==============================] - 0s - loss: 1.3727 - val_loss: 0.6819\n",
      "Epoch 31: validation loss: 0.682\n",
      "Balanced Accuracy: 57.35%\t auROC: 0.583\t auPRC: 0.570\t auPRG: 0.143\n",
      "Recall at 5%|10%|20% FDR: 0.1%|0.1%|0.1%\t Num Positives: 1313\t Num Negatives: 1313\t \n",
      "\n",
      "Epoch 33/100\n",
      "4408/4408 [==============================] - 0s - loss: 1.3723 - val_loss: 0.6828\n",
      "Epoch 32: validation loss: 0.683\n",
      "Balanced Accuracy: 57.31%\t auROC: 0.573\t auPRC: 0.550\t auPRG: 0.142\n",
      "Recall at 5%|10%|20% FDR: 0.0%|0.0%|0.0%\t Num Positives: 1313\t Num Negatives: 1313\t \n",
      "\n",
      "Epoch 34/100\n",
      "4408/4408 [==============================] - 0s - loss: 1.3724 - val_loss: 0.6817\n",
      "Epoch 33: validation loss: 0.682\n",
      "Balanced Accuracy: 57.31%\t auROC: 0.583\t auPRC: 0.569\t auPRG: 0.147\n",
      "Recall at 5%|10%|20% FDR: 0.0%|0.0%|0.0%\t Num Positives: 1313\t Num Negatives: 1313\t \n",
      "\n",
      "Epoch 35/100\n",
      "4408/4408 [==============================] - 0s - loss: 1.3724 - val_loss: 0.6824\n",
      "Epoch 34: validation loss: 0.682\n",
      "Balanced Accuracy: 57.31%\t auROC: 0.582\t auPRC: 0.568\t auPRG: 0.142\n",
      "Recall at 5%|10%|20% FDR: 0.0%|0.0%|0.0%\t Num Positives: 1313\t Num Negatives: 1313\t \n",
      "\n",
      "Epoch 36/100\n",
      "4408/4408 [==============================] - 0s - loss: 1.3718 - val_loss: 0.6816\n",
      "Epoch 35: validation loss: 0.682\n",
      "Balanced Accuracy: 57.35%\t auROC: 0.583\t auPRC: 0.569\t auPRG: 0.144\n",
      "Recall at 5%|10%|20% FDR: 0.0%|0.0%|0.0%\t Num Positives: 1313\t Num Negatives: 1313\t \n",
      "\n",
      "Epoch 37/100\n",
      "4408/4408 [==============================] - 0s - loss: 1.3721 - val_loss: 0.6819\n",
      "Epoch 36: validation loss: 0.682\n",
      "Balanced Accuracy: 57.31%\t auROC: 0.583\t auPRC: 0.569\t auPRG: 0.144\n",
      "Recall at 5%|10%|20% FDR: 0.0%|0.0%|0.0%\t Num Positives: 1313\t Num Negatives: 1313\t \n",
      "\n",
      "Epoch 38/100\n",
      "4408/4408 [==============================] - 0s - loss: 1.3715 - val_loss: 0.6819\n",
      "Epoch 37: validation loss: 0.682\n",
      "Balanced Accuracy: 57.35%\t auROC: 0.583\t auPRC: 0.569\t auPRG: 0.147\n",
      "Recall at 5%|10%|20% FDR: 0.0%|0.0%|0.0%\t Num Positives: 1313\t Num Negatives: 1313\t \n",
      "\n",
      "Epoch 39/100\n",
      "4408/4408 [==============================] - 0s - loss: 1.3716 - val_loss: 0.6819\n",
      "Epoch 38: validation loss: 0.682\n",
      "Balanced Accuracy: 57.35%\t auROC: 0.582\t auPRC: 0.569\t auPRG: 0.142\n",
      "Recall at 5%|10%|20% FDR: 0.0%|0.0%|0.0%\t Num Positives: 1313\t Num Negatives: 1313\t \n",
      "\n",
      "Epoch 40/100\n",
      "4408/4408 [==============================] - 0s - loss: 1.3729 - val_loss: 0.6820\n",
      "Epoch 39: validation loss: 0.682\n",
      "Balanced Accuracy: 57.35%\t auROC: 0.583\t auPRC: 0.569\t auPRG: 0.145\n",
      "Recall at 5%|10%|20% FDR: 0.0%|0.0%|0.0%\t Num Positives: 1313\t Num Negatives: 1313\t \n",
      "\n",
      "Epoch 41/100\n",
      "4408/4408 [==============================] - 0s - loss: 1.3717 - val_loss: 0.6815\n",
      "Epoch 40: validation loss: 0.682\n",
      "Balanced Accuracy: 57.35%\t auROC: 0.583\t auPRC: 0.569\t auPRG: 0.146\n",
      "Recall at 5%|10%|20% FDR: 0.0%|0.0%|0.0%\t Num Positives: 1313\t Num Negatives: 1313\t \n",
      "\n",
      "Epoch 42/100\n",
      "4408/4408 [==============================] - 0s - loss: 1.3714 - val_loss: 0.6818\n",
      "Epoch 41: validation loss: 0.682\n",
      "Balanced Accuracy: 57.35%\t auROC: 0.584\t auPRC: 0.569\t auPRG: 0.147\n",
      "Recall at 5%|10%|20% FDR: 0.0%|0.0%|0.0%\t Num Positives: 1313\t Num Negatives: 1313\t \n",
      "\n",
      "Epoch 43/100\n",
      "4408/4408 [==============================] - 0s - loss: 1.3721 - val_loss: 0.6820\n",
      "Epoch 42: validation loss: 0.682\n",
      "Balanced Accuracy: 57.31%\t auROC: 0.583\t auPRC: 0.569\t auPRG: 0.144\n",
      "Recall at 5%|10%|20% FDR: 0.0%|0.0%|0.0%\t Num Positives: 1313\t Num Negatives: 1313\t \n",
      "\n",
      "Epoch 44/100\n",
      "4408/4408 [==============================] - 0s - loss: 1.3718 - val_loss: 0.6819\n",
      "Epoch 43: validation loss: 0.682\n",
      "Balanced Accuracy: 57.35%\t auROC: 0.583\t auPRC: 0.569\t auPRG: 0.145\n",
      "Recall at 5%|10%|20% FDR: 0.0%|0.0%|0.0%\t Num Positives: 1313\t Num Negatives: 1313\t \n",
      "\n",
      "Epoch 45/100\n",
      "4408/4408 [==============================] - 0s - loss: 1.3716 - val_loss: 0.6824\n",
      "Epoch 44: validation loss: 0.682\n",
      "Balanced Accuracy: 57.24%\t auROC: 0.583\t auPRC: 0.569\t auPRG: 0.143\n",
      "Recall at 5%|10%|20% FDR: 0.0%|0.0%|0.0%\t Num Positives: 1313\t Num Negatives: 1313\t \n",
      "\n",
      "Epoch 46/100\n",
      "4408/4408 [==============================] - 0s - loss: 1.3726 - val_loss: 0.6818\n",
      "Epoch 45: validation loss: 0.682\n",
      "Balanced Accuracy: 57.31%\t auROC: 0.584\t auPRC: 0.569\t auPRG: 0.148\n",
      "Recall at 5%|10%|20% FDR: 0.0%|0.0%|0.0%\t Num Positives: 1313\t Num Negatives: 1313\t \n",
      "\n",
      "Epoch 47/100\n",
      "4408/4408 [==============================] - 0s - loss: 1.3716 - val_loss: 0.6822\n",
      "Epoch 46: validation loss: 0.682\n",
      "Balanced Accuracy: 57.35%\t auROC: 0.584\t auPRC: 0.569\t auPRG: 0.149\n",
      "Recall at 5%|10%|20% FDR: 0.0%|0.0%|0.0%\t Num Positives: 1313\t Num Negatives: 1313\t \n",
      "\n",
      "Epoch 48/100\n",
      "4408/4408 [==============================] - 0s - loss: 1.3721 - val_loss: 0.6818\n",
      "Epoch 47: validation loss: 0.682\n",
      "Balanced Accuracy: 57.35%\t auROC: 0.583\t auPRC: 0.569\t auPRG: 0.144\n",
      "Recall at 5%|10%|20% FDR: 0.0%|0.0%|0.0%\t Num Positives: 1313\t Num Negatives: 1313\t \n",
      "\n",
      "Epoch 49/100\n",
      "4408/4408 [==============================] - 0s - loss: 1.3718 - val_loss: 0.6818\n",
      "Epoch 48: validation loss: 0.682\n",
      "Balanced Accuracy: 57.35%\t auROC: 0.584\t auPRC: 0.569\t auPRG: 0.146\n",
      "Recall at 5%|10%|20% FDR: 0.0%|0.0%|0.0%\t Num Positives: 1313\t Num Negatives: 1313\t \n",
      "\n",
      "Epoch 50/100\n",
      "4408/4408 [==============================] - 0s - loss: 1.3714 - val_loss: 0.6820\n",
      "Epoch 49: validation loss: 0.682\n",
      "Balanced Accuracy: 57.35%\t auROC: 0.583\t auPRC: 0.569\t auPRG: 0.147\n",
      "Recall at 5%|10%|20% FDR: 0.0%|0.0%|0.0%\t Num Positives: 1313\t Num Negatives: 1313\t \n",
      "\n",
      "Epoch 51/100\n",
      "4408/4408 [==============================] - 0s - loss: 1.3716 - val_loss: 0.6822\n",
      "Epoch 50: validation loss: 0.682\n",
      "Balanced Accuracy: 57.35%\t auROC: 0.582\t auPRC: 0.567\t auPRG: 0.148\n",
      "Recall at 5%|10%|20% FDR: 0.0%|0.0%|0.0%\t Num Positives: 1313\t Num Negatives: 1313\t \n",
      "\n",
      "Epoch 52/100\n",
      "4408/4408 [==============================] - 0s - loss: 1.3714 - val_loss: 0.6816\n",
      "Epoch 51: validation loss: 0.682\n",
      "Balanced Accuracy: 57.35%\t auROC: 0.584\t auPRC: 0.569\t auPRG: 0.149\n",
      "Recall at 5%|10%|20% FDR: 0.0%|0.0%|0.0%\t Num Positives: 1313\t Num Negatives: 1313\t \n",
      "\n"
     ]
    }
   ],
   "source": [
    "#validation_data = (X_valid_normalized_subsampled[:, :, :11, :], y_valid_subsampled)\n",
    "#dnn_normalized.train(X_train_normalized_subsampled[:, :, :11, :], y_train_subsampled, validation_data)\n",
    "validation_data = (X_valid_normalized[:, :, 10:, :], y_valid)\n",
    "dnn_normalized.train(X_train_normalized[:, :, 10:, :], y_train, validation_data)"
   ]
  },
  {
   "cell_type": "code",
   "execution_count": 15,
   "metadata": {
    "collapsed": false
   },
   "outputs": [
    {
     "name": "stdout",
     "output_type": "stream",
     "text": [
      "Balanced Accuracy: 56.99%\t auROC: 0.598\t auPRC: 0.562\t auPRG: 0.187\n",
      "Recall at 5%|10%|20% FDR: 0.0%|0.0%|0.0%\t Num Positives: 816\t Num Negatives: 816\t \n"
     ]
    }
   ],
   "source": [
    "print(dnn_normalized.test(X_test_normalized[:, :,  10:, :], y_test))"
   ]
  },
  {
   "cell_type": "markdown",
   "metadata": {},
   "source": [
    "# Print prediction"
   ]
  },
  {
   "cell_type": "code",
   "execution_count": 16,
   "metadata": {
    "collapsed": false
   },
   "outputs": [],
   "source": [
    "indx_train = np.load('/users/mtaranov/NN_thres5max/dist_matched/indx_train_thres_5.npy')\n",
    "indx_valid = np.load('/users/mtaranov/NN_thres5max/dist_matched/indx_valid_thres_5.npy')\n",
    "indx_test = np.load ('/users/mtaranov/NN_thres5max/dist_matched/indx_test_thres_5.npy')"
   ]
  },
  {
   "cell_type": "code",
   "execution_count": 17,
   "metadata": {
    "collapsed": false
   },
   "outputs": [],
   "source": [
    "labels_all=(np.concatenate((y_train, y_valid, y_test), axis=0)).astype(int)\n",
    "preds_all=(np.concatenate((pred_probs_train, pred_probs_valid, pred_probs_test), axis=0))\n",
    "indx_all=np.concatenate((indx_train, indx_valid, indx_test), axis=0)\n",
    "\n",
    "labels_chr1 = labels_all[np.ravel(np.where(indx_all[:,2]==1))]\n",
    "preds_chr1 = preds_all[np.ravel(np.where(indx_all[:,2]==1))]\n",
    "indx_chr1 = indx_all[np.ravel(np.where(indx_all[:,2]==1))]"
   ]
  },
  {
   "cell_type": "code",
   "execution_count": 18,
   "metadata": {
    "collapsed": false
   },
   "outputs": [
    {
     "name": "stdout",
     "output_type": "stream",
     "text": [
      "Some tests on adjacency matrix:\n",
      "Some tests on adjacency matrix:\n"
     ]
    }
   ],
   "source": [
    "NumberOfNodes=2272\n",
    "preds_chr1_2d, labels_chr1_2d = get_2D(indx_chr1, preds_chr1, labels_chr1, NumberOfNodes)\n",
    "# preds_test_2d, labels_test_2d = get_2D(indx_test, preds_test, labels_test, NumberOfNodes)"
   ]
  },
  {
   "cell_type": "code",
   "execution_count": 19,
   "metadata": {
    "collapsed": false
   },
   "outputs": [],
   "source": [
    "# printMatrix(preds_chr1_2d, '', 1, 1, title='preds')\n",
    "# printMatrix(labels_chr1_2d, '', 1, 1, title='Captures')"
   ]
  },
  {
   "cell_type": "code",
   "execution_count": 20,
   "metadata": {
    "collapsed": false
   },
   "outputs": [
    {
     "name": "stdout",
     "output_type": "stream",
     "text": [
      "1.0\n",
      "(60, 60)\n",
      "Limit: 1.0\n"
     ]
    },
    {
     "data": {
      "image/png": "[encoded data removed]",
      "text/plain": [
       "<matplotlib.figure.Figure at 0x7f30cac46850>"
      ]
     },
     "metadata": {},
     "output_type": "display_data"
    },
    {
     "name": "stdout",
     "output_type": "stream",
     "text": [
      "0.968100845814\n",
      "(60, 60)\n",
      "Limit: 0.968100845814\n"
     ]
    },
    {
     "data": {
      "image/png": "[encoded data removed]",
      "text/plain": [
       "<matplotlib.figure.Figure at 0x7f30c886b750>"
      ]
     },
     "metadata": {},
     "output_type": "display_data"
    }
   ],
   "source": [
    "zoomIn_window = (400,460)\n",
    "NumberOfNodes=2272\n",
    "plot_prediction(change_scale(preds_chr1_2d)+change_scale(preds_chr1_2d).T, change_scale(labels_chr1_2d)+change_scale(labels_chr1_2d).T, zoomIn_window, )"
   ]
  },
  {
   "cell_type": "code",
   "execution_count": null,
   "metadata": {
    "collapsed": true
   },
   "outputs": [],
   "source": []
  }
 ],
 "metadata": {
  "kernelspec": {
   "display_name": "Python 2",
   "language": "python",
   "name": "python2"
  },
  "language_info": {
   "codemirror_mode": {
    "name": "ipython",
    "version": 2
   },
   "file_extension": ".py",
   "mimetype": "text/x-python",
   "name": "python",
   "nbconvert_exporter": "python",
   "pygments_lexer": "ipython2",
   "version": "2.7.11"
  }
 },
 "nbformat": 4,
 "nbformat_minor": 0
}
