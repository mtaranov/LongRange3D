{
 "cells": [
  {
   "cell_type": "code",
   "execution_count": 93,
   "metadata": {
    "collapsed": false
   },
   "outputs": [
    {
     "name": "stdout",
     "output_type": "stream",
     "text": [
      "The autoreload extension is already loaded. To reload it, use:\n",
      "  %reload_ext autoreload\n"
     ]
    }
   ],
   "source": [
    "%matplotlib inline\n",
    "%load_ext autoreload\n",
    "%autoreload 2\n",
    "\n",
    "import numpy as np\n",
    "import matplotlib.pyplot as plt\n",
    "from sklearn.preprocessing import MinMaxScaler, StandardScaler\n",
    "import copy\n",
    "from models import LongRangeDNN\n",
    "from utils import get_features, get_labels, subsample_data, normalize_features, reconstruct_2d, printMatrix, binarize, zscore, get_2D, plot_prediction, change_scale\n",
    "#from sklearn.preprocessing import MinMaxScaler, StandardScaler\n",
    "#from dragonn.models import Model, SequenceDNN\n",
    "#from keras.models import Sequential\n",
    "#from keras.callbacks import Callback, EarlyStopping\n",
    "#from keras.layers.core import (\n",
    "#    Activation, Dense, Dropout, Flatten,\n",
    "#    Permute, Reshape, TimeDistributedDense\n",
    "#)\n",
    "#from keras.layers.convolutional import Convolution2D, MaxPooling2D\n",
    "#from keras.layers.recurrent import GRU\n",
    "#from keras.regularizers import l1\n",
    "\n",
    "#from deeplift import keras_conversion as kc\n",
    "#from deeplift.blobs import MxtsMode"
   ]
  },
  {
   "cell_type": "code",
   "execution_count": 123,
   "metadata": {
    "collapsed": false
   },
   "outputs": [
    {
     "data": {
      "text/plain": [
       "\"\\nX_train = get_features(data_path+'train_set_upperTriangle_noDiag_reads.npy')\\ny_train = get_labels(data_path+'labels_train_upperTriangle_noDiag.npy')\\nX_valid = get_features(data_path+'vali_set_upperTriangle_noDiag_reads.npy')\\ny_valid = get_labels(data_path+'labels_vali_upperTriangle_noDiag.npy')\\nX_test = get_features(data_path+'test_set_upperTriangle_noDiag_reads.npy')\\ny_test = get_labels(data_path+'labels_test_upperTriangle_noDiag.npy')\\n\\nX_train = get_features('NN_datasets/train_set_all_reads.npy')\\ny_train = get_labels('NN_datasets/labels_train_all.npy')\\nX_valid = get_features('NN_datasets/vali_set_all_reads.npy')\\ny_valid = get_labels('NN_datasets/labels_vali_all.npy')\\nX_test = get_features('NN_datasets/test_set_all_reads.npy')\\ny_test = get_labels('NN_datasets/labels_test_all.npy')\\n\\nX_train_subsampled, y_train_subsampled = subsample_data(X_train, y_train)\\nX_valid_subsampled, y_valid_subsampled = subsample_data(X_valid, y_valid)\\nX_test_subsampled, y_test_subsampled = subsample_data(X_test, y_test)\\n\""
      ]
     },
     "execution_count": 123,
     "metadata": {},
     "output_type": "execute_result"
    }
   ],
   "source": [
    "data_path='/users/mtaranov/NN_all_data/'\n",
    "\n",
    "X_train = get_features('/users/mtaranov/NN_thres5max_datasets/dist_matched_chr/X_train_thres_10_chr.npy')\n",
    "y_train = get_labels('/users/mtaranov/NN_thres5max_datasets/dist_matched_chr/y_train_thres_10_chr.npy')\n",
    "X_valid = get_features('/users/mtaranov/NN_thres5max_datasets/dist_matched_chr/X_valid_thres_10_chr.npy')\n",
    "y_valid = get_labels('/users/mtaranov/NN_thres5max_datasets/dist_matched_chr/y_valid_thres_10_chr.npy')\n",
    "X_test = get_features('/users/mtaranov/NN_thres5max_datasets/dist_matched_chr/X_test_thres_10_chr.npy')\n",
    "y_test = get_labels('/users/mtaranov/NN_thres5max_datasets/dist_matched_chr/y_test_thres_10_chr.npy')\n",
    "\n",
    "\n",
    "\"\"\"\n",
    "X_train = get_features(data_path+'train_set_upperTriangle_noDiag_reads.npy')\n",
    "y_train = get_labels(data_path+'labels_train_upperTriangle_noDiag.npy')\n",
    "X_valid = get_features(data_path+'vali_set_upperTriangle_noDiag_reads.npy')\n",
    "y_valid = get_labels(data_path+'labels_vali_upperTriangle_noDiag.npy')\n",
    "X_test = get_features(data_path+'test_set_upperTriangle_noDiag_reads.npy')\n",
    "y_test = get_labels(data_path+'labels_test_upperTriangle_noDiag.npy')\n",
    "\n",
    "X_train = get_features('NN_datasets/train_set_all_reads.npy')\n",
    "y_train = get_labels('NN_datasets/labels_train_all.npy')\n",
    "X_valid = get_features('NN_datasets/vali_set_all_reads.npy')\n",
    "y_valid = get_labels('NN_datasets/labels_vali_all.npy')\n",
    "X_test = get_features('NN_datasets/test_set_all_reads.npy')\n",
    "y_test = get_labels('NN_datasets/labels_test_all.npy')\n",
    "\n",
    "X_train_subsampled, y_train_subsampled = subsample_data(X_train, y_train)\n",
    "X_valid_subsampled, y_valid_subsampled = subsample_data(X_valid, y_valid)\n",
    "X_test_subsampled, y_test_subsampled = subsample_data(X_test, y_test)\n",
    "\"\"\""
   ]
  },
  {
   "cell_type": "code",
   "execution_count": 124,
   "metadata": {
    "collapsed": false
   },
   "outputs": [],
   "source": [
    "X_train_normalized, X_valid_normalized, X_test_normalized = normalize_features(X_train, X_valid, X_test)\n",
    "\n",
    "#X_train_normalized_subsampled, y_train_subsampled = subsample_data(X_train_normalized, y_train)\n",
    "#X_valid_normalized_subsampled, y_valid_subsampled = subsample_data(X_valid_normalized, y_valid)\n",
    "#X_test_normalized_subsampled, y_test_subsampled = subsample_data(X_test_normalized, y_test)\n",
    "\n",
    "#X_train_scaled_subsampled, y_train_subsampled = subsample_data(X_train_scaled, y_train)\n",
    "#X_valid_scaled_subsampled, y_valid_subsampled = subsample_data(X_valid_scaled, y_valid)\n",
    "#X_test_scaled_subsampled, y_test_subsampled = subsample_data(X_test_scaled, y_test)\n"
   ]
  },
  {
   "cell_type": "markdown",
   "metadata": {},
   "source": [
    "# without distance"
   ]
  },
  {
   "cell_type": "code",
   "execution_count": 96,
   "metadata": {
    "collapsed": true
   },
   "outputs": [],
   "source": [
    "dnn_normalized = LongRangeDNN(num_features=10, use_deep_CNN=True)"
   ]
  },
  {
   "cell_type": "code",
   "execution_count": 97,
   "metadata": {
    "collapsed": false
   },
   "outputs": [
    {
     "name": "stdout",
     "output_type": "stream",
     "text": [
      "Training model...\n",
      "Train on 1256 samples, validate on 538 samples\n",
      "Epoch 1/100\n",
      "1256/1256 [==============================] - 0s - loss: 1.3394 - val_loss: 0.6654\n",
      "Epoch 0: validation loss: 0.665\n",
      "Balanced Accuracy: 59.85%\t auROC: 0.647\t auPRC: 0.645\t auPRG: 0.275\n",
      "Recall at 5%|10%|20% FDR: 1.5%|1.5%|3.0%\t Num Positives: 269\t Num Negatives: 269\t \n",
      "\n",
      "Epoch 2/100\n",
      "1256/1256 [==============================] - 0s - loss: 1.3035 - val_loss: 0.6638\n",
      "Epoch 1: validation loss: 0.664\n",
      "Balanced Accuracy: 59.29%\t auROC: 0.640\t auPRC: 0.641\t auPRG: 0.252\n",
      "Recall at 5%|10%|20% FDR: 3.0%|3.0%|9.3%\t Num Positives: 269\t Num Negatives: 269\t \n",
      "\n",
      "Epoch 3/100\n",
      "1256/1256 [==============================] - 0s - loss: 1.2707 - val_loss: 0.6672\n",
      "Epoch 2: validation loss: 0.667\n",
      "Balanced Accuracy: 58.92%\t auROC: 0.630\t auPRC: 0.626\t auPRG: 0.238\n",
      "Recall at 5%|10%|20% FDR: 1.1%|1.1%|5.2%\t Num Positives: 269\t Num Negatives: 269\t \n",
      "\n",
      "Epoch 4/100\n",
      "1256/1256 [==============================] - 0s - loss: 1.2391 - val_loss: 0.6692\n",
      "Epoch 3: validation loss: 0.669\n",
      "Balanced Accuracy: 58.18%\t auROC: 0.624\t auPRC: 0.619\t auPRG: 0.241\n",
      "Recall at 5%|10%|20% FDR: 1.1%|1.1%|6.3%\t Num Positives: 269\t Num Negatives: 269\t \n",
      "\n",
      "Epoch 5/100\n",
      "1256/1256 [==============================] - 0s - loss: 1.2116 - val_loss: 0.6750\n",
      "Epoch 4: validation loss: 0.675\n",
      "Balanced Accuracy: 58.55%\t auROC: 0.616\t auPRC: 0.613\t auPRG: 0.236\n",
      "Recall at 5%|10%|20% FDR: 3.7%|4.1%|6.3%\t Num Positives: 269\t Num Negatives: 269\t \n",
      "\n",
      "Epoch 6/100\n",
      "1256/1256 [==============================] - 0s - loss: 1.1872 - val_loss: 0.6736\n",
      "Epoch 5: validation loss: 0.674\n",
      "Balanced Accuracy: 58.92%\t auROC: 0.622\t auPRC: 0.614\t auPRG: 0.254\n",
      "Recall at 5%|10%|20% FDR: 2.2%|2.2%|6.7%\t Num Positives: 269\t Num Negatives: 269\t \n",
      "\n",
      "Epoch 7/100\n",
      "1256/1256 [==============================] - 0s - loss: 1.1667 - val_loss: 0.6533\n",
      "Epoch 6: validation loss: 0.653\n",
      "Balanced Accuracy: 60.97%\t auROC: 0.664\t auPRC: 0.672\t auPRG: 0.315\n",
      "Recall at 5%|10%|20% FDR: 3.3%|4.8%|16.4%\t Num Positives: 269\t Num Negatives: 269\t \n",
      "\n",
      "Epoch 8/100\n",
      "1256/1256 [==============================] - 0s - loss: 1.1345 - val_loss: 0.6391\n",
      "Epoch 7: validation loss: 0.639\n",
      "Balanced Accuracy: 63.38%\t auROC: 0.691\t auPRC: 0.712\t auPRG: 0.353\n",
      "Recall at 5%|10%|20% FDR: 3.7%|10.8%|25.7%\t Num Positives: 269\t Num Negatives: 269\t \n",
      "\n",
      "Epoch 9/100\n",
      "1256/1256 [==============================] - 0s - loss: 1.1134 - val_loss: 0.6381\n",
      "Epoch 8: validation loss: 0.638\n",
      "Balanced Accuracy: 63.38%\t auROC: 0.696\t auPRC: 0.718\t auPRG: 0.364\n",
      "Recall at 5%|10%|20% FDR: 4.8%|12.3%|33.5%\t Num Positives: 269\t Num Negatives: 269\t \n",
      "\n",
      "Epoch 10/100\n",
      "1256/1256 [==============================] - 0s - loss: 1.0899 - val_loss: 0.6572\n",
      "Epoch 9: validation loss: 0.657\n",
      "Balanced Accuracy: 63.01%\t auROC: 0.672\t auPRC: 0.681\t auPRG: 0.333\n",
      "Recall at 5%|10%|20% FDR: 4.8%|6.7%|20.1%\t Num Positives: 269\t Num Negatives: 269\t \n",
      "\n",
      "Epoch 11/100\n",
      "1256/1256 [==============================] - 0s - loss: 1.0816 - val_loss: 0.6550\n",
      "Epoch 10: validation loss: 0.655\n",
      "Balanced Accuracy: 62.27%\t auROC: 0.681\t auPRC: 0.692\t auPRG: 0.344\n",
      "Recall at 5%|10%|20% FDR: 5.2%|5.2%|32.3%\t Num Positives: 269\t Num Negatives: 269\t \n",
      "\n",
      "Epoch 12/100\n",
      "1256/1256 [==============================] - 0s - loss: 1.0545 - val_loss: 0.6454\n",
      "Epoch 11: validation loss: 0.645\n",
      "Balanced Accuracy: 67.10%\t auROC: 0.708\t auPRC: 0.734\t auPRG: 0.397\n",
      "Recall at 5%|10%|20% FDR: 10.0%|12.3%|39.8%\t Num Positives: 269\t Num Negatives: 269\t \n",
      "\n",
      "Epoch 13/100\n",
      "1256/1256 [==============================] - 0s - loss: 1.0598 - val_loss: 0.6291\n",
      "Epoch 12: validation loss: 0.629\n",
      "Balanced Accuracy: 67.84%\t auROC: 0.716\t auPRC: 0.742\t auPRG: 0.431\n",
      "Recall at 5%|10%|20% FDR: 10.8%|11.5%|40.9%\t Num Positives: 269\t Num Negatives: 269\t \n",
      "\n",
      "Epoch 14/100\n",
      "1256/1256 [==============================] - 0s - loss: 1.0197 - val_loss: 0.6315\n",
      "Epoch 13: validation loss: 0.632\n",
      "Balanced Accuracy: 64.50%\t auROC: 0.711\t auPRC: 0.734\t auPRG: 0.417\n",
      "Recall at 5%|10%|20% FDR: 8.2%|8.2%|41.3%\t Num Positives: 269\t Num Negatives: 269\t \n",
      "\n",
      "Epoch 15/100\n",
      "1256/1256 [==============================] - 0s - loss: 1.0023 - val_loss: 0.6492\n",
      "Epoch 14: validation loss: 0.649\n",
      "Balanced Accuracy: 63.75%\t auROC: 0.703\t auPRC: 0.723\t auPRG: 0.397\n",
      "Recall at 5%|10%|20% FDR: 7.8%|7.8%|37.5%\t Num Positives: 269\t Num Negatives: 269\t \n",
      "\n",
      "Epoch 16/100\n",
      "1256/1256 [==============================] - 0s - loss: 0.9973 - val_loss: 0.6719\n",
      "Epoch 15: validation loss: 0.672\n",
      "Balanced Accuracy: 62.27%\t auROC: 0.687\t auPRC: 0.701\t auPRG: 0.356\n",
      "Recall at 5%|10%|20% FDR: 6.3%|7.1%|34.2%\t Num Positives: 269\t Num Negatives: 269\t \n",
      "\n",
      "Epoch 17/100\n",
      "1256/1256 [==============================] - 0s - loss: 0.9884 - val_loss: 0.6844\n",
      "Epoch 16: validation loss: 0.684\n",
      "Balanced Accuracy: 63.01%\t auROC: 0.673\t auPRC: 0.683\t auPRG: 0.338\n",
      "Recall at 5%|10%|20% FDR: 6.3%|6.3%|15.6%\t Num Positives: 269\t Num Negatives: 269\t \n",
      "\n",
      "Epoch 18/100\n",
      "1256/1256 [==============================] - 0s - loss: 0.9792 - val_loss: 0.6699\n",
      "Epoch 17: validation loss: 0.670\n",
      "Balanced Accuracy: 63.75%\t auROC: 0.689\t auPRC: 0.707\t auPRG: 0.358\n",
      "Recall at 5%|10%|20% FDR: 7.8%|7.8%|40.1%\t Num Positives: 269\t Num Negatives: 269\t \n",
      "\n",
      "Epoch 19/100\n",
      "1256/1256 [==============================] - 0s - loss: 0.9617 - val_loss: 0.6579\n",
      "Epoch 18: validation loss: 0.658\n",
      "Balanced Accuracy: 64.68%\t auROC: 0.702\t auPRC: 0.724\t auPRG: 0.383\n",
      "Recall at 5%|10%|20% FDR: 7.1%|8.2%|41.3%\t Num Positives: 269\t Num Negatives: 269\t \n",
      "\n",
      "Epoch 20/100\n",
      "1256/1256 [==============================] - 0s - loss: 0.9488 - val_loss: 0.6548\n",
      "Epoch 19: validation loss: 0.655\n",
      "Balanced Accuracy: 64.68%\t auROC: 0.703\t auPRC: 0.725\t auPRG: 0.382\n",
      "Recall at 5%|10%|20% FDR: 6.3%|8.9%|42.4%\t Num Positives: 269\t Num Negatives: 269\t \n",
      "\n",
      "Epoch 21/100\n",
      "1256/1256 [==============================] - 0s - loss: 0.9346 - val_loss: 0.6671\n",
      "Epoch 20: validation loss: 0.667\n",
      "Balanced Accuracy: 63.38%\t auROC: 0.693\t auPRC: 0.717\t auPRG: 0.363\n",
      "Recall at 5%|10%|20% FDR: 8.9%|9.3%|39.0%\t Num Positives: 269\t Num Negatives: 269\t \n",
      "\n",
      "Epoch 22/100\n",
      "1256/1256 [==============================] - 0s - loss: 0.9392 - val_loss: 0.6419\n",
      "Epoch 21: validation loss: 0.642\n",
      "Balanced Accuracy: 68.22%\t auROC: 0.718\t auPRC: 0.746\t auPRG: 0.447\n",
      "Recall at 5%|10%|20% FDR: 6.7%|11.2%|49.8%\t Num Positives: 269\t Num Negatives: 269\t \n",
      "\n",
      "Epoch 23/100\n",
      "1256/1256 [==============================] - 0s - loss: 0.9217 - val_loss: 0.6435\n",
      "Epoch 22: validation loss: 0.644\n",
      "Balanced Accuracy: 68.96%\t auROC: 0.731\t auPRC: 0.761\t auPRG: 0.477\n",
      "Recall at 5%|10%|20% FDR: 8.2%|15.2%|51.7%\t Num Positives: 269\t Num Negatives: 269\t \n",
      "\n",
      "Epoch 24/100\n",
      "1256/1256 [==============================] - 0s - loss: 0.9241 - val_loss: 0.6414\n",
      "Epoch 23: validation loss: 0.641\n",
      "Balanced Accuracy: 68.59%\t auROC: 0.721\t auPRC: 0.743\t auPRG: 0.462\n",
      "Recall at 5%|10%|20% FDR: 4.8%|11.5%|40.9%\t Num Positives: 269\t Num Negatives: 269\t \n",
      "\n"
     ]
    }
   ],
   "source": [
    "#validation_data = (X_valid_normalized_subsampled[:, :, :10, :], y_valid_subsampled)\n",
    "#dnn_normalized.train(X_train_normalized_subsampled[:, :, :10, :], y_train_subsampled, validation_data)\n",
    "validation_data = (X_valid_normalized[:, :, :10, :], y_valid)\n",
    "dnn_normalized.train(X_train_normalized[:, :, :10, :], y_train, validation_data)"
   ]
  },
  {
   "cell_type": "markdown",
   "metadata": {},
   "source": [
    "## preds on distance-matched"
   ]
  },
  {
   "cell_type": "code",
   "execution_count": 98,
   "metadata": {
    "collapsed": false
   },
   "outputs": [
    {
     "name": "stdout",
     "output_type": "stream",
     "text": [
      "Balanced Accuracy: 69.78%\t auROC: 0.740\t auPRC: 0.717\t auPRG: 0.517\n",
      "Recall at 5%|10%|20% FDR: 0.0%|0.0%|11.1%\t Num Positives: 225\t Num Negatives: 225\t \n"
     ]
    }
   ],
   "source": [
    "print(dnn_normalized.test(X_test_normalized[:, :, :10, :], y_test))"
   ]
  },
  {
   "cell_type": "code",
   "execution_count": 99,
   "metadata": {
    "collapsed": false
   },
   "outputs": [
    {
     "name": "stdout",
     "output_type": "stream",
     "text": [
      "Balanced Accuracy: 80.25%\t auROC: 0.873\t auPRC: 0.885\t auPRG: 0.796\n",
      "Recall at 5%|10%|20% FDR: 48.2%|68.8%|80.7%\t Num Positives: 628\t Num Negatives: 628\t \n"
     ]
    }
   ],
   "source": [
    "print(dnn_normalized.test(X_train_normalized[:, :, :10:, :], y_train))"
   ]
  },
  {
   "cell_type": "code",
   "execution_count": 100,
   "metadata": {
    "collapsed": false
   },
   "outputs": [
    {
     "name": "stdout",
     "output_type": "stream",
     "text": [
      "Balanced Accuracy: 68.59%\t auROC: 0.721\t auPRC: 0.743\t auPRG: 0.462\n",
      "Recall at 5%|10%|20% FDR: 4.8%|11.5%|40.9%\t Num Positives: 269\t Num Negatives: 269\t \n"
     ]
    }
   ],
   "source": [
    "print(dnn_normalized.test(X_valid_normalized[:, :, :10, :], y_valid))"
   ]
  },
  {
   "cell_type": "code",
   "execution_count": 101,
   "metadata": {
    "collapsed": false
   },
   "outputs": [],
   "source": [
    "pred_probs_test = dnn_normalized.predict(X_test_normalized[:, :, :10, :])\n",
    "#np.save(\"model_predictions/test_set_upperTriangle_noDiag_reads_with_distances_full_valid.npy\", pred_probs_test)\n",
    "pred_probs_valid = dnn_normalized.predict(X_valid_normalized[:, :, :10, :])\n",
    "#np.save(\"model_predictions/valid_set_upperTriangle_noDiag_reads_with_distances_full_valid.npy\", pred_probs_valid)\n",
    "pred_probs_train = dnn_normalized.predict(X_train_normalized[:, :, :10, :])\n",
    "#np.save(\"model_predictions/train_set_upperTriangle_noDiag_reads_with_distances_full_valid.npy\", pred_probs_train)"
   ]
  },
  {
   "cell_type": "markdown",
   "metadata": {},
   "source": [
    "# with genomic locations"
   ]
  },
  {
   "cell_type": "code",
   "execution_count": 106,
   "metadata": {
    "collapsed": true
   },
   "outputs": [],
   "source": [
    "dnn_normalized = LongRangeDNN(num_features=11, use_deep_CNN=True)"
   ]
  },
  {
   "cell_type": "code",
   "execution_count": 107,
   "metadata": {
    "collapsed": false
   },
   "outputs": [
    {
     "name": "stdout",
     "output_type": "stream",
     "text": [
      "Training model...\n",
      "Train on 1256 samples, validate on 538 samples\n",
      "Epoch 1/100\n",
      "1256/1256 [==============================] - 0s - loss: 1.3801 - val_loss: 0.6815\n",
      "Epoch 0: validation loss: 0.682\n",
      "Balanced Accuracy: 54.83%\t auROC: 0.577\t auPRC: 0.607\t auPRG: 0.106\n",
      "Recall at 5%|10%|20% FDR: 2.2%|2.2%|4.8%\t Num Positives: 269\t Num Negatives: 269\t \n",
      "\n",
      "Epoch 2/100\n",
      "1256/1256 [==============================] - 0s - loss: 1.3184 - val_loss: 0.6608\n",
      "Epoch 1: validation loss: 0.661\n",
      "Balanced Accuracy: 64.13%\t auROC: 0.680\t auPRC: 0.679\t auPRG: 0.374\n",
      "Recall at 5%|10%|20% FDR: 4.5%|4.5%|9.7%\t Num Positives: 269\t Num Negatives: 269\t \n",
      "\n",
      "Epoch 3/100\n",
      "1256/1256 [==============================] - 0s - loss: 1.2689 - val_loss: 0.6455\n",
      "Epoch 2: validation loss: 0.645\n",
      "Balanced Accuracy: 66.54%\t auROC: 0.705\t auPRC: 0.698\t auPRG: 0.428\n",
      "Recall at 5%|10%|20% FDR: 3.3%|7.1%|8.6%\t Num Positives: 269\t Num Negatives: 269\t \n",
      "\n",
      "Epoch 4/100\n",
      "1256/1256 [==============================] - 0s - loss: 1.2222 - val_loss: 0.6348\n",
      "Epoch 3: validation loss: 0.635\n",
      "Balanced Accuracy: 66.73%\t auROC: 0.718\t auPRC: 0.706\t auPRG: 0.454\n",
      "Recall at 5%|10%|20% FDR: 3.0%|7.8%|23.4%\t Num Positives: 269\t Num Negatives: 269\t \n",
      "\n",
      "Epoch 5/100\n",
      "1256/1256 [==============================] - 0s - loss: 1.1856 - val_loss: 0.6273\n",
      "Epoch 4: validation loss: 0.627\n",
      "Balanced Accuracy: 65.43%\t auROC: 0.724\t auPRC: 0.713\t auPRG: 0.465\n",
      "Recall at 5%|10%|20% FDR: 3.3%|7.4%|22.7%\t Num Positives: 269\t Num Negatives: 269\t \n",
      "\n",
      "Epoch 6/100\n",
      "1256/1256 [==============================] - 0s - loss: 1.1528 - val_loss: 0.6205\n",
      "Epoch 5: validation loss: 0.620\n",
      "Balanced Accuracy: 65.99%\t auROC: 0.728\t auPRC: 0.715\t auPRG: 0.474\n",
      "Recall at 5%|10%|20% FDR: 3.7%|5.6%|7.8%\t Num Positives: 269\t Num Negatives: 269\t \n",
      "\n",
      "Epoch 7/100\n",
      "1256/1256 [==============================] - 0s - loss: 1.1176 - val_loss: 0.6150\n",
      "Epoch 6: validation loss: 0.615\n",
      "Balanced Accuracy: 67.47%\t auROC: 0.726\t auPRC: 0.713\t auPRG: 0.468\n",
      "Recall at 5%|10%|20% FDR: 3.7%|5.9%|6.7%\t Num Positives: 269\t Num Negatives: 269\t \n",
      "\n",
      "Epoch 8/100\n",
      "1256/1256 [==============================] - 0s - loss: 1.0908 - val_loss: 0.6167\n",
      "Epoch 7: validation loss: 0.617\n",
      "Balanced Accuracy: 67.84%\t auROC: 0.723\t auPRC: 0.713\t auPRG: 0.462\n",
      "Recall at 5%|10%|20% FDR: 4.1%|6.3%|9.7%\t Num Positives: 269\t Num Negatives: 269\t \n",
      "\n",
      "Epoch 9/100\n",
      "1256/1256 [==============================] - 0s - loss: 1.0748 - val_loss: 0.6230\n",
      "Epoch 8: validation loss: 0.623\n",
      "Balanced Accuracy: 65.06%\t auROC: 0.726\t auPRC: 0.717\t auPRG: 0.467\n",
      "Recall at 5%|10%|20% FDR: 3.3%|5.2%|11.9%\t Num Positives: 269\t Num Negatives: 269\t \n",
      "\n",
      "Epoch 10/100\n",
      "1256/1256 [==============================] - 0s - loss: 1.0589 - val_loss: 0.6151\n",
      "Epoch 9: validation loss: 0.615\n",
      "Balanced Accuracy: 67.66%\t auROC: 0.726\t auPRC: 0.716\t auPRG: 0.471\n",
      "Recall at 5%|10%|20% FDR: 3.7%|5.6%|10.4%\t Num Positives: 269\t Num Negatives: 269\t \n",
      "\n",
      "Epoch 11/100\n",
      "1256/1256 [==============================] - 0s - loss: 1.0432 - val_loss: 0.6115\n",
      "Epoch 10: validation loss: 0.611\n",
      "Balanced Accuracy: 67.84%\t auROC: 0.731\t auPRC: 0.724\t auPRG: 0.477\n",
      "Recall at 5%|10%|20% FDR: 3.7%|5.9%|24.2%\t Num Positives: 269\t Num Negatives: 269\t \n",
      "\n",
      "Epoch 12/100\n",
      "1256/1256 [==============================] - 0s - loss: 1.0260 - val_loss: 0.6101\n",
      "Epoch 11: validation loss: 0.610\n",
      "Balanced Accuracy: 66.73%\t auROC: 0.738\t auPRC: 0.731\t auPRG: 0.491\n",
      "Recall at 5%|10%|20% FDR: 3.7%|5.6%|33.8%\t Num Positives: 269\t Num Negatives: 269\t \n",
      "\n",
      "Epoch 13/100\n",
      "1256/1256 [==============================] - 0s - loss: 1.0136 - val_loss: 0.6203\n",
      "Epoch 12: validation loss: 0.620\n",
      "Balanced Accuracy: 65.43%\t auROC: 0.741\t auPRC: 0.735\t auPRG: 0.494\n",
      "Recall at 5%|10%|20% FDR: 3.3%|7.1%|18.6%\t Num Positives: 269\t Num Negatives: 269\t \n",
      "\n",
      "Epoch 14/100\n",
      "1256/1256 [==============================] - 0s - loss: 1.0061 - val_loss: 0.6117\n",
      "Epoch 13: validation loss: 0.612\n",
      "Balanced Accuracy: 67.29%\t auROC: 0.741\t auPRC: 0.737\t auPRG: 0.496\n",
      "Recall at 5%|10%|20% FDR: 4.1%|10.8%|30.1%\t Num Positives: 269\t Num Negatives: 269\t \n",
      "\n",
      "Epoch 15/100\n",
      "1256/1256 [==============================] - 0s - loss: 0.9805 - val_loss: 0.5991\n",
      "Epoch 14: validation loss: 0.599\n",
      "Balanced Accuracy: 68.59%\t auROC: 0.747\t auPRC: 0.748\t auPRG: 0.511\n",
      "Recall at 5%|10%|20% FDR: 4.5%|13.4%|26.0%\t Num Positives: 269\t Num Negatives: 269\t \n",
      "\n",
      "Epoch 16/100\n",
      "1256/1256 [==============================] - 0s - loss: 0.9908 - val_loss: 0.5981\n",
      "Epoch 15: validation loss: 0.598\n",
      "Balanced Accuracy: 69.14%\t auROC: 0.748\t auPRC: 0.751\t auPRG: 0.516\n",
      "Recall at 5%|10%|20% FDR: 11.5%|14.1%|26.0%\t Num Positives: 269\t Num Negatives: 269\t \n",
      "\n",
      "Epoch 17/100\n",
      "1256/1256 [==============================] - 0s - loss: 0.9722 - val_loss: 0.5976\n",
      "Epoch 16: validation loss: 0.598\n",
      "Balanced Accuracy: 69.52%\t auROC: 0.753\t auPRC: 0.756\t auPRG: 0.529\n",
      "Recall at 5%|10%|20% FDR: 4.5%|16.4%|32.7%\t Num Positives: 269\t Num Negatives: 269\t \n",
      "\n",
      "Epoch 18/100\n",
      "1256/1256 [==============================] - 0s - loss: 0.9661 - val_loss: 0.6056\n",
      "Epoch 17: validation loss: 0.606\n",
      "Balanced Accuracy: 68.40%\t auROC: 0.757\t auPRC: 0.764\t auPRG: 0.536\n",
      "Recall at 5%|10%|20% FDR: 8.6%|16.0%|38.7%\t Num Positives: 269\t Num Negatives: 269\t \n",
      "\n",
      "Epoch 19/100\n",
      "1256/1256 [==============================] - 0s - loss: 0.9405 - val_loss: 0.5975\n",
      "Epoch 18: validation loss: 0.598\n",
      "Balanced Accuracy: 68.96%\t auROC: 0.750\t auPRC: 0.762\t auPRG: 0.518\n",
      "Recall at 5%|10%|20% FDR: 9.7%|21.6%|30.9%\t Num Positives: 269\t Num Negatives: 269\t \n",
      "\n",
      "Epoch 20/100\n",
      "1256/1256 [==============================] - 0s - loss: 0.9199 - val_loss: 0.6019\n",
      "Epoch 19: validation loss: 0.602\n",
      "Balanced Accuracy: 69.33%\t auROC: 0.748\t auPRC: 0.762\t auPRG: 0.508\n",
      "Recall at 5%|10%|20% FDR: 10.4%|19.7%|35.3%\t Num Positives: 269\t Num Negatives: 269\t \n",
      "\n",
      "Epoch 21/100\n",
      "1256/1256 [==============================] - 0s - loss: 0.9095 - val_loss: 0.5991\n",
      "Epoch 20: validation loss: 0.599\n",
      "Balanced Accuracy: 69.89%\t auROC: 0.754\t auPRC: 0.769\t auPRG: 0.520\n",
      "Recall at 5%|10%|20% FDR: 10.0%|24.9%|34.9%\t Num Positives: 269\t Num Negatives: 269\t \n",
      "\n",
      "Epoch 22/100\n",
      "1256/1256 [==============================] - 0s - loss: 0.8933 - val_loss: 0.5972\n",
      "Epoch 21: validation loss: 0.597\n",
      "Balanced Accuracy: 69.70%\t auROC: 0.757\t auPRC: 0.776\t auPRG: 0.525\n",
      "Recall at 5%|10%|20% FDR: 11.9%|29.0%|44.6%\t Num Positives: 269\t Num Negatives: 269\t \n",
      "\n",
      "Epoch 23/100\n",
      "1256/1256 [==============================] - 0s - loss: 0.8826 - val_loss: 0.5964\n",
      "Epoch 22: validation loss: 0.596\n",
      "Balanced Accuracy: 69.89%\t auROC: 0.762\t auPRC: 0.782\t auPRG: 0.532\n",
      "Recall at 5%|10%|20% FDR: 9.7%|32.0%|46.8%\t Num Positives: 269\t Num Negatives: 269\t \n",
      "\n",
      "Epoch 24/100\n",
      "1256/1256 [==============================] - 0s - loss: 0.8771 - val_loss: 0.5979\n",
      "Epoch 23: validation loss: 0.598\n",
      "Balanced Accuracy: 69.14%\t auROC: 0.758\t auPRC: 0.778\t auPRG: 0.530\n",
      "Recall at 5%|10%|20% FDR: 10.0%|30.5%|45.7%\t Num Positives: 269\t Num Negatives: 269\t \n",
      "\n",
      "Epoch 25/100\n",
      "1256/1256 [==============================] - 0s - loss: 0.8596 - val_loss: 0.6029\n",
      "Epoch 24: validation loss: 0.603\n",
      "Balanced Accuracy: 67.29%\t auROC: 0.748\t auPRC: 0.771\t auPRG: 0.494\n",
      "Recall at 5%|10%|20% FDR: 13.0%|29.0%|45.4%\t Num Positives: 269\t Num Negatives: 269\t \n",
      "\n",
      "Epoch 26/100\n",
      "1256/1256 [==============================] - 0s - loss: 0.8483 - val_loss: 0.6103\n",
      "Epoch 25: validation loss: 0.610\n",
      "Balanced Accuracy: 68.03%\t auROC: 0.742\t auPRC: 0.769\t auPRG: 0.474\n",
      "Recall at 5%|10%|20% FDR: 16.7%|27.9%|44.6%\t Num Positives: 269\t Num Negatives: 269\t \n",
      "\n",
      "Epoch 27/100\n",
      "1256/1256 [==============================] - 0s - loss: 0.8548 - val_loss: 0.6159\n",
      "Epoch 26: validation loss: 0.616\n",
      "Balanced Accuracy: 67.10%\t auROC: 0.737\t auPRC: 0.768\t auPRG: 0.458\n",
      "Recall at 5%|10%|20% FDR: 19.3%|27.1%|42.0%\t Num Positives: 269\t Num Negatives: 269\t \n",
      "\n",
      "Epoch 28/100\n",
      "1256/1256 [==============================] - 0s - loss: 0.8412 - val_loss: 0.6121\n",
      "Epoch 27: validation loss: 0.612\n",
      "Balanced Accuracy: 68.03%\t auROC: 0.752\t auPRC: 0.780\t auPRG: 0.508\n",
      "Recall at 5%|10%|20% FDR: 20.1%|30.5%|43.5%\t Num Positives: 269\t Num Negatives: 269\t \n",
      "\n",
      "Epoch 29/100\n",
      "1256/1256 [==============================] - 0s - loss: 0.8484 - val_loss: 0.6134\n",
      "Epoch 28: validation loss: 0.613\n",
      "Balanced Accuracy: 67.84%\t auROC: 0.765\t auPRC: 0.790\t auPRG: 0.533\n",
      "Recall at 5%|10%|20% FDR: 19.0%|32.7%|46.8%\t Num Positives: 269\t Num Negatives: 269\t \n",
      "\n",
      "Epoch 30/100\n",
      "1256/1256 [==============================] - 0s - loss: 0.8182 - val_loss: 0.5977\n",
      "Epoch 29: validation loss: 0.598\n",
      "Balanced Accuracy: 69.70%\t auROC: 0.763\t auPRC: 0.789\t auPRG: 0.529\n",
      "Recall at 5%|10%|20% FDR: 18.6%|34.2%|48.3%\t Num Positives: 269\t Num Negatives: 269\t \n",
      "\n",
      "Epoch 31/100\n",
      "1256/1256 [==============================] - 0s - loss: 0.7894 - val_loss: 0.5915\n",
      "Epoch 30: validation loss: 0.591\n",
      "Balanced Accuracy: 70.26%\t auROC: 0.769\t auPRC: 0.792\t auPRG: 0.546\n",
      "Recall at 5%|10%|20% FDR: 16.0%|34.2%|49.1%\t Num Positives: 269\t Num Negatives: 269\t \n",
      "\n",
      "Epoch 32/100\n",
      "1256/1256 [==============================] - 0s - loss: 0.7863 - val_loss: 0.5933\n",
      "Epoch 31: validation loss: 0.593\n",
      "Balanced Accuracy: 70.82%\t auROC: 0.770\t auPRC: 0.793\t auPRG: 0.552\n",
      "Recall at 5%|10%|20% FDR: 17.5%|34.6%|49.4%\t Num Positives: 269\t Num Negatives: 269\t \n",
      "\n",
      "Epoch 33/100\n",
      "1256/1256 [==============================] - 0s - loss: 0.7770 - val_loss: 0.6035\n",
      "Epoch 32: validation loss: 0.603\n",
      "Balanced Accuracy: 69.70%\t auROC: 0.762\t auPRC: 0.787\t auPRG: 0.533\n",
      "Recall at 5%|10%|20% FDR: 16.4%|29.4%|46.5%\t Num Positives: 269\t Num Negatives: 269\t \n",
      "\n",
      "Epoch 34/100\n",
      "1256/1256 [==============================] - 0s - loss: 0.7689 - val_loss: 0.6064\n",
      "Epoch 33: validation loss: 0.606\n",
      "Balanced Accuracy: 69.52%\t auROC: 0.755\t auPRC: 0.783\t auPRG: 0.518\n",
      "Recall at 5%|10%|20% FDR: 16.7%|30.5%|45.4%\t Num Positives: 269\t Num Negatives: 269\t \n",
      "\n",
      "Epoch 35/100\n",
      "1256/1256 [==============================] - 0s - loss: 0.7558 - val_loss: 0.6080\n",
      "Epoch 34: validation loss: 0.608\n",
      "Balanced Accuracy: 70.07%\t auROC: 0.757\t auPRC: 0.786\t auPRG: 0.528\n",
      "Recall at 5%|10%|20% FDR: 16.0%|34.2%|48.0%\t Num Positives: 269\t Num Negatives: 269\t \n",
      "\n",
      "Epoch 36/100\n",
      "1256/1256 [==============================] - 0s - loss: 0.7465 - val_loss: 0.6035\n",
      "Epoch 35: validation loss: 0.604\n",
      "Balanced Accuracy: 69.52%\t auROC: 0.762\t auPRC: 0.789\t auPRG: 0.540\n",
      "Recall at 5%|10%|20% FDR: 16.0%|35.3%|51.7%\t Num Positives: 269\t Num Negatives: 269\t \n",
      "\n",
      "Epoch 37/100\n",
      "1256/1256 [==============================] - 0s - loss: 0.7355 - val_loss: 0.6075\n",
      "Epoch 36: validation loss: 0.607\n",
      "Balanced Accuracy: 71.19%\t auROC: 0.766\t auPRC: 0.794\t auPRG: 0.550\n",
      "Recall at 5%|10%|20% FDR: 15.2%|35.7%|50.9%\t Num Positives: 269\t Num Negatives: 269\t \n",
      "\n",
      "Epoch 38/100\n",
      "1256/1256 [==============================] - 0s - loss: 0.7439 - val_loss: 0.6226\n",
      "Epoch 37: validation loss: 0.623\n",
      "Balanced Accuracy: 69.89%\t auROC: 0.770\t auPRC: 0.794\t auPRG: 0.559\n",
      "Recall at 5%|10%|20% FDR: 13.0%|30.9%|50.2%\t Num Positives: 269\t Num Negatives: 269\t \n",
      "\n",
      "Epoch 39/100\n",
      "1256/1256 [==============================] - 0s - loss: 0.7235 - val_loss: 0.6045\n",
      "Epoch 38: validation loss: 0.604\n",
      "Balanced Accuracy: 70.63%\t auROC: 0.766\t auPRC: 0.789\t auPRG: 0.554\n",
      "Recall at 5%|10%|20% FDR: 16.0%|16.0%|48.7%\t Num Positives: 269\t Num Negatives: 269\t \n",
      "\n",
      "Epoch 40/100\n",
      "1256/1256 [==============================] - 0s - loss: 0.7200 - val_loss: 0.6082\n",
      "Epoch 39: validation loss: 0.608\n",
      "Balanced Accuracy: 70.45%\t auROC: 0.764\t auPRC: 0.787\t auPRG: 0.548\n",
      "Recall at 5%|10%|20% FDR: 15.6%|27.9%|50.6%\t Num Positives: 269\t Num Negatives: 269\t \n",
      "\n",
      "Epoch 41/100\n",
      "1256/1256 [==============================] - 0s - loss: 0.6991 - val_loss: 0.6245\n",
      "Epoch 40: validation loss: 0.625\n",
      "Balanced Accuracy: 69.14%\t auROC: 0.741\t auPRC: 0.770\t auPRG: 0.494\n",
      "Recall at 5%|10%|20% FDR: 14.5%|16.0%|48.7%\t Num Positives: 269\t Num Negatives: 269\t \n",
      "\n",
      "Epoch 42/100\n",
      "1256/1256 [==============================] - 0s - loss: 0.6921 - val_loss: 0.6257\n",
      "Epoch 41: validation loss: 0.626\n",
      "Balanced Accuracy: 68.59%\t auROC: 0.743\t auPRC: 0.772\t auPRG: 0.500\n",
      "Recall at 5%|10%|20% FDR: 14.1%|25.3%|50.2%\t Num Positives: 269\t Num Negatives: 269\t \n",
      "\n"
     ]
    }
   ],
   "source": [
    "#validation_data = (X_valid_normalized_subsampled[:, :, :11, :], y_valid_subsampled)\n",
    "#dnn_normalized.train(X_train_normalized_subsampled[:, :, :11, :], y_train_subsampled, validation_data)\n",
    "validation_data = (X_valid_normalized[:, :, :11, :], y_valid)\n",
    "dnn_normalized.train(X_train_normalized[:, :, :11, :], y_train, validation_data)"
   ]
  },
  {
   "cell_type": "code",
   "execution_count": 108,
   "metadata": {
    "collapsed": false
   },
   "outputs": [
    {
     "name": "stdout",
     "output_type": "stream",
     "text": [
      "Balanced Accuracy: 73.56%\t auROC: 0.807\t auPRC: 0.797\t auPRG: 0.646\n",
      "Recall at 5%|10%|20% FDR: 6.7%|6.7%|58.7%\t Num Positives: 225\t Num Negatives: 225\t \n"
     ]
    }
   ],
   "source": [
    "print(dnn_normalized.test(X_test_normalized[:, :, :11, :], y_test))"
   ]
  },
  {
   "cell_type": "markdown",
   "metadata": {},
   "source": [
    "# with distance only"
   ]
  },
  {
   "cell_type": "code",
   "execution_count": 109,
   "metadata": {
    "collapsed": true
   },
   "outputs": [],
   "source": [
    "dnn_normalized = LongRangeDNN(num_features=1, use_deep_CNN=True)"
   ]
  },
  {
   "cell_type": "code",
   "execution_count": 110,
   "metadata": {
    "collapsed": false
   },
   "outputs": [
    {
     "name": "stdout",
     "output_type": "stream",
     "text": [
      "Training model...\n",
      "Train on 1256 samples, validate on 538 samples\n",
      "Epoch 1/100\n",
      "1256/1256 [==============================] - 0s - loss: 1.5310 - val_loss: 0.6839\n",
      "Epoch 0: validation loss: 0.684\n",
      "Balanced Accuracy: 53.90%\t auROC: 0.638\t auPRC: 0.638\t auPRG: 0.273\n",
      "Recall at 5%|10%|20% FDR: 0.0%|0.0%|5.6%\t Num Positives: 269\t Num Negatives: 269\t \n",
      "\n",
      "Epoch 2/100\n",
      "1256/1256 [==============================] - 0s - loss: 1.3535 - val_loss: 0.6722\n",
      "Epoch 1: validation loss: 0.672\n",
      "Balanced Accuracy: 63.75%\t auROC: 0.660\t auPRC: 0.638\t auPRG: 0.379\n",
      "Recall at 5%|10%|20% FDR: 1.9%|1.9%|4.8%\t Num Positives: 269\t Num Negatives: 269\t \n",
      "\n",
      "Epoch 3/100\n",
      "1256/1256 [==============================] - 0s - loss: 1.2963 - val_loss: 0.6629\n",
      "Epoch 2: validation loss: 0.663\n",
      "Balanced Accuracy: 63.57%\t auROC: 0.660\t auPRC: 0.637\t auPRG: 0.379\n",
      "Recall at 5%|10%|20% FDR: 1.9%|1.9%|4.5%\t Num Positives: 269\t Num Negatives: 269\t \n",
      "\n",
      "Epoch 4/100\n",
      "1256/1256 [==============================] - 0s - loss: 1.2632 - val_loss: 0.6603\n",
      "Epoch 3: validation loss: 0.660\n",
      "Balanced Accuracy: 62.83%\t auROC: 0.660\t auPRC: 0.637\t auPRG: 0.379\n",
      "Recall at 5%|10%|20% FDR: 1.9%|1.9%|4.5%\t Num Positives: 269\t Num Negatives: 269\t \n",
      "\n",
      "Epoch 5/100\n",
      "1256/1256 [==============================] - 0s - loss: 1.2496 - val_loss: 0.6587\n",
      "Epoch 4: validation loss: 0.659\n",
      "Balanced Accuracy: 63.57%\t auROC: 0.660\t auPRC: 0.637\t auPRG: 0.379\n",
      "Recall at 5%|10%|20% FDR: 1.9%|1.9%|4.5%\t Num Positives: 269\t Num Negatives: 269\t \n",
      "\n",
      "Epoch 6/100\n",
      "1256/1256 [==============================] - 0s - loss: 1.2460 - val_loss: 0.6579\n",
      "Epoch 5: validation loss: 0.658\n",
      "Balanced Accuracy: 63.75%\t auROC: 0.660\t auPRC: 0.637\t auPRG: 0.379\n",
      "Recall at 5%|10%|20% FDR: 1.9%|1.9%|4.5%\t Num Positives: 269\t Num Negatives: 269\t \n",
      "\n",
      "Epoch 7/100\n",
      "1256/1256 [==============================] - 0s - loss: 1.2472 - val_loss: 0.6568\n",
      "Epoch 6: validation loss: 0.657\n",
      "Balanced Accuracy: 64.13%\t auROC: 0.660\t auPRC: 0.637\t auPRG: 0.379\n",
      "Recall at 5%|10%|20% FDR: 1.9%|1.9%|4.5%\t Num Positives: 269\t Num Negatives: 269\t \n",
      "\n",
      "Epoch 8/100\n",
      "1256/1256 [==============================] - 0s - loss: 1.2457 - val_loss: 0.6573\n",
      "Epoch 7: validation loss: 0.657\n",
      "Balanced Accuracy: 65.06%\t auROC: 0.660\t auPRC: 0.637\t auPRG: 0.379\n",
      "Recall at 5%|10%|20% FDR: 1.9%|1.9%|4.5%\t Num Positives: 269\t Num Negatives: 269\t \n",
      "\n",
      "Epoch 9/100\n",
      "1256/1256 [==============================] - 0s - loss: 1.2447 - val_loss: 0.6589\n",
      "Epoch 8: validation loss: 0.659\n",
      "Balanced Accuracy: 64.87%\t auROC: 0.660\t auPRC: 0.637\t auPRG: 0.379\n",
      "Recall at 5%|10%|20% FDR: 1.9%|1.9%|4.5%\t Num Positives: 269\t Num Negatives: 269\t \n",
      "\n",
      "Epoch 10/100\n",
      "1256/1256 [==============================] - 0s - loss: 1.2402 - val_loss: 0.6543\n",
      "Epoch 9: validation loss: 0.654\n",
      "Balanced Accuracy: 66.91%\t auROC: 0.659\t auPRC: 0.636\t auPRG: 0.379\n",
      "Recall at 5%|10%|20% FDR: 1.9%|1.9%|4.5%\t Num Positives: 269\t Num Negatives: 269\t \n",
      "\n",
      "Epoch 11/100\n",
      "1256/1256 [==============================] - 0s - loss: 1.2416 - val_loss: 0.6543\n",
      "Epoch 10: validation loss: 0.654\n",
      "Balanced Accuracy: 65.80%\t auROC: 0.660\t auPRC: 0.637\t auPRG: 0.379\n",
      "Recall at 5%|10%|20% FDR: 1.9%|1.9%|4.5%\t Num Positives: 269\t Num Negatives: 269\t \n",
      "\n",
      "Epoch 12/100\n",
      "1256/1256 [==============================] - 0s - loss: 1.2391 - val_loss: 0.6545\n",
      "Epoch 11: validation loss: 0.655\n",
      "Balanced Accuracy: 66.54%\t auROC: 0.660\t auPRC: 0.637\t auPRG: 0.379\n",
      "Recall at 5%|10%|20% FDR: 1.9%|1.9%|4.5%\t Num Positives: 269\t Num Negatives: 269\t \n",
      "\n",
      "Epoch 13/100\n",
      "1256/1256 [==============================] - 0s - loss: 1.2355 - val_loss: 0.6536\n",
      "Epoch 12: validation loss: 0.654\n",
      "Balanced Accuracy: 65.43%\t auROC: 0.660\t auPRC: 0.637\t auPRG: 0.379\n",
      "Recall at 5%|10%|20% FDR: 1.9%|1.9%|4.5%\t Num Positives: 269\t Num Negatives: 269\t \n",
      "\n",
      "Epoch 14/100\n",
      "1256/1256 [==============================] - 0s - loss: 1.2372 - val_loss: 0.6538\n",
      "Epoch 13: validation loss: 0.654\n",
      "Balanced Accuracy: 66.17%\t auROC: 0.662\t auPRC: 0.639\t auPRG: 0.379\n",
      "Recall at 5%|10%|20% FDR: 1.9%|1.9%|4.5%\t Num Positives: 269\t Num Negatives: 269\t \n",
      "\n",
      "Epoch 15/100\n",
      "1256/1256 [==============================] - 0s - loss: 1.2365 - val_loss: 0.6548\n",
      "Epoch 14: validation loss: 0.655\n",
      "Balanced Accuracy: 65.61%\t auROC: 0.662\t auPRC: 0.639\t auPRG: 0.379\n",
      "Recall at 5%|10%|20% FDR: 1.9%|1.9%|4.5%\t Num Positives: 269\t Num Negatives: 269\t \n",
      "\n",
      "Epoch 16/100\n",
      "1256/1256 [==============================] - 0s - loss: 1.2366 - val_loss: 0.6552\n",
      "Epoch 15: validation loss: 0.655\n",
      "Balanced Accuracy: 66.54%\t auROC: 0.662\t auPRC: 0.641\t auPRG: 0.379\n",
      "Recall at 5%|10%|20% FDR: 1.9%|1.9%|4.5%\t Num Positives: 269\t Num Negatives: 269\t \n",
      "\n",
      "Epoch 17/100\n",
      "1256/1256 [==============================] - 0s - loss: 1.2327 - val_loss: 0.6538\n",
      "Epoch 16: validation loss: 0.654\n",
      "Balanced Accuracy: 65.99%\t auROC: 0.662\t auPRC: 0.640\t auPRG: 0.379\n",
      "Recall at 5%|10%|20% FDR: 1.9%|1.9%|4.5%\t Num Positives: 269\t Num Negatives: 269\t \n",
      "\n",
      "Epoch 18/100\n",
      "1256/1256 [==============================] - 0s - loss: 1.2283 - val_loss: 0.6527\n",
      "Epoch 17: validation loss: 0.653\n",
      "Balanced Accuracy: 65.43%\t auROC: 0.661\t auPRC: 0.639\t auPRG: 0.379\n",
      "Recall at 5%|10%|20% FDR: 1.9%|1.9%|4.5%\t Num Positives: 269\t Num Negatives: 269\t \n",
      "\n",
      "Epoch 19/100\n",
      "1256/1256 [==============================] - 0s - loss: 1.2264 - val_loss: 0.6547\n",
      "Epoch 18: validation loss: 0.655\n",
      "Balanced Accuracy: 64.87%\t auROC: 0.662\t auPRC: 0.639\t auPRG: 0.379\n",
      "Recall at 5%|10%|20% FDR: 1.9%|1.9%|4.5%\t Num Positives: 269\t Num Negatives: 269\t \n",
      "\n",
      "Epoch 20/100\n",
      "1256/1256 [==============================] - 0s - loss: 1.2400 - val_loss: 0.6538\n",
      "Epoch 19: validation loss: 0.654\n",
      "Balanced Accuracy: 64.50%\t auROC: 0.661\t auPRC: 0.638\t auPRG: 0.379\n",
      "Recall at 5%|10%|20% FDR: 1.9%|1.9%|4.5%\t Num Positives: 269\t Num Negatives: 269\t \n",
      "\n",
      "Epoch 21/100\n",
      "1256/1256 [==============================] - 0s - loss: 1.2300 - val_loss: 0.6521\n",
      "Epoch 20: validation loss: 0.652\n",
      "Balanced Accuracy: 65.24%\t auROC: 0.661\t auPRC: 0.638\t auPRG: 0.379\n",
      "Recall at 5%|10%|20% FDR: 1.9%|1.9%|4.5%\t Num Positives: 269\t Num Negatives: 269\t \n",
      "\n",
      "Epoch 22/100\n",
      "1256/1256 [==============================] - 0s - loss: 1.2259 - val_loss: 0.6543\n",
      "Epoch 21: validation loss: 0.654\n",
      "Balanced Accuracy: 65.06%\t auROC: 0.661\t auPRC: 0.638\t auPRG: 0.379\n",
      "Recall at 5%|10%|20% FDR: 1.9%|1.9%|4.5%\t Num Positives: 269\t Num Negatives: 269\t \n",
      "\n",
      "Epoch 23/100\n",
      "1256/1256 [==============================] - 0s - loss: 1.2323 - val_loss: 0.6521\n",
      "Epoch 22: validation loss: 0.652\n",
      "Balanced Accuracy: 64.13%\t auROC: 0.661\t auPRC: 0.638\t auPRG: 0.379\n",
      "Recall at 5%|10%|20% FDR: 1.9%|1.9%|4.5%\t Num Positives: 269\t Num Negatives: 269\t \n",
      "\n",
      "Epoch 24/100\n",
      "1256/1256 [==============================] - 0s - loss: 1.2243 - val_loss: 0.6510\n",
      "Epoch 23: validation loss: 0.651\n",
      "Balanced Accuracy: 65.24%\t auROC: 0.662\t auPRC: 0.640\t auPRG: 0.379\n",
      "Recall at 5%|10%|20% FDR: 1.9%|1.9%|4.5%\t Num Positives: 269\t Num Negatives: 269\t \n",
      "\n",
      "Epoch 25/100\n",
      "1256/1256 [==============================] - 0s - loss: 1.2181 - val_loss: 0.6504\n",
      "Epoch 24: validation loss: 0.650\n",
      "Balanced Accuracy: 64.87%\t auROC: 0.663\t auPRC: 0.643\t auPRG: 0.380\n",
      "Recall at 5%|10%|20% FDR: 1.9%|1.9%|4.5%\t Num Positives: 269\t Num Negatives: 269\t \n",
      "\n",
      "Epoch 26/100\n",
      "1256/1256 [==============================] - 0s - loss: 1.2178 - val_loss: 0.6507\n",
      "Epoch 25: validation loss: 0.651\n",
      "Balanced Accuracy: 65.24%\t auROC: 0.664\t auPRC: 0.647\t auPRG: 0.380\n",
      "Recall at 5%|10%|20% FDR: 1.9%|1.9%|4.5%\t Num Positives: 269\t Num Negatives: 269\t \n",
      "\n",
      "Epoch 27/100\n",
      "1256/1256 [==============================] - 0s - loss: 1.2159 - val_loss: 0.6504\n",
      "Epoch 26: validation loss: 0.650\n",
      "Balanced Accuracy: 64.87%\t auROC: 0.667\t auPRC: 0.660\t auPRG: 0.379\n",
      "Recall at 5%|10%|20% FDR: 1.5%|1.5%|8.6%\t Num Positives: 269\t Num Negatives: 269\t \n",
      "\n",
      "Epoch 28/100\n",
      "1256/1256 [==============================] - 0s - loss: 1.2156 - val_loss: 0.6505\n",
      "Epoch 27: validation loss: 0.651\n",
      "Balanced Accuracy: 64.68%\t auROC: 0.669\t auPRC: 0.660\t auPRG: 0.382\n",
      "Recall at 5%|10%|20% FDR: 0.4%|0.4%|10.0%\t Num Positives: 269\t Num Negatives: 269\t \n",
      "\n",
      "Epoch 29/100\n",
      "1256/1256 [==============================] - 0s - loss: 1.2125 - val_loss: 0.6510\n",
      "Epoch 28: validation loss: 0.651\n",
      "Balanced Accuracy: 64.31%\t auROC: 0.670\t auPRC: 0.663\t auPRG: 0.382\n",
      "Recall at 5%|10%|20% FDR: 0.4%|0.4%|12.6%\t Num Positives: 269\t Num Negatives: 269\t \n",
      "\n",
      "Epoch 30/100\n",
      "1256/1256 [==============================] - 0s - loss: 1.2177 - val_loss: 0.6537\n",
      "Epoch 29: validation loss: 0.654\n",
      "Balanced Accuracy: 64.68%\t auROC: 0.672\t auPRC: 0.661\t auPRG: 0.383\n",
      "Recall at 5%|10%|20% FDR: 0.4%|0.4%|9.3%\t Num Positives: 269\t Num Negatives: 269\t \n",
      "\n",
      "Epoch 31/100\n",
      "1256/1256 [==============================] - 0s - loss: 1.2092 - val_loss: 0.6523\n",
      "Epoch 30: validation loss: 0.652\n",
      "Balanced Accuracy: 64.31%\t auROC: 0.675\t auPRC: 0.662\t auPRG: 0.386\n",
      "Recall at 5%|10%|20% FDR: 0.4%|0.4%|8.2%\t Num Positives: 269\t Num Negatives: 269\t \n",
      "\n",
      "Epoch 32/100\n",
      "1256/1256 [==============================] - 0s - loss: 1.2059 - val_loss: 0.6539\n",
      "Epoch 31: validation loss: 0.654\n",
      "Balanced Accuracy: 64.68%\t auROC: 0.672\t auPRC: 0.663\t auPRG: 0.372\n",
      "Recall at 5%|10%|20% FDR: 0.4%|0.4%|10.0%\t Num Positives: 269\t Num Negatives: 269\t \n",
      "\n",
      "Epoch 33/100\n",
      "1256/1256 [==============================] - 0s - loss: 1.2044 - val_loss: 0.6552\n",
      "Epoch 32: validation loss: 0.655\n",
      "Balanced Accuracy: 64.31%\t auROC: 0.670\t auPRC: 0.661\t auPRG: 0.360\n",
      "Recall at 5%|10%|20% FDR: 0.4%|0.4%|10.0%\t Num Positives: 269\t Num Negatives: 269\t \n",
      "\n",
      "Epoch 34/100\n",
      "1256/1256 [==============================] - 0s - loss: 1.2012 - val_loss: 0.6563\n",
      "Epoch 33: validation loss: 0.656\n",
      "Balanced Accuracy: 64.31%\t auROC: 0.668\t auPRC: 0.659\t auPRG: 0.354\n",
      "Recall at 5%|10%|20% FDR: 0.0%|0.0%|10.4%\t Num Positives: 269\t Num Negatives: 269\t \n",
      "\n",
      "Epoch 35/100\n",
      "1256/1256 [==============================] - 0s - loss: 1.2018 - val_loss: 0.6569\n",
      "Epoch 34: validation loss: 0.657\n",
      "Balanced Accuracy: 64.68%\t auROC: 0.671\t auPRC: 0.667\t auPRG: 0.357\n",
      "Recall at 5%|10%|20% FDR: 0.0%|0.0%|20.1%\t Num Positives: 269\t Num Negatives: 269\t \n",
      "\n",
      "Epoch 36/100\n",
      "1256/1256 [==============================] - 0s - loss: 1.2009 - val_loss: 0.6595\n",
      "Epoch 35: validation loss: 0.660\n",
      "Balanced Accuracy: 64.31%\t auROC: 0.673\t auPRC: 0.663\t auPRG: 0.366\n",
      "Recall at 5%|10%|20% FDR: 0.0%|0.0%|10.8%\t Num Positives: 269\t Num Negatives: 269\t \n",
      "\n",
      "Epoch 37/100\n",
      "1256/1256 [==============================] - 0s - loss: 1.2057 - val_loss: 0.6596\n",
      "Epoch 36: validation loss: 0.660\n",
      "Balanced Accuracy: 64.68%\t auROC: 0.673\t auPRC: 0.663\t auPRG: 0.356\n",
      "Recall at 5%|10%|20% FDR: 0.0%|0.0%|9.7%\t Num Positives: 269\t Num Negatives: 269\t \n",
      "\n",
      "Epoch 38/100\n",
      "1256/1256 [==============================] - 0s - loss: 1.1996 - val_loss: 0.6654\n",
      "Epoch 37: validation loss: 0.665\n",
      "Balanced Accuracy: 62.27%\t auROC: 0.666\t auPRC: 0.653\t auPRG: 0.346\n",
      "Recall at 5%|10%|20% FDR: 0.0%|0.0%|0.0%\t Num Positives: 269\t Num Negatives: 269\t \n",
      "\n"
     ]
    }
   ],
   "source": [
    "#validation_data = (X_valid_normalized_subsampled[:, :, :11, :], y_valid_subsampled)\n",
    "#dnn_normalized.train(X_train_normalized_subsampled[:, :, :11, :], y_train_subsampled, validation_data)\n",
    "validation_data = (X_valid_normalized[:, :, 10:, :], y_valid)\n",
    "dnn_normalized.train(X_train_normalized[:, :, 10:, :], y_train, validation_data)"
   ]
  },
  {
   "cell_type": "code",
   "execution_count": 111,
   "metadata": {
    "collapsed": false
   },
   "outputs": [
    {
     "name": "stdout",
     "output_type": "stream",
     "text": [
      "Balanced Accuracy: 59.78%\t auROC: 0.683\t auPRC: 0.624\t auPRG: 0.409\n",
      "Recall at 5%|10%|20% FDR: 0.0%|0.0%|0.0%\t Num Positives: 225\t Num Negatives: 225\t \n"
     ]
    }
   ],
   "source": [
    "print(dnn_normalized.test(X_test_normalized[:, :,  10:, :], y_test))"
   ]
  },
  {
   "cell_type": "markdown",
   "metadata": {},
   "source": [
    "# Print prediction"
   ]
  },
  {
   "cell_type": "code",
   "execution_count": 112,
   "metadata": {
    "collapsed": false
   },
   "outputs": [],
   "source": [
    "indx_train = np.load('/users/mtaranov/NN_thres5max_datasets/dist_matched_chr/indx_train_thres_10_chr.npy')\n",
    "indx_valid = np.load('/users/mtaranov/NN_thres5max_datasets/dist_matched_chr/indx_valid_thres_10_chr.npy')\n",
    "indx_test = np.load ('/users/mtaranov/NN_thres5max_datasets/dist_matched_chr/indx_test_thres_10_chr.npy')"
   ]
  },
  {
   "cell_type": "code",
   "execution_count": 113,
   "metadata": {
    "collapsed": false
   },
   "outputs": [],
   "source": [
    "labels_test = y_test.astype(int)\n",
    "preds_test = pred_probs_test\n",
    "indx_test = indx_test"
   ]
  },
  {
   "cell_type": "code",
   "execution_count": 114,
   "metadata": {
    "collapsed": false
   },
   "outputs": [
    {
     "name": "stdout",
     "output_type": "stream",
     "text": [
      "Some tests on adjacency matrix:\n",
      "Some tests on adjacency matrix:\n"
     ]
    }
   ],
   "source": [
    "NumberOfNodes=2272\n",
    "preds_test_2d, labels_test_2d = get_2D(indx_test, preds_test, labels_test, NumberOfNodes)"
   ]
  },
  {
   "cell_type": "markdown",
   "metadata": {},
   "source": [
    "# Distance-Matched"
   ]
  },
  {
   "cell_type": "code",
   "execution_count": 115,
   "metadata": {
    "collapsed": false
   },
   "outputs": [],
   "source": [
    "# printMatrix(preds_test_2d, '', 1, 1, title='preds')\n",
    "# printMatrix(labels_test_2d, '', 1, 1, title='Captures')"
   ]
  },
  {
   "cell_type": "code",
   "execution_count": 116,
   "metadata": {
    "collapsed": false
   },
   "outputs": [
    {
     "name": "stdout",
     "output_type": "stream",
     "text": [
      "1.0\n",
      "(60, 60)\n",
      "Limit: 1.0\n"
     ]
    },
    {
     "data": {
      "image/png": "[encoded data removed]",
      "text/plain": [
       "<matplotlib.figure.Figure at 0x7f5ac7cf8690>"
      ]
     },
     "metadata": {},
     "output_type": "display_data"
    },
    {
     "name": "stdout",
     "output_type": "stream",
     "text": [
      "0.980278670788\n",
      "(60, 60)\n",
      "Limit: 0.980278670788\n"
     ]
    },
    {
     "data": {
      "image/png": "[encoded data removed]",
      "text/plain": [
       "<matplotlib.figure.Figure at 0x7f5ac8e0eed0>"
      ]
     },
     "metadata": {},
     "output_type": "display_data"
    }
   ],
   "source": [
    "zoomIn_window = (400,460)\n",
    "NumberOfNodes=2272\n",
    "plot_prediction(change_scale(preds_test_2d)+change_scale(preds_test_2d).T, change_scale(labels_test_2d)+change_scale(labels_test_2d).T, zoomIn_window, )"
   ]
  }
 ],
 "metadata": {
  "anaconda-cloud": {},
  "kernelspec": {
   "display_name": "Python [default]",
   "language": "python",
   "name": "python2"
  },
  "language_info": {
   "codemirror_mode": {
    "name": "ipython",
    "version": 2
   },
   "file_extension": ".py",
   "mimetype": "text/x-python",
   "name": "python",
   "nbconvert_exporter": "python",
   "pygments_lexer": "ipython2",
   "version": "2.7.12"
  }
 },
 "nbformat": 4,
 "nbformat_minor": 0
}
