{
 "cells": [
  {
   "cell_type": "code",
   "execution_count": 85,
   "metadata": {
    "collapsed": false
   },
   "outputs": [
    {
     "name": "stdout",
     "output_type": "stream",
     "text": [
      "The autoreload extension is already loaded. To reload it, use:\n",
      "  %reload_ext autoreload\n"
     ]
    }
   ],
   "source": [
    "%matplotlib inline\n",
    "%load_ext autoreload\n",
    "%autoreload 2\n",
    "\n",
    "import numpy as np\n",
    "import matplotlib.pyplot as plt\n",
    "from sklearn.preprocessing import MinMaxScaler, StandardScaler\n",
    "import copy\n",
    "from models import LongRangeDNN\n",
    "from utils import get_features, get_labels, subsample_data, normalize_features, reconstruct_2d, printMatrix, binarize, zscore, get_2D, plot_prediction, change_scale\n",
    "#from sklearn.preprocessing import MinMaxScaler, StandardScaler\n",
    "#from dragonn.models import Model, SequenceDNN\n",
    "#from keras.models import Sequential\n",
    "#from keras.callbacks import Callback, EarlyStopping\n",
    "#from keras.layers.core import (\n",
    "#    Activation, Dense, Dropout, Flatten,\n",
    "#    Permute, Reshape, TimeDistributedDense\n",
    "#)\n",
    "#from keras.layers.convolutional import Convolution2D, MaxPooling2D\n",
    "#from keras.layers.recurrent import GRU\n",
    "#from keras.regularizers import l1\n",
    "\n",
    "#from deeplift import keras_conversion as kc\n",
    "#from deeplift.blobs import MxtsMode"
   ]
  },
  {
   "cell_type": "code",
   "execution_count": 86,
   "metadata": {
    "collapsed": false
   },
   "outputs": [
    {
     "data": {
      "text/plain": [
       "\"\\nX_train = get_features(data_path+'train_set_upperTriangle_noDiag_reads.npy')\\ny_train = get_labels(data_path+'labels_train_upperTriangle_noDiag.npy')\\nX_valid = get_features(data_path+'vali_set_upperTriangle_noDiag_reads.npy')\\ny_valid = get_labels(data_path+'labels_vali_upperTriangle_noDiag.npy')\\nX_test = get_features(data_path+'test_set_upperTriangle_noDiag_reads.npy')\\ny_test = get_labels(data_path+'labels_test_upperTriangle_noDiag.npy')\\n\\nX_train = get_features('NN_datasets/train_set_all_reads.npy')\\ny_train = get_labels('NN_datasets/labels_train_all.npy')\\nX_valid = get_features('NN_datasets/vali_set_all_reads.npy')\\ny_valid = get_labels('NN_datasets/labels_vali_all.npy')\\nX_test = get_features('NN_datasets/test_set_all_reads.npy')\\ny_test = get_labels('NN_datasets/labels_test_all.npy')\\n\\nX_train_subsampled, y_train_subsampled = subsample_data(X_train, y_train)\\nX_valid_subsampled, y_valid_subsampled = subsample_data(X_valid, y_valid)\\nX_test_subsampled, y_test_subsampled = subsample_data(X_test, y_test)\\n\""
      ]
     },
     "execution_count": 86,
     "metadata": {},
     "output_type": "execute_result"
    }
   ],
   "source": [
    "data_path='/users/mtaranov/NN_all_data/'\n",
    "\n",
    "X_train = get_features('/users/mtaranov/NN_thres5max/dist_matched_chr/X_train_thres_10_chr.npy')\n",
    "y_train = get_labels('/users/mtaranov/NN_thres5max/dist_matched_chr/y_train_thres_10_chr.npy')\n",
    "X_valid = get_features('/users/mtaranov/NN_thres5max/dist_matched_chr/X_valid_thres_10_chr.npy')\n",
    "y_valid = get_labels('/users/mtaranov/NN_thres5max/dist_matched_chr/y_valid_thres_10_chr.npy')\n",
    "X_test = get_features('/users/mtaranov/NN_thres5max/dist_matched_chr/X_test_thres_10_chr.npy')\n",
    "y_test = get_labels('/users/mtaranov/NN_thres5max/dist_matched_chr/y_test_thres_10_chr.npy')\n",
    "\n",
    "X_train_noDM = get_features('/users/mtaranov/NN_thres5max/no_dist_matched_chr/X_train_thres_10_chr_noDM.npy')\n",
    "y_train_noDM = get_labels('/users/mtaranov/NN_thres5max/no_dist_matched_chr/y_train_thres_10_chr_noDM.npy')\n",
    "X_valid_noDM = get_features('/users/mtaranov/NN_thres5max/no_dist_matched_chr/X_valid_thres_10_chr_noDM.npy')\n",
    "y_valid_noDM = get_labels('/users/mtaranov/NN_thres5max/no_dist_matched_chr/y_valid_thres_10_chr_noDM.npy')\n",
    "X_test_noDM = get_features('/users/mtaranov/NN_thres5max/no_dist_matched_chr/X_test_thres_10_chr_noDM.npy')\n",
    "y_test_noDM = get_labels('/users/mtaranov/NN_thres5max/no_dist_matched_chr/y_test_thres_10_chr_noDM.npy')\n",
    "\n",
    "\n",
    "\"\"\"\n",
    "X_train = get_features(data_path+'train_set_upperTriangle_noDiag_reads.npy')\n",
    "y_train = get_labels(data_path+'labels_train_upperTriangle_noDiag.npy')\n",
    "X_valid = get_features(data_path+'vali_set_upperTriangle_noDiag_reads.npy')\n",
    "y_valid = get_labels(data_path+'labels_vali_upperTriangle_noDiag.npy')\n",
    "X_test = get_features(data_path+'test_set_upperTriangle_noDiag_reads.npy')\n",
    "y_test = get_labels(data_path+'labels_test_upperTriangle_noDiag.npy')\n",
    "\n",
    "X_train = get_features('NN_datasets/train_set_all_reads.npy')\n",
    "y_train = get_labels('NN_datasets/labels_train_all.npy')\n",
    "X_valid = get_features('NN_datasets/vali_set_all_reads.npy')\n",
    "y_valid = get_labels('NN_datasets/labels_vali_all.npy')\n",
    "X_test = get_features('NN_datasets/test_set_all_reads.npy')\n",
    "y_test = get_labels('NN_datasets/labels_test_all.npy')\n",
    "\n",
    "X_train_subsampled, y_train_subsampled = subsample_data(X_train, y_train)\n",
    "X_valid_subsampled, y_valid_subsampled = subsample_data(X_valid, y_valid)\n",
    "X_test_subsampled, y_test_subsampled = subsample_data(X_test, y_test)\n",
    "\"\"\""
   ]
  },
  {
   "cell_type": "code",
   "execution_count": 87,
   "metadata": {
    "collapsed": false
   },
   "outputs": [],
   "source": [
    "X_train_normalized, X_valid_normalized, X_test_normalized = normalize_features(X_train, X_valid, X_test)\n",
    "X_train_normalized_noDM, X_valid_normalized_noDM, X_test_normalized_noDM = normalize_features(X_train_noDM, X_valid_noDM, X_test_noDM)\n",
    "\n",
    "#X_train_normalized_subsampled, y_train_subsampled = subsample_data(X_train_normalized, y_train)\n",
    "#X_valid_normalized_subsampled, y_valid_subsampled = subsample_data(X_valid_normalized, y_valid)\n",
    "#X_test_normalized_subsampled, y_test_subsampled = subsample_data(X_test_normalized, y_test)\n",
    "\n",
    "#X_train_scaled_subsampled, y_train_subsampled = subsample_data(X_train_scaled, y_train)\n",
    "#X_valid_scaled_subsampled, y_valid_subsampled = subsample_data(X_valid_scaled, y_valid)\n",
    "#X_test_scaled_subsampled, y_test_subsampled = subsample_data(X_test_scaled, y_test)\n"
   ]
  },
  {
   "cell_type": "markdown",
   "metadata": {},
   "source": [
    "# without distance"
   ]
  },
  {
   "cell_type": "code",
   "execution_count": 89,
   "metadata": {
    "collapsed": true
   },
   "outputs": [],
   "source": [
    "dnn_normalized = LongRangeDNN(num_features=10, use_deep_CNN=True)"
   ]
  },
  {
   "cell_type": "code",
   "execution_count": 90,
   "metadata": {
    "collapsed": false
   },
   "outputs": [
    {
     "name": "stdout",
     "output_type": "stream",
     "text": [
      "Training model...\n",
      "Train on 1694 samples, validate on 392 samples\n",
      "Epoch 1/100\n",
      "1694/1694 [==============================] - 0s - loss: 1.3860 - val_loss: 0.6938\n",
      "Epoch 0: validation loss: 0.694\n",
      "Balanced Accuracy: 54.59%\t auROC: 0.546\t auPRC: 0.596\t auPRG: -0.020\n",
      "Recall at 5%|10%|20% FDR: 0.0%|0.0%|16.8%\t Num Positives: 196\t Num Negatives: 196\t \n",
      "\n",
      "Epoch 2/100\n",
      "1694/1694 [==============================] - 0s - loss: 1.3511 - val_loss: 0.6747\n",
      "Epoch 1: validation loss: 0.675\n",
      "Balanced Accuracy: 56.12%\t auROC: 0.607\t auPRC: 0.662\t auPRG: 0.131\n",
      "Recall at 5%|10%|20% FDR: 6.6%|7.1%|28.1%\t Num Positives: 196\t Num Negatives: 196\t \n",
      "\n",
      "Epoch 3/100\n",
      "1694/1694 [==============================] - 0s - loss: 1.3256 - val_loss: 0.6558\n",
      "Epoch 2: validation loss: 0.656\n",
      "Balanced Accuracy: 58.93%\t auROC: 0.661\t auPRC: 0.704\t auPRG: 0.257\n",
      "Recall at 5%|10%|20% FDR: 9.2%|11.2%|35.7%\t Num Positives: 196\t Num Negatives: 196\t \n",
      "\n",
      "Epoch 4/100\n",
      "1694/1694 [==============================] - 0s - loss: 1.3001 - val_loss: 0.6437\n",
      "Epoch 3: validation loss: 0.644\n",
      "Balanced Accuracy: 61.22%\t auROC: 0.678\t auPRC: 0.716\t auPRG: 0.307\n",
      "Recall at 5%|10%|20% FDR: 10.2%|15.3%|37.8%\t Num Positives: 196\t Num Negatives: 196\t \n",
      "\n",
      "Epoch 5/100\n",
      "1694/1694 [==============================] - 0s - loss: 1.2728 - val_loss: 0.6257\n",
      "Epoch 4: validation loss: 0.626\n",
      "Balanced Accuracy: 64.03%\t auROC: 0.713\t auPRC: 0.740\t auPRG: 0.399\n",
      "Recall at 5%|10%|20% FDR: 14.8%|16.8%|39.8%\t Num Positives: 196\t Num Negatives: 196\t \n",
      "\n",
      "Epoch 6/100\n",
      "1694/1694 [==============================] - 0s - loss: 1.2439 - val_loss: 0.6155\n",
      "Epoch 5: validation loss: 0.616\n",
      "Balanced Accuracy: 64.80%\t auROC: 0.722\t auPRC: 0.746\t auPRG: 0.422\n",
      "Recall at 5%|10%|20% FDR: 14.8%|16.8%|44.4%\t Num Positives: 196\t Num Negatives: 196\t \n",
      "\n",
      "Epoch 7/100\n",
      "1694/1694 [==============================] - 0s - loss: 1.2174 - val_loss: 0.6050\n",
      "Epoch 6: validation loss: 0.605\n",
      "Balanced Accuracy: 66.07%\t auROC: 0.731\t auPRC: 0.752\t auPRG: 0.448\n",
      "Recall at 5%|10%|20% FDR: 13.8%|16.3%|46.4%\t Num Positives: 196\t Num Negatives: 196\t \n",
      "\n",
      "Epoch 8/100\n",
      "1694/1694 [==============================] - 0s - loss: 1.1905 - val_loss: 0.5990\n",
      "Epoch 7: validation loss: 0.599\n",
      "Balanced Accuracy: 66.07%\t auROC: 0.737\t auPRC: 0.758\t auPRG: 0.473\n",
      "Recall at 5%|10%|20% FDR: 12.8%|17.9%|48.0%\t Num Positives: 196\t Num Negatives: 196\t \n",
      "\n",
      "Epoch 9/100\n",
      "1694/1694 [==============================] - 0s - loss: 1.1654 - val_loss: 0.5926\n",
      "Epoch 8: validation loss: 0.593\n",
      "Balanced Accuracy: 67.35%\t auROC: 0.748\t auPRC: 0.767\t auPRG: 0.508\n",
      "Recall at 5%|10%|20% FDR: 7.1%|16.8%|51.0%\t Num Positives: 196\t Num Negatives: 196\t \n",
      "\n",
      "Epoch 10/100\n",
      "1694/1694 [==============================] - 0s - loss: 1.1410 - val_loss: 0.5879\n",
      "Epoch 9: validation loss: 0.588\n",
      "Balanced Accuracy: 68.37%\t auROC: 0.752\t auPRC: 0.773\t auPRG: 0.520\n",
      "Recall at 5%|10%|20% FDR: 7.1%|19.4%|55.6%\t Num Positives: 196\t Num Negatives: 196\t \n",
      "\n",
      "Epoch 11/100\n",
      "1694/1694 [==============================] - 0s - loss: 1.1134 - val_loss: 0.5872\n",
      "Epoch 10: validation loss: 0.587\n",
      "Balanced Accuracy: 67.35%\t auROC: 0.752\t auPRC: 0.778\t auPRG: 0.521\n",
      "Recall at 5%|10%|20% FDR: 8.2%|16.3%|56.6%\t Num Positives: 196\t Num Negatives: 196\t \n",
      "\n",
      "Epoch 12/100\n",
      "1694/1694 [==============================] - 0s - loss: 1.0896 - val_loss: 0.5862\n",
      "Epoch 11: validation loss: 0.586\n",
      "Balanced Accuracy: 66.84%\t auROC: 0.753\t auPRC: 0.780\t auPRG: 0.524\n",
      "Recall at 5%|10%|20% FDR: 6.1%|21.9%|58.2%\t Num Positives: 196\t Num Negatives: 196\t \n",
      "\n",
      "Epoch 13/100\n",
      "1694/1694 [==============================] - 0s - loss: 1.0677 - val_loss: 0.5931\n",
      "Epoch 12: validation loss: 0.593\n",
      "Balanced Accuracy: 67.35%\t auROC: 0.749\t auPRC: 0.774\t auPRG: 0.503\n",
      "Recall at 5%|10%|20% FDR: 5.6%|20.9%|55.1%\t Num Positives: 196\t Num Negatives: 196\t \n",
      "\n",
      "Epoch 14/100\n",
      "1694/1694 [==============================] - 0s - loss: 1.0471 - val_loss: 0.5897\n",
      "Epoch 13: validation loss: 0.590\n",
      "Balanced Accuracy: 67.35%\t auROC: 0.753\t auPRC: 0.780\t auPRG: 0.520\n",
      "Recall at 5%|10%|20% FDR: 5.1%|43.4%|56.6%\t Num Positives: 196\t Num Negatives: 196\t \n",
      "\n",
      "Epoch 15/100\n",
      "1694/1694 [==============================] - 0s - loss: 1.0264 - val_loss: 0.5923\n",
      "Epoch 14: validation loss: 0.592\n",
      "Balanced Accuracy: 67.35%\t auROC: 0.751\t auPRC: 0.776\t auPRG: 0.507\n",
      "Recall at 5%|10%|20% FDR: 4.6%|23.5%|55.1%\t Num Positives: 196\t Num Negatives: 196\t \n",
      "\n",
      "Epoch 16/100\n",
      "1694/1694 [==============================] - 0s - loss: 1.0092 - val_loss: 0.5994\n",
      "Epoch 15: validation loss: 0.599\n",
      "Balanced Accuracy: 67.35%\t auROC: 0.746\t auPRC: 0.774\t auPRG: 0.489\n",
      "Recall at 5%|10%|20% FDR: 4.6%|24.0%|53.6%\t Num Positives: 196\t Num Negatives: 196\t \n",
      "\n",
      "Epoch 17/100\n",
      "1694/1694 [==============================] - 0s - loss: 0.9940 - val_loss: 0.6015\n",
      "Epoch 16: validation loss: 0.601\n",
      "Balanced Accuracy: 67.35%\t auROC: 0.746\t auPRC: 0.775\t auPRG: 0.491\n",
      "Recall at 5%|10%|20% FDR: 11.2%|41.8%|54.1%\t Num Positives: 196\t Num Negatives: 196\t \n",
      "\n",
      "Epoch 18/100\n",
      "1694/1694 [==============================] - 0s - loss: 0.9748 - val_loss: 0.5938\n",
      "Epoch 17: validation loss: 0.594\n",
      "Balanced Accuracy: 67.60%\t auROC: 0.752\t auPRC: 0.777\t auPRG: 0.510\n",
      "Recall at 5%|10%|20% FDR: 4.1%|42.3%|53.6%\t Num Positives: 196\t Num Negatives: 196\t \n",
      "\n",
      "Epoch 19/100\n",
      "1694/1694 [==============================] - 0s - loss: 0.9560 - val_loss: 0.5968\n",
      "Epoch 18: validation loss: 0.597\n",
      "Balanced Accuracy: 68.37%\t auROC: 0.749\t auPRC: 0.776\t auPRG: 0.503\n",
      "Recall at 5%|10%|20% FDR: 11.2%|41.3%|54.6%\t Num Positives: 196\t Num Negatives: 196\t \n",
      "\n",
      "Epoch 20/100\n",
      "1694/1694 [==============================] - 0s - loss: 0.9389 - val_loss: 0.5988\n",
      "Epoch 19: validation loss: 0.599\n",
      "Balanced Accuracy: 68.11%\t auROC: 0.750\t auPRC: 0.777\t auPRG: 0.506\n",
      "Recall at 5%|10%|20% FDR: 12.2%|26.5%|54.1%\t Num Positives: 196\t Num Negatives: 196\t \n",
      "\n",
      "Epoch 21/100\n",
      "1694/1694 [==============================] - 0s - loss: 0.9215 - val_loss: 0.6013\n",
      "Epoch 20: validation loss: 0.601\n",
      "Balanced Accuracy: 68.11%\t auROC: 0.749\t auPRC: 0.774\t auPRG: 0.500\n",
      "Recall at 5%|10%|20% FDR: 3.1%|27.0%|55.1%\t Num Positives: 196\t Num Negatives: 196\t \n",
      "\n",
      "Epoch 22/100\n",
      "1694/1694 [==============================] - 0s - loss: 0.9029 - val_loss: 0.5988\n",
      "Epoch 21: validation loss: 0.599\n",
      "Balanced Accuracy: 68.11%\t auROC: 0.754\t auPRC: 0.780\t auPRG: 0.518\n",
      "Recall at 5%|10%|20% FDR: 3.1%|31.1%|54.6%\t Num Positives: 196\t Num Negatives: 196\t \n",
      "\n",
      "Epoch 23/100\n",
      "1694/1694 [==============================] - 0s - loss: 0.8832 - val_loss: 0.5974\n",
      "Epoch 22: validation loss: 0.597\n",
      "Balanced Accuracy: 69.39%\t auROC: 0.755\t auPRC: 0.779\t auPRG: 0.518\n",
      "Recall at 5%|10%|20% FDR: 3.1%|33.2%|54.1%\t Num Positives: 196\t Num Negatives: 196\t \n",
      "\n"
     ]
    }
   ],
   "source": [
    "#validation_data = (X_valid_normalized_subsampled[:, :, :10, :], y_valid_subsampled)\n",
    "#dnn_normalized.train(X_train_normalized_subsampled[:, :, :10, :], y_train_subsampled, validation_data)\n",
    "validation_data = (X_valid_normalized[:, :, :10, :], y_valid)\n",
    "dnn_normalized.train(X_train_normalized[:, :, :10, :], y_train, validation_data)"
   ]
  },
  {
   "cell_type": "markdown",
   "metadata": {},
   "source": [
    "## preds on distance-matched"
   ]
  },
  {
   "cell_type": "code",
   "execution_count": 91,
   "metadata": {
    "collapsed": false
   },
   "outputs": [
    {
     "name": "stdout",
     "output_type": "stream",
     "text": [
      "Balanced Accuracy: 64.04%\t auROC: 0.701\t auPRC: 0.707\t auPRG: 0.404\n",
      "Recall at 5%|10%|20% FDR: 6.7%|15.7%|23.6%\t Num Positives: 89\t Num Negatives: 89\t \n"
     ]
    }
   ],
   "source": [
    "print(dnn_normalized.test(X_test_normalized[:, :, :10, :], y_test))"
   ]
  },
  {
   "cell_type": "code",
   "execution_count": 92,
   "metadata": {
    "collapsed": false
   },
   "outputs": [
    {
     "name": "stdout",
     "output_type": "stream",
     "text": [
      "Balanced Accuracy: 80.99%\t auROC: 0.888\t auPRC: 0.883\t auPRG: 0.820\n",
      "Recall at 5%|10%|20% FDR: 7.1%|68.8%|81.6%\t Num Positives: 847\t Num Negatives: 847\t \n"
     ]
    }
   ],
   "source": [
    "print(dnn_normalized.test(X_train_normalized[:, :, :10:, :], y_train))"
   ]
  },
  {
   "cell_type": "code",
   "execution_count": 93,
   "metadata": {
    "collapsed": false
   },
   "outputs": [
    {
     "name": "stdout",
     "output_type": "stream",
     "text": [
      "Balanced Accuracy: 69.39%\t auROC: 0.755\t auPRC: 0.779\t auPRG: 0.518\n",
      "Recall at 5%|10%|20% FDR: 3.1%|33.2%|54.1%\t Num Positives: 196\t Num Negatives: 196\t \n"
     ]
    }
   ],
   "source": [
    "print(dnn_normalized.test(X_valid_normalized[:, :, :10, :], y_valid))"
   ]
  },
  {
   "cell_type": "code",
   "execution_count": 94,
   "metadata": {
    "collapsed": false
   },
   "outputs": [],
   "source": [
    "pred_probs_test = dnn_normalized.predict(X_test_normalized[:, :, :10, :])\n",
    "#np.save(\"model_predictions/test_set_upperTriangle_noDiag_reads_with_distances_full_valid.npy\", pred_probs_test)\n",
    "pred_probs_valid = dnn_normalized.predict(X_valid_normalized[:, :, :10, :])\n",
    "#np.save(\"model_predictions/valid_set_upperTriangle_noDiag_reads_with_distances_full_valid.npy\", pred_probs_valid)\n",
    "pred_probs_train = dnn_normalized.predict(X_train_normalized[:, :, :10, :])\n",
    "#np.save(\"model_predictions/train_set_upperTriangle_noDiag_reads_with_distances_full_valid.npy\", pred_probs_train)"
   ]
  },
  {
   "cell_type": "markdown",
   "metadata": {},
   "source": [
    "### preds on not distance-matched"
   ]
  },
  {
   "cell_type": "code",
   "execution_count": 95,
   "metadata": {
    "collapsed": false
   },
   "outputs": [
    {
     "name": "stdout",
     "output_type": "stream",
     "text": [
      "Balanced Accuracy: 57.46%\t auROC: 0.596\t auPRC: 0.002\t auPRG: 0.279\n",
      "Recall at 5%|10%|20% FDR: 0.0%|0.0%|0.0%\t Num Positives: 221\t Num Negatives: 152062\t \n"
     ]
    }
   ],
   "source": [
    "print(dnn_normalized.test(X_test_normalized_noDM[:, :, :10, :], y_test_noDM))"
   ]
  },
  {
   "cell_type": "code",
   "execution_count": 96,
   "metadata": {
    "collapsed": false
   },
   "outputs": [
    {
     "name": "stdout",
     "output_type": "stream",
     "text": [
      "Balanced Accuracy: 64.36%\t auROC: 0.699\t auPRC: 0.003\t auPRG: 0.544\n",
      "Recall at 5%|10%|20% FDR: 0.0%|0.0%|0.0%\t Num Positives: 1156\t Num Negatives: 686628\t \n"
     ]
    }
   ],
   "source": [
    "print(dnn_normalized.test(X_train_normalized_noDM[:, :, :10, :], y_train_noDM))"
   ]
  },
  {
   "cell_type": "code",
   "execution_count": 97,
   "metadata": {
    "collapsed": false
   },
   "outputs": [
    {
     "name": "stdout",
     "output_type": "stream",
     "text": [
      "Balanced Accuracy: 61.24%\t auROC: 0.659\t auPRC: 0.003\t auPRG: 0.865\n",
      "Recall at 5%|10%|20% FDR: 0.0%|0.0%|0.0%\t Num Positives: 288\t Num Negatives: 237639\t \n"
     ]
    }
   ],
   "source": [
    "print(dnn_normalized.test(X_valid_normalized_noDM[:, :, :10, :], y_valid_noDM))"
   ]
  },
  {
   "cell_type": "code",
   "execution_count": 98,
   "metadata": {
    "collapsed": true
   },
   "outputs": [],
   "source": [
    "pred_probs_test_noDM = dnn_normalized.predict(X_test_normalized_noDM[:, :, :10, :])\n",
    "#np.save(\"model_predictions/test_set_upperTriangle_noDiag_reads_with_distances_full_valid.npy\", pred_probs_test)\n",
    "pred_probs_valid_noDM = dnn_normalized.predict(X_valid_normalized_noDM[:, :, :10, :])\n",
    "#np.save(\"model_predictions/valid_set_upperTriangle_noDiag_reads_with_distances_full_valid.npy\", pred_probs_valid)\n",
    "pred_probs_train_noDM = dnn_normalized.predict(X_train_normalized_noDM[:, :, :10, :])\n",
    "#np.save(\"model_predictions/train_set_upperTriangle_noDiag_reads_with_distances_full_valid.npy\", pred_probs_train)"
   ]
  },
  {
   "cell_type": "markdown",
   "metadata": {},
   "source": [
    "# with genomic locations"
   ]
  },
  {
   "cell_type": "code",
   "execution_count": 99,
   "metadata": {
    "collapsed": true
   },
   "outputs": [],
   "source": [
    "dnn_normalized = LongRangeDNN(num_features=11, use_deep_CNN=True)"
   ]
  },
  {
   "cell_type": "code",
   "execution_count": 100,
   "metadata": {
    "collapsed": false
   },
   "outputs": [
    {
     "name": "stdout",
     "output_type": "stream",
     "text": [
      "Training model...\n",
      "Train on 1694 samples, validate on 392 samples\n",
      "Epoch 1/100\n",
      "1694/1694 [==============================] - 0s - loss: 1.4177 - val_loss: 0.6829\n",
      "Epoch 0: validation loss: 0.683\n",
      "Balanced Accuracy: 56.89%\t auROC: 0.604\t auPRC: 0.603\t auPRG: 0.219\n",
      "Recall at 5%|10%|20% FDR: 3.6%|6.6%|6.6%\t Num Positives: 196\t Num Negatives: 196\t \n",
      "\n",
      "Epoch 2/100\n",
      "1694/1694 [==============================] - 0s - loss: 1.3562 - val_loss: 0.6619\n",
      "Epoch 1: validation loss: 0.662\n",
      "Balanced Accuracy: 65.31%\t auROC: 0.705\t auPRC: 0.687\t auPRG: 0.404\n",
      "Recall at 5%|10%|20% FDR: 3.6%|6.6%|16.3%\t Num Positives: 196\t Num Negatives: 196\t \n",
      "\n",
      "Epoch 3/100\n",
      "1694/1694 [==============================] - 0s - loss: 1.3255 - val_loss: 0.6383\n",
      "Epoch 2: validation loss: 0.638\n",
      "Balanced Accuracy: 68.88%\t auROC: 0.750\t auPRC: 0.739\t auPRG: 0.505\n",
      "Recall at 5%|10%|20% FDR: 8.2%|9.2%|28.1%\t Num Positives: 196\t Num Negatives: 196\t \n",
      "\n",
      "Epoch 4/100\n",
      "1694/1694 [==============================] - 0s - loss: 1.2811 - val_loss: 0.6117\n",
      "Epoch 3: validation loss: 0.612\n",
      "Balanced Accuracy: 70.66%\t auROC: 0.778\t auPRC: 0.765\t auPRG: 0.575\n",
      "Recall at 5%|10%|20% FDR: 3.1%|9.7%|40.8%\t Num Positives: 196\t Num Negatives: 196\t \n",
      "\n",
      "Epoch 5/100\n",
      "1694/1694 [==============================] - 0s - loss: 1.2326 - val_loss: 0.5827\n",
      "Epoch 4: validation loss: 0.583\n",
      "Balanced Accuracy: 72.70%\t auROC: 0.796\t auPRC: 0.784\t auPRG: 0.618\n",
      "Recall at 5%|10%|20% FDR: 4.1%|9.7%|58.7%\t Num Positives: 196\t Num Negatives: 196\t \n",
      "\n",
      "Epoch 6/100\n",
      "1694/1694 [==============================] - 0s - loss: 1.1830 - val_loss: 0.5515\n",
      "Epoch 5: validation loss: 0.552\n",
      "Balanced Accuracy: 74.74%\t auROC: 0.811\t auPRC: 0.803\t auPRG: 0.652\n",
      "Recall at 5%|10%|20% FDR: 6.1%|10.7%|61.7%\t Num Positives: 196\t Num Negatives: 196\t \n",
      "\n",
      "Epoch 7/100\n",
      "1694/1694 [==============================] - 0s - loss: 1.1352 - val_loss: 0.5329\n",
      "Epoch 6: validation loss: 0.533\n",
      "Balanced Accuracy: 75.77%\t auROC: 0.823\t auPRC: 0.816\t auPRG: 0.681\n",
      "Recall at 5%|10%|20% FDR: 8.2%|21.4%|67.9%\t Num Positives: 196\t Num Negatives: 196\t \n",
      "\n",
      "Epoch 8/100\n",
      "1694/1694 [==============================] - 0s - loss: 1.1052 - val_loss: 0.5278\n",
      "Epoch 7: validation loss: 0.528\n",
      "Balanced Accuracy: 75.51%\t auROC: 0.832\t auPRC: 0.828\t auPRG: 0.700\n",
      "Recall at 5%|10%|20% FDR: 23.0%|24.5%|67.3%\t Num Positives: 196\t Num Negatives: 196\t \n",
      "\n",
      "Epoch 9/100\n",
      "1694/1694 [==============================] - 0s - loss: 1.0684 - val_loss: 0.5121\n",
      "Epoch 8: validation loss: 0.512\n",
      "Balanced Accuracy: 75.51%\t auROC: 0.836\t auPRC: 0.834\t auPRG: 0.710\n",
      "Recall at 5%|10%|20% FDR: 23.0%|28.1%|69.4%\t Num Positives: 196\t Num Negatives: 196\t \n",
      "\n",
      "Epoch 10/100\n",
      "1694/1694 [==============================] - 0s - loss: 1.0371 - val_loss: 0.5111\n",
      "Epoch 9: validation loss: 0.511\n",
      "Balanced Accuracy: 77.04%\t auROC: 0.841\t auPRC: 0.838\t auPRG: 0.715\n",
      "Recall at 5%|10%|20% FDR: 11.2%|28.6%|68.4%\t Num Positives: 196\t Num Negatives: 196\t \n",
      "\n",
      "Epoch 11/100\n",
      "1694/1694 [==============================] - 0s - loss: 1.0081 - val_loss: 0.5057\n",
      "Epoch 10: validation loss: 0.506\n",
      "Balanced Accuracy: 76.79%\t auROC: 0.840\t auPRC: 0.838\t auPRG: 0.713\n",
      "Recall at 5%|10%|20% FDR: 11.2%|30.1%|70.4%\t Num Positives: 196\t Num Negatives: 196\t \n",
      "\n",
      "Epoch 12/100\n",
      "1694/1694 [==============================] - 0s - loss: 0.9803 - val_loss: 0.5028\n",
      "Epoch 11: validation loss: 0.503\n",
      "Balanced Accuracy: 76.79%\t auROC: 0.841\t auPRC: 0.839\t auPRG: 0.711\n",
      "Recall at 5%|10%|20% FDR: 23.5%|31.1%|72.4%\t Num Positives: 196\t Num Negatives: 196\t \n",
      "\n",
      "Epoch 13/100\n",
      "1694/1694 [==============================] - 0s - loss: 0.9588 - val_loss: 0.5050\n",
      "Epoch 12: validation loss: 0.505\n",
      "Balanced Accuracy: 76.53%\t auROC: 0.844\t auPRC: 0.843\t auPRG: 0.712\n",
      "Recall at 5%|10%|20% FDR: 25.0%|40.3%|71.9%\t Num Positives: 196\t Num Negatives: 196\t \n",
      "\n",
      "Epoch 14/100\n",
      "1694/1694 [==============================] - 0s - loss: 0.9409 - val_loss: 0.4969\n",
      "Epoch 13: validation loss: 0.497\n",
      "Balanced Accuracy: 77.04%\t auROC: 0.843\t auPRC: 0.843\t auPRG: 0.708\n",
      "Recall at 5%|10%|20% FDR: 25.0%|39.8%|71.4%\t Num Positives: 196\t Num Negatives: 196\t \n",
      "\n",
      "Epoch 15/100\n",
      "1694/1694 [==============================] - 0s - loss: 0.9077 - val_loss: 0.4993\n",
      "Epoch 14: validation loss: 0.499\n",
      "Balanced Accuracy: 76.79%\t auROC: 0.846\t auPRC: 0.849\t auPRG: 0.715\n",
      "Recall at 5%|10%|20% FDR: 27.0%|47.4%|71.9%\t Num Positives: 196\t Num Negatives: 196\t \n",
      "\n",
      "Epoch 16/100\n",
      "1694/1694 [==============================] - 0s - loss: 0.8899 - val_loss: 0.4935\n",
      "Epoch 15: validation loss: 0.493\n",
      "Balanced Accuracy: 76.79%\t auROC: 0.847\t auPRC: 0.851\t auPRG: 0.718\n",
      "Recall at 5%|10%|20% FDR: 27.6%|52.0%|72.4%\t Num Positives: 196\t Num Negatives: 196\t \n",
      "\n",
      "Epoch 17/100\n",
      "1694/1694 [==============================] - 0s - loss: 0.8703 - val_loss: 0.4972\n",
      "Epoch 16: validation loss: 0.497\n",
      "Balanced Accuracy: 76.53%\t auROC: 0.844\t auPRC: 0.850\t auPRG: 0.719\n",
      "Recall at 5%|10%|20% FDR: 26.5%|51.0%|68.9%\t Num Positives: 196\t Num Negatives: 196\t \n",
      "\n",
      "Epoch 18/100\n",
      "1694/1694 [==============================] - 0s - loss: 0.8493 - val_loss: 0.4939\n",
      "Epoch 17: validation loss: 0.494\n",
      "Balanced Accuracy: 76.02%\t auROC: 0.845\t auPRC: 0.851\t auPRG: 0.719\n",
      "Recall at 5%|10%|20% FDR: 27.6%|51.5%|71.9%\t Num Positives: 196\t Num Negatives: 196\t \n",
      "\n",
      "Epoch 19/100\n",
      "1694/1694 [==============================] - 0s - loss: 0.8342 - val_loss: 0.4943\n",
      "Epoch 18: validation loss: 0.494\n",
      "Balanced Accuracy: 76.53%\t auROC: 0.845\t auPRC: 0.852\t auPRG: 0.722\n",
      "Recall at 5%|10%|20% FDR: 26.5%|52.0%|70.9%\t Num Positives: 196\t Num Negatives: 196\t \n",
      "\n",
      "Epoch 20/100\n",
      "1694/1694 [==============================] - 0s - loss: 0.8233 - val_loss: 0.5021\n",
      "Epoch 19: validation loss: 0.502\n",
      "Balanced Accuracy: 76.79%\t auROC: 0.844\t auPRC: 0.854\t auPRG: 0.713\n",
      "Recall at 5%|10%|20% FDR: 24.5%|50.0%|70.9%\t Num Positives: 196\t Num Negatives: 196\t \n",
      "\n",
      "Epoch 21/100\n",
      "1694/1694 [==============================] - 0s - loss: 0.8039 - val_loss: 0.4908\n",
      "Epoch 20: validation loss: 0.491\n",
      "Balanced Accuracy: 77.30%\t auROC: 0.845\t auPRC: 0.852\t auPRG: 0.719\n",
      "Recall at 5%|10%|20% FDR: 26.0%|51.5%|72.4%\t Num Positives: 196\t Num Negatives: 196\t \n",
      "\n",
      "Epoch 22/100\n",
      "1694/1694 [==============================] - 0s - loss: 0.7860 - val_loss: 0.4996\n",
      "Epoch 21: validation loss: 0.500\n",
      "Balanced Accuracy: 77.30%\t auROC: 0.846\t auPRC: 0.854\t auPRG: 0.721\n",
      "Recall at 5%|10%|20% FDR: 25.5%|51.5%|72.4%\t Num Positives: 196\t Num Negatives: 196\t \n",
      "\n",
      "Epoch 23/100\n",
      "1694/1694 [==============================] - 0s - loss: 0.7699 - val_loss: 0.4935\n",
      "Epoch 22: validation loss: 0.494\n",
      "Balanced Accuracy: 77.04%\t auROC: 0.844\t auPRC: 0.853\t auPRG: 0.718\n",
      "Recall at 5%|10%|20% FDR: 25.5%|49.5%|72.4%\t Num Positives: 196\t Num Negatives: 196\t \n",
      "\n",
      "Epoch 24/100\n",
      "1694/1694 [==============================] - 0s - loss: 0.7559 - val_loss: 0.5020\n",
      "Epoch 23: validation loss: 0.502\n",
      "Balanced Accuracy: 76.53%\t auROC: 0.842\t auPRC: 0.852\t auPRG: 0.715\n",
      "Recall at 5%|10%|20% FDR: 24.5%|48.0%|70.9%\t Num Positives: 196\t Num Negatives: 196\t \n",
      "\n",
      "Epoch 25/100\n",
      "1694/1694 [==============================] - 0s - loss: 0.7401 - val_loss: 0.4933\n",
      "Epoch 24: validation loss: 0.493\n",
      "Balanced Accuracy: 77.04%\t auROC: 0.845\t auPRC: 0.854\t auPRG: 0.718\n",
      "Recall at 5%|10%|20% FDR: 24.5%|52.0%|71.9%\t Num Positives: 196\t Num Negatives: 196\t \n",
      "\n",
      "Epoch 26/100\n",
      "1694/1694 [==============================] - 0s - loss: 0.7292 - val_loss: 0.5013\n",
      "Epoch 25: validation loss: 0.501\n",
      "Balanced Accuracy: 76.79%\t auROC: 0.844\t auPRC: 0.853\t auPRG: 0.720\n",
      "Recall at 5%|10%|20% FDR: 24.5%|53.1%|71.4%\t Num Positives: 196\t Num Negatives: 196\t \n",
      "\n",
      "Epoch 27/100\n",
      "1694/1694 [==============================] - 0s - loss: 0.7172 - val_loss: 0.5118\n",
      "Epoch 26: validation loss: 0.512\n",
      "Balanced Accuracy: 77.30%\t auROC: 0.845\t auPRC: 0.857\t auPRG: 0.719\n",
      "Recall at 5%|10%|20% FDR: 28.1%|52.6%|70.9%\t Num Positives: 196\t Num Negatives: 196\t \n",
      "\n",
      "Epoch 28/100\n",
      "1694/1694 [==============================] - 0s - loss: 0.6971 - val_loss: 0.4967\n",
      "Epoch 27: validation loss: 0.497\n",
      "Balanced Accuracy: 76.53%\t auROC: 0.845\t auPRC: 0.855\t auPRG: 0.722\n",
      "Recall at 5%|10%|20% FDR: 26.0%|51.5%|71.4%\t Num Positives: 196\t Num Negatives: 196\t \n",
      "\n",
      "Epoch 29/100\n",
      "1694/1694 [==============================] - 0s - loss: 0.6867 - val_loss: 0.5140\n",
      "Epoch 28: validation loss: 0.514\n",
      "Balanced Accuracy: 77.04%\t auROC: 0.842\t auPRC: 0.856\t auPRG: 0.717\n",
      "Recall at 5%|10%|20% FDR: 27.6%|55.6%|69.4%\t Num Positives: 196\t Num Negatives: 196\t \n",
      "\n",
      "Epoch 30/100\n",
      "1694/1694 [==============================] - 0s - loss: 0.6696 - val_loss: 0.5056\n",
      "Epoch 29: validation loss: 0.506\n",
      "Balanced Accuracy: 76.53%\t auROC: 0.844\t auPRC: 0.855\t auPRG: 0.723\n",
      "Recall at 5%|10%|20% FDR: 28.1%|54.1%|69.9%\t Num Positives: 196\t Num Negatives: 196\t \n",
      "\n",
      "Epoch 31/100\n",
      "1694/1694 [==============================] - 0s - loss: 0.6573 - val_loss: 0.5132\n",
      "Epoch 30: validation loss: 0.513\n",
      "Balanced Accuracy: 77.04%\t auROC: 0.843\t auPRC: 0.855\t auPRG: 0.720\n",
      "Recall at 5%|10%|20% FDR: 28.1%|54.1%|69.9%\t Num Positives: 196\t Num Negatives: 196\t \n",
      "\n",
      "Epoch 32/100\n",
      "1694/1694 [==============================] - 0s - loss: 0.6452 - val_loss: 0.5249\n",
      "Epoch 31: validation loss: 0.525\n",
      "Balanced Accuracy: 77.04%\t auROC: 0.841\t auPRC: 0.856\t auPRG: 0.716\n",
      "Recall at 5%|10%|20% FDR: 39.3%|56.1%|68.9%\t Num Positives: 196\t Num Negatives: 196\t \n",
      "\n"
     ]
    }
   ],
   "source": [
    "#validation_data = (X_valid_normalized_subsampled[:, :, :11, :], y_valid_subsampled)\n",
    "#dnn_normalized.train(X_train_normalized_subsampled[:, :, :11, :], y_train_subsampled, validation_data)\n",
    "validation_data = (X_valid_normalized[:, :, :11, :], y_valid)\n",
    "dnn_normalized.train(X_train_normalized[:, :, :11, :], y_train, validation_data)"
   ]
  },
  {
   "cell_type": "code",
   "execution_count": 101,
   "metadata": {
    "collapsed": false
   },
   "outputs": [
    {
     "name": "stdout",
     "output_type": "stream",
     "text": [
      "Balanced Accuracy: 71.91%\t auROC: 0.761\t auPRC: 0.795\t auPRG: 0.557\n",
      "Recall at 5%|10%|20% FDR: 24.7%|24.7%|56.2%\t Num Positives: 89\t Num Negatives: 89\t \n"
     ]
    }
   ],
   "source": [
    "print(dnn_normalized.test(X_test_normalized[:, :, :11, :], y_test))"
   ]
  },
  {
   "cell_type": "markdown",
   "metadata": {},
   "source": [
    "# with distance only"
   ]
  },
  {
   "cell_type": "code",
   "execution_count": 102,
   "metadata": {
    "collapsed": true
   },
   "outputs": [],
   "source": [
    "dnn_normalized = LongRangeDNN(num_features=1, use_deep_CNN=True)"
   ]
  },
  {
   "cell_type": "code",
   "execution_count": 104,
   "metadata": {
    "collapsed": false
   },
   "outputs": [
    {
     "name": "stdout",
     "output_type": "stream",
     "text": [
      "Training model...\n",
      "Train on 1694 samples, validate on 392 samples\n",
      "Epoch 1/100\n",
      "1694/1694 [==============================] - 0s - loss: 1.2051 - val_loss: 0.5873\n",
      "Epoch 0: validation loss: 0.587\n",
      "Balanced Accuracy: 67.35%\t auROC: 0.752\t auPRC: 0.701\t auPRG: 0.499\n",
      "Recall at 5%|10%|20% FDR: 0.0%|0.0%|10.7%\t Num Positives: 196\t Num Negatives: 196\t \n",
      "\n",
      "Epoch 2/100\n",
      "1694/1694 [==============================] - 0s - loss: 1.2038 - val_loss: 0.5854\n",
      "Epoch 1: validation loss: 0.585\n",
      "Balanced Accuracy: 67.86%\t auROC: 0.762\t auPRC: 0.724\t auPRG: 0.535\n",
      "Recall at 5%|10%|20% FDR: 2.0%|2.0%|11.2%\t Num Positives: 196\t Num Negatives: 196\t \n",
      "\n",
      "Epoch 3/100\n",
      "1694/1694 [==============================] - 0s - loss: 1.2049 - val_loss: 0.5873\n",
      "Epoch 2: validation loss: 0.587\n",
      "Balanced Accuracy: 67.35%\t auROC: 0.756\t auPRC: 0.717\t auPRG: 0.504\n",
      "Recall at 5%|10%|20% FDR: 1.0%|1.0%|11.2%\t Num Positives: 196\t Num Negatives: 196\t \n",
      "\n",
      "Epoch 4/100\n",
      "1694/1694 [==============================] - 0s - loss: 1.2040 - val_loss: 0.5888\n",
      "Epoch 3: validation loss: 0.589\n",
      "Balanced Accuracy: 67.35%\t auROC: 0.756\t auPRC: 0.708\t auPRG: 0.512\n",
      "Recall at 5%|10%|20% FDR: 0.0%|0.0%|11.2%\t Num Positives: 196\t Num Negatives: 196\t \n",
      "\n",
      "Epoch 5/100\n",
      "1694/1694 [==============================] - 0s - loss: 1.2034 - val_loss: 0.5865\n",
      "Epoch 4: validation loss: 0.586\n",
      "Balanced Accuracy: 67.35%\t auROC: 0.756\t auPRC: 0.706\t auPRG: 0.505\n",
      "Recall at 5%|10%|20% FDR: 0.0%|0.0%|10.7%\t Num Positives: 196\t Num Negatives: 196\t \n",
      "\n",
      "Epoch 6/100\n",
      "1694/1694 [==============================] - 0s - loss: 1.2053 - val_loss: 0.5858\n",
      "Epoch 5: validation loss: 0.586\n",
      "Balanced Accuracy: 67.35%\t auROC: 0.762\t auPRC: 0.713\t auPRG: 0.532\n",
      "Recall at 5%|10%|20% FDR: 0.0%|0.0%|11.2%\t Num Positives: 196\t Num Negatives: 196\t \n",
      "\n",
      "Epoch 7/100\n",
      "1694/1694 [==============================] - 0s - loss: 1.2026 - val_loss: 0.5885\n",
      "Epoch 6: validation loss: 0.589\n",
      "Balanced Accuracy: 67.35%\t auROC: 0.764\t auPRC: 0.717\t auPRG: 0.545\n",
      "Recall at 5%|10%|20% FDR: 0.0%|0.0%|11.7%\t Num Positives: 196\t Num Negatives: 196\t \n",
      "\n",
      "Epoch 8/100\n",
      "1694/1694 [==============================] - 0s - loss: 1.2048 - val_loss: 0.5848\n",
      "Epoch 7: validation loss: 0.585\n",
      "Balanced Accuracy: 67.35%\t auROC: 0.755\t auPRC: 0.705\t auPRG: 0.502\n",
      "Recall at 5%|10%|20% FDR: 0.0%|0.0%|11.2%\t Num Positives: 196\t Num Negatives: 196\t \n",
      "\n",
      "Epoch 9/100\n",
      "1694/1694 [==============================] - 0s - loss: 1.2061 - val_loss: 0.5866\n",
      "Epoch 8: validation loss: 0.587\n",
      "Balanced Accuracy: 67.35%\t auROC: 0.757\t auPRC: 0.710\t auPRG: 0.509\n",
      "Recall at 5%|10%|20% FDR: 0.0%|0.0%|11.2%\t Num Positives: 196\t Num Negatives: 196\t \n",
      "\n",
      "Epoch 10/100\n",
      "1694/1694 [==============================] - 0s - loss: 1.2023 - val_loss: 0.5867\n",
      "Epoch 9: validation loss: 0.587\n",
      "Balanced Accuracy: 67.35%\t auROC: 0.752\t auPRC: 0.704\t auPRG: 0.492\n",
      "Recall at 5%|10%|20% FDR: 0.0%|0.0%|11.2%\t Num Positives: 196\t Num Negatives: 196\t \n",
      "\n",
      "Epoch 11/100\n",
      "1694/1694 [==============================] - 0s - loss: 1.2028 - val_loss: 0.5867\n",
      "Epoch 10: validation loss: 0.587\n",
      "Balanced Accuracy: 67.35%\t auROC: 0.758\t auPRC: 0.709\t auPRG: 0.519\n",
      "Recall at 5%|10%|20% FDR: 0.0%|0.0%|11.2%\t Num Positives: 196\t Num Negatives: 196\t \n",
      "\n",
      "Epoch 12/100\n",
      "1694/1694 [==============================] - 0s - loss: 1.2007 - val_loss: 0.5832\n",
      "Epoch 11: validation loss: 0.583\n",
      "Balanced Accuracy: 67.35%\t auROC: 0.756\t auPRC: 0.707\t auPRG: 0.509\n",
      "Recall at 5%|10%|20% FDR: 0.0%|0.0%|11.2%\t Num Positives: 196\t Num Negatives: 196\t \n",
      "\n",
      "Epoch 13/100\n",
      "1694/1694 [==============================] - 0s - loss: 1.1990 - val_loss: 0.5876\n",
      "Epoch 12: validation loss: 0.588\n",
      "Balanced Accuracy: 67.35%\t auROC: 0.761\t auPRC: 0.721\t auPRG: 0.532\n",
      "Recall at 5%|10%|20% FDR: 1.0%|1.0%|11.7%\t Num Positives: 196\t Num Negatives: 196\t \n",
      "\n",
      "Epoch 14/100\n",
      "1694/1694 [==============================] - 0s - loss: 1.2028 - val_loss: 0.5841\n",
      "Epoch 13: validation loss: 0.584\n",
      "Balanced Accuracy: 67.35%\t auROC: 0.757\t auPRC: 0.710\t auPRG: 0.514\n",
      "Recall at 5%|10%|20% FDR: 0.0%|0.0%|11.2%\t Num Positives: 196\t Num Negatives: 196\t \n",
      "\n",
      "Epoch 15/100\n",
      "1694/1694 [==============================] - 0s - loss: 1.2006 - val_loss: 0.5816\n",
      "Epoch 14: validation loss: 0.582\n",
      "Balanced Accuracy: 67.35%\t auROC: 0.760\t auPRC: 0.709\t auPRG: 0.524\n",
      "Recall at 5%|10%|20% FDR: 0.0%|0.0%|11.2%\t Num Positives: 196\t Num Negatives: 196\t \n",
      "\n",
      "Epoch 16/100\n",
      "1694/1694 [==============================] - 0s - loss: 1.1999 - val_loss: 0.5835\n",
      "Epoch 15: validation loss: 0.584\n",
      "Balanced Accuracy: 67.35%\t auROC: 0.757\t auPRC: 0.712\t auPRG: 0.515\n",
      "Recall at 5%|10%|20% FDR: 0.5%|0.5%|11.2%\t Num Positives: 196\t Num Negatives: 196\t \n",
      "\n",
      "Epoch 17/100\n",
      "1694/1694 [==============================] - 0s - loss: 1.1986 - val_loss: 0.5837\n",
      "Epoch 16: validation loss: 0.584\n",
      "Balanced Accuracy: 67.35%\t auROC: 0.757\t auPRC: 0.715\t auPRG: 0.509\n",
      "Recall at 5%|10%|20% FDR: 1.0%|1.0%|11.2%\t Num Positives: 196\t Num Negatives: 196\t \n",
      "\n",
      "Epoch 18/100\n",
      "1694/1694 [==============================] - 0s - loss: 1.1998 - val_loss: 0.5834\n",
      "Epoch 17: validation loss: 0.583\n",
      "Balanced Accuracy: 67.35%\t auROC: 0.761\t auPRC: 0.720\t auPRG: 0.533\n",
      "Recall at 5%|10%|20% FDR: 1.0%|1.0%|11.2%\t Num Positives: 196\t Num Negatives: 196\t \n",
      "\n",
      "Epoch 19/100\n",
      "1694/1694 [==============================] - 0s - loss: 1.1978 - val_loss: 0.5802\n",
      "Epoch 18: validation loss: 0.580\n",
      "Balanced Accuracy: 67.35%\t auROC: 0.763\t auPRC: 0.722\t auPRG: 0.540\n",
      "Recall at 5%|10%|20% FDR: 1.0%|1.0%|11.7%\t Num Positives: 196\t Num Negatives: 196\t \n",
      "\n",
      "Epoch 20/100\n",
      "1694/1694 [==============================] - 0s - loss: 1.2014 - val_loss: 0.5832\n",
      "Epoch 19: validation loss: 0.583\n",
      "Balanced Accuracy: 67.35%\t auROC: 0.756\t auPRC: 0.706\t auPRG: 0.506\n",
      "Recall at 5%|10%|20% FDR: 0.0%|0.0%|11.7%\t Num Positives: 196\t Num Negatives: 196\t \n",
      "\n",
      "Epoch 21/100\n",
      "1694/1694 [==============================] - 0s - loss: 1.1980 - val_loss: 0.5813\n",
      "Epoch 20: validation loss: 0.581\n",
      "Balanced Accuracy: 67.35%\t auROC: 0.760\t auPRC: 0.718\t auPRG: 0.525\n",
      "Recall at 5%|10%|20% FDR: 1.0%|1.0%|11.2%\t Num Positives: 196\t Num Negatives: 196\t \n",
      "\n",
      "Epoch 22/100\n",
      "1694/1694 [==============================] - 0s - loss: 1.1997 - val_loss: 0.5823\n",
      "Epoch 21: validation loss: 0.582\n",
      "Balanced Accuracy: 67.35%\t auROC: 0.762\t auPRC: 0.719\t auPRG: 0.539\n",
      "Recall at 5%|10%|20% FDR: 1.0%|1.0%|11.7%\t Num Positives: 196\t Num Negatives: 196\t \n",
      "\n",
      "Epoch 23/100\n",
      "1694/1694 [==============================] - 0s - loss: 1.1987 - val_loss: 0.5840\n",
      "Epoch 22: validation loss: 0.584\n",
      "Balanced Accuracy: 67.35%\t auROC: 0.755\t auPRC: 0.706\t auPRG: 0.502\n",
      "Recall at 5%|10%|20% FDR: 0.0%|0.0%|11.2%\t Num Positives: 196\t Num Negatives: 196\t \n",
      "\n",
      "Epoch 24/100\n",
      "1694/1694 [==============================] - 0s - loss: 1.1988 - val_loss: 0.5919\n",
      "Epoch 23: validation loss: 0.592\n",
      "Balanced Accuracy: 67.09%\t auROC: 0.758\t auPRC: 0.718\t auPRG: 0.517\n",
      "Recall at 5%|10%|20% FDR: 1.0%|1.0%|11.2%\t Num Positives: 196\t Num Negatives: 196\t \n",
      "\n",
      "Epoch 25/100\n",
      "1694/1694 [==============================] - 0s - loss: 1.1989 - val_loss: 0.5877\n",
      "Epoch 24: validation loss: 0.588\n",
      "Balanced Accuracy: 67.35%\t auROC: 0.757\t auPRC: 0.709\t auPRG: 0.510\n",
      "Recall at 5%|10%|20% FDR: 0.0%|0.0%|11.2%\t Num Positives: 196\t Num Negatives: 196\t \n",
      "\n",
      "Epoch 26/100\n",
      "1694/1694 [==============================] - 0s - loss: 1.2001 - val_loss: 0.5855\n",
      "Epoch 25: validation loss: 0.585\n",
      "Balanced Accuracy: 67.35%\t auROC: 0.764\t auPRC: 0.722\t auPRG: 0.542\n",
      "Recall at 5%|10%|20% FDR: 1.0%|1.0%|11.7%\t Num Positives: 196\t Num Negatives: 196\t \n",
      "\n",
      "Epoch 27/100\n",
      "1694/1694 [==============================] - 0s - loss: 1.1999 - val_loss: 0.5815\n",
      "Epoch 26: validation loss: 0.582\n",
      "Balanced Accuracy: 67.35%\t auROC: 0.762\t auPRC: 0.724\t auPRG: 0.530\n",
      "Recall at 5%|10%|20% FDR: 2.0%|2.0%|11.7%\t Num Positives: 196\t Num Negatives: 196\t \n",
      "\n",
      "Epoch 28/100\n",
      "1694/1694 [==============================] - 0s - loss: 1.1972 - val_loss: 0.5796\n",
      "Epoch 27: validation loss: 0.580\n",
      "Balanced Accuracy: 66.58%\t auROC: 0.757\t auPRC: 0.708\t auPRG: 0.512\n",
      "Recall at 5%|10%|20% FDR: 0.0%|0.0%|11.2%\t Num Positives: 196\t Num Negatives: 196\t \n",
      "\n",
      "Epoch 29/100\n",
      "1694/1694 [==============================] - 0s - loss: 1.1990 - val_loss: 0.5973\n",
      "Epoch 28: validation loss: 0.597\n",
      "Balanced Accuracy: 67.09%\t auROC: 0.762\t auPRC: 0.722\t auPRG: 0.534\n",
      "Recall at 5%|10%|20% FDR: 1.5%|1.5%|11.7%\t Num Positives: 196\t Num Negatives: 196\t \n",
      "\n",
      "Epoch 30/100\n",
      "1694/1694 [==============================] - 0s - loss: 1.2103 - val_loss: 0.5849\n",
      "Epoch 29: validation loss: 0.585\n",
      "Balanced Accuracy: 67.09%\t auROC: 0.758\t auPRC: 0.717\t auPRG: 0.516\n",
      "Recall at 5%|10%|20% FDR: 1.0%|1.0%|11.2%\t Num Positives: 196\t Num Negatives: 196\t \n",
      "\n",
      "Epoch 31/100\n",
      "1694/1694 [==============================] - 0s - loss: 1.2076 - val_loss: 0.5942\n",
      "Epoch 30: validation loss: 0.594\n",
      "Balanced Accuracy: 67.09%\t auROC: 0.763\t auPRC: 0.719\t auPRG: 0.540\n",
      "Recall at 5%|10%|20% FDR: 1.0%|1.0%|10.7%\t Num Positives: 196\t Num Negatives: 196\t \n",
      "\n",
      "Epoch 32/100\n",
      "1694/1694 [==============================] - 0s - loss: 1.2051 - val_loss: 0.5838\n",
      "Epoch 31: validation loss: 0.584\n",
      "Balanced Accuracy: 67.09%\t auROC: 0.757\t auPRC: 0.707\t auPRG: 0.511\n",
      "Recall at 5%|10%|20% FDR: 0.0%|0.0%|10.7%\t Num Positives: 196\t Num Negatives: 196\t \n",
      "\n",
      "Epoch 33/100\n",
      "1694/1694 [==============================] - 0s - loss: 1.2000 - val_loss: 0.5837\n",
      "Epoch 32: validation loss: 0.584\n",
      "Balanced Accuracy: 67.09%\t auROC: 0.761\t auPRC: 0.719\t auPRG: 0.528\n",
      "Recall at 5%|10%|20% FDR: 1.0%|1.0%|11.2%\t Num Positives: 196\t Num Negatives: 196\t \n",
      "\n",
      "Epoch 34/100\n",
      "1694/1694 [==============================] - 0s - loss: 1.2030 - val_loss: 0.5817\n",
      "Epoch 33: validation loss: 0.582\n",
      "Balanced Accuracy: 67.09%\t auROC: 0.760\t auPRC: 0.718\t auPRG: 0.524\n",
      "Recall at 5%|10%|20% FDR: 1.0%|1.0%|11.2%\t Num Positives: 196\t Num Negatives: 196\t \n",
      "\n",
      "Epoch 35/100\n",
      "1694/1694 [==============================] - 0s - loss: 1.2043 - val_loss: 0.5872\n",
      "Epoch 34: validation loss: 0.587\n",
      "Balanced Accuracy: 67.09%\t auROC: 0.762\t auPRC: 0.720\t auPRG: 0.535\n",
      "Recall at 5%|10%|20% FDR: 1.5%|1.5%|11.2%\t Num Positives: 196\t Num Negatives: 196\t \n",
      "\n",
      "Epoch 36/100\n",
      "1694/1694 [==============================] - 0s - loss: 1.2059 - val_loss: 0.5824\n",
      "Epoch 35: validation loss: 0.582\n",
      "Balanced Accuracy: 67.09%\t auROC: 0.763\t auPRC: 0.721\t auPRG: 0.540\n",
      "Recall at 5%|10%|20% FDR: 1.0%|1.0%|11.2%\t Num Positives: 196\t Num Negatives: 196\t \n",
      "\n",
      "Epoch 37/100\n",
      "1694/1694 [==============================] - 0s - loss: 1.1979 - val_loss: 0.5828\n",
      "Epoch 36: validation loss: 0.583\n",
      "Balanced Accuracy: 67.09%\t auROC: 0.758\t auPRC: 0.710\t auPRG: 0.513\n",
      "Recall at 5%|10%|20% FDR: 0.0%|0.0%|11.2%\t Num Positives: 196\t Num Negatives: 196\t \n",
      "\n",
      "Epoch 38/100\n",
      "1694/1694 [==============================] - 0s - loss: 1.1999 - val_loss: 0.5835\n",
      "Epoch 37: validation loss: 0.583\n",
      "Balanced Accuracy: 67.09%\t auROC: 0.762\t auPRC: 0.721\t auPRG: 0.535\n",
      "Recall at 5%|10%|20% FDR: 1.5%|1.5%|11.2%\t Num Positives: 196\t Num Negatives: 196\t \n",
      "\n",
      "Epoch 39/100\n",
      "1694/1694 [==============================] - 0s - loss: 1.1937 - val_loss: 0.5832\n",
      "Epoch 38: validation loss: 0.583\n",
      "Balanced Accuracy: 67.09%\t auROC: 0.756\t auPRC: 0.708\t auPRG: 0.505\n",
      "Recall at 5%|10%|20% FDR: 0.0%|0.0%|11.2%\t Num Positives: 196\t Num Negatives: 196\t \n",
      "\n"
     ]
    }
   ],
   "source": [
    "#validation_data = (X_valid_normalized_subsampled[:, :, :11, :], y_valid_subsampled)\n",
    "#dnn_normalized.train(X_train_normalized_subsampled[:, :, :11, :], y_train_subsampled, validation_data)\n",
    "validation_data = (X_valid_normalized[:, :, 10:, :], y_valid)\n",
    "dnn_normalized.train(X_train_normalized[:, :, 10:, :], y_train, validation_data)"
   ]
  },
  {
   "cell_type": "code",
   "execution_count": 105,
   "metadata": {
    "collapsed": false
   },
   "outputs": [
    {
     "name": "stdout",
     "output_type": "stream",
     "text": [
      "Balanced Accuracy: 70.22%\t auROC: 0.765\t auPRC: 0.677\t auPRG: 0.547\n",
      "Recall at 5%|10%|20% FDR: 0.0%|0.0%|0.0%\t Num Positives: 89\t Num Negatives: 89\t \n"
     ]
    }
   ],
   "source": [
    "print(dnn_normalized.test(X_test_normalized[:, :,  10:, :], y_test))"
   ]
  },
  {
   "cell_type": "markdown",
   "metadata": {},
   "source": [
    "# Print prediction"
   ]
  },
  {
   "cell_type": "code",
   "execution_count": 106,
   "metadata": {
    "collapsed": false
   },
   "outputs": [],
   "source": [
    "# indx_test=np.load('/users/mtaranov/NN_all_data/indx_test_upperTriangle_noDiag.npy')\n",
    "# indx_valid=np.load('/users/mtaranov/NN_all_data/indx_vali_upperTriangle_noDiag.npy')\n",
    "# indx_train=np.load('/users/mtaranov/NN_all_data/indx_train_upperTriangle_noDiag.npy')\n",
    "\n",
    "indx_train = np.load('/users/mtaranov/NN_thres5max/dist_matched_chr/indx_train_thres_10_chr.npy')\n",
    "indx_valid = np.load('/users/mtaranov/NN_thres5max/dist_matched_chr/indx_valid_thres_10_chr.npy')\n",
    "indx_test = np.load ('/users/mtaranov/NN_thres5max/dist_matched_chr/indx_test_thres_10_chr.npy')\n",
    "\n",
    "indx_train_noDM = np.load('/users/mtaranov/NN_thres5max/no_dist_matched_chr/indx_train_thres_10_chr_noDM.npy')\n",
    "indx_valid_noDM = np.load('/users/mtaranov/NN_thres5max/no_dist_matched_chr/indx_valid_thres_10_chr_noDM.npy')\n",
    "indx_test_noDM = np.load ('/users/mtaranov/NN_thres5max/no_dist_matched_chr/indx_test_thres_10_chr_noDM.npy')"
   ]
  },
  {
   "cell_type": "code",
   "execution_count": 107,
   "metadata": {
    "collapsed": false
   },
   "outputs": [],
   "source": [
    "# labels_noDM=(np.concatenate((y_train_noDM, y_valid_noDM, y_test_noDM), axis=0)).astype(int)\n",
    "# preds_noDM=(np.concatenate((pred_probs_train_noDM, pred_probs_valid_noDM, pred_probs_test_noDM), axis=0))\n",
    "# indx_noDM=(np.concatenate((indx_train_noDM, indx_valid_noDM, indx_test_noDM), axis=0))\n",
    "\n",
    "labels_noDM=y_test_noDM.astype(int)\n",
    "preds_noDM=pred_probs_test_noDM\n",
    "indx_noDM=indx_test_noDM\n",
    "\n",
    "labels_test = y_test.astype(int)\n",
    "preds_test = pred_probs_test\n",
    "indx_test = indx_test"
   ]
  },
  {
   "cell_type": "code",
   "execution_count": 108,
   "metadata": {
    "collapsed": false
   },
   "outputs": [
    {
     "name": "stdout",
     "output_type": "stream",
     "text": [
      "Some tests on adjacency matrix:\n",
      "Some tests on adjacency matrix:\n",
      "Some tests on adjacency matrix:\n",
      "Some tests on adjacency matrix:\n"
     ]
    }
   ],
   "source": [
    "NumberOfNodes=2272\n",
    "preds_noDM_2d, labels_noDM_2d = get_2D(indx_noDM, preds_noDM, labels_noDM, NumberOfNodes)\n",
    "preds_test_2d, labels_test_2d = get_2D(indx_test, preds_test, labels_test, NumberOfNodes)"
   ]
  },
  {
   "cell_type": "markdown",
   "metadata": {},
   "source": [
    "# Distance-Matched"
   ]
  },
  {
   "cell_type": "code",
   "execution_count": 109,
   "metadata": {
    "collapsed": false
   },
   "outputs": [],
   "source": [
    "# printMatrix(preds_test_2d, '', 1, 1, title='preds')\n",
    "# printMatrix(labels_test_2d, '', 1, 1, title='Captures')"
   ]
  },
  {
   "cell_type": "code",
   "execution_count": 115,
   "metadata": {
    "collapsed": false
   },
   "outputs": [
    {
     "name": "stdout",
     "output_type": "stream",
     "text": [
      "1.0\n",
      "(60, 60)\n",
      "Limit: 1.0\n"
     ]
    },
    {
     "data": {
      "image/png": "[encoded data removed]",
      "text/plain": [
       "<matplotlib.figure.Figure at 0x7f1e3cc17590>"
      ]
     },
     "metadata": {},
     "output_type": "display_data"
    },
    {
     "name": "stdout",
     "output_type": "stream",
     "text": [
      "0.988497376442\n",
      "(60, 60)\n",
      "Limit: 0.988497376442\n"
     ]
    },
    {
     "data": {
      "image/png": "[encoded data removed]",
      "text/plain": [
       "<matplotlib.figure.Figure at 0x7f1e3aa9cf50>"
      ]
     },
     "metadata": {},
     "output_type": "display_data"
    }
   ],
   "source": [
    "zoomIn_window = (400,460)\n",
    "NumberOfNodes=2272\n",
    "plot_prediction(change_scale(preds_test_2d)+change_scale(preds_test_2d).T, change_scale(labels_test_2d)+change_scale(labels_test_2d).T, zoomIn_window, )"
   ]
  },
  {
   "cell_type": "markdown",
   "metadata": {
    "collapsed": true
   },
   "source": [
    "# Not Distance-Matched"
   ]
  },
  {
   "cell_type": "code",
   "execution_count": 111,
   "metadata": {
    "collapsed": false
   },
   "outputs": [],
   "source": [
    "# printMatrix(preds_noDM_2d, '', 1, 1, title='preds')\n",
    "# printMatrix(labels_noDM_2d, '', 1, 1, title='Captures')"
   ]
  },
  {
   "cell_type": "code",
   "execution_count": 116,
   "metadata": {
    "collapsed": false
   },
   "outputs": [
    {
     "name": "stdout",
     "output_type": "stream",
     "text": [
      "1.0\n",
      "(60, 60)\n",
      "Limit: 1.0\n"
     ]
    },
    {
     "data": {
      "image/png": "[encoded data removed]",
      "text/plain": [
       "<matplotlib.figure.Figure at 0x7f1e38f56090>"
      ]
     },
     "metadata": {},
     "output_type": "display_data"
    },
    {
     "name": "stdout",
     "output_type": "stream",
     "text": [
      "0.990303218365\n",
      "(60, 60)\n",
      "Limit: 0.990303218365\n"
     ]
    },
    {
     "data": {
      "image/png": "[encoded data removed]",
      "text/plain": [
       "<matplotlib.figure.Figure at 0x7f1e38a71110>"
      ]
     },
     "metadata": {},
     "output_type": "display_data"
    }
   ],
   "source": [
    "zoomIn_window = (400,460)\n",
    "NumberOfNodes=2272\n",
    "plot_prediction(change_scale(preds_noDM_2d)+change_scale(preds_noDM_2d).T, change_scale(labels_noDM_2d)+change_scale(labels_noDM_2d).T, zoomIn_window, )"
   ]
  },
  {
   "cell_type": "code",
   "execution_count": null,
   "metadata": {
    "collapsed": true
   },
   "outputs": [],
   "source": []
  }
 ],
 "metadata": {
  "kernelspec": {
   "display_name": "Python 2",
   "language": "python",
   "name": "python2"
  },
  "language_info": {
   "codemirror_mode": {
    "name": "ipython",
    "version": 2
   },
   "file_extension": ".py",
   "mimetype": "text/x-python",
   "name": "python",
   "nbconvert_exporter": "python",
   "pygments_lexer": "ipython2",
   "version": "2.7.11"
  }
 },
 "nbformat": 4,
 "nbformat_minor": 0
}
