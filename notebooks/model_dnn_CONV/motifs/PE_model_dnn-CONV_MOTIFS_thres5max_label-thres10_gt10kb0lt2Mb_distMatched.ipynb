{
 "cells": [
  {
   "cell_type": "code",
   "execution_count": 13,
   "metadata": {
    "collapsed": false
   },
   "outputs": [
    {
     "name": "stdout",
     "output_type": "stream",
     "text": [
      "The autoreload extension is already loaded. To reload it, use:\n",
      "  %reload_ext autoreload\n"
     ]
    }
   ],
   "source": [
    "%matplotlib inline\n",
    "%load_ext autoreload\n",
    "%autoreload 2\n",
    "\n",
    "import sys\n",
    "import numpy as np\n",
    "import matplotlib.pyplot as plt\n",
    "import pickle\n",
    "from sklearn.preprocessing import MinMaxScaler, StandardScaler\n",
    "sys.path.append('/users/mtaranov/LongRange3D/')\n",
    "from models_motif import LongRangeDNN\n",
    "from utils import concat_motifs, get_features, get_labels, subsample_data, normalize_features, reconstruct_2d, printMatrix, binarize, zscore, get_2D, plot_prediction, change_scale\n",
    "#from sklearn.preprocessing import MinMaxScaler, StandardScaler"
   ]
  },
  {
   "cell_type": "code",
   "execution_count": 14,
   "metadata": {
    "collapsed": false
   },
   "outputs": [],
   "source": [
    "contacts='PE'\n",
    "path='/users/mtaranov/datasets_3d/dist_matched_'+contacts+'/'\n",
    "\n",
    "X_train_node1 = path+'motifs/train_'+contacts+'_out_node1_3_0.0001/mat.npy'\n",
    "X_train_node2 = path+'motifs/train_'+contacts+'_out_node2_3_0.0001/mat.npy'\n",
    "X_test_node1 = path+'motifs/test_'+contacts+'_out_node1_3_0.0001/mat.npy'\n",
    "X_test_node2 = path+'motifs/test_'+contacts+'_out_node2_3_0.0001/mat.npy'\n",
    "X_valid_node1 = path+'motifs/valid_'+contacts+'_out_node1_3_0.0001/mat.npy'\n",
    "X_valid_node2 = path+'motifs/valid_'+contacts+'_out_node2_3_0.0001/mat.npy'\n",
    "\n",
    "y_train = get_labels(path+'y_train_thres_10.npy')\n",
    "y_test = get_labels(path+'y_test_thres_10.npy')\n",
    "y_valid = get_labels(path+'y_valid_thres_10.npy')\n",
    "\n",
    "X_train=concat_motifs([X_train_node1, X_train_node2])\n",
    "X_test=concat_motifs([X_test_node1, X_test_node2])\n",
    "X_valid=concat_motifs([X_valid_node1, X_valid_node2])"
   ]
  },
  {
   "cell_type": "code",
   "execution_count": 15,
   "metadata": {
    "collapsed": false
   },
   "outputs": [
    {
     "data": {
      "text/plain": [
       "(1812, 1, 1920, 2)"
      ]
     },
     "execution_count": 15,
     "metadata": {},
     "output_type": "execute_result"
    }
   ],
   "source": [
    "X_test.shape"
   ]
  },
  {
   "cell_type": "code",
   "execution_count": 16,
   "metadata": {
    "collapsed": false
   },
   "outputs": [],
   "source": [
    "X_train_normalized, X_valid_normalized, X_test_normalized = normalize_features(X_train, X_valid, X_test)\n",
    "\n",
    "#X_train_normalized_subsampled, y_train_subsampled = subsample_data(X_train_normalized, y_train)\n",
    "#X_valid_normalized_subsampled, y_valid_subsampled = subsample_data(X_valid_normalized, y_valid)\n",
    "#X_test_normalized_subsampled, y_test_subsampled = subsample_data(X_test_normalized, y_test)\n",
    "\n",
    "#X_train_scaled_subsampled, y_train_subsampled = subsample_data(X_train_scaled, y_train)\n",
    "#X_valid_scaled_subsampled, y_valid_subsampled = subsample_data(X_valid_scaled, y_valid)\n",
    "#X_test_scaled_subsampled, y_test_subsampled = subsample_data(X_test_scaled, y_test)\n"
   ]
  },
  {
   "cell_type": "markdown",
   "metadata": {},
   "source": [
    "# from motifs"
   ]
  },
  {
   "cell_type": "code",
   "execution_count": 17,
   "metadata": {
    "collapsed": false
   },
   "outputs": [
    {
     "name": "stdout",
     "output_type": "stream",
     "text": [
      "Training model...\n",
      "Train on 4824 samples, validate on 2872 samples\n",
      "Epoch 1/100\n",
      "4750/4824 [============================>.] - ETA: 0s - loss: 3.2242Epoch 0: validation loss: 0.682\n",
      "Balanced Accuracy: 59.68%\t auROC: 0.645\t auPRC: 0.625\t auPRG: 0.294\n",
      "Recall at 5%|10%|20% FDR: 0.7%|0.8%|2.6%\t Num Positives: 1436\t Num Negatives: 1436\t \n",
      "\n",
      "4824/4824 [==============================] - 18s - loss: 3.2004 - val_loss: 0.6816\n",
      "Epoch 2/100\n",
      "4750/4824 [============================>.] - ETA: 0s - loss: 1.4837Epoch 1: validation loss: 0.680\n",
      "Balanced Accuracy: 59.44%\t auROC: 0.668\t auPRC: 0.645\t auPRG: 0.350\n",
      "Recall at 5%|10%|20% FDR: 1.5%|1.5%|1.9%\t Num Positives: 1436\t Num Negatives: 1436\t \n",
      "\n",
      "4824/4824 [==============================] - 26s - loss: 1.4831 - val_loss: 0.6803\n",
      "Epoch 3/100\n",
      "4750/4824 [============================>.] - ETA: 0s - loss: 1.4167Epoch 2: validation loss: 0.670\n",
      "Balanced Accuracy: 60.34%\t auROC: 0.675\t auPRC: 0.649\t auPRG: 0.369\n",
      "Recall at 5%|10%|20% FDR: 0.1%|0.1%|2.2%\t Num Positives: 1436\t Num Negatives: 1436\t \n",
      "\n",
      "4824/4824 [==============================] - 26s - loss: 1.4143 - val_loss: 0.6697\n",
      "Epoch 4/100\n",
      "4750/4824 [============================>.] - ETA: 0s - loss: 1.3496Epoch 3: validation loss: 0.652\n",
      "Balanced Accuracy: 62.22%\t auROC: 0.676\t auPRC: 0.651\t auPRG: 0.367\n",
      "Recall at 5%|10%|20% FDR: 0.2%|0.2%|0.2%\t Num Positives: 1436\t Num Negatives: 1436\t \n",
      "\n",
      "4824/4824 [==============================] - 26s - loss: 1.3493 - val_loss: 0.6519\n",
      "Epoch 5/100\n",
      "4750/4824 [============================>.] - ETA: 0s - loss: 1.3271Epoch 4: validation loss: 0.645\n",
      "Balanced Accuracy: 63.82%\t auROC: 0.680\t auPRC: 0.655\t auPRG: 0.377\n",
      "Recall at 5%|10%|20% FDR: 0.1%|0.1%|3.7%\t Num Positives: 1436\t Num Negatives: 1436\t \n",
      "\n",
      "4824/4824 [==============================] - 26s - loss: 1.3295 - val_loss: 0.6445\n",
      "Epoch 6/100\n",
      "4750/4824 [============================>.] - ETA: 0s - loss: 1.3156Epoch 5: validation loss: 0.641\n",
      "Balanced Accuracy: 64.55%\t auROC: 0.689\t auPRC: 0.666\t auPRG: 0.395\n",
      "Recall at 5%|10%|20% FDR: 0.6%|0.6%|0.8%\t Num Positives: 1436\t Num Negatives: 1436\t \n",
      "\n",
      "4824/4824 [==============================] - 26s - loss: 1.3145 - val_loss: 0.6406\n",
      "Epoch 7/100\n",
      "4750/4824 [============================>.] - ETA: 0s - loss: 1.3047Epoch 6: validation loss: 0.638\n",
      "Balanced Accuracy: 65.11%\t auROC: 0.696\t auPRC: 0.673\t auPRG: 0.412\n",
      "Recall at 5%|10%|20% FDR: 0.3%|0.3%|9.3%\t Num Positives: 1436\t Num Negatives: 1436\t \n",
      "\n",
      "4824/4824 [==============================] - 26s - loss: 1.3094 - val_loss: 0.6383\n",
      "Epoch 8/100\n",
      "4750/4824 [============================>.] - ETA: 0s - loss: 1.2941Epoch 7: validation loss: 0.633\n",
      "Balanced Accuracy: 65.18%\t auROC: 0.704\t auPRC: 0.686\t auPRG: 0.424\n",
      "Recall at 5%|10%|20% FDR: 0.6%|1.4%|13.9%\t Num Positives: 1436\t Num Negatives: 1436\t \n",
      "\n",
      "4824/4824 [==============================] - 26s - loss: 1.2945 - val_loss: 0.6329\n",
      "Epoch 9/100\n",
      "4750/4824 [============================>.] - ETA: 0s - loss: 1.2654Epoch 8: validation loss: 0.630\n",
      "Balanced Accuracy: 65.39%\t auROC: 0.711\t auPRC: 0.697\t auPRG: 0.436\n",
      "Recall at 5%|10%|20% FDR: 1.0%|1.6%|16.3%\t Num Positives: 1436\t Num Negatives: 1436\t \n",
      "\n",
      "4824/4824 [==============================] - 26s - loss: 1.2661 - val_loss: 0.6297\n",
      "Epoch 10/100\n",
      "4750/4824 [============================>.] - ETA: 0s - loss: 1.2614Epoch 9: validation loss: 0.626\n",
      "Balanced Accuracy: 65.18%\t auROC: 0.724\t auPRC: 0.712\t auPRG: 0.465\n",
      "Recall at 5%|10%|20% FDR: 1.9%|4.7%|16.3%\t Num Positives: 1436\t Num Negatives: 1436\t \n",
      "\n",
      "4824/4824 [==============================] - 26s - loss: 1.2589 - val_loss: 0.6263\n",
      "Epoch 11/100\n",
      "4750/4824 [============================>.] - ETA: 0s - loss: 1.2176Epoch 10: validation loss: 0.642\n",
      "Balanced Accuracy: 63.27%\t auROC: 0.738\t auPRC: 0.729\t auPRG: 0.494\n",
      "Recall at 5%|10%|20% FDR: 2.9%|7.8%|25.1%\t Num Positives: 1436\t Num Negatives: 1436\t \n",
      "\n",
      "4824/4824 [==============================] - 26s - loss: 1.2164 - val_loss: 0.6425\n",
      "Epoch 12/100\n",
      "4750/4824 [============================>.] - ETA: 0s - loss: 1.1968Epoch 11: validation loss: 0.612\n",
      "Balanced Accuracy: 66.26%\t auROC: 0.755\t auPRC: 0.748\t auPRG: 0.523\n",
      "Recall at 5%|10%|20% FDR: 4.5%|9.3%|33.6%\t Num Positives: 1436\t Num Negatives: 1436\t \n",
      "\n",
      "4824/4824 [==============================] - 26s - loss: 1.1983 - val_loss: 0.6119\n",
      "Epoch 13/100\n",
      "4750/4824 [============================>.] - ETA: 0s - loss: 1.1284Epoch 12: validation loss: 0.588\n",
      "Balanced Accuracy: 69.53%\t auROC: 0.764\t auPRC: 0.760\t auPRG: 0.542\n",
      "Recall at 5%|10%|20% FDR: 4.5%|13.0%|39.3%\t Num Positives: 1436\t Num Negatives: 1436\t \n",
      "\n",
      "4824/4824 [==============================] - 26s - loss: 1.1258 - val_loss: 0.5882\n",
      "Epoch 14/100\n",
      "4750/4824 [============================>.] - ETA: 0s - loss: 1.0407Epoch 13: validation loss: 0.579\n",
      "Balanced Accuracy: 69.78%\t auROC: 0.782\t auPRC: 0.785\t auPRG: 0.580\n",
      "Recall at 5%|10%|20% FDR: 9.7%|20.9%|49.2%\t Num Positives: 1436\t Num Negatives: 1436\t \n",
      "\n",
      "4824/4824 [==============================] - 25s - loss: 1.0472 - val_loss: 0.5792\n",
      "Epoch 15/100\n",
      "4750/4824 [============================>.] - ETA: 0s - loss: 0.9394Epoch 14: validation loss: 0.556\n",
      "Balanced Accuracy: 72.14%\t auROC: 0.802\t auPRC: 0.807\t auPRG: 0.623\n",
      "Recall at 5%|10%|20% FDR: 13.4%|30.3%|57.1%\t Num Positives: 1436\t Num Negatives: 1436\t \n",
      "\n",
      "4824/4824 [==============================] - 27s - loss: 0.9406 - val_loss: 0.5564\n",
      "Epoch 16/100\n",
      "4750/4824 [============================>.] - ETA: 0s - loss: 0.8814Epoch 15: validation loss: 0.563\n",
      "Balanced Accuracy: 71.45%\t auROC: 0.815\t auPRC: 0.823\t auPRG: 0.652\n",
      "Recall at 5%|10%|20% FDR: 20.7%|34.2%|64.3%\t Num Positives: 1436\t Num Negatives: 1436\t \n",
      "\n",
      "4824/4824 [==============================] - 26s - loss: 0.8817 - val_loss: 0.5628\n",
      "Epoch 17/100\n",
      "4750/4824 [============================>.] - ETA: 0s - loss: 0.7937Epoch 16: validation loss: 0.554\n",
      "Balanced Accuracy: 74.34%\t auROC: 0.817\t auPRC: 0.828\t auPRG: 0.662\n",
      "Recall at 5%|10%|20% FDR: 18.3%|34.1%|65.3%\t Num Positives: 1436\t Num Negatives: 1436\t \n",
      "\n",
      "4824/4824 [==============================] - 26s - loss: 0.7921 - val_loss: 0.5545\n",
      "Epoch 18/100\n",
      "4750/4824 [============================>.] - ETA: 0s - loss: 0.6901Epoch 17: validation loss: 0.547\n",
      "Balanced Accuracy: 74.69%\t auROC: 0.828\t auPRC: 0.839\t auPRG: 0.682\n",
      "Recall at 5%|10%|20% FDR: 22.4%|41.6%|64.8%\t Num Positives: 1436\t Num Negatives: 1436\t \n",
      "\n",
      "4824/4824 [==============================] - 25s - loss: 0.6951 - val_loss: 0.5470\n",
      "Epoch 19/100\n",
      "4750/4824 [============================>.] - ETA: 0s - loss: 0.6102Epoch 18: validation loss: 0.562\n",
      "Balanced Accuracy: 74.58%\t auROC: 0.826\t auPRC: 0.835\t auPRG: 0.667\n",
      "Recall at 5%|10%|20% FDR: 26.1%|43.0%|63.0%\t Num Positives: 1436\t Num Negatives: 1436\t \n",
      "\n",
      "4824/4824 [==============================] - 26s - loss: 0.6088 - val_loss: 0.5620\n",
      "Epoch 20/100\n",
      "4750/4824 [============================>.] - ETA: 0s - loss: 0.5227Epoch 19: validation loss: 0.570\n",
      "Balanced Accuracy: 75.38%\t auROC: 0.839\t auPRC: 0.852\t auPRG: 0.704\n",
      "Recall at 5%|10%|20% FDR: 29.5%|49.1%|68.4%\t Num Positives: 1436\t Num Negatives: 1436\t \n",
      "\n",
      "4824/4824 [==============================] - 26s - loss: 0.5226 - val_loss: 0.5696\n",
      "Epoch 21/100\n",
      "4750/4824 [============================>.] - ETA: 0s - loss: 0.4656Epoch 20: validation loss: 0.582\n",
      "Balanced Accuracy: 75.45%\t auROC: 0.845\t auPRC: 0.860\t auPRG: 0.721\n",
      "Recall at 5%|10%|20% FDR: 29.5%|49.4%|71.0%\t Num Positives: 1436\t Num Negatives: 1436\t \n",
      "\n",
      "4824/4824 [==============================] - 27s - loss: 0.4645 - val_loss: 0.5821\n",
      "Epoch 22/100\n",
      "4750/4824 [============================>.] - ETA: 0s - loss: 0.3766Epoch 21: validation loss: 0.679\n",
      "Balanced Accuracy: 74.34%\t auROC: 0.846\t auPRC: 0.860\t auPRG: 0.728\n",
      "Recall at 5%|10%|20% FDR: 31.8%|54.6%|71.6%\t Num Positives: 1436\t Num Negatives: 1436\t \n",
      "\n",
      "4824/4824 [==============================] - 27s - loss: 0.3732 - val_loss: 0.6788\n",
      "Epoch 23/100\n",
      "4750/4824 [============================>.] - ETA: 0s - loss: 0.3200Epoch 22: validation loss: 0.683\n",
      "Balanced Accuracy: 76.25%\t auROC: 0.846\t auPRC: 0.859\t auPRG: 0.729\n",
      "Recall at 5%|10%|20% FDR: 27.2%|53.7%|72.6%\t Num Positives: 1436\t Num Negatives: 1436\t \n",
      "\n",
      "4824/4824 [==============================] - 27s - loss: 0.3207 - val_loss: 0.6829\n",
      "Epoch 24/100\n",
      "4750/4824 [============================>.] - ETA: 0s - loss: 0.3102Epoch 23: validation loss: 0.714\n",
      "Balanced Accuracy: 74.76%\t auROC: 0.849\t auPRC: 0.860\t auPRG: 0.731\n",
      "Recall at 5%|10%|20% FDR: 32.2%|51.0%|73.7%\t Num Positives: 1436\t Num Negatives: 1436\t \n",
      "\n",
      "4824/4824 [==============================] - 27s - loss: 0.3107 - val_loss: 0.7137\n",
      "Epoch 25/100\n",
      "4750/4824 [============================>.] - ETA: 0s - loss: 0.2817Epoch 24: validation loss: 0.668\n",
      "Balanced Accuracy: 76.36%\t auROC: 0.847\t auPRC: 0.860\t auPRG: 0.726\n",
      "Recall at 5%|10%|20% FDR: 34.0%|53.1%|73.0%\t Num Positives: 1436\t Num Negatives: 1436\t \n",
      "\n",
      "4824/4824 [==============================] - 26s - loss: 0.2795 - val_loss: 0.6683\n",
      "Epoch 26/100\n",
      "4750/4824 [============================>.] - ETA: 0s - loss: 0.2034Epoch 25: validation loss: 0.735\n",
      "Balanced Accuracy: 76.32%\t auROC: 0.850\t auPRC: 0.866\t auPRG: 0.737\n",
      "Recall at 5%|10%|20% FDR: 33.5%|54.7%|73.8%\t Num Positives: 1436\t Num Negatives: 1436\t \n",
      "\n",
      "4824/4824 [==============================] - 27s - loss: 0.2037 - val_loss: 0.7346\n",
      "Epoch 27/100\n",
      "4750/4824 [============================>.] - ETA: 0s - loss: 0.1934Epoch 26: validation loss: 0.760\n",
      "Balanced Accuracy: 77.40%\t auROC: 0.854\t auPRC: 0.870\t auPRG: 0.743\n",
      "Recall at 5%|10%|20% FDR: 36.8%|56.3%|74.2%\t Num Positives: 1436\t Num Negatives: 1436\t \n",
      "\n",
      "4824/4824 [==============================] - 26s - loss: 0.1925 - val_loss: 0.7596\n",
      "Epoch 28/100\n",
      "4750/4824 [============================>.] - ETA: 0s - loss: 0.1860Epoch 27: validation loss: 0.777\n",
      "Balanced Accuracy: 77.09%\t auROC: 0.853\t auPRC: 0.868\t auPRG: 0.743\n",
      "Recall at 5%|10%|20% FDR: 36.0%|56.7%|73.7%\t Num Positives: 1436\t Num Negatives: 1436\t \n",
      "\n",
      "4824/4824 [==============================] - 26s - loss: 0.1842 - val_loss: 0.7767\n",
      "Epoch 29/100\n",
      "4750/4824 [============================>.] - ETA: 0s - loss: 0.1870Epoch 28: validation loss: 0.805\n",
      "Balanced Accuracy: 75.84%\t auROC: 0.845\t auPRC: 0.860\t auPRG: 0.723\n",
      "Recall at 5%|10%|20% FDR: 32.4%|54.2%|72.1%\t Num Positives: 1436\t Num Negatives: 1436\t \n",
      "\n",
      "4824/4824 [==============================] - 27s - loss: 0.1854 - val_loss: 0.8053\n",
      "Epoch 30/100\n",
      "4750/4824 [============================>.] - ETA: 0s - loss: 0.1651Epoch 29: validation loss: 0.775\n",
      "Balanced Accuracy: 75.52%\t auROC: 0.849\t auPRC: 0.863\t auPRG: 0.728\n",
      "Recall at 5%|10%|20% FDR: 34.1%|54.2%|72.0%\t Num Positives: 1436\t Num Negatives: 1436\t \n",
      "\n",
      "4824/4824 [==============================] - 27s - loss: 0.1642 - val_loss: 0.7755\n",
      "Epoch 31/100\n",
      "4750/4824 [============================>.] - ETA: 0s - loss: 0.1406Epoch 30: validation loss: 0.804\n",
      "Balanced Accuracy: 77.16%\t auROC: 0.852\t auPRC: 0.867\t auPRG: 0.741\n",
      "Recall at 5%|10%|20% FDR: 34.0%|56.5%|73.5%\t Num Positives: 1436\t Num Negatives: 1436\t \n",
      "\n",
      "4824/4824 [==============================] - 26s - loss: 0.1401 - val_loss: 0.8039\n",
      "Epoch 32/100\n",
      "4750/4824 [============================>.] - ETA: 0s - loss: 0.1028Epoch 31: validation loss: 0.877\n",
      "Balanced Accuracy: 76.64%\t auROC: 0.856\t auPRC: 0.870\t auPRG: 0.746\n",
      "Recall at 5%|10%|20% FDR: 37.3%|54.6%|73.3%\t Num Positives: 1436\t Num Negatives: 1436\t \n",
      "\n",
      "4824/4824 [==============================] - 26s - loss: 0.1022 - val_loss: 0.8772\n",
      "Epoch 33/100\n",
      "4750/4824 [============================>.] - ETA: 0s - loss: 0.1273Epoch 32: validation loss: 0.883\n",
      "Balanced Accuracy: 77.40%\t auROC: 0.854\t auPRC: 0.869\t auPRG: 0.743\n",
      "Recall at 5%|10%|20% FDR: 36.6%|52.8%|74.0%\t Num Positives: 1436\t Num Negatives: 1436\t \n",
      "\n",
      "4824/4824 [==============================] - 27s - loss: 0.1255 - val_loss: 0.8828\n",
      "Epoch 34/100\n",
      "4750/4824 [============================>.] - ETA: 0s - loss: 0.0840Epoch 33: validation loss: 0.932\n",
      "Balanced Accuracy: 76.78%\t auROC: 0.853\t auPRC: 0.867\t auPRG: 0.743\n",
      "Recall at 5%|10%|20% FDR: 32.9%|54.3%|73.7%\t Num Positives: 1436\t Num Negatives: 1436\t \n",
      "\n",
      "4824/4824 [==============================] - 26s - loss: 0.0837 - val_loss: 0.9320\n",
      "Epoch 35/100\n",
      "4750/4824 [============================>.] - ETA: 0s - loss: 0.0795Epoch 34: validation loss: 0.948\n",
      "Balanced Accuracy: 76.67%\t auROC: 0.852\t auPRC: 0.866\t auPRG: 0.740\n",
      "Recall at 5%|10%|20% FDR: 31.1%|56.7%|72.6%\t Num Positives: 1436\t Num Negatives: 1436\t \n",
      "\n",
      "4824/4824 [==============================] - 26s - loss: 0.0803 - val_loss: 0.9482\n",
      "Epoch 36/100\n",
      "4750/4824 [============================>.] - ETA: 0s - loss: 0.1008Epoch 35: validation loss: 0.987\n",
      "Balanced Accuracy: 77.65%\t auROC: 0.854\t auPRC: 0.868\t auPRG: 0.743\n",
      "Recall at 5%|10%|20% FDR: 33.6%|54.8%|74.2%\t Num Positives: 1436\t Num Negatives: 1436\t \n",
      "\n",
      "4824/4824 [==============================] - 27s - loss: 0.1001 - val_loss: 0.9872\n",
      "Epoch 37/100\n",
      "4750/4824 [============================>.] - ETA: 0s - loss: 0.1091Epoch 36: validation loss: 0.878\n",
      "Balanced Accuracy: 77.23%\t auROC: 0.855\t auPRC: 0.869\t auPRG: 0.742\n",
      "Recall at 5%|10%|20% FDR: 36.6%|52.9%|73.7%\t Num Positives: 1436\t Num Negatives: 1436\t \n",
      "\n",
      "4824/4824 [==============================] - 27s - loss: 0.1080 - val_loss: 0.8783\n",
      "Epoch 38/100\n",
      "4750/4824 [============================>.] - ETA: 0s - loss: 0.0842Epoch 37: validation loss: 1.028\n",
      "Balanced Accuracy: 74.58%\t auROC: 0.856\t auPRC: 0.871\t auPRG: 0.743\n",
      "Recall at 5%|10%|20% FDR: 40.5%|54.4%|74.8%\t Num Positives: 1436\t Num Negatives: 1436\t \n",
      "\n",
      "4824/4824 [==============================] - 27s - loss: 0.0839 - val_loss: 1.0284\n",
      "Epoch 39/100\n",
      "4750/4824 [============================>.] - ETA: 0s - loss: 0.0827Epoch 38: validation loss: 0.911\n",
      "Balanced Accuracy: 77.58%\t auROC: 0.857\t auPRC: 0.872\t auPRG: 0.749\n",
      "Recall at 5%|10%|20% FDR: 39.0%|55.5%|74.4%\t Num Positives: 1436\t Num Negatives: 1436\t \n",
      "\n",
      "4824/4824 [==============================] - 26s - loss: 0.0828 - val_loss: 0.9108\n",
      "Balanced Accuracy: 77.65%\t auROC: 0.858\t auPRC: 0.870\t auPRG: 0.754\n",
      "Recall at 5%|10%|20% FDR: 41.4%|56.5%|75.9%\t Num Positives: 906\t Num Negatives: 906\t \n",
      "Balanced Accuracy: 100.00%\t auROC: 1.000\t auPRC: 1.000\t auPRG: 1.000\n",
      "Recall at 5%|10%|20% FDR: 100.0%|100.0%|100.0%\t Num Positives: 2412\t Num Negatives: 2412\t \n",
      "Balanced Accuracy: 77.58%\t auROC: 0.857\t auPRC: 0.872\t auPRG: 0.749\n",
      "Recall at 5%|10%|20% FDR: 39.0%|55.5%|74.4%\t Num Positives: 1436\t Num Negatives: 1436\t \n",
      "Training model...\n",
      "Train on 4824 samples, validate on 2872 samples\n",
      "Epoch 1/100\n",
      "4750/4824 [============================>.] - ETA: 0s - loss: 2.6956Epoch 0: validation loss: 0.684\n",
      "Balanced Accuracy: 53.13%\t auROC: 0.665\t auPRC: 0.641\t auPRG: 0.332\n",
      "Recall at 5%|10%|20% FDR: 0.5%|0.5%|0.8%\t Num Positives: 1436\t Num Negatives: 1436\t \n",
      "\n",
      "4824/4824 [==============================] - 28s - loss: 2.6791 - val_loss: 0.6842\n",
      "Epoch 2/100\n",
      "4750/4824 [============================>.] - ETA: 0s - loss: 1.5559Epoch 1: validation loss: 0.659\n",
      "Balanced Accuracy: 62.95%\t auROC: 0.670\t auPRC: 0.646\t auPRG: 0.346\n",
      "Recall at 5%|10%|20% FDR: 0.0%|0.0%|0.0%\t Num Positives: 1436\t Num Negatives: 1436\t \n",
      "\n",
      "4824/4824 [==============================] - 14s - loss: 1.5580 - val_loss: 0.6591\n",
      "Epoch 3/100\n",
      "4750/4824 [============================>.] - ETA: 0s - loss: 1.3964Epoch 2: validation loss: 0.651\n",
      "Balanced Accuracy: 62.19%\t auROC: 0.674\t auPRC: 0.651\t auPRG: 0.356\n",
      "Recall at 5%|10%|20% FDR: 0.2%|0.2%|0.2%\t Num Positives: 1436\t Num Negatives: 1436\t \n",
      "\n",
      "4824/4824 [==============================] - 16s - loss: 1.3960 - val_loss: 0.6505\n",
      "Epoch 4/100\n",
      "4750/4824 [============================>.] - ETA: 0s - loss: 1.3796Epoch 3: validation loss: 0.646\n",
      "Balanced Accuracy: 63.37%\t auROC: 0.680\t auPRC: 0.659\t auPRG: 0.372\n",
      "Recall at 5%|10%|20% FDR: 0.3%|0.3%|0.6%\t Num Positives: 1436\t Num Negatives: 1436\t \n",
      "\n",
      "4824/4824 [==============================] - 27s - loss: 1.3785 - val_loss: 0.6458\n",
      "Epoch 5/100\n",
      "4750/4824 [============================>.] - ETA: 0s - loss: 1.3403Epoch 4: validation loss: 0.643\n",
      "Balanced Accuracy: 63.72%\t auROC: 0.687\t auPRC: 0.665\t auPRG: 0.389\n",
      "Recall at 5%|10%|20% FDR: 0.3%|0.3%|0.6%\t Num Positives: 1436\t Num Negatives: 1436\t \n",
      "\n",
      "4824/4824 [==============================] - 27s - loss: 1.3430 - val_loss: 0.6431\n",
      "Epoch 6/100\n",
      "4750/4824 [============================>.] - ETA: 0s - loss: 1.3402Epoch 5: validation loss: 0.638\n",
      "Balanced Accuracy: 64.59%\t auROC: 0.692\t auPRC: 0.671\t auPRG: 0.402\n",
      "Recall at 5%|10%|20% FDR: 0.1%|0.1%|10.4%\t Num Positives: 1436\t Num Negatives: 1436\t \n",
      "\n",
      "4824/4824 [==============================] - 27s - loss: 1.3438 - val_loss: 0.6379\n",
      "Epoch 7/100\n",
      "4750/4824 [============================>.] - ETA: 0s - loss: 1.3261Epoch 6: validation loss: 0.636\n",
      "Balanced Accuracy: 65.88%\t auROC: 0.698\t auPRC: 0.679\t auPRG: 0.415\n",
      "Recall at 5%|10%|20% FDR: 0.0%|0.6%|12.8%\t Num Positives: 1436\t Num Negatives: 1436\t \n",
      "\n",
      "4824/4824 [==============================] - 27s - loss: 1.3257 - val_loss: 0.6358\n",
      "Epoch 8/100\n",
      "4750/4824 [============================>.] - ETA: 0s - loss: 1.3129Epoch 7: validation loss: 0.631\n",
      "Balanced Accuracy: 66.33%\t auROC: 0.705\t auPRC: 0.690\t auPRG: 0.428\n",
      "Recall at 5%|10%|20% FDR: 0.1%|2.7%|15.6%\t Num Positives: 1436\t Num Negatives: 1436\t \n",
      "\n",
      "4824/4824 [==============================] - 31s - loss: 1.3140 - val_loss: 0.6313\n",
      "Epoch 9/100\n",
      "4750/4824 [============================>.] - ETA: 0s - loss: 1.2629Epoch 8: validation loss: 0.627\n",
      "Balanced Accuracy: 65.84%\t auROC: 0.713\t auPRC: 0.696\t auPRG: 0.445\n",
      "Recall at 5%|10%|20% FDR: 0.0%|2.2%|15.9%\t Num Positives: 1436\t Num Negatives: 1436\t \n",
      "\n",
      "4824/4824 [==============================] - 36s - loss: 1.2640 - val_loss: 0.6272\n",
      "Epoch 10/100\n",
      "4750/4824 [============================>.] - ETA: 0s - loss: 1.2450Epoch 9: validation loss: 0.618\n",
      "Balanced Accuracy: 66.92%\t auROC: 0.729\t auPRC: 0.714\t auPRG: 0.475\n",
      "Recall at 5%|10%|20% FDR: 0.0%|3.1%|18.6%\t Num Positives: 1436\t Num Negatives: 1436\t \n",
      "\n",
      "4824/4824 [==============================] - 36s - loss: 1.2449 - val_loss: 0.6175\n",
      "Epoch 11/100\n",
      "4750/4824 [============================>.] - ETA: 0s - loss: 1.2028Epoch 10: validation loss: 0.612\n",
      "Balanced Accuracy: 67.10%\t auROC: 0.740\t auPRC: 0.726\t auPRG: 0.500\n",
      "Recall at 5%|10%|20% FDR: 0.0%|7.2%|21.4%\t Num Positives: 1436\t Num Negatives: 1436\t \n",
      "\n",
      "4824/4824 [==============================] - 28s - loss: 1.2028 - val_loss: 0.6122\n",
      "Epoch 12/100\n",
      "4750/4824 [============================>.] - ETA: 0s - loss: 1.1576Epoch 11: validation loss: 0.599\n",
      "Balanced Accuracy: 69.50%\t auROC: 0.753\t auPRC: 0.745\t auPRG: 0.523\n",
      "Recall at 5%|10%|20% FDR: 0.4%|9.5%|29.0%\t Num Positives: 1436\t Num Negatives: 1436\t \n",
      "\n",
      "4824/4824 [==============================] - 26s - loss: 1.1530 - val_loss: 0.5987\n",
      "Epoch 13/100\n",
      "4750/4824 [============================>.] - ETA: 0s - loss: 1.1240Epoch 12: validation loss: 0.588\n",
      "Balanced Accuracy: 68.63%\t auROC: 0.770\t auPRC: 0.764\t auPRG: 0.554\n",
      "Recall at 5%|10%|20% FDR: 0.3%|17.1%|39.8%\t Num Positives: 1436\t Num Negatives: 1436\t \n",
      "\n",
      "4824/4824 [==============================] - 27s - loss: 1.1218 - val_loss: 0.5878\n",
      "Epoch 14/100\n",
      "4750/4824 [============================>.] - ETA: 0s - loss: 1.0338Epoch 13: validation loss: 0.570\n",
      "Balanced Accuracy: 72.28%\t auROC: 0.785\t auPRC: 0.780\t auPRG: 0.592\n",
      "Recall at 5%|10%|20% FDR: 0.3%|20.8%|49.3%\t Num Positives: 1436\t Num Negatives: 1436\t \n",
      "\n",
      "4824/4824 [==============================] - 27s - loss: 1.0312 - val_loss: 0.5704\n",
      "Epoch 15/100\n",
      "4750/4824 [============================>.] - ETA: 0s - loss: 0.9595Epoch 14: validation loss: 0.556\n",
      "Balanced Accuracy: 73.33%\t auROC: 0.799\t auPRC: 0.799\t auPRG: 0.620\n",
      "Recall at 5%|10%|20% FDR: 6.2%|27.2%|56.5%\t Num Positives: 1436\t Num Negatives: 1436\t \n",
      "\n",
      "4824/4824 [==============================] - 27s - loss: 0.9608 - val_loss: 0.5556\n",
      "Epoch 16/100\n",
      "4750/4824 [============================>.] - ETA: 0s - loss: 0.8527Epoch 15: validation loss: 0.565\n",
      "Balanced Accuracy: 72.91%\t auROC: 0.809\t auPRC: 0.809\t auPRG: 0.642\n",
      "Recall at 5%|10%|20% FDR: 1.4%|32.5%|61.4%\t Num Positives: 1436\t Num Negatives: 1436\t \n",
      "\n",
      "4824/4824 [==============================] - 27s - loss: 0.8529 - val_loss: 0.5653\n",
      "Epoch 17/100\n",
      "4750/4824 [============================>.] - ETA: 0s - loss: 0.7993Epoch 16: validation loss: 0.578\n",
      "Balanced Accuracy: 74.83%\t auROC: 0.814\t auPRC: 0.819\t auPRG: 0.656\n",
      "Recall at 5%|10%|20% FDR: 12.9%|32.3%|61.7%\t Num Positives: 1436\t Num Negatives: 1436\t \n",
      "\n",
      "4824/4824 [==============================] - 27s - loss: 0.7932 - val_loss: 0.5777\n",
      "Epoch 18/100\n",
      "4750/4824 [============================>.] - ETA: 0s - loss: 0.6843Epoch 17: validation loss: 0.552\n",
      "Balanced Accuracy: 74.48%\t auROC: 0.827\t auPRC: 0.834\t auPRG: 0.684\n",
      "Recall at 5%|10%|20% FDR: 19.3%|39.7%|69.4%\t Num Positives: 1436\t Num Negatives: 1436\t \n",
      "\n",
      "4824/4824 [==============================] - 27s - loss: 0.6846 - val_loss: 0.5523\n",
      "Epoch 19/100\n",
      "4750/4824 [============================>.] - ETA: 0s - loss: 0.5797Epoch 18: validation loss: 0.563\n",
      "Balanced Accuracy: 76.74%\t auROC: 0.833\t auPRC: 0.844\t auPRG: 0.697\n",
      "Recall at 5%|10%|20% FDR: 24.9%|44.9%|69.8%\t Num Positives: 1436\t Num Negatives: 1436\t \n",
      "\n",
      "4824/4824 [==============================] - 28s - loss: 0.5803 - val_loss: 0.5632\n",
      "Epoch 20/100\n",
      "4750/4824 [============================>.] - ETA: 0s - loss: 0.5237Epoch 19: validation loss: 0.566\n",
      "Balanced Accuracy: 76.74%\t auROC: 0.839\t auPRC: 0.849\t auPRG: 0.714\n",
      "Recall at 5%|10%|20% FDR: 20.5%|49.9%|72.4%\t Num Positives: 1436\t Num Negatives: 1436\t \n",
      "\n",
      "4824/4824 [==============================] - 36s - loss: 0.5248 - val_loss: 0.5659\n",
      "Epoch 21/100\n",
      "4750/4824 [============================>.] - ETA: 0s - loss: 0.4829Epoch 20: validation loss: 0.617\n",
      "Balanced Accuracy: 75.31%\t auROC: 0.840\t auPRC: 0.851\t auPRG: 0.716\n",
      "Recall at 5%|10%|20% FDR: 19.7%|48.1%|72.7%\t Num Positives: 1436\t Num Negatives: 1436\t \n",
      "\n",
      "4824/4824 [==============================] - 37s - loss: 0.4817 - val_loss: 0.6173\n",
      "Epoch 22/100\n",
      "4750/4824 [============================>.] - ETA: 0s - loss: 0.3946Epoch 21: validation loss: 0.622\n",
      "Balanced Accuracy: 75.38%\t auROC: 0.842\t auPRC: 0.854\t auPRG: 0.715\n",
      "Recall at 5%|10%|20% FDR: 30.1%|49.1%|71.4%\t Num Positives: 1436\t Num Negatives: 1436\t \n",
      "\n",
      "4824/4824 [==============================] - 32s - loss: 0.3955 - val_loss: 0.6216\n",
      "Epoch 23/100\n",
      "4750/4824 [============================>.] - ETA: 0s - loss: 0.3491Epoch 22: validation loss: 0.674\n",
      "Balanced Accuracy: 75.59%\t auROC: 0.839\t auPRC: 0.849\t auPRG: 0.708\n",
      "Recall at 5%|10%|20% FDR: 31.7%|48.0%|70.7%\t Num Positives: 1436\t Num Negatives: 1436\t \n",
      "\n",
      "4824/4824 [==============================] - 26s - loss: 0.3493 - val_loss: 0.6740\n",
      "Epoch 24/100\n",
      "4750/4824 [============================>.] - ETA: 0s - loss: 0.3155Epoch 23: validation loss: 0.739\n",
      "Balanced Accuracy: 76.08%\t auROC: 0.844\t auPRC: 0.856\t auPRG: 0.720\n",
      "Recall at 5%|10%|20% FDR: 33.3%|48.1%|73.1%\t Num Positives: 1436\t Num Negatives: 1436\t \n",
      "\n",
      "4824/4824 [==============================] - 26s - loss: 0.3143 - val_loss: 0.7386\n",
      "Epoch 25/100\n",
      "4750/4824 [============================>.] - ETA: 0s - loss: 0.2937Epoch 24: validation loss: 0.715\n",
      "Balanced Accuracy: 77.05%\t auROC: 0.846\t auPRC: 0.858\t auPRG: 0.725\n",
      "Recall at 5%|10%|20% FDR: 33.1%|51.3%|73.7%\t Num Positives: 1436\t Num Negatives: 1436\t \n",
      "\n",
      "4824/4824 [==============================] - 27s - loss: 0.2920 - val_loss: 0.7150\n",
      "Epoch 26/100\n",
      "4750/4824 [============================>.] - ETA: 0s - loss: 0.2416Epoch 25: validation loss: 0.736\n",
      "Balanced Accuracy: 76.64%\t auROC: 0.844\t auPRC: 0.857\t auPRG: 0.717\n",
      "Recall at 5%|10%|20% FDR: 31.8%|49.9%|71.7%\t Num Positives: 1436\t Num Negatives: 1436\t \n",
      "\n",
      "4824/4824 [==============================] - 26s - loss: 0.2413 - val_loss: 0.7355\n",
      "Epoch 27/100\n",
      "4750/4824 [============================>.] - ETA: 0s - loss: 0.2279Epoch 26: validation loss: 0.775\n",
      "Balanced Accuracy: 76.50%\t auROC: 0.849\t auPRC: 0.864\t auPRG: 0.730\n",
      "Recall at 5%|10%|20% FDR: 37.4%|54.0%|72.9%\t Num Positives: 1436\t Num Negatives: 1436\t \n",
      "\n",
      "4824/4824 [==============================] - 26s - loss: 0.2277 - val_loss: 0.7747\n",
      "Epoch 28/100\n",
      "4750/4824 [============================>.] - ETA: 0s - loss: 0.2006Epoch 27: validation loss: 0.730\n",
      "Balanced Accuracy: 76.53%\t auROC: 0.848\t auPRC: 0.862\t auPRG: 0.730\n",
      "Recall at 5%|10%|20% FDR: 33.6%|55.2%|73.4%\t Num Positives: 1436\t Num Negatives: 1436\t \n",
      "\n",
      "4824/4824 [==============================] - 27s - loss: 0.1998 - val_loss: 0.7305\n",
      "Epoch 29/100\n",
      "4750/4824 [============================>.] - ETA: 0s - loss: 0.1380Epoch 28: validation loss: 0.794\n",
      "Balanced Accuracy: 76.67%\t auROC: 0.850\t auPRC: 0.863\t auPRG: 0.738\n",
      "Recall at 5%|10%|20% FDR: 34.7%|57.0%|74.2%\t Num Positives: 1436\t Num Negatives: 1436\t \n",
      "\n",
      "4824/4824 [==============================] - 27s - loss: 0.1371 - val_loss: 0.7938\n",
      "Epoch 30/100\n",
      "4750/4824 [============================>.] - ETA: 0s - loss: 0.1433Epoch 29: validation loss: 0.920\n",
      "Balanced Accuracy: 75.49%\t auROC: 0.850\t auPRC: 0.862\t auPRG: 0.741\n",
      "Recall at 5%|10%|20% FDR: 26.8%|56.0%|74.2%\t Num Positives: 1436\t Num Negatives: 1436\t \n",
      "\n",
      "4824/4824 [==============================] - 29s - loss: 0.1439 - val_loss: 0.9201\n",
      "Epoch 31/100\n",
      "4750/4824 [============================>.] - ETA: 0s - loss: 0.1318Epoch 30: validation loss: 0.908\n",
      "Balanced Accuracy: 76.39%\t auROC: 0.850\t auPRC: 0.865\t auPRG: 0.737\n",
      "Recall at 5%|10%|20% FDR: 34.2%|53.8%|72.8%\t Num Positives: 1436\t Num Negatives: 1436\t \n",
      "\n",
      "4824/4824 [==============================] - 38s - loss: 0.1307 - val_loss: 0.9085\n",
      "Epoch 32/100\n",
      "4750/4824 [============================>.] - ETA: 0s - loss: 0.1295Epoch 31: validation loss: 0.942\n",
      "Balanced Accuracy: 76.64%\t auROC: 0.848\t auPRC: 0.861\t auPRG: 0.733\n",
      "Recall at 5%|10%|20% FDR: 30.8%|53.7%|73.6%\t Num Positives: 1436\t Num Negatives: 1436\t \n",
      "\n",
      "4824/4824 [==============================] - 26s - loss: 0.1319 - val_loss: 0.9419\n",
      "Epoch 33/100\n",
      "4750/4824 [============================>.] - ETA: 0s - loss: 0.1483Epoch 32: validation loss: 0.867\n",
      "Balanced Accuracy: 76.08%\t auROC: 0.846\t auPRC: 0.856\t auPRG: 0.728\n",
      "Recall at 5%|10%|20% FDR: 21.3%|50.8%|73.1%\t Num Positives: 1436\t Num Negatives: 1436\t \n",
      "\n",
      "4824/4824 [==============================] - 26s - loss: 0.1481 - val_loss: 0.8672\n",
      "Epoch 34/100\n",
      "4750/4824 [============================>.] - ETA: 0s - loss: 0.1074Epoch 33: validation loss: 0.836\n",
      "Balanced Accuracy: 76.92%\t auROC: 0.846\t auPRC: 0.857\t auPRG: 0.728\n",
      "Recall at 5%|10%|20% FDR: 27.5%|52.7%|72.8%\t Num Positives: 1436\t Num Negatives: 1436\t \n",
      "\n",
      "4824/4824 [==============================] - 27s - loss: 0.1080 - val_loss: 0.8361\n",
      "Epoch 35/100\n",
      "4750/4824 [============================>.] - ETA: 0s - loss: 0.0849Epoch 34: validation loss: 0.897\n",
      "Balanced Accuracy: 76.39%\t auROC: 0.847\t auPRC: 0.855\t auPRG: 0.729\n",
      "Recall at 5%|10%|20% FDR: 27.2%|53.2%|71.4%\t Num Positives: 1436\t Num Negatives: 1436\t \n",
      "\n",
      "4824/4824 [==============================] - 26s - loss: 0.0875 - val_loss: 0.8971\n",
      "Epoch 36/100\n",
      "4750/4824 [============================>.] - ETA: 0s - loss: 0.1053Epoch 35: validation loss: 1.002\n",
      "Balanced Accuracy: 75.59%\t auROC: 0.851\t auPRC: 0.865\t auPRG: 0.739\n",
      "Recall at 5%|10%|20% FDR: 34.6%|53.4%|74.8%\t Num Positives: 1436\t Num Negatives: 1436\t \n",
      "\n",
      "4824/4824 [==============================] - 26s - loss: 0.1042 - val_loss: 1.0021\n",
      "Epoch 37/100\n",
      "4750/4824 [============================>.] - ETA: 0s - loss: 0.0959Epoch 36: validation loss: 0.999\n",
      "Balanced Accuracy: 77.12%\t auROC: 0.854\t auPRC: 0.868\t auPRG: 0.746\n",
      "Recall at 5%|10%|20% FDR: 32.7%|55.9%|75.6%\t Num Positives: 1436\t Num Negatives: 1436\t \n",
      "\n",
      "4824/4824 [==============================] - 27s - loss: 0.0963 - val_loss: 0.9990\n",
      "Epoch 38/100\n",
      "4750/4824 [============================>.] - ETA: 0s - loss: 0.0860Epoch 37: validation loss: 0.979\n",
      "Balanced Accuracy: 77.26%\t auROC: 0.853\t auPRC: 0.869\t auPRG: 0.746\n",
      "Recall at 5%|10%|20% FDR: 35.4%|57.3%|74.4%\t Num Positives: 1436\t Num Negatives: 1436\t \n",
      "\n",
      "4824/4824 [==============================] - 31s - loss: 0.0850 - val_loss: 0.9793\n",
      "Epoch 39/100\n",
      "4750/4824 [============================>.] - ETA: 0s - loss: 0.0884Epoch 38: validation loss: 1.018\n",
      "Balanced Accuracy: 77.86%\t auROC: 0.853\t auPRC: 0.867\t auPRG: 0.745\n",
      "Recall at 5%|10%|20% FDR: 33.5%|54.9%|74.8%\t Num Positives: 1436\t Num Negatives: 1436\t \n",
      "\n",
      "4824/4824 [==============================] - 30s - loss: 0.0885 - val_loss: 1.0182\n",
      "Balanced Accuracy: 78.20%\t auROC: 0.849\t auPRC: 0.865\t auPRG: 0.736\n",
      "Recall at 5%|10%|20% FDR: 36.3%|54.2%|75.5%\t Num Positives: 906\t Num Negatives: 906\t \n",
      "Balanced Accuracy: 99.94%\t auROC: 1.000\t auPRC: 1.000\t auPRG: 1.000\n",
      "Recall at 5%|10%|20% FDR: 100.0%|100.0%|100.0%\t Num Positives: 2412\t Num Negatives: 2412\t \n",
      "Balanced Accuracy: 77.86%\t auROC: 0.853\t auPRC: 0.867\t auPRG: 0.745\n",
      "Recall at 5%|10%|20% FDR: 33.5%|54.9%|74.8%\t Num Positives: 1436\t Num Negatives: 1436\t \n"
     ]
    },
    {
     "ename": "MemoryError",
     "evalue": "('Error allocating 36000000 bytes of device memory (CNMEM_STATUS_OUT_OF_MEMORY).', \"you might consider using 'theano.shared(..., borrow=True)'\")",
     "output_type": "error",
     "traceback": [
      "\u001b[0;31m---------------------------------------------------------------------------\u001b[0m",
      "\u001b[0;31mMemoryError\u001b[0m                               Traceback (most recent call last)",
      "\u001b[0;32m<ipython-input-17-3cfb7b451493>\u001b[0m in \u001b[0;36m<module>\u001b[0;34m()\u001b[0m\n\u001b[1;32m      1\u001b[0m \u001b[0;32mfor\u001b[0m \u001b[0mi\u001b[0m \u001b[0;32min\u001b[0m \u001b[0mrange\u001b[0m\u001b[0;34m(\u001b[0m\u001b[0;36m10\u001b[0m\u001b[0;34m)\u001b[0m\u001b[0;34m:\u001b[0m\u001b[0;34m\u001b[0m\u001b[0m\n\u001b[0;32m----> 2\u001b[0;31m     \u001b[0mdnn_normalized\u001b[0m \u001b[0;34m=\u001b[0m \u001b[0mLongRangeDNN\u001b[0m\u001b[0;34m(\u001b[0m\u001b[0mnum_features\u001b[0m\u001b[0;34m=\u001b[0m\u001b[0;36m1920\u001b[0m\u001b[0;34m,\u001b[0m \u001b[0muse_deep_CNN\u001b[0m\u001b[0;34m=\u001b[0m\u001b[0mTrue\u001b[0m\u001b[0;34m)\u001b[0m\u001b[0;34m\u001b[0m\u001b[0m\n\u001b[0m\u001b[1;32m      3\u001b[0m     \u001b[0mvalidation_data\u001b[0m \u001b[0;34m=\u001b[0m \u001b[0;34m(\u001b[0m\u001b[0mX_valid_normalized\u001b[0m\u001b[0;34m,\u001b[0m \u001b[0my_valid\u001b[0m\u001b[0;34m)\u001b[0m\u001b[0;34m\u001b[0m\u001b[0m\n\u001b[1;32m      4\u001b[0m     \u001b[0mdnn_normalized\u001b[0m\u001b[0;34m.\u001b[0m\u001b[0mtrain\u001b[0m\u001b[0;34m(\u001b[0m\u001b[0mX_train_normalized\u001b[0m\u001b[0;34m,\u001b[0m \u001b[0my_train\u001b[0m\u001b[0;34m,\u001b[0m \u001b[0mvalidation_data\u001b[0m\u001b[0;34m)\u001b[0m\u001b[0;34m\u001b[0m\u001b[0m\n\u001b[1;32m      5\u001b[0m     \u001b[0;32mprint\u001b[0m\u001b[0;34m(\u001b[0m\u001b[0mdnn_normalized\u001b[0m\u001b[0;34m.\u001b[0m\u001b[0mtest\u001b[0m\u001b[0;34m(\u001b[0m\u001b[0mX_test_normalized\u001b[0m\u001b[0;34m,\u001b[0m \u001b[0my_test\u001b[0m\u001b[0;34m)\u001b[0m\u001b[0;34m)\u001b[0m\u001b[0;34m\u001b[0m\u001b[0m\n",
      "\u001b[0;32m/users/mtaranov/LongRange3D/models_motif.py\u001b[0m in \u001b[0;36m__init__\u001b[0;34m(self, num_features, num_nodes, use_deep_CNN, num_tasks, num_filters, num_filters_2, num_filters_3, L1, dropout, verbose)\u001b[0m\n\u001b[1;32m    104\u001b[0m         \u001b[0mself\u001b[0m\u001b[0;34m.\u001b[0m\u001b[0mmodel\u001b[0m\u001b[0;34m.\u001b[0m\u001b[0madd\u001b[0m\u001b[0;34m(\u001b[0m\u001b[0mFlatten\u001b[0m\u001b[0;34m(\u001b[0m\u001b[0;34m)\u001b[0m\u001b[0;34m)\u001b[0m\u001b[0;34m\u001b[0m\u001b[0m\n\u001b[1;32m    105\u001b[0m         \u001b[0;32mfor\u001b[0m \u001b[0mi\u001b[0m \u001b[0;32min\u001b[0m \u001b[0mrange\u001b[0m\u001b[0;34m(\u001b[0m\u001b[0;36m3\u001b[0m\u001b[0;34m)\u001b[0m\u001b[0;34m:\u001b[0m\u001b[0;34m\u001b[0m\u001b[0m\n\u001b[0;32m--> 106\u001b[0;31m             \u001b[0mself\u001b[0m\u001b[0;34m.\u001b[0m\u001b[0mmodel\u001b[0m\u001b[0;34m.\u001b[0m\u001b[0madd\u001b[0m\u001b[0;34m(\u001b[0m\u001b[0mDense\u001b[0m\u001b[0;34m(\u001b[0m\u001b[0moutput_dim\u001b[0m\u001b[0;34m=\u001b[0m\u001b[0;36m3000\u001b[0m\u001b[0;34m,\u001b[0m \u001b[0mactivation\u001b[0m\u001b[0;34m=\u001b[0m\u001b[0;34m'relu'\u001b[0m\u001b[0;34m)\u001b[0m\u001b[0;34m)\u001b[0m\u001b[0;34m\u001b[0m\u001b[0m\n\u001b[0m\u001b[1;32m    107\u001b[0m             \u001b[0;31m#self.model.add(Dense(output_dim=1000))\u001b[0m\u001b[0;34m\u001b[0m\u001b[0;34m\u001b[0m\u001b[0m\n\u001b[1;32m    108\u001b[0m             \u001b[0;31m#self.model.add(BatchNormalization())\u001b[0m\u001b[0;34m\u001b[0m\u001b[0;34m\u001b[0m\u001b[0m\n",
      "\u001b[0;32m/users/mtaranov/local/anaconda2/lib/python2.7/site-packages/Keras-0.3.3-py2.7.egg/keras/layers/containers.pyc\u001b[0m in \u001b[0;36madd\u001b[0;34m(self, layer)\u001b[0m\n\u001b[1;32m     68\u001b[0m         \u001b[0mself\u001b[0m\u001b[0;34m.\u001b[0m\u001b[0mlayers\u001b[0m\u001b[0;34m.\u001b[0m\u001b[0mappend\u001b[0m\u001b[0;34m(\u001b[0m\u001b[0mlayer\u001b[0m\u001b[0;34m)\u001b[0m\u001b[0;34m\u001b[0m\u001b[0m\n\u001b[1;32m     69\u001b[0m         \u001b[0;32mif\u001b[0m \u001b[0mlen\u001b[0m\u001b[0;34m(\u001b[0m\u001b[0mself\u001b[0m\u001b[0;34m.\u001b[0m\u001b[0mlayers\u001b[0m\u001b[0;34m)\u001b[0m \u001b[0;34m>\u001b[0m \u001b[0;36m1\u001b[0m\u001b[0;34m:\u001b[0m\u001b[0;34m\u001b[0m\u001b[0m\n\u001b[0;32m---> 70\u001b[0;31m             \u001b[0mself\u001b[0m\u001b[0;34m.\u001b[0m\u001b[0mlayers\u001b[0m\u001b[0;34m[\u001b[0m\u001b[0;34m-\u001b[0m\u001b[0;36m1\u001b[0m\u001b[0;34m]\u001b[0m\u001b[0;34m.\u001b[0m\u001b[0mset_previous\u001b[0m\u001b[0;34m(\u001b[0m\u001b[0mself\u001b[0m\u001b[0;34m.\u001b[0m\u001b[0mlayers\u001b[0m\u001b[0;34m[\u001b[0m\u001b[0;34m-\u001b[0m\u001b[0;36m2\u001b[0m\u001b[0;34m]\u001b[0m\u001b[0;34m)\u001b[0m\u001b[0;34m\u001b[0m\u001b[0m\n\u001b[0m\u001b[1;32m     71\u001b[0m             \u001b[0;32mif\u001b[0m \u001b[0;32mnot\u001b[0m \u001b[0mhasattr\u001b[0m\u001b[0;34m(\u001b[0m\u001b[0mself\u001b[0m\u001b[0;34m.\u001b[0m\u001b[0mlayers\u001b[0m\u001b[0;34m[\u001b[0m\u001b[0;36m0\u001b[0m\u001b[0;34m]\u001b[0m\u001b[0;34m,\u001b[0m \u001b[0;34m'input'\u001b[0m\u001b[0;34m)\u001b[0m\u001b[0;34m:\u001b[0m\u001b[0;34m\u001b[0m\u001b[0m\n\u001b[1;32m     72\u001b[0m                 \u001b[0mself\u001b[0m\u001b[0;34m.\u001b[0m\u001b[0mset_input\u001b[0m\u001b[0;34m(\u001b[0m\u001b[0;34m)\u001b[0m\u001b[0;34m\u001b[0m\u001b[0m\n",
      "\u001b[0;32m/users/mtaranov/local/anaconda2/lib/python2.7/site-packages/Keras-0.3.3-py2.7.egg/keras/layers/core.pyc\u001b[0m in \u001b[0;36mset_previous\u001b[0;34m(self, layer, reset_weights)\u001b[0m\n\u001b[1;32m    149\u001b[0m         \u001b[0mself\u001b[0m\u001b[0;34m.\u001b[0m\u001b[0mprevious\u001b[0m \u001b[0;34m=\u001b[0m \u001b[0mlayer\u001b[0m\u001b[0;34m\u001b[0m\u001b[0m\n\u001b[1;32m    150\u001b[0m         \u001b[0;32mif\u001b[0m \u001b[0mreset_weights\u001b[0m\u001b[0;34m:\u001b[0m\u001b[0;34m\u001b[0m\u001b[0m\n\u001b[0;32m--> 151\u001b[0;31m             \u001b[0mself\u001b[0m\u001b[0;34m.\u001b[0m\u001b[0mbuild\u001b[0m\u001b[0;34m(\u001b[0m\u001b[0;34m)\u001b[0m\u001b[0;34m\u001b[0m\u001b[0m\n\u001b[0m\u001b[1;32m    152\u001b[0m \u001b[0;34m\u001b[0m\u001b[0m\n\u001b[1;32m    153\u001b[0m     \u001b[0;32mdef\u001b[0m \u001b[0mclear_previous\u001b[0m\u001b[0;34m(\u001b[0m\u001b[0mself\u001b[0m\u001b[0;34m,\u001b[0m \u001b[0mreset_weights\u001b[0m\u001b[0;34m=\u001b[0m\u001b[0mTrue\u001b[0m\u001b[0;34m)\u001b[0m\u001b[0;34m:\u001b[0m\u001b[0;34m\u001b[0m\u001b[0m\n",
      "\u001b[0;32m/users/mtaranov/local/anaconda2/lib/python2.7/site-packages/Keras-0.3.3-py2.7.egg/keras/layers/core.pyc\u001b[0m in \u001b[0;36mbuild\u001b[0;34m(self)\u001b[0m\n\u001b[1;32m   1000\u001b[0m \u001b[0;34m\u001b[0m\u001b[0m\n\u001b[1;32m   1001\u001b[0m         self.W = self.init((input_dim, self.output_dim),\n\u001b[0;32m-> 1002\u001b[0;31m                            name='{}_W'.format(self.name))\n\u001b[0m\u001b[1;32m   1003\u001b[0m         self.b = K.zeros((self.output_dim,),\n\u001b[1;32m   1004\u001b[0m                          name='{}_b'.format(self.name))\n",
      "\u001b[0;32m/users/mtaranov/local/anaconda2/lib/python2.7/site-packages/Keras-0.3.3-py2.7.egg/keras/initializations.pyc\u001b[0m in \u001b[0;36mglorot_uniform\u001b[0;34m(shape, name, dim_ordering)\u001b[0m\n\u001b[1;32m     57\u001b[0m     \u001b[0mfan_in\u001b[0m\u001b[0;34m,\u001b[0m \u001b[0mfan_out\u001b[0m \u001b[0;34m=\u001b[0m \u001b[0mget_fans\u001b[0m\u001b[0;34m(\u001b[0m\u001b[0mshape\u001b[0m\u001b[0;34m,\u001b[0m \u001b[0mdim_ordering\u001b[0m\u001b[0;34m=\u001b[0m\u001b[0mdim_ordering\u001b[0m\u001b[0;34m)\u001b[0m\u001b[0;34m\u001b[0m\u001b[0m\n\u001b[1;32m     58\u001b[0m     \u001b[0ms\u001b[0m \u001b[0;34m=\u001b[0m \u001b[0mnp\u001b[0m\u001b[0;34m.\u001b[0m\u001b[0msqrt\u001b[0m\u001b[0;34m(\u001b[0m\u001b[0;36m6.\u001b[0m \u001b[0;34m/\u001b[0m \u001b[0;34m(\u001b[0m\u001b[0mfan_in\u001b[0m \u001b[0;34m+\u001b[0m \u001b[0mfan_out\u001b[0m\u001b[0;34m)\u001b[0m\u001b[0;34m)\u001b[0m\u001b[0;34m\u001b[0m\u001b[0m\n\u001b[0;32m---> 59\u001b[0;31m     \u001b[0;32mreturn\u001b[0m \u001b[0muniform\u001b[0m\u001b[0;34m(\u001b[0m\u001b[0mshape\u001b[0m\u001b[0;34m,\u001b[0m \u001b[0ms\u001b[0m\u001b[0;34m,\u001b[0m \u001b[0mname\u001b[0m\u001b[0;34m=\u001b[0m\u001b[0mname\u001b[0m\u001b[0;34m)\u001b[0m\u001b[0;34m\u001b[0m\u001b[0m\n\u001b[0m\u001b[1;32m     60\u001b[0m \u001b[0;34m\u001b[0m\u001b[0m\n\u001b[1;32m     61\u001b[0m \u001b[0;34m\u001b[0m\u001b[0m\n",
      "\u001b[0;32m/users/mtaranov/local/anaconda2/lib/python2.7/site-packages/Keras-0.3.3-py2.7.egg/keras/initializations.pyc\u001b[0m in \u001b[0;36muniform\u001b[0;34m(shape, scale, name)\u001b[0m\n\u001b[1;32m     29\u001b[0m \u001b[0;32mdef\u001b[0m \u001b[0muniform\u001b[0m\u001b[0;34m(\u001b[0m\u001b[0mshape\u001b[0m\u001b[0;34m,\u001b[0m \u001b[0mscale\u001b[0m\u001b[0;34m=\u001b[0m\u001b[0;36m0.05\u001b[0m\u001b[0;34m,\u001b[0m \u001b[0mname\u001b[0m\u001b[0;34m=\u001b[0m\u001b[0mNone\u001b[0m\u001b[0;34m)\u001b[0m\u001b[0;34m:\u001b[0m\u001b[0;34m\u001b[0m\u001b[0m\n\u001b[1;32m     30\u001b[0m     return K.variable(np.random.uniform(low=-scale, high=scale, size=shape),\n\u001b[0;32m---> 31\u001b[0;31m                       name=name)\n\u001b[0m\u001b[1;32m     32\u001b[0m \u001b[0;34m\u001b[0m\u001b[0m\n\u001b[1;32m     33\u001b[0m \u001b[0;34m\u001b[0m\u001b[0m\n",
      "\u001b[0;32m/users/mtaranov/local/anaconda2/lib/python2.7/site-packages/Keras-0.3.3-py2.7.egg/keras/backend/theano_backend.pyc\u001b[0m in \u001b[0;36mvariable\u001b[0;34m(value, dtype, name)\u001b[0m\n\u001b[1;32m     19\u001b[0m     '''\n\u001b[1;32m     20\u001b[0m     \u001b[0mvalue\u001b[0m \u001b[0;34m=\u001b[0m \u001b[0mnp\u001b[0m\u001b[0;34m.\u001b[0m\u001b[0masarray\u001b[0m\u001b[0;34m(\u001b[0m\u001b[0mvalue\u001b[0m\u001b[0;34m,\u001b[0m \u001b[0mdtype\u001b[0m\u001b[0;34m=\u001b[0m\u001b[0mdtype\u001b[0m\u001b[0;34m)\u001b[0m\u001b[0;34m\u001b[0m\u001b[0m\n\u001b[0;32m---> 21\u001b[0;31m     \u001b[0;32mreturn\u001b[0m \u001b[0mtheano\u001b[0m\u001b[0;34m.\u001b[0m\u001b[0mshared\u001b[0m\u001b[0;34m(\u001b[0m\u001b[0mvalue\u001b[0m\u001b[0;34m=\u001b[0m\u001b[0mvalue\u001b[0m\u001b[0;34m,\u001b[0m \u001b[0mname\u001b[0m\u001b[0;34m=\u001b[0m\u001b[0mname\u001b[0m\u001b[0;34m,\u001b[0m \u001b[0mstrict\u001b[0m\u001b[0;34m=\u001b[0m\u001b[0mFalse\u001b[0m\u001b[0;34m)\u001b[0m\u001b[0;34m\u001b[0m\u001b[0m\n\u001b[0m\u001b[1;32m     22\u001b[0m \u001b[0;34m\u001b[0m\u001b[0m\n\u001b[1;32m     23\u001b[0m \u001b[0;34m\u001b[0m\u001b[0m\n",
      "\u001b[0;32m/users/mtaranov/local/anaconda2/lib/python2.7/site-packages/theano/compile/sharedvalue.pyc\u001b[0m in \u001b[0;36mshared\u001b[0;34m(value, name, strict, allow_downcast, **kwargs)\u001b[0m\n\u001b[1;32m    266\u001b[0m             \u001b[0;32mtry\u001b[0m\u001b[0;34m:\u001b[0m\u001b[0;34m\u001b[0m\u001b[0m\n\u001b[1;32m    267\u001b[0m                 var = ctor(value, name=name, strict=strict,\n\u001b[0;32m--> 268\u001b[0;31m                            allow_downcast=allow_downcast, **kwargs)\n\u001b[0m\u001b[1;32m    269\u001b[0m                 \u001b[0mutils\u001b[0m\u001b[0;34m.\u001b[0m\u001b[0madd_tag_trace\u001b[0m\u001b[0;34m(\u001b[0m\u001b[0mvar\u001b[0m\u001b[0;34m)\u001b[0m\u001b[0;34m\u001b[0m\u001b[0m\n\u001b[1;32m    270\u001b[0m                 \u001b[0;32mreturn\u001b[0m \u001b[0mvar\u001b[0m\u001b[0;34m\u001b[0m\u001b[0m\n",
      "\u001b[0;32m/users/mtaranov/local/anaconda2/lib/python2.7/site-packages/theano/sandbox/cuda/var.pyc\u001b[0m in \u001b[0;36mfloat32_shared_constructor\u001b[0;34m(value, name, strict, allow_downcast, borrow, broadcastable, target)\u001b[0m\n\u001b[1;32m    186\u001b[0m         \u001b[0;31m# type.broadcastable is guaranteed to be a tuple, which this next\u001b[0m\u001b[0;34m\u001b[0m\u001b[0;34m\u001b[0m\u001b[0m\n\u001b[1;32m    187\u001b[0m         \u001b[0;31m# function requires\u001b[0m\u001b[0;34m\u001b[0m\u001b[0;34m\u001b[0m\u001b[0m\n\u001b[0;32m--> 188\u001b[0;31m         \u001b[0mdeviceval\u001b[0m \u001b[0;34m=\u001b[0m \u001b[0mtype_support_filter\u001b[0m\u001b[0;34m(\u001b[0m\u001b[0mvalue\u001b[0m\u001b[0;34m,\u001b[0m \u001b[0mtype\u001b[0m\u001b[0;34m.\u001b[0m\u001b[0mbroadcastable\u001b[0m\u001b[0;34m,\u001b[0m \u001b[0mFalse\u001b[0m\u001b[0;34m,\u001b[0m \u001b[0mNone\u001b[0m\u001b[0;34m)\u001b[0m\u001b[0;34m\u001b[0m\u001b[0m\n\u001b[0m\u001b[1;32m    189\u001b[0m \u001b[0;34m\u001b[0m\u001b[0m\n\u001b[1;32m    190\u001b[0m     \u001b[0;32mtry\u001b[0m\u001b[0;34m:\u001b[0m\u001b[0;34m\u001b[0m\u001b[0m\n",
      "\u001b[0;31mMemoryError\u001b[0m: ('Error allocating 36000000 bytes of device memory (CNMEM_STATUS_OUT_OF_MEMORY).', \"you might consider using 'theano.shared(..., borrow=True)'\")"
     ]
    }
   ],
   "source": [
    "for i in range(10):\n",
    "    dnn_normalized = LongRangeDNN(num_features=1920, use_deep_CNN=True)\n",
    "    validation_data = (X_valid_normalized, y_valid)\n",
    "    dnn_normalized.train(X_train_normalized, y_train, validation_data)\n",
    "    print(dnn_normalized.test(X_test_normalized, y_test))\n",
    "    print(dnn_normalized.test(X_train_normalized, y_train))\n",
    "    print(dnn_normalized.test(X_valid_normalized, y_valid))"
   ]
  },
  {
   "cell_type": "code",
   "execution_count": null,
   "metadata": {
    "collapsed": false
   },
   "outputs": [],
   "source": [
    "#save model and weights\n",
    "dnn_normalized.save(contacts+'_dnn_CONV_motifs', '/users/mtaranov/LongRange3D/')"
   ]
  },
  {
   "cell_type": "markdown",
   "metadata": {},
   "source": [
    "# DeepLift"
   ]
  },
  {
   "cell_type": "code",
   "execution_count": null,
   "metadata": {
    "collapsed": true
   },
   "outputs": [],
   "source": [
    "weights='/users/mtaranov/LongRange3D/weights/'+contacts+'_dnn_CONV_motifs.weights.h5'\n",
    "json_model='/users/mtaranov/LongRange3D/models/'+contacts+'_dnn_CONV_motifs.arch.json'"
   ]
  },
  {
   "cell_type": "code",
   "execution_count": null,
   "metadata": {
    "collapsed": false
   },
   "outputs": [],
   "source": [
    "scores = dnn_normalized.deeplift(X_valid_normalized, weights, json_model, batch_size=128)"
   ]
  },
  {
   "cell_type": "code",
   "execution_count": null,
   "metadata": {
    "collapsed": true
   },
   "outputs": [],
   "source": [
    "np.save('/users/mtaranov/LongRange3D/deeplift_scores/'+contacts+'_scores_dnn_CONV_motifs.npy', scores)"
   ]
  },
  {
   "cell_type": "code",
   "execution_count": null,
   "metadata": {
    "collapsed": false
   },
   "outputs": [],
   "source": [
    "plt.plot(np.mean(scores[:, 0, :, 0], axis=0))"
   ]
  },
  {
   "cell_type": "code",
   "execution_count": null,
   "metadata": {
    "collapsed": false
   },
   "outputs": [],
   "source": [
    "plt.plot(np.mean(scores[:, 0, :, 1], axis=0))"
   ]
  },
  {
   "cell_type": "code",
   "execution_count": null,
   "metadata": {
    "collapsed": false
   },
   "outputs": [],
   "source": [
    "vmin = np.min(np.concatenate((scores[:, 0, :, 0], scores[:, 0, :, 1]), axis=1))\n",
    "vmax = np.max(np.concatenate((scores[:, 0, :, 0], scores[:, 0, :, 1]), axis=1))"
   ]
  },
  {
   "cell_type": "code",
   "execution_count": null,
   "metadata": {
    "collapsed": false
   },
   "outputs": [],
   "source": [
    "#plt.imshow(scores[:, 0, :, 0], cmap='hot', interpolation='nearest')\n",
    "plt.pcolor(scores[:, 0, :, 0], cmap='hot', vmin=vmin, vmax=vmax) # cmap='RdBu'\n",
    "plt.xlabel('motifs/features')\n",
    "plt.ylabel('DeepLift Score')\n",
    "plt.title('Node 1')\n",
    "plt.colorbar()"
   ]
  },
  {
   "cell_type": "code",
   "execution_count": null,
   "metadata": {
    "collapsed": false
   },
   "outputs": [],
   "source": [
    "#plt.imshow(scores[:, 0, :, 1], cmap='hot', interpolation='nearest')\n",
    "plt.pcolor(scores[:, 0, :, 1], cmap='hot', vmin=vmin, vmax=vmax) \n",
    "plt.xlabel('motifs/features')\n",
    "plt.ylabel('DeepLift Score')\n",
    "plt.title('Node 2')\n",
    "plt.colorbar()"
   ]
  },
  {
   "cell_type": "markdown",
   "metadata": {},
   "source": [
    "# Print prediction"
   ]
  },
  {
   "cell_type": "code",
   "execution_count": null,
   "metadata": {
    "collapsed": true
   },
   "outputs": [],
   "source": [
    "pred_probs_test = dnn_normalized.predict(X_test_normalized)\n",
    "#np.save(\"model_predictions/test_set_upperTriangle_noDiag_reads_with_distances_full_valid.npy\", pred_probs_test)\n",
    "pred_probs_valid = dnn_normalized.predict(X_valid_normalized)\n",
    "#np.save(\"model_predictions/valid_set_upperTriangle_noDiag_reads_with_distances_full_valid.npy\", pred_probs_valid)\n",
    "pred_probs_train = dnn_normalized.predict(X_train_normalized)\n",
    "#np.save(\"model_predictions/train_set_upperTriangle_noDiag_reads_with_distances_full_valid.npy\", pred_probs_train)"
   ]
  },
  {
   "cell_type": "code",
   "execution_count": null,
   "metadata": {
    "collapsed": false
   },
   "outputs": [],
   "source": [
    "indx_train = np.load(path+'indx_train_thres_10.npy')\n",
    "indx_test = np.load(path+'indx_test_thres_10.npy')\n",
    "indx_valid = np.load(path+'indx_valid_thres_10.npy')"
   ]
  },
  {
   "cell_type": "code",
   "execution_count": null,
   "metadata": {
    "collapsed": false
   },
   "outputs": [],
   "source": [
    "labels_all=(np.concatenate((y_train, y_valid, y_test), axis=0)).astype(int)\n",
    "preds_all=(np.concatenate((pred_probs_train, pred_probs_valid, pred_probs_test), axis=0))\n",
    "indx_all=np.concatenate((indx_train, indx_valid, indx_test), axis=0)\n",
    "\n",
    "labels_chr16 = labels_all[np.ravel(np.where(indx_all[:,2]==16))]\n",
    "preds_chr16 = preds_all[np.ravel(np.where(indx_all[:,2]==16))]\n",
    "indx_chr16 = indx_all[np.ravel(np.where(indx_all[:,2]==16))]"
   ]
  },
  {
   "cell_type": "code",
   "execution_count": null,
   "metadata": {
    "collapsed": false
   },
   "outputs": [],
   "source": [
    "indx_chr16.max()"
   ]
  },
  {
   "cell_type": "code",
   "execution_count": null,
   "metadata": {
    "collapsed": false
   },
   "outputs": [],
   "source": [
    "NumberOfNodes=2840\n",
    "preds_chr16_2d, labels_chr16_2d = get_2D(indx_chr16, preds_chr16, labels_chr16, NumberOfNodes)\n",
    "# preds_test_2d, labels_test_2d = get_2D(indx_test, preds_test, labels_test, NumberOfNodes)"
   ]
  },
  {
   "cell_type": "code",
   "execution_count": null,
   "metadata": {
    "collapsed": false
   },
   "outputs": [],
   "source": [
    "printMatrix(preds_chr16_2d, '', 1, 1, title='preds')\n",
    "printMatrix(labels_chr16_2d, '', 1, 1, title='Captures')"
   ]
  },
  {
   "cell_type": "code",
   "execution_count": null,
   "metadata": {
    "collapsed": false
   },
   "outputs": [],
   "source": [
    "zoomIn_window = (250,350)\n",
    "NumberOfNodes=2840\n",
    "plot_prediction(change_scale(preds_chr16_2d)+change_scale(preds_chr16_2d).T, change_scale(labels_chr16_2d)+change_scale(labels_chr16_2d).T, zoomIn_window, )"
   ]
  },
  {
   "cell_type": "code",
   "execution_count": null,
   "metadata": {
    "collapsed": true
   },
   "outputs": [],
   "source": []
  }
 ],
 "metadata": {
  "anaconda-cloud": {},
  "kernelspec": {
   "display_name": "Python [default]",
   "language": "python",
   "name": "python2"
  },
  "language_info": {
   "codemirror_mode": {
    "name": "ipython",
    "version": 2
   },
   "file_extension": ".py",
   "mimetype": "text/x-python",
   "name": "python",
   "nbconvert_exporter": "python",
   "pygments_lexer": "ipython2",
   "version": "2.7.12"
  }
 },
 "nbformat": 4,
 "nbformat_minor": 0
}
