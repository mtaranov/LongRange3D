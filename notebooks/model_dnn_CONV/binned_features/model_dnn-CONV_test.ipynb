{
 "cells": [
  {
   "cell_type": "code",
   "execution_count": 1,
   "metadata": {
    "collapsed": false
   },
   "outputs": [
    {
     "name": "stderr",
     "output_type": "stream",
     "text": [
      "Using Theano backend.\n",
      "WARNING (theano.sandbox.cuda): The cuda backend is deprecated and will be removed in the next release (v0.10).  Please switch to the gpuarray backend. You can get more information about how to switch at this URL:\n",
      " https://github.com/Theano/Theano/wiki/Converting-to-the-new-gpu-back-end%28gpuarray%29\n",
      "\n",
      "Using gpu device 0: GeForce GTX TITAN X (CNMeM is enabled with initial size: 2500 MB, cuDNN 5105)\n"
     ]
    }
   ],
   "source": [
    "%matplotlib inline\n",
    "%load_ext autoreload\n",
    "%autoreload 2\n",
    "\n",
    "import numpy as np\n",
    "import matplotlib.pyplot as plt\n",
    "from sklearn.preprocessing import MinMaxScaler, StandardScaler\n",
    "import copy\n",
    "from models import LongRangeDNN\n",
    "from utils import get_features, get_labels, subsample_data, normalize_features, reconstruct_2d, printMatrix, binarize, zscore, get_2D, plot_prediction, change_scale \n",
    "#from sklearn.preprocessing import MinMaxScaler, StandardScaler\n",
    "#from dragonn.models import Model, SequenceDNN\n",
    "#from keras.models import Sequential\n",
    "#from keras.callbacks import Callback, EarlyStopping\n",
    "#from keras.layers.core import (\n",
    "#    Activation, Dense, Dropout, Flatten,\n",
    "#    Permute, Reshape, TimeDistributedDense\n",
    "#)\n",
    "#from keras.layers.convolutional import Convolution2D, MaxPooling2D\n",
    "#from keras.layers.recurrent import GRU\n",
    "#from keras.regularizers import l1\n",
    "\n",
    "#from deeplift import keras_conversion as kc\n",
    "#from deeplift.blobs import MxtsMode"
   ]
  },
  {
   "cell_type": "code",
   "execution_count": 2,
   "metadata": {
    "collapsed": false
   },
   "outputs": [
    {
     "data": {
      "text/plain": [
       "\"\\nX_train = get_features(data_path+'train_set_upperTriangle_noDiag_reads.npy')\\ny_train = get_labels(data_path+'labels_train_upperTriangle_noDiag.npy')\\nX_valid = get_features(data_path+'vali_set_upperTriangle_noDiag_reads.npy')\\ny_valid = get_labels(data_path+'labels_vali_upperTriangle_noDiag.npy')\\nX_test = get_features(data_path+'test_set_upperTriangle_noDiag_reads.npy')\\ny_test = get_labels(data_path+'labels_test_upperTriangle_noDiag.npy')\\n\\nX_train = get_features('NN_datasets/train_set_all_reads.npy')\\ny_train = get_labels('NN_datasets/labels_train_all.npy')\\nX_valid = get_features('NN_datasets/vali_set_all_reads.npy')\\ny_valid = get_labels('NN_datasets/labels_vali_all.npy')\\nX_test = get_features('NN_datasets/test_set_all_reads.npy')\\ny_test = get_labels('NN_datasets/labels_test_all.npy')\\n\\nX_train_subsampled, y_train_subsampled = subsample_data(X_train, y_train)\\nX_valid_subsampled, y_valid_subsampled = subsample_data(X_valid, y_valid)\\nX_test_subsampled, y_test_subsampled = subsample_data(X_test, y_test)\\n\""
      ]
     },
     "execution_count": 2,
     "metadata": {},
     "output_type": "execute_result"
    }
   ],
   "source": [
    "data_path='/users/mtaranov/NN_all_data/'\n",
    "\n",
    "X_train = get_features('/users/mtaranov/NN_thres5max_datasets/dist_matched/X_train_thres_10.npy')\n",
    "y_train = get_labels('/users/mtaranov/NN_thres5max_datasets/dist_matched/y_train_thres_10.npy')\n",
    "X_valid = get_features('/users/mtaranov/NN_thres5max_datasets/dist_matched/X_valid_thres_10.npy')\n",
    "y_valid = get_labels('/users/mtaranov/NN_thres5max_datasets/dist_matched/y_valid_thres_10.npy')\n",
    "X_test = get_features('/users/mtaranov/NN_thres5max_datasets/dist_matched/X_test_thres_10.npy')\n",
    "y_test = get_labels('/users/mtaranov/NN_thres5max_datasets/dist_matched/y_test_thres_10.npy')\n",
    "\n",
    "\"\"\"\n",
    "X_train = get_features(data_path+'train_set_upperTriangle_noDiag_reads.npy')\n",
    "y_train = get_labels(data_path+'labels_train_upperTriangle_noDiag.npy')\n",
    "X_valid = get_features(data_path+'vali_set_upperTriangle_noDiag_reads.npy')\n",
    "y_valid = get_labels(data_path+'labels_vali_upperTriangle_noDiag.npy')\n",
    "X_test = get_features(data_path+'test_set_upperTriangle_noDiag_reads.npy')\n",
    "y_test = get_labels(data_path+'labels_test_upperTriangle_noDiag.npy')\n",
    "\n",
    "X_train = get_features('NN_datasets/train_set_all_reads.npy')\n",
    "y_train = get_labels('NN_datasets/labels_train_all.npy')\n",
    "X_valid = get_features('NN_datasets/vali_set_all_reads.npy')\n",
    "y_valid = get_labels('NN_datasets/labels_vali_all.npy')\n",
    "X_test = get_features('NN_datasets/test_set_all_reads.npy')\n",
    "y_test = get_labels('NN_datasets/labels_test_all.npy')\n",
    "\n",
    "X_train_subsampled, y_train_subsampled = subsample_data(X_train, y_train)\n",
    "X_valid_subsampled, y_valid_subsampled = subsample_data(X_valid, y_valid)\n",
    "X_test_subsampled, y_test_subsampled = subsample_data(X_test, y_test)\n",
    "\"\"\""
   ]
  },
  {
   "cell_type": "code",
   "execution_count": 3,
   "metadata": {
    "collapsed": false
   },
   "outputs": [],
   "source": [
    "X_train_normalized, X_valid_normalized, X_test_normalized = normalize_features(X_train, X_valid, X_test)\n",
    "\n",
    "#X_train_normalized_subsampled, y_train_subsampled = subsample_data(X_train_normalized, y_train)\n",
    "#X_valid_normalized_subsampled, y_valid_subsampled = subsample_data(X_valid_normalized, y_valid)\n",
    "#X_test_normalized_subsampled, y_test_subsampled = subsample_data(X_test_normalized, y_test)\n",
    "\n",
    "#X_train_scaled_subsampled, y_train_subsampled = subsample_data(X_train_scaled, y_train)\n",
    "#X_valid_scaled_subsampled, y_valid_subsampled = subsample_data(X_valid_scaled, y_valid)\n",
    "#X_test_scaled_subsampled, y_test_subsampled = subsample_data(X_test_scaled, y_test)\n"
   ]
  },
  {
   "cell_type": "markdown",
   "metadata": {},
   "source": [
    "# without distance"
   ]
  },
  {
   "cell_type": "code",
   "execution_count": null,
   "metadata": {
    "collapsed": false
   },
   "outputs": [],
   "source": [
    "from models_exp import LongRangeDNN\n",
    "dnn_normalized = LongRangeDNN(num_features=10, use_deep_CNN=True)"
   ]
  },
  {
   "cell_type": "code",
   "execution_count": null,
   "metadata": {
    "collapsed": false
   },
   "outputs": [
    {
     "name": "stdout",
     "output_type": "stream",
     "text": [
      "Training model...\n",
      "Train on 1212 samples, validate on 622 samples\n",
      "Epoch 1/500\n",
      "Epoch 0: validation loss: 0.692\n",
      "Balanced Accuracy: 53.38%\t auROC: 0.558\t auPRC: 0.542\t auPRG: 0.097\n",
      "Recall at 5%|10%|20% FDR: 0.0%|0.0%|0.0%\t Num Positives: 311\t Num Negatives: 311\t \n",
      "\n",
      "1212/1212 [==============================] - 2s - loss: 1.7643 - val_loss: 0.6921\n",
      "Epoch 2/500\n",
      "Epoch 1: validation loss: 0.693\n",
      "Balanced Accuracy: 51.93%\t auROC: 0.531\t auPRC: 0.538\t auPRG: 0.007\n",
      "Recall at 5%|10%|20% FDR: 0.0%|0.0%|0.0%\t Num Positives: 311\t Num Negatives: 311\t \n",
      "\n",
      "1212/1212 [==============================] - 2s - loss: 1.8213 - val_loss: 0.6929\n",
      "Epoch 3/500\n",
      "Epoch 2: validation loss: 0.693\n",
      "Balanced Accuracy: 51.93%\t auROC: 0.522\t auPRC: 0.541\t auPRG: -0.006\n",
      "Recall at 5%|10%|20% FDR: 0.6%|0.6%|0.6%\t Num Positives: 311\t Num Negatives: 311\t \n",
      "\n",
      "1212/1212 [==============================] - 2s - loss: 1.6927 - val_loss: 0.6933\n",
      "Epoch 4/500\n",
      "Epoch 3: validation loss: 0.694\n",
      "Balanced Accuracy: 51.93%\t auROC: 0.522\t auPRC: 0.549\t auPRG: 0.002\n",
      "Recall at 5%|10%|20% FDR: 0.3%|0.3%|5.5%\t Num Positives: 311\t Num Negatives: 311\t \n",
      "\n",
      "1212/1212 [==============================] - 2s - loss: 1.6838 - val_loss: 0.6935\n",
      "Epoch 5/500\n",
      "Epoch 4: validation loss: 0.692\n",
      "Balanced Accuracy: 53.05%\t auROC: 0.554\t auPRC: 0.567\t auPRG: 0.097\n",
      "Recall at 5%|10%|20% FDR: 0.3%|0.3%|8.4%\t Num Positives: 311\t Num Negatives: 311\t \n",
      "\n",
      "1212/1212 [==============================] - 2s - loss: 1.6727 - val_loss: 0.6921\n",
      "Epoch 6/500\n",
      "Epoch 5: validation loss: 0.690\n",
      "Balanced Accuracy: 52.41%\t auROC: 0.584\t auPRC: 0.584\t auPRG: 0.157\n",
      "Recall at 5%|10%|20% FDR: 0.0%|0.0%|8.0%\t Num Positives: 311\t Num Negatives: 311\t \n",
      "\n",
      "1212/1212 [==============================] - 2s - loss: 1.5980 - val_loss: 0.6895\n",
      "Epoch 7/500\n",
      "Epoch 6: validation loss: 0.686\n",
      "Balanced Accuracy: 54.18%\t auROC: 0.615\t auPRC: 0.611\t auPRG: 0.218\n",
      "Recall at 5%|10%|20% FDR: 0.3%|0.3%|10.3%\t Num Positives: 311\t Num Negatives: 311\t \n",
      "\n",
      "1212/1212 [==============================] - 2s - loss: 1.6061 - val_loss: 0.6859\n",
      "Epoch 8/500\n",
      "Epoch 7: validation loss: 0.681\n",
      "Balanced Accuracy: 55.31%\t auROC: 0.651\t auPRC: 0.648\t auPRG: 0.297\n",
      "Recall at 5%|10%|20% FDR: 1.0%|1.0%|11.3%\t Num Positives: 311\t Num Negatives: 311\t \n",
      "\n",
      "1212/1212 [==============================] - 2s - loss: 1.6089 - val_loss: 0.6806\n",
      "Epoch 9/500\n",
      "Epoch 8: validation loss: 0.675\n",
      "Balanced Accuracy: 57.23%\t auROC: 0.670\t auPRC: 0.670\t auPRG: 0.336\n",
      "Recall at 5%|10%|20% FDR: 1.3%|1.3%|15.1%\t Num Positives: 311\t Num Negatives: 311\t \n",
      "\n",
      "1212/1212 [==============================] - 2s - loss: 1.6019 - val_loss: 0.6754\n",
      "Epoch 10/500\n",
      "Epoch 9: validation loss: 0.670\n",
      "Balanced Accuracy: 59.49%\t auROC: 0.686\t auPRC: 0.687\t auPRG: 0.368\n",
      "Recall at 5%|10%|20% FDR: 2.6%|2.6%|23.8%\t Num Positives: 311\t Num Negatives: 311\t \n",
      "\n",
      "1212/1212 [==============================] - 2s - loss: 1.5904 - val_loss: 0.6699\n",
      "Epoch 11/500\n",
      "Epoch 10: validation loss: 0.664\n",
      "Balanced Accuracy: 62.38%\t auROC: 0.697\t auPRC: 0.698\t auPRG: 0.388\n",
      "Recall at 5%|10%|20% FDR: 1.0%|1.0%|29.9%\t Num Positives: 311\t Num Negatives: 311\t \n",
      "\n",
      "1212/1212 [==============================] - 2s - loss: 1.5375 - val_loss: 0.6637\n",
      "Epoch 12/500\n",
      "Epoch 11: validation loss: 0.657\n",
      "Balanced Accuracy: 64.63%\t auROC: 0.707\t auPRC: 0.710\t auPRG: 0.410\n",
      "Recall at 5%|10%|20% FDR: 0.6%|0.6%|37.9%\t Num Positives: 311\t Num Negatives: 311\t \n",
      "\n",
      "1212/1212 [==============================] - 2s - loss: 1.4685 - val_loss: 0.6572\n",
      "Epoch 13/500\n",
      "Epoch 12: validation loss: 0.650\n",
      "Balanced Accuracy: 66.88%\t auROC: 0.716\t auPRC: 0.724\t auPRG: 0.441\n",
      "Recall at 5%|10%|20% FDR: 0.6%|0.6%|45.7%\t Num Positives: 311\t Num Negatives: 311\t \n",
      "\n",
      "1212/1212 [==============================] - 2s - loss: 1.4732 - val_loss: 0.6504\n",
      "Epoch 14/500\n",
      "Epoch 13: validation loss: 0.643\n",
      "Balanced Accuracy: 68.33%\t auROC: 0.724\t auPRC: 0.737\t auPRG: 0.468\n",
      "Recall at 5%|10%|20% FDR: 0.6%|0.6%|50.5%\t Num Positives: 311\t Num Negatives: 311\t \n",
      "\n",
      "1212/1212 [==============================] - 2s - loss: 1.5293 - val_loss: 0.6435\n",
      "Epoch 15/500\n",
      "Epoch 14: validation loss: 0.637\n",
      "Balanced Accuracy: 68.49%\t auROC: 0.728\t auPRC: 0.743\t auPRG: 0.475\n",
      "Recall at 5%|10%|20% FDR: 1.0%|1.0%|52.1%\t Num Positives: 311\t Num Negatives: 311\t \n",
      "\n",
      "1212/1212 [==============================] - 2s - loss: 1.3998 - val_loss: 0.6372\n",
      "Epoch 16/500\n",
      "Epoch 15: validation loss: 0.630\n",
      "Balanced Accuracy: 69.29%\t auROC: 0.734\t auPRC: 0.750\t auPRG: 0.484\n",
      "Recall at 5%|10%|20% FDR: 1.0%|13.8%|50.5%\t Num Positives: 311\t Num Negatives: 311\t \n",
      "\n",
      "1212/1212 [==============================] - 2s - loss: 1.4524 - val_loss: 0.6304\n",
      "Epoch 17/500\n",
      "Epoch 16: validation loss: 0.624\n",
      "Balanced Accuracy: 69.61%\t auROC: 0.738\t auPRC: 0.757\t auPRG: 0.495\n",
      "Recall at 5%|10%|20% FDR: 1.3%|15.8%|53.7%\t Num Positives: 311\t Num Negatives: 311\t \n",
      "\n",
      "1212/1212 [==============================] - 2s - loss: 1.3898 - val_loss: 0.6240\n",
      "Epoch 18/500\n",
      "Epoch 17: validation loss: 0.618\n",
      "Balanced Accuracy: 70.42%\t auROC: 0.740\t auPRC: 0.761\t auPRG: 0.498\n",
      "Recall at 5%|10%|20% FDR: 1.6%|19.6%|54.7%\t Num Positives: 311\t Num Negatives: 311\t \n",
      "\n",
      "1212/1212 [==============================] - 2s - loss: 1.4219 - val_loss: 0.6182\n",
      "Epoch 19/500\n",
      "Epoch 18: validation loss: 0.613\n",
      "Balanced Accuracy: 69.94%\t auROC: 0.741\t auPRC: 0.765\t auPRG: 0.500\n",
      "Recall at 5%|10%|20% FDR: 2.6%|21.9%|53.7%\t Num Positives: 311\t Num Negatives: 311\t \n",
      "\n",
      "1212/1212 [==============================] - 2s - loss: 1.4672 - val_loss: 0.6132\n",
      "Epoch 20/500\n",
      "Epoch 19: validation loss: 0.610\n",
      "Balanced Accuracy: 70.42%\t auROC: 0.739\t auPRC: 0.767\t auPRG: 0.496\n",
      "Recall at 5%|10%|20% FDR: 3.2%|30.9%|55.6%\t Num Positives: 311\t Num Negatives: 311\t \n",
      "\n",
      "1212/1212 [==============================] - 2s - loss: 1.4002 - val_loss: 0.6099\n",
      "Epoch 21/500\n",
      "Epoch 20: validation loss: 0.607\n",
      "Balanced Accuracy: 71.06%\t auROC: 0.739\t auPRC: 0.770\t auPRG: 0.490\n",
      "Recall at 5%|10%|20% FDR: 4.2%|31.2%|56.9%\t Num Positives: 311\t Num Negatives: 311\t \n",
      "\n",
      "1212/1212 [==============================] - 2s - loss: 1.3645 - val_loss: 0.6065\n",
      "Epoch 22/500\n"
     ]
    }
   ],
   "source": [
    "#validation_data = (X_valid_normalized_subsampled[:, :, :10, :], y_valid_subsampled)\n",
    "#dnn_normalized.train(X_train_normalized_subsampled[:, :, :10, :], y_train_subsampled, validation_data)\n",
    "validation_data = (X_valid_normalized[:, :, :10, :], y_valid)\n",
    "dnn_normalized.train(X_train_normalized[:, :, :10, :], y_train, validation_data)"
   ]
  },
  {
   "cell_type": "code",
   "execution_count": null,
   "metadata": {
    "collapsed": false
   },
   "outputs": [],
   "source": [
    "print(dnn_normalized.test(X_test_normalized[:, :, :10, :], y_test))"
   ]
  },
  {
   "cell_type": "code",
   "execution_count": null,
   "metadata": {
    "collapsed": false
   },
   "outputs": [],
   "source": [
    "print(dnn_normalized.test(X_train_normalized[:, :, :10:, :], y_train))"
   ]
  },
  {
   "cell_type": "code",
   "execution_count": null,
   "metadata": {
    "collapsed": false
   },
   "outputs": [],
   "source": [
    "print(dnn_normalized.test(X_valid_normalized[:, :, :10, :], y_valid))"
   ]
  },
  {
   "cell_type": "code",
   "execution_count": 187,
   "metadata": {
    "collapsed": true
   },
   "outputs": [],
   "source": [
    "ipred_probs_test = dnn_normalized.predict(X_test_normalized[:, :, :10, :])\n",
    "#np.save(\"model_predictions/test_set_upperTriangle_noDiag_reads_with_distances_full_valid.npy\", pred_probs_test)\n",
    "pred_probs_valid = dnn_normalized.predict(X_valid_normalized[:, :, :10, :])\n",
    "#np.save(\"model_predictions/valid_set_upperTriangle_noDiag_reads_with_distances_full_valid.npy\", pred_probs_valid)\n",
    "pred_probs_train = dnn_normalized.predict(X_train_normalized[:, :, :10, :])\n",
    "#np.save(\"model_predictions/train_set_upperTriangle_noDiag_reads_with_distances_full_valid.npy\", pred_probs_train)"
   ]
  },
  {
   "cell_type": "markdown",
   "metadata": {},
   "source": [
    "# with genomic locations"
   ]
  },
  {
   "cell_type": "code",
   "execution_count": 64,
   "metadata": {
    "collapsed": true
   },
   "outputs": [],
   "source": [
    "dnn_normalized = LongRangeDNN(num_features=11, use_deep_CNN=True)"
   ]
  },
  {
   "cell_type": "code",
   "execution_count": 65,
   "metadata": {
    "collapsed": false
   },
   "outputs": [
    {
     "name": "stdout",
     "output_type": "stream",
     "text": [
      "Training model...\n",
      "Train on 1212 samples, validate on 622 samples\n",
      "Epoch 1/100\n",
      "1000/1212 [=======================>......] - ETA: 0s - loss: 1.2712Epoch 0: validation loss: 0.610\n",
      "Balanced Accuracy: 69.13%\t auROC: 0.748\t auPRC: 0.734\t auPRG: 0.540\n",
      "Recall at 5%|10%|20% FDR: 2.3%|2.3%|50.8%\t Num Positives: 311\t Num Negatives: 311\t \n",
      "\n",
      "1212/1212 [==============================] - 0s - loss: 1.2793 - val_loss: 0.6099\n",
      "Epoch 2/100\n",
      "1000/1212 [=======================>......] - ETA: 0s - loss: 1.0544Epoch 1: validation loss: 0.624\n",
      "Balanced Accuracy: 71.38%\t auROC: 0.767\t auPRC: 0.771\t auPRG: 0.555\n",
      "Recall at 5%|10%|20% FDR: 1.3%|1.3%|53.7%\t Num Positives: 311\t Num Negatives: 311\t \n",
      "\n",
      "1212/1212 [==============================] - 0s - loss: 1.0431 - val_loss: 0.6243\n",
      "Epoch 3/100\n",
      "1000/1212 [=======================>......] - ETA: 0s - loss: 0.9594Epoch 2: validation loss: 0.613\n",
      "Balanced Accuracy: 69.94%\t auROC: 0.775\t auPRC: 0.787\t auPRG: 0.581\n",
      "Recall at 5%|10%|20% FDR: 3.5%|32.2%|58.8%\t Num Positives: 311\t Num Negatives: 311\t \n",
      "\n",
      "1212/1212 [==============================] - 0s - loss: 0.9598 - val_loss: 0.6131\n",
      "Epoch 4/100\n",
      "1000/1212 [=======================>......] - ETA: 0s - loss: 0.8879Epoch 3: validation loss: 0.622\n",
      "Balanced Accuracy: 68.65%\t auROC: 0.771\t auPRC: 0.783\t auPRG: 0.557\n",
      "Recall at 5%|10%|20% FDR: 1.9%|43.4%|55.9%\t Num Positives: 311\t Num Negatives: 311\t \n",
      "\n",
      "1212/1212 [==============================] - 0s - loss: 0.8893 - val_loss: 0.6221\n",
      "Epoch 5/100\n",
      "1000/1212 [=======================>......] - ETA: 0s - loss: 0.8319Epoch 4: validation loss: 0.640\n",
      "Balanced Accuracy: 71.86%\t auROC: 0.774\t auPRC: 0.777\t auPRG: 0.575\n",
      "Recall at 5%|10%|20% FDR: 2.6%|46.9%|57.2%\t Num Positives: 311\t Num Negatives: 311\t \n",
      "\n",
      "1212/1212 [==============================] - 0s - loss: 0.8185 - val_loss: 0.6399\n",
      "Epoch 6/100\n",
      "1000/1212 [=======================>......] - ETA: 0s - loss: 0.7779Epoch 5: validation loss: 0.641\n",
      "Balanced Accuracy: 71.86%\t auROC: 0.777\t auPRC: 0.782\t auPRG: 0.582\n",
      "Recall at 5%|10%|20% FDR: 3.2%|4.2%|57.2%\t Num Positives: 311\t Num Negatives: 311\t \n",
      "\n",
      "1212/1212 [==============================] - 0s - loss: 0.7744 - val_loss: 0.6406\n",
      "Epoch 7/100\n",
      "1000/1212 [=======================>......] - ETA: 0s - loss: 0.7299Epoch 6: validation loss: 0.636\n",
      "Balanced Accuracy: 71.06%\t auROC: 0.772\t auPRC: 0.799\t auPRG: 0.564\n",
      "Recall at 5%|10%|20% FDR: 2.3%|46.6%|57.2%\t Num Positives: 311\t Num Negatives: 311\t \n",
      "\n",
      "1212/1212 [==============================] - 0s - loss: 0.7240 - val_loss: 0.6359\n",
      "Epoch 8/100\n",
      "1000/1212 [=======================>......] - ETA: 0s - loss: 0.7089Epoch 7: validation loss: 0.661\n",
      "Balanced Accuracy: 72.67%\t auROC: 0.780\t auPRC: 0.792\t auPRG: 0.592\n",
      "Recall at 5%|10%|20% FDR: 3.9%|46.9%|60.8%\t Num Positives: 311\t Num Negatives: 311\t \n",
      "\n",
      "1212/1212 [==============================] - 0s - loss: 0.7001 - val_loss: 0.6607\n",
      "Epoch 9/100\n",
      "1000/1212 [=======================>......] - ETA: 0s - loss: 0.6544Epoch 8: validation loss: 0.692\n",
      "Balanced Accuracy: 71.22%\t auROC: 0.771\t auPRC: 0.788\t auPRG: 0.570\n",
      "Recall at 5%|10%|20% FDR: 3.9%|33.4%|57.6%\t Num Positives: 311\t Num Negatives: 311\t \n",
      "\n",
      "1212/1212 [==============================] - 0s - loss: 0.6660 - val_loss: 0.6923\n",
      "Epoch 10/100\n",
      "1000/1212 [=======================>......] - ETA: 0s - loss: 0.6003Epoch 9: validation loss: 0.693\n",
      "Balanced Accuracy: 71.22%\t auROC: 0.781\t auPRC: 0.785\t auPRG: 0.594\n",
      "Recall at 5%|10%|20% FDR: 2.3%|2.3%|58.8%\t Num Positives: 311\t Num Negatives: 311\t \n",
      "\n",
      "1212/1212 [==============================] - 0s - loss: 0.6020 - val_loss: 0.6934\n",
      "Epoch 11/100\n",
      "1000/1212 [=======================>......] - ETA: 0s - loss: 0.5468Epoch 10: validation loss: 0.729\n",
      "Balanced Accuracy: 70.58%\t auROC: 0.772\t auPRC: 0.779\t auPRG: 0.560\n",
      "Recall at 5%|10%|20% FDR: 2.6%|4.5%|55.6%\t Num Positives: 311\t Num Negatives: 311\t \n",
      "\n",
      "1212/1212 [==============================] - 0s - loss: 0.5595 - val_loss: 0.7290\n",
      "Epoch 12/100\n",
      "1000/1212 [=======================>......] - ETA: 0s - loss: 0.5049Epoch 11: validation loss: 0.768\n",
      "Balanced Accuracy: 70.58%\t auROC: 0.769\t auPRC: 0.775\t auPRG: 0.554\n",
      "Recall at 5%|10%|20% FDR: 2.9%|5.1%|53.1%\t Num Positives: 311\t Num Negatives: 311\t \n",
      "\n",
      "1212/1212 [==============================] - 0s - loss: 0.5132 - val_loss: 0.7681\n",
      "Epoch 13/100\n",
      "1000/1212 [=======================>......] - ETA: 0s - loss: 0.4822Epoch 12: validation loss: 0.750\n",
      "Balanced Accuracy: 70.42%\t auROC: 0.774\t auPRC: 0.775\t auPRG: 0.566\n",
      "Recall at 5%|10%|20% FDR: 2.6%|45.3%|54.7%\t Num Positives: 311\t Num Negatives: 311\t \n",
      "\n",
      "1212/1212 [==============================] - 0s - loss: 0.4987 - val_loss: 0.7498\n",
      "Epoch 14/100\n",
      "1000/1212 [=======================>......] - ETA: 0s - loss: 0.4403Epoch 13: validation loss: 0.803\n",
      "Balanced Accuracy: 70.74%\t auROC: 0.779\t auPRC: 0.792\t auPRG: 0.583\n",
      "Recall at 5%|10%|20% FDR: 3.9%|47.9%|57.2%\t Num Positives: 311\t Num Negatives: 311\t \n",
      "\n",
      "1212/1212 [==============================] - 0s - loss: 0.4373 - val_loss: 0.8027\n",
      "Epoch 15/100\n",
      "1000/1212 [=======================>......] - ETA: 0s - loss: 0.4197Epoch 14: validation loss: 0.849\n",
      "Balanced Accuracy: 70.58%\t auROC: 0.765\t auPRC: 0.774\t auPRG: 0.540\n",
      "Recall at 5%|10%|20% FDR: 2.9%|3.9%|52.4%\t Num Positives: 311\t Num Negatives: 311\t \n",
      "\n",
      "1212/1212 [==============================] - 0s - loss: 0.3980 - val_loss: 0.8491\n",
      "Epoch 16/100\n",
      "1000/1212 [=======================>......] - ETA: 0s - loss: 0.3587Epoch 15: validation loss: 0.853\n",
      "Balanced Accuracy: 71.06%\t auROC: 0.781\t auPRC: 0.786\t auPRG: 0.591\n",
      "Recall at 5%|10%|20% FDR: 3.9%|4.8%|58.5%\t Num Positives: 311\t Num Negatives: 311\t \n",
      "\n",
      "1212/1212 [==============================] - 0s - loss: 0.3584 - val_loss: 0.8530\n",
      "Epoch 17/100\n",
      "1000/1212 [=======================>......] - ETA: 0s - loss: 0.3170Epoch 16: validation loss: 0.913\n",
      "Balanced Accuracy: 70.90%\t auROC: 0.774\t auPRC: 0.791\t auPRG: 0.574\n",
      "Recall at 5%|10%|20% FDR: 4.2%|30.2%|56.6%\t Num Positives: 311\t Num Negatives: 311\t \n",
      "\n",
      "1212/1212 [==============================] - 0s - loss: 0.3114 - val_loss: 0.9135\n",
      "Epoch 18/100\n",
      "1000/1212 [=======================>......] - ETA: 0s - loss: 0.2647Epoch 17: validation loss: 0.947\n",
      "Balanced Accuracy: 70.42%\t auROC: 0.765\t auPRC: 0.768\t auPRG: 0.559\n",
      "Recall at 5%|10%|20% FDR: 2.3%|2.3%|56.9%\t Num Positives: 311\t Num Negatives: 311\t \n",
      "\n",
      "1212/1212 [==============================] - 0s - loss: 0.2873 - val_loss: 0.9472\n",
      "Epoch 19/100\n",
      "1000/1212 [=======================>......] - ETA: 0s - loss: 0.2413Epoch 18: validation loss: 0.923\n",
      "Balanced Accuracy: 71.38%\t auROC: 0.770\t auPRC: 0.777\t auPRG: 0.562\n",
      "Recall at 5%|10%|20% FDR: 2.6%|3.9%|54.3%\t Num Positives: 311\t Num Negatives: 311\t \n",
      "\n",
      "1212/1212 [==============================] - 0s - loss: 0.2545 - val_loss: 0.9229\n",
      "Epoch 20/100\n",
      "1000/1212 [=======================>......] - ETA: 0s - loss: 0.2301Epoch 19: validation loss: 1.020\n",
      "Balanced Accuracy: 72.51%\t auROC: 0.776\t auPRC: 0.790\t auPRG: 0.578\n",
      "Recall at 5%|10%|20% FDR: 3.2%|27.0%|55.6%\t Num Positives: 311\t Num Negatives: 311\t \n",
      "\n",
      "1212/1212 [==============================] - 0s - loss: 0.2393 - val_loss: 1.0204\n",
      "Epoch 21/100\n",
      "1000/1212 [=======================>......] - ETA: 0s - loss: 0.2123Epoch 20: validation loss: 1.049\n",
      "Balanced Accuracy: 71.06%\t auROC: 0.771\t auPRC: 0.771\t auPRG: 0.575\n",
      "Recall at 5%|10%|20% FDR: 2.9%|5.1%|59.2%\t Num Positives: 311\t Num Negatives: 311\t \n",
      "\n",
      "1212/1212 [==============================] - 0s - loss: 0.2142 - val_loss: 1.0490\n",
      "Epoch 22/100\n",
      "1000/1212 [=======================>......] - ETA: 0s - loss: 0.2168Epoch 21: validation loss: 1.065\n",
      "Balanced Accuracy: 70.74%\t auROC: 0.770\t auPRC: 0.779\t auPRG: 0.569\n",
      "Recall at 5%|10%|20% FDR: 3.2%|6.4%|56.6%\t Num Positives: 311\t Num Negatives: 311\t \n",
      "\n",
      "1212/1212 [==============================] - 0s - loss: 0.2123 - val_loss: 1.0645\n"
     ]
    }
   ],
   "source": [
    "#validation_data = (X_valid_normalized_subsampled[:, :, :11, :], y_valid_subsampled)\n",
    "#dnn_normalized.train(X_train_normalized_subsampled[:, :, :11, :], y_train_subsampled, validation_data)\n",
    "validation_data = (X_valid_normalized[:, :, :11, :], y_valid)\n",
    "dnn_normalized.train(X_train_normalized[:, :, :11, :], y_train, validation_data)"
   ]
  },
  {
   "cell_type": "code",
   "execution_count": 66,
   "metadata": {
    "collapsed": false
   },
   "outputs": [
    {
     "name": "stdout",
     "output_type": "stream",
     "text": [
      "Balanced Accuracy: 70.37%\t auROC: 0.776\t auPRC: 0.786\t auPRG: 0.569\n",
      "Recall at 5%|10%|20% FDR: 0.0%|21.4%|55.1%\t Num Positives: 243\t Num Negatives: 243\t \n"
     ]
    }
   ],
   "source": [
    "print(dnn_normalized.test(X_test_normalized[:, :, :11, :], y_test))"
   ]
  },
  {
   "cell_type": "markdown",
   "metadata": {},
   "source": [
    "# with distance only"
   ]
  },
  {
   "cell_type": "code",
   "execution_count": 67,
   "metadata": {
    "collapsed": true
   },
   "outputs": [],
   "source": [
    "dnn_normalized = LongRangeDNN(num_features=1, use_deep_CNN=True)"
   ]
  },
  {
   "cell_type": "code",
   "execution_count": 68,
   "metadata": {
    "collapsed": false
   },
   "outputs": [
    {
     "name": "stdout",
     "output_type": "stream",
     "text": [
      "Training model...\n",
      "Train on 1212 samples, validate on 622 samples\n",
      "Epoch 1/100\n",
      "1000/1212 [=======================>......] - ETA: 0s - loss: 2.2666Epoch 0: validation loss: 0.745\n",
      "Balanced Accuracy: 57.72%\t auROC: 0.605\t auPRC: 0.588\t auPRG: 0.175\n",
      "Recall at 5%|10%|20% FDR: 0.0%|0.0%|0.0%\t Num Positives: 311\t Num Negatives: 311\t \n",
      "\n",
      "1212/1212 [==============================] - 0s - loss: 2.1379 - val_loss: 0.7453\n",
      "Epoch 2/100\n",
      "1000/1212 [=======================>......] - ETA: 0s - loss: 1.3789Epoch 1: validation loss: 0.678\n",
      "Balanced Accuracy: 57.88%\t auROC: 0.605\t auPRC: 0.587\t auPRG: 0.175\n",
      "Recall at 5%|10%|20% FDR: 0.0%|0.0%|0.0%\t Num Positives: 311\t Num Negatives: 311\t \n",
      "\n",
      "1212/1212 [==============================] - 0s - loss: 1.3723 - val_loss: 0.6782\n",
      "Epoch 3/100\n",
      "1000/1212 [=======================>......] - ETA: 0s - loss: 1.3478Epoch 2: validation loss: 0.690\n",
      "Balanced Accuracy: 57.88%\t auROC: 0.605\t auPRC: 0.587\t auPRG: 0.175\n",
      "Recall at 5%|10%|20% FDR: 0.0%|0.0%|0.0%\t Num Positives: 311\t Num Negatives: 311\t \n",
      "\n",
      "1212/1212 [==============================] - 0s - loss: 1.3516 - val_loss: 0.6900\n",
      "Epoch 4/100\n",
      "1000/1212 [=======================>......] - ETA: 0s - loss: 1.3728Epoch 3: validation loss: 0.686\n",
      "Balanced Accuracy: 50.00%\t auROC: 0.600\t auPRC: 0.591\t auPRG: 0.165\n",
      "Recall at 5%|10%|20% FDR: 0.0%|0.0%|0.0%\t Num Positives: 311\t Num Negatives: 311\t \n",
      "\n",
      "1212/1212 [==============================] - 0s - loss: 1.3717 - val_loss: 0.6856\n",
      "Epoch 5/100\n",
      "1000/1212 [=======================>......] - ETA: 0s - loss: 1.3792Epoch 4: validation loss: 0.700\n",
      "Balanced Accuracy: 41.64%\t auROC: 0.403\t auPRC: 0.445\t auPRG: -0.220\n",
      "Recall at 5%|10%|20% FDR: 0.0%|0.0%|0.0%\t Num Positives: 311\t Num Negatives: 311\t \n",
      "\n",
      "1212/1212 [==============================] - 0s - loss: 1.3803 - val_loss: 0.7002\n",
      "Epoch 6/100\n",
      "1000/1212 [=======================>......] - ETA: 0s - loss: 1.3752Epoch 5: validation loss: 0.694\n",
      "Balanced Accuracy: 50.00%\t auROC: 0.600\t auPRC: 0.591\t auPRG: 0.165\n",
      "Recall at 5%|10%|20% FDR: 0.0%|0.0%|0.0%\t Num Positives: 311\t Num Negatives: 311\t \n",
      "\n",
      "1212/1212 [==============================] - 0s - loss: 1.3733 - val_loss: 0.6945\n",
      "Epoch 7/100\n",
      "1000/1212 [=======================>......] - ETA: 0s - loss: 1.3890Epoch 6: validation loss: 0.687\n",
      "Balanced Accuracy: 57.72%\t auROC: 0.600\t auPRC: 0.591\t auPRG: 0.166\n",
      "Recall at 5%|10%|20% FDR: 0.0%|0.0%|0.0%\t Num Positives: 311\t Num Negatives: 311\t \n",
      "\n",
      "1212/1212 [==============================] - 0s - loss: 1.3827 - val_loss: 0.6866\n",
      "Epoch 8/100\n",
      "1000/1212 [=======================>......] - ETA: 0s - loss: 1.3921Epoch 7: validation loss: 0.683\n",
      "Balanced Accuracy: 57.72%\t auROC: 0.600\t auPRC: 0.591\t auPRG: 0.166\n",
      "Recall at 5%|10%|20% FDR: 0.0%|0.0%|0.0%\t Num Positives: 311\t Num Negatives: 311\t \n",
      "\n",
      "1212/1212 [==============================] - 0s - loss: 1.3839 - val_loss: 0.6833\n",
      "Epoch 9/100\n",
      "1000/1212 [=======================>......] - ETA: 0s - loss: 1.3638Epoch 8: validation loss: 0.683\n",
      "Balanced Accuracy: 57.72%\t auROC: 0.601\t auPRC: 0.591\t auPRG: 0.171\n",
      "Recall at 5%|10%|20% FDR: 0.0%|0.0%|0.0%\t Num Positives: 311\t Num Negatives: 311\t \n",
      "\n",
      "1212/1212 [==============================] - 0s - loss: 1.3651 - val_loss: 0.6832\n",
      "Epoch 10/100\n",
      "1000/1212 [=======================>......] - ETA: 0s - loss: 1.3536Epoch 9: validation loss: 0.682\n",
      "Balanced Accuracy: 57.72%\t auROC: 0.600\t auPRC: 0.591\t auPRG: 0.166\n",
      "Recall at 5%|10%|20% FDR: 0.0%|0.0%|0.0%\t Num Positives: 311\t Num Negatives: 311\t \n",
      "\n",
      "1212/1212 [==============================] - 0s - loss: 1.3603 - val_loss: 0.6819\n",
      "Epoch 11/100\n",
      "1000/1212 [=======================>......] - ETA: 0s - loss: 1.3599Epoch 10: validation loss: 0.682\n",
      "Balanced Accuracy: 57.72%\t auROC: 0.599\t auPRC: 0.590\t auPRG: 0.164\n",
      "Recall at 5%|10%|20% FDR: 0.0%|0.0%|0.0%\t Num Positives: 311\t Num Negatives: 311\t \n",
      "\n",
      "1212/1212 [==============================] - 0s - loss: 1.3604 - val_loss: 0.6823\n",
      "Epoch 12/100\n",
      "1000/1212 [=======================>......] - ETA: 0s - loss: 1.3504Epoch 11: validation loss: 0.683\n",
      "Balanced Accuracy: 57.72%\t auROC: 0.600\t auPRC: 0.591\t auPRG: 0.165\n",
      "Recall at 5%|10%|20% FDR: 0.0%|0.0%|0.0%\t Num Positives: 311\t Num Negatives: 311\t \n",
      "\n",
      "1212/1212 [==============================] - 0s - loss: 1.3585 - val_loss: 0.6833\n",
      "Epoch 13/100\n",
      "1000/1212 [=======================>......] - ETA: 0s - loss: 1.3790Epoch 12: validation loss: 0.684\n",
      "Balanced Accuracy: 57.72%\t auROC: 0.599\t auPRC: 0.590\t auPRG: 0.163\n",
      "Recall at 5%|10%|20% FDR: 0.0%|0.0%|0.0%\t Num Positives: 311\t Num Negatives: 311\t \n",
      "\n",
      "1212/1212 [==============================] - 0s - loss: 1.3706 - val_loss: 0.6837\n",
      "Epoch 14/100\n",
      "1000/1212 [=======================>......] - ETA: 0s - loss: 1.3652Epoch 13: validation loss: 0.682\n",
      "Balanced Accuracy: 57.72%\t auROC: 0.601\t auPRC: 0.591\t auPRG: 0.171\n",
      "Recall at 5%|10%|20% FDR: 0.0%|0.0%|0.0%\t Num Positives: 311\t Num Negatives: 311\t \n",
      "\n",
      "1212/1212 [==============================] - 0s - loss: 1.3603 - val_loss: 0.6816\n",
      "Epoch 15/100\n",
      "1000/1212 [=======================>......] - ETA: 0s - loss: 1.3624Epoch 14: validation loss: 0.681\n",
      "Balanced Accuracy: 57.72%\t auROC: 0.599\t auPRC: 0.590\t auPRG: 0.165\n",
      "Recall at 5%|10%|20% FDR: 0.0%|0.0%|0.0%\t Num Positives: 311\t Num Negatives: 311\t \n",
      "\n",
      "1212/1212 [==============================] - 0s - loss: 1.3610 - val_loss: 0.6810\n",
      "Epoch 16/100\n",
      "1000/1212 [=======================>......] - ETA: 0s - loss: 1.3572Epoch 15: validation loss: 0.681\n",
      "Balanced Accuracy: 57.72%\t auROC: 0.600\t auPRC: 0.591\t auPRG: 0.166\n",
      "Recall at 5%|10%|20% FDR: 0.0%|0.0%|0.0%\t Num Positives: 311\t Num Negatives: 311\t \n",
      "\n",
      "1212/1212 [==============================] - 0s - loss: 1.3559 - val_loss: 0.6807\n",
      "Epoch 17/100\n",
      "1000/1212 [=======================>......] - ETA: 0s - loss: 1.3552Epoch 16: validation loss: 0.683\n",
      "Balanced Accuracy: 57.72%\t auROC: 0.599\t auPRC: 0.590\t auPRG: 0.165\n",
      "Recall at 5%|10%|20% FDR: 0.0%|0.0%|0.0%\t Num Positives: 311\t Num Negatives: 311\t \n",
      "\n",
      "1212/1212 [==============================] - 0s - loss: 1.3537 - val_loss: 0.6827\n",
      "Epoch 18/100\n",
      "1000/1212 [=======================>......] - ETA: 0s - loss: 1.3549Epoch 17: validation loss: 0.680\n",
      "Balanced Accuracy: 57.88%\t auROC: 0.602\t auPRC: 0.591\t auPRG: 0.173\n",
      "Recall at 5%|10%|20% FDR: 0.0%|0.0%|0.0%\t Num Positives: 311\t Num Negatives: 311\t \n",
      "\n",
      "1212/1212 [==============================] - 0s - loss: 1.3561 - val_loss: 0.6805\n",
      "Epoch 19/100\n",
      "1000/1212 [=======================>......] - ETA: 0s - loss: 1.3578Epoch 18: validation loss: 0.681\n",
      "Balanced Accuracy: 57.72%\t auROC: 0.601\t auPRC: 0.591\t auPRG: 0.170\n",
      "Recall at 5%|10%|20% FDR: 0.0%|0.0%|0.0%\t Num Positives: 311\t Num Negatives: 311\t \n",
      "\n",
      "1212/1212 [==============================] - 0s - loss: 1.3596 - val_loss: 0.6806\n",
      "Epoch 20/100\n",
      "1000/1212 [=======================>......] - ETA: 0s - loss: 1.3537Epoch 19: validation loss: 0.680\n",
      "Balanced Accuracy: 58.04%\t auROC: 0.600\t auPRC: 0.590\t auPRG: 0.166\n",
      "Recall at 5%|10%|20% FDR: 0.0%|0.0%|0.0%\t Num Positives: 311\t Num Negatives: 311\t \n",
      "\n",
      "1212/1212 [==============================] - 0s - loss: 1.3520 - val_loss: 0.6795\n",
      "Epoch 21/100\n",
      "1000/1212 [=======================>......] - ETA: 0s - loss: 1.3499Epoch 20: validation loss: 0.680\n",
      "Balanced Accuracy: 57.88%\t auROC: 0.602\t auPRC: 0.591\t auPRG: 0.173\n",
      "Recall at 5%|10%|20% FDR: 0.0%|0.0%|0.0%\t Num Positives: 311\t Num Negatives: 311\t \n",
      "\n",
      "1212/1212 [==============================] - 0s - loss: 1.3524 - val_loss: 0.6801\n",
      "Epoch 22/100\n",
      "1000/1212 [=======================>......] - ETA: 0s - loss: 1.3621Epoch 21: validation loss: 0.679\n",
      "Balanced Accuracy: 58.04%\t auROC: 0.602\t auPRC: 0.592\t auPRG: 0.173\n",
      "Recall at 5%|10%|20% FDR: 0.0%|0.0%|0.0%\t Num Positives: 311\t Num Negatives: 311\t \n",
      "\n",
      "1212/1212 [==============================] - 0s - loss: 1.3558 - val_loss: 0.6790\n",
      "Epoch 23/100\n",
      "1000/1212 [=======================>......] - ETA: 0s - loss: 1.3561Epoch 22: validation loss: 0.682\n",
      "Balanced Accuracy: 58.52%\t auROC: 0.602\t auPRC: 0.591\t auPRG: 0.173\n",
      "Recall at 5%|10%|20% FDR: 0.0%|0.0%|0.0%\t Num Positives: 311\t Num Negatives: 311\t \n",
      "\n",
      "1212/1212 [==============================] - 0s - loss: 1.3524 - val_loss: 0.6819\n"
     ]
    }
   ],
   "source": [
    "#validation_data = (X_valid_normalized_subsampled[:, :, :11, :], y_valid_subsampled)\n",
    "#dnn_normalized.train(X_train_normalized_subsampled[:, :, :11, :], y_train_subsampled, validation_data)\n",
    "validation_data = (X_valid_normalized[:, :, 10:, :], y_valid)\n",
    "dnn_normalized.train(X_train_normalized[:, :, 10:, :], y_train, validation_data)"
   ]
  },
  {
   "cell_type": "code",
   "execution_count": 69,
   "metadata": {
    "collapsed": false
   },
   "outputs": [
    {
     "name": "stdout",
     "output_type": "stream",
     "text": [
      "Balanced Accuracy: 56.58%\t auROC: 0.576\t auPRC: 0.566\t auPRG: 0.131\n",
      "Recall at 5%|10%|20% FDR: 0.0%|0.0%|0.0%\t Num Positives: 243\t Num Negatives: 243\t \n"
     ]
    }
   ],
   "source": [
    "print(dnn_normalized.test(X_test_normalized[:, :,  10:, :], y_test))"
   ]
  },
  {
   "cell_type": "markdown",
   "metadata": {},
   "source": [
    "# Print prediction"
   ]
  },
  {
   "cell_type": "code",
   "execution_count": 70,
   "metadata": {
    "collapsed": false
   },
   "outputs": [],
   "source": [
    "indx_train = np.load('/users/mtaranov/NN_thres5max_datasets/dist_matched/indx_train_thres_10.npy')\n",
    "indx_valid = np.load('/users/mtaranov/NN_thres5max_datasets/dist_matched/indx_valid_thres_10.npy')\n",
    "indx_test = np.load ('/users/mtaranov/NN_thres5max_datasets/dist_matched/indx_test_thres_10.npy')"
   ]
  },
  {
   "cell_type": "code",
   "execution_count": 71,
   "metadata": {
    "collapsed": false
   },
   "outputs": [],
   "source": [
    "labels_all=(np.concatenate((y_train, y_valid, y_test), axis=0)).astype(int)\n",
    "preds_all=(np.concatenate((pred_probs_train, pred_probs_valid, pred_probs_test), axis=0))\n",
    "indx_all=np.concatenate((indx_train, indx_valid, indx_test), axis=0)\n",
    "\n",
    "labels_chr1 = labels_all[np.ravel(np.where(indx_all[:,2]==1))]\n",
    "preds_chr1 = preds_all[np.ravel(np.where(indx_all[:,2]==1))]\n",
    "indx_chr1 = indx_all[np.ravel(np.where(indx_all[:,2]==1))]"
   ]
  },
  {
   "cell_type": "code",
   "execution_count": 72,
   "metadata": {
    "collapsed": false
   },
   "outputs": [
    {
     "name": "stdout",
     "output_type": "stream",
     "text": [
      "Some tests on adjacency matrix:\n",
      "Some tests on adjacency matrix:\n"
     ]
    }
   ],
   "source": [
    "NumberOfNodes=2272\n",
    "preds_chr1_2d, labels_chr1_2d = get_2D(indx_chr1, preds_chr1, labels_chr1, NumberOfNodes)\n",
    "# preds_test_2d, labels_test_2d = get_2D(indx_test, preds_test, labels_test, NumberOfNodes)"
   ]
  },
  {
   "cell_type": "code",
   "execution_count": 73,
   "metadata": {
    "collapsed": false
   },
   "outputs": [],
   "source": [
    "# printMatrix(preds_chr1_2d, '', 1, 1, title='preds')\n",
    "# printMatrix(labels_chr1_2d, '', 1, 1, title='Captures')"
   ]
  },
  {
   "cell_type": "code",
   "execution_count": 74,
   "metadata": {
    "collapsed": false
   },
   "outputs": [
    {
     "name": "stdout",
     "output_type": "stream",
     "text": [
      "1.0\n",
      "(60, 60)\n",
      "Limit: 1.0\n"
     ]
    },
    {
     "data": {
      "image/png": "[encoded data removed]",
      "text/plain": [
       "<matplotlib.figure.Figure at 0x7f4ede093990>"
      ]
     },
     "metadata": {},
     "output_type": "display_data"
    },
    {
     "name": "stdout",
     "output_type": "stream",
     "text": [
      "1.0\n",
      "(60, 60)\n",
      "Limit: 1.0\n"
     ]
    },
    {
     "data": {
      "image/png": "[encoded data removed]",
      "text/plain": [
       "<matplotlib.figure.Figure at 0x7f4eddf70490>"
      ]
     },
     "metadata": {},
     "output_type": "display_data"
    }
   ],
   "source": [
    "zoomIn_window = (400,460)\n",
    "NumberOfNodes=2272\n",
    "plot_prediction(change_scale(preds_chr1_2d)+change_scale(preds_chr1_2d).T, change_scale(labels_chr1_2d)+change_scale(labels_chr1_2d).T, zoomIn_window, )"
   ]
  },
  {
   "cell_type": "code",
   "execution_count": null,
   "metadata": {
    "collapsed": true
   },
   "outputs": [],
   "source": []
  }
 ],
 "metadata": {
  "anaconda-cloud": {},
  "kernelspec": {
   "display_name": "Python [default]",
   "language": "python",
   "name": "python2"
  },
  "language_info": {
   "codemirror_mode": {
    "name": "ipython",
    "version": 2
   },
   "file_extension": ".py",
   "mimetype": "text/x-python",
   "name": "python",
   "nbconvert_exporter": "python",
   "pygments_lexer": "ipython2",
   "version": "2.7.12"
  }
 },
 "nbformat": 4,
 "nbformat_minor": 0
}
